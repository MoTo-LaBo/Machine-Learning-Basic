{
 "cells": [
  {
   "cell_type": "markdown",
   "id": "1bbf52de-d30d-4165-8bca-57d907ca6e1a",
   "metadata": {},
   "source": [
    "# 極限・微分・Taylor展開"
   ]
  },
  {
   "cell_type": "code",
   "execution_count": null,
   "id": "62ec2c59-80af-4401-a8a1-30c7d1467410",
   "metadata": {},
   "outputs": [],
   "source": []
  }
 ],
 "metadata": {
  "kernelspec": {
   "display_name": "Python 3",
   "language": "python",
   "name": "python3"
  },
  "language_info": {
   "codemirror_mode": {
    "name": "ipython",
    "version": 3
   },
   "file_extension": ".py",
   "mimetype": "text/x-python",
   "name": "python",
   "nbconvert_exporter": "python",
   "pygments_lexer": "ipython3",
   "version": "3.8.8"
  }
 },
 "nbformat": 4,
 "nbformat_minor": 5
}
