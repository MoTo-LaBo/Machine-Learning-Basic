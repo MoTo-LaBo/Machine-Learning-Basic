{
 "cells": [
  {
   "cell_type": "markdown",
   "id": "1bbf52de-d30d-4165-8bca-57d907ca6e1a",
   "metadata": {},
   "source": [
    "# 極限・微分・Taylor展開"
   ]
  },
  {
   "cell_type": "code",
   "execution_count": 1,
   "id": "62ec2c59-80af-4401-a8a1-30c7d1467410",
   "metadata": {},
   "outputs": [],
   "source": [
    "import sympy as sp"
   ]
  },
  {
   "cell_type": "code",
   "execution_count": 2,
   "id": "8c096b86-4c67-41eb-9598-9232154b224d",
   "metadata": {},
   "outputs": [],
   "source": [
    "sp.init_printing()"
   ]
  },
  {
   "cell_type": "code",
   "execution_count": 3,
   "id": "d93fb4c6-4249-4ce6-9d35-d8994fc1ecc3",
   "metadata": {},
   "outputs": [],
   "source": [
    "x, y, z = sp.symbols(\"x y z\")"
   ]
  },
  {
   "cell_type": "markdown",
   "id": "8a1a15ed-b7df-44db-befa-717fbba0c65a",
   "metadata": {},
   "source": [
    "## 極限の計算"
   ]
  },
  {
   "cell_type": "code",
   "execution_count": 4,
   "id": "9092e0ae-fe14-46b1-9f80-2dcee01f99c7",
   "metadata": {},
   "outputs": [
    {
     "data": {
      "image/png": "[encoded data removed]",
      "text/latex": [
       "$\\displaystyle 1$"
      ],
      "text/plain": [
       "1"
      ]
     },
     "execution_count": 4,
     "metadata": {},
     "output_type": "execute_result"
    }
   ],
   "source": [
    "sp.limit(sp.sin(x) / x, x, 0)"
   ]
  },
  {
   "cell_type": "code",
   "execution_count": 5,
   "id": "b55c27af-5bdc-4c2e-9074-0e107031d8fa",
   "metadata": {},
   "outputs": [
    {
     "data": {
      "image/png": "[encoded data removed]",
      "text/latex": [
       "$\\displaystyle 0$"
      ],
      "text/plain": [
       "0"
      ]
     },
     "execution_count": 5,
     "metadata": {},
     "output_type": "execute_result"
    }
   ],
   "source": [
    "# sp. oo -> 無限の表現\n",
    "sp.limit(sp.sin(x) / x, x, sp.oo)"
   ]
  },
  {
   "cell_type": "markdown",
   "id": "0a31bee8-fc7d-408a-8a9c-1aeaf9c999fb",
   "metadata": {},
   "source": [
    "## 微分"
   ]
  },
  {
   "cell_type": "code",
   "execution_count": 6,
   "id": "71f66f96-a0eb-4d44-b1bb-7266d5e9d868",
   "metadata": {},
   "outputs": [
    {
     "data": {
      "image/png": "[encoded data removed]",
      "text/latex": [
       "$\\displaystyle \\cos{\\left(x \\right)}$"
      ],
      "text/plain": [
       "cos(x)"
      ]
     },
     "execution_count": 6,
     "metadata": {},
     "output_type": "execute_result"
    }
   ],
   "source": [
    "sp.diff(sp.sin(x), x)"
   ]
  },
  {
   "cell_type": "code",
   "execution_count": 8,
   "id": "cbbc8f32-7b24-419b-9f1e-28e04735865f",
   "metadata": {},
   "outputs": [
    {
     "data": {
      "image/png": "[encoded data removed]",
      "text/latex": [
       "$\\displaystyle - \\sin{\\left(x \\right)}$"
      ],
      "text/plain": [
       "-sin(x)"
      ]
     },
     "execution_count": 8,
     "metadata": {},
     "output_type": "execute_result"
    }
   ],
   "source": [
    "# x について 2回微分した結果が返ってくる\n",
    "sp.diff(sp.sin(x), x, x)"
   ]
  },
  {
   "cell_type": "code",
   "execution_count": 9,
   "id": "93b31051-a61c-4837-8eac-8747c83e7358",
   "metadata": {},
   "outputs": [
    {
     "data": {
      "image/png": "[encoded data removed]",
      "text/latex": [
       "$\\displaystyle - \\sin{\\left(y \\right)} \\cos{\\left(x \\right)}$"
      ],
      "text/plain": [
       "-sin(y)⋅cos(x)"
      ]
     },
     "execution_count": 9,
     "metadata": {},
     "output_type": "execute_result"
    }
   ],
   "source": [
    "sp.diff(sp.sin(x) * sp.cos(y), x, y)"
   ]
  },
  {
   "cell_type": "code",
   "execution_count": 10,
   "id": "1e05368f-89d1-4873-8863-daf84d543103",
   "metadata": {},
   "outputs": [
    {
     "data": {
      "image/png": "[encoded data removed]",
      "text/latex": [
       "$\\displaystyle - \\cos{\\left(x \\right)} \\cos{\\left(y \\right)}$"
      ],
      "text/plain": [
       "-cos(x)⋅cos(y)"
      ]
     },
     "execution_count": 10,
     "metadata": {},
     "output_type": "execute_result"
    }
   ],
   "source": [
    "sp.diff(sp.sin(x) * sp.cos(y), x, y, 2)"
   ]
  },
  {
   "cell_type": "code",
   "execution_count": 12,
   "id": "7ecd602a-f95f-4abe-8f14-b0383411de10",
   "metadata": {},
   "outputs": [
    {
     "data": {
      "image/png": "[encoded data removed]",
      "text/latex": [
       "$\\displaystyle \\sin{\\left(x \\right)} \\cos{\\left(y \\right)}$"
      ],
      "text/plain": [
       "sin(x)⋅cos(y)"
      ]
     },
     "execution_count": 12,
     "metadata": {},
     "output_type": "execute_result"
    }
   ],
   "source": [
    "sp.diff(sp.sin(x) * sp.cos(y), x, 2, y, 2)"
   ]
  },
  {
   "cell_type": "markdown",
   "id": "30aa73c0-c43e-4465-a5b5-5c2eceaa61f0",
   "metadata": {},
   "source": [
    "### 微分を行う前の状態"
   ]
  },
  {
   "cell_type": "code",
   "execution_count": 15,
   "id": "6f1a1e47-8b73-4dd5-8ee1-10aa8b4b7b3f",
   "metadata": {},
   "outputs": [],
   "source": [
    "deriv = sp.Derivative(sp.sin(x) * sp.cos(y), x, y)"
   ]
  },
  {
   "cell_type": "code",
   "execution_count": 16,
   "id": "51716906-29a1-4f56-b97d-25178f9e8bfd",
   "metadata": {},
   "outputs": [
    {
     "data": {
      "image/png": "[encoded data removed]",
      "text/latex": [
       "$\\displaystyle \\frac{\\partial^{2}}{\\partial y\\partial x} \\sin{\\left(x \\right)} \\cos{\\left(y \\right)}$"
      ],
      "text/plain": [
       "   2                \n",
       "  ∂                 \n",
       "─────(sin(x)⋅cos(y))\n",
       "∂y ∂x               "
      ]
     },
     "execution_count": 16,
     "metadata": {},
     "output_type": "execute_result"
    }
   ],
   "source": [
    "deriv"
   ]
  },
  {
   "cell_type": "markdown",
   "id": "69db36f1-9cdd-470d-b065-a460076dbbf6",
   "metadata": {},
   "source": [
    "### 微分を行う"
   ]
  },
  {
   "cell_type": "code",
   "execution_count": 17,
   "id": "26b4624e-1ed1-46b3-8f24-2f7aa60a0158",
   "metadata": {},
   "outputs": [
    {
     "data": {
      "image/png": "[encoded data removed]",
      "text/latex": [
       "$\\displaystyle - \\sin{\\left(y \\right)} \\cos{\\left(x \\right)}$"
      ],
      "text/plain": [
       "-sin(y)⋅cos(x)"
      ]
     },
     "execution_count": 17,
     "metadata": {},
     "output_type": "execute_result"
    }
   ],
   "source": [
    "deriv.doit()"
   ]
  },
  {
   "cell_type": "code",
   "execution_count": 18,
   "id": "3fca470f-63e3-4a80-892d-fc628ba4f9d1",
   "metadata": {},
   "outputs": [
    {
     "data": {
      "image/png": "[encoded data removed]",
      "text/latex": [
       "$\\displaystyle -1$"
      ],
      "text/plain": [
       "-1"
      ]
     },
     "execution_count": 18,
     "metadata": {},
     "output_type": "execute_result"
    }
   ],
   "source": [
    "deriv.doit().subs({x:0, y: sp.pi / 2.0})"
   ]
  },
  {
   "cell_type": "markdown",
   "id": "8461bf64-dce1-43b1-9e52-792937b25caa",
   "metadata": {},
   "source": [
    "### Taylor 展開"
   ]
  },
  {
   "cell_type": "code",
   "execution_count": 19,
   "id": "6a75d3ba-51b1-475c-9266-08a7e4cb0abd",
   "metadata": {},
   "outputs": [
    {
     "data": {
      "image/png": "[encoded data removed]",
      "text/latex": [
       "$\\displaystyle x - \\frac{x^{2}}{2} + \\frac{x^{3}}{3} - \\frac{x^{4}}{4} + \\frac{x^{5}}{5} + O\\left(x^{6}\\right)$"
      ],
      "text/plain": [
       "     2    3    4    5        \n",
       "    x    x    x    x     ⎛ 6⎞\n",
       "x - ── + ── - ── + ── + O⎝x ⎠\n",
       "    2    3    4    5         "
      ]
     },
     "execution_count": 19,
     "metadata": {},
     "output_type": "execute_result"
    }
   ],
   "source": [
    "sp.series(sp.log(1 + x), x)"
   ]
  },
  {
   "cell_type": "code",
   "execution_count": 20,
   "id": "f8f5669f-dbc6-419e-8c54-649f2271138e",
   "metadata": {},
   "outputs": [
    {
     "data": {
      "image/png": "[encoded data removed]",
      "text/latex": [
       "$\\displaystyle x - \\frac{x^{2}}{2} + \\frac{x^{3}}{3} - \\frac{x^{4}}{4} + \\frac{x^{5}}{5} + O\\left(x^{6}\\right)$"
      ],
      "text/plain": [
       "     2    3    4    5        \n",
       "    x    x    x    x     ⎛ 6⎞\n",
       "x - ── + ── - ── + ── + O⎝x ⎠\n",
       "    2    3    4    5         "
      ]
     },
     "execution_count": 20,
     "metadata": {},
     "output_type": "execute_result"
    }
   ],
   "source": [
    "sp.log(1 + x).series(x)"
   ]
  },
  {
   "cell_type": "code",
   "execution_count": 21,
   "id": "3a8702ef-6ab9-4429-9775-94b7c0d2f10e",
   "metadata": {},
   "outputs": [
    {
     "data": {
      "image/png": "[encoded data removed]",
      "text/latex": [
       "$\\displaystyle x - \\frac{x^{2}}{2} + O\\left(x^{3}\\right)$"
      ],
      "text/plain": [
       "     2        \n",
       "    x     ⎛ 3⎞\n",
       "x - ── + O⎝x ⎠\n",
       "    2         "
      ]
     },
     "execution_count": 21,
     "metadata": {},
     "output_type": "execute_result"
    }
   ],
   "source": [
    "sp.series(sp.log(1 + x), x, 0, 3)"
   ]
  },
  {
   "cell_type": "markdown",
   "id": "66f2bc37-6076-4b81-a263-e1f14a99ad52",
   "metadata": {},
   "source": [
    "# 積分"
   ]
  },
  {
   "cell_type": "code",
   "execution_count": 23,
   "id": "46441cad-30c6-4eb1-bace-eba6e9fd3a77",
   "metadata": {},
   "outputs": [],
   "source": [
    "x = sp.Symbol(\"x\")"
   ]
  },
  {
   "cell_type": "code",
   "execution_count": 26,
   "id": "1e1d4081-0c1c-47b5-8914-5a7f345e976b",
   "metadata": {},
   "outputs": [
    {
     "data": {
      "image/png": "[encoded data removed]",
      "text/latex": [
       "$\\displaystyle \\frac{x^{3}}{3} + x^{2} + 3 x$"
      ],
      "text/plain": [
       " 3           \n",
       "x     2      \n",
       "── + x  + 3⋅x\n",
       "3            "
      ]
     },
     "execution_count": 26,
     "metadata": {},
     "output_type": "execute_result"
    }
   ],
   "source": [
    "# 不定積分\n",
    "sp.integrate(x ** 2 + 2 * x + 3, x)"
   ]
  },
  {
   "cell_type": "code",
   "execution_count": 28,
   "id": "b6f00354-dccc-4b5f-adcb-e3f8b58b4388",
   "metadata": {},
   "outputs": [
    {
     "data": {
      "image/png": "[encoded data removed]",
      "text/latex": [
       "$\\displaystyle \\frac{20}{3}$"
      ],
      "text/plain": [
       "20/3"
      ]
     },
     "execution_count": 28,
     "metadata": {},
     "output_type": "execute_result"
    }
   ],
   "source": [
    "# 定積分\n",
    "sp.integrate(x ** 2 + 2 * x + 3, (x, -1, 1))"
   ]
  },
  {
   "cell_type": "code",
   "execution_count": 31,
   "id": "212f1c02-9659-42f4-9a1f-3a55c76bf6ad",
   "metadata": {},
   "outputs": [
    {
     "data": {
      "image/png": "[encoded data removed]",
      "text/latex": [
       "$\\displaystyle \\frac{20}{3}$"
      ],
      "text/plain": [
       "20/3"
      ]
     },
     "execution_count": 31,
     "metadata": {},
     "output_type": "execute_result"
    }
   ],
   "source": [
    "# 定積分 : 別の記述の仕方\n",
    "sp.integrate(x ** 2 + 2 * x + 3, x).subs({x: 1}) - sp.integrate(x ** 2 + 2 * x + 3, x).subs({x: -1})"
   ]
  },
  {
   "cell_type": "code",
   "execution_count": 32,
   "id": "55da7f0e-2857-43ca-b29c-fb308a21c790",
   "metadata": {},
   "outputs": [],
   "source": [
    "# 評価する前の積分\n",
    "formula = sp.Integral(x ** 2 + 2 * x + 3, (x, -1, 1))"
   ]
  },
  {
   "cell_type": "code",
   "execution_count": 33,
   "id": "fcad1256-2126-433f-961c-e249eed6299f",
   "metadata": {},
   "outputs": [
    {
     "data": {
      "image/png": "[encoded data removed]",
      "text/latex": [
       "$\\displaystyle \\int\\limits_{-1}^{1} \\left(x^{2} + 2 x + 3\\right)\\, dx$"
      ],
      "text/plain": [
       "1                   \n",
       "⌠                   \n",
       "⎮  ⎛ 2          ⎞   \n",
       "⎮  ⎝x  + 2⋅x + 3⎠ dx\n",
       "⌡                   \n",
       "-1                  "
      ]
     },
     "execution_count": 33,
     "metadata": {},
     "output_type": "execute_result"
    }
   ],
   "source": [
    "formula"
   ]
  },
  {
   "cell_type": "code",
   "execution_count": 34,
   "id": "41a2d243-1e42-4ca8-8a70-25e8568472ab",
   "metadata": {},
   "outputs": [
    {
     "data": {
      "image/png": "[encoded data removed]",
      "text/latex": [
       "$\\displaystyle \\frac{20}{3}$"
      ],
      "text/plain": [
       "20/3"
      ]
     },
     "execution_count": 34,
     "metadata": {},
     "output_type": "execute_result"
    }
   ],
   "source": [
    "formula.doit()"
   ]
  },
  {
   "cell_type": "code",
   "execution_count": 35,
   "id": "860f5173-c95c-4ce5-8b63-51692065f7b1",
   "metadata": {},
   "outputs": [
    {
     "data": {
      "image/png": "[encoded data removed]",
      "text/latex": [
       "$\\displaystyle \\sqrt{\\pi}$"
      ],
      "text/plain": [
       "√π"
      ]
     },
     "execution_count": 35,
     "metadata": {},
     "output_type": "execute_result"
    }
   ],
   "source": [
    "# ガウス積分\n",
    "sp.integrate(sp.exp(-x ** 2), (x, -sp.oo, sp.oo))"
   ]
  },
  {
   "cell_type": "markdown",
   "id": "1b4c1635-c0cf-4158-b131-748c7b9f3160",
   "metadata": {},
   "source": [
    "# 微分方程式"
   ]
  },
  {
   "cell_type": "code",
   "execution_count": 37,
   "id": "2535d846-6844-4e37-9e0b-a318ca6f0509",
   "metadata": {},
   "outputs": [],
   "source": [
    "# 関数の設定\n",
    "f = sp.Function(\"f\")"
   ]
  },
  {
   "cell_type": "code",
   "execution_count": 38,
   "id": "40aa92a7-94ad-484b-884a-6156f02f89a6",
   "metadata": {},
   "outputs": [
    {
     "data": {
      "text/plain": [
       "f"
      ]
     },
     "execution_count": 38,
     "metadata": {},
     "output_type": "execute_result"
    }
   ],
   "source": [
    "f"
   ]
  },
  {
   "cell_type": "code",
   "execution_count": 39,
   "id": "dddfe0fd-8f7b-4f6f-9cce-887b23e0c7b7",
   "metadata": {},
   "outputs": [
    {
     "data": {
      "image/png": "[encoded data removed]",
      "text/latex": [
       "$\\displaystyle f{\\left(x \\right)}$"
      ],
      "text/plain": [
       "f(x)"
      ]
     },
     "execution_count": 39,
     "metadata": {},
     "output_type": "execute_result"
    }
   ],
   "source": [
    "f(x)"
   ]
  },
  {
   "cell_type": "code",
   "execution_count": 40,
   "id": "954032ca-6935-4703-8f7d-84c6bd9acaf5",
   "metadata": {},
   "outputs": [],
   "source": [
    "fx = sp.diff(f(x), x)"
   ]
  },
  {
   "cell_type": "code",
   "execution_count": 41,
   "id": "3adddec2-3e16-4e26-81f9-53f48b051de7",
   "metadata": {},
   "outputs": [
    {
     "data": {
      "image/png": "[encoded data removed]",
      "text/latex": [
       "$\\displaystyle \\frac{d}{d x} f{\\left(x \\right)}$"
      ],
      "text/plain": [
       "d       \n",
       "──(f(x))\n",
       "dx      "
      ]
     },
     "execution_count": 41,
     "metadata": {},
     "output_type": "execute_result"
    }
   ],
   "source": [
    "fx"
   ]
  },
  {
   "cell_type": "code",
   "execution_count": 42,
   "id": "b327222d-b61a-45ba-bd03-7e56a55ac028",
   "metadata": {},
   "outputs": [],
   "source": [
    "equation = sp.Eq(fx, 1 / (x + 1))"
   ]
  },
  {
   "cell_type": "code",
   "execution_count": 43,
   "id": "b9164cda-ec9f-4287-9619-d3745824f10f",
   "metadata": {},
   "outputs": [
    {
     "data": {
      "image/png": "[encoded data removed]",
      "text/latex": [
       "$\\displaystyle \\frac{d}{d x} f{\\left(x \\right)} = \\frac{1}{x + 1}$"
      ],
      "text/plain": [
       "d            1  \n",
       "──(f(x)) = ─────\n",
       "dx         x + 1"
      ]
     },
     "execution_count": 43,
     "metadata": {},
     "output_type": "execute_result"
    }
   ],
   "source": [
    "equation"
   ]
  },
  {
   "cell_type": "code",
   "execution_count": 44,
   "id": "8e172182-65f8-4433-8d69-5903f9f037ab",
   "metadata": {},
   "outputs": [
    {
     "data": {
      "image/png": "[encoded data removed]",
      "text/latex": [
       "$\\displaystyle f{\\left(x \\right)} = C_{1} + \\log{\\left(x + 1 \\right)}$"
      ],
      "text/plain": [
       "f(x) = C₁ + log(x + 1)"
      ]
     },
     "execution_count": 44,
     "metadata": {},
     "output_type": "execute_result"
    }
   ],
   "source": [
    "sp.dsolve(equation)"
   ]
  },
  {
   "cell_type": "code",
   "execution_count": 46,
   "id": "a4e3c74b-08c3-4ea9-86e4-19e1fdfbf3c5",
   "metadata": {},
   "outputs": [],
   "source": [
    "t = sp.Symbol(\"t\")\n",
    "x = sp.Function(\"x\")\n",
    "lhs = sp.diff(x(t), t, 2)\n",
    "rhs = -1 * x(t)"
   ]
  },
  {
   "cell_type": "code",
   "execution_count": 50,
   "id": "62c1631f-3c3a-418c-82f3-80886e545c47",
   "metadata": {},
   "outputs": [
    {
     "data": {
      "image/png": "[encoded data removed]",
      "text/latex": [
       "$\\displaystyle \\frac{d^{2}}{d t^{2}} x{\\left(t \\right)} = - x{\\left(t \\right)}$"
      ],
      "text/plain": [
       "  2              \n",
       " d               \n",
       "───(x(t)) = -x(t)\n",
       "  2              \n",
       "dt               "
      ]
     },
     "execution_count": 50,
     "metadata": {},
     "output_type": "execute_result"
    }
   ],
   "source": [
    "equation2"
   ]
  },
  {
   "cell_type": "code",
   "execution_count": 47,
   "id": "5b1d572d-3fc5-451a-9089-f9285da7770c",
   "metadata": {},
   "outputs": [],
   "source": [
    "equation2 = sp.Eq(lhs, rhs)"
   ]
  },
  {
   "cell_type": "code",
   "execution_count": 48,
   "id": "312d526c-4fbe-4215-9d80-c93e2be048ae",
   "metadata": {},
   "outputs": [],
   "source": [
    "ans = sp.dsolve(equation2)"
   ]
  },
  {
   "cell_type": "code",
   "execution_count": 49,
   "id": "489c5373-3d1e-44a3-bf6d-650ef8ccacda",
   "metadata": {},
   "outputs": [
    {
     "data": {
      "image/png": "[encoded data removed]",
      "text/latex": [
       "$\\displaystyle x{\\left(t \\right)} = C_{1} \\sin{\\left(t \\right)} + C_{2} \\cos{\\left(t \\right)}$"
      ],
      "text/plain": [
       "x(t) = C₁⋅sin(t) + C₂⋅cos(t)"
      ]
     },
     "execution_count": 49,
     "metadata": {},
     "output_type": "execute_result"
    }
   ],
   "source": [
    "ans"
   ]
  },
  {
   "cell_type": "code",
   "execution_count": 52,
   "id": "69334dac-14a4-4b65-9812-ebf781ced08b",
   "metadata": {},
   "outputs": [],
   "source": [
    "# 積分定数に値を代入\n",
    "C1, C2 = sp.symbols(\"C1 C2\")"
   ]
  },
  {
   "cell_type": "code",
   "execution_count": 53,
   "id": "b08fe507-7e21-4745-84a1-56f28b54e1c4",
   "metadata": {},
   "outputs": [
    {
     "data": {
      "image/png": "[encoded data removed]",
      "text/latex": [
       "$\\displaystyle x{\\left(t \\right)} = C_{2} \\cos{\\left(t \\right)}$"
      ],
      "text/plain": [
       "x(t) = C₂⋅cos(t)"
      ]
     },
     "execution_count": 53,
     "metadata": {},
     "output_type": "execute_result"
    }
   ],
   "source": [
    "ans.subs({C1: 0})"
   ]
  },
  {
   "cell_type": "code",
   "execution_count": null,
   "id": "cf3b8e62-a076-4300-8b03-e4362e35096c",
   "metadata": {},
   "outputs": [],
   "source": []
  }
 ],
 "metadata": {
  "kernelspec": {
   "display_name": "Python 3",
   "language": "python",
   "name": "python3"
  },
  "language_info": {
   "codemirror_mode": {
    "name": "ipython",
    "version": 3
   },
   "file_extension": ".py",
   "mimetype": "text/x-python",
   "name": "python",
   "nbconvert_exporter": "python",
   "pygments_lexer": "ipython3",
   "version": "3.8.8"
  }
 },
 "nbformat": 4,
 "nbformat_minor": 5
}
