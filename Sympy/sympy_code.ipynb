{
 "cells": [
  {
   "cell_type": "markdown",
   "id": "317efb8a-9671-4e3a-8b7b-05e20099da2c",
   "metadata": {},
   "source": [
    "# Sympy によるcode 生成"
   ]
  },
  {
   "cell_type": "code",
   "execution_count": null,
   "id": "8384d6be-9caf-4ce6-a047-5ae770a370dd",
   "metadata": {},
   "outputs": [],
   "source": []
  }
 ],
 "metadata": {
  "kernelspec": {
   "display_name": "Python 3",
   "language": "python",
   "name": "python3"
  },
  "language_info": {
   "codemirror_mode": {
    "name": "ipython",
    "version": 3
   },
   "file_extension": ".py",
   "mimetype": "text/x-python",
   "name": "python",
   "nbconvert_exporter": "python",
   "pygments_lexer": "ipython3",
   "version": "3.8.8"
  }
 },
 "nbformat": 4,
 "nbformat_minor": 5
}
