{
 "cells": [
  {
   "cell_type": "markdown",
   "id": "317efb8a-9671-4e3a-8b7b-05e20099da2c",
   "metadata": {},
   "source": [
    "# Sympy によるcode 生成"
   ]
  },
  {
   "cell_type": "markdown",
   "id": "a1ab5922-3a43-49a4-91d8-000e510a3303",
   "metadata": {},
   "source": [
    "<center>\n",
    "    code 生成する事によって<b>sympyの計算結果</b>を programing code として生成できる\n",
    "</center>"
   ]
  },
  {
   "cell_type": "code",
   "execution_count": 1,
   "id": "c00a5d60-1a5d-40ad-a970-85429c2d982a",
   "metadata": {},
   "outputs": [],
   "source": [
    "import sympy as sp\n",
    "import numpy as np"
   ]
  },
  {
   "cell_type": "code",
   "execution_count": 2,
   "id": "056ef42c-787b-4dd1-9743-d376e9b29574",
   "metadata": {},
   "outputs": [],
   "source": [
    "sp.init_printing()"
   ]
  },
  {
   "cell_type": "code",
   "execution_count": 4,
   "id": "0661cf79-8a4b-42fa-844d-78d7978dadfb",
   "metadata": {},
   "outputs": [],
   "source": [
    "x, y, z = sp.symbols(\"x, y, z\")"
   ]
  },
  {
   "cell_type": "code",
   "execution_count": 5,
   "id": "60981cd6-9f0b-4807-922a-8182747819b4",
   "metadata": {},
   "outputs": [],
   "source": [
    "np.random.seed(123)"
   ]
  },
  {
   "cell_type": "markdown",
   "id": "19e7e338-970f-45a7-987f-fa04ab4d009c",
   "metadata": {},
   "source": [
    "### C言語の code を生成する"
   ]
  },
  {
   "cell_type": "code",
   "execution_count": 6,
   "id": "5a6b8873-f731-48be-9a38-4bc8b5981cbc",
   "metadata": {},
   "outputs": [
    {
     "data": {
      "text/plain": [
       "'exp(-x)'"
      ]
     },
     "execution_count": 6,
     "metadata": {},
     "output_type": "execute_result"
    }
   ],
   "source": [
    "# C言語を生成　 : ( ) の中に sympy の　code化したいモノを記述\n",
    "sp.ccode(sp.exp(-x))"
   ]
  },
  {
   "cell_type": "code",
   "execution_count": 7,
   "id": "d06525dd-e6fd-41f7-a658-f6128d5d21f1",
   "metadata": {},
   "outputs": [],
   "source": [
    "dis = (x ** 2 + y ** 2 + z ** 2) ** 0.5"
   ]
  },
  {
   "cell_type": "code",
   "execution_count": 8,
   "id": "a72a8a3c-81bc-4022-8406-65a7fef278e9",
   "metadata": {},
   "outputs": [
    {
     "data": {
      "text/plain": [
       "'sqrt(pow(x, 2) + pow(y, 2) + pow(z, 2))'"
      ]
     },
     "execution_count": 8,
     "metadata": {},
     "output_type": "execute_result"
    }
   ],
   "source": [
    "sp.ccode(dis)"
   ]
  },
  {
   "cell_type": "markdown",
   "id": "2c40ea2e-7483-4785-8bea-fb00ecd36497",
   "metadata": {},
   "source": [
    "- **C言語における数式の表現に置き換えてくれる**"
   ]
  },
  {
   "cell_type": "markdown",
   "id": "266a66e8-c544-4486-998e-2582ae0cd72a",
   "metadata": {},
   "source": [
    "### よく使用する例\n",
    "- 行列とベクトルの積"
   ]
  },
  {
   "cell_type": "code",
   "execution_count": 9,
   "id": "36958e63-f760-4584-a4c6-21f0f7814d49",
   "metadata": {},
   "outputs": [],
   "source": [
    "x = sp.MatrixSymbol(\"x\", 3, 1)"
   ]
  },
  {
   "cell_type": "code",
   "execution_count": 14,
   "id": "f0c3fb39-cc39-4832-bd35-a13658edc484",
   "metadata": {},
   "outputs": [
    {
     "data": {
      "text/latex": [
       "$\\displaystyle \\left[\\begin{array}{c}x_{0, 0}\\\\x_{1, 0}\\\\x_{2, 0}\\end{array}\\right]$"
      ],
      "text/plain": [
       "⎡x₀₀⎤\n",
       "⎢   ⎥\n",
       "⎢x₁₀⎥\n",
       "⎢   ⎥\n",
       "⎣x₂₀⎦"
      ]
     },
     "execution_count": 14,
     "metadata": {},
     "output_type": "execute_result"
    }
   ],
   "source": [
    "sp.Matrix(x)"
   ]
  },
  {
   "cell_type": "code",
   "execution_count": 11,
   "id": "a2d8eced-765a-46d2-9cc6-bc61b68a0f1a",
   "metadata": {},
   "outputs": [],
   "source": [
    "A = sp.Matrix(np.random.randint(15, size=(3, 3)))"
   ]
  },
  {
   "cell_type": "code",
   "execution_count": 12,
   "id": "6c69b8e6-124b-4cc3-ae56-f19fc923d279",
   "metadata": {},
   "outputs": [
    {
     "data": {
      "text/latex": [
       "$\\displaystyle \\left[\\begin{matrix}14 & 13 & 14\\\\2 & 12 & 2\\\\6 & 1 & 3\\end{matrix}\\right]$"
      ],
      "text/plain": [
       "⎡14  13  14⎤\n",
       "⎢          ⎥\n",
       "⎢2   12  2 ⎥\n",
       "⎢          ⎥\n",
       "⎣6   1   3 ⎦"
      ]
     },
     "execution_count": 12,
     "metadata": {},
     "output_type": "execute_result"
    }
   ],
   "source": [
    "A"
   ]
  },
  {
   "cell_type": "code",
   "execution_count": 13,
   "id": "beee513d-4f9a-4ec5-b197-2cba6f05d8a3",
   "metadata": {},
   "outputs": [
    {
     "data": {
      "text/latex": [
       "$\\displaystyle \\left[\\begin{array}{c}14 x_{0, 0} + 13 x_{1, 0} + 14 x_{2, 0}\\\\2 x_{0, 0} + 12 x_{1, 0} + 2 x_{2, 0}\\\\6 x_{0, 0} + x_{1, 0} + 3 x_{2, 0}\\end{array}\\right]$"
      ],
      "text/plain": [
       "⎡14⋅x₀₀ + 13⋅x₁₀ + 14⋅x₂₀⎤\n",
       "⎢                        ⎥\n",
       "⎢ 2⋅x₀₀ + 12⋅x₁₀ + 2⋅x₂₀ ⎥\n",
       "⎢                        ⎥\n",
       "⎣  6⋅x₀₀ + x₁₀ + 3⋅x₂₀   ⎦"
      ]
     },
     "execution_count": 13,
     "metadata": {},
     "output_type": "execute_result"
    }
   ],
   "source": [
    "# 行列とベクトルの積\n",
    "A * sp.Matrix(x)"
   ]
  },
  {
   "cell_type": "markdown",
   "id": "7b6d3de4-046a-4c98-8480-a85c041b4792",
   "metadata": {},
   "source": [
    "- *上記を C言語における code に変換*"
   ]
  },
  {
   "cell_type": "code",
   "execution_count": 15,
   "id": "31146b63-1fd8-467d-b776-b9e53065333c",
   "metadata": {},
   "outputs": [],
   "source": [
    "# 計算結果代入\n",
    "A_x = A * sp.Matrix(x)"
   ]
  },
  {
   "cell_type": "code",
   "execution_count": 17,
   "id": "4a476dbe-ad78-4a93-ad41-2e7470dce5bf",
   "metadata": {},
   "outputs": [
    {
     "name": "stdout",
     "output_type": "stream",
     "text": [
      "y[0] = 14*x[0] + 13*x[1] + 14*x[2];\n",
      "y[1] = 2*x[0] + 12*x[1] + 2*x[2];\n",
      "y[2] = 6*x[0] + x[1] + 3*x[2];\n"
     ]
    }
   ],
   "source": [
    "# 行毎に code を吐き出させる必要がある\n",
    "n_rows = 3\n",
    "for i in range(n_rows):\n",
    "    code = sp.ccode(A_x[i], assign_to=f\"y[{i}]\")\n",
    "    print(code)"
   ]
  },
  {
   "cell_type": "code",
   "execution_count": 18,
   "id": "2adf9a95-b117-4ede-8931-30c72bf07dcf",
   "metadata": {},
   "outputs": [
    {
     "data": {
      "text/latex": [
       "$\\displaystyle \\left[\\begin{array}{c}14 x_{0, 0} + 13 x_{1, 0} + 14 x_{2, 0}\\\\2 x_{0, 0} + 12 x_{1, 0} + 2 x_{2, 0}\\\\6 x_{0, 0} + x_{1, 0} + 3 x_{2, 0}\\end{array}\\right]$"
      ],
      "text/plain": [
       "⎡14⋅x₀₀ + 13⋅x₁₀ + 14⋅x₂₀⎤\n",
       "⎢                        ⎥\n",
       "⎢ 2⋅x₀₀ + 12⋅x₁₀ + 2⋅x₂₀ ⎥\n",
       "⎢                        ⎥\n",
       "⎣  6⋅x₀₀ + x₁₀ + 3⋅x₂₀   ⎦"
      ]
     },
     "execution_count": 18,
     "metadata": {},
     "output_type": "execute_result"
    }
   ],
   "source": [
    "A_x"
   ]
  },
  {
   "cell_type": "markdown",
   "id": "1a405885-00e0-4887-87d4-ec342f75bb74",
   "metadata": {},
   "source": [
    "- **sympy の code 生成を使用すればどれだけ code 増えても同じ手続きで code生成が簡単にできる**"
   ]
  },
  {
   "cell_type": "code",
   "execution_count": null,
   "id": "fee7bd12-d78b-4894-9e04-e0c83138f1b0",
   "metadata": {},
   "outputs": [],
   "source": []
  }
 ],
 "metadata": {
  "kernelspec": {
   "display_name": "Python 3",
   "language": "python",
   "name": "python3"
  },
  "language_info": {
   "codemirror_mode": {
    "name": "ipython",
    "version": 3
   },
   "file_extension": ".py",
   "mimetype": "text/x-python",
   "name": "python",
   "nbconvert_exporter": "python",
   "pygments_lexer": "ipython3",
   "version": "3.8.8"
  }
 },
 "nbformat": 4,
 "nbformat_minor": 5
}
