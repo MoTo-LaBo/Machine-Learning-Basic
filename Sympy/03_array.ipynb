{
 "cells": [
  {
   "cell_type": "markdown",
   "id": "f09996b6-811e-4abe-820d-15b14b18a3ff",
   "metadata": {},
   "source": [
    "# ベクトル・行列"
   ]
  },
  {
   "cell_type": "code",
   "execution_count": null,
   "id": "dbb5bcc9-d028-4e4d-b4c0-ef85ea69d6db",
   "metadata": {},
   "outputs": [],
   "source": []
  }
 ],
 "metadata": {
  "kernelspec": {
   "display_name": "Python 3",
   "language": "python",
   "name": "python3"
  },
  "language_info": {
   "codemirror_mode": {
    "name": "ipython",
    "version": 3
   },
   "file_extension": ".py",
   "mimetype": "text/x-python",
   "name": "python",
   "nbconvert_exporter": "python",
   "pygments_lexer": "ipython3",
   "version": "3.8.8"
  }
 },
 "nbformat": 4,
 "nbformat_minor": 5
}
