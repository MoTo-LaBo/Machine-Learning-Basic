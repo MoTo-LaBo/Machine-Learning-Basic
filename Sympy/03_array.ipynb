{
 "cells": [
  {
   "cell_type": "markdown",
   "id": "f09996b6-811e-4abe-820d-15b14b18a3ff",
   "metadata": {},
   "source": [
    "# ベクトル・行列"
   ]
  },
  {
   "cell_type": "code",
   "execution_count": 5,
   "id": "dbb5bcc9-d028-4e4d-b4c0-ef85ea69d6db",
   "metadata": {},
   "outputs": [],
   "source": [
    "import sympy as sp\n",
    "import numpy as np"
   ]
  },
  {
   "cell_type": "code",
   "execution_count": 2,
   "id": "74bb063e-8914-4351-94ae-2f89f5990a47",
   "metadata": {},
   "outputs": [],
   "source": [
    "sp.init_printing()"
   ]
  },
  {
   "cell_type": "code",
   "execution_count": 3,
   "id": "5eca0d97-9bc4-4817-80a1-aac8f680288f",
   "metadata": {},
   "outputs": [
    {
     "data": {
      "text/latex": [
       "$\\displaystyle \\left[\\begin{matrix}0\\\\1\\\\2\\\\3\\end{matrix}\\right]$"
      ],
      "text/plain": [
       "⎡0⎤\n",
       "⎢ ⎥\n",
       "⎢1⎥\n",
       "⎢ ⎥\n",
       "⎢2⎥\n",
       "⎢ ⎥\n",
       "⎣3⎦"
      ]
     },
     "execution_count": 3,
     "metadata": {},
     "output_type": "execute_result"
    }
   ],
   "source": [
    "arr1 = sp.Matrix([0, 1, 2, 3])\n",
    "arr1"
   ]
  },
  {
   "cell_type": "code",
   "execution_count": 15,
   "id": "070fd36b-22a6-4154-a77e-d019e0afd9cd",
   "metadata": {},
   "outputs": [
    {
     "data": {
      "text/latex": [
       "$\\displaystyle \\left[\\begin{matrix}0 & 1 & 2 & 3\\end{matrix}\\right]$"
      ],
      "text/plain": [
       "[0  1  2  3]"
      ]
     },
     "execution_count": 15,
     "metadata": {},
     "output_type": "execute_result"
    }
   ],
   "source": [
    "# 転置\n",
    "arr1.T"
   ]
  },
  {
   "cell_type": "code",
   "execution_count": 16,
   "id": "3e1e929f-6574-45d9-8d1e-eb5c66566133",
   "metadata": {},
   "outputs": [
    {
     "data": {
      "text/plain": [
       "array([0, 1, 2, 3, 4])"
      ]
     },
     "execution_count": 16,
     "metadata": {},
     "output_type": "execute_result"
    }
   ],
   "source": [
    "# 行列生成\n",
    "np_arr = np.arange(5)\n",
    "np_arr"
   ]
  },
  {
   "cell_type": "code",
   "execution_count": 17,
   "id": "49426723-e043-4e99-857b-f8b388eaa354",
   "metadata": {},
   "outputs": [
    {
     "data": {
      "text/latex": [
       "$\\displaystyle \\left[\\begin{matrix}0\\\\1\\\\2\\\\3\\\\4\\end{matrix}\\right]$"
      ],
      "text/plain": [
       "⎡0⎤\n",
       "⎢ ⎥\n",
       "⎢1⎥\n",
       "⎢ ⎥\n",
       "⎢2⎥\n",
       "⎢ ⎥\n",
       "⎢3⎥\n",
       "⎢ ⎥\n",
       "⎣4⎦"
      ]
     },
     "execution_count": 17,
     "metadata": {},
     "output_type": "execute_result"
    }
   ],
   "source": [
    "# 行列生成\n",
    "sp.Matrix(np_arr)"
   ]
  },
  {
   "cell_type": "code",
   "execution_count": 14,
   "id": "a1387a0b-a079-4f95-b424-8a14b2c79953",
   "metadata": {},
   "outputs": [
    {
     "data": {
      "text/latex": [
       "$\\displaystyle \\left[\\begin{matrix}1 & 2\\\\3 & 4\\end{matrix}\\right]$"
      ],
      "text/plain": [
       "⎡1  2⎤\n",
       "⎢    ⎥\n",
       "⎣3  4⎦"
      ]
     },
     "execution_count": 14,
     "metadata": {},
     "output_type": "execute_result"
    }
   ],
   "source": [
    "# 行列の生成\n",
    "mat = sp.Matrix([[1, 2], [3, 4]])\n",
    "\n",
    "mat"
   ]
  },
  {
   "cell_type": "code",
   "execution_count": 13,
   "id": "42916c0f-78e8-4792-afd7-992e420a68fe",
   "metadata": {},
   "outputs": [
    {
     "data": {
      "text/latex": [
       "$\\displaystyle \\left[\\begin{matrix}1 & 0 & 0\\\\0 & 1 & 0\\\\0 & 0 & 1\\end{matrix}\\right]$"
      ],
      "text/plain": [
       "⎡1  0  0⎤\n",
       "⎢       ⎥\n",
       "⎢0  1  0⎥\n",
       "⎢       ⎥\n",
       "⎣0  0  1⎦"
      ]
     },
     "execution_count": 13,
     "metadata": {},
     "output_type": "execute_result"
    }
   ],
   "source": [
    "# eye は単位行列を表す\n",
    "mat2 = sp.eye(3)\n",
    "mat2"
   ]
  },
  {
   "cell_type": "code",
   "execution_count": 19,
   "id": "22fd5313-c264-4dbb-bace-aeaee1341f38",
   "metadata": {},
   "outputs": [
    {
     "data": {
      "text/latex": [
       "$\\displaystyle \\left[\\begin{matrix}0 & 0 & 0\\\\0 & 0 & 0\\\\0 & 0 & 0\\end{matrix}\\right]$"
      ],
      "text/plain": [
       "⎡0  0  0⎤\n",
       "⎢       ⎥\n",
       "⎢0  0  0⎥\n",
       "⎢       ⎥\n",
       "⎣0  0  0⎦"
      ]
     },
     "execution_count": 19,
     "metadata": {},
     "output_type": "execute_result"
    }
   ],
   "source": [
    "# ０行列を生成\n",
    "sp.zeros(3, 3)"
   ]
  },
  {
   "cell_type": "code",
   "execution_count": 20,
   "id": "edb00743-5fbf-4278-9ab9-cc169928aa5c",
   "metadata": {},
   "outputs": [
    {
     "data": {
      "text/latex": [
       "$\\displaystyle \\left[\\begin{matrix}1 & 0 & 0 & 0\\\\0 & 2 & 0 & 0\\\\0 & 0 & 3 & 0\\\\0 & 0 & 0 & 4\\end{matrix}\\right]$"
      ],
      "text/plain": [
       "⎡1  0  0  0⎤\n",
       "⎢          ⎥\n",
       "⎢0  2  0  0⎥\n",
       "⎢          ⎥\n",
       "⎢0  0  3  0⎥\n",
       "⎢          ⎥\n",
       "⎣0  0  0  4⎦"
      ]
     },
     "execution_count": 20,
     "metadata": {},
     "output_type": "execute_result"
    }
   ],
   "source": [
    "# 対角行列\n",
    "sp.diag(1, 2, 3, 4)"
   ]
  },
  {
   "cell_type": "markdown",
   "id": "2f33ba90-103c-4418-868e-f1725fe466c4",
   "metadata": {},
   "source": [
    "### 線形代数の行列を生成"
   ]
  },
  {
   "cell_type": "code",
   "execution_count": 26,
   "id": "57f60392-24c4-40e5-b5b6-d0a91a7ffd91",
   "metadata": {},
   "outputs": [
    {
     "data": {
      "image/png": "[encoded data removed]",
      "text/latex": [
       "$\\displaystyle X$"
      ],
      "text/plain": [
       "X"
      ]
     },
     "execution_count": 26,
     "metadata": {},
     "output_type": "execute_result"
    }
   ],
   "source": [
    "m = sp.MatrixSymbol(\"X\", 3, 3)\n",
    "m"
   ]
  },
  {
   "cell_type": "code",
   "execution_count": 27,
   "id": "d7ca7144-8f96-4c85-898e-0b7b9e38d001",
   "metadata": {},
   "outputs": [],
   "source": [
    "X = sp.Matrix(m)"
   ]
  },
  {
   "cell_type": "code",
   "execution_count": 25,
   "id": "29f0f51f-edbb-4be0-9625-4b42a77a384e",
   "metadata": {},
   "outputs": [
    {
     "data": {
      "text/latex": [
       "$\\displaystyle \\left[\\begin{array}{ccc}X_{0, 0} & X_{0, 1} & X_{0, 2}\\\\X_{1, 0} & X_{1, 1} & X_{1, 2}\\\\X_{2, 0} & X_{2, 1} & X_{2, 2}\\end{array}\\right]$"
      ],
      "text/plain": [
       "⎡X₀₀  X₀₁  X₀₂⎤\n",
       "⎢             ⎥\n",
       "⎢X₁₀  X₁₁  X₁₂⎥\n",
       "⎢             ⎥\n",
       "⎣X₂₀  X₂₁  X₂₂⎦"
      ]
     },
     "execution_count": 25,
     "metadata": {},
     "output_type": "execute_result"
    }
   ],
   "source": [
    "X"
   ]
  },
  {
   "cell_type": "code",
   "execution_count": 28,
   "id": "f16935fc-5cea-43f7-b239-a5300cf32bf5",
   "metadata": {},
   "outputs": [],
   "source": [
    "# X の成分について値を代入\n",
    "X[0, 0] = 1"
   ]
  },
  {
   "cell_type": "code",
   "execution_count": 29,
   "id": "7e3b9024-f31b-4c9e-84f5-eeb18d195d71",
   "metadata": {},
   "outputs": [
    {
     "data": {
      "text/latex": [
       "$\\displaystyle \\left[\\begin{array}{ccc}1 & X_{0, 1} & X_{0, 2}\\\\X_{1, 0} & X_{1, 1} & X_{1, 2}\\\\X_{2, 0} & X_{2, 1} & X_{2, 2}\\end{array}\\right]$"
      ],
      "text/plain": [
       "⎡ 1   X₀₁  X₀₂⎤\n",
       "⎢             ⎥\n",
       "⎢X₁₀  X₁₁  X₁₂⎥\n",
       "⎢             ⎥\n",
       "⎣X₂₀  X₂₁  X₂₂⎦"
      ]
     },
     "execution_count": 29,
     "metadata": {},
     "output_type": "execute_result"
    }
   ],
   "source": [
    "X"
   ]
  },
  {
   "cell_type": "markdown",
   "id": "19126364-ac3c-48c0-b921-3114ba135357",
   "metadata": {},
   "source": [
    "## ベクトルと行列の演算"
   ]
  },
  {
   "cell_type": "code",
   "execution_count": 30,
   "id": "c9d31f4f-8e1f-4a1f-a955-ad41118e10a3",
   "metadata": {},
   "outputs": [],
   "source": [
    "vec1 = sp.Matrix(np.arange(4))\n",
    "vec2 = sp.Matrix(np.arange(4))"
   ]
  },
  {
   "cell_type": "code",
   "execution_count": 31,
   "id": "a0e6b5f0-7350-4b91-9258-59e135cb21bc",
   "metadata": {},
   "outputs": [
    {
     "data": {
      "text/latex": [
       "$\\displaystyle \\left[\\begin{matrix}0\\\\1\\\\2\\\\3\\end{matrix}\\right]$"
      ],
      "text/plain": [
       "⎡0⎤\n",
       "⎢ ⎥\n",
       "⎢1⎥\n",
       "⎢ ⎥\n",
       "⎢2⎥\n",
       "⎢ ⎥\n",
       "⎣3⎦"
      ]
     },
     "execution_count": 31,
     "metadata": {},
     "output_type": "execute_result"
    }
   ],
   "source": [
    "vec1"
   ]
  },
  {
   "cell_type": "code",
   "execution_count": 33,
   "id": "2043dcd2-bac8-45dd-acd4-57022dad22e4",
   "metadata": {},
   "outputs": [
    {
     "data": {
      "text/latex": [
       "$\\displaystyle \\left[\\begin{matrix}0\\\\2\\\\4\\\\6\\end{matrix}\\right]$"
      ],
      "text/plain": [
       "⎡0⎤\n",
       "⎢ ⎥\n",
       "⎢2⎥\n",
       "⎢ ⎥\n",
       "⎢4⎥\n",
       "⎢ ⎥\n",
       "⎣6⎦"
      ]
     },
     "execution_count": 33,
     "metadata": {},
     "output_type": "execute_result"
    }
   ],
   "source": [
    "vec1 + vec2"
   ]
  },
  {
   "cell_type": "code",
   "execution_count": 34,
   "id": "d7cb392d-e015-4caf-adfa-bbfa2cb39e89",
   "metadata": {},
   "outputs": [
    {
     "data": {
      "text/latex": [
       "$\\displaystyle \\left[\\begin{matrix}0\\\\1.5\\\\3.0\\\\4.5\\end{matrix}\\right]$"
      ],
      "text/plain": [
       "⎡ 0 ⎤\n",
       "⎢   ⎥\n",
       "⎢1.5⎥\n",
       "⎢   ⎥\n",
       "⎢3.0⎥\n",
       "⎢   ⎥\n",
       "⎣4.5⎦"
      ]
     },
     "execution_count": 34,
     "metadata": {},
     "output_type": "execute_result"
    }
   ],
   "source": [
    "2 * vec1 - 0.5 * vec2"
   ]
  },
  {
   "cell_type": "code",
   "execution_count": 35,
   "id": "32823d10-e09a-44e8-ba7a-0d61334f82fd",
   "metadata": {},
   "outputs": [
    {
     "data": {
      "image/png": "[encoded data removed]",
      "text/latex": [
       "$\\displaystyle 14$"
      ],
      "text/plain": [
       "14"
      ]
     },
     "execution_count": 35,
     "metadata": {},
     "output_type": "execute_result"
    }
   ],
   "source": [
    "# 内積の計算\n",
    "vec1.dot(vec2)"
   ]
  },
  {
   "cell_type": "code",
   "execution_count": 36,
   "id": "d68dcf40-1708-48cc-909d-0da76069d2bc",
   "metadata": {},
   "outputs": [
    {
     "data": {
      "text/latex": [
       "$\\displaystyle \\left[\\begin{matrix}0\\\\1\\\\4\\\\9\\end{matrix}\\right]$"
      ],
      "text/plain": [
       "⎡0⎤\n",
       "⎢ ⎥\n",
       "⎢1⎥\n",
       "⎢ ⎥\n",
       "⎢4⎥\n",
       "⎢ ⎥\n",
       "⎣9⎦"
      ]
     },
     "execution_count": 36,
     "metadata": {},
     "output_type": "execute_result"
    }
   ],
   "source": [
    "# 要素毎の演算\n",
    "vec1.multiply_elementwise(vec2)"
   ]
  },
  {
   "cell_type": "code",
   "execution_count": 37,
   "id": "32f9dc28-fb6c-4c58-9fcc-472239a2b9da",
   "metadata": {},
   "outputs": [
    {
     "data": {
      "image/png": "[encoded data removed]",
      "text/latex": [
       "$\\displaystyle \\sqrt{14}$"
      ],
      "text/plain": [
       "√14"
      ]
     },
     "execution_count": 37,
     "metadata": {},
     "output_type": "execute_result"
    }
   ],
   "source": [
    "# vector の大きさ\n",
    "vec1.norm()"
   ]
  },
  {
   "cell_type": "markdown",
   "id": "a5aa0cf9-4d1a-44b1-8d68-7c6d2deb9dbf",
   "metadata": {},
   "source": [
    "## 行列の計算"
   ]
  },
  {
   "cell_type": "code",
   "execution_count": 38,
   "id": "a04d6884-a543-4696-b4ed-d08cfa7a7d40",
   "metadata": {},
   "outputs": [],
   "source": [
    "mat1 = sp.Matrix(np.arange(4).reshape(2, 2))\n",
    "mat2 = sp.Matrix(np.arange(5, 9).reshape(2, 2))"
   ]
  },
  {
   "cell_type": "code",
   "execution_count": 39,
   "id": "c0006253-fdbf-4874-8b46-e17838c2aa5c",
   "metadata": {},
   "outputs": [
    {
     "data": {
      "text/latex": [
       "$\\displaystyle \\left[\\begin{matrix}0 & 1\\\\2 & 3\\end{matrix}\\right]$"
      ],
      "text/plain": [
       "⎡0  1⎤\n",
       "⎢    ⎥\n",
       "⎣2  3⎦"
      ]
     },
     "execution_count": 39,
     "metadata": {},
     "output_type": "execute_result"
    }
   ],
   "source": [
    "mat1"
   ]
  },
  {
   "cell_type": "code",
   "execution_count": 40,
   "id": "d484512f-bb32-46c1-b469-93abe1063aec",
   "metadata": {},
   "outputs": [
    {
     "data": {
      "text/latex": [
       "$\\displaystyle \\left[\\begin{matrix}5 & 6\\\\7 & 8\\end{matrix}\\right]$"
      ],
      "text/plain": [
       "⎡5  6⎤\n",
       "⎢    ⎥\n",
       "⎣7  8⎦"
      ]
     },
     "execution_count": 40,
     "metadata": {},
     "output_type": "execute_result"
    }
   ],
   "source": [
    "mat2"
   ]
  },
  {
   "cell_type": "code",
   "execution_count": 42,
   "id": "7c571ff6-7845-4074-aaca-647dfc49ded5",
   "metadata": {},
   "outputs": [
    {
     "data": {
      "text/latex": [
       "$\\displaystyle \\left[\\begin{matrix}5 & 7\\\\9 & 11\\end{matrix}\\right]$"
      ],
      "text/plain": [
       "⎡5  7 ⎤\n",
       "⎢     ⎥\n",
       "⎣9  11⎦"
      ]
     },
     "execution_count": 42,
     "metadata": {},
     "output_type": "execute_result"
    }
   ],
   "source": [
    "# 行列同士の和\n",
    "mat1 + mat2"
   ]
  },
  {
   "cell_type": "code",
   "execution_count": 43,
   "id": "5cd219e2-0a12-4ef6-aa36-e65ac8f0553c",
   "metadata": {},
   "outputs": [
    {
     "data": {
      "text/latex": [
       "$\\displaystyle \\left[\\begin{matrix}7 & 8\\\\31 & 36\\end{matrix}\\right]$"
      ],
      "text/plain": [
       "⎡7   8 ⎤\n",
       "⎢      ⎥\n",
       "⎣31  36⎦"
      ]
     },
     "execution_count": 43,
     "metadata": {},
     "output_type": "execute_result"
    }
   ],
   "source": [
    "# 行列積\n",
    "mat1 * mat2"
   ]
  },
  {
   "cell_type": "code",
   "execution_count": 44,
   "id": "9b541244-b43b-4192-92d3-061a6b44088b",
   "metadata": {},
   "outputs": [
    {
     "data": {
      "text/latex": [
       "$\\displaystyle \\left[\\begin{matrix}0 & 2\\\\1 & 3\\end{matrix}\\right]$"
      ],
      "text/plain": [
       "⎡0  2⎤\n",
       "⎢    ⎥\n",
       "⎣1  3⎦"
      ]
     },
     "execution_count": 44,
     "metadata": {},
     "output_type": "execute_result"
    }
   ],
   "source": [
    "# 転置\n",
    "mat1.T"
   ]
  },
  {
   "cell_type": "code",
   "execution_count": 45,
   "id": "fd6506bd-3d37-4bae-ab8e-8e6b24a24609",
   "metadata": {},
   "outputs": [
    {
     "data": {
      "text/latex": [
       "$\\displaystyle \\left[\\begin{matrix}- \\frac{3}{2} & \\frac{1}{2}\\\\1 & 0\\end{matrix}\\right]$"
      ],
      "text/plain": [
       "⎡-3/2  1/2⎤\n",
       "⎢         ⎥\n",
       "⎣ 1     0 ⎦"
      ]
     },
     "execution_count": 45,
     "metadata": {},
     "output_type": "execute_result"
    }
   ],
   "source": [
    "# 逆行列\n",
    "mat1.inv()"
   ]
  },
  {
   "cell_type": "code",
   "execution_count": 47,
   "id": "f2a95916-fecc-40dd-82ac-3888e1dac2dc",
   "metadata": {},
   "outputs": [
    {
     "data": {
      "text/latex": [
       "$\\displaystyle \\left[\\begin{matrix}1 & 0\\\\0 & 1\\end{matrix}\\right]$"
      ],
      "text/plain": [
       "⎡1  0⎤\n",
       "⎢    ⎥\n",
       "⎣0  1⎦"
      ]
     },
     "execution_count": 47,
     "metadata": {},
     "output_type": "execute_result"
    }
   ],
   "source": [
    "# 単位行列になる\n",
    "mat1 * mat1.inv()"
   ]
  },
  {
   "cell_type": "code",
   "execution_count": 49,
   "id": "2ee7cf5e-9953-47ad-b72e-39afd00773f9",
   "metadata": {},
   "outputs": [
    {
     "data": {
      "image/png": "[encoded data removed]",
      "text/latex": [
       "$\\displaystyle -2$"
      ],
      "text/plain": [
       "-2"
      ]
     },
     "execution_count": 49,
     "metadata": {},
     "output_type": "execute_result"
    }
   ],
   "source": [
    "# 行列積\n",
    "sp.det(mat1)"
   ]
  },
  {
   "cell_type": "markdown",
   "id": "5a1f9504-e737-4686-9884-828ed5aa0203",
   "metadata": {},
   "source": [
    "## 関数の適用"
   ]
  },
  {
   "cell_type": "code",
   "execution_count": 50,
   "id": "1b445b8f-8ab1-4876-8e7f-73c1939d9404",
   "metadata": {},
   "outputs": [
    {
     "data": {
      "text/latex": [
       "$\\displaystyle \\left[\\begin{array}{ccc}x_{0, 0} & x_{0, 1} & x_{0, 2}\\\\x_{1, 0} & x_{1, 1} & x_{1, 2}\\\\x_{2, 0} & x_{2, 1} & x_{2, 2}\\end{array}\\right]$"
      ],
      "text/plain": [
       "⎡x₀₀  x₀₁  x₀₂⎤\n",
       "⎢             ⎥\n",
       "⎢x₁₀  x₁₁  x₁₂⎥\n",
       "⎢             ⎥\n",
       "⎣x₂₀  x₂₁  x₂₂⎦"
      ]
     },
     "execution_count": 50,
     "metadata": {},
     "output_type": "execute_result"
    }
   ],
   "source": [
    "x = sp.Matrix(sp.MatrixSymbol(\"x\", 3, 3))\n",
    "x"
   ]
  },
  {
   "cell_type": "code",
   "execution_count": 52,
   "id": "049162ef-7369-4aea-91de-f74f6d77a81c",
   "metadata": {},
   "outputs": [
    {
     "data": {
      "text/latex": [
       "$\\displaystyle \\left[\\begin{matrix}x_{0, 0}^{2} + x_{0, 1} x_{1, 0} + x_{0, 2} x_{2, 0} & x_{0, 0} x_{0, 1} + x_{0, 1} x_{1, 1} + x_{0, 2} x_{2, 1} & x_{0, 0} x_{0, 2} + x_{0, 1} x_{1, 2} + x_{0, 2} x_{2, 2}\\\\x_{0, 0} x_{1, 0} + x_{1, 0} x_{1, 1} + x_{1, 2} x_{2, 0} & x_{0, 1} x_{1, 0} + x_{1, 1}^{2} + x_{1, 2} x_{2, 1} & x_{0, 2} x_{1, 0} + x_{1, 1} x_{1, 2} + x_{1, 2} x_{2, 2}\\\\x_{0, 0} x_{2, 0} + x_{1, 0} x_{2, 1} + x_{2, 0} x_{2, 2} & x_{0, 1} x_{2, 0} + x_{1, 1} x_{2, 1} + x_{2, 1} x_{2, 2} & x_{0, 2} x_{2, 0} + x_{1, 2} x_{2, 1} + x_{2, 2}^{2}\\end{matrix}\\right]$"
      ],
      "text/plain": [
       "⎡    2                                                                        \n",
       "⎢ x₀₀  + x₀₁⋅x₁₀ + x₀₂⋅x₂₀    x₀₀⋅x₀₁ + x₀₁⋅x₁₁ + x₀₂⋅x₂₁  x₀₀⋅x₀₂ + x₀₁⋅x₁₂ +\n",
       "⎢                                                                             \n",
       "⎢                                           2                                 \n",
       "⎢x₀₀⋅x₁₀ + x₁₀⋅x₁₁ + x₁₂⋅x₂₀   x₀₁⋅x₁₀ + x₁₁  + x₁₂⋅x₂₁    x₀₂⋅x₁₀ + x₁₁⋅x₁₂ +\n",
       "⎢                                                                             \n",
       "⎢                                                                             \n",
       "⎣x₀₀⋅x₂₀ + x₁₀⋅x₂₁ + x₂₀⋅x₂₂  x₀₁⋅x₂₀ + x₁₁⋅x₂₁ + x₂₁⋅x₂₂   x₀₂⋅x₂₀ + x₁₂⋅x₂₁ \n",
       "\n",
       "        ⎤\n",
       " x₀₂⋅x₂₂⎥\n",
       "        ⎥\n",
       "        ⎥\n",
       " x₁₂⋅x₂₂⎥\n",
       "        ⎥\n",
       "     2  ⎥\n",
       "+ x₂₂   ⎦"
      ]
     },
     "execution_count": 52,
     "metadata": {},
     "output_type": "execute_result"
    }
   ],
   "source": [
    "# x と x の行列積を計算してしまう : 行列の要素に対しては 2乗にはならない\n",
    "x ** 2"
   ]
  },
  {
   "cell_type": "code",
   "execution_count": 53,
   "id": "e42ff019-6220-415c-82de-a0f8a5ea2b52",
   "metadata": {},
   "outputs": [
    {
     "data": {
      "text/latex": [
       "$\\displaystyle \\left[\\begin{matrix}x_{0, 0}^{2} & x_{0, 1}^{2} & x_{0, 2}^{2}\\\\x_{1, 0}^{2} & x_{1, 1}^{2} & x_{1, 2}^{2}\\\\x_{2, 0}^{2} & x_{2, 1}^{2} & x_{2, 2}^{2}\\end{matrix}\\right]$"
      ],
      "text/plain": [
       "⎡   2     2     2⎤\n",
       "⎢x₀₀   x₀₁   x₀₂ ⎥\n",
       "⎢                ⎥\n",
       "⎢   2     2     2⎥\n",
       "⎢x₁₀   x₁₁   x₁₂ ⎥\n",
       "⎢                ⎥\n",
       "⎢   2     2     2⎥\n",
       "⎣x₂₀   x₂₁   x₂₂ ⎦"
      ]
     },
     "execution_count": 53,
     "metadata": {},
     "output_type": "execute_result"
    }
   ],
   "source": [
    "# 要素毎に冪乗をする : それぞれの行列の要素に対して 2乗をして下さいという指示を lambda で記述\n",
    "x.applyfunc(lambda y: y ** 2)"
   ]
  },
  {
   "cell_type": "markdown",
   "id": "8621787b-4b80-4f8a-ba49-de03854ec956",
   "metadata": {},
   "source": [
    "## ベクトルの直行化\n",
    "- グラムシュミット"
   ]
  },
  {
   "cell_type": "code",
   "execution_count": 54,
   "id": "8316fb89-db85-441d-a89f-34b08b8272b9",
   "metadata": {},
   "outputs": [],
   "source": [
    "vec1 = sp.Matrix([1, 1, 0])\n",
    "vec2 = sp.Matrix([0, -1 , 1])\n",
    "vec3 = sp.Matrix([1, 1, 1])"
   ]
  },
  {
   "cell_type": "code",
   "execution_count": 55,
   "id": "1bb0401d-a136-4b28-831d-8685cf490f48",
   "metadata": {},
   "outputs": [
    {
     "data": {
      "image/png": "[encoded data removed]",
      "text/latex": [
       "$\\displaystyle -1$"
      ],
      "text/plain": [
       "-1"
      ]
     },
     "execution_count": 55,
     "metadata": {},
     "output_type": "execute_result"
    }
   ],
   "source": [
    "# 現時点での内積\n",
    "vec1.dot(vec2)"
   ]
  },
  {
   "cell_type": "code",
   "execution_count": 56,
   "id": "67e5adcf-734a-40e8-8197-741b528b5d81",
   "metadata": {},
   "outputs": [
    {
     "data": {
      "image/png": "[encoded data removed]",
      "text/latex": [
       "$\\displaystyle 2$"
      ],
      "text/plain": [
       "2"
      ]
     },
     "execution_count": 56,
     "metadata": {},
     "output_type": "execute_result"
    }
   ],
   "source": [
    "vec1.dot(vec3)"
   ]
  },
  {
   "cell_type": "markdown",
   "id": "127baf5d-dba7-40c0-abf2-badce645b829",
   "metadata": {},
   "source": [
    "- 上記の vector は直行していない"
   ]
  },
  {
   "cell_type": "code",
   "execution_count": 57,
   "id": "4c3dc8e2-14d9-4c36-ad8e-8e129eb08bd5",
   "metadata": {},
   "outputs": [],
   "source": [
    "# list を作成\n",
    "L = [vec1, vec2, vec3]"
   ]
  },
  {
   "cell_type": "code",
   "execution_count": 58,
   "id": "12d410fc-1832-430c-8301-f8ec2c32986f",
   "metadata": {},
   "outputs": [
    {
     "data": {
      "text/latex": [
       "$\\displaystyle \\left[ \\left[\\begin{matrix}1\\\\1\\\\0\\end{matrix}\\right], \\  \\left[\\begin{matrix}\\frac{1}{2}\\\\- \\frac{1}{2}\\\\1\\end{matrix}\\right], \\  \\left[\\begin{matrix}- \\frac{1}{3}\\\\\\frac{1}{3}\\\\\\frac{1}{3}\\end{matrix}\\right]\\right]$"
      ],
      "text/plain": [
       "⎡⎡1⎤  ⎡1/2 ⎤  ⎡-1/3⎤⎤\n",
       "⎢⎢ ⎥  ⎢    ⎥  ⎢    ⎥⎥\n",
       "⎢⎢1⎥, ⎢-1/2⎥, ⎢1/3 ⎥⎥\n",
       "⎢⎢ ⎥  ⎢    ⎥  ⎢    ⎥⎥\n",
       "⎣⎣0⎦  ⎣ 1  ⎦  ⎣1/3 ⎦⎦"
      ]
     },
     "execution_count": 58,
     "metadata": {},
     "output_type": "execute_result"
    }
   ],
   "source": [
    "# GramSchmidt() 関数で処理\n",
    "out = sp.GramSchmidt(L)\n",
    "out"
   ]
  },
  {
   "cell_type": "code",
   "execution_count": 59,
   "id": "45b3c1ce-5198-48a8-9bf6-1787e533130e",
   "metadata": {},
   "outputs": [],
   "source": [
    "vec1_ = out[0]\n",
    "vec2_ = out[1]\n",
    "vec3_ = out[2]"
   ]
  },
  {
   "cell_type": "code",
   "execution_count": 60,
   "id": "a33bceea-73d0-4af1-8e94-1a08d90dd6c8",
   "metadata": {},
   "outputs": [
    {
     "data": {
      "image/png": "[encoded data removed]",
      "text/latex": [
       "$\\displaystyle 0$"
      ],
      "text/plain": [
       "0"
      ]
     },
     "execution_count": 60,
     "metadata": {},
     "output_type": "execute_result"
    }
   ],
   "source": [
    "vec1_.dot(vec2_)"
   ]
  },
  {
   "cell_type": "code",
   "execution_count": 61,
   "id": "0752fe5b-73cd-4a93-bb93-6fc213ea95db",
   "metadata": {},
   "outputs": [
    {
     "data": {
      "image/png": "[encoded data removed]",
      "text/latex": [
       "$\\displaystyle 0$"
      ],
      "text/plain": [
       "0"
      ]
     },
     "execution_count": 61,
     "metadata": {},
     "output_type": "execute_result"
    }
   ],
   "source": [
    "vec1_.dot(vec3_)"
   ]
  },
  {
   "cell_type": "markdown",
   "id": "a4a13d84-deea-4f84-842a-84831869f2e9",
   "metadata": {},
   "source": [
    "- 上記の式は 直行している\n",
    "\n",
    "- <u>複数の vector を互いに直行させる事ができる</u>"
   ]
  },
  {
   "cell_type": "code",
   "execution_count": 63,
   "id": "f449d9a4-5edd-44b0-98e6-420ab27ede2b",
   "metadata": {},
   "outputs": [
    {
     "data": {
      "text/latex": [
       "$\\displaystyle \\left[ \\left[\\begin{matrix}1\\\\1\\\\0\\end{matrix}\\right], \\  \\left[\\begin{matrix}\\frac{1}{2}\\\\- \\frac{1}{2}\\\\1\\end{matrix}\\right], \\  \\left[\\begin{matrix}- \\frac{1}{3}\\\\\\frac{1}{3}\\\\\\frac{1}{3}\\end{matrix}\\right]\\right]$"
      ],
      "text/plain": [
       "⎡⎡1⎤  ⎡1/2 ⎤  ⎡-1/3⎤⎤\n",
       "⎢⎢ ⎥  ⎢    ⎥  ⎢    ⎥⎥\n",
       "⎢⎢1⎥, ⎢-1/2⎥, ⎢1/3 ⎥⎥\n",
       "⎢⎢ ⎥  ⎢    ⎥  ⎢    ⎥⎥\n",
       "⎣⎣0⎦  ⎣ 1  ⎦  ⎣1/3 ⎦⎦"
      ]
     },
     "execution_count": 63,
     "metadata": {},
     "output_type": "execute_result"
    }
   ],
   "source": [
    "# 内部では同じ GramSchmidt が呼ばれている (オーナライズ)\n",
    "sp.Matrix.orthogonalize(*L)"
   ]
  },
  {
   "cell_type": "markdown",
   "id": "eb33bd99-e496-40c9-b14a-a0eec106d1fc",
   "metadata": {},
   "source": [
    "## ベクトルの外積・直積"
   ]
  },
  {
   "cell_type": "code",
   "execution_count": 64,
   "id": "4bb0c2ae-716d-4be4-9cf7-07491d086c5e",
   "metadata": {},
   "outputs": [],
   "source": [
    "ux, ui, uz = sp.symbols(\"ux, ui, uz\")\n",
    "vx, vi, vz = sp.symbols(\"vx, vi, vz\")"
   ]
  },
  {
   "cell_type": "code",
   "execution_count": 65,
   "id": "357a552f-7b84-4896-995f-d3a1da2b53bb",
   "metadata": {},
   "outputs": [],
   "source": [
    "u = sp.Matrix([ux, ui, uz])\n",
    "v = sp.Matrix([vx, vi, vz])"
   ]
  },
  {
   "cell_type": "code",
   "execution_count": 66,
   "id": "c3bbd882-f750-41dd-869d-d0709e342661",
   "metadata": {},
   "outputs": [
    {
     "data": {
      "text/latex": [
       "$\\displaystyle \\left[\\begin{matrix}ux\\\\ui\\\\uz\\end{matrix}\\right]$"
      ],
      "text/plain": [
       "⎡ux⎤\n",
       "⎢  ⎥\n",
       "⎢ui⎥\n",
       "⎢  ⎥\n",
       "⎣uz⎦"
      ]
     },
     "execution_count": 66,
     "metadata": {},
     "output_type": "execute_result"
    }
   ],
   "source": [
    "u"
   ]
  },
  {
   "cell_type": "code",
   "execution_count": 67,
   "id": "eb242c13-ae52-4aa1-8b16-97b005058a8b",
   "metadata": {},
   "outputs": [
    {
     "data": {
      "text/latex": [
       "$\\displaystyle \\left[\\begin{matrix}vx\\\\vi\\\\vz\\end{matrix}\\right]$"
      ],
      "text/plain": [
       "⎡vx⎤\n",
       "⎢  ⎥\n",
       "⎢vi⎥\n",
       "⎢  ⎥\n",
       "⎣vz⎦"
      ]
     },
     "execution_count": 67,
     "metadata": {},
     "output_type": "execute_result"
    }
   ],
   "source": [
    "v"
   ]
  },
  {
   "cell_type": "code",
   "execution_count": 68,
   "id": "23aa722a-dd45-41a2-b9c6-808d61621410",
   "metadata": {},
   "outputs": [
    {
     "data": {
      "image/png": "[encoded data removed]",
      "text/latex": [
       "$\\displaystyle ui vi + ux vx + uz vz$"
      ],
      "text/plain": [
       "ui⋅vi + ux⋅vx + uz⋅vz"
      ]
     },
     "execution_count": 68,
     "metadata": {},
     "output_type": "execute_result"
    }
   ],
   "source": [
    "#　内積の計算\n",
    "u.dot(v)"
   ]
  },
  {
   "cell_type": "code",
   "execution_count": 69,
   "id": "c0711e5f-f8df-4928-823e-aad7a41a4114",
   "metadata": {},
   "outputs": [
    {
     "data": {
      "text/latex": [
       "$\\displaystyle \\left[\\begin{matrix}ui vz - uz vi\\\\- ux vz + uz vx\\\\- ui vx + ux vi\\end{matrix}\\right]$"
      ],
      "text/plain": [
       "⎡ui⋅vz - uz⋅vi ⎤\n",
       "⎢              ⎥\n",
       "⎢-ux⋅vz + uz⋅vx⎥\n",
       "⎢              ⎥\n",
       "⎣-ui⋅vx + ux⋅vi⎦"
      ]
     },
     "execution_count": 69,
     "metadata": {},
     "output_type": "execute_result"
    }
   ],
   "source": [
    "# 外積の計算\n",
    "u.cross(v)"
   ]
  },
  {
   "cell_type": "markdown",
   "id": "ece77b62-5423-4fe8-b0d8-9b4bb8bf004a",
   "metadata": {},
   "source": [
    "### vector の直積"
   ]
  },
  {
   "cell_type": "code",
   "execution_count": 71,
   "id": "aa21b241-c56d-47b8-a2ff-fef1dcdb5b54",
   "metadata": {},
   "outputs": [],
   "source": [
    "from sympy.physics.quantum import TensorProduct"
   ]
  },
  {
   "cell_type": "code",
   "execution_count": 72,
   "id": "7fd7fad6-693c-4254-bc99-4807c5879c54",
   "metadata": {},
   "outputs": [
    {
     "data": {
      "text/latex": [
       "$\\displaystyle \\left[\\begin{matrix}ux^{2} & ui ux & ux uz\\\\ui ux & ui^{2} & ui uz\\\\ux uz & ui uz & uz^{2}\\end{matrix}\\right]$"
      ],
      "text/plain": [
       "⎡   2               ⎤\n",
       "⎢ ux    ui⋅ux  ux⋅uz⎥\n",
       "⎢                   ⎥\n",
       "⎢          2        ⎥\n",
       "⎢ui⋅ux   ui    ui⋅uz⎥\n",
       "⎢                   ⎥\n",
       "⎢                 2 ⎥\n",
       "⎣ux⋅uz  ui⋅uz   uz  ⎦"
      ]
     },
     "execution_count": 72,
     "metadata": {},
     "output_type": "execute_result"
    }
   ],
   "source": [
    "TensorProduct(u, u.T)"
   ]
  },
  {
   "cell_type": "markdown",
   "id": "74a28ba1-1320-4231-b61e-620c56e67b04",
   "metadata": {},
   "source": [
    "- site 参照 : \n",
    "[vector の直積](https://ja.wikipedia.org/wiki/%E7%9B%B4%E7%A9%8D_(%E3%83%99%E3%82%AF%E3%83%88%E3%83%AB))"
   ]
  },
  {
   "cell_type": "markdown",
   "id": "9f13ff0e-6a5a-4b1e-92a0-2f4932548ecc",
   "metadata": {},
   "source": [
    "## 行列の固有値・固有ベクトル"
   ]
  },
  {
   "cell_type": "code",
   "execution_count": 73,
   "id": "e0c3013f-76a9-4271-a75b-fc83470ba4c9",
   "metadata": {},
   "outputs": [],
   "source": [
    "A_mtx = sp.Matrix([[5, 3], [4, 9]])"
   ]
  },
  {
   "cell_type": "code",
   "execution_count": 75,
   "id": "e7db8942-df5e-410f-9a04-fae2b1f66251",
   "metadata": {},
   "outputs": [
    {
     "data": {
      "text/latex": [
       "$\\displaystyle \\left[\\begin{matrix}5 & 3\\\\4 & 9\\end{matrix}\\right]$"
      ],
      "text/plain": [
       "⎡5  3⎤\n",
       "⎢    ⎥\n",
       "⎣4  9⎦"
      ]
     },
     "execution_count": 75,
     "metadata": {},
     "output_type": "execute_result"
    }
   ],
   "source": [
    "A_mtx"
   ]
  },
  {
   "cell_type": "code",
   "execution_count": 74,
   "id": "1e501524-9350-41eb-a5c2-6f4af2425c06",
   "metadata": {},
   "outputs": [
    {
     "data": {
      "image/png": "[encoded data removed]",
      "text/latex": [
       "$\\displaystyle \\left\\{ 3 : 1, \\  11 : 1\\right\\}$"
      ],
      "text/plain": [
       "{3: 1, 11: 1}"
      ]
     },
     "execution_count": 74,
     "metadata": {},
     "output_type": "execute_result"
    }
   ],
   "source": [
    "# 固有値\n",
    "A_mtx.eigenvals()"
   ]
  },
  {
   "cell_type": "code",
   "execution_count": 76,
   "id": "43a728f6-6e60-4f3c-9e96-c03c9e0269ed",
   "metadata": {},
   "outputs": [
    {
     "data": {
      "text/latex": [
       "$\\displaystyle \\left[ \\left( 3, \\  1, \\  \\left[ \\left[\\begin{matrix}- \\frac{3}{2}\\\\1\\end{matrix}\\right]\\right]\\right), \\  \\left( 11, \\  1, \\  \\left[ \\left[\\begin{matrix}\\frac{1}{2}\\\\1\\end{matrix}\\right]\\right]\\right)\\right]$"
      ],
      "text/plain": [
       "⎡⎛      ⎡⎡-3/2⎤⎤⎞  ⎛       ⎡⎡1/2⎤⎤⎞⎤\n",
       "⎢⎜3, 1, ⎢⎢    ⎥⎥⎟, ⎜11, 1, ⎢⎢   ⎥⎥⎟⎥\n",
       "⎣⎝      ⎣⎣ 1  ⎦⎦⎠  ⎝       ⎣⎣ 1 ⎦⎦⎠⎦"
      ]
     },
     "execution_count": 76,
     "metadata": {},
     "output_type": "execute_result"
    }
   ],
   "source": [
    "# 固有ベクトル\n",
    "A_mtx.eigenvects()"
   ]
  },
  {
   "cell_type": "code",
   "execution_count": null,
   "id": "a796ec9a-05d2-4b20-8c03-b2a79fdfabaa",
   "metadata": {},
   "outputs": [],
   "source": []
  }
 ],
 "metadata": {
  "kernelspec": {
   "display_name": "Python 3",
   "language": "python",
   "name": "python3"
  },
  "language_info": {
   "codemirror_mode": {
    "name": "ipython",
    "version": 3
   },
   "file_extension": ".py",
   "mimetype": "text/x-python",
   "name": "python",
   "nbconvert_exporter": "python",
   "pygments_lexer": "ipython3",
   "version": "3.8.8"
  }
 },
 "nbformat": 4,
 "nbformat_minor": 5
}
