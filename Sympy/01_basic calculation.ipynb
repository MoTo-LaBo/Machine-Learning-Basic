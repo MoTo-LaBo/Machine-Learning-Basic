{
 "cells": [
  {
   "cell_type": "markdown",
   "id": "138743ae-bf69-441a-9229-489f4a0d269c",
   "metadata": {},
   "source": [
    "# Sympy基本計算"
   ]
  },
  {
   "cell_type": "markdown",
   "id": "d1435b70-2c90-469f-8ea5-92e311086e5c",
   "metadata": {},
   "source": [
    "## Symbolの生成\n",
    "- 基本の計算"
   ]
  },
  {
   "cell_type": "code",
   "execution_count": 1,
   "id": "10238dda-4643-4069-88ef-56edc95aa94f",
   "metadata": {},
   "outputs": [],
   "source": [
    "import sympy as sp\n",
    "sp.init_printing()"
   ]
  },
  {
   "cell_type": "markdown",
   "id": "4894820e-82c2-4901-b3e3-3ae5c19aa0bc",
   "metadata": {},
   "source": [
    "## sybols作成\n",
    "- *変数が複数の場合は小文字*\n",
    "\n",
    "- *変数が１つの場合は　**頭文字が大文字***"
   ]
  },
  {
   "cell_type": "code",
   "execution_count": 11,
   "id": "4386862f-1d14-4470-a9ef-be5eca6b6496",
   "metadata": {},
   "outputs": [
    {
     "data": {
      "image/png": "[encoded data removed]",
      "text/latex": [
       "$\\displaystyle x$"
      ],
      "text/plain": [
       "x"
      ]
     },
     "execution_count": 11,
     "metadata": {},
     "output_type": "execute_result"
    }
   ],
   "source": [
    "x, y, z = sp.symbols(\"x y z\")\n",
    "\n",
    "x"
   ]
  },
  {
   "cell_type": "code",
   "execution_count": 14,
   "id": "479d6a41-58af-4a87-9def-b3676d3ba307",
   "metadata": {},
   "outputs": [
    {
     "data": {
      "image/png": "[encoded data removed]",
      "text/latex": [
       "$\\displaystyle a$"
      ],
      "text/plain": [
       "a"
      ]
     },
     "execution_count": 14,
     "metadata": {},
     "output_type": "execute_result"
    }
   ],
   "source": [
    "a = sp.Symbol(\"a\")\n",
    "\n",
    "a"
   ]
  },
  {
   "cell_type": "code",
   "execution_count": 16,
   "id": "170fb692-0301-48f6-9fff-42470e735d94",
   "metadata": {},
   "outputs": [
    {
     "data": {
      "image/png": "[encoded data removed]",
      "text/latex": [
       "$\\displaystyle a + 2 x$"
      ],
      "text/plain": [
       "a + 2⋅x"
      ]
     },
     "execution_count": 16,
     "metadata": {},
     "output_type": "execute_result"
    }
   ],
   "source": [
    "f = 2 * x + a\n",
    "\n",
    "f"
   ]
  },
  {
   "cell_type": "code",
   "execution_count": 9,
   "id": "04d84896-074e-40ff-a45e-8c23ab53b16c",
   "metadata": {},
   "outputs": [
    {
     "data": {
      "image/png": "[encoded data removed]",
      "text/latex": [
       "$\\displaystyle \\left(a + x\\right)^{2}$"
      ],
      "text/plain": [
       "       2\n",
       "(a + x) "
      ]
     },
     "execution_count": 9,
     "metadata": {},
     "output_type": "execute_result"
    }
   ],
   "source": [
    "(x + a) ** 2"
   ]
  },
  {
   "cell_type": "markdown",
   "id": "274f39b1-7688-43ea-8351-3ad63fae2bb9",
   "metadata": {},
   "source": [
    "### 上記の式を展開したい場合\n",
    "- **expand( )** 関数を使用"
   ]
  },
  {
   "cell_type": "code",
   "execution_count": 10,
   "id": "b9647b34-926a-4b8f-bcd4-978054d61ebf",
   "metadata": {},
   "outputs": [
    {
     "data": {
      "image/png": "[encoded data removed]",
      "text/latex": [
       "$\\displaystyle a^{2} + 2 a x + x^{2}$"
      ],
      "text/plain": [
       " 2            2\n",
       "a  + 2⋅a⋅x + x "
      ]
     },
     "execution_count": 10,
     "metadata": {},
     "output_type": "execute_result"
    }
   ],
   "source": [
    "sp.expand((x + a) ** 2)"
   ]
  },
  {
   "cell_type": "code",
   "execution_count": 17,
   "id": "0bd35cb7-0e98-43b4-a2ed-bb881b0d67e5",
   "metadata": {},
   "outputs": [
    {
     "data": {
      "image/png": "[encoded data removed]",
      "text/latex": [
       "$\\displaystyle \\frac{x^{2} + 5 x + 6}{x + 2}$"
      ],
      "text/plain": [
       " 2          \n",
       "x  + 5⋅x + 6\n",
       "────────────\n",
       "   x + 2    "
      ]
     },
     "execution_count": 17,
     "metadata": {},
     "output_type": "execute_result"
    }
   ],
   "source": [
    "(x ** 2 + 5 * x + 6) / (x + 2)"
   ]
  },
  {
   "cell_type": "markdown",
   "id": "e44dfc9a-56c3-4870-bb92-e2db08a317c6",
   "metadata": {},
   "source": [
    "### simplify\n",
    "- *因数分解されて簡単な式にまとめてくれる*\n",
    "\n",
    "    - <u>良く使用する流れは</u>\n",
    "<center>\n",
    "sp.expand( )　->　展開<br>\n",
    "    <br>\n",
    "    ↓<br>\n",
    "<br>sp.simplify( )　->　因数分解　->　最適な式へ\n",
    "</center>"
   ]
  },
  {
   "cell_type": "code",
   "execution_count": 18,
   "id": "243d2305-a16e-445a-9967-ccacf7fe2535",
   "metadata": {},
   "outputs": [
    {
     "data": {
      "image/png": "[encoded data removed]",
      "text/latex": [
       "$\\displaystyle x + 3$"
      ],
      "text/plain": [
       "x + 3"
      ]
     },
     "execution_count": 18,
     "metadata": {},
     "output_type": "execute_result"
    }
   ],
   "source": [
    "sp.simplify((x ** 2 + 5 * x + 6) / (x + 2))"
   ]
  },
  {
   "cell_type": "markdown",
   "id": "83345a3b-378d-4be3-ae2a-2bdd9a7d7487",
   "metadata": {},
   "source": [
    "### 因数分解だけをする場合\n",
    "- **factor( )**"
   ]
  },
  {
   "cell_type": "code",
   "execution_count": 21,
   "id": "6aee4a67-ba46-4082-b1de-75a7f2529057",
   "metadata": {},
   "outputs": [
    {
     "data": {
      "image/png": "[encoded data removed]",
      "text/latex": [
       "$\\displaystyle \\left(x + 2\\right) \\left(x + 3\\right)$"
      ],
      "text/plain": [
       "(x + 2)⋅(x + 3)"
      ]
     },
     "execution_count": 21,
     "metadata": {},
     "output_type": "execute_result"
    }
   ],
   "source": [
    "sp.factor((x ** 2 + 5 * x + 6))"
   ]
  },
  {
   "cell_type": "markdown",
   "id": "870c00f4-1fa8-490f-a4fe-3049ec499570",
   "metadata": {},
   "source": [
    "## 代入・整理・係数抽出"
   ]
  },
  {
   "cell_type": "code",
   "execution_count": 22,
   "id": "8a6004f1-f69d-409b-95cf-7273a4d4dd63",
   "metadata": {},
   "outputs": [
    {
     "data": {
      "image/png": "[encoded data removed]",
      "text/latex": [
       "$\\displaystyle x^{3} + 3 x^{2} y + 3 x^{2} z + 3 x y^{2} + 6 x y z + 3 x z^{2} + y^{3} + 3 y^{2} z + 3 y z^{2} + z^{3}$"
      ],
      "text/plain": [
       " 3      2        2          2                  2    3      2          2    3\n",
       "x  + 3⋅x ⋅y + 3⋅x ⋅z + 3⋅x⋅y  + 6⋅x⋅y⋅z + 3⋅x⋅z  + y  + 3⋅y ⋅z + 3⋅y⋅z  + z "
      ]
     },
     "execution_count": 22,
     "metadata": {},
     "output_type": "execute_result"
    }
   ],
   "source": [
    "exp = (x + y + z) ** 3\n",
    "sp.expand(exp)"
   ]
  },
  {
   "cell_type": "markdown",
   "id": "47a65ef6-6da9-415c-be61-1b2a58146210",
   "metadata": {},
   "source": [
    "### $x$ について整理する\n",
    "- **collect( )**\n",
    "    - *非常に良く使用する*\n",
    "        - 指定した変数で式を整理してくれるので非常に便利"
   ]
  },
  {
   "cell_type": "code",
   "execution_count": 23,
   "id": "78deb741-6cf8-4c3e-b9f0-0df1fa5b1140",
   "metadata": {},
   "outputs": [
    {
     "data": {
      "image/png": "[encoded data removed]",
      "text/latex": [
       "$\\displaystyle x^{3} + x^{2} \\left(3 y + 3 z\\right) + x \\left(3 y^{2} + 6 y z + 3 z^{2}\\right) + y^{3} + 3 y^{2} z + 3 y z^{2} + z^{3}$"
      ],
      "text/plain": [
       " 3    2                 ⎛   2              2⎞    3      2          2    3\n",
       "x  + x ⋅(3⋅y + 3⋅z) + x⋅⎝3⋅y  + 6⋅y⋅z + 3⋅z ⎠ + y  + 3⋅y ⋅z + 3⋅y⋅z  + z "
      ]
     },
     "execution_count": 23,
     "metadata": {},
     "output_type": "execute_result"
    }
   ],
   "source": [
    "sp.collect(sp.expand(exp), x)"
   ]
  },
  {
   "cell_type": "markdown",
   "id": "75fb6523-3dae-463f-9955-e03fae4da072",
   "metadata": {},
   "source": [
    "### 上記の式に数値を入れて評価\n",
    "- **.subs( )**\n",
    "    - *subs( )の括弧の中には辞書を渡す { Key : value }*"
   ]
  },
  {
   "cell_type": "code",
   "execution_count": 24,
   "id": "13cebad8-69d1-4700-99a7-4ba9fdce40db",
   "metadata": {},
   "outputs": [
    {
     "data": {
      "image/png": "[encoded data removed]",
      "text/latex": [
       "$\\displaystyle y^{3} + 3 y^{2} z + 6 y^{2} + 3 y z^{2} + 12 y z + 12 y + z^{3} + 6 z^{2} + 12 z + 8$"
      ],
      "text/plain": [
       " 3      2        2        2                    3      2           \n",
       "y  + 3⋅y ⋅z + 6⋅y  + 3⋅y⋅z  + 12⋅y⋅z + 12⋅y + z  + 6⋅z  + 12⋅z + 8"
      ]
     },
     "execution_count": 24,
     "metadata": {},
     "output_type": "execute_result"
    }
   ],
   "source": [
    "# x に対して 2 を代入する\n",
    "sp.expand(exp).subs({x : 2})"
   ]
  },
  {
   "cell_type": "code",
   "execution_count": 25,
   "id": "4ab04f07-0c07-4c01-ad92-53d84777a74a",
   "metadata": {},
   "outputs": [
    {
     "data": {
      "image/png": "[encoded data removed]",
      "text/latex": [
       "$\\displaystyle z^{3} + 9 z^{2} + 27 z + 27$"
      ],
      "text/plain": [
       " 3      2            \n",
       "z  + 9⋅z  + 27⋅z + 27"
      ]
     },
     "execution_count": 25,
     "metadata": {},
     "output_type": "execute_result"
    }
   ],
   "source": [
    "sp.expand(exp).subs({x : 2, y : 1})"
   ]
  },
  {
   "cell_type": "markdown",
   "id": "2ee2f045-ee1d-4ed7-9ab8-fadc8e759140",
   "metadata": {},
   "source": [
    "### 係数の抽出\n",
    "- **.coeff( )**\n",
    "    - *抽出する係数の指定*"
   ]
  },
  {
   "cell_type": "code",
   "execution_count": 26,
   "id": "35e93e33-1e86-4875-a689-55ba2342adbd",
   "metadata": {},
   "outputs": [
    {
     "data": {
      "image/png": "[encoded data removed]",
      "text/latex": [
       "$\\displaystyle y^{3} + 3 y^{2} z + 3 y z^{2} + z^{3}$"
      ],
      "text/plain": [
       " 3      2          2    3\n",
       "y  + 3⋅y ⋅z + 3⋅y⋅z  + z "
      ]
     },
     "execution_count": 26,
     "metadata": {},
     "output_type": "execute_result"
    }
   ],
   "source": [
    "sp.expand(exp).coeff(x, n=0)"
   ]
  },
  {
   "cell_type": "markdown",
   "id": "0b3fb272-1798-4401-bbeb-78375fc4ee57",
   "metadata": {},
   "source": [
    "## 分数\n",
    "- **Rational( )**\n",
    "    - *分数計算に変換してくれる*"
   ]
  },
  {
   "cell_type": "code",
   "execution_count": 27,
   "id": "0d4c1b27-cc7e-42e4-b87d-f312bc6df452",
   "metadata": {},
   "outputs": [
    {
     "data": {
      "image/png": "[encoded data removed]",
      "text/latex": [
       "$\\displaystyle 3.0$"
      ],
      "text/plain": [
       "3.0"
      ]
     },
     "execution_count": 27,
     "metadata": {},
     "output_type": "execute_result"
    }
   ],
   "source": [
    "9 / 4 + 3 / 4"
   ]
  },
  {
   "cell_type": "markdown",
   "id": "5341adfd-4664-403a-ac6a-bd300f800082",
   "metadata": {},
   "source": [
    "- python では　浮動小数点型 ( float ) で返ってくる"
   ]
  },
  {
   "cell_type": "code",
   "execution_count": 28,
   "id": "13201618-762e-4b64-8753-73612bce2493",
   "metadata": {},
   "outputs": [
    {
     "data": {
      "image/png": "[encoded data removed]",
      "text/latex": [
       "$\\displaystyle 0.833333333333333$"
      ],
      "text/plain": [
       "0.8333333333333333"
      ]
     },
     "execution_count": 28,
     "metadata": {},
     "output_type": "execute_result"
    }
   ],
   "source": [
    "1 / 2 + 1 / 3"
   ]
  },
  {
   "cell_type": "code",
   "execution_count": 29,
   "id": "76c297a0-24c3-4eaa-b5e7-2bd1e3230fa0",
   "metadata": {},
   "outputs": [
    {
     "data": {
      "image/png": "[encoded data removed]",
      "text/latex": [
       "$\\displaystyle 3$"
      ],
      "text/plain": [
       "3"
      ]
     },
     "execution_count": 29,
     "metadata": {},
     "output_type": "execute_result"
    }
   ],
   "source": [
    "# 分子 : 分母 の順番\n",
    "sp.Rational(9, 4) + sp.Rational(3, 4)"
   ]
  },
  {
   "cell_type": "markdown",
   "id": "101d6b54-e472-4989-b5e6-c5719f946893",
   "metadata": {},
   "source": [
    "- 数値的にではなく、あくまで分数で評価されて定数で返ってきている"
   ]
  },
  {
   "cell_type": "code",
   "execution_count": 30,
   "id": "7a43323a-198a-4af9-9c8a-e03f9966770f",
   "metadata": {},
   "outputs": [
    {
     "data": {
      "image/png": "[encoded data removed]",
      "text/latex": [
       "$\\displaystyle \\frac{5}{6}$"
      ],
      "text/plain": [
       "5/6"
      ]
     },
     "execution_count": 30,
     "metadata": {},
     "output_type": "execute_result"
    }
   ],
   "source": [
    "sp.Rational(1, 2) + sp.Rational(1, 3)"
   ]
  },
  {
   "cell_type": "markdown",
   "id": "46d1cd6b-c034-4e53-84cc-eb587f0e4967",
   "metadata": {},
   "source": [
    "## 数列\n",
    "- **sequence( )**"
   ]
  },
  {
   "cell_type": "code",
   "execution_count": 31,
   "id": "667f0ac2-1652-419a-ab27-b7360038f392",
   "metadata": {},
   "outputs": [],
   "source": [
    "n = sp.Symbol('n')"
   ]
  },
  {
   "cell_type": "code",
   "execution_count": 32,
   "id": "d43634d2-77bd-47bf-86cd-8d41e5a97824",
   "metadata": {},
   "outputs": [],
   "source": [
    "an = sp.sequence(3 * n + 1)"
   ]
  },
  {
   "cell_type": "code",
   "execution_count": 33,
   "id": "f0519acc-c80b-4564-a441-4f00fad7b428",
   "metadata": {},
   "outputs": [
    {
     "data": {
      "image/png": "[encoded data removed]",
      "text/latex": [
       "$\\displaystyle \\left[1, 4, 7, 10, \\ldots\\right]$"
      ],
      "text/plain": [
       "[1, 4, 7, 10, …]"
      ]
     },
     "execution_count": 33,
     "metadata": {},
     "output_type": "execute_result"
    }
   ],
   "source": [
    "an"
   ]
  },
  {
   "cell_type": "code",
   "execution_count": 34,
   "id": "8a2c0f23-35c0-4fb4-83c9-565aac8af193",
   "metadata": {},
   "outputs": [
    {
     "data": {
      "image/png": "[encoded data removed]",
      "text/latex": [
       "$\\displaystyle 3 n + 1$"
      ],
      "text/plain": [
       "3⋅n + 1"
      ]
     },
     "execution_count": 34,
     "metadata": {},
     "output_type": "execute_result"
    }
   ],
   "source": [
    "an.formula"
   ]
  },
  {
   "cell_type": "code",
   "execution_count": 35,
   "id": "e6f08f83-a628-409b-a8e4-6c003fcf003a",
   "metadata": {},
   "outputs": [
    {
     "data": {
      "image/png": "[encoded data removed]",
      "text/latex": [
       "$\\displaystyle 51$"
      ],
      "text/plain": [
       "51"
      ]
     },
     "execution_count": 35,
     "metadata": {},
     "output_type": "execute_result"
    }
   ],
   "source": [
    "# 総和\n",
    "sp.summation(an.formula, (n, 0, 5))"
   ]
  },
  {
   "cell_type": "code",
   "execution_count": 36,
   "id": "06ca7b57-8590-4a69-9965-394370037670",
   "metadata": {},
   "outputs": [
    {
     "data": {
      "image/png": "[encoded data removed]",
      "text/latex": [
       "$\\displaystyle 58240$"
      ],
      "text/plain": [
       "58240"
      ]
     },
     "execution_count": 36,
     "metadata": {},
     "output_type": "execute_result"
    }
   ],
   "source": [
    "# 相乗\n",
    "sp.product(an.formula, (n, 0, 5))"
   ]
  },
  {
   "cell_type": "code",
   "execution_count": 37,
   "id": "b8cd74f0-5f28-4a64-8667-f5bc3d14f1ad",
   "metadata": {},
   "outputs": [],
   "source": [
    "import numpy as np"
   ]
  },
  {
   "cell_type": "code",
   "execution_count": 40,
   "id": "a6d7ef72-8ad9-480e-8f60-ab9317c87199",
   "metadata": {},
   "outputs": [
    {
     "data": {
      "text/plain": [
       "array([ 1,  4,  7, 10, 13, 16])"
      ]
     },
     "execution_count": 40,
     "metadata": {},
     "output_type": "execute_result"
    }
   ],
   "source": [
    "arr = 3 * np.arange(6) + 1\n",
    "arr"
   ]
  },
  {
   "cell_type": "code",
   "execution_count": 41,
   "id": "7b91e2e7-4de7-4719-b9b6-d585c0ec2255",
   "metadata": {},
   "outputs": [
    {
     "data": {
      "text/plain": [
       "51"
      ]
     },
     "execution_count": 41,
     "metadata": {},
     "output_type": "execute_result"
    }
   ],
   "source": [
    "np.sum(arr)"
   ]
  },
  {
   "cell_type": "code",
   "execution_count": 42,
   "id": "e9905c2d-f8fa-4588-abb5-4cc7ed998d1f",
   "metadata": {},
   "outputs": [
    {
     "data": {
      "text/plain": [
       "58240"
      ]
     },
     "execution_count": 42,
     "metadata": {},
     "output_type": "execute_result"
    }
   ],
   "source": [
    "np.prod(arr)"
   ]
  },
  {
   "cell_type": "markdown",
   "id": "56995ad0-d9a3-4c3b-afe0-2ff9e4fbe0a9",
   "metadata": {},
   "source": [
    "## 連立方程式"
   ]
  },
  {
   "cell_type": "code",
   "execution_count": 43,
   "id": "4b33ae04-670b-42af-86f3-08067eebd156",
   "metadata": {},
   "outputs": [
    {
     "data": {
      "image/png": "[encoded data removed]",
      "text/latex": [
       "$\\displaystyle x + y + z = 4$"
      ],
      "text/plain": [
       "x + y + z = 4"
      ]
     },
     "execution_count": 43,
     "metadata": {},
     "output_type": "execute_result"
    }
   ],
   "source": [
    "# 左辺 : 右辺\n",
    "eq1 = sp.Eq(x + y + z, 4)\n",
    "eq1"
   ]
  },
  {
   "cell_type": "code",
   "execution_count": 44,
   "id": "d624f46b-7c59-47f2-94d7-3341098e4928",
   "metadata": {},
   "outputs": [],
   "source": [
    "eq2 = sp.Eq(2 * x + y + z, 6)\n",
    "eq3 = sp.Eq(x - y + 2 * z, 3)"
   ]
  },
  {
   "cell_type": "code",
   "execution_count": 45,
   "id": "19b12d18-a3c6-43e3-a9a3-67a3464b8a06",
   "metadata": {},
   "outputs": [
    {
     "data": {
      "image/png": "[encoded data removed]",
      "text/latex": [
       "$\\displaystyle \\left\\{ x : 2, \\  y : 1, \\  z : 1\\right\\}$"
      ],
      "text/plain": [
       "{x: 2, y: 1, z: 1}"
      ]
     },
     "execution_count": 45,
     "metadata": {},
     "output_type": "execute_result"
    }
   ],
   "source": [
    "sp.solve([eq1, eq2, eq3])"
   ]
  },
  {
   "cell_type": "code",
   "execution_count": 47,
   "id": "af0c89fa-3751-4596-9cc4-b90622264095",
   "metadata": {},
   "outputs": [
    {
     "data": {
      "text/latex": [
       "$\\displaystyle \\text{True}$"
      ],
      "text/plain": [
       "True"
      ]
     },
     "execution_count": 47,
     "metadata": {},
     "output_type": "execute_result"
    }
   ],
   "source": [
    "eq1.subs({x: 2, y: 1, z: 1})"
   ]
  },
  {
   "cell_type": "code",
   "execution_count": null,
   "id": "00c4cbf6-6a1f-443f-b933-e4fac2645afd",
   "metadata": {},
   "outputs": [],
   "source": []
  }
 ],
 "metadata": {
  "kernelspec": {
   "display_name": "Python 3",
   "language": "python",
   "name": "python3"
  },
  "language_info": {
   "codemirror_mode": {
    "name": "ipython",
    "version": 3
   },
   "file_extension": ".py",
   "mimetype": "text/x-python",
   "name": "python",
   "nbconvert_exporter": "python",
   "pygments_lexer": "ipython3",
   "version": "3.8.8"
  }
 },
 "nbformat": 4,
 "nbformat_minor": 5
}
