{
 "cells": [
  {
   "cell_type": "markdown",
   "id": "a12b98bc-f7eb-426e-9955-5ad9f66231bd",
   "metadata": {},
   "source": [
    "# Rename function"
   ]
  },
  {
   "cell_type": "code",
   "execution_count": 39,
   "id": "5325d189-0f0c-49dc-ab6a-203338ed8aff",
   "metadata": {},
   "outputs": [
    {
     "name": "stdout",
     "output_type": "stream",
     "text": [
      "The autoreload extension is already loaded. To reload it, use:\n",
      "  %reload_ext autoreload\n"
     ]
    }
   ],
   "source": [
    "%load_ext autoreload\n",
    "%autoreload 2\n",
    "import os\n",
    "import re\n",
    "import numpy as np\n",
    "import sys\n",
    "sys.path.append('/work/script')\n",
    "import aivis\n",
    "from glob import glob\n",
    "from pathlib import Path"
   ]
  },
  {
   "cell_type": "code",
   "execution_count": 25,
   "id": "36f80b99-b498-4d44-bc18-7b0f3fc5c0bd",
   "metadata": {},
   "outputs": [
    {
     "data": {
      "text/plain": [
       "PosixPath('..')"
      ]
     },
     "execution_count": 25,
     "metadata": {},
     "output_type": "execute_result"
    }
   ],
   "source": [
    "p = Path('../')\n",
    "p"
   ]
  },
  {
   "cell_type": "code",
   "execution_count": 26,
   "id": "96b1f318-4a64-41f0-8b92-94eef9c066f7",
   "metadata": {},
   "outputs": [
    {
     "data": {
      "text/plain": [
       "[PosixPath('../.ipynb_checkpoints'),\n",
       " PosixPath('../01連立一次方程式'),\n",
       " PosixPath('../02線形代数object')]"
      ]
     },
     "execution_count": 26,
     "metadata": {},
     "output_type": "execute_result"
    }
   ],
   "source": [
    "list(p.iterdir())"
   ]
  },
  {
   "cell_type": "code",
   "execution_count": 27,
   "id": "213e71ae-6c43-4b23-9ac2-747c1057c867",
   "metadata": {},
   "outputs": [
    {
     "data": {
      "text/plain": [
       "PosixPath('../02線形代数object')"
      ]
     },
     "execution_count": 27,
     "metadata": {},
     "output_type": "execute_result"
    }
   ],
   "source": [
    "list(p.iterdir())[2]"
   ]
  },
  {
   "cell_type": "code",
   "execution_count": 13,
   "id": "48b45db8-923d-4782-b5b5-f5be4f11719b",
   "metadata": {},
   "outputs": [],
   "source": [
    "aivis.rename_func(p, 2, 'practice_', '')"
   ]
  },
  {
   "cell_type": "code",
   "execution_count": 15,
   "id": "73c32950-192d-4859-971b-cec8e9d96caf",
   "metadata": {},
   "outputs": [],
   "source": [
    "aivis.rename_func(p, 2, '^[02]', '')"
   ]
  },
  {
   "cell_type": "markdown",
   "id": "6b664e86-19af-42ca-9459-ab3f27acab5f",
   "metadata": {},
   "source": [
    "## 新たに関数作成\n",
    "- **file名の文字列から数字を削除　->　置き換え or 空**"
   ]
  },
  {
   "cell_type": "code",
   "execution_count": 23,
   "id": "659a83cd-a102-4450-8635-5d4770fe211f",
   "metadata": {},
   "outputs": [],
   "source": [
    "import re"
   ]
  },
  {
   "cell_type": "code",
   "execution_count": 24,
   "id": "1255c64a-3e34-4106-a339-56e3daaf94a6",
   "metadata": {},
   "outputs": [],
   "source": [
    "def rename_func_num(p, idx: int, str1, str2):\n",
    "    sub_p = list(p.iterdir())[idx] # subpath　rename したい folder　選択\n",
    "    tf = list(sub_p.glob('*'))     # target_folder　内の file path取得\n",
    "    for f in tf:                   # for文で元の path を使用して振り分けと　rename　を同時に行う\n",
    "        _, n = os.path.split(f)    # split で folder, fileに分ける\n",
    "        r = re.sub(str1, str2, n)  # str1 削除したい数字　/ str2 代入したい文字列\n",
    "        os.rename(f, r)\n",
    "    return"
   ]
  },
  {
   "cell_type": "code",
   "execution_count": 29,
   "id": "76ca7e95-d0d9-4cdf-bc64-fa01f7d40112",
   "metadata": {},
   "outputs": [],
   "source": [
    "rename_func_num(p, 2, r'[02]', '')"
   ]
  },
  {
   "cell_type": "markdown",
   "id": "b2622c2b-7fac-4785-959b-9f76db3e842f",
   "metadata": {},
   "source": [
    "- **参考サイト**\n",
    "> https://www.delftstack.com/ja/howto/python/remove-numbers-from-string-python/"
   ]
  }
 ],
 "metadata": {
  "kernelspec": {
   "display_name": "Python 3",
   "language": "python",
   "name": "python3"
  },
  "language_info": {
   "codemirror_mode": {
    "name": "ipython",
    "version": 3
   },
   "file_extension": ".py",
   "mimetype": "text/x-python",
   "name": "python",
   "nbconvert_exporter": "python",
   "pygments_lexer": "ipython3",
   "version": "3.8.8"
  }
 },
 "nbformat": 4,
 "nbformat_minor": 5
}
