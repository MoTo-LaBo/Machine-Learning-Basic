{
 "cells": [
  {
   "cell_type": "markdown",
   "metadata": {},
   "source": [
    "# 行列演算の演習問題\n",
    "\n",
    "ここでは，行列計算の演習問題を実施します．\n",
    "これらの問題は，最初に紙に書いて手計算でおこなってください．次に検証も兼ねてPythonによる計算を実施してください．\n",
    "このように手計算を実施することは，理論についての理解を深めます．また，その後でPythonで計算することは，現実の問題に立ち向かうときのITノウハウを養ってくれます．\n",
    "着実に身に付けるように学習してください．\n",
    "\n",
    "- 最初に手書きで解いてください．\n",
    "- 次にPythonで解いてください．"
   ]
  },
  {
   "cell_type": "markdown",
   "metadata": {},
   "source": [
    "*****\n",
    "### 問題‐1\n",
    "\n",
    "$\n",
    "\\left(\\begin{array}{cc}\n",
    "2 & 1 \\\\ \n",
    "-3 & 7 \\\\ \n",
    "\\end{array} \\right)\n",
    "\\left(\\begin{array}{cc}\n",
    "3 & -5 \\\\ \n",
    "-4 & 1 \\\\\n",
    "\\end{array} \\right) \n",
    "$\n",
    "\n",
    "2次正方行列どうしの積です．"
   ]
  },
  {
   "cell_type": "markdown",
   "metadata": {},
   "source": [
    "*****\n",
    "### 問題‐2\n",
    "\n",
    "$\n",
    "\\left(\\begin{array}{ccc}\n",
    "1 & 0 & 0 \\\\ \n",
    "0 & 1 & 0 \\\\\n",
    "0 & 0 & 1 \\\\\n",
    "\\end{array} \\right)\n",
    "\\left(\\begin{array}{ccc}\n",
    "11 & 12 & 13 \\\\ \n",
    "21 & 22 & 23 \\\\\n",
    "31 & 32 & 33 \\\\\n",
    "\\end{array} \\right) \n",
    "$\n",
    "\n",
    "単位行列の積です．"
   ]
  },
  {
   "cell_type": "markdown",
   "metadata": {},
   "source": [
    "*****\n",
    "## 問題‐3\n",
    "\n",
    "$\n",
    "\\left(\\begin{array}{ccc}\n",
    "1 & 0 & 0 \\\\ \n",
    "0 & 0 & 1 \\\\\n",
    "0 & 1 & 0 \\\\\n",
    "\\end{array} \\right)\n",
    "\\left(\\begin{array}{ccc}\n",
    "11 & 12 & 13 \\\\ \n",
    "21 & 22 & 23 \\\\\n",
    "31 & 32 & 33 \\\\\n",
    "\\end{array} \\right) \n",
    "$\n",
    "\n",
    "行を入替える行う行列の積です．"
   ]
  },
  {
   "cell_type": "markdown",
   "metadata": {},
   "source": [
    "*****\n",
    "### 問題‐4\n",
    "\n",
    "$\n",
    "\\left(\\begin{array}{cccc}\n",
    "1 & 2 & 3 \\\\ \n",
    "4 & 5 & 6 \\\\\n",
    "\\end{array} \\right)\n",
    "\\left(\\begin{array}{ccc}\n",
    "1 & 2 \\\\ \n",
    "3 & 4 \\\\ \n",
    "5 & 6 \\\\ \n",
    "\\end{array} \\right) \n",
    "$\n",
    "\n",
    "2行3列の行列と3行2列の行列の積です．"
   ]
  },
  {
   "cell_type": "markdown",
   "metadata": {},
   "source": [
    "*****\n",
    "### 問題‐5\n",
    "\n",
    "$\n",
    "\\left(\\begin{array}{ccc}\n",
    "1 & 2 \\\\ \n",
    "3 & 4 \\\\ \n",
    "5 & 6 \\\\ \n",
    "\\end{array} \\right) \n",
    "\\left(\\begin{array}{cccc}\n",
    "1 & 2 & 3 \\\\ \n",
    "4 & 5 & 6 \\\\\n",
    "\\end{array} \\right)\n",
    "$\n",
    "\n",
    "3行2列の行列と2行3列の行列の積です．前問と比較して，行列の積についての理解を深めてください．"
   ]
  },
  {
   "cell_type": "markdown",
   "metadata": {},
   "source": [
    "*****\n",
    "### 問題‐6\n",
    "\n",
    "$\n",
    "\\left(\\begin{array}{ccc}\n",
    "3 & 4 & 5 \\\\ \n",
    "\\end{array} \\right)\n",
    "\\left(\\begin{array}{c}\n",
    "3 \\\\ \n",
    "4 \\\\ \n",
    "5 \\\\ \n",
    "\\end{array} \\right) \n",
    "$\n",
    "\n",
    "1行3列の行列と3行1列の行列の積です．"
   ]
  },
  {
   "cell_type": "markdown",
   "metadata": {},
   "source": [
    "*****\n",
    "### 問題‐7\n",
    "\n",
    "$\n",
    "\\left(\\begin{array}{c}\n",
    "3 \\\\ \n",
    "4 \\\\ \n",
    "5 \\\\ \n",
    "\\end{array} \\right) \n",
    "\\left(\\begin{array}{ccc}\n",
    "3 & 4 & 5 \\\\ \n",
    "\\end{array} \\right)\n",
    "$\n",
    "\n",
    "3行1列の行列と1行3列の行列の積です．"
   ]
  },
  {
   "cell_type": "markdown",
   "metadata": {},
   "source": [
    "*****\n",
    "### 問題‐8\n",
    "\n",
    "$\n",
    "\\left(\\begin{array}{cc}\n",
    "1+i & 2i \\\\ \n",
    "-i & -1 \\\\ \n",
    "\\end{array} \\right)\n",
    "\\left(\\begin{array}{cc}\n",
    "1-i & i \\\\ \n",
    "i & -1 \\\\\n",
    "\\end{array} \\right) \n",
    "$\n",
    "\n",
    "複素数を成分とする2次正方行列どうしの積です．"
   ]
  },
  {
   "cell_type": "markdown",
   "metadata": {},
   "source": [
    "*****\n",
    "## 解答編\n",
    "\n",
    "PythonではNumPyを使用するので，事前にインポートします．\n",
    "\n",
    "> <font color=green>import</font> numpy <font color=green>as</font> np"
   ]
  },
  {
   "cell_type": "code",
   "execution_count": 1,
   "metadata": {},
   "outputs": [],
   "source": [
    "import numpy as np"
   ]
  },
  {
   "cell_type": "markdown",
   "metadata": {},
   "source": [
    "*****\n",
    "### 解答‐1\n",
    "\n",
    "この問題は2行2列の行列どうしの積なので，計算可能です．\n",
    "まず，行列の積の手順に沿って手計算を実施します．"
   ]
  },
  {
   "cell_type": "markdown",
   "metadata": {},
   "source": [
    "\n",
    "$ \\left(\\begin{array}{cc}\n",
    "2 & 1 \\\\ \n",
    "-3 & 7 \\\\ \n",
    "\\end{array} \\right)\n",
    "\\left(\\begin{array}{cc}\n",
    "3 & -5 \\\\ \n",
    "-4 & 1 \\\\\n",
    "\\end{array} \\right) $\n",
    "$=\n",
    "\\left(\\begin{array}{cc}\n",
    "2\\times3 + 1\\times(-4) & 2\\times(-5) + 1\\times1 \\\\ \n",
    "-3\\times3 + 7\\times(-4) & -3\\times(-5) + 7\\times1 \\\\ \n",
    "\\end{array} \\right)\n",
    "$\n",
    "$=\n",
    "\\left(\\begin{array}{cc}\n",
    "6-4 & -10+1 \\\\\n",
    "-9-28 & 15+7 \\\\\n",
    "\\end{array} \\right)\n",
    "$\n",
    "$=\n",
    "\\left(\\begin{array}{cc}\n",
    "2 & -9 \\\\\n",
    "-37 & 22 \\\\\n",
    "\\end{array} \\right)\n",
    "$"
   ]
  },
  {
   "cell_type": "markdown",
   "metadata": {},
   "source": [
    "この計算をPythonで実施してみます．\n",
    "\n",
    "> np.array([[2,1],[-3,7]]).dot(np.array([[3,-5],[-4,1]]))"
   ]
  },
  {
   "cell_type": "code",
   "execution_count": 2,
   "metadata": {},
   "outputs": [
    {
     "data": {
      "text/plain": [
       "array([[  2,  -9],\n",
       "       [-37,  22]])"
      ]
     },
     "execution_count": 2,
     "metadata": {},
     "output_type": "execute_result"
    }
   ],
   "source": [
    "np.array([[2, 1], [-3, 7]]).dot(np.array([[3, -5], [-4, 1]]))"
   ]
  },
  {
   "cell_type": "markdown",
   "metadata": {},
   "source": [
    "*****\n",
    "### 解答‐2\n",
    "\n",
    "この問題は3行3列の行列どうしの積なので，計算可能です．\n",
    "この問題で注目すべきは，左側の行列が単位行列${\\bf I}_3$ということです．\n",
    "単位行列を掛けても相手側の行列の値を変更しないことを，実際に計算して確認します．"
   ]
  },
  {
   "cell_type": "markdown",
   "metadata": {},
   "source": [
    "$ \\left(\\begin{array}{ccc}\n",
    "1 & 0 & 0 \\\\ \n",
    "0 & 1 & 0 \\\\\n",
    "0 & 0 & 1 \\\\\n",
    "\\end{array} \\right)\n",
    "\\left(\\begin{array}{ccc}\n",
    "11 & 12 & 13 \\\\ \n",
    "21 & 22 & 23 \\\\\n",
    "31 & 32 & 33 \\\\\n",
    "\\end{array} \\right) $\n",
    "$ =\n",
    "\\left(\\begin{array}{cccc}\n",
    "1\\times11+0\\times21+0\\times31 & 1\\times12+0\\times22+0\\times32 & 1\\times13+0\\times23+0\\times33 \\\\ \n",
    "0\\times11+1\\times21+0\\times31 & 0\\times12+1\\times22+0\\times32 & 0\\times13+1\\times23+0\\times33 \\\\ \n",
    "0\\times11+0\\times21+1\\times31 & 0\\times12+0\\times22+1\\times32 & 0\\times13+0\\times23+1\\times33 \\\\ \n",
    "\\end{array} \\right)\n",
    "$\n",
    "$=\n",
    "\\left(\\begin{array}{ccc}\n",
    "11+0+0 & 12+0+0 & 13+0+0 \\\\ \n",
    "0+21+0 & 0+22+0 & 0+23+0 \\\\\n",
    "0+0+31 & 0+0+32 & 0+0+33 \\\\\n",
    "\\end{array} \\right) \n",
    "$\n",
    "$=\n",
    "\\left(\\begin{array}{ccc}\n",
    "11 & 12 & 13 \\\\ \n",
    "21 & 22 & 23 \\\\\n",
    "31 & 32 & 33 \\\\\n",
    "\\end{array} \\right) \n",
    "$"
   ]
  },
  {
   "cell_type": "markdown",
   "metadata": {},
   "source": [
    "計算結果として，確かに右側の行列の値を維持しました．\n",
    "これをPythonで確認します．\n",
    "3次元の単位行列は，numpy.identity(3)で生成できます．\n",
    "\n",
    "> np.identity(3).dot(np.array([[11,12,13],[21,22,23],[31,32,33]]))"
   ]
  },
  {
   "cell_type": "code",
   "execution_count": 3,
   "metadata": {},
   "outputs": [
    {
     "data": {
      "text/plain": [
       "array([[11., 12., 13.],\n",
       "       [21., 22., 23.],\n",
       "       [31., 32., 33.]])"
      ]
     },
     "execution_count": 3,
     "metadata": {},
     "output_type": "execute_result"
    }
   ],
   "source": [
    "np.identity(3).dot(np.array([[11, 12, 13], [21, 22, 23], [31, 32, 33]]))"
   ]
  },
  {
   "cell_type": "markdown",
   "metadata": {},
   "source": [
    "*****\n",
    "### 解答‐3\n",
    "\n",
    "この問題は3行3列の行列どうしの積なので，計算可能です．\n",
    "この問題で注目すべきは，左側の行列が行を入替える行列${\\bf P}_3(2,3)$ということです．\n",
    "右の行列の2行目と3行目が入れ替わることを，実際に計算して確認します．"
   ]
  },
  {
   "cell_type": "markdown",
   "metadata": {},
   "source": [
    "$ \\left(\\begin{array}{ccc}\n",
    "1 & 0 & 0 \\\\ \n",
    "0 & 0 & 1 \\\\\n",
    "0 & 1 & 0 \\\\\n",
    "\\end{array} \\right)\n",
    "\\left(\\begin{array}{ccc}\n",
    "11 & 12 & 13 \\\\ \n",
    "21 & 22 & 23 \\\\\n",
    "31 & 32 & 33 \\\\\n",
    "\\end{array} \\right) $\n",
    "$ =\n",
    "\\left(\\begin{array}{cccc}\n",
    "1\\times11+0\\times21+0\\times31 & 1\\times12+0\\times22+0\\times32 & 1\\times13+0\\times23+0\\times33 \\\\ \n",
    "0\\times11+0\\times21+1\\times31 & 0\\times12+0\\times22+1\\times32 & 0\\times13+0\\times23+1\\times33 \\\\ \n",
    "0\\times11+1\\times21+0\\times31 & 0\\times12+1\\times22+0\\times32 & 0\\times13+1\\times23+0\\times33 \\\\ \n",
    "\\end{array} \\right)\n",
    "$\n",
    "$=\n",
    "\\left(\\begin{array}{ccc}\n",
    "11+0+0 & 12+0+0 & 13+0+0 \\\\ \n",
    "0+0+31 & 0+0+32 & 0+0+33 \\\\ \n",
    "0+21+0 & 0+22+0 & 0+23+0 \\\\\n",
    "\\end{array} \\right) \n",
    "$\n",
    "$=\n",
    "\\left(\\begin{array}{ccc}\n",
    "11 & 12 & 13 \\\\ \n",
    "31 & 32 & 33 \\\\ \n",
    "21 & 22 & 23 \\\\\n",
    "\\end{array} \\right) \n",
    "$"
   ]
  },
  {
   "cell_type": "markdown",
   "metadata": {},
   "source": [
    "計算結果として，確かに右側の行列の2行目と3行目が入れ替わりました．\n",
    "これをPythonで確認します．\n",
    "\n",
    "> np.array([[1,0,0],[0,0,1],[0,1,0]]).dot(np.array([[11,12,13],[21,22,23],[31,32,33]]))"
   ]
  },
  {
   "cell_type": "code",
   "execution_count": 4,
   "metadata": {},
   "outputs": [
    {
     "data": {
      "text/plain": [
       "array([[11, 12, 13],\n",
       "       [31, 32, 33],\n",
       "       [21, 22, 23]])"
      ]
     },
     "execution_count": 4,
     "metadata": {},
     "output_type": "execute_result"
    }
   ],
   "source": [
    "np.array([[1, 0, 0], [0, 0, 1], [0, 1, 0]]).dot(np.array([[11, 12, 13], [21, 22, 23], [31, 32, 33]]))"
   ]
  },
  {
   "cell_type": "markdown",
   "metadata": {},
   "source": [
    "*****\n",
    "### 解答‐4\n",
    "\n",
    "この問題は左側の列数と右側の行数が3で等しいので計算可能です．\n",
    "2行3列の行列と3行2列の行列の積は2行2列の正方行列になります．"
   ]
  },
  {
   "cell_type": "markdown",
   "metadata": {},
   "source": [
    "$ \\left(\\begin{array}{cccc}\n",
    "1 & 2 & 3 \\\\ \n",
    "4 & 5 & 6 \\\\\n",
    "\\end{array} \\right)\n",
    "\\left(\\begin{array}{ccc}\n",
    "1 & 2 \\\\ \n",
    "3 & 4 \\\\ \n",
    "5 & 6 \\\\ \n",
    "\\end{array} \\right) $\n",
    "$ =\n",
    "\\left(\\begin{array}{cccc}\n",
    "1\\times1+2\\times3+3\\times5 & 1\\times2+2\\times4+3\\times6 \\\\ \n",
    "4\\times1+5\\times3+6\\times5 & 4\\times2+5\\times4+6\\times6 \\\\\n",
    "\\end{array} \\right)\n",
    "$\n",
    "$=\n",
    "\\left(\\begin{array}{cccc}\n",
    "1+6+15 & 2+8+18 \\\\ \n",
    "4+15+30 & 8+20+36 \\\\\n",
    "\\end{array} \\right)\n",
    "$\n",
    "$=\n",
    "\\left(\\begin{array}{cccc}\n",
    "22 & 28 \\\\ \n",
    "49 & 64 \\\\\n",
    "\\end{array} \\right)\n",
    "$"
   ]
  },
  {
   "cell_type": "markdown",
   "metadata": {},
   "source": [
    "これをPythonで確認します．\n",
    "\n",
    "> np.array([[1,2,3],[4,5,6]]).dot(np.array([[1,2],[3,4],[5,6]]))"
   ]
  },
  {
   "cell_type": "code",
   "execution_count": 5,
   "metadata": {},
   "outputs": [
    {
     "data": {
      "text/plain": [
       "array([[22, 28],\n",
       "       [49, 64]])"
      ]
     },
     "execution_count": 5,
     "metadata": {},
     "output_type": "execute_result"
    }
   ],
   "source": [
    "np.array([[1, 2, 3], [4, 5, 6]]).dot(np.array([[1, 2], [3, 4], [5, 6]]))"
   ]
  },
  {
   "cell_type": "markdown",
   "metadata": {},
   "source": [
    "*****\n",
    "### 解答‐5\n",
    "\n",
    "この問題は左側の列数と右側の行数が2で等しいので計算可能です．\n",
    "3行2列の行列と2行3列の行列の積は3行3列の正方行列になります．"
   ]
  },
  {
   "cell_type": "markdown",
   "metadata": {},
   "source": [
    "$ \\left(\\begin{array}{ccc}\n",
    "1 & 2 \\\\ \n",
    "3 & 4 \\\\ \n",
    "5 & 6 \\\\ \n",
    "\\end{array} \\right) \n",
    "\\left(\\begin{array}{cccc}\n",
    "1 & 2 & 3 \\\\ \n",
    "4 & 5 & 6 \\\\\n",
    "\\end{array} \\right) $\n",
    "$ =\n",
    "\\left(\\begin{array}{cccc}\n",
    "1\\times1+2\\times4 & 1\\times2+2\\times5 & 1\\times3+2\\times6 \\\\ \n",
    "3\\times1+4\\times4 & 3\\times2+4\\times5 & 3\\times3+4\\times6 \\\\ \n",
    "5\\times1+6\\times4 & 5\\times2+6\\times5 & 5\\times3+6\\times6 \\\\ \n",
    "\\end{array} \\right)\n",
    "$\n",
    "$=\n",
    "\\left(\\begin{array}{cccc}\n",
    "1+8  &  2+10 & 3+12 \\\\ \n",
    "3+16 &  6+20 & 9+24 \\\\\n",
    "5+24 & 10+30 & 15+36 \\\\\n",
    "\\end{array} \\right)\n",
    "$\n",
    "$=\n",
    "\\left(\\begin{array}{cccc}\n",
    " 9 & 12 & 15 \\\\ \n",
    "19 & 26 & 33 \\\\\n",
    "29 & 40 & 51 \\\\\n",
    "\\end{array} \\right)\n",
    "$"
   ]
  },
  {
   "cell_type": "markdown",
   "metadata": {},
   "source": [
    "これをPythonで確認します．\n",
    "\n",
    "> np.array([[1,2],[3,4],[5,6]]).dot(np.array([[1,2,3],[4,5,6]]))"
   ]
  },
  {
   "cell_type": "code",
   "execution_count": 6,
   "metadata": {},
   "outputs": [
    {
     "data": {
      "text/plain": [
       "array([[ 9, 12, 15],\n",
       "       [19, 26, 33],\n",
       "       [29, 40, 51]])"
      ]
     },
     "execution_count": 6,
     "metadata": {},
     "output_type": "execute_result"
    }
   ],
   "source": [
    "np.array([[1, 2], [3, 4], [5, 6]]).dot(np.array([[1, 2, 3], [4, 5, 6]]))"
   ]
  },
  {
   "cell_type": "markdown",
   "metadata": {},
   "source": [
    "*****\n",
    "### 解答‐6\n",
    "\n",
    "この問題は左側の列数と右側の行数が3で等しいので計算可能です．\n",
    "1行3列の行列と3行1の行列の積は1行1列の正方行列になりますが，これはスカラーと同一視できるので，結果は1次行列ではなく単にスカラーで表現します．"
   ]
  },
  {
   "cell_type": "markdown",
   "metadata": {},
   "source": [
    "$ \\left(\\begin{array}{ccc}\n",
    "3 & 4 & 5 \\\\ \n",
    "\\end{array} \\right)\n",
    "\\left(\\begin{array}{c}\n",
    "3 \\\\ \n",
    "4 \\\\ \n",
    "5 \\\\ \n",
    "\\end{array} \\right) $\n",
    "$ =\n",
    "\\left(\\begin{array}{cccc}\n",
    "3\\times3+4\\times4+5\\times5 \\\\ \n",
    "\\end{array} \\right)\n",
    "$\n",
    "$=\n",
    "\\left(\\begin{array}{cccc}\n",
    "9+16+25 \\\\ \n",
    "\\end{array} \\right)\n",
    "$\n",
    "$=\n",
    "\\left(\\begin{array}{cccc}\n",
    "50 \\\\ \n",
    "\\end{array} \\right)\n",
    "= 50\n",
    "$"
   ]
  },
  {
   "cell_type": "markdown",
   "metadata": {},
   "source": [
    "これをPythonで確認します．まず，数学的に正しい記述方法でプログラムを書いてみます．\n",
    "\n",
    "> np.array([3,4,5]).dot(np.array([[3],[4],[5]]))"
   ]
  },
  {
   "cell_type": "code",
   "execution_count": 7,
   "metadata": {},
   "outputs": [
    {
     "data": {
      "text/plain": [
       "array([50])"
      ]
     },
     "execution_count": 7,
     "metadata": {},
     "output_type": "execute_result"
    }
   ],
   "source": [
    "np.array([3, 4, 5]).dot(np.array([[3], [4], [5]]))"
   ]
  },
  {
   "cell_type": "markdown",
   "metadata": {},
   "source": [
    "数学的には正しい表現ではないですが，現実的プログラムでは次のように記述します．上のプログラムとの違いについて，確認してください．\n",
    "\n",
    "> np.array([3,4,5]).dot(np.array([3,4,5]))"
   ]
  },
  {
   "cell_type": "code",
   "execution_count": 8,
   "metadata": {},
   "outputs": [
    {
     "data": {
      "text/plain": [
       "50"
      ]
     },
     "execution_count": 8,
     "metadata": {},
     "output_type": "execute_result"
    }
   ],
   "source": [
    "np.array([3, 4, 5]).dot(np.array([3, 4, 5]))"
   ]
  },
  {
   "cell_type": "markdown",
   "metadata": {},
   "source": [
    "このようなPythonによる計算と数学的定義の違いを上手く利用できると，効率的なプログラムを書けるようになります．\n",
    "数学的に厳密でないプログラム仕様を見極めるポイントは，数学的には定義されていない場合であることです．\n",
    "このPythonによる記述も数学的に書けば，1行3列どうしの積\n",
    "$ \\left(\\begin{array}{ccc} 3 & 4 & 5 \\end{array} \\right) \\left(\\begin{array}{ccc} 3 & 4 & 5 \\end{array} \\right) $\n",
    "という表現なので，数学的には定義されていないものです．"
   ]
  },
  {
   "cell_type": "markdown",
   "metadata": {},
   "source": [
    "*****\n",
    "### 解答‐7\n",
    "\n",
    "この問題は左側の列数と右側の行数が1で等しいので計算可能です．\n",
    "3行1列の行列と1行3の行列の積は3行3列の正方行列になります． "
   ]
  },
  {
   "cell_type": "markdown",
   "metadata": {},
   "source": [
    "$ \\left(\\begin{array}{c}\n",
    "3 \\\\ \n",
    "4 \\\\ \n",
    "5 \\\\\n",
    "\\end{array} \\right) \n",
    "\\left(\\begin{array}{ccc}\n",
    "3 & 4 & 5 \\\\\n",
    "\\end{array} \\right) $\n",
    "$ =\n",
    "\\left(\\begin{array}{cccc}\n",
    "3\\times3 & 3\\times4 & 3\\times5 \\\\ \n",
    "4\\times3 & 4\\times4 & 4\\times5 \\\\ \n",
    "5\\times3 & 5\\times4 & 5\\times5 \\\\ \n",
    "\\end{array} \\right)\n",
    "$\n",
    "$=\n",
    "\\left(\\begin{array}{cccc}\n",
    " 9 & 12 & 15 \\\\\n",
    "12 & 16 & 20 \\\\\n",
    "15 & 20 & 25 \\\\\n",
    "\\end{array} \\right) \n",
    "$"
   ]
  },
  {
   "cell_type": "markdown",
   "metadata": {},
   "source": [
    "これをPythonで確認します．\n",
    "次のように記載すれば良いかと思われるかもしれませんが，このように記載するとエラーとなります．\n",
    "\n",
    "> <font color=red>np.array([[3],[4],[5]]).dot(np.array([3,4,5])) </font>\n",
    "\n",
    "Pythonに右側のオブジェクトが1行3列の行列であることを明示するために配列を2重配列で定義します．\n",
    "\n",
    "> np.array([[3],[4],[5]]).dot(np.array([[3,4,5]]))"
   ]
  },
  {
   "cell_type": "code",
   "execution_count": 9,
   "metadata": {},
   "outputs": [
    {
     "data": {
      "text/plain": [
       "array([[ 9, 12, 15],\n",
       "       [12, 16, 20],\n",
       "       [15, 20, 25]])"
      ]
     },
     "execution_count": 9,
     "metadata": {},
     "output_type": "execute_result"
    }
   ],
   "source": [
    "np.array([[3], [4], [5]]).dot(np.array([[3, 4, 5]]))"
   ]
  },
  {
   "cell_type": "markdown",
   "metadata": {},
   "source": [
    "*****\n",
    "### 解答‐8\n",
    "\n",
    "この問題は2行2列の行列どうしの積なので，計算可能です．\n",
    "まず，行列の積の手順に沿って手計算を実施します．"
   ]
  },
  {
   "cell_type": "markdown",
   "metadata": {},
   "source": [
    "$ \\left(\\begin{array}{cc}\n",
    "1+i & 2i \\\\ \n",
    "-i & -1 \\\\ \n",
    "\\end{array} \\right)\n",
    "\\left(\\begin{array}{cc}\n",
    "1-i & i \\\\ \n",
    "i & -1 \\\\\n",
    "\\end{array} \\right) $\n",
    "$ =\n",
    "\\left(\\begin{array}{cc}\n",
    "(1+i)\\times(1-i) + 2i\\times i & (1+i)\\times i + 2i\\times(-1) \\\\ \n",
    "-i\\times(1-i) + (-1)\\times i & -i\\times i + (-1)\\times(-1) \\\\ \n",
    "\\end{array} \\right)\n",
    "$\n",
    "$=\n",
    "\\left(\\begin{array}{cc}\n",
    "2-2 & i-1 - 2i \\\\\n",
    "-i-1 - i & 1 + 1 \\\\\n",
    "\\end{array} \\right)\n",
    "$\n",
    "$=\n",
    "\\left(\\begin{array}{cc}\n",
    "0 & -1-i \\\\\n",
    "-1-2i & 2 \\\\\n",
    "\\end{array} \\right)\n",
    "$"
   ]
  },
  {
   "cell_type": "markdown",
   "metadata": {},
   "source": [
    "この計算をPythonで実施してみます．\n",
    "Pythonで虚数単位は$j$で表し，虚数単位の前には必ず数字を記載します．\n",
    "\n",
    "> np.array([[1+1j,2j],[-1j,-1]]).dot(np.array([[1-1j,1j],[1j,-1]]))"
   ]
  },
  {
   "cell_type": "code",
   "execution_count": 10,
   "metadata": {},
   "outputs": [
    {
     "data": {
      "text/plain": [
       "array([[ 0.+0.j, -1.-1.j],\n",
       "       [-1.-2.j,  2.+0.j]])"
      ]
     },
     "execution_count": 10,
     "metadata": {},
     "output_type": "execute_result"
    }
   ],
   "source": [
    "np.array([[1+1j, 2j], [-1j, -1]]).dot(np.array([[1-1j, 1j], [1j, -1]]))"
   ]
  },
  {
   "cell_type": "markdown",
   "metadata": {},
   "source": [
    "このように計算結果がゼロの成分でもオブジェクト型が複素数なので$0+0j$となります．\n",
    "*****"
   ]
  }
 ],
 "metadata": {
  "interpreter": {
   "hash": "40d3a090f54c6569ab1632332b64b2c03c39dcf918b08424e98f38b5ae0af88f"
  },
  "kernelspec": {
   "display_name": "Python 3.8.8 64-bit ('base': conda)",
   "name": "python3"
  },
  "language_info": {
   "codemirror_mode": {
    "name": "ipython",
    "version": 3
   },
   "file_extension": ".py",
   "mimetype": "text/x-python",
   "name": "python",
   "nbconvert_exporter": "python",
   "pygments_lexer": "ipython3",
   "version": "3.8.8"
  }
 },
 "nbformat": 4,
 "nbformat_minor": 4
}
