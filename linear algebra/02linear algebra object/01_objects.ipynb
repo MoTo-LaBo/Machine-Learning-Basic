{
 "cells": [
  {
   "cell_type": "markdown",
   "metadata": {},
   "source": [
    "# Object型(オブジェクト型)\n",
    "\n",
    "Pythonにおいて実数は，float型ないしはint型の数値として扱われます． Pythonでは変数のデータ型を明示的に指定しませんが，変数に数値を代入することによって適切なデータ型になります．\n",
    "\n",
    "オブジェクトのデータ型は，type()関数の引数に対象となるオブジェクトを渡すことによって確認できます．\n",
    "type()関数の構文は次の通りです．\n",
    "\n",
    "> <font color=green>type(<font color=blue>*object*</font>)</font>"
   ]
  },
  {
   "cell_type": "markdown",
   "metadata": {},
   "source": [
    "Codeセルに次のように記入して実行してみましょう．\n",
    "\n",
    "> type(123)"
   ]
  },
  {
   "cell_type": "code",
   "execution_count": 1,
   "metadata": {},
   "outputs": [
    {
     "data": {
      "text/plain": [
       "int"
      ]
     },
     "execution_count": 1,
     "metadata": {},
     "output_type": "execute_result"
    }
   ],
   "source": [
    "type(123)"
   ]
  },
  {
   "cell_type": "markdown",
   "metadata": {},
   "source": [
    "Codeセルに次のように記入して実行してみましょう．\n",
    "\n",
    "> type(12.3)"
   ]
  },
  {
   "cell_type": "code",
   "execution_count": 2,
   "metadata": {},
   "outputs": [
    {
     "data": {
      "text/plain": [
       "float"
      ]
     },
     "execution_count": 2,
     "metadata": {},
     "output_type": "execute_result"
    }
   ],
   "source": [
    "type(12.3)"
   ]
  },
  {
   "cell_type": "markdown",
   "metadata": {},
   "source": [
    "Codeセルに次のように記入して実行してみましょう．\n",
    "\n",
    "> type(1+1j)"
   ]
  },
  {
   "cell_type": "code",
   "execution_count": 3,
   "metadata": {},
   "outputs": [
    {
     "data": {
      "text/plain": [
       "complex"
      ]
     },
     "execution_count": 3,
     "metadata": {},
     "output_type": "execute_result"
    }
   ],
   "source": [
    "type(1+1j)"
   ]
  },
  {
   "cell_type": "markdown",
   "metadata": {},
   "source": [
    "複素数の表現で分かるように<font color=blue>Pythonでは虚数単位を $i$ ではなく $j$ </font>を用いている点に気を付けてください． また， $1+j$ と記載すると $j$ を変数と認識してしまうので， $j$ の前には必ず数値を明記することにも注意してください．"
   ]
  },
  {
   "cell_type": "markdown",
   "metadata": {},
   "source": [
    "*****\n",
    "# ベクトル\n",
    "\n",
    "Pythonでベクトルおよび行列を扱うにはNumPyライブラリーを利用します．\n",
    "次のインポート文にてNumPyライブラリーを利用可能にします．\n",
    "\n",
    "> <font color=green>import</font> numpy <font color=green>as</font> np\n",
    "\n",
    "ここで別名にnpを指定していますが，Pythonの利用者の間では慣用的に使われている別名ですので，私たちもこの別名を使うことにします．"
   ]
  },
  {
   "cell_type": "code",
   "execution_count": 4,
   "metadata": {
    "tags": []
   },
   "outputs": [],
   "source": [
    "import numpy as np"
   ]
  },
  {
   "cell_type": "markdown",
   "metadata": {},
   "source": [
    "さて，Pythonにおいてベクトルはndarrayオブジェクトとして保有します．\n",
    "例として3次元のベクトル (1,2,3) を持つndarrayオブジェクトの変数myArrayを生成します．\n",
    "\n",
    "> myArray = np.array([1,2,3])  \n",
    "> myArray"
   ]
  },
  {
   "cell_type": "code",
   "execution_count": 5,
   "metadata": {},
   "outputs": [
    {
     "data": {
      "text/plain": [
       "array([1, 2, 3])"
      ]
     },
     "execution_count": 5,
     "metadata": {},
     "output_type": "execute_result"
    }
   ],
   "source": [
    "ndarray = np.array([1,2,3])\n",
    "ndarray"
   ]
  },
  {
   "cell_type": "markdown",
   "metadata": {},
   "source": [
    "この変数のオブジェクト型を確認します．\n",
    "\n",
    "> type(myArray)"
   ]
  },
  {
   "cell_type": "code",
   "execution_count": 6,
   "metadata": {},
   "outputs": [
    {
     "data": {
      "text/plain": [
       "numpy.ndarray"
      ]
     },
     "execution_count": 6,
     "metadata": {},
     "output_type": "execute_result"
    }
   ],
   "source": [
    "type(ndarray)"
   ]
  },
  {
   "cell_type": "markdown",
   "metadata": {},
   "source": [
    "Pythonを使うことによって，大きなベクトルも簡単に作ることができます．\n",
    "例として，1から10を値として持つベクトルを定義してみます．\n",
    "\n",
    "> np.array(range(1,11))"
   ]
  },
  {
   "cell_type": "code",
   "execution_count": 8,
   "metadata": {},
   "outputs": [
    {
     "data": {
      "text/plain": [
       "array([ 1,  2,  3,  4,  5,  6,  7,  8,  9, 10])"
      ]
     },
     "execution_count": 8,
     "metadata": {},
     "output_type": "execute_result"
    }
   ],
   "source": [
    "ndarray1 = np.array(range(1,11))\n",
    "ndarray1"
   ]
  },
  {
   "cell_type": "markdown",
   "metadata": {},
   "source": [
    "*****\n",
    "# 行列\n",
    "\n",
    "行列はNumPyの二重配列によって定義します．\n",
    "例として，次の3行4列の行列を定義します．\n",
    "\n",
    "$\\left(\\begin{array}{cc}\n",
    "1 & 2 & 3 & 4 \\\\ \n",
    "5 & 6 & 7 & 8 \\\\ \n",
    "9 & 10 & 11 & 12 \\\\\n",
    "\\end{array} \\right)$\n",
    "\n",
    "> myMatrix = np.array([[1,2,3,4],[5,6,7,8],[9,10,11,12]])  \n",
    "> myMatrix"
   ]
  },
  {
   "cell_type": "code",
   "execution_count": 9,
   "metadata": {},
   "outputs": [
    {
     "data": {
      "text/plain": [
       "array([[ 1,  2,  3,  4],\n",
       "       [ 5,  6,  7,  8],\n",
       "       [ 9, 10, 11, 12]])"
      ]
     },
     "execution_count": 9,
     "metadata": {},
     "output_type": "execute_result"
    }
   ],
   "source": [
    "myMatrix = np.array([[1,2,3,4],[5,6,7,8],[9,10,11,12]])\n",
    "myMatrix"
   ]
  },
  {
   "cell_type": "markdown",
   "metadata": {},
   "source": [
    "2行3列目の要素にアクセスしてみましょう．ただし，Pythonのインデックスは0から始まるので，<font color=blue>行と列のインデックスの値をそれぞれ-1して指定する</font>必要があります．\n",
    "\n",
    "> myMatrix[1,2]"
   ]
  },
  {
   "cell_type": "code",
   "execution_count": 10,
   "metadata": {},
   "outputs": [
    {
     "data": {
      "text/plain": [
       "7"
      ]
     },
     "execution_count": 10,
     "metadata": {},
     "output_type": "execute_result"
    }
   ],
   "source": [
    "myMatrix[1,2]"
   ]
  },
  {
   "cell_type": "markdown",
   "metadata": {},
   "source": [
    "以上です．\n",
    "*****"
   ]
  }
 ],
 "metadata": {
  "kernelspec": {
   "display_name": "Python 3",
   "language": "python",
   "name": "python3"
  },
  "language_info": {
   "codemirror_mode": {
    "name": "ipython",
    "version": 3
   },
   "file_extension": ".py",
   "mimetype": "text/x-python",
   "name": "python",
   "nbconvert_exporter": "python",
   "pygments_lexer": "ipython3",
   "version": "3.8.8"
  }
 },
 "nbformat": 4,
 "nbformat_minor": 4
}
