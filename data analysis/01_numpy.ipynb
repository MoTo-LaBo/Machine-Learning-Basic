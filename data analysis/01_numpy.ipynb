{
 "cells": [
  {
   "cell_type": "markdown",
   "id": "c5e51b0a-fe9b-4d60-8883-a5e965ffe751",
   "metadata": {},
   "source": [
    "# Numpy"
   ]
  },
  {
   "cell_type": "markdown",
   "id": "35047246-2bd7-4a38-9894-9eb3b7dbd11c",
   "metadata": {},
   "source": [
    "### 高速な線形代数のライブラリ\n",
    "- <u>**線形代数のための行列**</u>\n",
    "    - *array, zeros, ones, eye などの行列*\n",
    "\n",
    "\n",
    "- <u>**便利で高速な演算**</u>\n",
    "    - ベクトル演算やブロードキャスト・統計処理\n",
    "\n",
    "\n",
    "- <u>**乱数系 module**</u>\n",
    "\n",
    "\n",
    "- <u>**配列の便利な操作**</u>\n",
    "    - 条件抽出, file入出力\n",
    "\n",
    "\n",
    "- <u>**線形代数用の関数**</u>\n",
    "    - 逆行列を求める、固有値を求める"
   ]
  },
  {
   "cell_type": "markdown",
   "id": "305cb084-f4cb-4fc1-a216-26ffa1b2bac1",
   "metadata": {},
   "source": [
    "## 行列の生成"
   ]
  },
  {
   "cell_type": "code",
   "execution_count": 1,
   "id": "f6917279-9238-472d-908f-43502510909b",
   "metadata": {},
   "outputs": [],
   "source": [
    "import numpy as np"
   ]
  },
  {
   "cell_type": "code",
   "execution_count": 2,
   "id": "21977de3-6d62-48af-91d4-fe90b3a04817",
   "metadata": {},
   "outputs": [
    {
     "data": {
      "text/plain": [
       "array([1, 2, 3])"
      ]
     },
     "execution_count": 2,
     "metadata": {},
     "output_type": "execute_result"
    }
   ],
   "source": [
    "arr1 = np.array([1, 2, 3])\n",
    "arr1"
   ]
  },
  {
   "cell_type": "code",
   "execution_count": 4,
   "id": "68d98adf-df20-42eb-889e-ca073215e594",
   "metadata": {},
   "outputs": [
    {
     "name": "stdout",
     "output_type": "stream",
     "text": [
      "[1 2 3]\n"
     ]
    }
   ],
   "source": [
    "print(arr1)"
   ]
  },
  {
   "cell_type": "code",
   "execution_count": 5,
   "id": "25302cee-00a9-4617-836b-1888a9866f00",
   "metadata": {},
   "outputs": [],
   "source": [
    "arr2 = np.array([4, 5, 6])"
   ]
  },
  {
   "cell_type": "code",
   "execution_count": 6,
   "id": "7e4f9fc8-06e0-473e-a19a-55a782c15f3c",
   "metadata": {},
   "outputs": [
    {
     "data": {
      "text/plain": [
       "array([5, 7, 9])"
      ]
     },
     "execution_count": 6,
     "metadata": {},
     "output_type": "execute_result"
    }
   ],
   "source": [
    "arr1 + arr2"
   ]
  },
  {
   "cell_type": "code",
   "execution_count": 7,
   "id": "ac57a0ea-c62e-4161-871d-d316bd37555f",
   "metadata": {},
   "outputs": [
    {
     "data": {
      "text/plain": [
       "array([[1, 2],\n",
       "       [3, 4],\n",
       "       [5, 6]])"
      ]
     },
     "execution_count": 7,
     "metadata": {},
     "output_type": "execute_result"
    }
   ],
   "source": [
    "arr3 = np.array([[1, 2], [3, 4], [5, 6]])\n",
    "arr3"
   ]
  },
  {
   "cell_type": "code",
   "execution_count": 8,
   "id": "c4ea7c38-b721-4a56-a7c2-0e4308b35f42",
   "metadata": {},
   "outputs": [
    {
     "name": "stdout",
     "output_type": "stream",
     "text": [
      "[[1 2]\n",
      " [3 4]\n",
      " [5 6]]\n"
     ]
    }
   ],
   "source": [
    "print(arr3)"
   ]
  },
  {
   "cell_type": "code",
   "execution_count": 9,
   "id": "20800337-b493-420e-ac1f-44b494f9f52c",
   "metadata": {},
   "outputs": [
    {
     "data": {
      "text/plain": [
       "(3, 2)"
      ]
     },
     "execution_count": 9,
     "metadata": {},
     "output_type": "execute_result"
    }
   ],
   "source": [
    "arr3.shape"
   ]
  },
  {
   "cell_type": "code",
   "execution_count": 10,
   "id": "c75a91bd-52c1-41de-a08f-686c33de62db",
   "metadata": {},
   "outputs": [
    {
     "data": {
      "text/plain": [
       "3"
      ]
     },
     "execution_count": 10,
     "metadata": {},
     "output_type": "execute_result"
    }
   ],
   "source": [
    "arr3.shape[0]"
   ]
  },
  {
   "cell_type": "code",
   "execution_count": 11,
   "id": "a1413d3e-a143-42cb-b7d1-a68c995f56f3",
   "metadata": {},
   "outputs": [
    {
     "data": {
      "text/plain": [
       "array([0, 1, 2, 3, 4, 5, 6, 7, 8, 9])"
      ]
     },
     "execution_count": 11,
     "metadata": {},
     "output_type": "execute_result"
    }
   ],
   "source": [
    "arr4 = np.arange(10)\n",
    "arr4"
   ]
  },
  {
   "cell_type": "code",
   "execution_count": 12,
   "id": "8f30a043-75b9-4dee-9d22-60f857846554",
   "metadata": {},
   "outputs": [
    {
     "data": {
      "text/plain": [
       "array([[0, 1, 2],\n",
       "       [3, 4, 5],\n",
       "       [6, 7, 8]])"
      ]
     },
     "execution_count": 12,
     "metadata": {},
     "output_type": "execute_result"
    }
   ],
   "source": [
    "np.arange(9).reshape(3, 3)"
   ]
  },
  {
   "cell_type": "code",
   "execution_count": 14,
   "id": "c86d2a3c-7333-4355-b34a-ea08e56c2f84",
   "metadata": {},
   "outputs": [
    {
     "data": {
      "text/plain": [
       "array([1, 2, 3, 4, 5, 6])"
      ]
     },
     "execution_count": 14,
     "metadata": {},
     "output_type": "execute_result"
    }
   ],
   "source": [
    "# -1 で 1次元配列に直す事ができる\n",
    "arr3.reshape(-1)"
   ]
  },
  {
   "cell_type": "code",
   "execution_count": 15,
   "id": "56614e7c-fb90-49a9-b6a8-982bdaec8a33",
   "metadata": {},
   "outputs": [
    {
     "data": {
      "text/plain": [
       "array([0., 0., 0.])"
      ]
     },
     "execution_count": 15,
     "metadata": {},
     "output_type": "execute_result"
    }
   ],
   "source": [
    "np.zeros(3)"
   ]
  },
  {
   "cell_type": "code",
   "execution_count": 16,
   "id": "e57c13d3-b5ad-4de4-ab74-e22205e1db0e",
   "metadata": {},
   "outputs": [
    {
     "data": {
      "text/plain": [
       "array([[0., 0., 0.],\n",
       "       [0., 0., 0.],\n",
       "       [0., 0., 0.]])"
      ]
     },
     "execution_count": 16,
     "metadata": {},
     "output_type": "execute_result"
    }
   ],
   "source": [
    "np.zeros([3, 3])"
   ]
  },
  {
   "cell_type": "code",
   "execution_count": 18,
   "id": "083891dc-6ccd-4260-8709-c2bdb436d74f",
   "metadata": {},
   "outputs": [
    {
     "data": {
      "text/plain": [
       "array([[1., 1., 1., 1.],\n",
       "       [1., 1., 1., 1.],\n",
       "       [1., 1., 1., 1.]])"
      ]
     },
     "execution_count": 18,
     "metadata": {},
     "output_type": "execute_result"
    }
   ],
   "source": [
    "np.ones([3, 4])"
   ]
  },
  {
   "cell_type": "code",
   "execution_count": 19,
   "id": "5f1ae979-4a46-4975-8704-eb6806296064",
   "metadata": {},
   "outputs": [
    {
     "data": {
      "text/plain": [
       "array([[0., 0., 0.],\n",
       "       [0., 0., 0.],\n",
       "       [0., 0., 0.]])"
      ]
     },
     "execution_count": 19,
     "metadata": {},
     "output_type": "execute_result"
    }
   ],
   "source": [
    "np.empty([3, 3])"
   ]
  },
  {
   "cell_type": "code",
   "execution_count": 20,
   "id": "4de94493-60c7-4010-afcc-1e29079c99ea",
   "metadata": {},
   "outputs": [
    {
     "data": {
      "text/plain": [
       "array([[1., 0., 0., 0., 0.],\n",
       "       [0., 1., 0., 0., 0.],\n",
       "       [0., 0., 1., 0., 0.],\n",
       "       [0., 0., 0., 1., 0.],\n",
       "       [0., 0., 0., 0., 1.]])"
      ]
     },
     "execution_count": 20,
     "metadata": {},
     "output_type": "execute_result"
    }
   ],
   "source": [
    "np.eye(5)"
   ]
  },
  {
   "cell_type": "code",
   "execution_count": 21,
   "id": "80982460-3b2b-48fd-9ed7-e43282e90abf",
   "metadata": {},
   "outputs": [
    {
     "data": {
      "text/plain": [
       "array([[-1.09543108, -1.57584427, -1.28825637],\n",
       "       [-0.6038241 , -1.02287948,  0.63187352],\n",
       "       [ 1.02508182, -0.83051028,  1.25701745]])"
      ]
     },
     "execution_count": 21,
     "metadata": {},
     "output_type": "execute_result"
    }
   ],
   "source": [
    "# 正規分布に従う　: 平均値が０, 標準偏差が±1\n",
    "np.random.randn(3, 3)"
   ]
  },
  {
   "cell_type": "markdown",
   "id": "d529ef2b-fe6f-4680-9017-5260c50baec8",
   "metadata": {},
   "source": [
    "## 行列のindex, bool index参照"
   ]
  },
  {
   "cell_type": "code",
   "execution_count": 23,
   "id": "bd322422-d043-4175-9c14-949fd50ad0b6",
   "metadata": {},
   "outputs": [
    {
     "data": {
      "text/plain": [
       "array([0, 1, 2, 3, 4, 5, 6, 7, 8])"
      ]
     },
     "execution_count": 23,
     "metadata": {},
     "output_type": "execute_result"
    }
   ],
   "source": [
    "arr1 = np.arange(9)\n",
    "arr1"
   ]
  },
  {
   "cell_type": "code",
   "execution_count": 24,
   "id": "78655353-2c18-43a0-8a3c-a8519ead86a4",
   "metadata": {},
   "outputs": [
    {
     "data": {
      "text/plain": [
       "3"
      ]
     },
     "execution_count": 24,
     "metadata": {},
     "output_type": "execute_result"
    }
   ],
   "source": [
    "arr1[3]"
   ]
  },
  {
   "cell_type": "code",
   "execution_count": 25,
   "id": "b2aa0c20-0212-4a1a-8cc6-ce751cc2a59f",
   "metadata": {},
   "outputs": [
    {
     "data": {
      "text/plain": [
       "8"
      ]
     },
     "execution_count": 25,
     "metadata": {},
     "output_type": "execute_result"
    }
   ],
   "source": [
    "arr1[-1]"
   ]
  },
  {
   "cell_type": "code",
   "execution_count": 26,
   "id": "658c00d5-82b5-4041-8c79-c8b7d4145e80",
   "metadata": {},
   "outputs": [
    {
     "data": {
      "text/plain": [
       "array([0, 1, 2, 3])"
      ]
     },
     "execution_count": 26,
     "metadata": {},
     "output_type": "execute_result"
    }
   ],
   "source": [
    "arr1[:4]"
   ]
  },
  {
   "cell_type": "code",
   "execution_count": 28,
   "id": "42fbbb87-02fa-48cc-be06-fca9c4d1cf1a",
   "metadata": {},
   "outputs": [
    {
     "data": {
      "text/plain": [
       "array([4, 5, 6, 7, 8])"
      ]
     },
     "execution_count": 28,
     "metadata": {},
     "output_type": "execute_result"
    }
   ],
   "source": [
    "arr1[4:]"
   ]
  },
  {
   "cell_type": "code",
   "execution_count": 29,
   "id": "d34ffee2-9838-4429-a77d-bf1159bd38b0",
   "metadata": {},
   "outputs": [
    {
     "data": {
      "text/plain": [
       "array([[0, 1, 2],\n",
       "       [3, 4, 5],\n",
       "       [6, 7, 8]])"
      ]
     },
     "execution_count": 29,
     "metadata": {},
     "output_type": "execute_result"
    }
   ],
   "source": [
    "arr2 = np.arange(9).reshape([3, 3])\n",
    "arr2"
   ]
  },
  {
   "cell_type": "code",
   "execution_count": 30,
   "id": "8bb80901-ea99-4501-9596-869b6e68bbfc",
   "metadata": {},
   "outputs": [
    {
     "data": {
      "text/plain": [
       "0"
      ]
     },
     "execution_count": 30,
     "metadata": {},
     "output_type": "execute_result"
    }
   ],
   "source": [
    "arr2[0, 0]"
   ]
  },
  {
   "cell_type": "code",
   "execution_count": 31,
   "id": "fd69c740-4503-4fd2-b369-1617fb2fb444",
   "metadata": {},
   "outputs": [
    {
     "data": {
      "text/plain": [
       "1"
      ]
     },
     "execution_count": 31,
     "metadata": {},
     "output_type": "execute_result"
    }
   ],
   "source": [
    "arr2[0, 1]"
   ]
  },
  {
   "cell_type": "code",
   "execution_count": 33,
   "id": "c469edaf-6755-4c7f-bc6c-ab18aee0e94c",
   "metadata": {},
   "outputs": [
    {
     "data": {
      "text/plain": [
       "array([[0, 1, 2]])"
      ]
     },
     "execution_count": 33,
     "metadata": {},
     "output_type": "execute_result"
    }
   ],
   "source": [
    "arr2[:1]"
   ]
  },
  {
   "cell_type": "code",
   "execution_count": 34,
   "id": "fe108565-8cc7-4408-84cc-78c4c555d0f1",
   "metadata": {},
   "outputs": [
    {
     "data": {
      "text/plain": [
       "array([[3, 4, 5],\n",
       "       [6, 7, 8]])"
      ]
     },
     "execution_count": 34,
     "metadata": {},
     "output_type": "execute_result"
    }
   ],
   "source": [
    "arr2[1:]"
   ]
  },
  {
   "cell_type": "code",
   "execution_count": 35,
   "id": "1ef461c2-2f18-4a9b-afd4-1af7231278fa",
   "metadata": {},
   "outputs": [
    {
     "data": {
      "text/plain": [
       "array([[False, False, False],\n",
       "       [False, False,  True],\n",
       "       [ True,  True,  True]])"
      ]
     },
     "execution_count": 35,
     "metadata": {},
     "output_type": "execute_result"
    }
   ],
   "source": [
    "arr2 > 4"
   ]
  },
  {
   "cell_type": "code",
   "execution_count": 37,
   "id": "03fccaff-b119-4d2d-af4d-3c78059109f2",
   "metadata": {},
   "outputs": [
    {
     "data": {
      "text/plain": [
       "array([5, 6, 7, 8])"
      ]
     },
     "execution_count": 37,
     "metadata": {},
     "output_type": "execute_result"
    }
   ],
   "source": [
    "arr2[arr2 > 4]"
   ]
  },
  {
   "cell_type": "markdown",
   "id": "0f54c4c3-2fc8-4a2c-820f-da3a97135bd4",
   "metadata": {},
   "source": [
    "## ユニバーサル関数\n",
    "- 複数の要素に作用させる関数"
   ]
  },
  {
   "cell_type": "code",
   "execution_count": 38,
   "id": "124569b2-8996-4ba0-a5d1-a6f807371469",
   "metadata": {},
   "outputs": [
    {
     "data": {
      "text/plain": [
       "array([ 0,  3,  6,  9, 12, 15, 18, 21, 24])"
      ]
     },
     "execution_count": 38,
     "metadata": {},
     "output_type": "execute_result"
    }
   ],
   "source": [
    "3 * arr1"
   ]
  },
  {
   "cell_type": "code",
   "execution_count": 40,
   "id": "0fa29278-c2a8-4747-82ba-4ae638c8b210",
   "metadata": {},
   "outputs": [
    {
     "data": {
      "text/plain": [
       "array([1, 2, 3, 4, 5, 6, 7, 8, 9])"
      ]
     },
     "execution_count": 40,
     "metadata": {},
     "output_type": "execute_result"
    }
   ],
   "source": [
    "arr1 + 1"
   ]
  },
  {
   "cell_type": "code",
   "execution_count": 41,
   "id": "5ae804c2-6d3b-4103-b28e-08172a1398f6",
   "metadata": {},
   "outputs": [
    {
     "data": {
      "text/plain": [
       "array([ 0.        ,  0.84147098,  0.90929743,  0.14112001, -0.7568025 ,\n",
       "       -0.95892427, -0.2794155 ,  0.6569866 ,  0.98935825])"
      ]
     },
     "execution_count": 41,
     "metadata": {},
     "output_type": "execute_result"
    }
   ],
   "source": [
    "np.sin(arr1)"
   ]
  },
  {
   "cell_type": "code",
   "execution_count": 42,
   "id": "2e83c4e5-06d9-4fe9-8b37-a4a24568c971",
   "metadata": {},
   "outputs": [
    {
     "data": {
      "text/plain": [
       "array([1.00000000e+00, 2.71828183e+00, 7.38905610e+00, 2.00855369e+01,\n",
       "       5.45981500e+01, 1.48413159e+02, 4.03428793e+02, 1.09663316e+03,\n",
       "       2.98095799e+03])"
      ]
     },
     "execution_count": 42,
     "metadata": {},
     "output_type": "execute_result"
    }
   ],
   "source": [
    "np.exp(arr1)"
   ]
  },
  {
   "cell_type": "markdown",
   "id": "bcce6a92-d652-48e0-a8a2-5b5720afabfe",
   "metadata": {},
   "source": [
    "- **多くの数学関数はユニバーサル関数なので for loop を回さなくても取得できる**"
   ]
  },
  {
   "cell_type": "markdown",
   "id": "11a5c732-d023-4eed-970b-f6b24901c7a3",
   "metadata": {},
   "source": [
    "## 行列のfile入出力"
   ]
  },
  {
   "cell_type": "code",
   "execution_count": 43,
   "id": "d3baeb7c-f542-46c3-a149-6e57658a0a8c",
   "metadata": {},
   "outputs": [
    {
     "ename": "ValueError",
     "evalue": "could not convert string to float: ''",
     "output_type": "error",
     "traceback": [
      "\u001b[0;31m---------------------------------------------------------------------------\u001b[0m",
      "\u001b[0;31mValueError\u001b[0m                                Traceback (most recent call last)",
      "\u001b[0;32m<ipython-input-43-6262b4ad7e7f>\u001b[0m in \u001b[0;36m<module>\u001b[0;34m\u001b[0m\n\u001b[0;32m----> 1\u001b[0;31m \u001b[0marr1\u001b[0m \u001b[0;34m=\u001b[0m \u001b[0mnp\u001b[0m\u001b[0;34m.\u001b[0m\u001b[0mloadtxt\u001b[0m\u001b[0;34m(\u001b[0m\u001b[0;34m\"./resources/brownian_x.csv\"\u001b[0m\u001b[0;34m,\u001b[0m \u001b[0mdelimiter\u001b[0m\u001b[0;34m=\u001b[0m\u001b[0;34m','\u001b[0m\u001b[0;34m)\u001b[0m\u001b[0;34m\u001b[0m\u001b[0;34m\u001b[0m\u001b[0m\n\u001b[0m",
      "\u001b[0;32m/opt/anaconda3/lib/python3.8/site-packages/numpy/lib/npyio.py\u001b[0m in \u001b[0;36mloadtxt\u001b[0;34m(fname, dtype, comments, delimiter, converters, skiprows, usecols, unpack, ndmin, encoding, max_rows, like)\u001b[0m\n\u001b[1;32m   1144\u001b[0m         \u001b[0;31m# converting the data\u001b[0m\u001b[0;34m\u001b[0m\u001b[0;34m\u001b[0m\u001b[0;34m\u001b[0m\u001b[0m\n\u001b[1;32m   1145\u001b[0m         \u001b[0mX\u001b[0m \u001b[0;34m=\u001b[0m \u001b[0;32mNone\u001b[0m\u001b[0;34m\u001b[0m\u001b[0;34m\u001b[0m\u001b[0m\n\u001b[0;32m-> 1146\u001b[0;31m         \u001b[0;32mfor\u001b[0m \u001b[0mx\u001b[0m \u001b[0;32min\u001b[0m \u001b[0mread_data\u001b[0m\u001b[0;34m(\u001b[0m\u001b[0m_loadtxt_chunksize\u001b[0m\u001b[0;34m)\u001b[0m\u001b[0;34m:\u001b[0m\u001b[0;34m\u001b[0m\u001b[0;34m\u001b[0m\u001b[0m\n\u001b[0m\u001b[1;32m   1147\u001b[0m             \u001b[0;32mif\u001b[0m \u001b[0mX\u001b[0m \u001b[0;32mis\u001b[0m \u001b[0;32mNone\u001b[0m\u001b[0;34m:\u001b[0m\u001b[0;34m\u001b[0m\u001b[0;34m\u001b[0m\u001b[0m\n\u001b[1;32m   1148\u001b[0m                 \u001b[0mX\u001b[0m \u001b[0;34m=\u001b[0m \u001b[0mnp\u001b[0m\u001b[0;34m.\u001b[0m\u001b[0marray\u001b[0m\u001b[0;34m(\u001b[0m\u001b[0mx\u001b[0m\u001b[0;34m,\u001b[0m \u001b[0mdtype\u001b[0m\u001b[0;34m)\u001b[0m\u001b[0;34m\u001b[0m\u001b[0;34m\u001b[0m\u001b[0m\n",
      "\u001b[0;32m/opt/anaconda3/lib/python3.8/site-packages/numpy/lib/npyio.py\u001b[0m in \u001b[0;36mread_data\u001b[0;34m(chunk_size)\u001b[0m\n\u001b[1;32m    995\u001b[0m \u001b[0;34m\u001b[0m\u001b[0m\n\u001b[1;32m    996\u001b[0m             \u001b[0;31m# Convert each value according to its column and store\u001b[0m\u001b[0;34m\u001b[0m\u001b[0;34m\u001b[0m\u001b[0;34m\u001b[0m\u001b[0m\n\u001b[0;32m--> 997\u001b[0;31m             \u001b[0mitems\u001b[0m \u001b[0;34m=\u001b[0m \u001b[0;34m[\u001b[0m\u001b[0mconv\u001b[0m\u001b[0;34m(\u001b[0m\u001b[0mval\u001b[0m\u001b[0;34m)\u001b[0m \u001b[0;32mfor\u001b[0m \u001b[0;34m(\u001b[0m\u001b[0mconv\u001b[0m\u001b[0;34m,\u001b[0m \u001b[0mval\u001b[0m\u001b[0;34m)\u001b[0m \u001b[0;32min\u001b[0m \u001b[0mzip\u001b[0m\u001b[0;34m(\u001b[0m\u001b[0mconverters\u001b[0m\u001b[0;34m,\u001b[0m \u001b[0mvals\u001b[0m\u001b[0;34m)\u001b[0m\u001b[0;34m]\u001b[0m\u001b[0;34m\u001b[0m\u001b[0;34m\u001b[0m\u001b[0m\n\u001b[0m\u001b[1;32m    998\u001b[0m \u001b[0;34m\u001b[0m\u001b[0m\n\u001b[1;32m    999\u001b[0m             \u001b[0;31m# Then pack it according to the dtype's nesting\u001b[0m\u001b[0;34m\u001b[0m\u001b[0;34m\u001b[0m\u001b[0;34m\u001b[0m\u001b[0m\n",
      "\u001b[0;32m/opt/anaconda3/lib/python3.8/site-packages/numpy/lib/npyio.py\u001b[0m in \u001b[0;36m<listcomp>\u001b[0;34m(.0)\u001b[0m\n\u001b[1;32m    995\u001b[0m \u001b[0;34m\u001b[0m\u001b[0m\n\u001b[1;32m    996\u001b[0m             \u001b[0;31m# Convert each value according to its column and store\u001b[0m\u001b[0;34m\u001b[0m\u001b[0;34m\u001b[0m\u001b[0;34m\u001b[0m\u001b[0m\n\u001b[0;32m--> 997\u001b[0;31m             \u001b[0mitems\u001b[0m \u001b[0;34m=\u001b[0m \u001b[0;34m[\u001b[0m\u001b[0mconv\u001b[0m\u001b[0;34m(\u001b[0m\u001b[0mval\u001b[0m\u001b[0;34m)\u001b[0m \u001b[0;32mfor\u001b[0m \u001b[0;34m(\u001b[0m\u001b[0mconv\u001b[0m\u001b[0;34m,\u001b[0m \u001b[0mval\u001b[0m\u001b[0;34m)\u001b[0m \u001b[0;32min\u001b[0m \u001b[0mzip\u001b[0m\u001b[0;34m(\u001b[0m\u001b[0mconverters\u001b[0m\u001b[0;34m,\u001b[0m \u001b[0mvals\u001b[0m\u001b[0;34m)\u001b[0m\u001b[0;34m]\u001b[0m\u001b[0;34m\u001b[0m\u001b[0;34m\u001b[0m\u001b[0m\n\u001b[0m\u001b[1;32m    998\u001b[0m \u001b[0;34m\u001b[0m\u001b[0m\n\u001b[1;32m    999\u001b[0m             \u001b[0;31m# Then pack it according to the dtype's nesting\u001b[0m\u001b[0;34m\u001b[0m\u001b[0;34m\u001b[0m\u001b[0;34m\u001b[0m\u001b[0m\n",
      "\u001b[0;32m/opt/anaconda3/lib/python3.8/site-packages/numpy/lib/npyio.py\u001b[0m in \u001b[0;36mfloatconv\u001b[0;34m(x)\u001b[0m\n\u001b[1;32m    732\u001b[0m         \u001b[0;32mif\u001b[0m \u001b[0;34m'0x'\u001b[0m \u001b[0;32min\u001b[0m \u001b[0mx\u001b[0m\u001b[0;34m:\u001b[0m\u001b[0;34m\u001b[0m\u001b[0;34m\u001b[0m\u001b[0m\n\u001b[1;32m    733\u001b[0m             \u001b[0;32mreturn\u001b[0m \u001b[0mfloat\u001b[0m\u001b[0;34m.\u001b[0m\u001b[0mfromhex\u001b[0m\u001b[0;34m(\u001b[0m\u001b[0mx\u001b[0m\u001b[0;34m)\u001b[0m\u001b[0;34m\u001b[0m\u001b[0;34m\u001b[0m\u001b[0m\n\u001b[0;32m--> 734\u001b[0;31m         \u001b[0;32mreturn\u001b[0m \u001b[0mfloat\u001b[0m\u001b[0;34m(\u001b[0m\u001b[0mx\u001b[0m\u001b[0;34m)\u001b[0m\u001b[0;34m\u001b[0m\u001b[0;34m\u001b[0m\u001b[0m\n\u001b[0m\u001b[1;32m    735\u001b[0m \u001b[0;34m\u001b[0m\u001b[0m\n\u001b[1;32m    736\u001b[0m     \u001b[0mtyp\u001b[0m \u001b[0;34m=\u001b[0m \u001b[0mdtype\u001b[0m\u001b[0;34m.\u001b[0m\u001b[0mtype\u001b[0m\u001b[0;34m\u001b[0m\u001b[0;34m\u001b[0m\u001b[0m\n",
      "\u001b[0;31mValueError\u001b[0m: could not convert string to float: ''"
     ]
    }
   ],
   "source": [
    "arr1 = np.loadtxt(\"./resources/brownian_x.csv\", delimiter=',')"
   ]
  },
  {
   "cell_type": "markdown",
   "id": "62de7d1f-9502-4d4d-a9d0-3679a18a1bbd",
   "metadata": {},
   "source": [
    "- **読み込む file の先頭行の空白が原因**\n",
    "    - *先頭行を飛ばす処理を行う*"
   ]
  },
  {
   "cell_type": "code",
   "execution_count": 44,
   "id": "5c2b286f-3867-4ff4-be77-07094de1195a",
   "metadata": {},
   "outputs": [],
   "source": [
    "arr1 = np.loadtxt('./resources/brownian_x.csv', delimiter=',', skiprows=1)"
   ]
  },
  {
   "cell_type": "code",
   "execution_count": 45,
   "id": "96c0aeb5-5c4d-430e-a8d9-d3ea8ef5a2bd",
   "metadata": {},
   "outputs": [
    {
     "data": {
      "text/plain": [
       "array([[ 0.00000000e+00,  0.00000000e+00,  0.00000000e+00, ...,\n",
       "         0.00000000e+00,  0.00000000e+00,  0.00000000e+00],\n",
       "       [ 1.00000000e+00,  2.66089704e+00,  3.08680751e-01, ...,\n",
       "        -1.24374269e+00,  5.18966400e-01, -1.19367115e+00],\n",
       "       [ 2.00000000e+00,  3.59851470e+00,  1.08084394e-01, ...,\n",
       "         7.50444067e-01,  1.61610718e+00, -1.55848791e+00],\n",
       "       ...,\n",
       "       [ 4.98000000e+02, -1.13628276e+01, -6.02762346e+00, ...,\n",
       "         1.06451172e+01,  4.51958909e+01, -1.51173229e+01],\n",
       "       [ 4.99000000e+02, -1.06156906e+01, -4.98423594e+00, ...,\n",
       "         1.12467625e+01,  4.48587528e+01, -1.55841110e+01],\n",
       "       [ 5.00000000e+02, -1.10646530e+01, -3.83636751e+00, ...,\n",
       "         1.30337334e+01,  4.55136299e+01, -1.32733199e+01]])"
      ]
     },
     "execution_count": 45,
     "metadata": {},
     "output_type": "execute_result"
    }
   ],
   "source": [
    "arr1"
   ]
  },
  {
   "cell_type": "code",
   "execution_count": 46,
   "id": "621a37d6-ae0c-41eb-8513-22e1b82791c4",
   "metadata": {},
   "outputs": [
    {
     "data": {
      "text/plain": [
       "(501, 101)"
      ]
     },
     "execution_count": 46,
     "metadata": {},
     "output_type": "execute_result"
    }
   ],
   "source": [
    "arr1.shape"
   ]
  },
  {
   "cell_type": "code",
   "execution_count": 47,
   "id": "abbf5854-3c87-43d5-bebc-af33d912867a",
   "metadata": {},
   "outputs": [],
   "source": [
    "np.savetxt('./test.csv', arr1, delimiter=',')"
   ]
  },
  {
   "cell_type": "markdown",
   "id": "a1433a0b-d024-41c5-ac33-3f602e8586f8",
   "metadata": {},
   "source": [
    "## 行列の評価・操作"
   ]
  },
  {
   "cell_type": "code",
   "execution_count": 48,
   "id": "a6f91d3f-e77a-4553-880c-22b719e95b8d",
   "metadata": {},
   "outputs": [
    {
     "data": {
      "text/plain": [
       "array([[0, 1],\n",
       "       [2, 3],\n",
       "       [4, 5],\n",
       "       [6, 7],\n",
       "       [8, 9]])"
      ]
     },
     "execution_count": 48,
     "metadata": {},
     "output_type": "execute_result"
    }
   ],
   "source": [
    "arr1 = np.arange(10).reshape(5, 2)\n",
    "arr1"
   ]
  },
  {
   "cell_type": "code",
   "execution_count": 49,
   "id": "3d9ddc56-5824-42fb-af16-a0634f106e89",
   "metadata": {},
   "outputs": [
    {
     "data": {
      "text/plain": [
       "4.5"
      ]
     },
     "execution_count": 49,
     "metadata": {},
     "output_type": "execute_result"
    }
   ],
   "source": [
    "arr1.mean()"
   ]
  },
  {
   "cell_type": "code",
   "execution_count": 50,
   "id": "4d7588e5-6366-4c4d-9fd7-c33e2a0bff21",
   "metadata": {},
   "outputs": [
    {
     "data": {
      "text/plain": [
       "array([4., 5.])"
      ]
     },
     "execution_count": 50,
     "metadata": {},
     "output_type": "execute_result"
    }
   ],
   "source": [
    "arr1.mean(axis=0)"
   ]
  },
  {
   "cell_type": "code",
   "execution_count": 52,
   "id": "b2cd3836-b0be-468f-8f44-39cfa05a6f69",
   "metadata": {},
   "outputs": [
    {
     "data": {
      "text/plain": [
       "array([0.5, 2.5, 4.5, 6.5, 8.5])"
      ]
     },
     "execution_count": 52,
     "metadata": {},
     "output_type": "execute_result"
    }
   ],
   "source": [
    "arr1.mean(axis=1)"
   ]
  },
  {
   "cell_type": "markdown",
   "id": "0391a6bf-dd73-4aa8-86b5-823399116d17",
   "metadata": {
    "tags": []
   },
   "source": [
    "- **mear( )**\n",
    "    - 行列の全ての要素に対しての平均\n",
    "    - **axis=0**\n",
    "        - 各列に対しての平均\n",
    "    - **axis=1**\n",
    "        - 各行に対しての平均"
   ]
  },
  {
   "cell_type": "code",
   "execution_count": 54,
   "id": "f0cbfefd-febf-410e-99e9-ef97e589a953",
   "metadata": {},
   "outputs": [
    {
     "data": {
      "text/plain": [
       "2.8722813232690143"
      ]
     },
     "execution_count": 54,
     "metadata": {},
     "output_type": "execute_result"
    }
   ],
   "source": [
    "# 標準偏差 : 通常の標準偏差(N=各要素数,で割ったかたち)\n",
    "arr1.std()"
   ]
  },
  {
   "cell_type": "code",
   "execution_count": 57,
   "id": "4c4c7b7a-2f17-4591-90a3-8b48d6e9216f",
   "metadata": {},
   "outputs": [
    {
     "data": {
      "text/plain": [
       "3.0276503540974917"
      ]
     },
     "execution_count": 57,
     "metadata": {},
     "output_type": "execute_result"
    }
   ],
   "source": [
    "# 普遍標準偏差 : (N-1の要素数で割った数)\n",
    "# arr1.std(ddof=True)\n",
    "arr1.std(ddof=1)"
   ]
  },
  {
   "cell_type": "code",
   "execution_count": 59,
   "id": "798be1ba-aa24-4fb6-a9e0-42c5e644ef69",
   "metadata": {},
   "outputs": [
    {
     "data": {
      "text/plain": [
       "array([ 0.77451176,  0.00463072, -0.07740994,  0.51324514,  0.55859066,\n",
       "        0.83709201,  1.48819711, -0.8865836 ,  0.93336286, -1.13103507,\n",
       "       -0.92906109,  0.02793426,  1.17223595, -0.45005947,  0.48535128,\n",
       "        0.44821854,  0.92341511, -0.57493909, -0.47569578,  0.36001121,\n",
       "       -0.389434  ,  1.05926781, -0.93060686,  0.80159963, -0.06110665,\n",
       "        0.42397664,  1.21894968,  0.20194693, -0.10899278,  0.45675234,\n",
       "        0.14193721, -1.13811895,  0.60279256,  1.22082948,  0.43419308,\n",
       "       -1.3249806 ,  0.59309343,  0.85923432, -0.88518841,  0.13262874,\n",
       "        0.82842642,  0.57732295, -0.60149982, -0.32359819, -0.87872457,\n",
       "       -1.22289772,  1.41663059,  0.9861931 , -1.00490279,  1.31948459,\n",
       "       -0.05574796, -1.18928487, -0.43097986, -1.07505031, -0.21960008,\n",
       "        0.28461613,  1.2434067 ,  0.31289196,  0.24780287, -0.12998066,\n",
       "       -1.81928518, -1.67259046,  1.76612357, -0.85813153,  0.54967706,\n",
       "        1.01717064,  1.76057772, -0.81330749, -1.42495397, -2.01019766,\n",
       "        0.36865966, -0.60337135,  0.54229525, -0.10240598, -0.78513848,\n",
       "       -0.47261822, -0.08634307, -1.408565  , -0.67769561, -0.20090846,\n",
       "       -0.71471541, -2.10483616, -1.88325579, -1.94433607, -1.15052415,\n",
       "        1.26085638,  0.47204173,  0.00231396,  0.63430275, -0.15795324,\n",
       "        0.71626172,  1.47677514,  1.40221719,  1.29084331, -1.40001086,\n",
       "       -2.00247391,  0.61501396,  0.66854766,  0.61247588,  1.2185001 ])"
      ]
     },
     "execution_count": 59,
     "metadata": {},
     "output_type": "execute_result"
    }
   ],
   "source": [
    "arr2 = np.random.randn(100)\n",
    "arr2"
   ]
  },
  {
   "cell_type": "code",
   "execution_count": 61,
   "id": "4fcb36a8-4cb4-4c8e-9830-942a489a5fea",
   "metadata": {},
   "outputs": [
    {
     "data": {
      "text/plain": [
       "1.7661235715537986"
      ]
     },
     "execution_count": 61,
     "metadata": {},
     "output_type": "execute_result"
    }
   ],
   "source": [
    "# 最大値\n",
    "arr2.max()"
   ]
  },
  {
   "cell_type": "code",
   "execution_count": 62,
   "id": "b1b9733d-ed6f-4d2c-b7af-71396fa89f05",
   "metadata": {},
   "outputs": [
    {
     "data": {
      "text/plain": [
       "-2.1048361560772664"
      ]
     },
     "execution_count": 62,
     "metadata": {},
     "output_type": "execute_result"
    }
   ],
   "source": [
    "# 最小値\n",
    "arr2.min()"
   ]
  },
  {
   "cell_type": "code",
   "execution_count": 63,
   "id": "dcf88ef9-b519-4a08-b625-9cc613ff3139",
   "metadata": {},
   "outputs": [
    {
     "data": {
      "text/plain": [
       "array([-2.10483616, -2.01019766, -2.00247391, -1.94433607, -1.88325579,\n",
       "       -1.81928518, -1.67259046, -1.42495397, -1.408565  , -1.40001086,\n",
       "       -1.3249806 , -1.22289772, -1.18928487, -1.15052415, -1.13811895,\n",
       "       -1.13103507, -1.07505031, -1.00490279, -0.93060686, -0.92906109,\n",
       "       -0.8865836 , -0.88518841, -0.87872457, -0.85813153, -0.81330749,\n",
       "       -0.78513848, -0.71471541, -0.67769561, -0.60337135, -0.60149982,\n",
       "       -0.57493909, -0.47569578, -0.47261822, -0.45005947, -0.43097986,\n",
       "       -0.389434  , -0.32359819, -0.21960008, -0.20090846, -0.15795324,\n",
       "       -0.12998066, -0.10899278, -0.10240598, -0.08634307, -0.07740994,\n",
       "       -0.06110665, -0.05574796,  0.00231396,  0.00463072,  0.02793426,\n",
       "        0.13262874,  0.14193721,  0.20194693,  0.24780287,  0.28461613,\n",
       "        0.31289196,  0.36001121,  0.36865966,  0.42397664,  0.43419308,\n",
       "        0.44821854,  0.45675234,  0.47204173,  0.48535128,  0.51324514,\n",
       "        0.54229525,  0.54967706,  0.55859066,  0.57732295,  0.59309343,\n",
       "        0.60279256,  0.61247588,  0.61501396,  0.63430275,  0.66854766,\n",
       "        0.71626172,  0.77451176,  0.80159963,  0.82842642,  0.83709201,\n",
       "        0.85923432,  0.92341511,  0.93336286,  0.9861931 ,  1.01717064,\n",
       "        1.05926781,  1.17223595,  1.2185001 ,  1.21894968,  1.22082948,\n",
       "        1.2434067 ,  1.26085638,  1.29084331,  1.31948459,  1.40221719,\n",
       "        1.41663059,  1.47677514,  1.48819711,  1.76057772,  1.76612357])"
      ]
     },
     "execution_count": 63,
     "metadata": {},
     "output_type": "execute_result"
    }
   ],
   "source": [
    "# 昇順\n",
    "np.sort(arr2)"
   ]
  },
  {
   "cell_type": "code",
   "execution_count": 64,
   "id": "c33f69bc-911c-4789-87d3-bd8328ca44ab",
   "metadata": {},
   "outputs": [
    {
     "data": {
      "text/plain": [
       "array([ 1,  1, -1,  1,  1,  1,  1, -1,  1, -1, -1,  1,  1, -1,  1,  1,  1,\n",
       "       -1, -1,  1, -1,  1, -1,  1, -1,  1,  1,  1, -1,  1,  1, -1,  1,  1,\n",
       "        1, -1,  1,  1, -1,  1,  1,  1, -1, -1, -1, -1,  1,  1, -1,  1, -1,\n",
       "       -1, -1, -1, -1,  1,  1,  1,  1, -1, -1, -1,  1, -1,  1,  1,  1, -1,\n",
       "       -1, -1,  1, -1,  1, -1, -1, -1, -1, -1, -1, -1, -1, -1, -1, -1, -1,\n",
       "        1,  1,  1,  1, -1,  1,  1,  1,  1, -1, -1,  1,  1,  1,  1])"
      ]
     },
     "execution_count": 64,
     "metadata": {},
     "output_type": "execute_result"
    }
   ],
   "source": [
    "# 正　= 1, 負 = -1\n",
    "np.where(arr2 > 0, 1, -1)"
   ]
  },
  {
   "cell_type": "code",
   "execution_count": 65,
   "id": "b6b33262-4e19-4534-a2e8-7f0d6ce1a80c",
   "metadata": {},
   "outputs": [
    {
     "data": {
      "text/plain": [
       "array([ 0.77451176,  0.00463072, -0.07740994,  0.51324514,  0.55859066,\n",
       "        0.83709201,  1.48819711, -0.8865836 ,  0.93336286, -1.13103507,\n",
       "       -0.92906109,  0.02793426,  1.17223595, -0.45005947,  0.48535128,\n",
       "        0.44821854,  0.92341511, -0.57493909, -0.47569578,  0.36001121,\n",
       "       -0.389434  ,  1.05926781, -0.93060686,  0.80159963, -0.06110665,\n",
       "        0.42397664,  1.21894968,  0.20194693, -0.10899278,  0.45675234,\n",
       "        0.14193721, -1.13811895,  0.60279256,  1.22082948,  0.43419308,\n",
       "       -1.3249806 ,  0.59309343,  0.85923432, -0.88518841,  0.13262874,\n",
       "        0.82842642,  0.57732295, -0.60149982, -0.32359819, -0.87872457,\n",
       "       -1.22289772,  1.41663059,  0.9861931 , -1.00490279,  1.31948459,\n",
       "       -0.05574796, -1.18928487, -0.43097986, -1.07505031, -0.21960008,\n",
       "        0.28461613,  1.2434067 ,  0.31289196,  0.24780287, -0.12998066,\n",
       "       -1.81928518, -1.67259046,  1.76612357, -0.85813153,  0.54967706,\n",
       "        1.01717064,  1.76057772, -0.81330749, -1.42495397, -2.01019766,\n",
       "        0.36865966, -0.60337135,  0.54229525, -0.10240598, -0.78513848,\n",
       "       -0.47261822, -0.08634307, -1.408565  , -0.67769561, -0.20090846,\n",
       "       -0.71471541, -2.10483616, -1.88325579, -1.94433607, -1.15052415,\n",
       "        1.26085638,  0.47204173,  0.00231396,  0.63430275, -0.15795324,\n",
       "        0.71626172,  1.47677514,  1.40221719,  1.29084331, -1.40001086,\n",
       "       -2.00247391,  0.61501396,  0.66854766,  0.61247588,  1.2185001 ])"
      ]
     },
     "execution_count": 65,
     "metadata": {},
     "output_type": "execute_result"
    }
   ],
   "source": [
    "arr2"
   ]
  },
  {
   "cell_type": "markdown",
   "id": "5722e9a4-1859-49b4-a629-413ee6e160d4",
   "metadata": {},
   "source": [
    "- **np.where( )**\n",
    "    - *特定の条件を満たすものを振り分ける*\n",
    "    - 演算を利用して bool index としても利用可能"
   ]
  },
  {
   "cell_type": "code",
   "execution_count": 66,
   "id": "538f35f8-b9ac-4e36-a05c-f12b1d87b4c9",
   "metadata": {},
   "outputs": [
    {
     "data": {
      "text/plain": [
       "(array([ 0,  1,  3,  4,  5,  6,  8, 11, 12, 14, 15, 16, 19, 21, 23, 25, 26,\n",
       "        27, 29, 30, 32, 33, 34, 36, 37, 39, 40, 41, 46, 47, 49, 55, 56, 57,\n",
       "        58, 62, 64, 65, 66, 70, 72, 85, 86, 87, 88, 90, 91, 92, 93, 96, 97,\n",
       "        98, 99]),)"
      ]
     },
     "execution_count": 66,
     "metadata": {},
     "output_type": "execute_result"
    }
   ],
   "source": [
    "np.where(arr2 > 0)"
   ]
  },
  {
   "cell_type": "code",
   "execution_count": 67,
   "id": "da0f9b9e-f783-4194-8775-b606deffd1fc",
   "metadata": {},
   "outputs": [
    {
     "data": {
      "text/plain": [
       "array([0.77451176, 0.00463072, 0.51324514, 0.55859066, 0.83709201,\n",
       "       1.48819711, 0.93336286, 0.02793426, 1.17223595, 0.48535128,\n",
       "       0.44821854, 0.92341511, 0.36001121, 1.05926781, 0.80159963,\n",
       "       0.42397664, 1.21894968, 0.20194693, 0.45675234, 0.14193721,\n",
       "       0.60279256, 1.22082948, 0.43419308, 0.59309343, 0.85923432,\n",
       "       0.13262874, 0.82842642, 0.57732295, 1.41663059, 0.9861931 ,\n",
       "       1.31948459, 0.28461613, 1.2434067 , 0.31289196, 0.24780287,\n",
       "       1.76612357, 0.54967706, 1.01717064, 1.76057772, 0.36865966,\n",
       "       0.54229525, 1.26085638, 0.47204173, 0.00231396, 0.63430275,\n",
       "       0.71626172, 1.47677514, 1.40221719, 1.29084331, 0.61501396,\n",
       "       0.66854766, 0.61247588, 1.2185001 ])"
      ]
     },
     "execution_count": 67,
     "metadata": {},
     "output_type": "execute_result"
    }
   ],
   "source": [
    "arr2[np.where(arr2 > 0)]"
   ]
  },
  {
   "cell_type": "code",
   "execution_count": 69,
   "id": "d94dcf2d-bf58-478a-bf98-c6bb2279ea95",
   "metadata": {},
   "outputs": [
    {
     "data": {
      "text/plain": [
       "array([1, 2, 3, 4, 5, 7, 8])"
      ]
     },
     "execution_count": 69,
     "metadata": {},
     "output_type": "execute_result"
    }
   ],
   "source": [
    "# 要素数を確認 : 重複は省かれる　/ ユニークな値\n",
    "arr3 = np.array([1, 2, 3, 4, 5, 2, 4, 5, 7, 8, 2, 4])\n",
    "np.unique(arr3)"
   ]
  },
  {
   "cell_type": "code",
   "execution_count": null,
   "id": "0491f404-6170-413f-a340-38c4550a71a3",
   "metadata": {},
   "outputs": [],
   "source": []
  }
 ],
 "metadata": {
  "kernelspec": {
   "display_name": "Python 3",
   "language": "python",
   "name": "python3"
  },
  "language_info": {
   "codemirror_mode": {
    "name": "ipython",
    "version": 3
   },
   "file_extension": ".py",
   "mimetype": "text/x-python",
   "name": "python",
   "nbconvert_exporter": "python",
   "pygments_lexer": "ipython3",
   "version": "3.8.8"
  }
 },
 "nbformat": 4,
 "nbformat_minor": 5
}
