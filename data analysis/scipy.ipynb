{
 "cells": [
  {
   "cell_type": "markdown",
   "id": "cd7a324d-32b6-4ad1-84f9-c7277da75daf",
   "metadata": {},
   "source": [
    "# scipy"
   ]
  },
  {
   "cell_type": "markdown",
   "id": "12da20b3-38ac-400d-a4b7-1aaefe8b7393",
   "metadata": {},
   "source": [
    "### **科学技術計算用のライブラリ**\n",
    "<u>**線形近似, 多項式近似**</u>\n",
    "\n",
    "\n",
    "<u>**種々の数値積分方法**</u>\n",
    "\n",
    "\n",
    "<u>**常微分方程式のソルバー**</u>\n",
    "\n",
    "\n",
    "<u>**フーリエ変換**</u>\n",
    "\n",
    "\n",
    "<u>**画像処理**</u>\n",
    "\n",
    "\n",
    "<u>**最適化**</u>\n"
   ]
  }
 ],
 "metadata": {
  "kernelspec": {
   "display_name": "Python 3",
   "language": "python",
   "name": "python3"
  },
  "language_info": {
   "codemirror_mode": {
    "name": "ipython",
    "version": 3
   },
   "file_extension": ".py",
   "mimetype": "text/x-python",
   "name": "python",
   "nbconvert_exporter": "python",
   "pygments_lexer": "ipython3",
   "version": "3.8.8"
  }
 },
 "nbformat": 4,
 "nbformat_minor": 5
}
