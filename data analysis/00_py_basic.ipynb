{
 "cells": [
  {
   "cell_type": "markdown",
   "id": "a05a1bf6-727c-4380-b6f6-9b69d30f6a9b",
   "metadata": {},
   "source": [
    "# Python基礎"
   ]
  },
  {
   "cell_type": "markdown",
   "id": "27865223-5496-4d1b-97c7-bb28eb2e735a",
   "metadata": {},
   "source": [
    "### 変数(Valiable)/list"
   ]
  },
  {
   "cell_type": "code",
   "execution_count": 13,
   "id": "3445da54-e805-4050-bbe7-a1825709c364",
   "metadata": {},
   "outputs": [
    {
     "name": "stdout",
     "output_type": "stream",
     "text": [
      "<class 'float'>\n",
      "<class 'int'>\n",
      "<class 'float'>\n"
     ]
    }
   ],
   "source": [
    "num = 3.0\n",
    "print(type(num))\n",
    "\n",
    "num2 = 3\n",
    "print(type(num2))\n",
    "\n",
    "num3 = 3.0 * 2\n",
    "print(type(num3))"
   ]
  },
  {
   "cell_type": "code",
   "execution_count": 14,
   "id": "1e9bbfc4-b131-40fe-9847-916583e85f75",
   "metadata": {},
   "outputs": [
    {
     "name": "stdout",
     "output_type": "stream",
     "text": [
      "Python3.9\n"
     ]
    },
    {
     "data": {
      "text/plain": [
       "str"
      ]
     },
     "execution_count": 14,
     "metadata": {},
     "output_type": "execute_result"
    }
   ],
   "source": [
    "a = \"Python\"\n",
    "b = \"3.9\"\n",
    "print(a + b)\n",
    "type(a)"
   ]
  },
  {
   "cell_type": "code",
   "execution_count": 16,
   "id": "5b1ba001-e36e-4ddd-9ac5-0124aabfd5ac",
   "metadata": {},
   "outputs": [
    {
     "name": "stdout",
     "output_type": "stream",
     "text": [
      "<class 'bool'> <class 'bool'>\n"
     ]
    }
   ],
   "source": [
    "cond = True\n",
    "condf = False\n",
    "print(type(cond), type(condf) )"
   ]
  },
  {
   "cell_type": "code",
   "execution_count": 22,
   "id": "8f55974c-9fcb-43a6-8cd8-b1eb21ab9bb8",
   "metadata": {},
   "outputs": [
    {
     "name": "stdout",
     "output_type": "stream",
     "text": [
      "3.0\n",
      "<class 'int'>\n",
      "<class 'str'>\n",
      "<class 'float'>\n"
     ]
    }
   ],
   "source": [
    "num\n",
    "print(num)\n",
    "num2 = int(num)\n",
    "print(type(num2))\n",
    "\n",
    "font = str(num)\n",
    "print(type(font))\n",
    "font2 = \"2.2\"\n",
    "num3 = float(font2)\n",
    "print(type(num3))"
   ]
  },
  {
   "cell_type": "code",
   "execution_count": 23,
   "id": "0805fa44-5f0b-465f-9cb7-c8b18851b0f4",
   "metadata": {},
   "outputs": [
    {
     "data": {
      "text/plain": [
       "[1, 2, 3]"
      ]
     },
     "execution_count": 23,
     "metadata": {},
     "output_type": "execute_result"
    }
   ],
   "source": [
    "num_list = [1, 2, 3]\n",
    "num_list"
   ]
  },
  {
   "cell_type": "code",
   "execution_count": 26,
   "id": "c95d0986-e71a-4eb4-b4fd-9ac38bbc5ea5",
   "metadata": {},
   "outputs": [
    {
     "data": {
      "text/plain": [
       "[1, 2, 3]"
      ]
     },
     "execution_count": 26,
     "metadata": {},
     "output_type": "execute_result"
    }
   ],
   "source": [
    "num_list[:]"
   ]
  },
  {
   "cell_type": "code",
   "execution_count": 27,
   "id": "484bd121-55b0-46ae-8d73-9345870f208c",
   "metadata": {},
   "outputs": [
    {
     "data": {
      "text/plain": [
       "3"
      ]
     },
     "execution_count": 27,
     "metadata": {},
     "output_type": "execute_result"
    }
   ],
   "source": [
    "num_list[-1]"
   ]
  },
  {
   "cell_type": "code",
   "execution_count": 29,
   "id": "3d19303d-0857-4764-9c49-627a3cf807f7",
   "metadata": {},
   "outputs": [
    {
     "data": {
      "text/plain": [
       "[1, 'python', 3.0]"
      ]
     },
     "execution_count": 29,
     "metadata": {},
     "output_type": "execute_result"
    }
   ],
   "source": [
    "general_list = [1, 'python', 3.0]\n",
    "general_list"
   ]
  },
  {
   "cell_type": "code",
   "execution_count": 30,
   "id": "f288c1a1-b5e3-42e3-86d9-2bf8602fd5c4",
   "metadata": {},
   "outputs": [
    {
     "data": {
      "text/plain": [
       "[3, 4, 5, 6]"
      ]
     },
     "execution_count": 30,
     "metadata": {},
     "output_type": "execute_result"
    }
   ],
   "source": [
    "num_list = [1, 2, 3, 4, 5, 6, 7, 8, 9]\n",
    "num_list[2:6]"
   ]
  },
  {
   "cell_type": "code",
   "execution_count": 31,
   "id": "43236796-a4ea-4f8f-9286-a903310578c0",
   "metadata": {},
   "outputs": [
    {
     "data": {
      "text/plain": [
       "[1, 2, 3, 4, 5, 6]"
      ]
     },
     "execution_count": 31,
     "metadata": {},
     "output_type": "execute_result"
    }
   ],
   "source": [
    "num_list[:-3]"
   ]
  },
  {
   "cell_type": "code",
   "execution_count": 32,
   "id": "d379e07c-6226-4cac-94eb-6351af9caca5",
   "metadata": {},
   "outputs": [
    {
     "data": {
      "text/plain": [
       "[1, 2, 3, 4]"
      ]
     },
     "execution_count": 32,
     "metadata": {},
     "output_type": "execute_result"
    }
   ],
   "source": [
    "num_list[:4]"
   ]
  },
  {
   "cell_type": "code",
   "execution_count": 33,
   "id": "90580f0c-3b84-48e0-8a9e-4fb0919032f8",
   "metadata": {},
   "outputs": [
    {
     "data": {
      "text/plain": [
       "'9'"
      ]
     },
     "execution_count": 33,
     "metadata": {},
     "output_type": "execute_result"
    }
   ],
   "source": [
    "font = 'python3.9'\n",
    "font[-1]"
   ]
  },
  {
   "cell_type": "code",
   "execution_count": 34,
   "id": "911fdb2b-616d-41f1-9171-e6456ef654ee",
   "metadata": {},
   "outputs": [
    {
     "data": {
      "text/plain": [
       "'pyt'"
      ]
     },
     "execution_count": 34,
     "metadata": {},
     "output_type": "execute_result"
    }
   ],
   "source": [
    "font[0:3]"
   ]
  },
  {
   "cell_type": "code",
   "execution_count": 37,
   "id": "794f2730-6150-41a9-aab3-a436525f5de4",
   "metadata": {},
   "outputs": [
    {
     "data": {
      "text/plain": [
       "'Hello\\tWorld!'"
      ]
     },
     "execution_count": 37,
     "metadata": {},
     "output_type": "execute_result"
    }
   ],
   "source": [
    "font2 = 'Hello\\tWorld!'\n",
    "font2"
   ]
  },
  {
   "cell_type": "code",
   "execution_count": 38,
   "id": "c76491e8-f69e-464a-9abf-62ee65722a54",
   "metadata": {},
   "outputs": [
    {
     "name": "stdout",
     "output_type": "stream",
     "text": [
      "Hello\tWorld!\n"
     ]
    }
   ],
   "source": [
    "print(font2)"
   ]
  },
  {
   "cell_type": "code",
   "execution_count": 39,
   "id": "ee421572-f42c-4a9a-9486-f27599bc54d3",
   "metadata": {},
   "outputs": [
    {
     "data": {
      "text/plain": [
       "'Hello\\nWordl!'"
      ]
     },
     "execution_count": 39,
     "metadata": {},
     "output_type": "execute_result"
    }
   ],
   "source": [
    "font3 = 'Hello\\nWordl!'\n",
    "font3"
   ]
  },
  {
   "cell_type": "code",
   "execution_count": 41,
   "id": "9d83f21c-81c6-4934-833b-caa1b45bae4b",
   "metadata": {},
   "outputs": [
    {
     "name": "stdout",
     "output_type": "stream",
     "text": [
      "Hello\n",
      "Wordl!\n"
     ]
    }
   ],
   "source": [
    "print(font3)"
   ]
  },
  {
   "cell_type": "code",
   "execution_count": 42,
   "id": "33c1da4a-00ff-4188-b797-5b827861e543",
   "metadata": {},
   "outputs": [],
   "source": [
    "num_list = []"
   ]
  },
  {
   "cell_type": "code",
   "execution_count": 45,
   "id": "f38b1c50-a1ac-49a0-abef-6dede81dba9d",
   "metadata": {},
   "outputs": [
    {
     "data": {
      "text/plain": [
       "[0, 0]"
      ]
     },
     "execution_count": 45,
     "metadata": {},
     "output_type": "execute_result"
    }
   ],
   "source": [
    "num_list.append(0)\n",
    "num_list"
   ]
  },
  {
   "cell_type": "code",
   "execution_count": 46,
   "id": "444e0366-74e3-4fe3-b7b5-dac106f31397",
   "metadata": {},
   "outputs": [
    {
     "data": {
      "text/plain": [
       "[0, 0, 1, 2, 3, 4, 5]"
      ]
     },
     "execution_count": 46,
     "metadata": {},
     "output_type": "execute_result"
    }
   ],
   "source": [
    "num_list.extend([1, 2, 3, 4, 5])\n",
    "num_list"
   ]
  },
  {
   "cell_type": "code",
   "execution_count": 47,
   "id": "90d82d82-1790-4cea-9d99-b7a4d93c54a0",
   "metadata": {},
   "outputs": [
    {
     "data": {
      "text/plain": [
       "[0, 0, 1, 2, 3, 4]"
      ]
     },
     "execution_count": 47,
     "metadata": {},
     "output_type": "execute_result"
    }
   ],
   "source": [
    "num_list.pop()\n",
    "num_list"
   ]
  },
  {
   "cell_type": "code",
   "execution_count": 48,
   "id": "02e0bb9d-86a3-411c-9b8a-21aba8e13eef",
   "metadata": {},
   "outputs": [
    {
     "data": {
      "text/plain": [
       "[0, 1, 2, 3, 4]"
      ]
     },
     "execution_count": 48,
     "metadata": {},
     "output_type": "execute_result"
    }
   ],
   "source": [
    "num_list.remove(0)\n",
    "num_list"
   ]
  },
  {
   "cell_type": "code",
   "execution_count": 50,
   "id": "f7eeb55a-b50f-445d-a535-a02ca79a20a1",
   "metadata": {},
   "outputs": [
    {
     "data": {
      "text/plain": [
       "10"
      ]
     },
     "execution_count": 50,
     "metadata": {},
     "output_type": "execute_result"
    }
   ],
   "source": [
    "sum(num_list)"
   ]
  },
  {
   "cell_type": "code",
   "execution_count": 52,
   "id": "5b88293b-c89c-4e15-862f-b8b8623d32d1",
   "metadata": {},
   "outputs": [],
   "source": [
    "num_list2 = [3, 6, 7, 4, 1, 7]"
   ]
  },
  {
   "cell_type": "code",
   "execution_count": 53,
   "id": "33ba3f1d-b586-4780-80b6-fa0f2f10b667",
   "metadata": {},
   "outputs": [
    {
     "data": {
      "text/plain": [
       "[1, 3, 4, 6, 7, 7]"
      ]
     },
     "execution_count": 53,
     "metadata": {},
     "output_type": "execute_result"
    }
   ],
   "source": [
    "num_list2.sort()\n",
    "num_list2"
   ]
  },
  {
   "cell_type": "code",
   "execution_count": 54,
   "id": "7c9dc939-7dbe-4715-bf8d-a15dad0a6c8b",
   "metadata": {},
   "outputs": [
    {
     "data": {
      "text/plain": [
       "'Python-C-Java-Go- \\n'"
      ]
     },
     "execution_count": 54,
     "metadata": {},
     "output_type": "execute_result"
    }
   ],
   "source": [
    "ProgLang = 'Python-C-Java-Go- \\n'\n",
    "ProgLang"
   ]
  },
  {
   "cell_type": "code",
   "execution_count": 72,
   "id": "82ce3f0a-52e5-426b-b48c-1d5e1511632f",
   "metadata": {},
   "outputs": [
    {
     "data": {
      "text/plain": [
       "'Python-C-Java-Go-'"
      ]
     },
     "execution_count": 72,
     "metadata": {},
     "output_type": "execute_result"
    }
   ],
   "source": [
    "ProgLang.strip()"
   ]
  },
  {
   "cell_type": "code",
   "execution_count": 73,
   "id": "5bfbcd0d-58ac-4601-a137-85f3ca1c7bf3",
   "metadata": {},
   "outputs": [
    {
     "data": {
      "text/plain": [
       "9"
      ]
     },
     "execution_count": 73,
     "metadata": {},
     "output_type": "execute_result"
    }
   ],
   "source": [
    "ProgLang.find('Java')"
   ]
  },
  {
   "cell_type": "code",
   "execution_count": 74,
   "id": "25a991e7-af79-4be1-b891-9e39914829dc",
   "metadata": {},
   "outputs": [
    {
     "data": {
      "text/plain": [
       "-1"
      ]
     },
     "execution_count": 74,
     "metadata": {},
     "output_type": "execute_result"
    }
   ],
   "source": [
    "ProgLang.find('C++')"
   ]
  },
  {
   "cell_type": "code",
   "execution_count": 75,
   "id": "661eb9d0-6c5b-495c-9cb8-8d029d3fa7d4",
   "metadata": {},
   "outputs": [
    {
     "data": {
      "text/plain": [
       "True"
      ]
     },
     "execution_count": 75,
     "metadata": {},
     "output_type": "execute_result"
    }
   ],
   "source": [
    "'Python' in ProgLang"
   ]
  },
  {
   "cell_type": "code",
   "execution_count": 76,
   "id": "fe6ccd3a-2aef-45d3-a951-14aeb754890e",
   "metadata": {},
   "outputs": [
    {
     "data": {
      "text/plain": [
       "'Python-C++-Java-Go- \\n'"
      ]
     },
     "execution_count": 76,
     "metadata": {},
     "output_type": "execute_result"
    }
   ],
   "source": [
    "ProgLang.replace('C', 'C++')"
   ]
  },
  {
   "cell_type": "code",
   "execution_count": 77,
   "id": "14c7b367-7103-441f-992b-8267ec072449",
   "metadata": {},
   "outputs": [
    {
     "data": {
      "text/plain": [
       "'Python-C-Java-Go-'"
      ]
     },
     "execution_count": 77,
     "metadata": {},
     "output_type": "execute_result"
    }
   ],
   "source": [
    "ProgLang2 = ProgLang.strip()\n",
    "ProgLang2"
   ]
  },
  {
   "cell_type": "code",
   "execution_count": 78,
   "id": "3d79d4bc-5781-45ee-bee4-136f2a2af55a",
   "metadata": {},
   "outputs": [],
   "source": [
    "ProgLang_list = ProgLang2.split('-')"
   ]
  },
  {
   "cell_type": "code",
   "execution_count": 80,
   "id": "6ec6e0ed-95c3-4c6d-9619-8a2a75f76fc8",
   "metadata": {},
   "outputs": [
    {
     "data": {
      "text/plain": [
       "['Python', 'C', 'Java', 'Go', '']"
      ]
     },
     "execution_count": 80,
     "metadata": {},
     "output_type": "execute_result"
    }
   ],
   "source": [
    "ProgLang_list"
   ]
  },
  {
   "cell_type": "code",
   "execution_count": 81,
   "id": "39cdd6c6-0d87-42aa-917b-a1c46b4c3c1d",
   "metadata": {},
   "outputs": [
    {
     "data": {
      "text/plain": [
       "'Python,C,Java,Go,'"
      ]
     },
     "execution_count": 81,
     "metadata": {},
     "output_type": "execute_result"
    }
   ],
   "source": [
    "','.join(ProgLang_list)"
   ]
  },
  {
   "cell_type": "code",
   "execution_count": 82,
   "id": "930ed764-b520-4e28-8914-4adc4b933136",
   "metadata": {},
   "outputs": [],
   "source": [
    "num_list = [1, 2, 3, 4]"
   ]
  },
  {
   "cell_type": "code",
   "execution_count": 83,
   "id": "71a47cd0-2650-4c25-b447-84bb1bb14313",
   "metadata": {},
   "outputs": [],
   "source": [
    "num_tuple = (1, 2, 3, 4)"
   ]
  },
  {
   "cell_type": "code",
   "execution_count": 84,
   "id": "231ecdf4-5b11-48a1-b136-ac32d3839a5f",
   "metadata": {},
   "outputs": [],
   "source": [
    "num_list[0] = 4"
   ]
  },
  {
   "cell_type": "code",
   "execution_count": 85,
   "id": "a059dc46-cf36-4cb1-bd23-a31d331c24a5",
   "metadata": {},
   "outputs": [
    {
     "data": {
      "text/plain": [
       "[4, 2, 3, 4]"
      ]
     },
     "execution_count": 85,
     "metadata": {},
     "output_type": "execute_result"
    }
   ],
   "source": [
    "num_list"
   ]
  },
  {
   "cell_type": "code",
   "execution_count": 86,
   "id": "79c7738b-f058-4df1-b712-612909afe11e",
   "metadata": {},
   "outputs": [
    {
     "data": {
      "text/plain": [
       "1"
      ]
     },
     "execution_count": 86,
     "metadata": {},
     "output_type": "execute_result"
    }
   ],
   "source": [
    "num_tuple[0]"
   ]
  },
  {
   "cell_type": "code",
   "execution_count": 87,
   "id": "01165fa6-da48-4d9b-80f7-5c576c139b1c",
   "metadata": {},
   "outputs": [
    {
     "ename": "TypeError",
     "evalue": "'tuple' object does not support item assignment",
     "output_type": "error",
     "traceback": [
      "\u001b[0;31m---------------------------------------------------------------------------\u001b[0m",
      "\u001b[0;31mTypeError\u001b[0m                                 Traceback (most recent call last)",
      "\u001b[0;32m<ipython-input-87-ff40ba0e2726>\u001b[0m in \u001b[0;36m<module>\u001b[0;34m\u001b[0m\n\u001b[0;32m----> 1\u001b[0;31m \u001b[0mnum_tuple\u001b[0m\u001b[0;34m[\u001b[0m\u001b[0;36m0\u001b[0m\u001b[0;34m]\u001b[0m \u001b[0;34m=\u001b[0m \u001b[0;36m1\u001b[0m\u001b[0;34m\u001b[0m\u001b[0;34m\u001b[0m\u001b[0m\n\u001b[0m",
      "\u001b[0;31mTypeError\u001b[0m: 'tuple' object does not support item assignment"
     ]
    }
   ],
   "source": [
    "num_tuple[0] = 1"
   ]
  },
  {
   "cell_type": "code",
   "execution_count": 88,
   "id": "0a23b032-3cb7-48e4-a789-0829024019e1",
   "metadata": {},
   "outputs": [
    {
     "data": {
      "text/plain": [
       "[1, 2, 3, 4]"
      ]
     },
     "execution_count": 88,
     "metadata": {},
     "output_type": "execute_result"
    }
   ],
   "source": [
    "list(num_tuple)"
   ]
  },
  {
   "cell_type": "code",
   "execution_count": 89,
   "id": "0f8ca589-51cb-44b1-a71e-7abf2dd8263c",
   "metadata": {},
   "outputs": [
    {
     "data": {
      "text/plain": [
       "(4, 2, 3, 4)"
      ]
     },
     "execution_count": 89,
     "metadata": {},
     "output_type": "execute_result"
    }
   ],
   "source": [
    "tuple(num_list)"
   ]
  },
  {
   "cell_type": "code",
   "execution_count": 90,
   "id": "25c01f39-cd5a-455c-a785-6f244897524c",
   "metadata": {},
   "outputs": [
    {
     "data": {
      "text/plain": [
       "\u001b[0;31mType:\u001b[0m        list\n",
       "\u001b[0;31mString form:\u001b[0m [4, 2, 3, 4]\n",
       "\u001b[0;31mLength:\u001b[0m      4\n",
       "\u001b[0;31mDocstring:\u001b[0m  \n",
       "Built-in mutable sequence.\n",
       "\n",
       "If no argument is given, the constructor creates a new empty list.\n",
       "The argument must be an iterable if specified.\n"
      ]
     },
     "metadata": {},
     "output_type": "display_data"
    }
   ],
   "source": [
    "num_list?"
   ]
  },
  {
   "cell_type": "code",
   "execution_count": 91,
   "id": "65d149e0-f62e-4e30-9bf5-e5a862a0d005",
   "metadata": {},
   "outputs": [
    {
     "data": {
      "text/plain": [
       "\u001b[0;31mType:\u001b[0m        tuple\n",
       "\u001b[0;31mString form:\u001b[0m (1, 2, 3, 4)\n",
       "\u001b[0;31mLength:\u001b[0m      4\n",
       "\u001b[0;31mDocstring:\u001b[0m  \n",
       "Built-in immutable sequence.\n",
       "\n",
       "If no argument is given, the constructor returns an empty tuple.\n",
       "If iterable is specified the tuple is initialized from iterable's items.\n",
       "\n",
       "If the argument is a tuple, the return value is the same object.\n"
      ]
     },
     "metadata": {},
     "output_type": "display_data"
    }
   ],
   "source": [
    "num_tuple?"
   ]
  },
  {
   "cell_type": "code",
   "execution_count": 92,
   "id": "9d8dbee0-4cd1-4f9b-a1c0-c819198b6dd4",
   "metadata": {},
   "outputs": [],
   "source": [
    "kyushu_pop = {\n",
    "    '福岡': 504,\n",
    "    '大分': 120,\n",
    "    '熊本': 182\n",
    "}"
   ]
  },
  {
   "cell_type": "code",
   "execution_count": 94,
   "id": "415ca960-6b80-43b7-aacf-e37a36edd204",
   "metadata": {},
   "outputs": [
    {
     "data": {
      "text/plain": [
       "dict_keys(['福岡', '大分', '熊本'])"
      ]
     },
     "execution_count": 94,
     "metadata": {},
     "output_type": "execute_result"
    }
   ],
   "source": [
    "kyushu_pop.keys()"
   ]
  },
  {
   "cell_type": "code",
   "execution_count": 96,
   "id": "e231bcad-fea9-421c-8757-a8bfeeda682b",
   "metadata": {},
   "outputs": [
    {
     "data": {
      "text/plain": [
       "dict_values([504, 120, 182])"
      ]
     },
     "execution_count": 96,
     "metadata": {},
     "output_type": "execute_result"
    }
   ],
   "source": [
    "kyushu_pop.values()"
   ]
  },
  {
   "cell_type": "code",
   "execution_count": 97,
   "id": "cc8e1227-1494-4d16-8f34-ddd9ad5c7de2",
   "metadata": {},
   "outputs": [
    {
     "data": {
      "text/plain": [
       "504"
      ]
     },
     "execution_count": 97,
     "metadata": {},
     "output_type": "execute_result"
    }
   ],
   "source": [
    "kyushu_pop['福岡']"
   ]
  },
  {
   "cell_type": "code",
   "execution_count": 98,
   "id": "8fb161e3-9736-4fd2-8e5a-499468d8e65d",
   "metadata": {},
   "outputs": [],
   "source": [
    "kyushu_pop.update({\n",
    "    '鹿児島': 170,\n",
    "    '宮崎': 114,\n",
    "    '佐賀': 85,\n",
    "    '長崎': 140\n",
    "})"
   ]
  },
  {
   "cell_type": "code",
   "execution_count": 99,
   "id": "356e16b6-b50c-4e42-9aa3-40222f592207",
   "metadata": {},
   "outputs": [
    {
     "data": {
      "text/plain": [
       "{'福岡': 504, '大分': 120, '熊本': 182, '鹿児島': 170, '宮崎': 114, '佐賀': 85, '長崎': 140}"
      ]
     },
     "execution_count": 99,
     "metadata": {},
     "output_type": "execute_result"
    }
   ],
   "source": [
    "kyushu_pop"
   ]
  },
  {
   "cell_type": "markdown",
   "id": "9dd6aa03-2049-4fea-a029-5e20813fa57c",
   "metadata": {},
   "source": [
    "### input / 繰り返し / 条件分岐"
   ]
  },
  {
   "cell_type": "code",
   "execution_count": 100,
   "id": "f86218fd-eaa5-4579-9f62-e39aade5300b",
   "metadata": {},
   "outputs": [
    {
     "data": {
      "text/plain": [
       "'\\npi : 円周率\\nr : 半径\\ns : 円の面積\\n'"
      ]
     },
     "execution_count": 100,
     "metadata": {},
     "output_type": "execute_result"
    }
   ],
   "source": [
    "\"\"\"\n",
    "pi : 円周率\n",
    "r : 半径\n",
    "s : 円の面積\n",
    "\"\"\""
   ]
  },
  {
   "cell_type": "code",
   "execution_count": 101,
   "id": "5b1d7966-9e9f-4f73-8ebc-9ee4ca16ea5e",
   "metadata": {},
   "outputs": [
    {
     "name": "stdout",
     "output_type": "stream",
     "text": [
      "----- start program -----\n"
     ]
    }
   ],
   "source": [
    "print('----- start program -----')"
   ]
  },
  {
   "cell_type": "code",
   "execution_count": 102,
   "id": "067ecd1e-1d2e-4214-ab0e-1f88f911c4d8",
   "metadata": {},
   "outputs": [
    {
     "name": "stdout",
     "output_type": "stream",
     "text": [
      "aの値は1\n",
      "bの値は2\n"
     ]
    }
   ],
   "source": [
    "a = 1\n",
    "b = 2\n",
    "print(f'aの値は{a}\\nbの値は{b}')"
   ]
  },
  {
   "cell_type": "code",
   "execution_count": 103,
   "id": "b78c4a10-f91d-4783-9ee6-bc4194fe2317",
   "metadata": {},
   "outputs": [],
   "source": [
    "pi = 3.14\n",
    "r = 2.0\n",
    "s = pi * r ** 2"
   ]
  },
  {
   "cell_type": "code",
   "execution_count": 105,
   "id": "2c459b05-ac2e-41c6-bbb5-6944dd1b5008",
   "metadata": {},
   "outputs": [
    {
     "name": "stdin",
     "output_type": "stream",
     "text": [
      "input radius:  3.0\n"
     ]
    }
   ],
   "source": [
    "r = input('input radius: ')"
   ]
  },
  {
   "cell_type": "code",
   "execution_count": 107,
   "id": "aa4687e7-d041-4fbc-83c7-9962c0cc42ff",
   "metadata": {},
   "outputs": [
    {
     "name": "stdout",
     "output_type": "stream",
     "text": [
      "3.0\n",
      "<class 'str'>\n"
     ]
    }
   ],
   "source": [
    "print(r)\n",
    "print(type(r))"
   ]
  },
  {
   "cell_type": "code",
   "execution_count": 108,
   "id": "8a1a2c1d-a772-49ec-bae9-7e7a244018dc",
   "metadata": {},
   "outputs": [
    {
     "name": "stdin",
     "output_type": "stream",
     "text": [
      "input radius:  3.0\n"
     ]
    }
   ],
   "source": [
    "r = float(input('input radius: '))"
   ]
  },
  {
   "cell_type": "code",
   "execution_count": 109,
   "id": "4e2a9d02-9e44-40d5-9ba5-416ee2604eb4",
   "metadata": {},
   "outputs": [
    {
     "data": {
      "text/plain": [
       "3.0"
      ]
     },
     "execution_count": 109,
     "metadata": {},
     "output_type": "execute_result"
    }
   ],
   "source": [
    "r"
   ]
  },
  {
   "cell_type": "code",
   "execution_count": 111,
   "id": "9f739247-e85c-4bd4-a24a-bc05e73f9a46",
   "metadata": {},
   "outputs": [
    {
     "data": {
      "text/plain": [
       "28.26"
      ]
     },
     "execution_count": 111,
     "metadata": {},
     "output_type": "execute_result"
    }
   ],
   "source": [
    "S = pi * r ** 2\n",
    "S"
   ]
  },
  {
   "cell_type": "code",
   "execution_count": 112,
   "id": "3a9d9bb3-02b2-4977-ada9-fbedfc31604c",
   "metadata": {},
   "outputs": [
    {
     "data": {
      "text/plain": [
       "True"
      ]
     },
     "execution_count": 112,
     "metadata": {},
     "output_type": "execute_result"
    }
   ],
   "source": [
    "score = 60\n",
    "score >= 60 and score % 2 == 0"
   ]
  },
  {
   "cell_type": "code",
   "execution_count": 114,
   "id": "5c863a24-e5c5-4f31-8c4c-c18c02b2688b",
   "metadata": {},
   "outputs": [
    {
     "data": {
      "text/plain": [
       "False"
      ]
     },
     "execution_count": 114,
     "metadata": {},
     "output_type": "execute_result"
    }
   ],
   "source": [
    "score >= 60 and score % 2 == 1"
   ]
  },
  {
   "cell_type": "code",
   "execution_count": 115,
   "id": "0bc8dcd8-e629-4463-93ae-1d372aa92b35",
   "metadata": {},
   "outputs": [
    {
     "data": {
      "text/plain": [
       "True"
      ]
     },
     "execution_count": 115,
     "metadata": {},
     "output_type": "execute_result"
    }
   ],
   "source": [
    "score >= 60 or score % 2 == 1"
   ]
  },
  {
   "cell_type": "code",
   "execution_count": 116,
   "id": "bb566a7e-fd20-49f0-a0b2-eb8d16cf1684",
   "metadata": {},
   "outputs": [
    {
     "data": {
      "text/plain": [
       "False"
      ]
     },
     "execution_count": 116,
     "metadata": {},
     "output_type": "execute_result"
    }
   ],
   "source": [
    "not score == 60"
   ]
  },
  {
   "cell_type": "code",
   "execution_count": 126,
   "id": "be675db9-055c-4121-85e7-2c682a085529",
   "metadata": {},
   "outputs": [],
   "source": [
    "sample_num = 7"
   ]
  },
  {
   "cell_type": "code",
   "execution_count": 130,
   "id": "0a6c2465-bd4f-43f4-8b3e-f68cde1a5c24",
   "metadata": {},
   "outputs": [
    {
     "name": "stdout",
     "output_type": "stream",
     "text": [
      "7 偶数ではありません.\n"
     ]
    }
   ],
   "source": [
    "if sample_num % 2 == 0:\n",
    "    print(sample_num, 'is even.')\n",
    "else:\n",
    "    print(f'{sample_num} 偶数ではありません.')"
   ]
  },
  {
   "cell_type": "code",
   "execution_count": 131,
   "id": "475a1950-2428-4f02-9183-aa8ad2e1d844",
   "metadata": {},
   "outputs": [
    {
     "name": "stdout",
     "output_type": "stream",
     "text": [
      "7 This is luckey number\n"
     ]
    }
   ],
   "source": [
    "if sample_num % 2 == 0:\n",
    "    print(f'{sample_num} is even.')\n",
    "elif sample_num == 7:\n",
    "    print(f'{sample_num} This is luckey number')\n",
    "else:\n",
    "    pass"
   ]
  },
  {
   "cell_type": "code",
   "execution_count": 132,
   "id": "b2765b40-1695-4d72-aece-bc429f72f88a",
   "metadata": {},
   "outputs": [
    {
     "name": "stdout",
     "output_type": "stream",
     "text": [
      "0\n",
      "1\n",
      "2\n",
      "3\n",
      "4\n",
      "5\n"
     ]
    }
   ],
   "source": [
    "print(0)\n",
    "print(1)\n",
    "print(2)\n",
    "print(3)\n",
    "print(4)\n",
    "print(5)"
   ]
  },
  {
   "cell_type": "code",
   "execution_count": 135,
   "id": "b1169745-7cf3-4256-9048-da7a12a6afb2",
   "metadata": {},
   "outputs": [
    {
     "name": "stdout",
     "output_type": "stream",
     "text": [
      "0\n",
      "1\n",
      "2\n",
      "3\n",
      "4\n",
      "5\n"
     ]
    }
   ],
   "source": [
    "num_list = [0, 1, 2, 3, 4, 5]\n",
    "for i in num_list:\n",
    "    print(i)"
   ]
  },
  {
   "cell_type": "code",
   "execution_count": 136,
   "id": "b13ea400-46a5-4a72-8478-d9189540641c",
   "metadata": {},
   "outputs": [
    {
     "name": "stdout",
     "output_type": "stream",
     "text": [
      "0\n",
      "1\n",
      "2\n",
      "3\n",
      "4\n",
      "5\n"
     ]
    }
   ],
   "source": [
    "for i in range(6):\n",
    "    print(i)"
   ]
  },
  {
   "cell_type": "code",
   "execution_count": 137,
   "id": "8c875f29-a793-41af-b122-214fe81f9ba4",
   "metadata": {},
   "outputs": [
    {
     "name": "stdout",
     "output_type": "stream",
     "text": [
      "1\n",
      "2\n",
      "3\n",
      "4\n",
      "5\n"
     ]
    }
   ],
   "source": [
    "for i in range(1, 6):\n",
    "    print(i)"
   ]
  },
  {
   "cell_type": "code",
   "execution_count": 138,
   "id": "9b319ae8-4f24-4577-b51c-797720212691",
   "metadata": {},
   "outputs": [
    {
     "name": "stdout",
     "output_type": "stream",
     "text": [
      "1\n",
      "3\n",
      "5\n",
      "7\n",
      "9\n",
      "11\n"
     ]
    }
   ],
   "source": [
    "for i in range(1, 12, 2):\n",
    "    print(i)"
   ]
  },
  {
   "cell_type": "code",
   "execution_count": 148,
   "id": "bf0228b0-a7fe-443f-87ba-93276f63d120",
   "metadata": {},
   "outputs": [
    {
     "name": "stdout",
     "output_type": "stream",
     "text": [
      "index: 0\n",
      "vaulue: 福岡\n",
      "index: 1\n",
      "vaulue: 大分\n",
      "index: 2\n",
      "vaulue: 熊本\n",
      "index: 3\n",
      "vaulue: 鹿児島\n",
      "index: 4\n",
      "vaulue: 宮崎\n",
      "index: 5\n",
      "vaulue: 佐賀\n",
      "index: 6\n",
      "vaulue: 長崎\n"
     ]
    }
   ],
   "source": [
    "for idx, val in enumerate(kyushu_pop):\n",
    "    print(f'index: {idx}\\nvaulue: {val}')"
   ]
  },
  {
   "cell_type": "code",
   "execution_count": 151,
   "id": "cd1f9a3c-8985-4114-90fd-b30bcc61175f",
   "metadata": {},
   "outputs": [
    {
     "name": "stdout",
     "output_type": "stream",
     "text": [
      "県名: 福岡\n",
      "県名: 大分\n",
      "県名: 熊本\n",
      "県名: 鹿児島\n",
      "県名: 宮崎\n",
      "県名: 佐賀\n",
      "県名: 長崎\n"
     ]
    }
   ],
   "source": [
    "for i in kyushu_pop:\n",
    "    print(f'県名: {i}')"
   ]
  },
  {
   "cell_type": "code",
   "execution_count": 162,
   "id": "b755583b-9202-4aa4-acb2-41c149676a9e",
   "metadata": {},
   "outputs": [
    {
     "name": "stdout",
     "output_type": "stream",
     "text": [
      "福岡\n",
      "大分\n",
      "熊本\n",
      "鹿児島\n",
      "宮崎\n",
      "佐賀\n",
      "長崎\n"
     ]
    }
   ],
   "source": [
    "for _, val in enumerate(kyushu_pop):\n",
    "    print(val)"
   ]
  },
  {
   "cell_type": "code",
   "execution_count": 170,
   "id": "0c7add87-a82a-4f2c-aba0-70b9dc878f8a",
   "metadata": {},
   "outputs": [
    {
     "name": "stdout",
     "output_type": "stream",
     "text": [
      "県名: 福岡\t人口: 504\n",
      "県名: 大分\t人口: 120\n",
      "県名: 熊本\t人口: 182\n",
      "県名: 鹿児島\t人口: 170\n",
      "県名: 宮崎\t人口: 114\n",
      "県名: 佐賀\t人口: 85\n",
      "県名: 長崎\t人口: 140\n"
     ]
    }
   ],
   "source": [
    "for _, val in enumerate(kyushu_pop):\n",
    "    print(f'県名: {val}\\t人口: {kyushu_pop[val]}')"
   ]
  },
  {
   "cell_type": "code",
   "execution_count": 172,
   "id": "ae4675f2-cdaa-4d83-a114-8fb6e1e64995",
   "metadata": {},
   "outputs": [
    {
     "name": "stdout",
     "output_type": "stream",
     "text": [
      "1\n",
      "3\n",
      "5\n",
      "7\n",
      "9\n"
     ]
    }
   ],
   "source": [
    "for i in range(10):\n",
    "    if i % 2 == 0:\n",
    "        continue\n",
    "        print(i)\n",
    "    else:\n",
    "        print(i)"
   ]
  },
  {
   "cell_type": "code",
   "execution_count": 174,
   "id": "ca96524c-4939-45ca-bc90-48f530571def",
   "metadata": {},
   "outputs": [
    {
     "name": "stdout",
     "output_type": "stream",
     "text": [
      "0\n",
      "1\n",
      "2\n",
      "3\n",
      "4\n",
      "5\n",
      "6\n",
      "7\n",
      "8\n"
     ]
    }
   ],
   "source": [
    "for i in range(10):\n",
    "    if i > 8:\n",
    "        break\n",
    "    print(i)"
   ]
  },
  {
   "cell_type": "code",
   "execution_count": 175,
   "id": "6c133e09-b3d8-4c0f-b0b0-77ca5ccb74b9",
   "metadata": {},
   "outputs": [
    {
     "name": "stdin",
     "output_type": "stream",
     "text": [
      "Please input price:  1000\n"
     ]
    },
    {
     "name": "stdout",
     "output_type": "stream",
     "text": [
      "1080.0\n"
     ]
    },
    {
     "name": "stdin",
     "output_type": "stream",
     "text": [
      "contionue? [yes:y, no:n] y\n",
      "Please input price:  20\n"
     ]
    },
    {
     "name": "stdout",
     "output_type": "stream",
     "text": [
      "21.6\n"
     ]
    },
    {
     "name": "stdin",
     "output_type": "stream",
     "text": [
      "contionue? [yes:y, no:n] n\n"
     ]
    }
   ],
   "source": [
    "condition = True\n",
    "while condition:\n",
    "    price = float(input('Please input price: '))\n",
    "    print(1.08 * price)\n",
    "    answer = input('contionue? [yes:y, no:n]')\n",
    "    if answer == 'n':\n",
    "        condition = False"
   ]
  },
  {
   "cell_type": "markdown",
   "id": "536e54c5-5bc4-4da9-9053-a410ebfc0102",
   "metadata": {},
   "source": [
    "## fileの入出力・関数・応用"
   ]
  },
  {
   "cell_type": "code",
   "execution_count": 176,
   "id": "fa8f314d-ff14-44a3-a9bd-77043938a39d",
   "metadata": {},
   "outputs": [
    {
     "name": "stdout",
     "output_type": "stream",
     "text": [
      "2016 03 05\n",
      "\n",
      "0\t1.0\n",
      "\n",
      "1\t1.1\n",
      "\n",
      "2\t1.4\n",
      "\n",
      "3\t1.3\n",
      "\n",
      "4\t1.4\n",
      "\n",
      "5\t1.8\n",
      "\n"
     ]
    }
   ],
   "source": [
    "filename = \"./resources/sample.txt\"\n",
    "f = open(filename, mode = 'r', encoding='utf-8')\n",
    "for i in f:\n",
    "    print(i)"
   ]
  },
  {
   "cell_type": "markdown",
   "id": "180c683c-0622-41ba-835b-c01d0b51418a",
   "metadata": {},
   "source": [
    "- **改行や空白が多いのでそれを取り除く**"
   ]
  },
  {
   "cell_type": "code",
   "execution_count": 177,
   "id": "22a6e666-17d1-4df6-9ec9-5061e18703e9",
   "metadata": {},
   "outputs": [
    {
     "name": "stdout",
     "output_type": "stream",
     "text": [
      "2016 03 05\n",
      "0\t1.0\n",
      "1\t1.1\n",
      "2\t1.4\n",
      "3\t1.3\n",
      "4\t1.4\n",
      "5\t1.8\n"
     ]
    }
   ],
   "source": [
    "filename = \"./resources/sample.txt\"\n",
    "f = open(filename, mode = 'r', encoding='utf-8')\n",
    "for i in f:\n",
    "    k = i.strip()\n",
    "    print(k)"
   ]
  },
  {
   "cell_type": "code",
   "execution_count": 180,
   "id": "88596baa-f76e-48b2-a408-52c3894c6a9f",
   "metadata": {},
   "outputs": [
    {
     "name": "stdout",
     "output_type": "stream",
     "text": [
      "1.0\n",
      "1.1\n",
      "1.4\n",
      "1.3\n",
      "1.4\n",
      "1.8\n"
     ]
    }
   ],
   "source": [
    "filename = \"./resources/sample.txt\"\n",
    "f = open(filename, mode = 'r', encoding='utf-8')\n",
    "for i, j in enumerate(f):\n",
    "    k = j.strip()\n",
    "    if i > 0:\n",
    "        k2 = k.split('\\t')\n",
    "        print(k2[1])"
   ]
  },
  {
   "cell_type": "markdown",
   "id": "9d0d74cd-e586-47c3-b2c0-9c9987a787cf",
   "metadata": {},
   "source": [
    "## file に出力\n",
    "- **close( )** を使用しないと write しても txt fileには表示されない"
   ]
  },
  {
   "cell_type": "code",
   "execution_count": 192,
   "id": "f8ce969a-eae7-4ea3-91d6-776ef0a11dcc",
   "metadata": {},
   "outputs": [],
   "source": [
    "filename = \"./output.txt\"\n",
    "f = open(filename, mode = 'w', encoding='utf-8')\n",
    "\n",
    "for i in range(10):\n",
    "    f.write(str(i)+ '\\n')\n",
    "\n",
    "f.close()"
   ]
  },
  {
   "cell_type": "markdown",
   "id": "9f543dac-c21d-47fa-9d75-51361099067e",
   "metadata": {},
   "source": [
    "## whit について\n",
    "- whit のブロックが終了すると自動でfileを閉じてくれる"
   ]
  },
  {
   "cell_type": "code",
   "execution_count": 194,
   "id": "79bf682d-3eea-45de-99b3-2e2454083e6f",
   "metadata": {},
   "outputs": [
    {
     "name": "stdout",
     "output_type": "stream",
     "text": [
      "1.0\n",
      "1.1\n",
      "1.4\n",
      "1.3\n",
      "1.4\n",
      "1.8\n"
     ]
    }
   ],
   "source": [
    "with open('./resources/sample.txt', mode = 'r', encoding='utf-8') as f:\n",
    "    for i, j in enumerate(f):\n",
    "        k = j.strip()\n",
    "        if i > 0:\n",
    "            k2 = k.split('\\t')\n",
    "            print(k2[1])"
   ]
  },
  {
   "cell_type": "markdown",
   "id": "72623e3a-143a-42f2-bfb5-558dafc3a734",
   "metadata": {},
   "source": [
    "## function() : 関数について\n",
    "- 関数とは長い program を短く、見易くするもの"
   ]
  },
  {
   "cell_type": "code",
   "execution_count": 195,
   "id": "32fcde38-d4cf-4e75-a807-8dd168886c4b",
   "metadata": {},
   "outputs": [],
   "source": [
    "def distance(x, y, z):\n",
    "    dis = (x ** 2 + y ** 2 + z ** 2) ** 0.5\n",
    "    return dis"
   ]
  },
  {
   "cell_type": "code",
   "execution_count": 196,
   "id": "9226b4c2-f92b-4fb6-a8f5-bc76bb030188",
   "metadata": {},
   "outputs": [
    {
     "data": {
      "text/plain": [
       "3.7416573867739413"
      ]
     },
     "execution_count": 196,
     "metadata": {},
     "output_type": "execute_result"
    }
   ],
   "source": [
    "distance(3.0, 1.0, 2.0)"
   ]
  },
  {
   "cell_type": "markdown",
   "id": "ab3a5b5e-1a49-4349-bd1b-9c0b83284a77",
   "metadata": {},
   "source": [
    "### 変数スコープ"
   ]
  },
  {
   "cell_type": "code",
   "execution_count": 197,
   "id": "c6a92bf3-3f53-4ac7-9f5b-104094dab728",
   "metadata": {},
   "outputs": [],
   "source": [
    "x = 3.0"
   ]
  },
  {
   "cell_type": "code",
   "execution_count": 198,
   "id": "5d30f57d-8b1f-46c3-9409-6bda933962bd",
   "metadata": {},
   "outputs": [],
   "source": [
    "def func1():\n",
    "    print(x)\n",
    "    return"
   ]
  },
  {
   "cell_type": "code",
   "execution_count": 199,
   "id": "12aafa25-13b4-4754-8614-36f792dc5e71",
   "metadata": {},
   "outputs": [
    {
     "name": "stdout",
     "output_type": "stream",
     "text": [
      "3.0\n"
     ]
    }
   ],
   "source": [
    "func1()"
   ]
  },
  {
   "cell_type": "markdown",
   "id": "dd259d85-c76d-479d-8b8a-e27044cb1c43",
   "metadata": {},
   "source": [
    "- <u>上記のように自由にaccessできる関数を **グローバル変数** という</u>"
   ]
  },
  {
   "cell_type": "code",
   "execution_count": 200,
   "id": "ea673d43-e381-402a-a3e0-4dd18140cc36",
   "metadata": {},
   "outputs": [],
   "source": [
    "def func2(x):\n",
    "    y = 1.0\n",
    "    return(x + y)"
   ]
  },
  {
   "cell_type": "code",
   "execution_count": 201,
   "id": "86fb1a9c-e7c1-43a4-afc2-12c1f17ea75e",
   "metadata": {},
   "outputs": [
    {
     "data": {
      "text/plain": [
       "4.0"
      ]
     },
     "execution_count": 201,
     "metadata": {},
     "output_type": "execute_result"
    }
   ],
   "source": [
    "func2(x)"
   ]
  },
  {
   "cell_type": "code",
   "execution_count": 202,
   "id": "2cf8cfe3-38ce-43e0-90f2-ab79529631ed",
   "metadata": {},
   "outputs": [
    {
     "ename": "NameError",
     "evalue": "name 'y' is not defined",
     "output_type": "error",
     "traceback": [
      "\u001b[0;31m---------------------------------------------------------------------------\u001b[0m",
      "\u001b[0;31mNameError\u001b[0m                                 Traceback (most recent call last)",
      "\u001b[0;32m<ipython-input-202-9063a9f0e032>\u001b[0m in \u001b[0;36m<module>\u001b[0;34m\u001b[0m\n\u001b[0;32m----> 1\u001b[0;31m \u001b[0my\u001b[0m\u001b[0;34m\u001b[0m\u001b[0;34m\u001b[0m\u001b[0m\n\u001b[0m",
      "\u001b[0;31mNameError\u001b[0m: name 'y' is not defined"
     ]
    }
   ],
   "source": [
    "y"
   ]
  },
  {
   "cell_type": "markdown",
   "id": "1a11246b-1a10-43ea-99d9-eb718a84472d",
   "metadata": {},
   "source": [
    "- <u>関数の中で定義されている関数を **ローカル変数**　という</u>\n",
    "    - 勝手に外からアクセスして変更されない\n",
    "        - *この特性を利用して値を変更されたら困るような値を local で変数定義して使用する*"
   ]
  },
  {
   "cell_type": "markdown",
   "id": "8a616d47-baa5-4bee-b630-3e0922e50eb9",
   "metadata": {},
   "source": [
    "## default 引数\n",
    "- 関数の引数に対して default値を設定できる\n",
    "    - *前もって変数に値を設定しておく*"
   ]
  },
  {
   "cell_type": "code",
   "execution_count": 205,
   "id": "81fef0d4-8d85-447b-b2de-fb7e570dbeba",
   "metadata": {},
   "outputs": [],
   "source": [
    "def distance(x=1.0, y=2.0, z=3.0):\n",
    "    dis = (x ** 2 + y ** 2 + z ** 2) ** 0.5\n",
    "    return dis"
   ]
  },
  {
   "cell_type": "code",
   "execution_count": 206,
   "id": "9064f9d7-eb95-4333-81f9-76de1fb9b881",
   "metadata": {},
   "outputs": [
    {
     "data": {
      "text/plain": [
       "3.7416573867739413"
      ]
     },
     "execution_count": 206,
     "metadata": {},
     "output_type": "execute_result"
    }
   ],
   "source": [
    "distance()"
   ]
  },
  {
   "cell_type": "code",
   "execution_count": 207,
   "id": "59eee563-3aac-40b4-ab5d-ebfd0e6996f7",
   "metadata": {},
   "outputs": [
    {
     "data": {
      "text/plain": [
       "4.69041575982343"
      ]
     },
     "execution_count": 207,
     "metadata": {},
     "output_type": "execute_result"
    }
   ],
   "source": [
    "distance(3.0)"
   ]
  },
  {
   "cell_type": "markdown",
   "id": "685f7298-1791-4223-8969-17a52fa1e225",
   "metadata": {},
   "source": [
    "## 無名関数(lambda式)"
   ]
  },
  {
   "cell_type": "code",
   "execution_count": 208,
   "id": "e444b1f1-43fd-4671-b7d5-b3697c9dd268",
   "metadata": {},
   "outputs": [],
   "source": [
    "def distance(x, y, z):\n",
    "    dis = (x ** 2 + y ** 2 + z ** 2) ** 0.5\n",
    "    return dis"
   ]
  },
  {
   "cell_type": "code",
   "execution_count": 209,
   "id": "300c1f31-7180-494c-a7b3-173600976880",
   "metadata": {},
   "outputs": [],
   "source": [
    "f = lambda x, y, z: (x ** 2 + y ** 2 + z ** 2) ** 0.5"
   ]
  },
  {
   "cell_type": "code",
   "execution_count": 210,
   "id": "262b5cab-5349-4c03-be06-6ea3d5eefd9b",
   "metadata": {},
   "outputs": [
    {
     "data": {
      "text/plain": [
       "3.7416573867739413"
      ]
     },
     "execution_count": 210,
     "metadata": {},
     "output_type": "execute_result"
    }
   ],
   "source": [
    "f(1.0, 2.0, 3.0)"
   ]
  },
  {
   "cell_type": "markdown",
   "id": "c93b978c-e05a-4dc3-94e9-3ca96ee139f9",
   "metadata": {},
   "source": [
    "## map, filter\n",
    "- lambda式には便利な機能がある"
   ]
  },
  {
   "cell_type": "code",
   "execution_count": 213,
   "id": "56d4dd79-d5e9-475c-be90-a6f4c697a69a",
   "metadata": {},
   "outputs": [],
   "source": [
    "num_list = [1, 2, 3, 4, 5, 6, 7, 8]"
   ]
  },
  {
   "cell_type": "code",
   "execution_count": 214,
   "id": "c2568254-fbbf-48fc-b846-d3ec12166cde",
   "metadata": {},
   "outputs": [],
   "source": [
    "func = lambda x: x ** 2"
   ]
  },
  {
   "cell_type": "code",
   "execution_count": 216,
   "id": "84f66506-df5c-46a5-a733-868b569e0181",
   "metadata": {},
   "outputs": [
    {
     "data": {
      "text/plain": [
       "9.0"
      ]
     },
     "execution_count": 216,
     "metadata": {},
     "output_type": "execute_result"
    }
   ],
   "source": [
    "func(3.0)"
   ]
  },
  {
   "cell_type": "markdown",
   "id": "0eb6c314-0b3c-4afb-8a72-5835a9c56fd6",
   "metadata": {},
   "source": [
    "### map(mapping)\n",
    "- 関数を list のそれぞれの要素に対して作用させる事ができる"
   ]
  },
  {
   "cell_type": "code",
   "execution_count": 218,
   "id": "f4f1a14c-59c1-43f7-959a-a85c4349579f",
   "metadata": {},
   "outputs": [
    {
     "data": {
      "text/plain": [
       "[1, 4, 9, 16, 25, 36, 49, 64]"
      ]
     },
     "execution_count": 218,
     "metadata": {},
     "output_type": "execute_result"
    }
   ],
   "source": [
    "list(map(func, num_list))"
   ]
  },
  {
   "cell_type": "markdown",
   "id": "df5dfb21-2c60-4d06-a080-8a41a74b0b9d",
   "metadata": {},
   "source": [
    "### filter\n",
    "- 条件に合うものだけを　**フィルタリング**　する"
   ]
  },
  {
   "cell_type": "code",
   "execution_count": 219,
   "id": "c70c0673-2acf-4baf-a460-9c3b3cbc018d",
   "metadata": {},
   "outputs": [],
   "source": [
    "fileList = [\"aaa.txt\", \"bbb.csv\", \"ccc.xlsx\"]"
   ]
  },
  {
   "cell_type": "code",
   "execution_count": 220,
   "id": "310563cc-37e5-4b0a-b7df-ab14fda8fd57",
   "metadata": {},
   "outputs": [],
   "source": [
    "func2 = lambda x: x[-4:] == '.txt'"
   ]
  },
  {
   "cell_type": "code",
   "execution_count": 221,
   "id": "9b57fbb4-50db-4a1e-9319-9aaf777cb502",
   "metadata": {},
   "outputs": [
    {
     "data": {
      "text/plain": [
       "['aaa.txt']"
      ]
     },
     "execution_count": 221,
     "metadata": {},
     "output_type": "execute_result"
    }
   ],
   "source": [
    "list(filter(func2, fileList))"
   ]
  },
  {
   "cell_type": "markdown",
   "id": "5828c389-87f0-4207-ab3a-864d7746f280",
   "metadata": {},
   "source": [
    "- **lambda式**　と　**filter**　**map**　を使用することによって複雑な事を数行で実行・簡略化できる"
   ]
  },
  {
   "cell_type": "markdown",
   "id": "2cd0fd01-95af-438b-ba86-3eb11c1544d3",
   "metadata": {},
   "source": [
    "## module ( モジュール )\n",
    "- *moduleとは？*\n",
    "    - **function = 関数の　package**\n",
    "        - module を　import する事で関数やアルゴリズムを定義する手間が省ける\n",
    "        - <u>package　を　import　するだけですぐに簡易的に使用できる</u>"
   ]
  },
  {
   "cell_type": "code",
   "execution_count": 222,
   "id": "796745bf-9928-4260-8880-36d645c54387",
   "metadata": {},
   "outputs": [],
   "source": [
    "import numpy as np"
   ]
  },
  {
   "cell_type": "code",
   "execution_count": 223,
   "id": "ef4342b4-0752-4e53-a2f4-940fce3b5a2f",
   "metadata": {},
   "outputs": [
    {
     "data": {
      "text/plain": [
       "3.0"
      ]
     },
     "execution_count": 223,
     "metadata": {},
     "output_type": "execute_result"
    }
   ],
   "source": [
    "np.abs(-3.0)"
   ]
  },
  {
   "cell_type": "code",
   "execution_count": 224,
   "id": "d598e36c-ba12-46f9-98bc-c62f51b1c6e6",
   "metadata": {},
   "outputs": [
    {
     "data": {
      "text/plain": [
       "0.8155410236532262"
      ]
     },
     "execution_count": 224,
     "metadata": {},
     "output_type": "execute_result"
    }
   ],
   "source": [
    "np.random.rand()"
   ]
  },
  {
   "cell_type": "markdown",
   "id": "dc0cd5bc-84ac-48c5-93ee-ad78850f6c69",
   "metadata": {},
   "source": [
    "## os module\n",
    "- operating system に関する module"
   ]
  },
  {
   "cell_type": "code",
   "execution_count": 225,
   "id": "b16021c6-6146-4b8a-9649-2191fb65e1cf",
   "metadata": {},
   "outputs": [],
   "source": [
    "import os"
   ]
  },
  {
   "cell_type": "code",
   "execution_count": 228,
   "id": "ea93a458-f216-4845-aedc-01a3c73b8059",
   "metadata": {},
   "outputs": [
    {
     "data": {
      "text/plain": [
       "'/work/data analysis'"
      ]
     },
     "execution_count": 228,
     "metadata": {},
     "output_type": "execute_result"
    }
   ],
   "source": [
    "# 絶対 path を表示\n",
    "c_path = os.getcwd()\n",
    "c_path"
   ]
  },
  {
   "cell_type": "code",
   "execution_count": 231,
   "id": "f34d330a-0ca8-4294-9daa-7a5dc5d7238b",
   "metadata": {},
   "outputs": [
    {
     "data": {
      "text/plain": [
       "['.ipynb_checkpoints', '00_py_basic.ipynb', 'output.txt', 'resources']"
      ]
     },
     "execution_count": 231,
     "metadata": {},
     "output_type": "execute_result"
    }
   ],
   "source": [
    "# directory内を表示 : default値は カレントdirectory\n",
    "os.listdir(c_path)"
   ]
  },
  {
   "cell_type": "code",
   "execution_count": 233,
   "id": "243fcc2a-9ae1-47cf-846a-7d056474cea9",
   "metadata": {},
   "outputs": [
    {
     "name": "stdout",
     "output_type": "stream",
     "text": [
      "2 output.txt\n"
     ]
    }
   ],
   "source": [
    "# text file だけを抽出\n",
    "for i, j in enumerate(os.listdir(c_path)):\n",
    "    if j[-4:] == '.txt':\n",
    "        print(i, j)"
   ]
  },
  {
   "cell_type": "code",
   "execution_count": 234,
   "id": "5aa2bac3-c18a-41b0-8abe-db85785a80d1",
   "metadata": {},
   "outputs": [],
   "source": [
    "# directory 作成\n",
    "os.mkdir(\"test\")"
   ]
  },
  {
   "cell_type": "code",
   "execution_count": 235,
   "id": "25898696-c5dc-43fc-a791-a9b286b68f0c",
   "metadata": {},
   "outputs": [
    {
     "data": {
      "text/plain": [
       "['.ipynb_checkpoints', '00_py_basic.ipynb', 'output.txt', 'resources', 'test']"
      ]
     },
     "execution_count": 235,
     "metadata": {},
     "output_type": "execute_result"
    }
   ],
   "source": [
    "os.listdir()"
   ]
  },
  {
   "cell_type": "code",
   "execution_count": 236,
   "id": "42efe7e3-fc08-4e69-be43-6ca78a005d73",
   "metadata": {},
   "outputs": [],
   "source": [
    "os.rmdir(\"test\")"
   ]
  },
  {
   "cell_type": "code",
   "execution_count": 238,
   "id": "c835dc95-e04c-4b95-9700-3c63fe8c42e6",
   "metadata": {},
   "outputs": [
    {
     "data": {
      "text/plain": [
       "['.ipynb_checkpoints', '00_py_basic.ipynb', 'output.txt', 'resources']"
      ]
     },
     "execution_count": 238,
     "metadata": {},
     "output_type": "execute_result"
    }
   ],
   "source": [
    "os.listdir()"
   ]
  },
  {
   "cell_type": "markdown",
   "id": "521299a2-7572-43ed-9ac0-f6dbdb5d439f",
   "metadata": {},
   "source": [
    "## list内包表記"
   ]
  },
  {
   "cell_type": "code",
   "execution_count": 240,
   "id": "71535780-30ea-47b9-9650-ff2eface8405",
   "metadata": {},
   "outputs": [
    {
     "data": {
      "text/plain": [
       "[0, 1, 4, 9, 16, 25, 36, 49, 64, 81, 100]"
      ]
     },
     "execution_count": 240,
     "metadata": {},
     "output_type": "execute_result"
    }
   ],
   "source": [
    "num_list = []\n",
    "for i in range(11):\n",
    "    num_list.append(i ** 2)\n",
    "num_list"
   ]
  },
  {
   "cell_type": "code",
   "execution_count": 241,
   "id": "4c6fc108-20a2-40d9-a6f3-e65e4affaf35",
   "metadata": {},
   "outputs": [
    {
     "data": {
      "text/plain": [
       "[0, 1, 4, 9, 16, 25, 36, 49, 64, 81, 100]"
      ]
     },
     "execution_count": 241,
     "metadata": {},
     "output_type": "execute_result"
    }
   ],
   "source": [
    "num_list2 = [i ** 2 for i in range(11)]\n",
    "num_list2"
   ]
  },
  {
   "cell_type": "code",
   "execution_count": 242,
   "id": "c337ac6a-6587-428d-bbb1-c19965f945c0",
   "metadata": {},
   "outputs": [
    {
     "data": {
      "text/plain": [
       "['.ipynb_checkpoints', '00_py_basic.ipynb', 'output.txt', 'resources']"
      ]
     },
     "execution_count": 242,
     "metadata": {},
     "output_type": "execute_result"
    }
   ],
   "source": [
    "# os & list内包表記\n",
    "fileList = os.listdir()\n",
    "fileList"
   ]
  },
  {
   "cell_type": "code",
   "execution_count": 244,
   "id": "5b51c0be-b5a4-4cab-afc9-781e9e4cfe52",
   "metadata": {},
   "outputs": [
    {
     "data": {
      "text/plain": [
       "['output.txt']"
      ]
     },
     "execution_count": 244,
     "metadata": {},
     "output_type": "execute_result"
    }
   ],
   "source": [
    "textList = [i for i in fileList if i[-4:] == '.txt']\n",
    "textList"
   ]
  },
  {
   "cell_type": "markdown",
   "id": "707c7021-4763-40bb-9902-cd2a3e738f20",
   "metadata": {},
   "source": [
    "## 正規表現\n",
    "- 特定のパターンを使用して、狙ったパターンのモノを抽出できる\n",
    "    - **re　:　regex** module import\n",
    "    > https://docs.python.org/ja/3/library/re.html#module-re\n",
    "    \n",
    "\n",
    "- **r　:　ローストリング**\n",
    "    - *r' 文字列 ', r\" 文字列 \"　の頭につける事によって記述された文字をそのまま出力してくれる*\n",
    "        - `必ずつけること。これは正規表現を記述する際の手順・工程だと考えて必ずつける`"
   ]
  },
  {
   "cell_type": "code",
   "execution_count": 248,
   "id": "7635e6c2-ee72-461a-b46e-bfaa676e6af4",
   "metadata": {},
   "outputs": [],
   "source": [
    "# 正規表現 package\n",
    "import re"
   ]
  },
  {
   "cell_type": "code",
   "execution_count": 246,
   "id": "f8e0058b-cbf1-4388-ba97-cd19eead716c",
   "metadata": {},
   "outputs": [
    {
     "name": "stdout",
     "output_type": "stream",
     "text": [
      "a\tb\tc\n"
     ]
    }
   ],
   "source": [
    "print('a\\tb\\tc')"
   ]
  },
  {
   "cell_type": "code",
   "execution_count": 247,
   "id": "d433d7a2-221f-4583-a859-b1a7a2e4f050",
   "metadata": {},
   "outputs": [
    {
     "name": "stdout",
     "output_type": "stream",
     "text": [
      "a\\tb\\tc\n"
     ]
    }
   ],
   "source": [
    "print(r'a\\tb\\tc')"
   ]
  },
  {
   "cell_type": "code",
   "execution_count": 254,
   "id": "16ab2f6a-9266-42a6-8dd2-46ec3401209a",
   "metadata": {},
   "outputs": [
    {
     "data": {
      "text/plain": [
       "<re.Match object; span=(0, 3), match='123'>"
      ]
     },
     "execution_count": 254,
     "metadata": {},
     "output_type": "execute_result"
    }
   ],
   "source": [
    "# .search( 検索パターン記述　 : 検索元記述 )\n",
    "re.search(r\"123\", \"123456\")"
   ]
  },
  {
   "cell_type": "code",
   "execution_count": 255,
   "id": "cdc1c5b9-bc5c-4895-babf-f50b09c195e9",
   "metadata": {},
   "outputs": [
    {
     "data": {
      "text/plain": [
       "<re.Match object; span=(0, 3), match='123'>"
      ]
     },
     "execution_count": 255,
     "metadata": {},
     "output_type": "execute_result"
    }
   ],
   "source": [
    "m = re.search(r\"123\", \"123456\")\n",
    "m"
   ]
  },
  {
   "cell_type": "code",
   "execution_count": 256,
   "id": "bf307465-0014-42ef-b0de-d9a3ad047413",
   "metadata": {},
   "outputs": [
    {
     "data": {
      "text/plain": [
       "'123'"
      ]
     },
     "execution_count": 256,
     "metadata": {},
     "output_type": "execute_result"
    }
   ],
   "source": [
    "m.group()"
   ]
  },
  {
   "cell_type": "code",
   "execution_count": 257,
   "id": "08fd10a5-03e3-4e6a-8994-743d74dc296d",
   "metadata": {},
   "outputs": [
    {
     "data": {
      "text/plain": [
       "0"
      ]
     },
     "execution_count": 257,
     "metadata": {},
     "output_type": "execute_result"
    }
   ],
   "source": [
    "m.start()"
   ]
  },
  {
   "cell_type": "code",
   "execution_count": 262,
   "id": "0f35a9b2-e0aa-477f-8398-7d0ef61f755f",
   "metadata": {},
   "outputs": [
    {
     "data": {
      "text/plain": [
       "3"
      ]
     },
     "execution_count": 262,
     "metadata": {},
     "output_type": "execute_result"
    }
   ],
   "source": [
    "m.end()"
   ]
  },
  {
   "cell_type": "code",
   "execution_count": 263,
   "id": "813fa6ab-4842-4dd2-8ccb-fe2c12881c11",
   "metadata": {},
   "outputs": [
    {
     "data": {
      "text/plain": [
       "<re.Match object; span=(0, 6), match='111111'>"
      ]
     },
     "execution_count": 263,
     "metadata": {},
     "output_type": "execute_result"
    }
   ],
   "source": [
    "re.search(r\"1*\", \"111111\")"
   ]
  },
  {
   "cell_type": "code",
   "execution_count": 264,
   "id": "3cb0116a-ca91-46b1-8596-d8ecfae5924f",
   "metadata": {},
   "outputs": [
    {
     "data": {
      "text/plain": [
       "<re.Match object; span=(0, 1), match='1'>"
      ]
     },
     "execution_count": 264,
     "metadata": {},
     "output_type": "execute_result"
    }
   ],
   "source": [
    "re.search(r\"1\", \"1\")"
   ]
  },
  {
   "cell_type": "code",
   "execution_count": 265,
   "id": "d7303e39-d5a2-4fd4-8804-83ff914537f7",
   "metadata": {},
   "outputs": [
    {
     "data": {
      "text/plain": [
       "<re.Match object; span=(0, 4), match='1 23'>"
      ]
     },
     "execution_count": 265,
     "metadata": {},
     "output_type": "execute_result"
    }
   ],
   "source": [
    "# \\s: 半角スペース\n",
    "re.search(r\"1\\s23\", \"1 23\")"
   ]
  },
  {
   "cell_type": "code",
   "execution_count": 266,
   "id": "2c6122d0-83aa-4f5f-9742-7a1bea2a61ba",
   "metadata": {},
   "outputs": [],
   "source": [
    "# 先頭や末尾に対して match するかどうか\n",
    "re.search(r\"^123\", \"abs123\")"
   ]
  },
  {
   "cell_type": "markdown",
   "id": "59a9a3d2-5310-4712-ad02-53196d36b331",
   "metadata": {},
   "source": [
    "- 何も値が返ってこない事は、何も match していないという事\n",
    "\n",
    "- **^ (ハット)** 記号は先頭が検索する物に当てはまっているかどうかを探す"
   ]
  },
  {
   "cell_type": "code",
   "execution_count": 269,
   "id": "3fea2638-29a8-4756-a224-1f2f73ae15c5",
   "metadata": {},
   "outputs": [
    {
     "data": {
      "text/plain": [
       "<re.Match object; span=(3, 6), match='123'>"
      ]
     },
     "execution_count": 269,
     "metadata": {},
     "output_type": "execute_result"
    }
   ],
   "source": [
    "re.search(r\"123$\", \"abc123\")"
   ]
  },
  {
   "cell_type": "code",
   "execution_count": 278,
   "id": "63ca1254-7cb5-41f7-a00e-8e34cf18c0ff",
   "metadata": {},
   "outputs": [
    {
     "data": {
      "text/plain": [
       "<re.Match object; span=(0, 4), match='2456'>"
      ]
     },
     "execution_count": 278,
     "metadata": {},
     "output_type": "execute_result"
    }
   ],
   "source": [
    "# [ ]　括弧を使用する事で[]複数のに当てはまって456の検索ができる\n",
    "re.search(r\"[123]456\", \"2456\")"
   ]
  },
  {
   "cell_type": "code",
   "execution_count": 274,
   "id": "b42e60ad-d4d7-4958-bc3f-58ae322539d1",
   "metadata": {},
   "outputs": [
    {
     "data": {
      "text/plain": [
       "<re.Match object; span=(0, 6), match='Python'>"
      ]
     },
     "execution_count": 274,
     "metadata": {},
     "output_type": "execute_result"
    }
   ],
   "source": [
    "# 特定の文字があるか無いか\n",
    "re.search(r\"Python3?\", \"Python\")"
   ]
  },
  {
   "cell_type": "code",
   "execution_count": 275,
   "id": "f9ea66d3-b030-4485-b4fb-daaad2c26856",
   "metadata": {},
   "outputs": [
    {
     "data": {
      "text/plain": [
       "<re.Match object; span=(0, 7), match='Python2'>"
      ]
     },
     "execution_count": 275,
     "metadata": {},
     "output_type": "execute_result"
    }
   ],
   "source": [
    "# \\d 任意の数字 1 文字\n",
    "re.search(r\"Python\\d\", \"Python2\")"
   ]
  },
  {
   "cell_type": "code",
   "execution_count": 277,
   "id": "3166d84b-492f-4ebb-81fd-c10ef218d34c",
   "metadata": {},
   "outputs": [
    {
     "data": {
      "text/plain": [
       "<re.Match object; span=(7, 10), match='red'>"
      ]
     },
     "execution_count": 277,
     "metadata": {},
     "output_type": "execute_result"
    }
   ],
   "source": [
    "# いくつかのブロックごとに検索 : ( )括弧を使う事で複数の文字列検索もできる\n",
    "re.search(r\"(red|blue)\", \"I like red\")"
   ]
  },
  {
   "cell_type": "markdown",
   "id": "f1d3d4f8-b75b-4828-b6b6-6e4212e255a0",
   "metadata": {},
   "source": [
    "## 正規表現(実践編)"
   ]
  },
  {
   "cell_type": "code",
   "execution_count": 279,
   "id": "00e51d72-58f6-4490-880f-3169a4d23dad",
   "metadata": {},
   "outputs": [],
   "source": [
    "obj = \"-3.01E-10   1.000123  1.051E1  NaN\""
   ]
  },
  {
   "cell_type": "code",
   "execution_count": 281,
   "id": "c0a5ea03-7eb8-402e-8877-a5285aa71435",
   "metadata": {},
   "outputs": [
    {
     "data": {
      "text/plain": [
       "['-3.', '1.', '1.']"
      ]
     },
     "execution_count": 281,
     "metadata": {},
     "output_type": "execute_result"
    }
   ],
   "source": [
    "# - があるまたはない : 数字1文字 : ピリオド\n",
    "re.findall(r\"-?\\d\\.\", obj)"
   ]
  },
  {
   "cell_type": "code",
   "execution_count": 282,
   "id": "56cca777-b9ca-493d-ab0d-d3da4193fa32",
   "metadata": {},
   "outputs": [
    {
     "data": {
      "text/plain": [
       "['-3.01', '1.000123', '1.051']"
      ]
     },
     "execution_count": 282,
     "metadata": {},
     "output_type": "execute_result"
    }
   ],
   "source": [
    "# - がある場合または無い : 数字1文字 : ピリオド : 数字全て　:\n",
    "re.findall(r\"-?\\d\\.\\d*\", obj)"
   ]
  },
  {
   "cell_type": "code",
   "execution_count": 284,
   "id": "9bf556df-7522-43af-ba79-d2c7f239c763",
   "metadata": {},
   "outputs": [
    {
     "data": {
      "text/plain": [
       "['-3.01E-10', '1.000123', '1.051E1']"
      ]
     },
     "execution_count": 284,
     "metadata": {},
     "output_type": "execute_result"
    }
   ],
   "source": [
    "# - があるまたはない : 数字1文字 : ピリオド : 数字全て　: Eがある場合とない場合 : - がある場合無い場合 : 数字全て\n",
    "re.findall(r\"-?\\d\\.\\d*E?-?\\d*\", obj)"
   ]
  },
  {
   "cell_type": "code",
   "execution_count": 286,
   "id": "5467288a-d0cf-4c03-9783-d150e04fd758",
   "metadata": {},
   "outputs": [
    {
     "data": {
      "text/plain": [
       "['-3.01E-10', '1.000123', '1.051E1', 'NaN']"
      ]
     },
     "execution_count": 286,
     "metadata": {},
     "output_type": "execute_result"
    }
   ],
   "source": [
    "# - があるまたはない : 数字1文字 : ピリオド : 数字全て　: Eがある場合とない場合 : - がある場合無い場合 : 数字全て | NaN ()\n",
    "re.findall(r\"(-?\\d\\.\\d*E?-?\\d*|NaN)\", obj)"
   ]
  },
  {
   "cell_type": "code",
   "execution_count": null,
   "id": "032effe9-5008-46b8-8c1c-0dd08ef93af1",
   "metadata": {},
   "outputs": [],
   "source": []
  }
 ],
 "metadata": {
  "kernelspec": {
   "display_name": "Python 3",
   "language": "python",
   "name": "python3"
  },
  "language_info": {
   "codemirror_mode": {
    "name": "ipython",
    "version": 3
   },
   "file_extension": ".py",
   "mimetype": "text/x-python",
   "name": "python",
   "nbconvert_exporter": "python",
   "pygments_lexer": "ipython3",
   "version": "3.8.8"
  }
 },
 "nbformat": 4,
 "nbformat_minor": 5
}
