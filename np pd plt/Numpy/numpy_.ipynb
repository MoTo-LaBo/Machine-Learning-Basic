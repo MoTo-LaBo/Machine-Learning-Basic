{
 "cells": [
  {
   "cell_type": "markdown",
   "id": "ff318bdb-8373-4fb4-94ce-18c980f0a346",
   "metadata": {},
   "source": [
    "# numpy"
   ]
  },
  {
   "cell_type": "markdown",
   "id": "52d10f01-91a1-4eeb-b8ce-2706377ecb68",
   "metadata": {},
   "source": [
    "#### seikit-learn では主にベクトル・配列の機能を中心に用いる"
   ]
  },
  {
   "cell_type": "markdown",
   "id": "169c301e-71ea-4e2f-99e3-d8fcdb9d6ead",
   "metadata": {},
   "source": [
    "## array : 配列"
   ]
  },
  {
   "cell_type": "code",
   "execution_count": 2,
   "id": "34f6d8a2-9a0e-4c4e-9906-ee293057dbc1",
   "metadata": {},
   "outputs": [],
   "source": [
    "import numpy as np"
   ]
  },
  {
   "cell_type": "code",
   "execution_count": 3,
   "id": "a0f8ee18-2782-4804-ab74-2f23e85d5e1b",
   "metadata": {},
   "outputs": [
    {
     "data": {
      "text/plain": [
       "array([1, 2, 3])"
      ]
     },
     "execution_count": 3,
     "metadata": {},
     "output_type": "execute_result"
    }
   ],
   "source": [
    "# 1次元配列\n",
    "a = np.array([1, 2, 3])\n",
    "a"
   ]
  },
  {
   "cell_type": "code",
   "execution_count": 4,
   "id": "cee339ad-8981-4816-abf5-1c901714988a",
   "metadata": {},
   "outputs": [
    {
     "name": "stdout",
     "output_type": "stream",
     "text": [
      "[1 2 3]\n"
     ]
    }
   ],
   "source": [
    "print(a)"
   ]
  },
  {
   "cell_type": "code",
   "execution_count": 5,
   "id": "c324fee9-78ac-4989-b5d1-203e260a1dd8",
   "metadata": {},
   "outputs": [
    {
     "data": {
      "text/plain": [
       "numpy.ndarray"
      ]
     },
     "execution_count": 5,
     "metadata": {},
     "output_type": "execute_result"
    }
   ],
   "source": [
    "# object\n",
    "type(a)"
   ]
  },
  {
   "cell_type": "markdown",
   "id": "1d4bb5db-d885-430b-bbbd-7a98ab549305",
   "metadata": {},
   "source": [
    "ndarray は nmupy の配列の型"
   ]
  },
  {
   "cell_type": "code",
   "execution_count": 6,
   "id": "ecc3dd0e-9b84-4408-b3a6-421287bdef01",
   "metadata": {},
   "outputs": [
    {
     "data": {
      "text/plain": [
       "(3,)"
      ]
     },
     "execution_count": 6,
     "metadata": {},
     "output_type": "execute_result"
    }
   ],
   "source": [
    "# 配列の次元と要素数を調べる\n",
    "a.shape"
   ]
  },
  {
   "cell_type": "markdown",
   "id": "4cde9bfe-120e-47c0-b436-3a493119ffce",
   "metadata": {},
   "source": [
    "1次元の場合は次元が省略されて出力される"
   ]
  },
  {
   "cell_type": "code",
   "execution_count": 7,
   "id": "cbc9280c-f5ba-4838-b879-b8a79c31a25a",
   "metadata": {},
   "outputs": [
    {
     "data": {
      "text/plain": [
       "array([[1, 2, 3],\n",
       "       [4, 5, 6]])"
      ]
     },
     "execution_count": 7,
     "metadata": {},
     "output_type": "execute_result"
    }
   ],
   "source": [
    "# 2次元配列\n",
    "b = np.array([[1, 2, 3], [4, 5, 6]])\n",
    "b"
   ]
  },
  {
   "cell_type": "markdown",
   "id": "71b2d987-96d3-472a-aa38-56a901208a84",
   "metadata": {},
   "source": [
    "[ [  ] ] 括弧が２重になっている　：　中身が２次元 list"
   ]
  },
  {
   "cell_type": "code",
   "execution_count": 8,
   "id": "b4d21de6-052b-4b53-b64c-6d5eb1765a2e",
   "metadata": {},
   "outputs": [
    {
     "name": "stdout",
     "output_type": "stream",
     "text": [
      "[[1 2 3]\n",
      " [4 5 6]]\n"
     ]
    }
   ],
   "source": [
    "print(b)"
   ]
  },
  {
   "cell_type": "markdown",
   "id": "dcff692a-a34a-4251-b258-5a3beeaa5f6e",
   "metadata": {},
   "source": [
    "## 配列の型変換"
   ]
  },
  {
   "cell_type": "code",
   "execution_count": 9,
   "id": "70fd844e-7266-47a2-b1a9-c280397fedd1",
   "metadata": {},
   "outputs": [
    {
     "data": {
      "text/plain": [
       "array([[ 2,  4,  6],\n",
       "       [ 8, 10, 12]])"
      ]
     },
     "execution_count": 9,
     "metadata": {},
     "output_type": "execute_result"
    }
   ],
   "source": [
    "# 1次元 -> 2次元\n",
    "c = np.array([2, 4, 6, 8, 10, 12])\n",
    "\n",
    "# tuple型で指定 / 行, 列\n",
    "c1 = c.reshape((2, 3))\n",
    "c1"
   ]
  },
  {
   "cell_type": "code",
   "execution_count": 10,
   "id": "8f070ab1-fb5f-439d-b75d-7d6c5d3ed572",
   "metadata": {},
   "outputs": [
    {
     "name": "stdout",
     "output_type": "stream",
     "text": [
      "[[ 2  4  6]\n",
      " [ 8 10 12]]\n"
     ]
    }
   ],
   "source": [
    "print(c1)"
   ]
  },
  {
   "cell_type": "markdown",
   "id": "ab6cc9ff-d64c-4c95-9e5f-8e23f74f310f",
   "metadata": {},
   "source": [
    "- reshape で与える値 ( 行, 列 ) は .shape の時に出てきた形を与えれあげる　=　tuple型"
   ]
  },
  {
   "cell_type": "code",
   "execution_count": 11,
   "id": "7afbced2-284f-4710-b308-d52800102549",
   "metadata": {},
   "outputs": [
    {
     "data": {
      "text/plain": [
       "(2, 3)"
      ]
     },
     "execution_count": 11,
     "metadata": {},
     "output_type": "execute_result"
    }
   ],
   "source": [
    "c1.shape"
   ]
  },
  {
   "cell_type": "code",
   "execution_count": 12,
   "id": "0ac5f914-1ce7-4912-b14a-36186c912e43",
   "metadata": {},
   "outputs": [
    {
     "data": {
      "text/plain": [
       "array([ 2,  4,  6,  8, 10, 12])"
      ]
     },
     "execution_count": 12,
     "metadata": {},
     "output_type": "execute_result"
    }
   ],
   "source": [
    "# 2次元 -> １次元\n",
    "c2 = c1.ravel()\n",
    "c2"
   ]
  },
  {
   "cell_type": "markdown",
   "id": "7ddf8f63-1803-4371-b294-576c2a194972",
   "metadata": {},
   "source": [
    "- 参照なので元の　data が変わると参照先 data　も変わる"
   ]
  },
  {
   "cell_type": "code",
   "execution_count": 13,
   "id": "f9183e17-4cae-4c53-a49d-89c7d57001af",
   "metadata": {},
   "outputs": [
    {
     "data": {
      "text/plain": [
       "array([[ 1,  4,  6],\n",
       "       [ 8, 10, 12]])"
      ]
     },
     "execution_count": 13,
     "metadata": {},
     "output_type": "execute_result"
    }
   ],
   "source": [
    "c1[0, 0] = 1\n",
    "c1"
   ]
  },
  {
   "cell_type": "code",
   "execution_count": 14,
   "id": "d064cc3d-8479-4ded-a902-fa59c1e59c1e",
   "metadata": {},
   "outputs": [
    {
     "data": {
      "text/plain": [
       "array([ 1,  4,  6,  8, 10, 12])"
      ]
     },
     "execution_count": 14,
     "metadata": {},
     "output_type": "execute_result"
    }
   ],
   "source": [
    "c2"
   ]
  },
  {
   "cell_type": "code",
   "execution_count": 15,
   "id": "24d07e4e-b2d6-4b22-b3db-a975a4051176",
   "metadata": {},
   "outputs": [
    {
     "data": {
      "text/plain": [
       "array([ 1,  4,  6,  8, 10, 12])"
      ]
     },
     "execution_count": 15,
     "metadata": {},
     "output_type": "execute_result"
    }
   ],
   "source": [
    "# ２次元 -> 1次元\n",
    "c3 = c1.flatten()\n",
    "c3"
   ]
  },
  {
   "cell_type": "markdown",
   "id": "bf44e5d6-f4a2-4c0e-8651-ef7e7cc74121",
   "metadata": {},
   "source": [
    "- flatten はコピーなので、元の data を変更しても影響はない"
   ]
  },
  {
   "cell_type": "code",
   "execution_count": 16,
   "id": "cda89127-5788-4e2d-b0f8-183d681f836f",
   "metadata": {},
   "outputs": [
    {
     "data": {
      "text/plain": [
       "array([[ 2,  4,  6],\n",
       "       [ 8, 10, 12]])"
      ]
     },
     "execution_count": 16,
     "metadata": {},
     "output_type": "execute_result"
    }
   ],
   "source": [
    "c1[0, 0] = 2\n",
    "c1"
   ]
  },
  {
   "cell_type": "code",
   "execution_count": 17,
   "id": "9030d7b4-c7b5-4a24-9d7c-c4466fcee933",
   "metadata": {},
   "outputs": [
    {
     "data": {
      "text/plain": [
       "array([ 1,  4,  6,  8, 10, 12])"
      ]
     },
     "execution_count": 17,
     "metadata": {},
     "output_type": "execute_result"
    }
   ],
   "source": [
    "# flatten()\n",
    "c3"
   ]
  },
  {
   "cell_type": "code",
   "execution_count": 18,
   "id": "7e44d43f-6992-4306-9863-87fc7bb0afaa",
   "metadata": {},
   "outputs": [
    {
     "data": {
      "text/plain": [
       "array([ 2,  4,  6,  8, 10, 12])"
      ]
     },
     "execution_count": 18,
     "metadata": {},
     "output_type": "execute_result"
    }
   ],
   "source": [
    "# ravel( )\n",
    "c2"
   ]
  },
  {
   "cell_type": "markdown",
   "id": "7419746f-0b54-4984-837f-b573222eee8e",
   "metadata": {},
   "source": [
    "- 状況に応じて　ravel( ), flatten( )　を使用する\n",
    "    - flatten( ) はコピーdata なので `同じ量のdataを２つ　=　2倍作成する事になる` = **メモリを消費する**\n",
    "    - *あまりに大量の data でやってしまうと遅くなってしまう可能性がある*"
   ]
  },
  {
   "cell_type": "markdown",
   "id": "898d789b-d71c-42c9-8561-3f77b65822c0",
   "metadata": {},
   "source": [
    "## Data型の取得と変換"
   ]
  },
  {
   "cell_type": "code",
   "execution_count": 19,
   "id": "fd100f1f-1563-43fc-b3a7-40f223f108ef",
   "metadata": {},
   "outputs": [
    {
     "data": {
      "text/plain": [
       "dtype('int64')"
      ]
     },
     "execution_count": 19,
     "metadata": {},
     "output_type": "execute_result"
    }
   ],
   "source": [
    "# data型の取得\n",
    "a.dtype"
   ]
  },
  {
   "cell_type": "code",
   "execution_count": 20,
   "id": "5e2bcd05-a6f2-4970-b945-46aa711f6e9b",
   "metadata": {},
   "outputs": [
    {
     "data": {
      "text/plain": [
       "dtype('int64')"
      ]
     },
     "execution_count": 20,
     "metadata": {},
     "output_type": "execute_result"
    }
   ],
   "source": [
    "# np.int64型の dataの作成\n",
    "d = np.array([1, 3], dtype=np.int64)\n",
    "d.dtype"
   ]
  },
  {
   "cell_type": "markdown",
   "id": "6672040c-913e-4be1-a456-084322f0a427",
   "metadata": {},
   "source": [
    "- big data や AI 機械学習をやろうと思ったら、しっかりと data size 処理も行わないと上手くいかない場合がある"
   ]
  },
  {
   "cell_type": "code",
   "execution_count": 21,
   "id": "1f0b658f-432b-40d6-bb18-0a412a14d805",
   "metadata": {},
   "outputs": [
    {
     "data": {
      "text/plain": [
       "array([1., 3.], dtype=float16)"
      ]
     },
     "execution_count": 21,
     "metadata": {},
     "output_type": "execute_result"
    }
   ],
   "source": [
    "# data型の変更 (np.float16へ　)\n",
    "d1 = d.astype(np.float16)\n",
    "d1"
   ]
  },
  {
   "cell_type": "markdown",
   "id": "60412c1e-0ad9-4378-ab62-bb06e804dc63",
   "metadata": {},
   "source": [
    "## index　と　slice"
   ]
  },
  {
   "cell_type": "code",
   "execution_count": 22,
   "id": "87b0cb5d-f095-41c4-8df1-549e3483edf8",
   "metadata": {},
   "outputs": [
    {
     "data": {
      "text/plain": [
       "array([1, 2, 3, 4, 5, 6])"
      ]
     },
     "execution_count": 22,
     "metadata": {},
     "output_type": "execute_result"
    }
   ],
   "source": [
    "# index　と　slice\n",
    "a = np.array([1, 2, 3, 4, 5, 6])\n",
    "a"
   ]
  },
  {
   "cell_type": "code",
   "execution_count": 23,
   "id": "eeff0263-9acc-43ae-950c-52b762387dba",
   "metadata": {},
   "outputs": [
    {
     "data": {
      "text/plain": [
       "1"
      ]
     },
     "execution_count": 23,
     "metadata": {},
     "output_type": "execute_result"
    }
   ],
   "source": [
    "a[0]"
   ]
  },
  {
   "cell_type": "code",
   "execution_count": 24,
   "id": "ac92bc73-ea3e-4bb8-be33-0a12c926b797",
   "metadata": {},
   "outputs": [
    {
     "data": {
      "text/plain": [
       "6"
      ]
     },
     "execution_count": 24,
     "metadata": {},
     "output_type": "execute_result"
    }
   ],
   "source": [
    "a[-1]"
   ]
  },
  {
   "cell_type": "code",
   "execution_count": 25,
   "id": "dd1a394c-b826-410e-a0b3-503b3874563c",
   "metadata": {},
   "outputs": [
    {
     "data": {
      "text/plain": [
       "array([4, 5, 6])"
      ]
     },
     "execution_count": 25,
     "metadata": {},
     "output_type": "execute_result"
    }
   ],
   "source": [
    "# 3以上\n",
    "a[3:]"
   ]
  },
  {
   "cell_type": "code",
   "execution_count": 26,
   "id": "87ccfed1-b525-468b-a902-0071a804d719",
   "metadata": {},
   "outputs": [
    {
     "data": {
      "text/plain": [
       "array([1, 2, 3])"
      ]
     },
     "execution_count": 26,
     "metadata": {},
     "output_type": "execute_result"
    }
   ],
   "source": [
    "# index 3 未満\n",
    "a[:3]"
   ]
  },
  {
   "cell_type": "code",
   "execution_count": 27,
   "id": "d39ab14b-2c9f-4447-97f2-74c585b07cb1",
   "metadata": {},
   "outputs": [
    {
     "data": {
      "text/plain": [
       "array([[1, 2, 3, 4],\n",
       "       [5, 6, 7, 8]])"
      ]
     },
     "execution_count": 27,
     "metadata": {},
     "output_type": "execute_result"
    }
   ],
   "source": [
    "# index 2次元配列\n",
    "b = np.array([[1, 2, 3, 4], [5, 6, 7, 8]])\n",
    "b"
   ]
  },
  {
   "cell_type": "code",
   "execution_count": 28,
   "id": "33b2eec5-5341-4f5b-aedd-38f910c35ba9",
   "metadata": {},
   "outputs": [
    {
     "data": {
      "text/plain": [
       "array([1, 2, 3, 4])"
      ]
     },
     "execution_count": 28,
     "metadata": {},
     "output_type": "execute_result"
    }
   ],
   "source": [
    "# 0行目\n",
    "b[0]"
   ]
  },
  {
   "cell_type": "code",
   "execution_count": 29,
   "id": "2bc34b31-f7cc-45f5-97dc-e8710f14caef",
   "metadata": {},
   "outputs": [
    {
     "data": {
      "text/plain": [
       "array([5, 6, 7, 8])"
      ]
     },
     "execution_count": 29,
     "metadata": {},
     "output_type": "execute_result"
    }
   ],
   "source": [
    "# 1行目\n",
    "b[1]"
   ]
  },
  {
   "cell_type": "code",
   "execution_count": 30,
   "id": "ea6a50fd-7137-4a81-9461-ae06cb9ac2ec",
   "metadata": {},
   "outputs": [
    {
     "data": {
      "text/plain": [
       "4"
      ]
     },
     "execution_count": 30,
     "metadata": {},
     "output_type": "execute_result"
    }
   ],
   "source": [
    "b[0, 3]"
   ]
  },
  {
   "cell_type": "code",
   "execution_count": 31,
   "id": "1de8decf-6bb5-4501-b2a1-d8bd33b4b9a9",
   "metadata": {},
   "outputs": [
    {
     "data": {
      "text/plain": [
       "7"
      ]
     },
     "execution_count": 31,
     "metadata": {},
     "output_type": "execute_result"
    }
   ],
   "source": [
    "b[1, 2]"
   ]
  },
  {
   "cell_type": "code",
   "execution_count": 32,
   "id": "b44ca0c2-0733-4ca7-85a7-b808fe63df6e",
   "metadata": {},
   "outputs": [
    {
     "data": {
      "text/plain": [
       "array([3, 7])"
      ]
     },
     "execution_count": 32,
     "metadata": {},
     "output_type": "execute_result"
    }
   ],
   "source": [
    "# 0と１行目　の　２列目\n",
    "b[:, 2]"
   ]
  },
  {
   "cell_type": "code",
   "execution_count": 33,
   "id": "309aaade-d90c-4c4f-8fe7-cd64e7f612cf",
   "metadata": {},
   "outputs": [
    {
     "data": {
      "text/plain": [
       "array([2, 3, 4])"
      ]
     },
     "execution_count": 33,
     "metadata": {},
     "output_type": "execute_result"
    }
   ],
   "source": [
    "# 0行目の 2列目以降\n",
    "b[0, 1:]"
   ]
  },
  {
   "cell_type": "markdown",
   "id": "eb1f2b59-75d9-4f3d-a8b4-cb1c21a7e1ad",
   "metadata": {},
   "source": [
    "## dataの設定"
   ]
  },
  {
   "cell_type": "code",
   "execution_count": 34,
   "id": "1919788f-7c99-41fa-b75d-9acefc0f4f28",
   "metadata": {},
   "outputs": [
    {
     "data": {
      "text/plain": [
       "array([ 1,  2, 10,  4])"
      ]
     },
     "execution_count": 34,
     "metadata": {},
     "output_type": "execute_result"
    }
   ],
   "source": [
    "# データを変更\n",
    "a = np.array([1, 2, 3, 4])\n",
    "a[2] = 10\n",
    "a"
   ]
  },
  {
   "cell_type": "code",
   "execution_count": 35,
   "id": "4c0d26bb-79f4-40df-b179-f24ec1e11396",
   "metadata": {},
   "outputs": [
    {
     "data": {
      "text/plain": [
       "array([0, 0, 0, 0])"
      ]
     },
     "execution_count": 35,
     "metadata": {},
     "output_type": "execute_result"
    }
   ],
   "source": [
    "a = np.array([1, 2, 3, 4])\n",
    "a[:] = 0\n",
    "a"
   ]
  },
  {
   "cell_type": "code",
   "execution_count": 36,
   "id": "eade4e49-a505-4db4-8676-262a3d66f1b0",
   "metadata": {},
   "outputs": [
    {
     "data": {
      "text/plain": [
       "array([[ 1,  2, 10,  4],\n",
       "       [ 5,  6,  7,  8]])"
      ]
     },
     "execution_count": 36,
     "metadata": {},
     "output_type": "execute_result"
    }
   ],
   "source": [
    "# ２次元の場合\n",
    "b = np.array([[1, 2, 3, 4], [5, 6, 7, 8]])\n",
    "b[0, 2] = 10\n",
    "b"
   ]
  },
  {
   "cell_type": "code",
   "execution_count": 37,
   "id": "47b56f6a-2b53-4527-9df2-c309dc8f5074",
   "metadata": {},
   "outputs": [
    {
     "data": {
      "text/plain": [
       "array([[ 1,  0, 10,  4],\n",
       "       [ 5,  0,  7,  8]])"
      ]
     },
     "execution_count": 37,
     "metadata": {},
     "output_type": "execute_result"
    }
   ],
   "source": [
    "# 2列目を ０　に変更\n",
    "b[:, 1] = 0\n",
    "b"
   ]
  },
  {
   "cell_type": "markdown",
   "id": "c80d86df-7b2a-4c46-be22-78e46a3ff760",
   "metadata": {},
   "source": [
    "## 乱数\n",
    "- random.seed( )　->　擬似乱数の 「 種 」 の設定\n",
    "- 乱数の種　->　乱数を発生させる関数の初期値\n",
    "- 同じ種のものは、同じパターンの擬似乱数を発生させる\n",
    "\n",
    "\n",
    "- **擬似乱数**\n",
    "    - 完全な乱数では無い\n",
    "    - 乱数らしきモノを発生させる\n",
    "\n",
    "\n",
    "- **再現性ががいといけない**\n",
    "    - どんな人がやっても同じ値が返ってくるようで無いといけない\n",
    "    - ***apple** と翻訳機に入力したら　**りんご**　と返してほしいという事*\n",
    "        - <u>同じ結果が得られるという事が必要になる</u>"
   ]
  },
  {
   "cell_type": "code",
   "execution_count": 38,
   "id": "9f6e5407-57c6-4f3c-97bd-c6272db5e003",
   "metadata": {},
   "outputs": [
    {
     "data": {
      "text/plain": [
       "0.417022004702574"
      ]
     },
     "execution_count": 38,
     "metadata": {},
     "output_type": "execute_result"
    }
   ],
   "source": [
    "# 乱数の発生\n",
    "np.random.seed(1)  # 乱数の種の設定 (1)\n",
    "np.random.random() # 0.0 ~ 1.0の乱数"
   ]
  },
  {
   "cell_type": "code",
   "execution_count": 39,
   "id": "d3da8ce9-e6d1-4a0c-b88c-7a1f0dde6e7b",
   "metadata": {},
   "outputs": [
    {
     "data": {
      "text/plain": [
       "0.7203244934421581"
      ]
     },
     "execution_count": 39,
     "metadata": {},
     "output_type": "execute_result"
    }
   ],
   "source": [
    "# seed を指定しないと変わってしまう\n",
    "np.random.random()"
   ]
  },
  {
   "cell_type": "code",
   "execution_count": 40,
   "id": "61da8335-a7a2-421f-9f74-1e041d60b0e6",
   "metadata": {},
   "outputs": [
    {
     "data": {
      "text/plain": [
       "array([4.17022005e-01, 7.20324493e-01, 1.14374817e-04, 3.02332573e-01])"
      ]
     },
     "execution_count": 40,
     "metadata": {},
     "output_type": "execute_result"
    }
   ],
   "source": [
    "# 引数の値を変える\n",
    "np.random.seed(1)   # 乱数の種の設定 (1)\n",
    "np.random.random(4) # n個からなる　１次元配列を発生させる "
   ]
  },
  {
   "cell_type": "code",
   "execution_count": 41,
   "id": "f24833f4-5aac-4230-869f-5a3a7947106c",
   "metadata": {},
   "outputs": [
    {
     "data": {
      "text/plain": [
       "array([[4.17022005e-01, 7.20324493e-01],\n",
       "       [1.14374817e-04, 3.02332573e-01],\n",
       "       [1.46755891e-01, 9.23385948e-02]])"
      ]
     },
     "execution_count": 41,
     "metadata": {},
     "output_type": "execute_result"
    }
   ],
   "source": [
    "# 2次元の乱数発生させる\n",
    "np.random.seed(1)         # 乱数の種の設定 (1)\n",
    "np.random.random((3, 2))  # (( 行,列 ))　括弧は２重"
   ]
  },
  {
   "cell_type": "code",
   "execution_count": 42,
   "id": "790b4c68-53e1-452c-8907-d18110ed19d1",
   "metadata": {},
   "outputs": [
    {
     "data": {
      "text/plain": [
       "6"
      ]
     },
     "execution_count": 42,
     "metadata": {},
     "output_type": "execute_result"
    }
   ],
   "source": [
    "# 乱数を整数で発生させる\n",
    "np.random.seed(1)         # 乱数の種の設定 (1)\n",
    "np.random.randint(1, 10)  # (行,列)　１　〜　１０　未満の間の整数"
   ]
  },
  {
   "cell_type": "markdown",
   "id": "8de28b1e-1514-4cb6-97ca-0227c7890be1",
   "metadata": {},
   "source": [
    "## data の生成"
   ]
  },
  {
   "cell_type": "code",
   "execution_count": 43,
   "id": "4e89c180-c3c3-4849-88bf-ab8ad700226e",
   "metadata": {},
   "outputs": [
    {
     "data": {
      "text/plain": [
       "array([0, 1, 2, 3, 4, 5, 6, 7, 8, 9])"
      ]
     },
     "execution_count": 43,
     "metadata": {},
     "output_type": "execute_result"
    }
   ],
   "source": [
    "# 数列を返す\n",
    "np.arange(10)  # 10未満"
   ]
  },
  {
   "cell_type": "code",
   "execution_count": 44,
   "id": "b7604ae7-62ef-4246-8b9d-0b88989a4b26",
   "metadata": {},
   "outputs": [
    {
     "data": {
      "text/plain": [
       "array([3, 4, 5, 6, 7, 8, 9])"
      ]
     },
     "execution_count": 44,
     "metadata": {},
     "output_type": "execute_result"
    }
   ],
   "source": [
    "# 範囲指定\n",
    "np.arange(3, 10) # 3以上、　１０未満"
   ]
  },
  {
   "cell_type": "markdown",
   "id": "07e31fc2-16f8-48f0-852b-f1aea146c665",
   "metadata": {},
   "source": [
    "### meshgrid (メッシュグリッド)\n",
    "- 2つの arange の数値全ての組み合わせを作る"
   ]
  },
  {
   "cell_type": "code",
   "execution_count": 45,
   "id": "1311f916-3665-4423-bb2e-85b656352ba9",
   "metadata": {},
   "outputs": [
    {
     "name": "stdout",
     "output_type": "stream",
     "text": [
      "[0, 0]\n",
      "[1, 0]\n",
      "[2, 0]\n",
      "[0, 1]\n",
      "[1, 1]\n",
      "[2, 1]\n",
      "[0, 2]\n",
      "[1, 2]\n",
      "[2, 2]\n",
      "[0, 3]\n",
      "[1, 3]\n",
      "[2, 3]\n",
      "[0, 4]\n",
      "[1, 4]\n",
      "[2, 4]\n"
     ]
    }
   ],
   "source": [
    "# X座標\n",
    "x = np.arange(3)  # array([0, 1, 2])\n",
    "# Y座標\n",
    "y = np.arange(5)  # array([0, 1, 2, 3, 4])\n",
    "# 格子点作成\n",
    "xx, yy = np.meshgrid(x, y)\n",
    "# 格子点の組み併せを表示\n",
    "for vx, vy in zip(xx, yy):\n",
    "    for px, py in zip(vx, vy):\n",
    "        print(\"[{}, {}]\".format(px, py))"
   ]
  },
  {
   "cell_type": "code",
   "execution_count": 46,
   "id": "eff797bc-b2d8-4152-b8e8-edd0d8b2b5cb",
   "metadata": {},
   "outputs": [
    {
     "name": "stdout",
     "output_type": "stream",
     "text": [
      "[0 1 2]\n",
      "[0 1 2 3 4]\n"
     ]
    }
   ],
   "source": [
    "print(x)\n",
    "print(y)"
   ]
  },
  {
   "cell_type": "markdown",
   "id": "afad3d08-96e7-46d7-b9e8-911920282853",
   "metadata": {},
   "source": [
    "#### X, Y の総当たりの組み合わせになっている"
   ]
  },
  {
   "cell_type": "code",
   "execution_count": 47,
   "id": "f8341696-bc07-49b2-bcac-ee873d16e863",
   "metadata": {},
   "outputs": [
    {
     "data": {
      "text/plain": [
       "array([0., 0., 0.])"
      ]
     },
     "execution_count": 47,
     "metadata": {},
     "output_type": "execute_result"
    }
   ],
   "source": [
    "a = np.zeros(3)\n",
    "a"
   ]
  },
  {
   "cell_type": "code",
   "execution_count": 48,
   "id": "3b51e8bb-f17f-4279-b50e-1df4c659e325",
   "metadata": {},
   "outputs": [
    {
     "data": {
      "text/plain": [
       "array([[0., 0., 0.],\n",
       "       [0., 0., 0.],\n",
       "       [0., 0., 0.]])"
      ]
     },
     "execution_count": 48,
     "metadata": {},
     "output_type": "execute_result"
    }
   ],
   "source": [
    "b = np.zeros((3, 3))\n",
    "b"
   ]
  },
  {
   "cell_type": "code",
   "execution_count": 49,
   "id": "07e93014-142f-4811-a503-abd11d1d03e7",
   "metadata": {},
   "outputs": [
    {
     "data": {
      "text/plain": [
       "array([1., 1., 1.])"
      ]
     },
     "execution_count": 49,
     "metadata": {},
     "output_type": "execute_result"
    }
   ],
   "source": [
    "c = np.ones(3)\n",
    "c"
   ]
  },
  {
   "cell_type": "code",
   "execution_count": 50,
   "id": "4710eb75-c976-44ee-bcba-abcd4c8c899a",
   "metadata": {},
   "outputs": [
    {
     "data": {
      "text/plain": [
       "array([[1., 1., 1.],\n",
       "       [1., 1., 1.],\n",
       "       [1., 1., 1.]])"
      ]
     },
     "execution_count": 50,
     "metadata": {},
     "output_type": "execute_result"
    }
   ],
   "source": [
    "d = np.ones((3, 3))\n",
    "d"
   ]
  },
  {
   "cell_type": "code",
   "execution_count": 51,
   "id": "f73c4644-5a27-4554-a39f-27c2539350f5",
   "metadata": {},
   "outputs": [
    {
     "data": {
      "text/plain": [
       "array([10, 10, 10])"
      ]
     },
     "execution_count": 51,
     "metadata": {},
     "output_type": "execute_result"
    }
   ],
   "source": [
    "# full : 10 とういう値を３個もつ一次元配列\n",
    "e = np.full(3, 10)\n",
    "e"
   ]
  },
  {
   "cell_type": "code",
   "execution_count": 52,
   "id": "5cb0bf44-2a1a-4e0e-8b6f-19ff3fe196fd",
   "metadata": {},
   "outputs": [
    {
     "data": {
      "text/plain": [
       "array([[10, 10, 10],\n",
       "       [10, 10, 10],\n",
       "       [10, 10, 10]])"
      ]
     },
     "execution_count": 52,
     "metadata": {},
     "output_type": "execute_result"
    }
   ],
   "source": [
    "f = np.full((3, 3), 10)\n",
    "f"
   ]
  },
  {
   "cell_type": "code",
   "execution_count": 53,
   "id": "2a3bfb04-5ee2-4afc-908b-c6b33df36132",
   "metadata": {},
   "outputs": [
    {
     "data": {
      "text/plain": [
       "array([0.  , 0.25, 0.5 , 0.75, 1.  ])"
      ]
     },
     "execution_count": 53,
     "metadata": {},
     "output_type": "execute_result"
    }
   ],
   "source": [
    "# 均等割りのdata　：　（ 始点, 終点, いくつに分割するか ）\n",
    "l = np.linspace(0, 1, 5)\n",
    "l"
   ]
  },
  {
   "cell_type": "markdown",
   "id": "868e30ac-7eb0-4354-848b-2f8a48d183a8",
   "metadata": {},
   "source": [
    "## data　の結合と分離"
   ]
  },
  {
   "cell_type": "markdown",
   "id": "d29c69ab-c9a4-451f-aa6a-557c62cc85cb",
   "metadata": {},
   "source": [
    "### concatenate( )\n",
    "- ２次元配列は axis で縦軸横軸の結合を指定\n",
    "- `dataはリンク : 結合前と結合後で相関関係がある`"
   ]
  },
  {
   "cell_type": "code",
   "execution_count": 54,
   "id": "d4d2945b-6298-4cb4-81eb-0c056bff2816",
   "metadata": {},
   "outputs": [
    {
     "data": {
      "text/plain": [
       "array([1, 2, 3, 4, 5, 6])"
      ]
     },
     "execution_count": 54,
     "metadata": {},
     "output_type": "execute_result"
    }
   ],
   "source": [
    "a1 = np.array([1, 2, 3])\n",
    "a2 = np.array([4, 5, 6])\n",
    "a3 = np.concatenate([a1, a2])\n",
    "a3"
   ]
  },
  {
   "cell_type": "markdown",
   "id": "7780140b-c288-408e-9bf2-189d66db223d",
   "metadata": {},
   "source": [
    "- **結合前と結合後 data は相関関係がある**"
   ]
  },
  {
   "cell_type": "code",
   "execution_count": 55,
   "id": "81c373df-12dd-492a-a5f3-635f3f104fff",
   "metadata": {},
   "outputs": [
    {
     "data": {
      "text/plain": [
       "array([[ 1,  2,  3,  7,  8,  9],\n",
       "       [ 4,  5,  6, 10, 11, 12]])"
      ]
     },
     "execution_count": 55,
     "metadata": {},
     "output_type": "execute_result"
    }
   ],
   "source": [
    "b1 = np.array([[1, 2, 3], [4, 5, 6]])\n",
    "b2 = np.array([[7, 8, 9], [10, 11, 12]])\n",
    "b3 = np.concatenate([b1, b2], axis=1)\n",
    "b3"
   ]
  },
  {
   "cell_type": "code",
   "execution_count": 56,
   "id": "8b861ef7-d0a9-4172-ac57-0ce632a70900",
   "metadata": {},
   "outputs": [
    {
     "data": {
      "text/plain": [
       "array([[ 1,  2,  3],\n",
       "       [ 4,  5,  6],\n",
       "       [ 7,  8,  9],\n",
       "       [10, 11, 12]])"
      ]
     },
     "execution_count": 56,
     "metadata": {},
     "output_type": "execute_result"
    }
   ],
   "source": [
    "b1 = np.array([[1, 2, 3], [4, 5, 6]])\n",
    "b2 = np.array([[7, 8, 9], [10, 11, 12]])\n",
    "b3 = np.concatenate([b1, b2], axis=0)\n",
    "b3"
   ]
  },
  {
   "cell_type": "markdown",
   "id": "28b24d9b-30d0-44d7-8b9b-4d745668bad5",
   "metadata": {},
   "source": [
    "- 2次元配列は axis で縦横の結合方法を変更する"
   ]
  },
  {
   "cell_type": "markdown",
   "id": "1975d3a3-34ce-4119-a798-0ae96193d743",
   "metadata": {},
   "source": [
    "### hstack( )\n",
    "- 2次元配列を横軸方向で結合\n",
    "- `data はコピー`"
   ]
  },
  {
   "cell_type": "code",
   "execution_count": 57,
   "id": "3895b0ec-10bd-4d1b-9201-8a61578141ec",
   "metadata": {},
   "outputs": [
    {
     "data": {
      "text/plain": [
       "array([[ 1,  2,  3,  7,  8,  9],\n",
       "       [ 4,  5,  6, 10, 11, 12]])"
      ]
     },
     "execution_count": 57,
     "metadata": {},
     "output_type": "execute_result"
    }
   ],
   "source": [
    "b1 = np.array([[1, 2, 3], [4, 5, 6]])\n",
    "b2 = np.array([[7, 8, 9], [10, 11, 12]])\n",
    "b3 = np.hstack([b1, b2])\n",
    "b3"
   ]
  },
  {
   "cell_type": "markdown",
   "id": "12b1b662-be43-4284-9a3d-d5236628edb5",
   "metadata": {},
   "source": [
    "### vstack( )\n",
    "- ２次元配列を縦軸方向に結合\n",
    "- `dataはコピー`"
   ]
  },
  {
   "cell_type": "code",
   "execution_count": 58,
   "id": "3dd459de-62b6-403f-84aa-9f29b590b825",
   "metadata": {},
   "outputs": [
    {
     "data": {
      "text/plain": [
       "array([[ 1,  2,  3],\n",
       "       [ 4,  5,  6],\n",
       "       [ 7,  8,  9],\n",
       "       [10, 11, 12]])"
      ]
     },
     "execution_count": 58,
     "metadata": {},
     "output_type": "execute_result"
    }
   ],
   "source": [
    "# 縦軸方向に結合\n",
    "c1 = np.array([[1, 2, 3], [4, 5, 6]])\n",
    "c2 = np.array([[7, 8, 9], [10, 11, 12]])\n",
    "c3 = np.vstack([b1, b2])\n",
    "c3"
   ]
  },
  {
   "cell_type": "markdown",
   "id": "25870b4d-8c32-48e5-98d8-e8d1b37e6521",
   "metadata": {},
   "source": [
    "- 状況に応じて　concatenate( ), stack( ), vstack( )　を使用する\n",
    "    - v,stack( ) はコピーdata なので `同じ量のdataを２つ　=　2倍作成する事になる` = **メモリを消費する**\n",
    "    - *あまりに大量の data でやってしまうと遅くなってしまう可能性がある*\n",
    "    - concatenate( ) はメモリをなるべく使用したくない時に使用する"
   ]
  },
  {
   "cell_type": "markdown",
   "id": "d2334203-e31a-49cc-960b-0b4943e9b578",
   "metadata": {},
   "source": [
    "## 分割"
   ]
  },
  {
   "cell_type": "markdown",
   "id": "7eead4e5-47e4-47cb-8c2c-1aa50f48c7f0",
   "metadata": {},
   "source": [
    "### hsplit( )\n",
    "- 列に対する分割\n",
    "- 分割する列の位置は listで考える\n",
    "- 分割は コピー"
   ]
  },
  {
   "cell_type": "code",
   "execution_count": 59,
   "id": "2022ed2f-6e26-4038-b0c9-176156504e42",
   "metadata": {},
   "outputs": [
    {
     "name": "stdout",
     "output_type": "stream",
     "text": [
      "h1:\n",
      "[[1 2 3]\n",
      " [4 5 6]]\n",
      "h2:\n",
      "[[ 7  8  9]\n",
      " [10 11 12]]\n"
     ]
    }
   ],
   "source": [
    "h = np.array([[1, 2, 3, 7, 8, 9], [4, 5, 6, 10, 11, 12]])\n",
    "h1, h2 = np.hsplit(h, [3])  # index を指定　3列目で分割\n",
    "print(f'h1:\\n{h1}\\nh2:\\n{h2}')"
   ]
  },
  {
   "cell_type": "code",
   "execution_count": 60,
   "id": "0e62c5c2-7eca-4af4-ae6c-8476499e6eeb",
   "metadata": {},
   "outputs": [
    {
     "data": {
      "text/plain": [
       "array([[ 1,  2,  3,  7,  8,  9],\n",
       "       [ 4,  5,  6, 10, 11, 12]])"
      ]
     },
     "execution_count": 60,
     "metadata": {},
     "output_type": "execute_result"
    }
   ],
   "source": [
    "h"
   ]
  },
  {
   "cell_type": "code",
   "execution_count": 61,
   "id": "bd7aaafa-29c8-49c8-84cb-96c521017009",
   "metadata": {},
   "outputs": [
    {
     "name": "stdout",
     "output_type": "stream",
     "text": [
      "h1:\n",
      "[[1 2]\n",
      " [4 5]]\n",
      "h2:\n",
      "[[ 3  7]\n",
      " [ 6 10]]\n",
      "h3:\n",
      "[[ 8  9]\n",
      " [11 12]]\n"
     ]
    }
   ],
   "source": [
    "h = np.array([[1, 2, 3, 7, 8, 9], [4, 5, 6, 10, 11, 12]])\n",
    "h1, h2, h3 = np.hsplit(h, [2, 4])  # index を指定　3列目, 4列目で分割\n",
    "print(f'h1:\\n{h1}\\nh2:\\n{h2}\\nh3:\\n{h3}')"
   ]
  },
  {
   "cell_type": "markdown",
   "id": "b29e3236-c1fc-4555-87e8-b79f4f9451aa",
   "metadata": {},
   "source": [
    "### vsplit( )\n",
    "- 行に対する分割\n",
    "- 分割する行は listで与える\n",
    "- 分割は コピー"
   ]
  },
  {
   "cell_type": "code",
   "execution_count": 62,
   "id": "89952700-1ef6-4651-9393-266441fc7126",
   "metadata": {},
   "outputs": [
    {
     "name": "stdout",
     "output_type": "stream",
     "text": [
      "v1:\n",
      "[[1 2 3]\n",
      " [4 5 6]\n",
      " [7 8 9]]\n",
      "v2:\n",
      "[[10 11 12]]\n"
     ]
    }
   ],
   "source": [
    "v = np.array([[1, 2, 3], [4, 5, 6], [7, 8, 9], [10, 11, 12]])\n",
    "v1, v2 = np.vsplit(v, [3])  # index を指定　3列目で分割\n",
    "print(f'v1:\\n{v1}\\nv2:\\n{v2}')"
   ]
  },
  {
   "cell_type": "code",
   "execution_count": 63,
   "id": "26168b8f-f632-4bff-8c2a-7b046b42f96b",
   "metadata": {},
   "outputs": [
    {
     "data": {
      "text/plain": [
       "array([[ 1,  2,  3],\n",
       "       [ 4,  5,  6],\n",
       "       [ 7,  8,  9],\n",
       "       [10, 11, 12]])"
      ]
     },
     "execution_count": 63,
     "metadata": {},
     "output_type": "execute_result"
    }
   ],
   "source": [
    "v"
   ]
  },
  {
   "cell_type": "code",
   "execution_count": 64,
   "id": "263b8109-b4b6-43c4-a2f4-0457f3bf792d",
   "metadata": {},
   "outputs": [
    {
     "name": "stdout",
     "output_type": "stream",
     "text": [
      "v1:\n",
      "[[1 2 3]\n",
      " [4 5 6]]\n",
      "v2:\n",
      "[[7 8 9]]\n",
      "v3:\n",
      "[[10 11 12]]\n"
     ]
    }
   ],
   "source": [
    "v = np.array([[1, 2, 3], [4, 5, 6], [7, 8, 9], [10, 11, 12]])\n",
    "v1, v2, v3 = np.vsplit(v, [2, 3])  # index を指定　2行目, 3行目で分割\n",
    "print(f'v1:\\n{v1}\\nv2:\\n{v2}\\nv3:\\n{v3}')"
   ]
  },
  {
   "cell_type": "markdown",
   "id": "12f4e68e-1470-4276-ba0f-6526a80513f3",
   "metadata": {},
   "source": [
    "### 転地\n",
    "- T　：　配列の行と列を入れ替える（横・縦入れ替え）"
   ]
  },
  {
   "cell_type": "code",
   "execution_count": 65,
   "id": "76b188a2-886a-4e44-b7ad-dc340b61540f",
   "metadata": {},
   "outputs": [
    {
     "data": {
      "text/plain": [
       "array([[ 1,  2,  3],\n",
       "       [ 4,  5,  6],\n",
       "       [ 7,  8,  9],\n",
       "       [10, 11, 12]])"
      ]
     },
     "execution_count": 65,
     "metadata": {},
     "output_type": "execute_result"
    }
   ],
   "source": [
    "v"
   ]
  },
  {
   "cell_type": "code",
   "execution_count": 66,
   "id": "2b9b1d60-acb2-4435-a2e7-dd091f5ae2f0",
   "metadata": {},
   "outputs": [
    {
     "data": {
      "text/plain": [
       "array([[ 1,  4,  7, 10],\n",
       "       [ 2,  5,  8, 11],\n",
       "       [ 3,  6,  9, 12]])"
      ]
     },
     "execution_count": 66,
     "metadata": {},
     "output_type": "execute_result"
    }
   ],
   "source": [
    "v.T"
   ]
  },
  {
   "cell_type": "markdown",
   "id": "32980ef3-e959-475b-8ed2-c14bebcfe7b1",
   "metadata": {},
   "source": [
    "## 演算処理\n",
    "-  universal function\n",
    "    - 配列の全要素に演算処理を行い、結果を配列で返す関数\n",
    "    - abs　:　絶対値を決める / absolute の略\n",
    "    - **np.abs(a)**　:　配列 a の全ての要素に **np.ads**"
   ]
  },
  {
   "cell_type": "code",
   "execution_count": 67,
   "id": "b65367c1-341c-4f56-8057-a57d59ff94dd",
   "metadata": {},
   "outputs": [
    {
     "data": {
      "text/plain": [
       "array([1, 2, 3, 3, 5])"
      ]
     },
     "execution_count": 67,
     "metadata": {},
     "output_type": "execute_result"
    }
   ],
   "source": [
    "a = np.array([-1, 2, 3, -3, 5])\n",
    "np.abs(a)"
   ]
  },
  {
   "cell_type": "markdown",
   "id": "dce44489-7e71-4da2-a46f-9fe4c04d51f5",
   "metadata": {},
   "source": [
    "- **np.sin(a)**　:　配列の a の全ての要素に **np.sin**"
   ]
  },
  {
   "cell_type": "code",
   "execution_count": 68,
   "id": "a4694b59-85f9-4944-9961-f7d3c06f3222",
   "metadata": {},
   "outputs": [
    {
     "data": {
      "text/plain": [
       "array([0.        , 0.70710678, 1.        ])"
      ]
     },
     "execution_count": 68,
     "metadata": {},
     "output_type": "execute_result"
    }
   ],
   "source": [
    "a = np.array([0.0, np.pi / 4.0, np.pi / 2.0])\n",
    "np.sin(a) # sinの計算"
   ]
  },
  {
   "cell_type": "code",
   "execution_count": 69,
   "id": "fd6a4ec3-5388-4b38-9781-c3af9a4a5064",
   "metadata": {},
   "outputs": [
    {
     "data": {
      "text/plain": [
       "array([0.        , 0.78539816, 1.57079633])"
      ]
     },
     "execution_count": 69,
     "metadata": {},
     "output_type": "execute_result"
    }
   ],
   "source": [
    "a"
   ]
  },
  {
   "cell_type": "markdown",
   "id": "d7002853-6163-45d2-bb39-3f9f456c474a",
   "metadata": {},
   "source": [
    "### broadcasting\n",
    "- NumPy配列ndarray同士の二項演算（四則演算など）ではブロードキャスト（broadcasting）という仕組み"
   ]
  },
  {
   "cell_type": "code",
   "execution_count": 70,
   "id": "1a94c60d-5dfd-4c61-be2c-a12e1ea7b495",
   "metadata": {},
   "outputs": [
    {
     "name": "stdout",
     "output_type": "stream",
     "text": [
      "[11 12 13 14 15]\n",
      "[-9 -8 -7 -6 -5]\n",
      "[ 2  4  6  8 10]\n",
      "[0.5 1.  1.5 2.  2.5]\n",
      "\n"
     ]
    }
   ],
   "source": [
    "# ブロードキャスト\n",
    "a = np.array([1, 2, 3, 4, 5])\n",
    "print(f'{a + 10}\\n{a - 10}\\n{2 * a}\\n{a / 2}\\n')"
   ]
  },
  {
   "cell_type": "code",
   "execution_count": 71,
   "id": "77435724-cbe9-41fe-bd17-f5c0a358b233",
   "metadata": {},
   "outputs": [
    {
     "name": "stdout",
     "output_type": "stream",
     "text": [
      "[ 3  6  9 12 15]\n",
      "[-1 -2 -3 -4 -5]\n",
      "[ 2  8 18 32 50]\n",
      "[0.5 0.5 0.5 0.5 0.5]\n"
     ]
    }
   ],
   "source": [
    "a = np.array([1, 2, 3, 4, 5])\n",
    "b = np.array([2, 4, 6, 8, 10])\n",
    "print(f'{a + b}\\n{a - b}\\n{a * b}\\n{a / b}')"
   ]
  },
  {
   "cell_type": "markdown",
   "id": "4d3d9f7c-8d4e-42e5-ac95-ad95c21c9abe",
   "metadata": {},
   "source": [
    "## 判定・論理値"
   ]
  },
  {
   "cell_type": "code",
   "execution_count": 72,
   "id": "70fa7d39-0b30-4f4c-8345-2f33e5cafad5",
   "metadata": {},
   "outputs": [
    {
     "data": {
      "text/plain": [
       "array([ True, False,  True, False])"
      ]
     },
     "execution_count": 72,
     "metadata": {},
     "output_type": "execute_result"
    }
   ],
   "source": [
    "a = np.array([1, -2, 3, -5])\n",
    "np.array(a > 0)"
   ]
  },
  {
   "cell_type": "markdown",
   "id": "202d534b-1e4a-4c44-803f-65591c7ab21d",
   "metadata": {},
   "source": [
    "### count_nonzero( )\n",
    "- 配列の中で　0 ではない要素をカウント"
   ]
  },
  {
   "cell_type": "code",
   "execution_count": 73,
   "id": "1a5da988-f139-4ee3-adf5-a25395d91f1b",
   "metadata": {},
   "outputs": [
    {
     "name": "stdout",
     "output_type": "stream",
     "text": [
      "0より大き数値は2個ある/True: 2つ\n"
     ]
    }
   ],
   "source": [
    "a = np.array([1, -2, 3, -5])\n",
    "b = np.count_nonzero(a > 0)\n",
    "print(f'0より大き数値は{b}個ある/True: {b}つ')"
   ]
  },
  {
   "cell_type": "markdown",
   "id": "858c0dac-7e09-4cbf-b779-2270b5df7930",
   "metadata": {},
   "source": [
    "### sum( )\n",
    "- 配列の要素の合計"
   ]
  },
  {
   "cell_type": "code",
   "execution_count": 74,
   "id": "d7256a81-24ac-4c3d-99bb-86596ea4cdb0",
   "metadata": {},
   "outputs": [
    {
     "data": {
      "text/plain": [
       "2"
      ]
     },
     "execution_count": 74,
     "metadata": {},
     "output_type": "execute_result"
    }
   ],
   "source": [
    "a = np.array([1, -2, 3, -5])\n",
    "s = np.sum(a > 0)\n",
    "s"
   ]
  },
  {
   "cell_type": "markdown",
   "id": "ff692aa0-8942-4638-9c92-7084e59dfdee",
   "metadata": {},
   "source": [
    "### any( 条件 )\n",
    "- 配列の中に一つでも条件を満たすものがあるかを調べる\n",
    "    - *１つでも当てはまれば　True　で値を返す*"
   ]
  },
  {
   "cell_type": "code",
   "execution_count": 75,
   "id": "daaae99d-6c7f-4dc1-bc5a-129ddeddfc5d",
   "metadata": {},
   "outputs": [
    {
     "data": {
      "text/plain": [
       "True"
      ]
     },
     "execution_count": 75,
     "metadata": {},
     "output_type": "execute_result"
    }
   ],
   "source": [
    "a = np.array([1, -2, 3, -5])\n",
    "np.any(a > 0)"
   ]
  },
  {
   "cell_type": "markdown",
   "id": "7a64e78b-1f3f-4771-a01b-c90597482d2a",
   "metadata": {},
   "source": [
    "### all( 条件 )\n",
    "- 配列の要素が全て条件を満たすか調べる"
   ]
  },
  {
   "cell_type": "code",
   "execution_count": 76,
   "id": "1738e553-93a0-4488-bdfa-b6259320a8ba",
   "metadata": {},
   "outputs": [
    {
     "data": {
      "text/plain": [
       "False"
      ]
     },
     "execution_count": 76,
     "metadata": {},
     "output_type": "execute_result"
    }
   ],
   "source": [
    "a = np.array([1, -2, 3, -5])\n",
    "np.all(a > 0)"
   ]
  },
  {
   "cell_type": "markdown",
   "id": "71c9a7c9-0779-4395-baa9-09c8114992a6",
   "metadata": {},
   "source": [
    "### 配列[ 条件 ]\n",
    "- 配列の中から条件を満たす要素のみで配列を作成"
   ]
  },
  {
   "cell_type": "code",
   "execution_count": 77,
   "id": "8fcd36a5-29d3-40e1-aa2a-7e211d6bca4c",
   "metadata": {},
   "outputs": [
    {
     "data": {
      "text/plain": [
       "array([1, 3])"
      ]
     },
     "execution_count": 77,
     "metadata": {},
     "output_type": "execute_result"
    }
   ],
   "source": [
    "a = np.array([1, -2, 3, -5])\n",
    "# aの中から０より大きい要素のみの配列を取得\n",
    "a[a > 0]"
   ]
  },
  {
   "cell_type": "markdown",
   "id": "4ab7c41b-f940-410e-a6e9-4e19758c36b9",
   "metadata": {},
   "source": [
    "- **filter　の役割を果たす**"
   ]
  },
  {
   "cell_type": "markdown",
   "id": "8f6ec9b8-932c-4f9b-9cc5-0a8135fe43a8",
   "metadata": {},
   "source": [
    "### 配列 == 配列\n",
    "- 2つの異なる配列の比較"
   ]
  },
  {
   "cell_type": "code",
   "execution_count": 78,
   "id": "6a5331e9-1f81-4730-a556-12f14e90330c",
   "metadata": {},
   "outputs": [
    {
     "data": {
      "text/plain": [
       "array([ True, False,  True, False])"
      ]
     },
     "execution_count": 78,
     "metadata": {},
     "output_type": "execute_result"
    }
   ],
   "source": [
    "a = np.array([1, 2, 3, 4])\n",
    "b = np.array([1, 0, 3, 0])\n",
    "# 対応する要素が等しければ True を返す\n",
    "a == b"
   ]
  },
  {
   "cell_type": "markdown",
   "id": "92151816-45ee-49ce-8846-0a4222150618",
   "metadata": {},
   "source": [
    "### allclose( )\n",
    "- 配列の全要素が等しいかどうかを調べる\n",
    "    - True　:　全要素が等しい\n",
    "    - False　:　要素が等しく無いものが存在する"
   ]
  },
  {
   "cell_type": "code",
   "execution_count": 79,
   "id": "b0db4aff-b21f-4aae-90ec-4dcd0a9e4c65",
   "metadata": {},
   "outputs": [
    {
     "name": "stdout",
     "output_type": "stream",
     "text": [
      "True\n",
      "False\n"
     ]
    }
   ],
   "source": [
    "a = np.array([1, 2, 3, 4])\n",
    "b = np.array([1, 2, 3, 4])\n",
    "c = np.array([1, 2, 3, 5])\n",
    "# ２つの配列が同じ値を取っているか調べる\n",
    "print(f'{np.allclose(a, b)}\\n{np.allclose(a, c)}')"
   ]
  },
  {
   "cell_type": "code",
   "execution_count": 80,
   "id": "c37ddb62-d9ae-42b5-b49a-d833ff4275d0",
   "metadata": {},
   "outputs": [
    {
     "name": "stdout",
     "output_type": "stream",
     "text": [
      "True\n",
      "False\n"
     ]
    }
   ],
   "source": [
    "# atol を指定すると、等しい条件に誤差を確認\n",
    "a = np.array([1, 2, 3, 4])\n",
    "b = np.array([1, 2, 3, 10])\n",
    "c = np.array([1, 2, 3, 100])\n",
    "# ２つの配列が指定された誤差( atol で指定した )範囲内に収まっているか調べる\n",
    "print(f'{np.allclose(a, b, atol=10)}\\n{np.allclose(a, c, atol=10)}')"
   ]
  },
  {
   "cell_type": "markdown",
   "id": "7ae2eba4-a19f-41cb-a060-e1eb6809ae3d",
   "metadata": {},
   "source": [
    "- *誤差を１０まで認める*"
   ]
  },
  {
   "cell_type": "markdown",
   "id": "d4ffa9cc-0271-42ac-ab8f-2f22ab527e46",
   "metadata": {},
   "source": [
    "## 問題１"
   ]
  },
  {
   "cell_type": "code",
   "execution_count": 96,
   "id": "e2650059-bce6-4f40-b165-ce02e9746f06",
   "metadata": {},
   "outputs": [
    {
     "data": {
      "text/plain": [
       "array([1, 2, 3, 4, 5, 6])"
      ]
     },
     "execution_count": 96,
     "metadata": {},
     "output_type": "execute_result"
    }
   ],
   "source": [
    "a = np.array([1, 2, 3, 4, 5, 6])\n",
    "a"
   ]
  },
  {
   "cell_type": "code",
   "execution_count": 97,
   "id": "c8bc8939-ecbd-4b2f-9f55-b1ea4e8c4e10",
   "metadata": {},
   "outputs": [
    {
     "data": {
      "text/plain": [
       "array([ 2,  4,  6,  8, 10, 12])"
      ]
     },
     "execution_count": 97,
     "metadata": {},
     "output_type": "execute_result"
    }
   ],
   "source": [
    "a = (a * 2)\n",
    "a"
   ]
  },
  {
   "cell_type": "code",
   "execution_count": 101,
   "id": "80a71d6e-13bb-4585-9642-ab0b77ef4353",
   "metadata": {},
   "outputs": [
    {
     "data": {
      "text/plain": [
       "array([[ 2,  4,  6],\n",
       "       [ 8, 10, 12]])"
      ]
     },
     "execution_count": 101,
     "metadata": {},
     "output_type": "execute_result"
    }
   ],
   "source": [
    "a = a.reshape((2, 3)) # tuple型, list型で指定\n",
    "a"
   ]
  },
  {
   "cell_type": "code",
   "execution_count": 87,
   "id": "1e1758bc-e14a-4f9e-863d-5677c9ffda0f",
   "metadata": {},
   "outputs": [
    {
     "data": {
      "text/plain": [
       "[array([[ 2,  4],\n",
       "        [ 8, 10]]),\n",
       " array([[ 6],\n",
       "        [12]])]"
      ]
     },
     "execution_count": 87,
     "metadata": {},
     "output_type": "execute_result"
    }
   ],
   "source": [
    "a = np.hsplit(a, [2])\n",
    "a"
   ]
  },
  {
   "cell_type": "code",
   "execution_count": 91,
   "id": "38565e24-5b9e-435b-a772-04a786af1fb2",
   "metadata": {},
   "outputs": [
    {
     "data": {
      "text/plain": [
       "array([1, 2, 3, 4, 5, 6, 7, 8])"
      ]
     },
     "execution_count": 91,
     "metadata": {},
     "output_type": "execute_result"
    }
   ],
   "source": [
    "b = np.array([1, 2, 3, 4])\n",
    "c = np.array([5, 6, 7, 8])\n",
    "con = np.concatenate([b, c])\n",
    "con"
   ]
  },
  {
   "cell_type": "code",
   "execution_count": 93,
   "id": "2ec13da3-9ba4-4ea0-8532-2577b22168a2",
   "metadata": {},
   "outputs": [
    {
     "data": {
      "text/plain": [
       "array([[ 1,  2,  3,  7,  8,  9],\n",
       "       [ 4,  5,  6, 10, 11, 12]])"
      ]
     },
     "execution_count": 93,
     "metadata": {},
     "output_type": "execute_result"
    }
   ],
   "source": [
    "d = np.array([[1, 2, 3], [4, 5, 6]])\n",
    "e = np.array([[7, 8, 9], [10, 11, 12]])\n",
    "hst = np.hstack((d, e))\n",
    "hst"
   ]
  },
  {
   "cell_type": "code",
   "execution_count": 94,
   "id": "c641c6ff-8432-43fd-8d55-d21c8d40e947",
   "metadata": {},
   "outputs": [
    {
     "data": {
      "text/plain": [
       "array([[ 1,  2,  3],\n",
       "       [ 4,  5,  6],\n",
       "       [ 7,  8,  9],\n",
       "       [10, 11, 12]])"
      ]
     },
     "execution_count": 94,
     "metadata": {},
     "output_type": "execute_result"
    }
   ],
   "source": [
    "d = np.array([[1, 2, 3], [4, 5, 6]])\n",
    "e = np.array([[7, 8, 9], [10, 11, 12]])\n",
    "vst = np.vstack((d, e))\n",
    "vst"
   ]
  },
  {
   "cell_type": "code",
   "execution_count": null,
   "id": "56d858e3-af38-4338-afd8-b53dbe03dc76",
   "metadata": {},
   "outputs": [],
   "source": []
  }
 ],
 "metadata": {
  "kernelspec": {
   "display_name": "Python 3",
   "language": "python",
   "name": "python3"
  },
  "language_info": {
   "codemirror_mode": {
    "name": "ipython",
    "version": 3
   },
   "file_extension": ".py",
   "mimetype": "text/x-python",
   "name": "python",
   "nbconvert_exporter": "python",
   "pygments_lexer": "ipython3",
   "version": "3.8.8"
  }
 },
 "nbformat": 4,
 "nbformat_minor": 5
}
