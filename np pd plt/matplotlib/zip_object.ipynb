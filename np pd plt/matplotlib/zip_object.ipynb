{
 "cells": [
  {
   "cell_type": "markdown",
   "id": "ae185761-4658-4899-a9e5-7a0775c4fd4b",
   "metadata": {},
   "source": [
    "# zip object(ジップオブジェクト)"
   ]
  },
  {
   "cell_type": "markdown",
   "id": "e1fae81d-6dda-4cd9-849d-9bf79bb5beb8",
   "metadata": {},
   "source": [
    "- data 列を束ねる「zip」\n",
    "    - data 処理の様々な局面で必要になるもの\n",
    "    - python3 に備わっている機能\n",
    "    - data 処理で特にお世話になる機能\n",
    "    \n",
    "- 様々な data列を束ねて１つの集合体として扱って効率的に　data処理を行う\n"
   ]
  },
  {
   "cell_type": "code",
   "execution_count": 3,
   "id": "f9f7d6d0-c3a7-4bf3-9ad9-2667c2ca3833",
   "metadata": {},
   "outputs": [],
   "source": [
    "import numpy as np"
   ]
  },
  {
   "cell_type": "code",
   "execution_count": 4,
   "id": "705ec811-61ff-4ba0-bcad-ef94dd8dcd6a",
   "metadata": {},
   "outputs": [],
   "source": [
    "a1 = [1, 3, 5, 7, 9]\n",
    "a2 = [2, 4, 6, 8, 10]\n",
    "z = zip(a1, a2)"
   ]
  },
  {
   "cell_type": "code",
   "execution_count": 6,
   "id": "d3bb2fa3-e4ac-43ca-a46e-8f7142cb8bb2",
   "metadata": {},
   "outputs": [
    {
     "data": {
      "text/plain": [
       "<zip at 0x10e8f9e80>"
      ]
     },
     "execution_count": 6,
     "metadata": {},
     "output_type": "execute_result"
    }
   ],
   "source": [
    "z"
   ]
  },
  {
   "cell_type": "code",
   "execution_count": 7,
   "id": "eb4e135c-9502-4294-9866-8e49174e4219",
   "metadata": {},
   "outputs": [
    {
     "name": "stdout",
     "output_type": "stream",
     "text": [
      "<zip object at 0x10e8f9e80>\n"
     ]
    }
   ],
   "source": [
    "print(z)"
   ]
  },
  {
   "cell_type": "markdown",
   "id": "0bd04761-5941-4fba-b641-c4f06f9323f6",
   "metadata": {},
   "source": [
    "- zip object 特殊な object　：　強引に list に変換する事もできる\n",
    "\n",
    "- python は型の違う　data構造のモノをかなり自在に変換できる"
   ]
  },
  {
   "cell_type": "code",
   "execution_count": 8,
   "id": "728db5c6-f29d-49d3-9c1c-d447f4064099",
   "metadata": {},
   "outputs": [
    {
     "data": {
      "text/plain": [
       "[(1, 2), (3, 4), (5, 6), (7, 8), (9, 10)]"
      ]
     },
     "execution_count": 8,
     "metadata": {},
     "output_type": "execute_result"
    }
   ],
   "source": [
    "list(z)"
   ]
  },
  {
   "cell_type": "markdown",
   "id": "3fec9267-88bb-4421-ac60-b0cf6e20bd3d",
   "metadata": {},
   "source": [
    "- tuple()型に変換されて　->　a1, a2 が束ねられている　->　1と2, 3と4, ect...\n",
    "\n",
    "- <u>先頭から取り出して１個づつペアにしている</u>　=　束ねられている\n",
    "\n",
    "- zip　->　色々なdata構造を束ねて一直線のdata構造にする\n",
    "    - zip object できた時は何を意味しているか分からない　->　変換の仕方によって変わるから　->　束ねられたモノとして存在する\n",
    "\n",
    "#### zip object は使い捨ての　data構造なので、1回使用したら使用できなくなる"
   ]
  },
  {
   "cell_type": "code",
   "execution_count": 9,
   "id": "a29a4f3a-70e2-417b-a73b-0cdf64c666da",
   "metadata": {},
   "outputs": [
    {
     "data": {
      "text/plain": [
       "[]"
      ]
     },
     "execution_count": 9,
     "metadata": {},
     "output_type": "execute_result"
    }
   ],
   "source": [
    "list(z)"
   ]
  },
  {
   "cell_type": "markdown",
   "id": "ccdc6f59-5591-4e35-a63b-777a5526d28f",
   "metadata": {},
   "source": [
    "- z の要素は,1回消費され使い終わったものとして中身が空っぽになる\n",
    "\n",
    "- なぜこのような特質を持つのか？\n",
    "    - 束ねたものを何に使用するのか？\n",
    "    - for loop など順番に要素を取り出して使用される。全て使用されれば　for loopは終了する\n",
    "    - 上記のような使用のされ方が多いので、使い捨ての特徴をもつ"
   ]
  },
  {
   "cell_type": "code",
   "execution_count": 12,
   "id": "1183bf1b-fa79-4294-bc71-60c0c8d7ad68",
   "metadata": {},
   "outputs": [
    {
     "name": "stdout",
     "output_type": "stream",
     "text": [
      "<zip object at 0x10ea5dec0>\n"
     ]
    }
   ],
   "source": [
    "z = zip(a1, a2)\n",
    "a = np.array(z)\n",
    "print(a)"
   ]
  },
  {
   "cell_type": "markdown",
   "id": "2e322ff9-7944-48e4-b55d-5486772d7575",
   "metadata": {},
   "source": [
    "- 上記のやり方では zip object は配列にできない\n",
    "\n",
    "- 一度listに変換してから配列に変換する"
   ]
  },
  {
   "cell_type": "code",
   "execution_count": 14,
   "id": "fb203c78-d97f-461c-8dec-e41ee6bd1b21",
   "metadata": {},
   "outputs": [
    {
     "name": "stdout",
     "output_type": "stream",
     "text": [
      "[[ 1  2]\n",
      " [ 3  4]\n",
      " [ 5  6]\n",
      " [ 7  8]\n",
      " [ 9 10]]\n"
     ]
    }
   ],
   "source": [
    "z = zip(a1, a2)\n",
    "a = np.array(list(z))\n",
    "print(a)"
   ]
  },
  {
   "cell_type": "code",
   "execution_count": 15,
   "id": "404add44-8018-40b0-8319-27a069ba19a9",
   "metadata": {},
   "outputs": [
    {
     "name": "stdout",
     "output_type": "stream",
     "text": [
      "[1, 3, 5, 7, 9]\n",
      "[2, 4, 6, 8, 10]\n"
     ]
    }
   ],
   "source": [
    "print(a1); print(a2)"
   ]
  },
  {
   "cell_type": "markdown",
   "id": "e9041fad-ca81-4f29-837c-bf1a6b3cf4b2",
   "metadata": {},
   "source": [
    "#### 5行・2列の配列として作成される"
   ]
  },
  {
   "cell_type": "markdown",
   "id": "f5220782-5aba-409b-afa0-b7260264b5e2",
   "metadata": {},
   "source": [
    "## 様々なdata列を束ねる"
   ]
  },
  {
   "cell_type": "code",
   "execution_count": 16,
   "id": "d2e2288e-388b-48f3-8950-2fed577c7615",
   "metadata": {},
   "outputs": [],
   "source": [
    "z = zip(a1, 'あいうえお')"
   ]
  },
  {
   "cell_type": "code",
   "execution_count": 17,
   "id": "319500f3-f7d6-4cf7-ae63-fc30fbaab5a0",
   "metadata": {},
   "outputs": [
    {
     "data": {
      "text/plain": [
       "[(1, 'あ'), (3, 'い'), (5, 'う'), (7, 'え'), (9, 'お')]"
      ]
     },
     "execution_count": 17,
     "metadata": {},
     "output_type": "execute_result"
    }
   ],
   "source": [
    "list(z)"
   ]
  },
  {
   "cell_type": "markdown",
   "id": "d858766d-9ce1-4a84-a61e-3c8bb7004129",
   "metadata": {},
   "source": [
    "### integer と string, string と　string も束ねることができる"
   ]
  },
  {
   "cell_type": "code",
   "execution_count": 20,
   "id": "791cf61a-7350-49c0-8b75-d2867536424a",
   "metadata": {},
   "outputs": [
    {
     "data": {
      "text/plain": [
       "[('a', 'あ', 'か'),\n",
       " ('b', 'い', 'き'),\n",
       " ('c', 'う', 'く'),\n",
       " ('d', 'え', 'き'),\n",
       " ('e', 'お', 'こ')]"
      ]
     },
     "execution_count": 20,
     "metadata": {},
     "output_type": "execute_result"
    }
   ],
   "source": [
    "z = zip('abcde', 'あいうえお', 'かきくきこ')\n",
    "list(z)"
   ]
  },
  {
   "cell_type": "markdown",
   "id": "907d6ee1-4a4a-4652-bcd7-a54a4db3535c",
   "metadata": {},
   "source": [
    "先頭から1個づつ取り出して束ねる"
   ]
  },
  {
   "cell_type": "markdown",
   "id": "59a05762-b8cc-43a3-b81c-a139247a95ca",
   "metadata": {},
   "source": [
    "## dectionary型(辞書型)"
   ]
  },
  {
   "cell_type": "code",
   "execution_count": 21,
   "id": "cd9a26bc-1ad0-4f74-88fe-ec0c09aed6db",
   "metadata": {},
   "outputs": [
    {
     "data": {
      "text/plain": [
       "[('dog', '犬'), ('cat', '猫'), ('bird', '鳥')]"
      ]
     },
     "execution_count": 21,
     "metadata": {},
     "output_type": "execute_result"
    }
   ],
   "source": [
    "e = ['dog', 'cat', 'bird']\n",
    "j = ['犬', '猫', '鳥']\n",
    "z = zip(e, j)\n",
    "list(z)"
   ]
  },
  {
   "cell_type": "code",
   "execution_count": 22,
   "id": "0aaad698-d1bf-40dd-82da-15703e7c5d1b",
   "metadata": {},
   "outputs": [],
   "source": [
    "e = ['dog', 'cat', 'bird']\n",
    "j = ['犬', '猫', '鳥']\n",
    "z = zip(e, j)"
   ]
  },
  {
   "cell_type": "code",
   "execution_count": 23,
   "id": "a9880fff-0b76-4f97-b432-fcab96e93249",
   "metadata": {},
   "outputs": [],
   "source": [
    "# dictionary に変換\n",
    "d = dict(z)"
   ]
  },
  {
   "cell_type": "code",
   "execution_count": 24,
   "id": "b545b59f-d431-402c-a813-f9ee29f81a66",
   "metadata": {},
   "outputs": [
    {
     "data": {
      "text/plain": [
       "{'dog': '犬', 'cat': '猫', 'bird': '鳥'}"
      ]
     },
     "execution_count": 24,
     "metadata": {},
     "output_type": "execute_result"
    }
   ],
   "source": [
    "d"
   ]
  },
  {
   "cell_type": "markdown",
   "id": "eade6cef-78fb-48ee-b016-587abc50bc56",
   "metadata": {},
   "source": [
    "#### <u>dict(z) でも変換はできるが、 list(z) に変換する操作をしておく方が安全な習慣</u>"
   ]
  },
  {
   "cell_type": "code",
   "execution_count": 25,
   "id": "02c85135-823e-4a87-ab3d-a1f4914a8ef3",
   "metadata": {},
   "outputs": [],
   "source": [
    "e = ['dog', 'cat', 'bird']\n",
    "j = ['犬', '猫', '鳥']\n",
    "z = zip(e, j)\n",
    "d = dict(list(z))"
   ]
  },
  {
   "cell_type": "code",
   "execution_count": 28,
   "id": "1d004ab7-c9f8-40f3-9678-bebce0c2d728",
   "metadata": {},
   "outputs": [
    {
     "data": {
      "text/plain": [
       "{'dog': '犬', 'cat': '猫', 'bird': '鳥'}"
      ]
     },
     "execution_count": 28,
     "metadata": {},
     "output_type": "execute_result"
    }
   ],
   "source": [
    "d"
   ]
  },
  {
   "cell_type": "code",
   "execution_count": 29,
   "id": "bd9ad347-058f-4701-b9b8-0edcd4e79552",
   "metadata": {},
   "outputs": [
    {
     "data": {
      "text/plain": [
       "'犬'"
      ]
     },
     "execution_count": 29,
     "metadata": {},
     "output_type": "execute_result"
    }
   ],
   "source": [
    "d['dog']"
   ]
  },
  {
   "cell_type": "markdown",
   "id": "e823823f-87f3-4c94-9400-730d38c428f9",
   "metadata": {},
   "source": [
    "## 繰り返し処理の応用"
   ]
  },
  {
   "cell_type": "code",
   "execution_count": 34,
   "id": "ae5ef068-8db6-4e39-b71b-65091843c639",
   "metadata": {},
   "outputs": [],
   "source": [
    "a1 = [1, 2, 3]\n",
    "a2 = [4, 5, 6]\n",
    "z = zip(a1, a2)"
   ]
  },
  {
   "cell_type": "code",
   "execution_count": 35,
   "id": "109e62be-cb65-48d2-8431-9b33d0328fce",
   "metadata": {},
   "outputs": [
    {
     "name": "stdout",
     "output_type": "stream",
     "text": [
      "1 4\n",
      "2 5\n",
      "3 6\n"
     ]
    }
   ],
   "source": [
    "for x, y in z:\n",
    "    print(x, y)"
   ]
  },
  {
   "cell_type": "code",
   "execution_count": 39,
   "id": "4731c394-51e1-495b-96f3-abad7888ed6f",
   "metadata": {},
   "outputs": [],
   "source": [
    "a1 = [1, 2, 3]\n",
    "a2 = [4, 5, 6]\n",
    "z = zip(a1, a2)"
   ]
  },
  {
   "cell_type": "code",
   "execution_count": 40,
   "id": "095de650-b029-493f-9168-dc00c5322788",
   "metadata": {},
   "outputs": [
    {
     "name": "stdout",
     "output_type": "stream",
     "text": [
      "1 + 4 = 5\n",
      "2 + 5 = 7\n",
      "3 + 6 = 9\n"
     ]
    }
   ],
   "source": [
    "for x, y in z:\n",
    "    print(x, '+', y, '=', x+y)"
   ]
  },
  {
   "cell_type": "code",
   "execution_count": 42,
   "id": "b3e242f3-5781-4fbb-ba77-f29dcf0b0128",
   "metadata": {},
   "outputs": [
    {
     "name": "stdout",
     "output_type": "stream",
     "text": [
      "0\n",
      "1\n",
      "2\n",
      "3\n",
      "4\n"
     ]
    }
   ],
   "source": [
    "for i in range(5):\n",
    "    print(i)"
   ]
  },
  {
   "cell_type": "markdown",
   "id": "798de423-2e7c-47a9-a37c-1168d4c2d49f",
   "metadata": {},
   "source": [
    "#### data 処理に進む場合は,上記の解釈を変える必要がある\n",
    "- 5回繰り返すではなく…\n",
    "\n",
    "- 0 ~ 4 までの列を扱ったという解釈\n",
    "    - 0 ~ 4 までの data列それぞれのについて　i　を取り出しその　i　を印字する\n",
    "\n",
    "\n",
    "- data処理として考える場合は　in　の後ろは　data列という解釈\n",
    "    - data列1個1個の中身を取り出しながら、何かをする"
   ]
  },
  {
   "cell_type": "code",
   "execution_count": 43,
   "id": "f0ebc09f-8d45-49cf-8f08-282c0d345ac1",
   "metadata": {},
   "outputs": [],
   "source": [
    "r = range(10)"
   ]
  },
  {
   "cell_type": "code",
   "execution_count": 44,
   "id": "ba3393a7-db0a-4055-a3ac-d13b60c12372",
   "metadata": {},
   "outputs": [
    {
     "data": {
      "text/plain": [
       "range(0, 10)"
      ]
     },
     "execution_count": 44,
     "metadata": {},
     "output_type": "execute_result"
    }
   ],
   "source": [
    "r"
   ]
  },
  {
   "cell_type": "code",
   "execution_count": 45,
   "id": "405b6817-2fae-4fd6-ab1c-a5eef0076a22",
   "metadata": {},
   "outputs": [
    {
     "data": {
      "text/plain": [
       "[0, 1, 2, 3, 4, 5, 6, 7, 8, 9]"
      ]
     },
     "execution_count": 45,
     "metadata": {},
     "output_type": "execute_result"
    }
   ],
   "source": [
    "list(r)"
   ]
  },
  {
   "cell_type": "markdown",
   "id": "830b2833-9206-4366-b812-0c94840e3d89",
   "metadata": {},
   "source": [
    "- range も謎の range object であった…"
   ]
  },
  {
   "cell_type": "markdown",
   "id": "f695416e-eaca-409d-8cb2-5f5844e2349c",
   "metadata": {},
   "source": [
    "### まとめ\n",
    "- zip 関数　:　複数のデータ列を束ねて、一本のデータ列にする\n",
    "    - 様々な型のdata列(list, array, dectionary, string,ect...)を束ねる事ができる\n",
    "    - タイプ・種類の違う型を強引に束ねる事ができる\n",
    "    - zip object (使い捨て)　->　何かしら変換するまでは、束ねたモノとして存在する　： range()も共通する\n",
    "    - iterator(イテレーター)　:　繰り返しの処理の抽象化, 使い捨てdata列, \n",
    "    - 別のdata構造に変換することができる。(array, list, dictionary, ect...)"
   ]
  },
  {
   "cell_type": "markdown",
   "id": "9460d209-2a75-4333-9a42-0944df0669a3",
   "metadata": {},
   "source": [
    "# 要素の整列\n",
    "- dataの並びを並び替える\n",
    "    - sort( )　:　関数(function)\n",
    "    - .sort　:　メソッド(method)"
   ]
  },
  {
   "cell_type": "code",
   "execution_count": 46,
   "id": "9217b363-d8b2-4af5-9176-846069a4e0de",
   "metadata": {},
   "outputs": [
    {
     "name": "stdout",
     "output_type": "stream",
     "text": [
      "[3 5 1 4 2 6]\n"
     ]
    }
   ],
   "source": [
    "a = np.array([3, 5, 1, 4, 2, 6])\n",
    "print(a)"
   ]
  },
  {
   "cell_type": "markdown",
   "id": "3966484c-db4d-448a-9a66-ac821dfdf7a0",
   "metadata": {},
   "source": [
    "## sort(　) : 関数\n",
    "- 元の配列を壊さない\n",
    "- 整列したモノは、別の配列として生成される"
   ]
  },
  {
   "cell_type": "code",
   "execution_count": 47,
   "id": "d5cf385d-793a-487c-918e-360c6495da64",
   "metadata": {},
   "outputs": [
    {
     "name": "stdout",
     "output_type": "stream",
     "text": [
      "[1 2 3 4 5 6]\n"
     ]
    }
   ],
   "source": [
    "a2 = np.sort(a)\n",
    "print(a2)"
   ]
  },
  {
   "cell_type": "code",
   "execution_count": 49,
   "id": "ec79a936-87e6-41b9-a065-53d9eaf6a001",
   "metadata": {},
   "outputs": [
    {
     "name": "stdout",
     "output_type": "stream",
     "text": [
      "[3 5 1 4 2 6]\n"
     ]
    }
   ],
   "source": [
    "print(a)"
   ]
  },
  {
   "cell_type": "markdown",
   "id": "5b558d5e-15e8-4567-a4a3-6904bedd3c3f",
   "metadata": {
    "tags": []
   },
   "source": [
    "## .sort( ) : method\n",
    "- 配列 object に働きかけるような method\n",
    "- 元の配列を変更する\n",
    "- 値と配列そのものを変更する(昇順にする)"
   ]
  },
  {
   "cell_type": "code",
   "execution_count": 50,
   "id": "2aa64ebf-0c45-4e57-a9aa-5e146e977e0e",
   "metadata": {},
   "outputs": [],
   "source": [
    "a.sort()"
   ]
  },
  {
   "cell_type": "code",
   "execution_count": 51,
   "id": "be1a3c90-0d39-4b9b-a487-1445bf599260",
   "metadata": {},
   "outputs": [
    {
     "name": "stdout",
     "output_type": "stream",
     "text": [
      "[1 2 3 4 5 6]\n"
     ]
    }
   ],
   "source": [
    "print(a)"
   ]
  },
  {
   "cell_type": "code",
   "execution_count": 52,
   "id": "fd8cdaf9-db12-4878-9961-31b190801fe0",
   "metadata": {},
   "outputs": [
    {
     "name": "stdout",
     "output_type": "stream",
     "text": [
      "[3 4 2 5 6 1]\n"
     ]
    }
   ],
   "source": [
    "a = np.array([3, 4, 2, 5, 6, 1])\n",
    "print(a)"
   ]
  },
  {
   "cell_type": "markdown",
   "id": "b3267e68-9022-42fc-bc6d-9f654acb873f",
   "metadata": {},
   "source": [
    "### 逆順にする（降順）\n",
    "- no.sort(a)[::-1]\n",
    "    - スライスを使用して、生成されたモノを降順にする"
   ]
  },
  {
   "cell_type": "code",
   "execution_count": 53,
   "id": "dc37e6b7-dfb4-4803-8764-a51faff29177",
   "metadata": {},
   "outputs": [
    {
     "name": "stdout",
     "output_type": "stream",
     "text": [
      "[6 5 4 3 2 1]\n"
     ]
    }
   ],
   "source": [
    "a2 = np.sort(a)[::-1]\n",
    "print(a2)"
   ]
  },
  {
   "cell_type": "code",
   "execution_count": 55,
   "id": "a8516710-7332-4184-9d88-044399eaf9e6",
   "metadata": {},
   "outputs": [
    {
     "name": "stdout",
     "output_type": "stream",
     "text": [
      "[6 5 4 3 2 1]\n"
     ]
    }
   ],
   "source": [
    "a2 = np.flip(np.sort(a))\n",
    "print(a2)"
   ]
  },
  {
   "cell_type": "markdown",
   "id": "c96ac3e4-ed10-478d-bf2e-755942cdcd54",
   "metadata": {},
   "source": [
    "### 整列後のindexを得る\n",
    "- 整列後の index を取得するのではなく、整列前の index を取得する\n",
    "\n",
    "- argsort\n",
    "    - 整列結果の元の index が返される\n",
    "    - 整列前のバラバラの並びの時の　index が取得できる\n",
    "\n",
    "#### <u>argsort は機械学習・深層学習でしばしば使用する機能</u>\n",
    "- そもそもどこにあったのか…という事が大切になってくる"
   ]
  },
  {
   "cell_type": "code",
   "execution_count": 58,
   "id": "7696212a-c8f6-439c-9bb5-7a99068312b2",
   "metadata": {},
   "outputs": [
    {
     "name": "stdout",
     "output_type": "stream",
     "text": [
      "[5 2 0 1 3 4]\n"
     ]
    }
   ],
   "source": [
    "# .argsort() : method/配列　object に対して行うもの\n",
    "a2 = a.argsort()\n",
    "print(a2)"
   ]
  },
  {
   "cell_type": "markdown",
   "id": "b3144892-e3b1-4b52-8d00-fba67b86a019",
   "metadata": {},
   "source": [
    "### まとめ\n",
    "- <u>sort()　:　関数</u>\n",
    "    - np.sort(配列)\n",
    "        - 配列を昇順に整列したもの\n",
    "        - 元の配列はそのまま保つ\n",
    "\n",
    "- <u>.sort()　:　method</u>\n",
    "    - (配列).sort()\n",
    "        - 配列の要素を昇順に整列する\n",
    "        - 対象の配列の内容を変更する形で整列\n",
    "\n",
    "- <u>使い分け</u>\n",
    "    - メモリを節約したいケースで　.sort() : method が役に立つ事がある\n",
    "        - メモリ容量がとてつもなく大きい物を並べ替える時に sort() : 関数を使用してしまうと…\n",
    "        - **とてつもなく大きいdataが２倍になってしまうから　.sort() : method を使用する**\n",
    "        - 主たる目的とは言えないのだが、そういう使い分けがある\n",
    "\n",
    "- <u>反転</u>\n",
    "    - 配列[ ::-1 ]　:　降順　※ default は昇順\n",
    "        - スライス（超高速で反転）\n",
    "    - np.flip(a)　:　降順に入れ替え\n",
    "    - 共に元の配列を変更しない"
   ]
  },
  {
   "cell_type": "code",
   "execution_count": null,
   "id": "adf9ce2b-b6fc-4125-abfe-8e2df1c44f0c",
   "metadata": {},
   "outputs": [],
   "source": []
  }
 ],
 "metadata": {
  "kernelspec": {
   "display_name": "Python 3 (ipykernel)",
   "language": "python",
   "name": "python3"
  },
  "language_info": {
   "codemirror_mode": {
    "name": "ipython",
    "version": 3
   },
   "file_extension": ".py",
   "mimetype": "text/x-python",
   "name": "python",
   "nbconvert_exporter": "python",
   "pygments_lexer": "ipython3",
   "version": "3.9.6"
  }
 },
 "nbformat": 4,
 "nbformat_minor": 5
}
