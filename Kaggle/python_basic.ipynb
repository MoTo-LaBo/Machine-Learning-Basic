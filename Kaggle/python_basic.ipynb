{
 "cells": [
  {
   "cell_type": "markdown",
   "id": "158db878-f1e9-49d4-afdc-b2df662c150d",
   "metadata": {},
   "source": [
    "# Python Basic"
   ]
  },
  {
   "cell_type": "markdown",
   "id": "67c2aac4-dff0-4c22-a6ef-65a7cb7f22e4",
   "metadata": {},
   "source": [
    "## 基本構文"
   ]
  },
  {
   "cell_type": "code",
   "execution_count": 1,
   "id": "275427ff-9b91-4ab7-b4a9-e10bac1feeab",
   "metadata": {},
   "outputs": [],
   "source": [
    "# 変数\n",
    "number1 = 1"
   ]
  },
  {
   "cell_type": "code",
   "execution_count": 2,
   "id": "b56f2ca8-4239-4fdb-84be-789f6af391e3",
   "metadata": {},
   "outputs": [
    {
     "data": {
      "text/plain": [
       "1"
      ]
     },
     "execution_count": 2,
     "metadata": {},
     "output_type": "execute_result"
    }
   ],
   "source": [
    "number1"
   ]
  },
  {
   "cell_type": "code",
   "execution_count": 3,
   "id": "2f4606b7-a9f8-49d1-bb50-7cb7fa4d80c1",
   "metadata": {},
   "outputs": [],
   "source": [
    "number2 = 1 + 2"
   ]
  },
  {
   "cell_type": "code",
   "execution_count": 4,
   "id": "a6eb163c-3aa6-4efa-a99d-0350c7859c2f",
   "metadata": {},
   "outputs": [
    {
     "data": {
      "text/plain": [
       "3"
      ]
     },
     "execution_count": 4,
     "metadata": {},
     "output_type": "execute_result"
    }
   ],
   "source": [
    "number2"
   ]
  },
  {
   "cell_type": "code",
   "execution_count": 5,
   "id": "143ba763-e64f-4245-b518-780e467868a4",
   "metadata": {},
   "outputs": [],
   "source": [
    "Str1 = '1 + 2'"
   ]
  },
  {
   "cell_type": "code",
   "execution_count": 6,
   "id": "91d690a8-758f-4ebf-9448-a36a63739376",
   "metadata": {},
   "outputs": [
    {
     "data": {
      "text/plain": [
       "'1 + 2'"
      ]
     },
     "execution_count": 6,
     "metadata": {},
     "output_type": "execute_result"
    }
   ],
   "source": [
    "Str1"
   ]
  },
  {
   "cell_type": "code",
   "execution_count": 7,
   "id": "cd09aa20-adda-4f60-bc36-2a548ed587d3",
   "metadata": {},
   "outputs": [],
   "source": [
    "Str2 = 'pytho'"
   ]
  },
  {
   "cell_type": "code",
   "execution_count": 8,
   "id": "54b8f5b2-82ba-4c9d-aebf-303b1a7e9906",
   "metadata": {},
   "outputs": [
    {
     "data": {
      "text/plain": [
       "'pytho'"
      ]
     },
     "execution_count": 8,
     "metadata": {},
     "output_type": "execute_result"
    }
   ],
   "source": [
    "Str2"
   ]
  },
  {
   "cell_type": "code",
   "execution_count": 9,
   "id": "656a4069-8c71-4ea8-adfb-37c8bd2b0ddf",
   "metadata": {},
   "outputs": [],
   "source": [
    "# list \n",
    "list1 = [1, 2, 3]"
   ]
  },
  {
   "cell_type": "code",
   "execution_count": 10,
   "id": "14bd6a3c-b99b-45ec-95ee-15549519657e",
   "metadata": {},
   "outputs": [
    {
     "data": {
      "text/plain": [
       "[1, 2, 3]"
      ]
     },
     "execution_count": 10,
     "metadata": {},
     "output_type": "execute_result"
    }
   ],
   "source": [
    "list1"
   ]
  },
  {
   "cell_type": "code",
   "execution_count": 12,
   "id": "60b4530a-3d4c-4fb3-b093-8e9a9fec9cbb",
   "metadata": {},
   "outputs": [
    {
     "data": {
      "text/plain": [
       "list"
      ]
     },
     "execution_count": 12,
     "metadata": {},
     "output_type": "execute_result"
    }
   ],
   "source": [
    "list2 = [10, 'Python', 100]\n",
    "type(list1)"
   ]
  },
  {
   "cell_type": "code",
   "execution_count": 13,
   "id": "d5dc4dee-5e92-40fb-882f-3697a0c9fca8",
   "metadata": {},
   "outputs": [
    {
     "data": {
      "text/plain": [
       "list"
      ]
     },
     "execution_count": 13,
     "metadata": {},
     "output_type": "execute_result"
    }
   ],
   "source": [
    "type(list2)"
   ]
  },
  {
   "cell_type": "code",
   "execution_count": 16,
   "id": "47265a5a-56fe-4bd2-8fa2-52e867b0fdee",
   "metadata": {},
   "outputs": [
    {
     "data": {
      "text/plain": [
       "[10, 'Python', 100, 300]"
      ]
     },
     "execution_count": 16,
     "metadata": {},
     "output_type": "execute_result"
    }
   ],
   "source": [
    "list2.append(300)\n",
    "list2"
   ]
  },
  {
   "cell_type": "code",
   "execution_count": 18,
   "id": "5a48ccdd-2a9c-4557-8edb-c4371b5df7c3",
   "metadata": {},
   "outputs": [
    {
     "data": {
      "text/plain": [
       "[10, 'Python', 200, 300]"
      ]
     },
     "execution_count": 18,
     "metadata": {},
     "output_type": "execute_result"
    }
   ],
   "source": [
    "list2[2] = 200\n",
    "list2"
   ]
  },
  {
   "cell_type": "code",
   "execution_count": 19,
   "id": "67569ec1-476d-42f4-9263-b94f08c1954d",
   "metadata": {},
   "outputs": [
    {
     "data": {
      "text/plain": [
       "[10, 'Python', 300]"
      ]
     },
     "execution_count": 19,
     "metadata": {},
     "output_type": "execute_result"
    }
   ],
   "source": [
    "del list2[2]\n",
    "list2"
   ]
  },
  {
   "cell_type": "code",
   "execution_count": 20,
   "id": "29ba5dce-ffbf-4a4e-b992-f2ccef00945c",
   "metadata": {},
   "outputs": [],
   "source": [
    "list2.clear()"
   ]
  },
  {
   "cell_type": "code",
   "execution_count": 21,
   "id": "0978496b-2633-4d17-ba40-4ff0cda3a263",
   "metadata": {},
   "outputs": [
    {
     "data": {
      "text/plain": [
       "[]"
      ]
     },
     "execution_count": 21,
     "metadata": {},
     "output_type": "execute_result"
    }
   ],
   "source": [
    "list2"
   ]
  },
  {
   "cell_type": "code",
   "execution_count": 23,
   "id": "d0522766-7a39-4300-8f3a-3c2755e26d1f",
   "metadata": {},
   "outputs": [
    {
     "data": {
      "text/plain": [
       "[1, 2, 3]"
      ]
     },
     "execution_count": 23,
     "metadata": {},
     "output_type": "execute_result"
    }
   ],
   "source": [
    "list3 = [1, 2, 3, 'Python']\n",
    "list3.remove('Python')\n",
    "list3"
   ]
  },
  {
   "cell_type": "code",
   "execution_count": 24,
   "id": "9ebcbff3-b2ce-46d5-8b72-d2c323b934a5",
   "metadata": {},
   "outputs": [],
   "source": [
    "list4 = [10, 20, 30, 40, 50 , 60]"
   ]
  },
  {
   "cell_type": "code",
   "execution_count": 25,
   "id": "16949d50-8f5d-4b7a-af09-7f77e0789ba9",
   "metadata": {},
   "outputs": [
    {
     "data": {
      "text/plain": [
       "10"
      ]
     },
     "execution_count": 25,
     "metadata": {},
     "output_type": "execute_result"
    }
   ],
   "source": [
    "list5 = list4[0]\n",
    "list5"
   ]
  },
  {
   "cell_type": "code",
   "execution_count": 28,
   "id": "bcac905f-ac74-40a1-9e89-b9476424ae0f",
   "metadata": {},
   "outputs": [],
   "source": [
    "list6 = list4[:3]  # 終点は指定した index　の手前"
   ]
  },
  {
   "cell_type": "code",
   "execution_count": 29,
   "id": "00e533c3-422a-425e-bae2-43342dd15d15",
   "metadata": {},
   "outputs": [
    {
     "data": {
      "text/plain": [
       "[10, 20, 30]"
      ]
     },
     "execution_count": 29,
     "metadata": {},
     "output_type": "execute_result"
    }
   ],
   "source": [
    "list6"
   ]
  },
  {
   "cell_type": "code",
   "execution_count": 30,
   "id": "44cefc46-a530-40b1-b973-f74eef304d75",
   "metadata": {},
   "outputs": [],
   "source": [
    "list7 = list4[:-1]"
   ]
  },
  {
   "cell_type": "code",
   "execution_count": 31,
   "id": "38db7377-7b39-4c23-a36a-e128aa965c98",
   "metadata": {},
   "outputs": [
    {
     "data": {
      "text/plain": [
       "[10, 20, 30, 40, 50]"
      ]
     },
     "execution_count": 31,
     "metadata": {},
     "output_type": "execute_result"
    }
   ],
   "source": [
    "list7"
   ]
  },
  {
   "cell_type": "code",
   "execution_count": 34,
   "id": "a0749903-9d4e-47f8-b70f-7142b756b392",
   "metadata": {},
   "outputs": [],
   "source": [
    "list8 = list4[1:4]  # 開始index は含まれる"
   ]
  },
  {
   "cell_type": "code",
   "execution_count": 35,
   "id": "1a978a57-654a-400e-ae90-bb12767d1f1c",
   "metadata": {},
   "outputs": [
    {
     "data": {
      "text/plain": [
       "[20, 30, 40]"
      ]
     },
     "execution_count": 35,
     "metadata": {},
     "output_type": "execute_result"
    }
   ],
   "source": [
    "list8"
   ]
  },
  {
   "cell_type": "markdown",
   "id": "045cfc99-288a-4c1f-b9db-7f85ae6f2efb",
   "metadata": {},
   "source": [
    "### tuple（タプル）"
   ]
  },
  {
   "cell_type": "code",
   "execution_count": 36,
   "id": "735c8915-5ac0-45e3-b84c-d7bfd13d7620",
   "metadata": {},
   "outputs": [],
   "source": [
    "tuple1 = (1, 2, 'tuple')"
   ]
  },
  {
   "cell_type": "code",
   "execution_count": 37,
   "id": "d98ee6bc-a5a3-430a-8b95-06c72d50b8dc",
   "metadata": {},
   "outputs": [
    {
     "ename": "TypeError",
     "evalue": "'tuple' object does not support item assignment",
     "output_type": "error",
     "traceback": [
      "\u001b[0;31m---------------------------------------------------------------------------\u001b[0m",
      "\u001b[0;31mTypeError\u001b[0m                                 Traceback (most recent call last)",
      "\u001b[0;32m/var/folders/1h/wby94jmx3xg3zkmtc88fk5q80000gn/T/ipykernel_8673/3000739741.py\u001b[0m in \u001b[0;36m<module>\u001b[0;34m\u001b[0m\n\u001b[0;32m----> 1\u001b[0;31m \u001b[0mtuple1\u001b[0m\u001b[0;34m[\u001b[0m\u001b[0;36m0\u001b[0m\u001b[0;34m]\u001b[0m \u001b[0;34m=\u001b[0m \u001b[0;36m100\u001b[0m\u001b[0;34m\u001b[0m\u001b[0;34m\u001b[0m\u001b[0m\n\u001b[0m",
      "\u001b[0;31mTypeError\u001b[0m: 'tuple' object does not support item assignment"
     ]
    }
   ],
   "source": [
    "tuple1[0] = 100"
   ]
  },
  {
   "cell_type": "code",
   "execution_count": 38,
   "id": "45a2915c-b19f-426e-8242-05a5487a4450",
   "metadata": {},
   "outputs": [
    {
     "data": {
      "text/plain": [
       "(2, 'tuple')"
      ]
     },
     "execution_count": 38,
     "metadata": {},
     "output_type": "execute_result"
    }
   ],
   "source": [
    "tuple2 = tuple1[1:]\n",
    "tuple2"
   ]
  },
  {
   "cell_type": "code",
   "execution_count": 39,
   "id": "c6ac84ff-f91e-42bd-90bc-b1633434eea5",
   "metadata": {},
   "outputs": [
    {
     "data": {
      "text/plain": [
       "tuple"
      ]
     },
     "execution_count": 39,
     "metadata": {},
     "output_type": "execute_result"
    }
   ],
   "source": [
    "type(tuple1)"
   ]
  },
  {
   "cell_type": "markdown",
   "id": "9b097795-7c22-40b4-a260-629214c427ed",
   "metadata": {},
   "source": [
    "- tuple は　定数。　変数に代入される定数"
   ]
  },
  {
   "cell_type": "markdown",
   "id": "6f2b0968-7b8c-4ebb-a3d3-f75ec119031c",
   "metadata": {},
   "source": [
    "### dictionary型"
   ]
  },
  {
   "cell_type": "code",
   "execution_count": 44,
   "id": "8fcc3e71-6775-4375-ae1c-12775b0e7b58",
   "metadata": {},
   "outputs": [
    {
     "data": {
      "text/plain": [
       "{'Apple': 100, 'Banana': 200, 'Grape': 300}"
      ]
     },
     "execution_count": 44,
     "metadata": {},
     "output_type": "execute_result"
    }
   ],
   "source": [
    "dict1 = {'Apple':100, 'Banana':200, 'Grape':300}\n",
    "dict1"
   ]
  },
  {
   "cell_type": "code",
   "execution_count": 45,
   "id": "1684d930-b3bd-46b7-ac3b-7dbf38bd05a9",
   "metadata": {},
   "outputs": [
    {
     "data": {
      "text/plain": [
       "100"
      ]
     },
     "execution_count": 45,
     "metadata": {},
     "output_type": "execute_result"
    }
   ],
   "source": [
    "dict1['Apple']"
   ]
  },
  {
   "cell_type": "code",
   "execution_count": 46,
   "id": "583d3bb9-b892-4b36-b27c-c252d163308a",
   "metadata": {},
   "outputs": [
    {
     "data": {
      "text/plain": [
       "{'Apple': 400, 'Banana': 200, 'Grape': 300}"
      ]
     },
     "execution_count": 46,
     "metadata": {},
     "output_type": "execute_result"
    }
   ],
   "source": [
    "dict1['Apple'] = 400\n",
    "dict1"
   ]
  },
  {
   "cell_type": "code",
   "execution_count": 47,
   "id": "f915f403-bac0-4b4e-b7a1-8fab3c5df051",
   "metadata": {},
   "outputs": [
    {
     "data": {
      "text/plain": [
       "dict"
      ]
     },
     "execution_count": 47,
     "metadata": {},
     "output_type": "execute_result"
    }
   ],
   "source": [
    "type(dict1)"
   ]
  },
  {
   "cell_type": "markdown",
   "id": "17c099d7-e40a-4c16-900a-8e4d84250862",
   "metadata": {},
   "source": [
    "### 使い分けのイメージ\n",
    "- list　:　複数の値を羅列したい時に使用\n",
    "\n",
    "- tuple　:　値を変更したくない時に使用(上書きをされたくない定数値)\n",
    "\n",
    "- dictionary　:　関連している値をペアで使用した場合に使用する\n",
    "    - id = 目次\n",
    "    - key　:　value\n",
    "        -　例) 社員名　:　社員番号\n",
    "        - 変更もしやすい、直感的に操作しやすい\n",
    "        - 1対1で意味をもつ data を格納するのに使用する"
   ]
  },
  {
   "cell_type": "markdown",
   "id": "bead2de8-bbac-488d-822b-396eea0abb02",
   "metadata": {
    "tags": []
   },
   "source": [
    "### 比較演算子\n",
    "- boolean(真偽値)\n",
    "- True or False"
   ]
  },
  {
   "cell_type": "code",
   "execution_count": 53,
   "id": "1ba878b1-42fc-4e21-9f6b-2da2a625c1c9",
   "metadata": {},
   "outputs": [
    {
     "data": {
      "text/plain": [
       "False"
      ]
     },
     "execution_count": 53,
     "metadata": {},
     "output_type": "execute_result"
    }
   ],
   "source": [
    "1 == 2"
   ]
  },
  {
   "cell_type": "code",
   "execution_count": 54,
   "id": "75adf705-55e3-49a0-81f5-c10ba731ab83",
   "metadata": {},
   "outputs": [
    {
     "data": {
      "text/plain": [
       "True"
      ]
     },
     "execution_count": 54,
     "metadata": {},
     "output_type": "execute_result"
    }
   ],
   "source": [
    "1 <= 1"
   ]
  },
  {
   "cell_type": "code",
   "execution_count": 55,
   "id": "6b2e823f-a57f-4e2c-a2d2-667b748b5a7f",
   "metadata": {},
   "outputs": [
    {
     "data": {
      "text/plain": [
       "False"
      ]
     },
     "execution_count": 55,
     "metadata": {},
     "output_type": "execute_result"
    }
   ],
   "source": [
    "'Apple' == 'Apples'"
   ]
  },
  {
   "cell_type": "code",
   "execution_count": 56,
   "id": "a8d7c174-c45e-4e78-bd35-80078f4ca5f2",
   "metadata": {},
   "outputs": [
    {
     "data": {
      "text/plain": [
       "True"
      ]
     },
     "execution_count": 56,
     "metadata": {},
     "output_type": "execute_result"
    }
   ],
   "source": [
    "num1 = 100\n",
    "num2 = 200\n",
    "num1 < num2"
   ]
  },
  {
   "cell_type": "code",
   "execution_count": 57,
   "id": "7432c3cc-c271-46bb-b873-4aa3b60b1f2e",
   "metadata": {},
   "outputs": [
    {
     "data": {
      "text/plain": [
       "True"
      ]
     },
     "execution_count": 57,
     "metadata": {},
     "output_type": "execute_result"
    }
   ],
   "source": [
    "num1 != num2"
   ]
  },
  {
   "cell_type": "markdown",
   "id": "5daf5b99-082c-4f80-af1b-682c207ff826",
   "metadata": {},
   "source": [
    "### 条件分岐演算"
   ]
  },
  {
   "cell_type": "code",
   "execution_count": 58,
   "id": "ae950bdb-0c9b-4bb8-b9a0-ee3266c821d1",
   "metadata": {},
   "outputs": [
    {
     "name": "stdout",
     "output_type": "stream",
     "text": [
      "100\n"
     ]
    }
   ],
   "source": [
    "if num1 == 100:\n",
    "    print('100')\n",
    "else:\n",
    "    print('100以外')"
   ]
  },
  {
   "cell_type": "code",
   "execution_count": 59,
   "id": "338989d1-fec4-4ae5-ae36-5704bbe4d011",
   "metadata": {},
   "outputs": [
    {
     "name": "stdout",
     "output_type": "stream",
     "text": [
      "100以外\n"
     ]
    }
   ],
   "source": [
    "if num1 != 100:\n",
    "    print('100')\n",
    "else:\n",
    "    print('100以外')"
   ]
  },
  {
   "cell_type": "code",
   "execution_count": 60,
   "id": "47236765-1a1a-45d1-a5c6-1326371f1353",
   "metadata": {},
   "outputs": [
    {
     "name": "stdout",
     "output_type": "stream",
     "text": [
      "100\n"
     ]
    }
   ],
   "source": [
    "if num1 == 300:\n",
    "    print(300)\n",
    "elif num1 == 200:\n",
    "    print(200)\n",
    "else:\n",
    "    print(100)"
   ]
  },
  {
   "cell_type": "markdown",
   "id": "bb902ae2-95d3-4212-8c32-9eb4436ee417",
   "metadata": {},
   "source": [
    "### 繰り返し演算"
   ]
  },
  {
   "cell_type": "code",
   "execution_count": 61,
   "id": "6a0b9cef-78dd-4ab7-af0e-368fef394a35",
   "metadata": {},
   "outputs": [],
   "source": [
    "num_list = [10, 20 , 30, 40, 50]"
   ]
  },
  {
   "cell_type": "code",
   "execution_count": 62,
   "id": "ac7d8a25-af7e-4d98-9298-baa9426c9492",
   "metadata": {},
   "outputs": [
    {
     "name": "stdout",
     "output_type": "stream",
     "text": [
      "10\n",
      "20\n",
      "30\n",
      "40\n",
      "50\n"
     ]
    }
   ],
   "source": [
    "for num in num_list:\n",
    "    print(num)"
   ]
  },
  {
   "cell_type": "code",
   "execution_count": 64,
   "id": "df034961-53e9-4037-a6d0-981f470bde1c",
   "metadata": {},
   "outputs": [
    {
     "name": "stdout",
     "output_type": "stream",
     "text": [
      "0回目\n",
      "1回目\n",
      "2回目\n",
      "3回目\n",
      "4回目\n",
      "5回目\n",
      "6回目\n",
      "7回目\n",
      "8回目\n",
      "9回目\n"
     ]
    }
   ],
   "source": [
    "for i in range(10):\n",
    "    print(str(i) + '回目')"
   ]
  },
  {
   "cell_type": "markdown",
   "id": "47b2e0f3-c2f9-4e41-9bc8-ec5f4094c8bd",
   "metadata": {},
   "source": [
    "### 実習基礎演算"
   ]
  },
  {
   "cell_type": "code",
   "execution_count": 72,
   "id": "a99f1f56-ca97-46f2-9046-b3853ba420b9",
   "metadata": {},
   "outputs": [],
   "source": [
    "num_list = [10, 13, 14, 15, 20, 27, 30]\n",
    "even = 0\n",
    "odd = 0"
   ]
  },
  {
   "cell_type": "code",
   "execution_count": 73,
   "id": "b242b73b-06bb-4223-8434-ced4ded3977a",
   "metadata": {},
   "outputs": [
    {
     "name": "stdout",
     "output_type": "stream",
     "text": [
      "偶数の合計:74\n",
      "奇数の合計:55\n"
     ]
    }
   ],
   "source": [
    "for num in num_list:\n",
    "    if num % 2 == 0:\n",
    "        even = even + num\n",
    "    else:\n",
    "        odd = odd + num\n",
    "\n",
    "print('偶数の合計:' + str(even))\n",
    "print('奇数の合計:' + str(odd))"
   ]
  },
  {
   "cell_type": "markdown",
   "id": "1834a41b-294d-42b2-8999-5aa837cae90f",
   "metadata": {},
   "source": [
    "## 関数 : function\n",
    "- 処理のまとまり、処理群\n",
    "- システム関数、自作関数"
   ]
  },
  {
   "cell_type": "code",
   "execution_count": 88,
   "id": "e4d6cbb9-28d8-4b82-a3a8-6a1b2e677e31",
   "metadata": {},
   "outputs": [],
   "source": [
    "def sum_even_odd(num_list):\n",
    "    even = 0\n",
    "    odd = 0\n",
    "\n",
    "    for num in num_list:\n",
    "        if num % 2 == 0:\n",
    "            even = even + num\n",
    "        else:\n",
    "            odd = odd + num\n",
    "\n",
    "    print('偶数の合計:' + str(even))\n",
    "    print('奇数の合計:' + str(odd))\n",
    "    \n",
    "#     return even, odd"
   ]
  },
  {
   "cell_type": "code",
   "execution_count": 89,
   "id": "a5a69be2-e16e-4879-9926-fa9fde0e0c30",
   "metadata": {},
   "outputs": [
    {
     "name": "stdout",
     "output_type": "stream",
     "text": [
      "偶数の合計:550\n",
      "奇数の合計:1011\n"
     ]
    }
   ],
   "source": [
    "num_list = [100, 123, 321, 450, 567]\n",
    "sum_even_odd(num_list)"
   ]
  },
  {
   "cell_type": "markdown",
   "id": "96a455c9-0f29-4e50-9367-407831b21c03",
   "metadata": {},
   "source": [
    "#### 関数の処理結果である,*偶数の合計:550*, *奇数の合計:1011* が反映されていない\n",
    "- <u>１つ前の処理結果がそのまま出力されてしまう</u>\n",
    "\n",
    "\n",
    "- **関数の中の処理はあくまで関数の中で完結しており処理結果はそのままでは反映されない**ので注意する\n",
    "\n",
    "\n",
    "#### 戻り値として結果を返却する\n",
    "- **return even, odd** で返してあげると反映する\n",
    "\n",
    "\n",
    "- <u>戻された値を格納する為に２つ変数を用意しておく</u>"
   ]
  },
  {
   "cell_type": "code",
   "execution_count": 91,
   "id": "93991160-dc8c-488f-9730-c18849464640",
   "metadata": {},
   "outputs": [],
   "source": [
    "def sum_even_odd(num_list):\n",
    "    even = 0\n",
    "    odd = 0\n",
    "\n",
    "    for num in num_list:\n",
    "        if num % 2 == 0:\n",
    "            even = even + num\n",
    "        else:\n",
    "            odd = odd + num\n",
    "\n",
    "    print('偶数の合計:' + str(even))\n",
    "    print('奇数の合計:' + str(odd))\n",
    "    \n",
    "    return even, odd"
   ]
  },
  {
   "cell_type": "code",
   "execution_count": 92,
   "id": "f50b5693-ba6d-4975-8e10-5e48a6d987de",
   "metadata": {},
   "outputs": [
    {
     "name": "stdout",
     "output_type": "stream",
     "text": [
      "偶数の合計:550\n",
      "奇数の合計:1011\n"
     ]
    }
   ],
   "source": [
    "num_list = [100, 123, 321, 450, 567]\n",
    "even, odd = sum_even_odd(num_list)"
   ]
  },
  {
   "cell_type": "code",
   "execution_count": 93,
   "id": "bcba8561-608d-462f-bc17-5908a9071e66",
   "metadata": {},
   "outputs": [
    {
     "data": {
      "text/plain": [
       "550"
      ]
     },
     "execution_count": 93,
     "metadata": {},
     "output_type": "execute_result"
    }
   ],
   "source": [
    "even"
   ]
  },
  {
   "cell_type": "code",
   "execution_count": 94,
   "id": "96b38db3-6e3e-4afb-88e7-f81bf765d976",
   "metadata": {},
   "outputs": [
    {
     "data": {
      "text/plain": [
       "1011"
      ]
     },
     "execution_count": 94,
     "metadata": {},
     "output_type": "execute_result"
    }
   ],
   "source": [
    "odd"
   ]
  },
  {
   "cell_type": "markdown",
   "id": "765b5ee5-1ffb-46e2-b1f0-748ef41ecefb",
   "metadata": {},
   "source": [
    "#### そうする事で関数の処理結果を反映させる事ができる"
   ]
  },
  {
   "cell_type": "markdown",
   "id": "1f000e3d-4a43-4db6-bb28-aa290053e8b0",
   "metadata": {},
   "source": [
    "## ライブラリ\n",
    "- 用途に応じて汎用的な関数をまとめた module\n",
    "    - Numpy　:　配列数値の演算\n",
    "    - Pandas　:　表データ加工\n",
    "    - Matplotlib　:　グラフ描画"
   ]
  },
  {
   "cell_type": "markdown",
   "id": "83d26c6b-ed7b-4cf9-a6d2-3fb0a25436d2",
   "metadata": {
    "tags": []
   },
   "source": [
    "## Numpy"
   ]
  },
  {
   "cell_type": "code",
   "execution_count": 95,
   "id": "d477cdf3-81b4-4775-961d-aa60c1d19559",
   "metadata": {},
   "outputs": [],
   "source": [
    "import numpy as np"
   ]
  },
  {
   "cell_type": "code",
   "execution_count": 96,
   "id": "6bf76b61-bae3-4efb-bb81-955edca8df1a",
   "metadata": {},
   "outputs": [
    {
     "data": {
      "text/plain": [
       "array([1, 2, 3, 4, 5])"
      ]
     },
     "execution_count": 96,
     "metadata": {},
     "output_type": "execute_result"
    }
   ],
   "source": [
    "x1 = np.array([1, 2, 3, 4, 5])\n",
    "x1"
   ]
  },
  {
   "cell_type": "code",
   "execution_count": 100,
   "id": "cba2070d-0830-4c12-a724-f027a0225689",
   "metadata": {},
   "outputs": [
    {
     "name": "stdout",
     "output_type": "stream",
     "text": [
      "[1 2 3 4 5]\n"
     ]
    }
   ],
   "source": [
    "# 一次元配列\n",
    "print(x1)"
   ]
  },
  {
   "cell_type": "code",
   "execution_count": 101,
   "id": "8b4887bc-f422-43f0-a73c-3f3bad428d71",
   "metadata": {},
   "outputs": [
    {
     "data": {
      "text/plain": [
       "array([[1, 2, 3],\n",
       "       [4, 5, 6]])"
      ]
     },
     "execution_count": 101,
     "metadata": {},
     "output_type": "execute_result"
    }
   ],
   "source": [
    "x2 = np.array([[1, 2, 3], [4, 5, 6]])\n",
    "x2"
   ]
  },
  {
   "cell_type": "code",
   "execution_count": 102,
   "id": "87c70933-b6db-497c-833d-a339857aab5e",
   "metadata": {},
   "outputs": [
    {
     "name": "stdout",
     "output_type": "stream",
     "text": [
      "[[1 2 3]\n",
      " [4 5 6]]\n"
     ]
    }
   ],
   "source": [
    "# 二次元配列\n",
    "print(x2)"
   ]
  },
  {
   "cell_type": "code",
   "execution_count": 107,
   "id": "825bb394-d96a-4c89-b9d3-0cfc77fd47b2",
   "metadata": {},
   "outputs": [
    {
     "data": {
      "text/plain": [
       "(5,)"
      ]
     },
     "execution_count": 107,
     "metadata": {},
     "output_type": "execute_result"
    }
   ],
   "source": [
    "# １行・５件のdata\n",
    "x1.shape"
   ]
  },
  {
   "cell_type": "code",
   "execution_count": 108,
   "id": "9c697175-3b55-4b22-ae2d-92a277562b11",
   "metadata": {},
   "outputs": [
    {
     "data": {
      "text/plain": [
       "(2, 3)"
      ]
     },
     "execution_count": 108,
     "metadata": {},
     "output_type": "execute_result"
    }
   ],
   "source": [
    "# ２行・３列の配列\n",
    "x2.shape"
   ]
  },
  {
   "cell_type": "markdown",
   "id": "08a25fb8-8220-4638-96f5-827590df2b31",
   "metadata": {},
   "source": [
    "#### 関数とプロパティの違い\n",
    "- *関数*\n",
    "    - ()丸括弧　:　引数を指定し、何らかの処理や動作を行うもの\n",
    "\n",
    "\n",
    "- *プロパティ*\n",
    "    - 指定した変数などの特性情報を得るモノ\n",
    "\n",
    "\n",
    "- <u>極論　( )が付いているのが関数。( )が付いていないのがプロパティ</u>"
   ]
  },
  {
   "cell_type": "markdown",
   "id": "00d49282-dbcb-41fd-9230-0b21681b0e20",
   "metadata": {},
   "source": [
    "## Pandas"
   ]
  },
  {
   "cell_type": "code",
   "execution_count": 111,
   "id": "684f4894-26c8-44dc-92d3-879e1dfd1c8b",
   "metadata": {},
   "outputs": [
    {
     "name": "stderr",
     "output_type": "stream",
     "text": [
      "/Users/moto/udemy/Kaggle/venv/lib/python3.9/site-packages/pandas/compat/__init__.py:124: UserWarning: Could not import the lzma module. Your installed Python is incomplete. Attempting to use lzma compression will result in a RuntimeError.\n",
      "  warnings.warn(msg)\n"
     ]
    }
   ],
   "source": [
    "import pandas as pd"
   ]
  },
  {
   "cell_type": "code",
   "execution_count": 112,
   "id": "e9f3c02b-f42f-40eb-b618-390fd50a4f41",
   "metadata": {},
   "outputs": [],
   "source": [
    "data1 = {\n",
    "    'Name':['田中', '山田', '佐藤'],\n",
    "    'Post':['営業部', '技術部', '経理部'],\n",
    "    'Age':[28, 33, 55]\n",
    "}"
   ]
  },
  {
   "cell_type": "markdown",
   "id": "09270102-137c-40a8-84db-ea49d972fd98",
   "metadata": {},
   "source": [
    "#### 行と列を持った表をイメージすれば良い\n",
    "- それぞれ dictionary型, list型　で指定"
   ]
  },
  {
   "cell_type": "code",
   "execution_count": 113,
   "id": "de697eb6-cedb-410a-b8ef-44092914596b",
   "metadata": {},
   "outputs": [
    {
     "data": {
      "text/html": [
       "<div>\n",
       "<style scoped>\n",
       "    .dataframe tbody tr th:only-of-type {\n",
       "        vertical-align: middle;\n",
       "    }\n",
       "\n",
       "    .dataframe tbody tr th {\n",
       "        vertical-align: top;\n",
       "    }\n",
       "\n",
       "    .dataframe thead th {\n",
       "        text-align: right;\n",
       "    }\n",
       "</style>\n",
       "<table border=\"1\" class=\"dataframe\">\n",
       "  <thead>\n",
       "    <tr style=\"text-align: right;\">\n",
       "      <th></th>\n",
       "      <th>Name</th>\n",
       "      <th>Post</th>\n",
       "      <th>Age</th>\n",
       "    </tr>\n",
       "  </thead>\n",
       "  <tbody>\n",
       "    <tr>\n",
       "      <th>0</th>\n",
       "      <td>田中</td>\n",
       "      <td>営業部</td>\n",
       "      <td>28</td>\n",
       "    </tr>\n",
       "    <tr>\n",
       "      <th>1</th>\n",
       "      <td>山田</td>\n",
       "      <td>技術部</td>\n",
       "      <td>33</td>\n",
       "    </tr>\n",
       "    <tr>\n",
       "      <th>2</th>\n",
       "      <td>佐藤</td>\n",
       "      <td>経理部</td>\n",
       "      <td>55</td>\n",
       "    </tr>\n",
       "  </tbody>\n",
       "</table>\n",
       "</div>"
      ],
      "text/plain": [
       "  Name Post  Age\n",
       "0   田中  営業部   28\n",
       "1   山田  技術部   33\n",
       "2   佐藤  経理部   55"
      ]
     },
     "execution_count": 113,
     "metadata": {},
     "output_type": "execute_result"
    }
   ],
   "source": [
    "df1 = pd.DataFrame(data1)\n",
    "df1"
   ]
  },
  {
   "cell_type": "markdown",
   "id": "5c26a5ca-2f75-4ef2-a74d-940038251a36",
   "metadata": {},
   "source": [
    "- 辞書の ID が列名\n",
    "- 値の list が各行データ\n",
    "- default　で index の番号が付与される"
   ]
  },
  {
   "cell_type": "code",
   "execution_count": 114,
   "id": "b1015473-1be6-4ae9-b8af-9d677bfbcd46",
   "metadata": {},
   "outputs": [
    {
     "data": {
      "text/html": [
       "<div>\n",
       "<style scoped>\n",
       "    .dataframe tbody tr th:only-of-type {\n",
       "        vertical-align: middle;\n",
       "    }\n",
       "\n",
       "    .dataframe tbody tr th {\n",
       "        vertical-align: top;\n",
       "    }\n",
       "\n",
       "    .dataframe thead th {\n",
       "        text-align: right;\n",
       "    }\n",
       "</style>\n",
       "<table border=\"1\" class=\"dataframe\">\n",
       "  <thead>\n",
       "    <tr style=\"text-align: right;\">\n",
       "      <th></th>\n",
       "      <th>Name</th>\n",
       "      <th>Post</th>\n",
       "      <th>Age</th>\n",
       "    </tr>\n",
       "  </thead>\n",
       "  <tbody>\n",
       "    <tr>\n",
       "      <th>0</th>\n",
       "      <td>田中</td>\n",
       "      <td>営業部</td>\n",
       "      <td>28</td>\n",
       "    </tr>\n",
       "    <tr>\n",
       "      <th>1</th>\n",
       "      <td>山田</td>\n",
       "      <td>技術部</td>\n",
       "      <td>33</td>\n",
       "    </tr>\n",
       "  </tbody>\n",
       "</table>\n",
       "</div>"
      ],
      "text/plain": [
       "  Name Post  Age\n",
       "0   田中  営業部   28\n",
       "1   山田  技術部   33"
      ]
     },
     "execution_count": 114,
     "metadata": {},
     "output_type": "execute_result"
    }
   ],
   "source": [
    "# 先頭２行表示\n",
    "df1.head(2)"
   ]
  },
  {
   "cell_type": "code",
   "execution_count": 115,
   "id": "21caf606-d5d5-4596-82d4-ecd9db3c2789",
   "metadata": {},
   "outputs": [
    {
     "data": {
      "text/html": [
       "<div>\n",
       "<style scoped>\n",
       "    .dataframe tbody tr th:only-of-type {\n",
       "        vertical-align: middle;\n",
       "    }\n",
       "\n",
       "    .dataframe tbody tr th {\n",
       "        vertical-align: top;\n",
       "    }\n",
       "\n",
       "    .dataframe thead th {\n",
       "        text-align: right;\n",
       "    }\n",
       "</style>\n",
       "<table border=\"1\" class=\"dataframe\">\n",
       "  <thead>\n",
       "    <tr style=\"text-align: right;\">\n",
       "      <th></th>\n",
       "      <th>Name</th>\n",
       "      <th>Post</th>\n",
       "      <th>Age</th>\n",
       "    </tr>\n",
       "  </thead>\n",
       "  <tbody>\n",
       "    <tr>\n",
       "      <th>1</th>\n",
       "      <td>山田</td>\n",
       "      <td>技術部</td>\n",
       "      <td>33</td>\n",
       "    </tr>\n",
       "    <tr>\n",
       "      <th>2</th>\n",
       "      <td>佐藤</td>\n",
       "      <td>経理部</td>\n",
       "      <td>55</td>\n",
       "    </tr>\n",
       "  </tbody>\n",
       "</table>\n",
       "</div>"
      ],
      "text/plain": [
       "  Name Post  Age\n",
       "1   山田  技術部   33\n",
       "2   佐藤  経理部   55"
      ]
     },
     "execution_count": 115,
     "metadata": {},
     "output_type": "execute_result"
    }
   ],
   "source": [
    "# 最下行から２行\n",
    "df1.tail(2)"
   ]
  },
  {
   "cell_type": "code",
   "execution_count": 116,
   "id": "9c4185f8-8bff-46a4-a676-fb250b271ac7",
   "metadata": {},
   "outputs": [],
   "source": [
    "data2 = {\n",
    "    'Address':['東京', '千葉', '沖縄']\n",
    "}"
   ]
  },
  {
   "cell_type": "code",
   "execution_count": 117,
   "id": "0cfc4fa3-ebea-4b72-a050-ad4bf6d421a5",
   "metadata": {},
   "outputs": [
    {
     "data": {
      "text/html": [
       "<div>\n",
       "<style scoped>\n",
       "    .dataframe tbody tr th:only-of-type {\n",
       "        vertical-align: middle;\n",
       "    }\n",
       "\n",
       "    .dataframe tbody tr th {\n",
       "        vertical-align: top;\n",
       "    }\n",
       "\n",
       "    .dataframe thead th {\n",
       "        text-align: right;\n",
       "    }\n",
       "</style>\n",
       "<table border=\"1\" class=\"dataframe\">\n",
       "  <thead>\n",
       "    <tr style=\"text-align: right;\">\n",
       "      <th></th>\n",
       "      <th>Address</th>\n",
       "    </tr>\n",
       "  </thead>\n",
       "  <tbody>\n",
       "    <tr>\n",
       "      <th>0</th>\n",
       "      <td>東京</td>\n",
       "    </tr>\n",
       "    <tr>\n",
       "      <th>1</th>\n",
       "      <td>千葉</td>\n",
       "    </tr>\n",
       "    <tr>\n",
       "      <th>2</th>\n",
       "      <td>沖縄</td>\n",
       "    </tr>\n",
       "  </tbody>\n",
       "</table>\n",
       "</div>"
      ],
      "text/plain": [
       "  Address\n",
       "0      東京\n",
       "1      千葉\n",
       "2      沖縄"
      ]
     },
     "execution_count": 117,
     "metadata": {},
     "output_type": "execute_result"
    }
   ],
   "source": [
    "df2 = pd.DataFrame(data2)\n",
    "df2"
   ]
  },
  {
   "cell_type": "code",
   "execution_count": 119,
   "id": "a3435183-34c7-4348-95e9-d4b9993cc80f",
   "metadata": {},
   "outputs": [
    {
     "data": {
      "text/html": [
       "<div>\n",
       "<style scoped>\n",
       "    .dataframe tbody tr th:only-of-type {\n",
       "        vertical-align: middle;\n",
       "    }\n",
       "\n",
       "    .dataframe tbody tr th {\n",
       "        vertical-align: top;\n",
       "    }\n",
       "\n",
       "    .dataframe thead th {\n",
       "        text-align: right;\n",
       "    }\n",
       "</style>\n",
       "<table border=\"1\" class=\"dataframe\">\n",
       "  <thead>\n",
       "    <tr style=\"text-align: right;\">\n",
       "      <th></th>\n",
       "      <th>Name</th>\n",
       "      <th>Post</th>\n",
       "      <th>Age</th>\n",
       "      <th>Address</th>\n",
       "    </tr>\n",
       "  </thead>\n",
       "  <tbody>\n",
       "    <tr>\n",
       "      <th>0</th>\n",
       "      <td>田中</td>\n",
       "      <td>営業部</td>\n",
       "      <td>28.0</td>\n",
       "      <td>NaN</td>\n",
       "    </tr>\n",
       "    <tr>\n",
       "      <th>1</th>\n",
       "      <td>山田</td>\n",
       "      <td>技術部</td>\n",
       "      <td>33.0</td>\n",
       "      <td>NaN</td>\n",
       "    </tr>\n",
       "    <tr>\n",
       "      <th>2</th>\n",
       "      <td>佐藤</td>\n",
       "      <td>経理部</td>\n",
       "      <td>55.0</td>\n",
       "      <td>NaN</td>\n",
       "    </tr>\n",
       "    <tr>\n",
       "      <th>0</th>\n",
       "      <td>NaN</td>\n",
       "      <td>NaN</td>\n",
       "      <td>NaN</td>\n",
       "      <td>東京</td>\n",
       "    </tr>\n",
       "    <tr>\n",
       "      <th>1</th>\n",
       "      <td>NaN</td>\n",
       "      <td>NaN</td>\n",
       "      <td>NaN</td>\n",
       "      <td>千葉</td>\n",
       "    </tr>\n",
       "    <tr>\n",
       "      <th>2</th>\n",
       "      <td>NaN</td>\n",
       "      <td>NaN</td>\n",
       "      <td>NaN</td>\n",
       "      <td>沖縄</td>\n",
       "    </tr>\n",
       "  </tbody>\n",
       "</table>\n",
       "</div>"
      ],
      "text/plain": [
       "  Name Post   Age Address\n",
       "0   田中  営業部  28.0     NaN\n",
       "1   山田  技術部  33.0     NaN\n",
       "2   佐藤  経理部  55.0     NaN\n",
       "0  NaN  NaN   NaN      東京\n",
       "1  NaN  NaN   NaN      千葉\n",
       "2  NaN  NaN   NaN      沖縄"
      ]
     },
     "execution_count": 119,
     "metadata": {},
     "output_type": "execute_result"
    }
   ],
   "source": [
    "# concat : コンカット関数で結合/ リストの形で結合\n",
    "df3 = pd.concat([df1, df2])\n",
    "df3"
   ]
  },
  {
   "cell_type": "markdown",
   "id": "addcf74d-f0c2-4e38-98da-c0da298b7990",
   "metadata": {},
   "source": [
    "#### NaN(ヌル値) -> data が無い事を指し示す値"
   ]
  },
  {
   "cell_type": "code",
   "execution_count": 121,
   "id": "1f5719e2-c7e6-4056-ac97-48bd6a2cb5f5",
   "metadata": {},
   "outputs": [
    {
     "data": {
      "text/html": [
       "<div>\n",
       "<style scoped>\n",
       "    .dataframe tbody tr th:only-of-type {\n",
       "        vertical-align: middle;\n",
       "    }\n",
       "\n",
       "    .dataframe tbody tr th {\n",
       "        vertical-align: top;\n",
       "    }\n",
       "\n",
       "    .dataframe thead th {\n",
       "        text-align: right;\n",
       "    }\n",
       "</style>\n",
       "<table border=\"1\" class=\"dataframe\">\n",
       "  <thead>\n",
       "    <tr style=\"text-align: right;\">\n",
       "      <th></th>\n",
       "      <th>Name</th>\n",
       "      <th>Post</th>\n",
       "      <th>Age</th>\n",
       "      <th>Address</th>\n",
       "    </tr>\n",
       "  </thead>\n",
       "  <tbody>\n",
       "    <tr>\n",
       "      <th>0</th>\n",
       "      <td>田中</td>\n",
       "      <td>営業部</td>\n",
       "      <td>28</td>\n",
       "      <td>東京</td>\n",
       "    </tr>\n",
       "    <tr>\n",
       "      <th>1</th>\n",
       "      <td>山田</td>\n",
       "      <td>技術部</td>\n",
       "      <td>33</td>\n",
       "      <td>千葉</td>\n",
       "    </tr>\n",
       "    <tr>\n",
       "      <th>2</th>\n",
       "      <td>佐藤</td>\n",
       "      <td>経理部</td>\n",
       "      <td>55</td>\n",
       "      <td>沖縄</td>\n",
       "    </tr>\n",
       "  </tbody>\n",
       "</table>\n",
       "</div>"
      ],
      "text/plain": [
       "  Name Post  Age Address\n",
       "0   田中  営業部   28      東京\n",
       "1   山田  技術部   33      千葉\n",
       "2   佐藤  経理部   55      沖縄"
      ]
     },
     "execution_count": 121,
     "metadata": {},
     "output_type": "execute_result"
    }
   ],
   "source": [
    "df4 = pd.concat([df1, df2], axis=1)  # axis=1 (列)　/ 0 = 行\n",
    "df4"
   ]
  },
  {
   "cell_type": "markdown",
   "id": "8af7f365-e438-46f0-aeda-15411b2ec574",
   "metadata": {},
   "source": [
    "## Matplotlib"
   ]
  },
  {
   "cell_type": "code",
   "execution_count": 122,
   "id": "14b5524f-cae2-4bf6-b141-a7afc4e03c2a",
   "metadata": {},
   "outputs": [],
   "source": [
    "import matplotlib.pyplot as plt"
   ]
  },
  {
   "cell_type": "code",
   "execution_count": 124,
   "id": "916e689f-2856-4b0c-bee6-bc7dc06b2f61",
   "metadata": {},
   "outputs": [
    {
     "data": {
      "text/plain": [
       "<BarContainer object of 3 artists>"
      ]
     },
     "execution_count": 124,
     "metadata": {},
     "output_type": "execute_result"
    },
    {
     "data": {
      "image/png": "[encoded data removed]",
      "text/plain": [
       "<Figure size 432x288 with 1 Axes>"
      ]
     },
     "metadata": {
      "needs_background": "light"
     },
     "output_type": "display_data"
    }
   ],
   "source": [
    "x = ['Apple', 'Banana', 'Grape']\n",
    "y = [100, 200, 300]\n",
    "plt.bar(x, y)"
   ]
  },
  {
   "cell_type": "markdown",
   "id": "a52523f8-a6b3-4ce2-872a-e27e3b2d5e94",
   "metadata": {},
   "source": [
    "### 散布図を作成"
   ]
  },
  {
   "cell_type": "code",
   "execution_count": 126,
   "id": "39b67532-9172-48d1-9920-3d3409fd22f6",
   "metadata": {},
   "outputs": [
    {
     "data": {
      "text/plain": [
       "<matplotlib.collections.PathCollection at 0x11eb50580>"
      ]
     },
     "execution_count": 126,
     "metadata": {},
     "output_type": "execute_result"
    },
    {
     "data": {
      "image/png": "[encoded data removed]",
      "text/plain": [
       "<Figure size 432x288 with 1 Axes>"
      ]
     },
     "metadata": {
      "needs_background": "light"
     },
     "output_type": "display_data"
    }
   ],
   "source": [
    "x = [np.random.rand(100)*10]  # ライブラリ.module.関数\n",
    "y = [np.random.rand(100)*10]\n",
    "plt.scatter(x, y)"
   ]
  },
  {
   "cell_type": "markdown",
   "id": "4aea181d-4485-43e1-b1f3-e2dea5812483",
   "metadata": {},
   "source": [
    "## 実習２"
   ]
  },
  {
   "cell_type": "code",
   "execution_count": 127,
   "id": "d4375cc9-519c-48ae-9dc8-848f01c9e487",
   "metadata": {},
   "outputs": [
    {
     "data": {
      "text/plain": [
       "<BarContainer object of 6 artists>"
      ]
     },
     "execution_count": 127,
     "metadata": {},
     "output_type": "execute_result"
    },
    {
     "data": {
      "image/png": "[encoded data removed]",
      "text/plain": [
       "<Figure size 432x288 with 1 Axes>"
      ]
     },
     "metadata": {
      "needs_background": "light"
     },
     "output_type": "display_data"
    }
   ],
   "source": [
    "fruits = ['Apple', 'Banana', 'Grape', 'Cherry', 'Orange', 'Peach']\n",
    "cost = [150, 200, 90, 100, 85, 350]\n",
    "plt.bar(fruits, cost)"
   ]
  },
  {
   "cell_type": "code",
   "execution_count": 128,
   "id": "73250346-6e0b-439d-8724-597ea305cee0",
   "metadata": {},
   "outputs": [
    {
     "data": {
      "text/plain": [
       "[<matplotlib.lines.Line2D at 0x11ec1beb0>]"
      ]
     },
     "execution_count": 128,
     "metadata": {},
     "output_type": "execute_result"
    },
    {
     "data": {
      "image/png": "[encoded data removed]",
      "text/plain": [
       "<Figure size 432x288 with 1 Axes>"
      ]
     },
     "metadata": {
      "needs_background": "light"
     },
     "output_type": "display_data"
    }
   ],
   "source": [
    "plt.plot(fruits, cost)"
   ]
  },
  {
   "cell_type": "markdown",
   "id": "92393468-f2dc-487c-bdf5-373c0e2f05b9",
   "metadata": {},
   "source": [
    "### 回答"
   ]
  },
  {
   "cell_type": "code",
   "execution_count": 129,
   "id": "f9b50085-f452-484d-8195-510ad75980f2",
   "metadata": {},
   "outputs": [],
   "source": [
    "veg_price = {\n",
    "    'veg':['Apple', 'Banana', 'Grape', 'Cherry', 'Orange', 'Peach'],\n",
    "    'price':[150, 200, 90, 100, 85, 350]\n",
    "}"
   ]
  },
  {
   "cell_type": "code",
   "execution_count": 130,
   "id": "6b7e7bf5-4735-4a5d-a429-5b49cc9e6297",
   "metadata": {},
   "outputs": [
    {
     "data": {
      "text/html": [
       "<div>\n",
       "<style scoped>\n",
       "    .dataframe tbody tr th:only-of-type {\n",
       "        vertical-align: middle;\n",
       "    }\n",
       "\n",
       "    .dataframe tbody tr th {\n",
       "        vertical-align: top;\n",
       "    }\n",
       "\n",
       "    .dataframe thead th {\n",
       "        text-align: right;\n",
       "    }\n",
       "</style>\n",
       "<table border=\"1\" class=\"dataframe\">\n",
       "  <thead>\n",
       "    <tr style=\"text-align: right;\">\n",
       "      <th></th>\n",
       "      <th>veg</th>\n",
       "      <th>price</th>\n",
       "    </tr>\n",
       "  </thead>\n",
       "  <tbody>\n",
       "    <tr>\n",
       "      <th>0</th>\n",
       "      <td>Apple</td>\n",
       "      <td>150</td>\n",
       "    </tr>\n",
       "    <tr>\n",
       "      <th>1</th>\n",
       "      <td>Banana</td>\n",
       "      <td>200</td>\n",
       "    </tr>\n",
       "    <tr>\n",
       "      <th>2</th>\n",
       "      <td>Grape</td>\n",
       "      <td>90</td>\n",
       "    </tr>\n",
       "    <tr>\n",
       "      <th>3</th>\n",
       "      <td>Cherry</td>\n",
       "      <td>100</td>\n",
       "    </tr>\n",
       "    <tr>\n",
       "      <th>4</th>\n",
       "      <td>Orange</td>\n",
       "      <td>85</td>\n",
       "    </tr>\n",
       "    <tr>\n",
       "      <th>5</th>\n",
       "      <td>Peach</td>\n",
       "      <td>350</td>\n",
       "    </tr>\n",
       "  </tbody>\n",
       "</table>\n",
       "</div>"
      ],
      "text/plain": [
       "      veg  price\n",
       "0   Apple    150\n",
       "1  Banana    200\n",
       "2   Grape     90\n",
       "3  Cherry    100\n",
       "4  Orange     85\n",
       "5   Peach    350"
      ]
     },
     "execution_count": 130,
     "metadata": {},
     "output_type": "execute_result"
    }
   ],
   "source": [
    "df5 = pd.DataFrame(veg_price)\n",
    "df5"
   ]
  },
  {
   "cell_type": "code",
   "execution_count": 131,
   "id": "a364dc4e-5de1-4146-8ca4-90787e4ee929",
   "metadata": {},
   "outputs": [
    {
     "data": {
      "text/plain": [
       "<BarContainer object of 6 artists>"
      ]
     },
     "execution_count": 131,
     "metadata": {},
     "output_type": "execute_result"
    },
    {
     "data": {
      "image/png": "[encoded data removed]",
      "text/plain": [
       "<Figure size 432x288 with 1 Axes>"
      ]
     },
     "metadata": {
      "needs_background": "light"
     },
     "output_type": "display_data"
    }
   ],
   "source": [
    "x = df5['veg']\n",
    "y = df5['price']\n",
    "plt.bar(x, y)"
   ]
  },
  {
   "cell_type": "markdown",
   "id": "e8c67aee-7231-445c-a55f-61d6ca619977",
   "metadata": {},
   "source": [
    "#### DataFrame は列名を指定してあげれば情報を取得してくれる\n",
    "- key : value"
   ]
  },
  {
   "cell_type": "code",
   "execution_count": null,
   "id": "f80583d9-ea16-42aa-8036-09a48ddf984a",
   "metadata": {},
   "outputs": [],
   "source": []
  }
 ],
 "metadata": {
  "kernelspec": {
   "display_name": "Python 3 (ipykernel)",
   "language": "python",
   "name": "python3"
  },
  "language_info": {
   "codemirror_mode": {
    "name": "ipython",
    "version": 3
   },
   "file_extension": ".py",
   "mimetype": "text/x-python",
   "name": "python",
   "nbconvert_exporter": "python",
   "pygments_lexer": "ipython3",
   "version": "3.9.6"
  }
 },
 "nbformat": 4,
 "nbformat_minor": 5
}
