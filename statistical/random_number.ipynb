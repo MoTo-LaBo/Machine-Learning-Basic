{
 "cells": [
  {
   "cell_type": "markdown",
   "id": "5f903595-3c41-401a-8849-3cbbbe4689ad",
   "metadata": {},
   "source": [
    "# 乱数の生成(1)"
   ]
  },
  {
   "cell_type": "markdown",
   "id": "550f74c4-58ed-4623-8b9e-b490296e34b9",
   "metadata": {},
   "source": [
    "- 全く規則性のない形で数値データを生成する\n",
    "    - サイコロ, ルーレット\n",
    "\n",
    "\n",
    "- <u>目的</u>:　統計処理のためのsample data の用意など"
   ]
  },
  {
   "cell_type": "code",
   "execution_count": 1,
   "id": "14a5b592-3516-446c-9d93-e379a95657fb",
   "metadata": {},
   "outputs": [],
   "source": [
    "import numpy as np\n",
    "import matplotlib.pyplot as plt"
   ]
  },
  {
   "cell_type": "code",
   "execution_count": 3,
   "id": "2983361a-73c1-406d-8610-5cfb1953c4f9",
   "metadata": {},
   "outputs": [
    {
     "name": "stdout",
     "output_type": "stream",
     "text": [
      "0.1493879660894113\n"
     ]
    }
   ],
   "source": [
    "r = np.random.rand()  # １つの乱数を生成\n",
    "print(r)"
   ]
  },
  {
   "cell_type": "markdown",
   "id": "f1092e0c-5b10-4ecf-8233-37d8e0b0631d",
   "metadata": {},
   "source": [
    "- rand　:　（ランド）の性質　/　0以上 ~ 1.0未満範囲の中の全く出鱈目な数値を出力してくれる\n",
    "\n",
    "- 一様乱数を発生させる"
   ]
  },
  {
   "cell_type": "code",
   "execution_count": 6,
   "id": "6058579f-63e1-49a0-82c6-585b6d5f6a72",
   "metadata": {},
   "outputs": [
    {
     "name": "stdout",
     "output_type": "stream",
     "text": [
      "[0.44013918 0.592567   0.95353435 0.98157592 0.79705062 0.59938126\n",
      " 0.19812922]\n"
     ]
    }
   ],
   "source": [
    "r = np.random.rand(7)  # 7つの乱数を生成（一次元配列）\n",
    "print(r)"
   ]
  },
  {
   "cell_type": "code",
   "execution_count": 8,
   "id": "c524db60-d19e-42d4-94a8-c4e6cf354778",
   "metadata": {},
   "outputs": [
    {
     "name": "stdout",
     "output_type": "stream",
     "text": [
      "[[0.84915634 0.47265488 0.58610933 0.96882136 0.89261672 0.98877396]\n",
      " [0.2654613  0.10087657 0.88353631 0.08824935 0.17222613 0.05371173]\n",
      " [0.2968222  0.46134544 0.42462504 0.97818644 0.08624974 0.93970781]]\n"
     ]
    }
   ],
   "source": [
    "r =np.random.rand(3, 6)  # 3行,6列の乱数を生成する（二次元配列）\n",
    "print(r)"
   ]
  },
  {
   "cell_type": "markdown",
   "id": "9db54101-f861-4429-9999-5410bcf2a793",
   "metadata": {},
   "source": [
    "### スケールを変更する"
   ]
  },
  {
   "cell_type": "code",
   "execution_count": 14,
   "id": "7c64bf20-ac32-4bea-8754-2d40dee04293",
   "metadata": {},
   "outputs": [
    {
     "name": "stdout",
     "output_type": "stream",
     "text": [
      "[13.81448997  8.70990962  6.57871567 12.5185839   0.61172232 14.80012603\n",
      " 10.20180037 13.67942262 15.09953913  8.58960765 18.73894483  8.90848562\n",
      "  1.47015065 16.28580375  2.37963793  3.55352885 11.17939586  4.00748784\n",
      "  8.37868396 11.43033298]\n"
     ]
    }
   ],
   "source": [
    "r2 = np.random.rand(20) * 20  # 0以上 ~ 20未満の一様乱数\n",
    "print(r2)"
   ]
  },
  {
   "cell_type": "markdown",
   "id": "54f4fa55-a849-4b8c-86e5-22e574e111af",
   "metadata": {},
   "source": [
    "- 1 ~ 20 までの間の乱数が必要であれば、 20倍すれば良い。それで望みのscallのモノが得られる"
   ]
  },
  {
   "cell_type": "markdown",
   "id": "f5aaa20b-b1ac-480d-b482-e53d6fa0927d",
   "metadata": {},
   "source": [
    "### 0以下の数値が必要な場合"
   ]
  },
  {
   "cell_type": "code",
   "execution_count": 16,
   "id": "43764844-da53-45d1-87d6-4a7120a1ff3b",
   "metadata": {},
   "outputs": [
    {
     "name": "stdout",
     "output_type": "stream",
     "text": [
      "[ 3.81448997 -1.29009038 -3.42128433  2.5185839  -9.38827768  4.80012603\n",
      "  0.20180037  3.67942262  5.09953913 -1.41039235  8.73894483 -1.09151438\n",
      " -8.52984935  6.28580375 -7.62036207 -6.44647115  1.17939586 -5.99251216\n",
      " -1.62131604  1.43033298]\n"
     ]
    }
   ],
   "source": [
    "# -10以上 ~ 10未満の乱数が生成される　:　１段階下がる（オフセットして、−１０だけ負の方向にシフトする）\n",
    "r3 = r2 - 10\n",
    "print(r3)"
   ]
  },
  {
   "cell_type": "markdown",
   "id": "ee71c9f9-a213-411d-b532-2292fa5e59f6",
   "metadata": {},
   "source": [
    "### 整数にする"
   ]
  },
  {
   "cell_type": "code",
   "execution_count": 17,
   "id": "0ec9f0f2-532e-40c0-9e40-7bb2dad0269e",
   "metadata": {},
   "outputs": [
    {
     "name": "stdout",
     "output_type": "stream",
     "text": [
      "[ 3 -1 -3  2 -9  4  0  3  5 -1  8 -1 -8  6 -7 -6  1 -5 -1  1]\n"
     ]
    }
   ],
   "source": [
    "# 小数点以下をカットする\n",
    "r4 = r3.astype('int32')\n",
    "print(r4)"
   ]
  },
  {
   "cell_type": "code",
   "execution_count": 20,
   "id": "afde37d1-82c1-4cb9-9e03-4b2fc355f639",
   "metadata": {},
   "outputs": [
    {
     "name": "stdout",
     "output_type": "stream",
     "text": [
      "[ 5 -8  1  7  8  1 -9 -3  6  0 -9  7 -6 -8  6  0 -4 -7  9 -9]\n"
     ]
    }
   ],
   "source": [
    "# 整数で乱数を発生させる　/　-10 ~ 10 まで整数を 20個作成する\n",
    "r5 = np.random.randint(-10, 10, 20)\n",
    "print(r5)"
   ]
  },
  {
   "cell_type": "code",
   "execution_count": 21,
   "id": "836f5eeb-e023-4629-8473-db90465556ed",
   "metadata": {},
   "outputs": [
    {
     "name": "stdout",
     "output_type": "stream",
     "text": [
      "[[  7  -8  -1   7  -4   0]\n",
      " [  1  -7   9   6   9  -5]\n",
      " [ -8   6 -10   2   9   8]]\n"
     ]
    }
   ],
   "source": [
    "# 多次元の乱数を発生させる\n",
    "r5 = np.random.randint(-10, 10, (3, 6))\n",
    "print(r5)"
   ]
  },
  {
   "cell_type": "markdown",
   "id": "04a5f82b-1659-4a5b-99cb-d57ea8c490d4",
   "metadata": {},
   "source": [
    "## 一様乱数の分布を調べる(ヒストグラム)"
   ]
  },
  {
   "cell_type": "code",
   "execution_count": 23,
   "id": "dea2e520-3454-45ba-8e01-8e26eaad5397",
   "metadata": {},
   "outputs": [
    {
     "data": {
      "image/png": "[encoded data removed]",
      "text/plain": [
       "<Figure size 432x288 with 1 Axes>"
      ]
     },
     "metadata": {
      "needs_background": "light"
     },
     "output_type": "display_data"
    }
   ],
   "source": [
    "r = np.random.rand(100)\n",
    "g = plt.hist(r, bins=20)"
   ]
  },
  {
   "cell_type": "markdown",
   "id": "739ae7ef-f0a0-49d7-9b17-9ed446e04d37",
   "metadata": {},
   "source": [
    "- 乱数とはあまり少ない数を調べると一様な関数ではなくなる\n",
    "    - 統計的に言うと100個という数値はそれほど多い数ではない\n",
    "    - data の数は増えれば増えるほど段々と理想的な統計的傾向を示すようになる\n",
    "    - 大数の法則　->　表本数がdata数が多ければ多いほど標本的な統計的な傾向を表す"
   ]
  },
  {
   "cell_type": "code",
   "execution_count": 24,
   "id": "2940d432-c677-4d7a-b461-8a1ec0ce6b76",
   "metadata": {},
   "outputs": [
    {
     "data": {
      "image/png": "[encoded data removed]",
      "text/plain": [
       "<Figure size 432x288 with 1 Axes>"
      ]
     },
     "metadata": {
      "needs_background": "light"
     },
     "output_type": "display_data"
    }
   ],
   "source": [
    "r = np.random.rand(1000)\n",
    "g = plt.hist(r, bins=20)"
   ]
  },
  {
   "cell_type": "markdown",
   "id": "f04395f4-3cee-4109-bef2-d6fc6a8e1465",
   "metadata": {},
   "source": [
    "- 1000個くらい調べるとかなり一様な数に近づいてきた"
   ]
  },
  {
   "cell_type": "code",
   "execution_count": 25,
   "id": "3d2f4eb6-649c-4324-97c3-5e97aeb2fa5a",
   "metadata": {},
   "outputs": [
    {
     "data": {
      "image/png": "[encoded data removed]",
      "text/plain": [
       "<Figure size 432x288 with 1 Axes>"
      ]
     },
     "metadata": {
      "needs_background": "light"
     },
     "output_type": "display_data"
    }
   ],
   "source": [
    "r = np.random.rand(10000)\n",
    "g = plt.hist(r, bins=20)"
   ]
  },
  {
   "cell_type": "markdown",
   "id": "865bf444-d748-4aaa-a745-1cae94ad9513",
   "metadata": {},
   "source": [
    "- さらに凸凹がなくなってきて一様になってきた = 「大数の法則」　:　データサンプルは多ければ多いほどいい"
   ]
  },
  {
   "cell_type": "code",
   "execution_count": 27,
   "id": "5fd4c390-5f5a-4a57-8b46-a8b345bababc",
   "metadata": {},
   "outputs": [
    {
     "data": {
      "image/png": "[encoded data removed]",
      "text/plain": [
       "<Figure size 432x288 with 1 Axes>"
      ]
     },
     "metadata": {
      "needs_background": "light"
     },
     "output_type": "display_data"
    }
   ],
   "source": [
    "r = np.random.rand(100000)\n",
    "g = plt.hist(r, bins=20)"
   ]
  },
  {
   "cell_type": "code",
   "execution_count": 28,
   "id": "05c78e08-80e4-4091-aa44-12ade0a158e2",
   "metadata": {},
   "outputs": [
    {
     "data": {
      "image/png": "[encoded data removed]",
      "text/plain": [
       "<Figure size 432x288 with 1 Axes>"
      ]
     },
     "metadata": {
      "needs_background": "light"
     },
     "output_type": "display_data"
    }
   ],
   "source": [
    "r = np.random.rand(1000000)\n",
    "g = plt.hist(r, bins=20)"
   ]
  },
  {
   "cell_type": "markdown",
   "id": "e6841b74-75ae-47f3-bd70-c4ffca4c6010",
   "metadata": {},
   "source": [
    "## 正規乱数\n",
    "- 偏りがある乱数を作成する\n",
    "- 平均値に近い所の個体数が多い　->　よくある統計的性質"
   ]
  },
  {
   "cell_type": "code",
   "execution_count": 39,
   "id": "c2698235-822e-42d0-ace9-0b9946d961cb",
   "metadata": {},
   "outputs": [
    {
     "name": "stdout",
     "output_type": "stream",
     "text": [
      "0.6926786023465904\n"
     ]
    }
   ],
   "source": [
    "rn = np.random.normal()\n",
    "print(rn)"
   ]
  },
  {
   "cell_type": "code",
   "execution_count": 43,
   "id": "6d181187-ccb3-4c72-823b-2975cc8c9f3d",
   "metadata": {},
   "outputs": [
    {
     "data": {
      "image/png": "[encoded data removed]",
      "text/plain": [
       "<Figure size 432x288 with 1 Axes>"
      ]
     },
     "metadata": {
      "needs_background": "light"
     },
     "output_type": "display_data"
    }
   ],
   "source": [
    "# 平均値の周りにたくさんサンプルが集まる(平均値周りに集中)\n",
    "rn = np.random.normal(0, 1, 10000)  # 平均値　:　標準偏差(どれくらいの幅の散らばりでいくのか)　:　data個数\n",
    "g = plt.hist(rn, bins=20)"
   ]
  },
  {
   "cell_type": "markdown",
   "id": "0e4d5787-212e-469e-aa60-27b02e526955",
   "metadata": {},
   "source": [
    "### 統計学でよく見られる「正規分布」の確率密度の関数の外形\n",
    "- 0のあたりに沢山の集計が出ている"
   ]
  },
  {
   "cell_type": "markdown",
   "id": "3407d6b5-f58a-427e-b2ee-ace21057892a",
   "metadata": {},
   "source": [
    "## 正規分布(ガウス分布)\n",
    "- <u>「平均値」$\\mu$の周辺にサンプルが集中している</u>\n",
    "    - 別名ベルカーブ(釣鐘の形に似ている)\n",
    "    - よく見られる社会現象・自然現象。dataを取得してみるとこれに近い分布となることが多々ある\n",
    "    - $\\sigma$　:　標準偏差　/　$\\mu-\\sigma$,　$\\mu-\\sigma$\n",
    "    - $\\mu$　:　平均値\n",
    "\n",
    "\n",
    "### - <u>あえてある偏りのある様な乱数を生成する時に「正規分布」が使用される事が多い</u>"
   ]
  },
  {
   "cell_type": "markdown",
   "id": "19a36cbe-f917-4dcc-9486-4f6c91eece1a",
   "metadata": {},
   "source": [
    "## まとめ\n",
    "- <u>0以上 1.0未満の「一様乱数」の生成</u>\n",
    "    - **np.random.rand(データ個数)**　:　一次元配列として返す\n",
    "    - **np.random.rando(N1, N2...)**　:　N1 * N2 ...の多次元配列として返す\n",
    "\n",
    "\n",
    "- <u>N以上M未満の整数の一様乱数の生成</u>\n",
    "    - **np.random.randint(N, M, データ個数)**　:　一次元配列として返す\n",
    "    - **np.random.randint(N, M, (配列形状のtuple型))**　:　多次元配列として返す\n",
    "\n",
    "\n",
    "- <u>「正規乱数」の生成</u>\n",
    "    - **np.random.normal(平均, 標準偏差, データ個数)**　:　一次元配列として返す\n",
    "    - **np.random.normal(平均, 標準偏差, (配列形状tuple型))**　:　多次元配列として返す"
   ]
  }
 ],
 "metadata": {
  "kernelspec": {
   "display_name": "Python 3 (ipykernel)",
   "language": "python",
   "name": "python3"
  },
  "language_info": {
   "codemirror_mode": {
    "name": "ipython",
    "version": 3
   },
   "file_extension": ".py",
   "mimetype": "text/x-python",
   "name": "python",
   "nbconvert_exporter": "python",
   "pygments_lexer": "ipython3",
   "version": "3.9.6"
  }
 },
 "nbformat": 4,
 "nbformat_minor": 5
}
