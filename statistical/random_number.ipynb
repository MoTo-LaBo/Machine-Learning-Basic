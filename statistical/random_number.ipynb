{
 "cells": [
  {
   "cell_type": "markdown",
   "id": "5f903595-3c41-401a-8849-3cbbbe4689ad",
   "metadata": {},
   "source": [
    "# 乱数の生成(1)"
   ]
  },
  {
   "cell_type": "code",
   "execution_count": null,
   "id": "9ebe5dd1-08b2-4200-b9ce-1790c1a63ac0",
   "metadata": {},
   "outputs": [],
   "source": []
  }
 ],
 "metadata": {
  "kernelspec": {
   "display_name": "Python 3 (ipykernel)",
   "language": "python",
   "name": "python3"
  },
  "language_info": {
   "codemirror_mode": {
    "name": "ipython",
    "version": 3
   },
   "file_extension": ".py",
   "mimetype": "text/x-python",
   "name": "python",
   "nbconvert_exporter": "python",
   "pygments_lexer": "ipython3",
   "version": "3.9.6"
  }
 },
 "nbformat": 4,
 "nbformat_minor": 5
}
