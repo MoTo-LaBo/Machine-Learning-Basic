{
 "cells": [
  {
   "cell_type": "markdown",
   "id": "a229e135-f7ad-4f8d-838b-0a0cafa062ab",
   "metadata": {},
   "source": [
    "# 統計処理のための機能(1)"
   ]
  },
  {
   "cell_type": "markdown",
   "id": "3443c7eb-af64-47c4-9bbe-ed601230d258",
   "metadata": {},
   "source": [
    "- 数値データを統計処理する為の基本的な方法\n",
    "    - 離散的な数値data(整数data)の集計\n",
    "        - 離散的な数値(整数　:　小数点以下がない整数, マイナスがない整数)"
   ]
  },
  {
   "cell_type": "markdown",
   "id": "d2e99e25-eace-4bfd-809b-67ba7b192090",
   "metadata": {},
   "source": [
    "### 整数値(非負)の集計"
   ]
  },
  {
   "cell_type": "code",
   "execution_count": 1,
   "id": "3eccd058-2fd0-45bd-af12-e242b26d9907",
   "metadata": {},
   "outputs": [],
   "source": [
    "import numpy as np\n",
    "import matplotlib.pyplot as plt"
   ]
  },
  {
   "cell_type": "code",
   "execution_count": 2,
   "id": "80d4b786-9901-4ddb-908b-e98b2810302e",
   "metadata": {},
   "outputs": [],
   "source": [
    "q = np.array([0, 0, 0, 0, 0, 1, 1, 1, 1, 2, 2, 2, 3, 3, 4])  # sample data"
   ]
  },
  {
   "cell_type": "code",
   "execution_count": 3,
   "id": "7c86988f-4d4a-45f2-8598-6efd294afc99",
   "metadata": {},
   "outputs": [
    {
     "name": "stdout",
     "output_type": "stream",
     "text": [
      "[5 4 3 2 1]\n"
     ]
    }
   ],
   "source": [
    "c = np.bincount(q)\n",
    "print(c)"
   ]
  },
  {
   "cell_type": "markdown",
   "id": "0c0d4cb8-eb68-4c2f-96a8-cc4da206211a",
   "metadata": {},
   "source": [
    "### 度数が最も多い要素を求める\n",
    "- bincount は整数の度数分布を取得したモノ"
   ]
  },
  {
   "cell_type": "code",
   "execution_count": 4,
   "id": "45f89efe-1433-4851-9cad-d9bbb67645e9",
   "metadata": {},
   "outputs": [
    {
     "data": {
      "text/plain": [
       "0"
      ]
     },
     "execution_count": 4,
     "metadata": {},
     "output_type": "execute_result"
    }
   ],
   "source": [
    "np.argmax(c)  # data値の中で最大値を求める"
   ]
  },
  {
   "cell_type": "markdown",
   "id": "2c00187b-06b8-4e86-9a67-963996f49231",
   "metadata": {},
   "source": [
    "### 度数が最も少ない要素を求める"
   ]
  },
  {
   "cell_type": "code",
   "execution_count": 5,
   "id": "73e929ba-9c12-4b90-9912-c5088fb09695",
   "metadata": {},
   "outputs": [
    {
     "data": {
      "text/plain": [
       "4"
      ]
     },
     "execution_count": 5,
     "metadata": {},
     "output_type": "execute_result"
    }
   ],
   "source": [
    "np.argmin(c)  # data値の中で最小値を求める"
   ]
  },
  {
   "cell_type": "markdown",
   "id": "1e0113da-0ee7-4a54-8e4b-34b2bfbbe6cc",
   "metadata": {},
   "source": [
    "## 数値dataを統計処理するための基本的な方法(2)\n",
    "- 連続値(浮動小数点)のdataの集計\n",
    "- 平均値, 分散,　標準偏差 etc..."
   ]
  },
  {
   "cell_type": "markdown",
   "id": "b1e8f2d8-0725-4afd-8de2-9b8e23c5b05f",
   "metadata": {},
   "source": [
    "### 基本的な統計量の算出"
   ]
  },
  {
   "cell_type": "code",
   "execution_count": 6,
   "id": "dd245e25-adb0-4b2f-a404-d1dc9c1cc429",
   "metadata": {},
   "outputs": [],
   "source": [
    "np.random.seed(0)\n",
    "r = np.random.normal(5, 2, 100000)"
   ]
  },
  {
   "cell_type": "markdown",
   "id": "b0c5f7e7-4183-471d-bdc6-2e67052c240f",
   "metadata": {},
   "source": [
    "### 最大値・最小値\n",
    "- 統計処理で一番最初にすべき事"
   ]
  },
  {
   "cell_type": "code",
   "execution_count": 7,
   "id": "7f7e7eb3-9224-48ac-ba86-99e6bb9189a3",
   "metadata": {},
   "outputs": [
    {
     "name": "stdout",
     "output_type": "stream",
     "text": [
      "13.483543825807393\n",
      "-4.704235306360234\n"
     ]
    }
   ],
   "source": [
    "print(r.max())\n",
    "print(r.min())"
   ]
  },
  {
   "cell_type": "markdown",
   "id": "0a71b30f-25a3-415a-ac9e-fdf66ac85e91",
   "metadata": {},
   "source": [
    "### 平均値・分散・標準偏差\n",
    "- 分散は標準偏差の２乗になっている"
   ]
  },
  {
   "cell_type": "code",
   "execution_count": 8,
   "id": "5b2150a0-59a0-43f9-9e96-bf71f9d5f950",
   "metadata": {},
   "outputs": [
    {
     "name": "stdout",
     "output_type": "stream",
     "text": [
      "5.003153401016251\n",
      "3.9787458116624754\n",
      "1.9946793756547632\n"
     ]
    }
   ],
   "source": [
    "print(r.mean()) # mean(平均を意味する)\n",
    "print(r.var())  # 分散\n",
    "print(r.std())  # 標準偏差"
   ]
  },
  {
   "cell_type": "markdown",
   "id": "3928f27e-9803-4efd-9c35-bac67d694986",
   "metadata": {},
   "source": [
    "- 上記で設定した値に近くなっている\n",
    "    - r　=　np . random . normal <u>(5, 2, 100000)</u>\n",
    "    - 若干の誤差はあるが設定した値にかなり近い"
   ]
  },
  {
   "cell_type": "markdown",
   "id": "83de1407-4e62-4f87-8a8c-13b6bbd63e45",
   "metadata": {},
   "source": [
    "### 不偏分散・不偏標準偏差(母集団の推定に用いる)\n",
    "- <u>母集団</u>\n",
    "    - 非常に大きな母集団から、少数の　sample　を抜き出して少数の　sample　から得られた統計値から全体の集団(母集団)を推定する\n",
    "\n",
    "- <u>何が起こるのか？</u>\n",
    "    - 少数(小さい方に偏る)から得られた　sample　（標準偏差）は、若干少数(小さい方に偏る)性質がある\n",
    "\n",
    "\n",
    "- <u>不偏分散の方がただの分散より若干大きくなっている</u>"
   ]
  },
  {
   "cell_type": "code",
   "execution_count": 9,
   "id": "7f8b593a-bf47-49f6-ae29-8eab3766fa24",
   "metadata": {},
   "outputs": [
    {
     "name": "stdout",
     "output_type": "stream",
     "text": [
      "3.9787855995184707\n",
      "1.9946893491264424\n"
     ]
    }
   ],
   "source": [
    "print(r.var(ddof=1))\n",
    "print(r.std(ddof=1))"
   ]
  },
  {
   "cell_type": "markdown",
   "id": "be35317a-a906-4d99-9b86-2bfe9f91609b",
   "metadata": {},
   "source": [
    "## まとめ\n",
    "- <u>離散的な値(整数など)の個数の集計</u>\n",
    "    - **c　=　np.bincount(整数の配列)**　「indexが意味する値の集計値」の配列を　**c**　に得る\n",
    "    - ** np.bincount　の戻り値から,値の出現頻度が最小のモノと最大のモノを求める方法\n",
    "        - **np.argmin(c)**　:　出現回数が最小の値を求める\n",
    "        - **np.argmax(c)**　:　出現回数が最大の値(最頻値　:　モード)を求める\n",
    "\n",
    "    \n",
    "- <u>連続的な値(浮動小数点数)の統計処理</u>\n",
    "    - 平均値　:　配列 . mean()\n",
    "    - 分散　:　配列 . var()\n",
    "    - 不偏分散　:　配列 . var(ddof=1)\n",
    "    - 標準偏差　:　配列 . std()\n",
    "    - 不偏標準偏差　:　配列 .std(ddof=1)"
   ]
  },
  {
   "cell_type": "markdown",
   "id": "602e0b51-2d33-4a72-b0f3-f2061100f1c4",
   "metadata": {},
   "source": [
    "# 統計処理のための機能(2)"
   ]
  },
  {
   "cell_type": "markdown",
   "id": "827572d7-86b0-4eae-b88f-150374210b0f",
   "metadata": {},
   "source": [
    "### 区間毎のdataの集計\n",
    "- data の度数分布を調べる為の各種の方法\n",
    "\n",
    "\n",
    "- <u>matplotlibのhist関数(ヒストグラム作成関数)を用いた集計手法</u>\n",
    "    - 集計結果をグラフとして返してくれる\n",
    "    - 目で見てどの区間にどのdataがあるのか確認ができる\n",
    "\n",
    "\n",
    "- <u>NumPyのAPIを用いた集計方法</u>"
   ]
  },
  {
   "cell_type": "markdown",
   "id": "e755bdfe-2daa-437d-ae90-7dff2e525839",
   "metadata": {},
   "source": [
    "### 区間毎の集計（度数分布）"
   ]
  },
  {
   "cell_type": "code",
   "execution_count": null,
   "id": "604ba61c-8de7-4772-8f65-7133b7b63677",
   "metadata": {},
   "outputs": [],
   "source": [
    "g = plt.hist(r, bins=20)"
   ]
  },
  {
   "cell_type": "markdown",
   "id": "1bbaddab-4cf0-4e5f-8b16-7c5a57dd7d2e",
   "metadata": {},
   "source": [
    "- このデータでは具体的にどのdataが何処にどのくらいあるのか分からない"
   ]
  },
  {
   "cell_type": "markdown",
   "id": "33c1c10f-20db-4bbc-8629-7731fda33d2d",
   "metadata": {},
   "source": [
    "### 集計結果をdataとして使用する"
   ]
  },
  {
   "cell_type": "code",
   "execution_count": null,
   "id": "1c573f4d-4fe4-49db-b22b-0fb0a51030b9",
   "metadata": {},
   "outputs": [],
   "source": [
    "g"
   ]
  },
  {
   "cell_type": "markdown",
   "id": "8fb26c85-ad34-429a-bafb-418e26246a7c",
   "metadata": {},
   "source": [
    "- g[ index=1 ]　->　横軸(区間の境界値)"
   ]
  },
  {
   "cell_type": "code",
   "execution_count": null,
   "id": "31df3d78-c302-4152-b1a0-4deae72a53a5",
   "metadata": {},
   "outputs": [],
   "source": [
    "g[1]"
   ]
  },
  {
   "cell_type": "markdown",
   "id": "300d089b-727c-499d-a6a9-e776f2750056",
   "metadata": {},
   "source": [
    "- g[ index=0 ]　->　縦軸(度数の並び=集計結果)"
   ]
  },
  {
   "cell_type": "code",
   "execution_count": null,
   "id": "c6d141fb-34a1-4e99-b453-5156b88fb24e",
   "metadata": {},
   "outputs": [],
   "source": [
    "g[0]"
   ]
  },
  {
   "cell_type": "markdown",
   "id": "28a1cd40-45ad-4a19-a0c8-c291ca013074",
   "metadata": {},
   "source": [
    "### NumPy の機能を利用して度数を集計\n",
    "- 図を介する事なく、配列の処理だけで度数分布をする事ができる"
   ]
  },
  {
   "cell_type": "code",
   "execution_count": null,
   "id": "f1b9ad2e-ad75-451b-a0e2-ede003f86791",
   "metadata": {},
   "outputs": [],
   "source": [
    "b = np.linspace(r.min(), r.max(), 21)  # 区間の配列　＝　横軸（区間の境界値）\n",
    "print(b)"
   ]
  },
  {
   "cell_type": "code",
   "execution_count": null,
   "id": "b9edf705-7201-45b3-9414-8ca8c4cde2ed",
   "metadata": {},
   "outputs": [],
   "source": [
    "c = np.digitize(r, bins=b)  # 離散化, 区間の何番目に元のdataがあるのかlabel付けをするもの = 各データが属する区間を調べる\n",
    "print(r[:5])\n",
    "print(c[:5])"
   ]
  },
  {
   "cell_type": "markdown",
   "id": "155b598c-15e9-45eb-8644-f68d831a525a",
   "metadata": {},
   "source": [
    "#### digitize(　)　:　関数（デジタイズ）\n",
    "- ヒストグラムを記述した時に元のdata数値は何処に当てはまるのか？を紐付け(label付け)して配列で返してくれる"
   ]
  },
  {
   "cell_type": "markdown",
   "id": "59ffbc07-6372-47be-9076-cd2f0102e5a0",
   "metadata": {},
   "source": [
    "### label付されたモノを区間毎で集計する"
   ]
  },
  {
   "cell_type": "code",
   "execution_count": null,
   "id": "dac4dbd5-9411-42fd-8c4f-b052ae88e70f",
   "metadata": {},
   "outputs": [],
   "source": [
    "s = np.bincount(c)\n",
    "print(s)"
   ]
  },
  {
   "cell_type": "markdown",
   "id": "70a67936-9464-4e1a-81fe-5a619cd68941",
   "metadata": {},
   "source": [
    "- 区間を 20 段階に区切っている\n",
    "\n",
    "- <u>何個のdataがその区間に属しているのかを個数で表してくれる</u>\n",
    "\n",
    "- なんで最初の区間は 0 なのか？\n",
    "    - data の対象値未満の値のモノがあるのか？\n",
    "        - 最小値未満のところには値はないので、0と表示される\n",
    "\n",
    "- **本当に度数集計で必要になるのは 3 以降の区間の値**"
   ]
  },
  {
   "cell_type": "code",
   "execution_count": null,
   "id": "42c7273f-8b2a-4f2b-a506-b6be5e31eef0",
   "metadata": {},
   "outputs": [],
   "source": [
    "len(s)"
   ]
  },
  {
   "cell_type": "markdown",
   "id": "a1a4e053-ade7-4ac9-a1f3-7a0cd9d273f5",
   "metadata": {},
   "source": [
    "- <u>なぜ区間が１つ増えたのか</u>\n",
    "    - 上記で説明した内容の処理が起こったのでそのようになった"
   ]
  },
  {
   "cell_type": "markdown",
   "id": "05869381-34de-422c-8309-394163e75b57",
   "metadata": {},
   "source": [
    "###　棒グラフで表示させる"
   ]
  },
  {
   "cell_type": "code",
   "execution_count": null,
   "id": "cd5ce48e-c717-46b2-8609-cf8c3f2a7e00",
   "metadata": {},
   "outputs": [],
   "source": [
    "plt.bar(b, s)"
   ]
  },
  {
   "cell_type": "markdown",
   "id": "bc5dc40c-36cb-49d8-86bf-48327acaeecf",
   "metadata": {},
   "source": [
    "- bincount()で処理すると最小値未満の区間も入ってしまう為\n",
    "    - b = 21個\n",
    "    - s = 22個\n",
    "        - **個数が対応していない**"
   ]
  },
  {
   "cell_type": "code",
   "execution_count": null,
   "id": "c3b1d6d4-6ff7-4715-b5b1-5afe1a42f87d",
   "metadata": {},
   "outputs": [],
   "source": [
    "plt.bar(b, s[1:])"
   ]
  },
  {
   "cell_type": "markdown",
   "id": "fab6c0cc-a6ed-43b4-ba7b-78737244a4c3",
   "metadata": {
    "tags": []
   },
   "source": [
    "## まとめ\n",
    "- <u>matplotlibのhist関数(ヒストグラム描画関数)の集計機能</u>\n",
    "    - 手軽な方法\n",
    "    - **g = plt.hist (配列, bins=階級の数)**\n",
    "    - g[ 1 ]　:　区間の境界の並び（横軸）\n",
    "    - g[ 0 ]　:　区間毎の度数の並び(各区間に対するdataの個数)\n",
    "\n",
    "\n",
    "- <u>NumPyのdegitize関数で集計する</u>\n",
    "    - b　=　np.linspace( )　:　区間の境界の並び（階級の区切り）\n",
    "    - c　=　np.digitize(配列, bins=b)　:　データに対する**区間毎のindex**の並び(label付け＝変換)\n",
    "    - s　=　np.bincount(c)　:　区間毎の度数の並び（その区間に何個のdataが含まれているか個数を表してくれる）\n",
    "    - 上記 b に対する「配列」の度数分布が s に得られる\n",
    "    \n",
    "    \n",
    "- <u>hist関数と　digitize 関数では**区間の捉え方**が少し異なる</u>"
   ]
  },
  {
   "cell_type": "markdown",
   "id": "98139834-dab0-4586-ad45-48d8f0263fc5",
   "metadata": {},
   "source": [
    "# 統計処理の為の機能(3)\n",
    "### 各種の代表値について\n",
    "- 「代表値」　:　データ全体を要約する値\n",
    "    - 平均値　=　標本値の合計　÷　標本の数\n",
    "    - 中央値　=　標本の値を昇順に並べた場合に、標本数を二分する値　:　メディアン\n",
    "        - dataが偶数個の場合は、中央に近い2つの値の平均値\n",
    "    - 最頻値　=　標本数が最も多く集中する(度数が最大の)区間　:　モード\n",
    "        - (区間の中央)"
   ]
  },
  {
   "cell_type": "markdown",
   "id": "32f35caa-a1b9-4fa7-87f2-a397a819b972",
   "metadata": {},
   "source": [
    "### 各種の代表値"
   ]
  },
  {
   "cell_type": "markdown",
   "id": "5c78d905-ba86-4ec1-ac4d-bc4d55013f3d",
   "metadata": {},
   "source": [
    "### 平均値"
   ]
  },
  {
   "cell_type": "code",
   "execution_count": null,
   "id": "103b7e4e-5ed4-4ed7-b31a-d1de4abaed54",
   "metadata": {},
   "outputs": [],
   "source": [
    "r.mean()"
   ]
  },
  {
   "cell_type": "markdown",
   "id": "71e15416-44e4-4d67-950e-cb8ed6bab32b",
   "metadata": {},
   "source": [
    "### 中央値"
   ]
  },
  {
   "cell_type": "code",
   "execution_count": null,
   "id": "a98549ce-1352-4298-9022-5e131d100f7a",
   "metadata": {},
   "outputs": [],
   "source": [
    "# クアンタイル :　四分因数　-> 順番に並べた時に(25%, 50%, 75%, 100%)示す point\n",
    "np.quantile(r, 0.5)  # 集計対象data　:　何割含む所までpointするか(比率)　:　　"
   ]
  },
  {
   "cell_type": "markdown",
   "id": "33ac29b3-a0ae-47eb-a4e0-1889399fdfb7",
   "metadata": {},
   "source": [
    "### 最頻値"
   ]
  },
  {
   "cell_type": "code",
   "execution_count": null,
   "id": "65b77136-7cc4-4d3e-aa3f-63bb725b8666",
   "metadata": {},
   "outputs": [],
   "source": [
    "np.argmax(g[0]) # argmax()　: アーグマックス　/ 最大値を保持している位置はどこか？を求める"
   ]
  },
  {
   "cell_type": "code",
   "execution_count": null,
   "id": "f3d1d514-ebca-4b70-bcaa-4296634e89ad",
   "metadata": {},
   "outputs": [],
   "source": [
    "g[1][10]"
   ]
  },
  {
   "cell_type": "code",
   "execution_count": null,
   "id": "02663e69-b0fc-4aad-80de-3a60d5efb364",
   "metadata": {},
   "outputs": [],
   "source": [
    "# 区間の始点と終点を足して割る　-> 区間のど真ん中が求まる\n",
    "(g[1][10] + g[1][11])/2"
   ]
  },
  {
   "cell_type": "markdown",
   "id": "b723f499-12f1-41a7-aa15-698d1fc0d08e",
   "metadata": {},
   "source": [
    "#### 結論　:　正規乱数では、平均値、中央値、最頻値は全て(ほぼ)同じ値"
   ]
  },
  {
   "cell_type": "markdown",
   "id": "8650c8c0-2f7c-4f01-a745-6e60a6690509",
   "metadata": {},
   "source": [
    "## 対数正規分布\n",
    "- しばしば見られる。かなり歪んでいる分布"
   ]
  },
  {
   "cell_type": "code",
   "execution_count": null,
   "id": "87724071-e868-4fae-b971-4435a86ceb83",
   "metadata": {},
   "outputs": [],
   "source": [
    "np.random.seed(0)\n",
    "lgn = np.random.lognormal(0, 0.5, 100000)"
   ]
  },
  {
   "cell_type": "code",
   "execution_count": null,
   "id": "5ff03383-36a0-48b8-adb7-f9ae115ed2c0",
   "metadata": {},
   "outputs": [],
   "source": [
    "print(lgn[:10])"
   ]
  },
  {
   "cell_type": "code",
   "execution_count": null,
   "id": "5fdcda57-132e-4c8f-8fb3-053b35e89c1b",
   "metadata": {},
   "outputs": [],
   "source": [
    "plt.figure(figsize=(8, 3))\n",
    "h = plt.hist(lgn, bins=100)\n",
    "plt.xlim(0, 4)\n",
    "plt.ylim(0, 9000)\n",
    "plt.vlines(lgn.mean(), 0,9000, color='green', label='mean') # 縦棒を入れる ->　平均値（green）\n",
    "plt.vlines((h[1][8] + h[1][9])/2, 0,9000, color='red', label='mode') # 縦棒を入れる ->　最頻値（red）\n",
    "plt.vlines(np.quantile(lgn, 0.5), 0,9000, color='gray', label='median') # 縦棒を入れる ->　中央値(gray)\n",
    "plt.legend()"
   ]
  },
  {
   "cell_type": "code",
   "execution_count": null,
   "id": "e1e975a1-47ce-47ec-b98e-f52d5e647a76",
   "metadata": {},
   "outputs": [],
   "source": [
    "# 平均値\n",
    "lgn.mean()"
   ]
  },
  {
   "cell_type": "code",
   "execution_count": null,
   "id": "869e8f29-fccd-4522-b328-16cd1c7deb39",
   "metadata": {},
   "outputs": [],
   "source": [
    "# 最頻値\n",
    "np.argmax(h[0]) # 度数が最も大きい区間の index"
   ]
  },
  {
   "cell_type": "markdown",
   "id": "f1e72503-278b-4f7b-bd73-9fc9b04e88c3",
   "metadata": {},
   "source": [
    "#### histグラム 8番目の index が最も大きい"
   ]
  },
  {
   "cell_type": "code",
   "execution_count": null,
   "id": "bcd8c47b-c526-46fb-960a-398666eb3b5b",
   "metadata": {},
   "outputs": [],
   "source": [
    "(h[1][8] + h[1][9])/2"
   ]
  },
  {
   "cell_type": "markdown",
   "id": "834f8bbb-4db3-4bf9-8804-28bf7d5fc581",
   "metadata": {},
   "source": [
    "#### 約８番目がグラフのピークになっている\n",
    "- 最頻値"
   ]
  },
  {
   "cell_type": "code",
   "execution_count": null,
   "id": "4516bb1b-77c2-4114-987b-a961e9b57069",
   "metadata": {},
   "outputs": [],
   "source": [
    "# 中央値 | クアンタイル :　四分因数　-> 順番に並べた時に(25%, 50%, 75%, 100%)示す point\n",
    "np.quantile(lgn, 0.5)"
   ]
  },
  {
   "cell_type": "markdown",
   "id": "b28cfcdd-9ac7-4693-88a3-5262f4da8f07",
   "metadata": {},
   "source": [
    "### 対数正規分布　（歪みの例）\n",
    "- 経済現象を色々統計を取るとよく見られる分布\n",
    "    - 国民世帯あたりの年収・保有資産\n",
    "    - 全国で調査して度数分布を取ると、**対数正規分布になる**\n",
    "\n",
    "\n",
    "- <u>経済的な特徴を見るための指標にもなる</u>"
   ]
  },
  {
   "cell_type": "markdown",
   "id": "f85bb294-746e-4d01-8eb1-fadce524cb62",
   "metadata": {},
   "source": [
    "## まとめ\n",
    "- <u>配列の平均値</u>\n",
    "    - **配列.mean( )**　:　配列の平均値\n",
    "    - **配列.quantile(配列, 要素数の比率)**　:　配列のパーセント点（全要素の何％を占める要素は、どの階級なのかどの位置なのか？）\n",
    "        - 統計処理を手がけるようになるとすごく重要になってくる\n",
    "        - 「要素数の比率」に0.5を与えると<u>中央値</u>を得る\n",
    "        - 中央値 | クアンタイル :　四分因数　-> 順番に並べた時に(25%, 50%, 75%, 100%)示す point\n",
    "\n",
    "\n",
    "- <u>最頻値の算出</u>\n",
    "    - 1. 度数が最大の区間の index を取得する\n",
    "        - np.argmax(度数分布の配列)\n",
    "    - 2. 上記の index 位置と区間の配列から最頻値を判断する\n",
    "        - 区間の開始 ~ 次の区間の開始　を足して / 2 で割ると、最大区間の中央の値が算出される"
   ]
  },
  {
   "cell_type": "markdown",
   "id": "2a7d8b75-6f1f-470f-984a-9c328a8519ce",
   "metadata": {},
   "source": [
    "# 統計処理の為の機能(4)"
   ]
  },
  {
   "cell_type": "markdown",
   "id": "a9e2f6c0-ffe0-4471-95ca-173015627f0d",
   "metadata": {},
   "source": [
    "### 質的データ(カテゴリーデータ)の扱い\n",
    "- 非数値のデータ(文字列など)の集計処理"
   ]
  },
  {
   "cell_type": "markdown",
   "id": "646aee88-ae58-4dd6-a7b0-5621fa294101",
   "metadata": {},
   "source": [
    "### カテゴリーdataの扱い"
   ]
  },
  {
   "cell_type": "code",
   "execution_count": null,
   "id": "4abdcecc-22f8-422b-b258-fe1409bf3c1c",
   "metadata": {},
   "outputs": [],
   "source": [
    "# sample data読み込み\n",
    "fruits = np.loadtxt('fruits.csv', delimiter=(','), skiprows=1, encoding='utf-8', dtype='U')  # キーワード引数の記述の順番は大切"
   ]
  },
  {
   "cell_type": "code",
   "execution_count": null,
   "id": "5eb3193b-bc16-4b7c-97c0-a9ddaac00fd7",
   "metadata": {},
   "outputs": [],
   "source": [
    "fruits[:5]"
   ]
  },
  {
   "cell_type": "markdown",
   "id": "0625a236-c370-486c-9178-4ea3bf7f1c03",
   "metadata": {},
   "source": [
    "- 1. **dtype='U'　->　string に変換**\n",
    "\n",
    "- 2. 整数（intger）も string型になってしまっているので修正する"
   ]
  },
  {
   "cell_type": "code",
   "execution_count": null,
   "id": "ddecf835-c8d5-481f-94ee-e273c0c86444",
   "metadata": {},
   "outputs": [],
   "source": [
    "# sample data読み込み\n",
    "fruits = np.loadtxt('fruits.csv', delimiter=(','), skiprows=1, encoding='utf-8', dtype='U', usecols=1)  # キーワード引数の記述の順番は大切"
   ]
  },
  {
   "cell_type": "code",
   "execution_count": null,
   "id": "302854fc-0562-4c10-b1a9-46bbc18d8a01",
   "metadata": {},
   "outputs": [],
   "source": [
    "fruits[:5]"
   ]
  },
  {
   "cell_type": "markdown",
   "id": "e1f9070b-18d7-4312-8d01-36853031b647",
   "metadata": {},
   "source": [
    "- usecols=index　->　欲しい列だけ取り出す(特定の列だけpick up)"
   ]
  },
  {
   "cell_type": "markdown",
   "id": "6a9dbc22-da9a-4b8f-bf05-a59a6cc9d99b",
   "metadata": {},
   "source": [
    "### 要素の種類を調べる(重複の排除)"
   ]
  },
  {
   "cell_type": "code",
   "execution_count": null,
   "id": "b6459723-175a-4bbf-9dc4-ebbe4da022f4",
   "metadata": {},
   "outputs": [],
   "source": [
    "# 重複しないように、カテゴリを1個づつ取り出せる unique() 関数\n",
    "u = np.unique(fruits)\n",
    "print(u)"
   ]
  },
  {
   "cell_type": "markdown",
   "id": "42600645-c684-4dfe-9bb7-cc13fd36d774",
   "metadata": {},
   "source": [
    "### 要素の出現頻度を調べる"
   ]
  },
  {
   "cell_type": "code",
   "execution_count": null,
   "id": "669629e1-fa1f-47ec-9bc9-22a9183e515c",
   "metadata": {},
   "outputs": [],
   "source": [
    "# unique()　の引数に return_counts=True　を与える事によって出現回数も調べる事ができる\n",
    "u, c = np.unique(fruits, return_counts=True)\n",
    "print(u)\n",
    "print(c)"
   ]
  },
  {
   "cell_type": "markdown",
   "id": "bbf4a930-dddc-435d-9b63-cfbcb83e38b3",
   "metadata": {},
   "source": [
    "- **return_counts=True** をつける事により数値の配列が得られる"
   ]
  },
  {
   "cell_type": "markdown",
   "id": "81d96c76-bfc9-44d2-9aff-f778bcf6f0b0",
   "metadata": {},
   "source": [
    "## 棒グラフにする"
   ]
  },
  {
   "cell_type": "markdown",
   "id": "cf68f31c-83bd-4173-91ba-69d3c590d4af",
   "metadata": {},
   "source": [
    "### 日本語fontの設定"
   ]
  },
  {
   "cell_type": "code",
   "execution_count": null,
   "id": "d2c9c688-db6c-4900-b04f-5a89a652e026",
   "metadata": {},
   "outputs": [],
   "source": [
    "from matplotlib.font_manager import FontProperties\n",
    "fp = FontProperties(fname=r'/System/Library/Fonts/Hiragino Sans GB.ttc', size=12)"
   ]
  },
  {
   "cell_type": "code",
   "execution_count": null,
   "id": "c167f34e-8ed6-466c-9a0b-a41ee3c6cada",
   "metadata": {},
   "outputs": [],
   "source": [
    "plt.bar(u, c)  # 棒グラフ\n",
    "plt.xticks(fontproperties=fp,)  # 棒グラフの場合"
   ]
  },
  {
   "cell_type": "markdown",
   "id": "71155fcc-f088-42a8-929d-f1df62c171cd",
   "metadata": {},
   "source": [
    "### 集計結果を辞書型にする"
   ]
  },
  {
   "cell_type": "code",
   "execution_count": null,
   "id": "e82bf836-04eb-4f63-ba53-4bcfb1ae4a24",
   "metadata": {},
   "outputs": [],
   "source": [
    "# zip : 複数の配列やlist を束ねて１つのobjectにする\n",
    "z = list(zip(u, c))\n",
    "print(z)"
   ]
  },
  {
   "cell_type": "code",
   "execution_count": null,
   "id": "ce8bf983-6d5a-481f-81a8-493c30f9408e",
   "metadata": {},
   "outputs": [],
   "source": [
    "d = dict(z)"
   ]
  },
  {
   "cell_type": "code",
   "execution_count": null,
   "id": "7f38d65c-2eb5-4751-a4f8-219b895e1f12",
   "metadata": {},
   "outputs": [],
   "source": [
    "print(d)"
   ]
  },
  {
   "cell_type": "code",
   "execution_count": null,
   "id": "d8b2cf3f-e6a8-4ee3-b80c-de25577a4613",
   "metadata": {},
   "outputs": [],
   "source": [
    "d['バナナ']"
   ]
  },
  {
   "cell_type": "markdown",
   "id": "bd051831-cb48-4f1d-a4b8-cd1156d13ae9",
   "metadata": {},
   "source": [
    "### dictionary型 (key　:　value) にしておくことによってカテゴリdataを扱いやすくする\n",
    "- python の dictionary型は, JSON のdata構造にかなり近い\n",
    "- javascript などと　data　をやり取りする時に物凄く扱いやすい\n",
    "- 辞書構造にしておくと後で何かと役にたつ = 汎用性が高い"
   ]
  },
  {
   "cell_type": "markdown",
   "id": "8a9f0c26-aaa3-475a-860f-996b92614834",
   "metadata": {},
   "source": [
    "### 集計結果を配列にする"
   ]
  },
  {
   "cell_type": "code",
   "execution_count": null,
   "id": "91e933bd-99ef-4748-87e4-0158bd67b461",
   "metadata": {},
   "outputs": [],
   "source": [
    "tbl = np.array(z)\n",
    "print(tbl)"
   ]
  },
  {
   "cell_type": "markdown",
   "id": "962e224d-9ae8-4578-abf4-139378bd651d",
   "metadata": {},
   "source": [
    "- 二次元配列に変換したのは良いが、数値の部分が 文字列(string型)になってしまっている"
   ]
  },
  {
   "cell_type": "markdown",
   "id": "b78c62b0-3a46-476f-a632-a8b41ca42610",
   "metadata": {},
   "source": [
    "## まとめ\n",
    "- <u>CVSfileの読み込み</u>\n",
    "    - **fruits = np.loadtxt('file name', delimiter='区切り文字', skiprows=１行目飛ばす, encoding='utf-8', usecols=indexの番号だけを抜き出す)**\n",
    "    - dtype='U'　:　Unicode文字として読み込む(数値dataではなく’文字列’として読み込む), カテゴリdataなどを使用する場合はよく使用される\n",
    "    - usecols=index　:　indexの位置を選択して\n",
    "    - usecols=[n1, n2,...]　:　特定のindex位置n1, n2,...を選択して読み込む(複数抽出もできる)\n",
    "        - **機械学習などの Big bata 無条件で全て読み込んでしまうとメモリの無駄遣いになってしまうので**上記の方法はよく使用される\n",
    "\n",
    "\n",
    "- <u>u = np.unique(配列)</u>\n",
    "    - 「配列」の要素の重複を除去する\n",
    "        - 出現頻度を調べる関数\n",
    "   　- **(u, c) = np.unique(配列, return_counts=True)\n",
    "        - 「配列」を集計して要素並び　**u**　の出現回数　**c**　を取得する\n",
    "        - default は False"
   ]
  },
  {
   "cell_type": "code",
   "execution_count": null,
   "id": "22084200-d759-4112-a1ae-a03b521834bb",
   "metadata": {},
   "outputs": [],
   "source": []
  }
 ],
 "metadata": {
  "kernelspec": {
   "display_name": "Python 3 (ipykernel)",
   "language": "python",
   "name": "python3"
  },
  "language_info": {
   "codemirror_mode": {
    "name": "ipython",
    "version": 3
   },
   "file_extension": ".py",
   "mimetype": "text/x-python",
   "name": "python",
   "nbconvert_exporter": "python",
   "pygments_lexer": "ipython3",
   "version": "3.9.6"
  }
 },
 "nbformat": 4,
 "nbformat_minor": 5
}
