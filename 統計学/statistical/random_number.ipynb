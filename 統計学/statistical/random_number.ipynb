{
 "cells": [
  {
   "cell_type": "markdown",
   "id": "5f903595-3c41-401a-8849-3cbbbe4689ad",
   "metadata": {},
   "source": [
    "# 乱数の生成(1)"
   ]
  },
  {
   "cell_type": "markdown",
   "id": "550f74c4-58ed-4623-8b9e-b490296e34b9",
   "metadata": {},
   "source": [
    "- 全く規則性のない形で数値データを生成する\n",
    "    - サイコロ, ルーレット\n",
    "\n",
    "\n",
    "- <u>目的</u>:　統計処理のためのsample data の用意など"
   ]
  },
  {
   "cell_type": "code",
   "execution_count": 1,
   "id": "14a5b592-3516-446c-9d93-e379a95657fb",
   "metadata": {},
   "outputs": [],
   "source": [
    "import numpy as np\n",
    "import matplotlib.pyplot as plt"
   ]
  },
  {
   "cell_type": "code",
   "execution_count": 2,
   "id": "2983361a-73c1-406d-8610-5cfb1953c4f9",
   "metadata": {},
   "outputs": [
    {
     "name": "stdout",
     "output_type": "stream",
     "text": [
      "0.20647618384846855\n"
     ]
    }
   ],
   "source": [
    "r = np.random.rand()  # １つの乱数を生成\n",
    "print(r)"
   ]
  },
  {
   "cell_type": "markdown",
   "id": "f1092e0c-5b10-4ecf-8233-37d8e0b0631d",
   "metadata": {},
   "source": [
    "- rand　:　（ランド）の性質　/　0以上 ~ 1.0未満範囲の中の全く出鱈目な数値を出力してくれる\n",
    "\n",
    "- 一様乱数を発生させる"
   ]
  },
  {
   "cell_type": "code",
   "execution_count": 3,
   "id": "6058579f-63e1-49a0-82c6-585b6d5f6a72",
   "metadata": {},
   "outputs": [
    {
     "name": "stdout",
     "output_type": "stream",
     "text": [
      "[0.9576429  0.14311924 0.45042238 0.34177852 0.19283688 0.99917121\n",
      " 0.58965084]\n"
     ]
    }
   ],
   "source": [
    "r = np.random.rand(7)  # 7つの乱数を生成（一次元配列）\n",
    "print(r)"
   ]
  },
  {
   "cell_type": "code",
   "execution_count": 4,
   "id": "c524db60-d19e-42d4-94a8-c4e6cf354778",
   "metadata": {},
   "outputs": [
    {
     "name": "stdout",
     "output_type": "stream",
     "text": [
      "[[0.62776026 0.27039457 0.23412205 0.65088296 0.84851361 0.82338498]\n",
      " [0.05783816 0.73178703 0.4340249  0.68442275 0.88159834 0.24323323]\n",
      " [0.78900906 0.9293833  0.30990985 0.21940226 0.90378917 0.02444034]]\n"
     ]
    }
   ],
   "source": [
    "r =np.random.rand(3, 6)  # 3行,6列の乱数を生成する（二次元配列）\n",
    "print(r)"
   ]
  },
  {
   "cell_type": "markdown",
   "id": "9db54101-f861-4429-9999-5410bcf2a793",
   "metadata": {},
   "source": [
    "### スケールを変更する"
   ]
  },
  {
   "cell_type": "code",
   "execution_count": 5,
   "id": "7c64bf20-ac32-4bea-8754-2d40dee04293",
   "metadata": {},
   "outputs": [
    {
     "name": "stdout",
     "output_type": "stream",
     "text": [
      "[ 5.97391329 19.77019583 11.21317892 15.26563013  1.97505124  4.4443055\n",
      "  1.86953265 15.56888805 15.48358144 14.46851621 10.92449015 15.71836464\n",
      " 13.19221619 10.34213388  4.95671778 10.78819681 19.23102301 11.22155816\n",
      "  5.12033633 16.64273216]\n"
     ]
    }
   ],
   "source": [
    "r2 = np.random.rand(20) * 20  # 0以上 ~ 20未満の一様乱数\n",
    "print(r2)"
   ]
  },
  {
   "cell_type": "markdown",
   "id": "54f4fa55-a849-4b8c-86e5-22e574e111af",
   "metadata": {},
   "source": [
    "- 1 ~ 20 までの間の乱数が必要であれば、 20倍すれば良い。それで望みのscallのモノが得られる"
   ]
  },
  {
   "cell_type": "markdown",
   "id": "f5aaa20b-b1ac-480d-b482-e53d6fa0927d",
   "metadata": {},
   "source": [
    "### 0以下の数値が必要な場合"
   ]
  },
  {
   "cell_type": "code",
   "execution_count": 6,
   "id": "43764844-da53-45d1-87d6-4a7120a1ff3b",
   "metadata": {},
   "outputs": [
    {
     "name": "stdout",
     "output_type": "stream",
     "text": [
      "[-4.02608671  9.77019583  1.21317892  5.26563013 -8.02494876 -5.5556945\n",
      " -8.13046735  5.56888805  5.48358144  4.46851621  0.92449015  5.71836464\n",
      "  3.19221619  0.34213388 -5.04328222  0.78819681  9.23102301  1.22155816\n",
      " -4.87966367  6.64273216]\n"
     ]
    }
   ],
   "source": [
    "# -10以上 ~ 10未満の乱数が生成される　:　１段階下がる（オフセットして、−１０だけ負の方向にシフトする）\n",
    "r3 = r2 - 10\n",
    "print(r3)"
   ]
  },
  {
   "cell_type": "markdown",
   "id": "ee71c9f9-a213-411d-b532-2292fa5e59f6",
   "metadata": {},
   "source": [
    "### 整数にする"
   ]
  },
  {
   "cell_type": "code",
   "execution_count": 7,
   "id": "0ec9f0f2-532e-40c0-9e40-7bb2dad0269e",
   "metadata": {},
   "outputs": [
    {
     "name": "stdout",
     "output_type": "stream",
     "text": [
      "[-4  9  1  5 -8 -5 -8  5  5  4  0  5  3  0 -5  0  9  1 -4  6]\n"
     ]
    }
   ],
   "source": [
    "# 小数点以下をカットする\n",
    "r4 = r3.astype('int32')\n",
    "print(r4)"
   ]
  },
  {
   "cell_type": "code",
   "execution_count": 8,
   "id": "afde37d1-82c1-4cb9-9e03-4b2fc355f639",
   "metadata": {},
   "outputs": [
    {
     "name": "stdout",
     "output_type": "stream",
     "text": [
      "[  8  -1  -4   5  -4 -10   1  -7  -6   2  -3   2  -1   8  -9  -8   9  -6\n",
      "  -5  -5]\n"
     ]
    }
   ],
   "source": [
    "# 整数で乱数を発生させる　/　-10 ~ 10 まで整数を 20個作成する\n",
    "r5 = np.random.randint(-10, 10, 20)\n",
    "print(r5)"
   ]
  },
  {
   "cell_type": "code",
   "execution_count": 9,
   "id": "836f5eeb-e023-4629-8473-db90465556ed",
   "metadata": {},
   "outputs": [
    {
     "name": "stdout",
     "output_type": "stream",
     "text": [
      "[[ 9 -4 -4  4  2 -3]\n",
      " [-3  3 -8 -2  7  1]\n",
      " [-9 -7 -7  2  9  3]]\n"
     ]
    }
   ],
   "source": [
    "# 多次元の乱数を発生させる\n",
    "r5 = np.random.randint(-10, 10, (3, 6))\n",
    "print(r5)"
   ]
  },
  {
   "cell_type": "markdown",
   "id": "04a5f82b-1659-4a5b-99cb-d57ea8c490d4",
   "metadata": {},
   "source": [
    "## 一様乱数の分布を調べる(ヒストグラム)"
   ]
  },
  {
   "cell_type": "code",
   "execution_count": 10,
   "id": "dea2e520-3454-45ba-8e01-8e26eaad5397",
   "metadata": {},
   "outputs": [
    {
     "data": {
      "image/png": "[encoded data removed]",
      "text/plain": [
       "<Figure size 432x288 with 1 Axes>"
      ]
     },
     "metadata": {
      "needs_background": "light"
     },
     "output_type": "display_data"
    }
   ],
   "source": [
    "r = np.random.rand(100)\n",
    "g = plt.hist(r, bins=20)"
   ]
  },
  {
   "cell_type": "markdown",
   "id": "739ae7ef-f0a0-49d7-9b17-9ed446e04d37",
   "metadata": {},
   "source": [
    "- 乱数とはあまり少ない数を調べると一様な関数ではなくなる\n",
    "    - 統計的に言うと100個という数値はそれほど多い数ではない\n",
    "    - data の数は増えれば増えるほど段々と理想的な統計的傾向を示すようになる\n",
    "    - 大数の法則　->　表本数がdata数が多ければ多いほど標本的な統計的な傾向を表す"
   ]
  },
  {
   "cell_type": "code",
   "execution_count": 11,
   "id": "2940d432-c677-4d7a-b461-8a1ec0ce6b76",
   "metadata": {},
   "outputs": [
    {
     "data": {
      "image/png": "[encoded data removed]",
      "text/plain": [
       "<Figure size 432x288 with 1 Axes>"
      ]
     },
     "metadata": {
      "needs_background": "light"
     },
     "output_type": "display_data"
    }
   ],
   "source": [
    "r = np.random.rand(1000)\n",
    "g = plt.hist(r, bins=20)"
   ]
  },
  {
   "cell_type": "markdown",
   "id": "f04395f4-3cee-4109-bef2-d6fc6a8e1465",
   "metadata": {},
   "source": [
    "- 1000個くらい調べるとかなり一様な数に近づいてきた"
   ]
  },
  {
   "cell_type": "code",
   "execution_count": null,
   "id": "3d2f4eb6-649c-4324-97c3-5e97aeb2fa5a",
   "metadata": {},
   "outputs": [],
   "source": [
    "r = np.random.rand(10000)\n",
    "g = plt.hist(r, bins=20)"
   ]
  },
  {
   "cell_type": "markdown",
   "id": "865bf444-d748-4aaa-a745-1cae94ad9513",
   "metadata": {},
   "source": [
    "- さらに凸凹がなくなってきて一様になってきた = 「大数の法則」　:　データサンプルは多ければ多いほどいい"
   ]
  },
  {
   "cell_type": "code",
   "execution_count": null,
   "id": "5fd4c390-5f5a-4a57-8b46-a8b345bababc",
   "metadata": {},
   "outputs": [],
   "source": [
    "r = np.random.rand(100000)\n",
    "g = plt.hist(r, bins=20)"
   ]
  },
  {
   "cell_type": "code",
   "execution_count": null,
   "id": "05c78e08-80e4-4091-aa44-12ade0a158e2",
   "metadata": {},
   "outputs": [],
   "source": [
    "r = np.random.rand(1000000)\n",
    "g = plt.hist(r, bins=20)"
   ]
  },
  {
   "cell_type": "markdown",
   "id": "e6841b74-75ae-47f3-bd70-c4ffca4c6010",
   "metadata": {},
   "source": [
    "## 正規乱数\n",
    "- 偏りがある乱数を作成する\n",
    "- 平均値に近い所の個体数が多い　->　よくある統計的性質"
   ]
  },
  {
   "cell_type": "code",
   "execution_count": 15,
   "id": "c2698235-822e-42d0-ace9-0b9946d961cb",
   "metadata": {},
   "outputs": [
    {
     "name": "stdout",
     "output_type": "stream",
     "text": [
      "-0.22491320262043124\n"
     ]
    }
   ],
   "source": [
    "rn = np.random.normal()\n",
    "print(rn)"
   ]
  },
  {
   "cell_type": "code",
   "execution_count": 16,
   "id": "6d181187-ccb3-4c72-823b-2975cc8c9f3d",
   "metadata": {},
   "outputs": [
    {
     "data": {
      "image/png": "[encoded data removed]",
      "text/plain": [
       "<Figure size 432x288 with 1 Axes>"
      ]
     },
     "metadata": {
      "needs_background": "light"
     },
     "output_type": "display_data"
    }
   ],
   "source": [
    "# 平均値の周りにたくさんサンプルが集まる(平均値周りに集中)\n",
    "rn = np.random.normal(0, 1, 10000)  # 平均値　:　標準偏差(どれくらいの幅の散らばりでいくのか)　:　data個数\n",
    "g = plt.hist(rn, bins=20)"
   ]
  },
  {
   "cell_type": "markdown",
   "id": "0e4d5787-212e-469e-aa60-27b02e526955",
   "metadata": {},
   "source": [
    "### 統計学でよく見られる「正規分布」の確率密度の関数の外形\n",
    "- 0のあたりに沢山の集計が出ている"
   ]
  },
  {
   "cell_type": "markdown",
   "id": "3407d6b5-f58a-427e-b2ee-ace21057892a",
   "metadata": {},
   "source": [
    "## 正規分布(ガウス分布)\n",
    "- <u>「平均値」$\\mu$の周辺にサンプルが集中している</u>\n",
    "    - 別名ベルカーブ(釣鐘の形に似ている)\n",
    "    - よく見られる社会現象・自然現象。dataを取得してみるとこれに近い分布となることが多々ある\n",
    "    - $\\sigma$　:　標準偏差　/　$\\mu+\\sigma$,　$\\mu-\\sigma$\n",
    "    - $\\mu$　:　平均値\n",
    "\n",
    "\n",
    "### - <u>あえてある偏りのある様な乱数を生成する時に「正規分布」が使用される事が多い</u>"
   ]
  },
  {
   "cell_type": "markdown",
   "id": "19a36cbe-f917-4dcc-9486-4f6c91eece1a",
   "metadata": {
    "tags": []
   },
   "source": [
    "## まとめ\n",
    "- <u>0以上 1.0未満の「一様乱数」の生成</u>\n",
    "    - **np.random.rand(データ個数)**　:　一次元配列として返す\n",
    "    - **np.random.rando(N1, N2...)**　:　N1 * N2 ...の多次元配列として返す\n",
    "\n",
    "\n",
    "- <u>N以上M未満の整数の一様乱数の生成</u>\n",
    "    - **np.random.randint(N, M, データ個数)**　:　一次元配列として返す\n",
    "    - **np.random.randint(N, M, (配列形状のtuple型))**　:　多次元配列として返す\n",
    "\n",
    "\n",
    "- <u>「正規乱数」の生成</u>\n",
    "    - **np.random.normal(平均, 標準偏差, データ個数)**　:　一次元配列として返す\n",
    "    - **np.random.normal(平均, 標準偏差, (配列形状tuple型))**　:　多次元配列として返す"
   ]
  },
  {
   "cell_type": "markdown",
   "id": "3b1f55e9-2969-4e2c-8bc1-c98b10ca78a8",
   "metadata": {},
   "source": [
    "# 乱数の生成(2)"
   ]
  },
  {
   "cell_type": "markdown",
   "id": "60a4b56c-69c2-48e9-b04b-9958408614e3",
   "metadata": {},
   "source": [
    "### 乱数のseed(種)について\n",
    "- 「乱数は生成する度に異なる値が得られる」"
   ]
  },
  {
   "cell_type": "code",
   "execution_count": 21,
   "id": "b7ecfb15-98f2-42da-9c5a-d34c23a893b3",
   "metadata": {},
   "outputs": [
    {
     "name": "stdout",
     "output_type": "stream",
     "text": [
      "[0.04191966 0.55639347 0.82301604 0.09772192 0.83013867 0.91127271]\n"
     ]
    }
   ],
   "source": [
    "print(np.random.rand(6))"
   ]
  },
  {
   "cell_type": "code",
   "execution_count": 27,
   "id": "46283f52-2e5c-4077-8214-8686c651bca9",
   "metadata": {},
   "outputs": [
    {
     "name": "stdout",
     "output_type": "stream",
     "text": [
      "[0.5488135  0.71518937 0.60276338 0.54488318 0.4236548  0.64589411]\n"
     ]
    }
   ],
   "source": [
    "# seed()関数を付けると同じdata列が得られる\n",
    "np.random.seed(0)\n",
    "print(np.random.rand(6))"
   ]
  },
  {
   "cell_type": "markdown",
   "id": "b8509a65-e8d1-41bd-b594-0aff2d37271f",
   "metadata": {
    "tags": []
   },
   "source": [
    "## 確定的な乱数生成過程\n",
    "- <u>考え方</u>　:\n",
    "    - コンピュータで発生させる乱数は「乱数表」の中から引用している\n",
    "    - 固定された「乱数表」から順番に数字をピックアップしていく\n",
    "    - 厳密には **「疑似乱数」** と呼ばれる\n",
    "    - なので毎回全く違う数値が得られているかのように見える\n",
    "    - 「乱数表」はカッチリと決まったモノ\n",
    "\n",
    "\n",
    "- <u>seed()</u>\n",
    "    - seedを付けると引用する乱数の位置を指定する事になる\n",
    "    - 乱数を引用する初期状態を「seed」(種)と呼ぶ\n",
    "    - 出発点を決めるので、並びが固定されてるので同じ数値（並び）が得られる\n",
    "\n",
    "\n",
    "- <u>応用例</u>　:\n",
    "    - **sample data 生成における厳密な再現性**を実現する\n",
    "        - このような　data を与えた時に同じ反応が返ってくるのか？再現性検証　->　決まった乱数が必要になる\n",
    "    - 検証する時に確定的な data が必要な時が結構ある\n",
    "        - seep()　:　疑似乱数をしう要することが多い"
   ]
  },
  {
   "cell_type": "markdown",
   "id": "6738ab35-86f9-4940-9b68-d548367c8194",
   "metadata": {},
   "source": [
    "### 実行する度に異なるパターン"
   ]
  },
  {
   "cell_type": "code",
   "execution_count": 35,
   "id": "fd2f221d-8ff6-4a12-aef5-25231d1ebfd4",
   "metadata": {},
   "outputs": [
    {
     "data": {
      "image/png": "[encoded data removed]",
      "text/plain": [
       "<Figure size 432x288 with 1 Axes>"
      ]
     },
     "metadata": {
      "needs_background": "light"
     },
     "output_type": "display_data"
    }
   ],
   "source": [
    "r = np.random.normal(0, 1, 1000)\n",
    "g = plt.hist(r, bins=20)"
   ]
  },
  {
   "cell_type": "markdown",
   "id": "1feea1e5-6a85-4162-9ef4-7a33737fc822",
   "metadata": {},
   "source": [
    "### 何度やっても同じパターン（再現性）"
   ]
  },
  {
   "cell_type": "code",
   "execution_count": 37,
   "id": "c88554a9-7a4e-4f0f-a83e-0cd57d57c71e",
   "metadata": {},
   "outputs": [
    {
     "data": {
      "image/png": "[encoded data removed]",
      "text/plain": [
       "<Figure size 432x288 with 1 Axes>"
      ]
     },
     "metadata": {
      "needs_background": "light"
     },
     "output_type": "display_data"
    }
   ],
   "source": [
    "np.random.seed(87) # 87はseedの開始位置\n",
    "r = np.random.normal(0, 1, 1000)\n",
    "g = plt.hist(r, bins=20)"
   ]
  },
  {
   "cell_type": "markdown",
   "id": "a8d90e25-2fe0-42ce-b1eb-d079cd5b683c",
   "metadata": {},
   "source": [
    "- 再現・検証する場合は同じ乱数列が必要になる\n",
    "    - 全く違うdataパターンを与えると、出力も若干異なってくる\n",
    "    - そういう事が起こってしまうと、機械学習や統計のプログラムの検証が十分にできない"
   ]
  },
  {
   "cell_type": "markdown",
   "id": "ace9ceff-4ee0-47d1-bec4-46922ac951fc",
   "metadata": {},
   "source": [
    "## まとめ\n",
    "- <u>乱数生成の系列は確定的</u>\n",
    "    - 機械学習や統計処理の時に重要になってくる\n",
    "\n",
    "\n",
    "- <u>乱数生成の初期状態をseed(種)</u> で指定できる\n",
    "    - 決まったパターンの乱数を生成\n",
    "    - **np.random.seed(値)　:　乱数生成の直前でこれを実行する**"
   ]
  },
  {
   "cell_type": "code",
   "execution_count": null,
   "id": "c5c87024-c405-497e-bde0-02335454652f",
   "metadata": {},
   "outputs": [],
   "source": []
  }
 ],
 "metadata": {
  "kernelspec": {
   "display_name": "Python 3 (ipykernel)",
   "language": "python",
   "name": "python3"
  },
  "language_info": {
   "codemirror_mode": {
    "name": "ipython",
    "version": 3
   },
   "file_extension": ".py",
   "mimetype": "text/x-python",
   "name": "python",
   "nbconvert_exporter": "python",
   "pygments_lexer": "ipython3",
   "version": "3.9.6"
  }
 },
 "nbformat": 4,
 "nbformat_minor": 5
}
