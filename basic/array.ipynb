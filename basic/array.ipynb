{
 "cells": [
  {
   "cell_type": "markdown",
   "id": "b9c32496-2741-4b81-be96-6644b2a1b5d2",
   "metadata": {},
   "source": [
    "# Array data"
   ]
  },
  {
   "cell_type": "markdown",
   "id": "f7cd3f19-3f01-408b-bc14-5261c2034c0c",
   "metadata": {},
   "source": [
    "### 配列 data の取り扱い\n",
    "\n",
    "- <u>配列 data とは？</u>    \n",
    "    - data 処理の為の基本的な data構造\n",
    "    - 複数の data が並んだモノ(python list型に似ている)\n",
    "    - 1次元 (一直線に data が並んだもの)\n",
    "    - 2次元 (2つの方向に data が並んだもの: １次元 data が並んだ、表形式の data)\n",
    "    - 3次元 (表形式の２次元の配列を持つ : 縦,　横,　高さ, の立体構造 data)\n",
    "    - 4次元, 5次元, etc...\n",
    "    \n",
    "- <u>使用用途</u>\n",
    "    - 表などの data 処理(Excel)\n",
    "    - 画像、音声、などの media data の処理\n",
    "    - 機械学習、AI系の情報処理\n",
    "\n",
    "- 配列が保持する「値」\n",
    "    - 数値　　　:　　整数、浮動小数点、複素数\n",
    "    - 真理値　　:　　真(True) or 偽(False)\n",
    "    - その他　　:　　文字列, ect..."
   ]
  },
  {
   "cell_type": "markdown",
   "id": "159738d9-4a33-4da6-85c7-eb77b4d75f07",
   "metadata": {},
   "source": [
    "### 配列作成\n",
    "- python の list をarray(配列)に変換する"
   ]
  },
  {
   "cell_type": "code",
   "execution_count": 1,
   "id": "1505b022-67a1-447d-a656-80f465be8f8f",
   "metadata": {},
   "outputs": [],
   "source": [
    "import numpy as np"
   ]
  },
  {
   "cell_type": "code",
   "execution_count": 7,
   "id": "b2214f08-1bc1-44fc-8962-63942232873c",
   "metadata": {},
   "outputs": [
    {
     "name": "stdout",
     "output_type": "stream",
     "text": [
      "[1, 2, 3, 4, 5]\n"
     ]
    }
   ],
   "source": [
    "lst = [1, 2, 3, 4, 5]\n",
    "print(lst)"
   ]
  },
  {
   "cell_type": "code",
   "execution_count": 10,
   "id": "e35baff0-e32c-4fcf-ac89-2b437b36edde",
   "metadata": {},
   "outputs": [
    {
     "data": {
      "text/plain": [
       "[1, 2, 3, 4, 5]"
      ]
     },
     "execution_count": 10,
     "metadata": {},
     "output_type": "execute_result"
    }
   ],
   "source": [
    "lst"
   ]
  },
  {
   "cell_type": "code",
   "execution_count": 8,
   "id": "2c42fc29-cd0e-4870-a88d-e4fe379602c8",
   "metadata": {},
   "outputs": [
    {
     "name": "stdout",
     "output_type": "stream",
     "text": [
      "[1 2 3 4 5]\n"
     ]
    }
   ],
   "source": [
    "ar = np.array(lst)\n",
    "print(ar)"
   ]
  },
  {
   "cell_type": "code",
   "execution_count": 9,
   "id": "1f20a7c6-ee00-43cb-9baf-1b7e853d82e0",
   "metadata": {},
   "outputs": [
    {
     "data": {
      "text/plain": [
       "array([1, 2, 3, 4, 5])"
      ]
     },
     "execution_count": 9,
     "metadata": {},
     "output_type": "execute_result"
    }
   ],
   "source": [
    "ar"
   ]
  },
  {
   "cell_type": "markdown",
   "id": "c279e4ef-f84c-4f9a-8a5f-459fcafb921e",
   "metadata": {},
   "source": [
    "array の場合は　,(カンマ)が無くなる: 1次元配列"
   ]
  },
  {
   "cell_type": "markdown",
   "id": "e90115b1-672e-4252-a86c-1953ca54cca6",
   "metadata": {},
   "source": [
    "### 範囲を指定した数列"
   ]
  },
  {
   "cell_type": "code",
   "execution_count": 11,
   "id": "6c4e73b1-7bf9-43a6-8f25-7a529af2849b",
   "metadata": {},
   "outputs": [
    {
     "name": "stdout",
     "output_type": "stream",
     "text": [
      "[-2.0000000e+00 -1.8000000e+00 -1.6000000e+00 -1.4000000e+00\n",
      " -1.2000000e+00 -1.0000000e+00 -8.0000000e-01 -6.0000000e-01\n",
      " -4.0000000e-01 -2.0000000e-01 -4.4408921e-16  2.0000000e-01\n",
      "  4.0000000e-01  6.0000000e-01  8.0000000e-01  1.0000000e+00\n",
      "  1.2000000e+00  1.4000000e+00  1.6000000e+00  1.8000000e+00]\n"
     ]
    }
   ],
   "source": [
    "x = np.arange(-2, 2, 0.2)\n",
    "print(x)"
   ]
  },
  {
   "cell_type": "code",
   "execution_count": 12,
   "id": "e50ea5c4-8b45-43ff-88b6-af5455308a46",
   "metadata": {},
   "outputs": [
    {
     "data": {
      "text/plain": [
       "array([-2.0000000e+00, -1.8000000e+00, -1.6000000e+00, -1.4000000e+00,\n",
       "       -1.2000000e+00, -1.0000000e+00, -8.0000000e-01, -6.0000000e-01,\n",
       "       -4.0000000e-01, -2.0000000e-01, -4.4408921e-16,  2.0000000e-01,\n",
       "        4.0000000e-01,  6.0000000e-01,  8.0000000e-01,  1.0000000e+00,\n",
       "        1.2000000e+00,  1.4000000e+00,  1.6000000e+00,  1.8000000e+00])"
      ]
     },
     "execution_count": 12,
     "metadata": {},
     "output_type": "execute_result"
    }
   ],
   "source": [
    "x"
   ]
  },
  {
   "cell_type": "markdown",
   "id": "1bd5d277-c191-42ae-8b96-a364be068190",
   "metadata": {},
   "source": [
    "arange 関数は、最終の数値 2 は含まない(未満) : python の index と同じ　0 ~  から開始するので"
   ]
  },
  {
   "cell_type": "code",
   "execution_count": 13,
   "id": "9f0114d5-103f-42b8-bf49-190ead900d9a",
   "metadata": {},
   "outputs": [
    {
     "name": "stdout",
     "output_type": "stream",
     "text": [
      "[-2.         -1.78947368 -1.57894737 -1.36842105 -1.15789474 -0.94736842\n",
      " -0.73684211 -0.52631579 -0.31578947 -0.10526316  0.10526316  0.31578947\n",
      "  0.52631579  0.73684211  0.94736842  1.15789474  1.36842105  1.57894737\n",
      "  1.78947368  2.        ]\n"
     ]
    }
   ],
   "source": [
    "x = np.linspace(-2, 2, 20)\n",
    "print(x)"
   ]
  },
  {
   "cell_type": "code",
   "execution_count": 14,
   "id": "d5a55418-2e0e-4c00-988a-7d79b99ee36a",
   "metadata": {},
   "outputs": [
    {
     "data": {
      "text/plain": [
       "array([-2.        , -1.78947368, -1.57894737, -1.36842105, -1.15789474,\n",
       "       -0.94736842, -0.73684211, -0.52631579, -0.31578947, -0.10526316,\n",
       "        0.10526316,  0.31578947,  0.52631579,  0.73684211,  0.94736842,\n",
       "        1.15789474,  1.36842105,  1.57894737,  1.78947368,  2.        ])"
      ]
     },
     "execution_count": 14,
     "metadata": {},
     "output_type": "execute_result"
    }
   ],
   "source": [
    "x"
   ]
  },
  {
   "cell_type": "markdown",
   "id": "f7110978-255d-4d29-957c-8aa3c0e1666b",
   "metadata": {},
   "source": [
    "#### arange : <u>未満</u>で最後の数値を含まない\n",
    "- 始点・終点・間隔 : 終点　data を含まない\n",
    "\n",
    "#### linspac : <u>以内</u>なので最後の数値を含む\n",
    "- data個数 -1 で等分される\n",
    "- -2 ~ 2 までを 19 等分した事になり、等間隔に並んではいる。その場合は等分の数を増やす"
   ]
  },
  {
   "cell_type": "code",
   "execution_count": 18,
   "id": "ca55b603-1dfd-4971-834c-786bf9b8bfa8",
   "metadata": {},
   "outputs": [
    {
     "name": "stdout",
     "output_type": "stream",
     "text": [
      "[-2.  -1.8 -1.6 -1.4 -1.2 -1.  -0.8 -0.6 -0.4 -0.2  0.   0.2  0.4  0.6\n",
      "  0.8  1.   1.2  1.4  1.6  1.8  2. ]\n"
     ]
    }
   ],
   "source": [
    "x = np.linspace(-2, 2, 21)\n",
    "print(x)"
   ]
  },
  {
   "cell_type": "code",
   "execution_count": 19,
   "id": "88921791-e2f2-4803-9c5d-2c3ea514e00d",
   "metadata": {},
   "outputs": [
    {
     "data": {
      "text/plain": [
       "array([-2. , -1.8, -1.6, -1.4, -1.2, -1. , -0.8, -0.6, -0.4, -0.2,  0. ,\n",
       "        0.2,  0.4,  0.6,  0.8,  1. ,  1.2,  1.4,  1.6,  1.8,  2. ])"
      ]
     },
     "execution_count": 19,
     "metadata": {},
     "output_type": "execute_result"
    }
   ],
   "source": [
    "x"
   ]
  },
  {
   "cell_type": "code",
   "execution_count": 21,
   "id": "c71f6b28-8828-4440-a4e9-21ee2aa8800c",
   "metadata": {},
   "outputs": [],
   "source": [
    "import matplotlib.pyplot as plt"
   ]
  },
  {
   "cell_type": "code",
   "execution_count": 22,
   "id": "0bec173a-1c63-470d-9e9e-b9a9eb316e7d",
   "metadata": {},
   "outputs": [
    {
     "data": {
      "text/plain": [
       "[<matplotlib.lines.Line2D at 0x1233cbac0>]"
      ]
     },
     "execution_count": 22,
     "metadata": {},
     "output_type": "execute_result"
    },
    {
     "data": {
      "image/png": "[encoded data removed]",
      "text/plain": [
       "<Figure size 432x288 with 1 Axes>"
      ]
     },
     "metadata": {
      "needs_background": "light"
     },
     "output_type": "display_data"
    }
   ],
   "source": [
    "plt.plot(x)"
   ]
  },
  {
   "cell_type": "code",
   "execution_count": 23,
   "id": "a7757f12-be02-48e5-8eee-2fd3c731f4a5",
   "metadata": {},
   "outputs": [],
   "source": [
    "y = x ** 2"
   ]
  },
  {
   "cell_type": "code",
   "execution_count": 25,
   "id": "07f362e5-1d8a-4a3c-b883-1a2308922700",
   "metadata": {},
   "outputs": [
    {
     "data": {
      "text/plain": [
       "[<matplotlib.lines.Line2D at 0x1235575e0>]"
      ]
     },
     "execution_count": 25,
     "metadata": {},
     "output_type": "execute_result"
    },
    {
     "data": {
      "image/png": "[encoded data removed]",
      "text/plain": [
       "<Figure size 432x288 with 1 Axes>"
      ]
     },
     "metadata": {
      "needs_background": "light"
     },
     "output_type": "display_data"
    }
   ],
   "source": [
    "plt.plot(x, y)"
   ]
  }
 ],
 "metadata": {
  "kernelspec": {
   "display_name": "Python 3 (ipykernel)",
   "language": "python",
   "name": "python3"
  },
  "language_info": {
   "codemirror_mode": {
    "name": "ipython",
    "version": 3
   },
   "file_extension": ".py",
   "mimetype": "text/x-python",
   "name": "python",
   "nbconvert_exporter": "python",
   "pygments_lexer": "ipython3",
   "version": "3.9.6"
  }
 },
 "nbformat": 4,
 "nbformat_minor": 5
}
