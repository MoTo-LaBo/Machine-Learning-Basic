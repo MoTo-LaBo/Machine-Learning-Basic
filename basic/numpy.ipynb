{
 "cells": [
  {
   "cell_type": "markdown",
   "id": "0d0f92cd-6b73-45cc-bb11-5e2fe738f8ab",
   "metadata": {},
   "source": [
    "# NumPy"
   ]
  },
  {
   "cell_type": "markdown",
   "id": "b7f1faad-c667-48ec-aaa6-895eb881e0b4",
   "metadata": {},
   "source": [
    "## 配列処理の概要\n",
    "- 「NumPy」\n",
    "    - 大量の data を保持し、それらを高速に処理する為の機能を提供\n",
    "    - https://numpy.org/\n",
    "    - 独特の data 構造「ndarray」 で配列(多次元)を表現する\n",
    "        - python 元来の list とは異なる (取り扱いはかなり似ている)\n",
    "        - data の一括処理、高速処理を実現する\n",
    "    - data処理, 機械学習, AI系 programing の基盤となっている\n",
    "#### <u>NumPy data 処理の速度が桁違いに速い</u>\n",
    "\n",
    "- python 自体は速い言語ではない\n",
    "    - python 自体は遅い言語\n",
    "    - 高速な data 処理をする　library NumPy があるから使用される"
   ]
  },
  {
   "cell_type": "code",
   "execution_count": 12,
   "id": "66d48d98-6c70-4afd-9ac5-0e87e52a924c",
   "metadata": {},
   "outputs": [],
   "source": [
    "import numpy as np"
   ]
  },
  {
   "cell_type": "code",
   "execution_count": 13,
   "id": "7a9b0e2a-57c6-4e5a-981f-4e9b5a8b2a70",
   "metadata": {},
   "outputs": [],
   "source": [
    "# 1次元の配列: -2 ~ 2 まで　 0.2 刻みで出力\n",
    "x = np.arange(-2, 2, 0.2)"
   ]
  },
  {
   "cell_type": "code",
   "execution_count": 14,
   "id": "1c93067f-1c2e-4570-9896-35be1725f390",
   "metadata": {},
   "outputs": [
    {
     "data": {
      "text/plain": [
       "array([-2.0000000e+00, -1.8000000e+00, -1.6000000e+00, -1.4000000e+00,\n",
       "       -1.2000000e+00, -1.0000000e+00, -8.0000000e-01, -6.0000000e-01,\n",
       "       -4.0000000e-01, -2.0000000e-01, -4.4408921e-16,  2.0000000e-01,\n",
       "        4.0000000e-01,  6.0000000e-01,  8.0000000e-01,  1.0000000e+00,\n",
       "        1.2000000e+00,  1.4000000e+00,  1.6000000e+00,  1.8000000e+00])"
      ]
     },
     "execution_count": 14,
     "metadata": {},
     "output_type": "execute_result"
    }
   ],
   "source": [
    "x"
   ]
  },
  {
   "cell_type": "code",
   "execution_count": 15,
   "id": "bafc381f-dd4b-4927-8db3-e4fa17303108",
   "metadata": {},
   "outputs": [
    {
     "data": {
      "text/plain": [
       "-1.8"
      ]
     },
     "execution_count": 15,
     "metadata": {},
     "output_type": "execute_result"
    }
   ],
   "source": [
    "x[1]"
   ]
  },
  {
   "cell_type": "markdown",
   "id": "e6868b50-41b9-44a4-b6cc-d0ce73242109",
   "metadata": {},
   "source": [
    "### 数値の指数表現\n",
    "- 「0.0000000001」 -> 1/10000000000 100億分の１\n",
    "\n",
    "$$1.0*10^-10$$\n",
    "\n",
    "- 分母の0の個数を用いて 1.0e - 10 あるいは 1. e - 10 と記述する\n",
    "- data 処理や化学計算の場合は、指数表現で記述する事が多い"
   ]
  },
  {
   "cell_type": "code",
   "execution_count": 17,
   "id": "819c1f59-4445-4b5e-a593-bb2e7f6b39e4",
   "metadata": {},
   "outputs": [],
   "source": [
    "# 全ての数値に ２乗ができる\n",
    "y = x ** 2"
   ]
  },
  {
   "cell_type": "code",
   "execution_count": 18,
   "id": "f8410025-3814-4ace-8de7-7d89cbc62247",
   "metadata": {},
   "outputs": [
    {
     "data": {
      "text/plain": [
       "array([4.00000000e+00, 3.24000000e+00, 2.56000000e+00, 1.96000000e+00,\n",
       "       1.44000000e+00, 1.00000000e+00, 6.40000000e-01, 3.60000000e-01,\n",
       "       1.60000000e-01, 4.00000000e-02, 1.97215226e-31, 4.00000000e-02,\n",
       "       1.60000000e-01, 3.60000000e-01, 6.40000000e-01, 1.00000000e+00,\n",
       "       1.44000000e+00, 1.96000000e+00, 2.56000000e+00, 3.24000000e+00])"
      ]
     },
     "execution_count": 18,
     "metadata": {},
     "output_type": "execute_result"
    }
   ],
   "source": [
    "y"
   ]
  },
  {
   "cell_type": "code",
   "execution_count": 19,
   "id": "ec425974-ac11-41d1-9f3e-290b023c7cd2",
   "metadata": {},
   "outputs": [
    {
     "data": {
      "text/plain": [
       "numpy.ndarray"
      ]
     },
     "execution_count": 19,
     "metadata": {},
     "output_type": "execute_result"
    }
   ],
   "source": [
    "type(y)"
   ]
  },
  {
   "cell_type": "markdown",
   "id": "feb1cadd-5391-4959-981b-2e3185d2ce73",
   "metadata": {},
   "source": [
    "### library 読み込み\n",
    "#### <u>基本</u>\n",
    "- import library名\n",
    "    - 以後に　library名.API名 として function, method を呼び出す\n",
    "\n",
    "#### <u>別名を与える</u>\n",
    "- import library名 as 別名\n",
    "    - 以後に np.API名　として function, method　を呼び出すことができる"
   ]
  },
  {
   "cell_type": "code",
   "execution_count": null,
   "id": "6807f911-0f29-4270-bb2c-b5e9ac8be620",
   "metadata": {},
   "outputs": [],
   "source": []
  }
 ],
 "metadata": {
  "kernelspec": {
   "display_name": "Python 3 (ipykernel)",
   "language": "python",
   "name": "python3"
  },
  "language_info": {
   "codemirror_mode": {
    "name": "ipython",
    "version": 3
   },
   "file_extension": ".py",
   "mimetype": "text/x-python",
   "name": "python",
   "nbconvert_exporter": "python",
   "pygments_lexer": "ipython3",
   "version": "3.9.6"
  }
 },
 "nbformat": 4,
 "nbformat_minor": 5
}
