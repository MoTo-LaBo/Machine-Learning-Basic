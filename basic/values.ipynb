{
 "cells": [
  {
   "cell_type": "markdown",
   "id": "11a67cbd-1b76-4f0d-97a4-ec3ea2cd47d2",
   "metadata": {},
   "source": [
    "# NumPyで扱う特殊な値\n",
    "- 異常な値(特殊な値)について\n",
    "\n",
    "- コンピュータで数値計算を行う時に時々直面する問題がある"
   ]
  },
  {
   "cell_type": "code",
   "execution_count": 2,
   "id": "6484789c-c0ab-4897-a3fe-7661af6df2b1",
   "metadata": {},
   "outputs": [],
   "source": [
    "import numpy as np"
   ]
  },
  {
   "cell_type": "code",
   "execution_count": 3,
   "id": "f72922a5-e582-49b4-aa47-e0f00218cc7b",
   "metadata": {},
   "outputs": [
    {
     "name": "stdout",
     "output_type": "stream",
     "text": [
      "[-2. -1.  0.  1.  2.]\n"
     ]
    }
   ],
   "source": [
    "x = np.linspace(-2, 2, 5)\n",
    "print(x)"
   ]
  },
  {
   "cell_type": "code",
   "execution_count": 4,
   "id": "36a2f79a-3d62-414c-8698-74770c0c0f7c",
   "metadata": {},
   "outputs": [
    {
     "name": "stdout",
     "output_type": "stream",
     "text": [
      "[-0.5 -1.   inf  1.   0.5]\n"
     ]
    },
    {
     "name": "stderr",
     "output_type": "stream",
     "text": [
      "/var/folders/1h/wby94jmx3xg3zkmtc88fk5q80000gn/T/ipykernel_4478/2067506633.py:1: RuntimeWarning: divide by zero encountered in true_divide\n",
      "  y = 1/x\n"
     ]
    }
   ],
   "source": [
    "y = 1/x\n",
    "print(y)"
   ]
  },
  {
   "cell_type": "markdown",
   "id": "fedd145b-95f6-4500-af08-b29d02e3f19e",
   "metadata": {},
   "source": [
    "本来計算できないもの -> 今回であれば 1/0 -> なので警告メッセージが表示される\n",
    "\n",
    "### divide by zero encountered = 0で割っているよ！\n",
    "- 除算例外という error が発生する\n",
    "- 普通の program であればその時点で stop してしまう\n",
    "\n",
    "#### numpy は優秀で、 error　が出たら program を stop させるのではなく特殊な記号で教えてくれる\n",
    "- **inf**"
   ]
  },
  {
   "cell_type": "code",
   "execution_count": 6,
   "id": "15ecb775-ae5f-48b0-aa63-83563378dbf5",
   "metadata": {},
   "outputs": [
    {
     "data": {
      "text/plain": [
       "dtype('float64')"
      ]
     },
     "execution_count": 6,
     "metadata": {},
     "output_type": "execute_result"
    }
   ],
   "source": [
    "y[2].dtype"
   ]
  },
  {
   "cell_type": "markdown",
   "id": "34a33a81-b6f0-4b37-8678-d182ed1501ed",
   "metadata": {
    "tags": []
   },
   "source": [
    "#### 極限 : 限りなく分母の値を 0 に近づけるとどうなるのか？\n",
    "- 分母の値をどんどん限りなく小さく, 0 に近づけていくと計算結果が限りなく大きくなる\n",
    "\n",
    "#### <u>極限として無限大に発散する</u>　　->　　無限大$\\infty$に発散しているらしい　　->　　Numpy　:　inf　(と出力:浮動小数点数)\n",
    "- inf を計算に使用することはできない"
   ]
  },
  {
   "cell_type": "code",
   "execution_count": 7,
   "id": "eac41965-ee9e-4d5f-ba28-5ac0ca6c45b4",
   "metadata": {},
   "outputs": [
    {
     "data": {
      "text/plain": [
       "inf"
      ]
     },
     "execution_count": 7,
     "metadata": {},
     "output_type": "execute_result"
    }
   ],
   "source": [
    "y[2] + y[2]"
   ]
  },
  {
   "cell_type": "markdown",
   "id": "c7010129-6808-4317-9279-3c8942efebfa",
   "metadata": {},
   "source": [
    "#### infinite : 無限に大きいという意味"
   ]
  },
  {
   "cell_type": "code",
   "execution_count": 8,
   "id": "692e3942-6bd8-4930-8730-50b76bf1cbf3",
   "metadata": {},
   "outputs": [
    {
     "name": "stderr",
     "output_type": "stream",
     "text": [
      "/var/folders/1h/wby94jmx3xg3zkmtc88fk5q80000gn/T/ipykernel_4478/731027295.py:1: RuntimeWarning: invalid value encountered in double_scalars\n",
      "  y[2] - y[2]\n"
     ]
    },
    {
     "data": {
      "text/plain": [
       "nan"
      ]
     },
     "execution_count": 8,
     "metadata": {},
     "output_type": "execute_result"
    }
   ],
   "source": [
    "y[2] - y[2]"
   ]
  },
  {
   "cell_type": "markdown",
   "id": "f1201ade-5942-4900-962b-e47537faec27",
   "metadata": {},
   "source": [
    "#### invalid value encountered = 無効な値に遭遇した"
   ]
  },
  {
   "cell_type": "code",
   "execution_count": 13,
   "id": "2b02f821-923d-4991-8a4b-8d12506d1b37",
   "metadata": {},
   "outputs": [
    {
     "data": {
      "text/plain": [
       "inf"
      ]
     },
     "execution_count": 13,
     "metadata": {},
     "output_type": "execute_result"
    }
   ],
   "source": [
    "np.inf"
   ]
  },
  {
   "cell_type": "code",
   "execution_count": 14,
   "id": "a7214188-1611-4a61-b906-787f95ce7164",
   "metadata": {},
   "outputs": [
    {
     "data": {
      "text/plain": [
       "-inf"
      ]
     },
     "execution_count": 14,
     "metadata": {},
     "output_type": "execute_result"
    }
   ],
   "source": [
    "-np.inf"
   ]
  },
  {
   "cell_type": "markdown",
   "id": "4b33e49c-b341-498e-99f3-a77f9605636a",
   "metadata": {},
   "source": [
    "#### ー(マイナス)の方向に果てしなく発散する"
   ]
  },
  {
   "cell_type": "code",
   "execution_count": 17,
   "id": "443fdce6-3b08-4670-9ba1-6b1bbf7a0bd3",
   "metadata": {},
   "outputs": [
    {
     "data": {
      "text/plain": [
       "nan"
      ]
     },
     "execution_count": 17,
     "metadata": {},
     "output_type": "execute_result"
    }
   ],
   "source": [
    "np.nan"
   ]
  },
  {
   "cell_type": "markdown",
   "id": "baa4e625-d0cb-46da-b2c2-4e26c62adc2c",
   "metadata": {},
   "source": [
    "## まとめ\n",
    "\n",
    "- <u>特殊な値</u>\n",
    "    - np.inf　　　:　正の無限大　$\\infty$\n",
    "    - np.NINF　　:　負の無限大　$\\infty$　(-np.inf と同じ)\n",
    "    - np.nan　　　:　非数 (not a number)\n",
    "    \n",
    "- 上記は全て数値ではない\n",
    "\n",
    "#### 対処の例 :\n",
    "    -　配列内から除外する\n",
    "    - program 上で例外的な処理を施す\n",
    "    - etc..."
   ]
  },
  {
   "cell_type": "code",
   "execution_count": null,
   "id": "4f47e8af-bd6b-46c1-883e-03c4f7da620d",
   "metadata": {},
   "outputs": [],
   "source": []
  }
 ],
 "metadata": {
  "kernelspec": {
   "display_name": "Python 3 (ipykernel)",
   "language": "python",
   "name": "python3"
  },
  "language_info": {
   "codemirror_mode": {
    "name": "ipython",
    "version": 3
   },
   "file_extension": ".py",
   "mimetype": "text/x-python",
   "name": "python",
   "nbconvert_exporter": "python",
   "pygments_lexer": "ipython3",
   "version": "3.9.6"
  }
 },
 "nbformat": 4,
 "nbformat_minor": 5
}
