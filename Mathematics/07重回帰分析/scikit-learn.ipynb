{
 "cells": [
  {
   "cell_type": "markdown",
   "id": "fa5cfa84-9b28-4ecd-9b05-2ab6e28ef571",
   "metadata": {},
   "source": [
    "# Scikit-learn で実装"
   ]
  },
  {
   "cell_type": "markdown",
   "id": "9523bc71-7c20-49e7-8f00-2015449d5dd7",
   "metadata": {},
   "source": [
    "### 演習問題\n",
    "\n",
    "$$\n",
    "x　=　\n",
    "\\left(\n",
    "    \\begin{array}{c}\n",
    "    1 & 2 & 3 \\\\\n",
    "    1 & 2 & 5 \\\\\n",
    "    1 & 3 & 4 \\\\\n",
    "    1 & 3 & 9 \\\\\n",
    "    \\end{array}\n",
    "\\right)\n",
    ",　\n",
    "y　=　\n",
    "\\left(\n",
    "    \\begin{array}{c}\n",
    "    1 \\\\\n",
    "    5 \\\\\n",
    "    6 \\\\\n",
    "    8 \\\\\n",
    "    \\end{array}\n",
    "\\right)\n",
    "$$\n",
    "\n",
    "\n",
    "$$\n",
    "\\omega　=　(X^TX)^{-1}X^Ty\n",
    "$$\n",
    "\n",
    "\n",
    "1. $X^TX$ を計算\n",
    "1. $(X^TX)^{-1}$ を計算(逆行列)\n",
    "1. $X^Ty$　を計算\n",
    "1. $\\omega　=　(X^TX)^{-1}X^Ty$ に代入して計算していく"
   ]
  },
  {
   "cell_type": "code",
   "execution_count": 4,
   "id": "2edf49c3-c8ed-4426-a82c-706e690400fe",
   "metadata": {},
   "outputs": [],
   "source": [
    "import numpy as np"
   ]
  },
  {
   "cell_type": "code",
   "execution_count": 9,
   "id": "5652ab8e-7c4c-4e5f-a5d9-bf32f7c7dad4",
   "metadata": {},
   "outputs": [
    {
     "name": "stdout",
     "output_type": "stream",
     "text": [
      "X:\n",
      "[[1 2 3]\n",
      " [1 2 5]\n",
      " [1 3 4]\n",
      " [1 5 9]]\n",
      "\n",
      "y:\n",
      "[[1]\n",
      " [5]\n",
      " [6]\n",
      " [8]]\n",
      "\n",
      "XtX: 転置・行列積\n",
      "[[  4  12  21]\n",
      " [ 12  42  73]\n",
      " [ 21  73 131]]\n",
      "\n",
      "X_inv: 逆行列\n",
      "[[ 1.76530612 -0.39795918 -0.06122449]\n",
      " [-0.39795918  0.84693878 -0.40816327]\n",
      " [-0.06122449 -0.40816327  0.24489796]]\n",
      "\n",
      "Xty: 転置・行列積\n",
      "[[ 20]\n",
      " [ 70]\n",
      " [124]]\n",
      "\n",
      "w: \n",
      "[[-0.14285714]\n",
      " [ 0.71428571]\n",
      " [ 0.57142857]]\n"
     ]
    }
   ],
   "source": [
    "# X の定義\n",
    "X = np.array([\n",
    "    [1, 2, 3],\n",
    "    [1, 2, 5],\n",
    "    [1, 3, 4],\n",
    "    [1, 5, 9]\n",
    "])\n",
    "\n",
    "# y の定義\n",
    "y = np.array([\n",
    "    [1],\n",
    "    [5],\n",
    "    [6],\n",
    "    [8]\n",
    "])\n",
    "\n",
    "# 1. 転置・行列積の計算\n",
    "XtX =np.dot(X.T, X)\n",
    "\n",
    "# 2. 逆行列 : linear algebra(線形代数)\n",
    "X_inv = np.linalg.inv(XtX)\n",
    "\n",
    "# 3. 転置・行列積\n",
    "Xty = np.dot(X.T, y)\n",
    "\n",
    "print(f'X:\\n{X}\\n\\ny:\\n{y}\\n\\nXtX: 転置・行列積\\n{XtX}\\n\\nX_inv: 逆行列\\n{X_inv}\\n\\nXty: 転置・行列積\\n{Xty}')\n",
    "\n",
    "# 4. w を求める\n",
    "w = np.dot(X_inv, Xty)\n",
    "print(f'\\nw: \\n{w}')"
   ]
  },
  {
   "cell_type": "markdown",
   "id": "9ca6225d-70bd-4cdc-952d-17756ca420a1",
   "metadata": {},
   "source": [
    "## 上記を Sciki-learn で実装"
   ]
  },
  {
   "cell_type": "code",
   "execution_count": 13,
   "id": "d9ab8530-e53e-4353-81fb-999d618a2450",
   "metadata": {},
   "outputs": [
    {
     "data": {
      "text/plain": [
       "LinearRegression(fit_intercept=False)"
      ]
     },
     "execution_count": 13,
     "metadata": {},
     "output_type": "execute_result"
    }
   ],
   "source": [
    "# 重回帰分析のみ読み込み\n",
    "from sklearn.linear_model import LinearRegression\n",
    "\n",
    "# model の宣言 : class　でいう instance化\n",
    "# model = LinearRegression()\n",
    "# 行列の先頭(index:0)1をれた場合は\n",
    "model = LinearRegression(fit_intercept= False)\n",
    "\n",
    "# model の学習 : dataに基づいて paramertorの調整\n",
    "model.fit(X, y)"
   ]
  },
  {
   "cell_type": "code",
   "execution_count": 14,
   "id": "427de50b-cbce-4c2a-bfe0-10ce342536be",
   "metadata": {},
   "outputs": [
    {
     "data": {
      "text/plain": [
       "array([[-0.14285714,  0.71428571,  0.57142857]])"
      ]
     },
     "execution_count": 14,
     "metadata": {},
     "output_type": "execute_result"
    }
   ],
   "source": [
    "# 調整後の paramertor \n",
    "model.coef_"
   ]
  },
  {
   "cell_type": "code",
   "execution_count": 15,
   "id": "16a15907-c874-4044-ba27-ff82661eec0c",
   "metadata": {},
   "outputs": [
    {
     "data": {
      "text/plain": [
       "0.0"
      ]
     },
     "execution_count": 15,
     "metadata": {},
     "output_type": "execute_result"
    }
   ],
   "source": [
    "model.intercept_"
   ]
  },
  {
   "cell_type": "markdown",
   "id": "1414dc95-2e48-4234-ac24-7b8d4f7f67fd",
   "metadata": {
    "tags": []
   },
   "source": [
    "### model を予想して終わりではない\n",
    "- <u>機械学習はそれを使用して実績を得てなんぼの世界</u>\n",
    "    \n",
    "\n",
    "- **そもそもどのくらいの精度なか？**\n",
    "    - *本当に使用できるくらいの精度が出ているのか?*"
   ]
  },
  {
   "cell_type": "code",
   "execution_count": 16,
   "id": "f737dc3e-7b10-4893-acb1-5fe2e9f6c6c9",
   "metadata": {},
   "outputs": [
    {
     "data": {
      "text/plain": [
       "0.6923076923076923"
      ]
     },
     "execution_count": 16,
     "metadata": {},
     "output_type": "execute_result"
    }
   ],
   "source": [
    "# 予測精度 : 決定係数 / 0:論外 1:凄く良い\n",
    "model.score(X, y)"
   ]
  },
  {
   "cell_type": "markdown",
   "id": "9037e02b-ef47-4e47-af57-61e05625ec22",
   "metadata": {},
   "source": [
    "- 上手くいっているかどうかも直ぐに確認ができる"
   ]
  },
  {
   "cell_type": "code",
   "execution_count": 18,
   "id": "d9974e7a-fff3-4fa6-8352-796a6ce71f5a",
   "metadata": {},
   "outputs": [
    {
     "data": {
      "text/plain": [
       "array([[3.]])"
      ]
     },
     "execution_count": 18,
     "metadata": {},
     "output_type": "execute_result"
    }
   ],
   "source": [
    "# 予測値の計算\n",
    "x = np.array([[1, 2, 3]])\n",
    "\n",
    "y_pred = model.predict(x)\n",
    "y_pred"
   ]
  },
  {
   "cell_type": "code",
   "execution_count": null,
   "id": "773de762-adb4-44aa-a6e3-dab7d9a68e49",
   "metadata": {},
   "outputs": [],
   "source": []
  }
 ],
 "metadata": {
  "kernelspec": {
   "display_name": "Python 3",
   "language": "python",
   "name": "python3"
  },
  "language_info": {
   "codemirror_mode": {
    "name": "ipython",
    "version": 3
   },
   "file_extension": ".py",
   "mimetype": "text/x-python",
   "name": "python",
   "nbconvert_exporter": "python",
   "pygments_lexer": "ipython3",
   "version": "3.8.8"
  }
 },
 "nbformat": 4,
 "nbformat_minor": 5
}
