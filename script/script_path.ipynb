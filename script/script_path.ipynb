{
 "cells": [
  {
   "cell_type": "markdown",
   "id": "3c0c8245-5417-42a6-a516-e1ed2fcf9088",
   "metadata": {},
   "source": [
    "# script path 設定"
   ]
  },
  {
   "cell_type": "markdown",
   "id": "b1f5837f-64e5-4859-b1de-a7c84a0b3acc",
   "metadata": {},
   "source": [
    "- 全ての　dir　配下で　`aivis.py`　script を使用できるように設定\n",
    "\n",
    "    - *これで カレント directory にわざわざ script.py file を置かなくても使用できる*\n",
    "    \n",
    "    - **下記を先頭行で import**"
   ]
  },
  {
   "cell_type": "markdown",
   "id": "48c53473-19cc-40d9-b088-078ee87c226d",
   "metadata": {},
   "source": [
    "```py script file path {.light .line-number .copy}\n",
    "import sys\n",
    "sys.path.append('/work/script')\n",
    "import aivis\n",
    "```"
   ]
  },
  {
   "cell_type": "markdown",
   "id": "444beba2-8dde-4e9f-aba7-575f0793fedd",
   "metadata": {},
   "source": [
    "- **参考サイト**\n",
    "\n",
    "> https://ymgsapo.com/2018/11/03/import-module-jupyter/"
   ]
  },
  {
   "cell_type": "code",
   "execution_count": 3,
   "id": "d0a9328f-281d-4848-88c0-b68a4c6d5809",
   "metadata": {},
   "outputs": [],
   "source": [
    "import os\n",
    "import sys\n",
    "import pprint"
   ]
  },
  {
   "cell_type": "code",
   "execution_count": 4,
   "id": "7a267fdd-305e-4627-8a12-47d653d23c0d",
   "metadata": {},
   "outputs": [
    {
     "name": "stdout",
     "output_type": "stream",
     "text": [
      "['/work/script',\n",
      " '/opt/anaconda3/lib/python38.zip',\n",
      " '/opt/anaconda3/lib/python3.8',\n",
      " '/opt/anaconda3/lib/python3.8/lib-dynload',\n",
      " '',\n",
      " '/opt/anaconda3/lib/python3.8/site-packages',\n",
      " '/opt/anaconda3/lib/python3.8/site-packages/locket-0.2.1-py3.8.egg',\n",
      " '/opt/anaconda3/lib/python3.8/site-packages/IPython/extensions',\n",
      " '/root/.ipython']\n"
     ]
    }
   ],
   "source": [
    "pprint.pprint(sys.path)"
   ]
  },
  {
   "cell_type": "code",
   "execution_count": null,
   "id": "5c5c20a3-796a-4814-858d-a809e7a0e415",
   "metadata": {},
   "outputs": [],
   "source": []
  }
 ],
 "metadata": {
  "kernelspec": {
   "display_name": "Python 3",
   "language": "python",
   "name": "python3"
  },
  "language_info": {
   "codemirror_mode": {
    "name": "ipython",
    "version": 3
   },
   "file_extension": ".py",
   "mimetype": "text/x-python",
   "name": "python",
   "nbconvert_exporter": "python",
   "pygments_lexer": "ipython3",
   "version": "3.8.8"
  }
 },
 "nbformat": 4,
 "nbformat_minor": 5
}
