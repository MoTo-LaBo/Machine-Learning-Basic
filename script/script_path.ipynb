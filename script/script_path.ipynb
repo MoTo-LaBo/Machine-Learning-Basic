{
 "cells": [
  {
   "cell_type": "markdown",
   "id": "a785cd60",
   "metadata": {},
   "source": [
    "# script path 設定"
   ]
  },
  {
   "cell_type": "markdown",
   "id": "34b4e935",
   "metadata": {},
   "source": [
    "- 全ての　dir　配下で　`aivis.py`　script を使用できるように設定\n",
    "\n",
    "    - *これで カレント directory にわざわざ script.py file を置かなくても使用できる*\n",
    "    \n",
    "    - **下記を先頭行で import**"
   ]
  },
  {
   "cell_type": "markdown",
   "id": "be14b077",
   "metadata": {},
   "source": [
    "\n",
    "    import sys\n",
    "    sys.path.append('/work/script')\n",
    "    import aivis\n"
   ]
  },
  {
   "cell_type": "markdown",
   "id": "57f24682",
   "metadata": {},
   "source": [
    "- **参考サイト**\n",
    "\n",
    "> https://ymgsapo.com/2018/11/03/import-module-jupyter/"
   ]
  },
  {
   "cell_type": "code",
   "execution_count": 3,
   "id": "93a4c47b",
   "metadata": {},
   "outputs": [],
   "source": [
    "import os\n",
    "import sys\n",
    "import pprint"
   ]
  },
  {
   "cell_type": "code",
   "execution_count": 4,
   "id": "a44be4c9",
   "metadata": {},
   "outputs": [
    {
     "name": "stdout",
     "output_type": "stream",
     "text": [
      "['/work/script',\n",
      " '/opt/anaconda3/lib/python38.zip',\n",
      " '/opt/anaconda3/lib/python3.8',\n",
      " '/opt/anaconda3/lib/python3.8/lib-dynload',\n",
      " '',\n",
      " '/opt/anaconda3/lib/python3.8/site-packages',\n",
      " '/opt/anaconda3/lib/python3.8/site-packages/locket-0.2.1-py3.8.egg',\n",
      " '/opt/anaconda3/lib/python3.8/site-packages/IPython/extensions',\n",
      " '/root/.ipython']\n"
     ]
    }
   ],
   "source": [
    "pprint.pprint(sys.path)"
   ]
  },
  {
   "cell_type": "code",
   "execution_count": null,
   "id": "ae940d1d",
   "metadata": {},
   "outputs": [],
   "source": []
  }
 ],
 "metadata": {
  "kernelspec": {
   "display_name": "Python 3",
   "language": "python",
   "name": "python3"
  },
  "language_info": {
   "codemirror_mode": {
    "name": "ipython",
    "version": 3
   },
   "file_extension": ".py",
   "mimetype": "text/x-python",
   "name": "python",
   "nbconvert_exporter": "python",
   "pygments_lexer": "ipython3",
   "version": "3.8.8"
  }
 },
 "nbformat": 4,
 "nbformat_minor": 5
}
