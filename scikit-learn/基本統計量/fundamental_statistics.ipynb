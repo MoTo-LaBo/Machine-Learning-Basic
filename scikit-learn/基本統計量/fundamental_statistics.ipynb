{
 "cells": [
  {
   "cell_type": "markdown",
   "id": "373bafae-d1bd-45ff-85ce-61b441c3f870",
   "metadata": {},
   "source": [
    "# 基本統計量の概念"
   ]
  },
  {
   "cell_type": "markdown",
   "id": "a02ef063-fc4a-453d-81a0-952326d2cdb4",
   "metadata": {
    "tags": []
   },
   "source": [
    "## 基本統計量概念\n",
    "- **標本数**\n",
    "    - data の個数\n",
    "\n",
    "\n",
    "- **合計**\n",
    "    - data の値の合計値\n",
    "\n",
    "\n",
    "- **平均**\n",
    "    - 算術平均や相加平均とも呼ばれる\n",
    "    - data の合計を data の数で割ったもの\n",
    "\n",
    "\n",
    "- **最小値**\n",
    "    - data の中の最小値\n",
    "\n",
    "\n",
    "- **中央値**\n",
    "    - data の個数を最大値から数えて丁度半分のところの値\n",
    "    - data の個数が奇数個ならば丁度半分のところの値\n",
    "        - 偶数個ならば前後に数を足して丁度２で割った値\n",
    "            - <u>外れ値の影響を受けにくい</u>\n",
    "            - `中央値 : 4`\n",
    "        $$1, 3, 3, 4, 5, 6, 7　->　4$$\n",
    "            - `中央値 : 4.5`\n",
    "        $$1, 2, 3, 4, 5, 7, 8, 9　->　(4+5)/2=4.5$$\n",
    "\n",
    "\n",
    "- **分散**\n",
    "    - data のばらつき度合いを表す\n",
    "    - 平均の近くにバラついている時はバラつきが少ない\n",
    "    - 平均から遠くに離れ他ところまでバラついている時はバラつきが大きい\n",
    "    - 値が大きほどバラつきは大きい\n",
    "        - ($\\sigma^2$　:　分散,　$n$　:　data総数,　$x_i$　:　個々の数値$(x_i　->　x_n)$　$\\bar{x}$　xの平均値)\n",
    "\n",
    "\n",
    "$$\\sigma^2　=　\\frac{1}{n}\\sum_{i=1}^{n}(x_i-\\bar{x})^2$$\n",
    "\n",
    "\n",
    "- **標準偏差**\n",
    "    - 分散の平方根を取ったもの\n",
    "    - 分散同様に data のバラつきを表す\n",
    "    - 分散よりも data の**実態に忠実**\n",
    "        - ($\\sigma$　:　標準偏差,　$n$　:　data総数,　$x_i$　:　個々の数値$(x_i　->　x_n)$　$\\bar{x}$　xの平均値)\n",
    "        - 中身は　**分散**\n",
    "        - <u>標準偏差を見た方が実態のバラつき具合がわかる</u>\n",
    "        \n",
    "\n",
    "$$\\sigma　=　\\sqrt{\\frac{1}{n}\\sum_{i=1}^{n}(x_i-\\bar{x})^2}$$\n",
    "\n",
    "\n",
    "- **四分位数(しぶんいすう)**\n",
    "    - data の相対的位置を見る場合に用いる\n",
    "        - data を小さい順に左から並べる\n",
    "        \n",
    "        \n",
    "        - 最小値\n",
    "            - 第一四分位   （25%）\n",
    "            - 第二四分位   (50%) = 中央値\n",
    "            - 第三四分位点 (75%)\n",
    "            \n",
    "            \n",
    "        - data が偶数の場合\n",
    "            - data を前半・後半に分ける\n",
    "            \n",
    "            \n",
    "        - data が奇数の場合\n",
    "            - 中央値をはさんで、前半・後半に分ける\n",
    "            \n",
    "            \n",
    "    - 第一四分位点　:　前半の data の中央値\n",
    "    - 第三四分位点　:　後半の data の中央値\n",
    "    - 四分位範囲　:　第三四分位数 - 第一四分位数\n",
    "        - <u>役割は標準偏差と同じ</u>\n",
    "            - *data量が少ない時に使用する*\n",
    "            - **機械学習をする場合にはあまり四分位数は出てこない**"
   ]
  },
  {
   "cell_type": "markdown",
   "id": "bb8cb55a-0884-40db-8030-78c08a8972ce",
   "metadata": {},
   "source": [
    "## numpy　による基本統計処理"
   ]
  },
  {
   "cell_type": "code",
   "execution_count": 1,
   "id": "4b6d58fe-b0b6-4c2d-9484-1ae0e5092e77",
   "metadata": {},
   "outputs": [],
   "source": [
    "import numpy as np\n",
    "import pandas as pd\n",
    "import matplotlib.pyplot as plt\n",
    "%matplotlib inline"
   ]
  },
  {
   "cell_type": "code",
   "execution_count": 16,
   "id": "b1b2de5d-3cb6-4548-9dac-cd654ccbc1ea",
   "metadata": {},
   "outputs": [
    {
     "data": {
      "text/html": [
       "<div>\n",
       "<style scoped>\n",
       "    .dataframe tbody tr th:only-of-type {\n",
       "        vertical-align: middle;\n",
       "    }\n",
       "\n",
       "    .dataframe tbody tr th {\n",
       "        vertical-align: top;\n",
       "    }\n",
       "\n",
       "    .dataframe thead th {\n",
       "        text-align: right;\n",
       "    }\n",
       "</style>\n",
       "<table border=\"1\" class=\"dataframe\">\n",
       "  <thead>\n",
       "    <tr style=\"text-align: right;\">\n",
       "      <th></th>\n",
       "      <th>名前</th>\n",
       "      <th>得点</th>\n",
       "    </tr>\n",
       "  </thead>\n",
       "  <tbody>\n",
       "    <tr>\n",
       "      <th>0</th>\n",
       "      <td>Aさん</td>\n",
       "      <td>80</td>\n",
       "    </tr>\n",
       "    <tr>\n",
       "      <th>1</th>\n",
       "      <td>Bさん</td>\n",
       "      <td>90</td>\n",
       "    </tr>\n",
       "    <tr>\n",
       "      <th>2</th>\n",
       "      <td>Cさん</td>\n",
       "      <td>50</td>\n",
       "    </tr>\n",
       "    <tr>\n",
       "      <th>3</th>\n",
       "      <td>Dさん</td>\n",
       "      <td>70</td>\n",
       "    </tr>\n",
       "    <tr>\n",
       "      <th>4</th>\n",
       "      <td>Eさん</td>\n",
       "      <td>90</td>\n",
       "    </tr>\n",
       "  </tbody>\n",
       "</table>\n",
       "</div>"
      ],
      "text/plain": [
       "    名前  得点\n",
       "0  Aさん  80\n",
       "1  Bさん  90\n",
       "2  Cさん  50\n",
       "3  Dさん  70\n",
       "4  Eさん  90"
      ]
     },
     "execution_count": 16,
     "metadata": {},
     "output_type": "execute_result"
    }
   ],
   "source": [
    "df = pd.DataFrame({\n",
    "    '名前': ['Aさん', 'Bさん', 'Cさん', 'Dさん', 'Eさん'],\n",
    "    '得点': [80, 90, 50, 70, 90]\n",
    "})\n",
    "df"
   ]
  },
  {
   "cell_type": "code",
   "execution_count": 5,
   "id": "da0cf56d-efe4-492a-b780-faa33f40252f",
   "metadata": {},
   "outputs": [
    {
     "data": {
      "text/plain": [
       "array([80, 90, 50, 70, 90])"
      ]
     },
     "execution_count": 5,
     "metadata": {},
     "output_type": "execute_result"
    }
   ],
   "source": [
    "# numpy と基本統計量\n",
    "# sample data を配列として設定\n",
    "array = np.array([80, 90, 50, 70, 90])\n",
    "array"
   ]
  },
  {
   "cell_type": "code",
   "execution_count": 7,
   "id": "c84af6b2-cb5e-47a1-98c3-32248d94d0be",
   "metadata": {},
   "outputs": [
    {
     "data": {
      "text/plain": [
       "array([50, 70, 80, 90, 90])"
      ]
     },
     "execution_count": 7,
     "metadata": {},
     "output_type": "execute_result"
    }
   ],
   "source": [
    "# 照準に並べ替える\n",
    "array = np.sort(array)\n",
    "array"
   ]
  },
  {
   "cell_type": "markdown",
   "id": "07239bf4-2fc2-445e-81c9-373a07f491b4",
   "metadata": {},
   "source": [
    "### 票本数を求める\n",
    "- 配列の長さを求める len( )関数で得られる"
   ]
  },
  {
   "cell_type": "code",
   "execution_count": 8,
   "id": "7c1a5e3c-fe83-46b2-b63c-63c7b6b09e9a",
   "metadata": {},
   "outputs": [
    {
     "data": {
      "text/plain": [
       "5"
      ]
     },
     "execution_count": 8,
     "metadata": {},
     "output_type": "execute_result"
    }
   ],
   "source": [
    "len(array)"
   ]
  },
  {
   "cell_type": "markdown",
   "id": "1d55eb53-36f2-46fb-9f34-6ddb3bcf2c4e",
   "metadata": {},
   "source": [
    "### 合計\n",
    "- sum( )　合計を得る関数\n",
    "$$sum　=　50 + 70 + 80 + 90 + 90　=　380$$"
   ]
  },
  {
   "cell_type": "code",
   "execution_count": 11,
   "id": "ac4f9268-4161-4c30-a0ef-2173a2558e27",
   "metadata": {},
   "outputs": [
    {
     "data": {
      "text/plain": [
       "380"
      ]
     },
     "execution_count": 11,
     "metadata": {},
     "output_type": "execute_result"
    }
   ],
   "source": [
    "np.sum(array)"
   ]
  },
  {
   "cell_type": "markdown",
   "id": "6eb74596-23a1-4ec2-9379-2d4091081efc",
   "metadata": {},
   "source": [
    "### 平均値\n",
    "- mean( )　平均値を得る関数\n",
    "$$mean　=　\\frac{50 + 70 + 80 + 90 + 90}{5.0}　=　76.0$$\n",
    "\n",
    "\n",
    "$$mean　=　\\frac{sum}{len(data)}$$"
   ]
  },
  {
   "cell_type": "code",
   "execution_count": 13,
   "id": "c86a5db1-75ee-42b0-ac65-d08bac65a83f",
   "metadata": {},
   "outputs": [
    {
     "data": {
      "text/plain": [
       "76.0"
      ]
     },
     "execution_count": 13,
     "metadata": {},
     "output_type": "execute_result"
    }
   ],
   "source": [
    "np.mean(array)"
   ]
  },
  {
   "cell_type": "markdown",
   "id": "301da603-cda5-4866-8246-2edd9e0bc9fe",
   "metadata": {
    "tags": []
   },
   "source": [
    "### 中央値\n",
    "- median( )　中央値\n",
    "\n",
    "$$[50, 70, ( 80 ), 90, 90]$$"
   ]
  },
  {
   "cell_type": "code",
   "execution_count": 55,
   "id": "098c898b-6afb-4f2b-b004-b4bd79425978",
   "metadata": {
    "tags": []
   },
   "outputs": [
    {
     "data": {
      "text/plain": [
       "80.0"
      ]
     },
     "execution_count": 55,
     "metadata": {},
     "output_type": "execute_result"
    }
   ],
   "source": [
    "np.median(array)"
   ]
  },
  {
   "cell_type": "markdown",
   "id": "15cd8e8a-ffee-4dae-adcf-35769e860326",
   "metadata": {},
   "source": [
    "### 最大値\n",
    "- max( )　配列の最大値を得る関数\n",
    "\n",
    "$$[50, 70, 80, 90, (90)]$$"
   ]
  },
  {
   "cell_type": "code",
   "execution_count": 56,
   "id": "40fd74b7-6b76-4e4b-8faa-9151ae721150",
   "metadata": {},
   "outputs": [
    {
     "data": {
      "text/plain": [
       "90"
      ]
     },
     "execution_count": 56,
     "metadata": {},
     "output_type": "execute_result"
    }
   ],
   "source": [
    "np.max(array)"
   ]
  },
  {
   "cell_type": "markdown",
   "id": "79f52060-24b6-4243-81e2-123b7383b58c",
   "metadata": {},
   "source": [
    "### 最小値\n",
    "- min( )　配列の最小値を得る関数\n",
    "\n",
    "$$[(50), 70, 80, 90, 90]$$"
   ]
  },
  {
   "cell_type": "code",
   "execution_count": 57,
   "id": "1c686485-4015-463e-b96d-b38a8451263f",
   "metadata": {},
   "outputs": [
    {
     "data": {
      "text/plain": [
       "50"
      ]
     },
     "execution_count": 57,
     "metadata": {},
     "output_type": "execute_result"
    }
   ],
   "source": [
    "np.min(array)"
   ]
  },
  {
   "cell_type": "markdown",
   "id": "d227f3a4-7893-4d45-b6c9-2eb9da39a875",
   "metadata": {},
   "source": [
    "### 分散\n",
    "- var( )　配列の分散を得る関数\n",
    "\n",
    "\n",
    "$$\\sigma^2　=　\\frac{(50-76.0)^2+(70-76.0)^2+(80-76.0)^2+(90-76.0)^2+(90-76.0)^2+}{5.0}　=　224$$"
   ]
  },
  {
   "cell_type": "code",
   "execution_count": 58,
   "id": "f0e2d89f-c5da-4980-8d74-d060ea5cf1ea",
   "metadata": {},
   "outputs": [
    {
     "data": {
      "text/plain": [
       "224.0"
      ]
     },
     "execution_count": 58,
     "metadata": {},
     "output_type": "execute_result"
    }
   ],
   "source": [
    "np.var(array)"
   ]
  },
  {
   "cell_type": "markdown",
   "id": "03ad8d59-4ba9-4029-a599-2f9802a5d069",
   "metadata": {},
   "source": [
    "### 標準偏差\n",
    "- std( )　配列の標準偏差を得る関数\n",
    "- 平均点 ( 76.0点 ) ± 14.97点の中に約 68.3% の値が存在\n",
    "\n",
    "\n",
    "$$\\sigma=　\\sqrt{\\frac{(50-76.0)^2+(70-76.0)^2+(80-76.0)^2+(90-76.0)^2+(90-76.0)^2+}{5.0}}　\\fallingdotseq　14.97$$"
   ]
  },
  {
   "cell_type": "code",
   "execution_count": 59,
   "id": "e0cee41d-770e-4808-9ccf-f26ef195b70a",
   "metadata": {},
   "outputs": [
    {
     "data": {
      "text/plain": [
       "14.966629547095765"
      ]
     },
     "execution_count": 59,
     "metadata": {},
     "output_type": "execute_result"
    }
   ],
   "source": [
    "np.std(array)"
   ]
  },
  {
   "cell_type": "markdown",
   "id": "7720c891-831f-4f09-9089-95f7a74ef3f4",
   "metadata": {},
   "source": [
    "## pandas による処理"
   ]
  },
  {
   "cell_type": "code",
   "execution_count": 60,
   "id": "c7c94a59-924d-4732-b1da-c0d890b904e4",
   "metadata": {},
   "outputs": [
    {
     "data": {
      "text/html": [
       "<div>\n",
       "<style scoped>\n",
       "    .dataframe tbody tr th:only-of-type {\n",
       "        vertical-align: middle;\n",
       "    }\n",
       "\n",
       "    .dataframe tbody tr th {\n",
       "        vertical-align: top;\n",
       "    }\n",
       "\n",
       "    .dataframe thead th {\n",
       "        text-align: right;\n",
       "    }\n",
       "</style>\n",
       "<table border=\"1\" class=\"dataframe\">\n",
       "  <thead>\n",
       "    <tr style=\"text-align: right;\">\n",
       "      <th></th>\n",
       "      <th>年度</th>\n",
       "      <th>都道府県</th>\n",
       "      <th>総人口</th>\n",
       "      <th>男性総人口</th>\n",
       "      <th>女性総人口</th>\n",
       "      <th>日本人人口</th>\n",
       "      <th>日本人男性人口</th>\n",
       "      <th>日本人女性人口</th>\n",
       "    </tr>\n",
       "  </thead>\n",
       "  <tbody>\n",
       "    <tr>\n",
       "      <th>0</th>\n",
       "      <td>2017</td>\n",
       "      <td>北海道</td>\n",
       "      <td>5320000</td>\n",
       "      <td>2506000</td>\n",
       "      <td>2814000</td>\n",
       "      <td>5292000</td>\n",
       "      <td>2494000</td>\n",
       "      <td>2797000</td>\n",
       "    </tr>\n",
       "    <tr>\n",
       "      <th>1</th>\n",
       "      <td>2016</td>\n",
       "      <td>北海道</td>\n",
       "      <td>5352000</td>\n",
       "      <td>2521000</td>\n",
       "      <td>2830000</td>\n",
       "      <td>5327000</td>\n",
       "      <td>2511000</td>\n",
       "      <td>2816000</td>\n",
       "    </tr>\n",
       "    <tr>\n",
       "      <th>2</th>\n",
       "      <td>2015</td>\n",
       "      <td>北海道</td>\n",
       "      <td>5381733</td>\n",
       "      <td>2537089</td>\n",
       "      <td>2844644</td>\n",
       "      <td>5348768</td>\n",
       "      <td>2522980</td>\n",
       "      <td>2825788</td>\n",
       "    </tr>\n",
       "  </tbody>\n",
       "</table>\n",
       "</div>"
      ],
      "text/plain": [
       "     年度 都道府県      総人口    男性総人口    女性総人口    日本人人口  日本人男性人口  日本人女性人口\n",
       "0  2017  北海道  5320000  2506000  2814000  5292000  2494000  2797000\n",
       "1  2016  北海道  5352000  2521000  2830000  5327000  2511000  2816000\n",
       "2  2015  北海道  5381733  2537089  2844644  5348768  2522980  2825788"
      ]
     },
     "execution_count": 60,
     "metadata": {},
     "output_type": "execute_result"
    }
   ],
   "source": [
    "df = pd.read_csv('../Resources/data.csv', encoding='utf-8')\n",
    "df.head(3)"
   ]
  },
  {
   "cell_type": "code",
   "execution_count": 61,
   "id": "c52c6e5b-f353-4e41-92d8-8cd63297d61b",
   "metadata": {},
   "outputs": [
    {
     "data": {
      "text/html": [
       "<div>\n",
       "<style scoped>\n",
       "    .dataframe tbody tr th:only-of-type {\n",
       "        vertical-align: middle;\n",
       "    }\n",
       "\n",
       "    .dataframe tbody tr th {\n",
       "        vertical-align: top;\n",
       "    }\n",
       "\n",
       "    .dataframe thead th {\n",
       "        text-align: right;\n",
       "    }\n",
       "</style>\n",
       "<table border=\"1\" class=\"dataframe\">\n",
       "  <thead>\n",
       "    <tr style=\"text-align: right;\">\n",
       "      <th></th>\n",
       "      <th>都道府県</th>\n",
       "      <th>総人口</th>\n",
       "      <th>男性総人口</th>\n",
       "      <th>女性総人口</th>\n",
       "      <th>日本人人口</th>\n",
       "      <th>日本人男性人口</th>\n",
       "      <th>日本人女性人口</th>\n",
       "    </tr>\n",
       "  </thead>\n",
       "  <tbody>\n",
       "    <tr>\n",
       "      <th>144</th>\n",
       "      <td>東京都</td>\n",
       "      <td>13724000</td>\n",
       "      <td>6760000</td>\n",
       "      <td>6964000</td>\n",
       "      <td>13273000</td>\n",
       "      <td>6538000</td>\n",
       "      <td>6735000</td>\n",
       "    </tr>\n",
       "    <tr>\n",
       "      <th>156</th>\n",
       "      <td>神奈川県</td>\n",
       "      <td>9159000</td>\n",
       "      <td>4569000</td>\n",
       "      <td>4590000</td>\n",
       "      <td>8989000</td>\n",
       "      <td>4486000</td>\n",
       "      <td>4502000</td>\n",
       "    </tr>\n",
       "    <tr>\n",
       "      <th>312</th>\n",
       "      <td>大阪府</td>\n",
       "      <td>8823000</td>\n",
       "      <td>4241000</td>\n",
       "      <td>4583000</td>\n",
       "      <td>8657000</td>\n",
       "      <td>4162000</td>\n",
       "      <td>4495000</td>\n",
       "    </tr>\n",
       "    <tr>\n",
       "      <th>264</th>\n",
       "      <td>愛知県</td>\n",
       "      <td>7525000</td>\n",
       "      <td>3764000</td>\n",
       "      <td>3761000</td>\n",
       "      <td>7328000</td>\n",
       "      <td>3668000</td>\n",
       "      <td>3659000</td>\n",
       "    </tr>\n",
       "    <tr>\n",
       "      <th>120</th>\n",
       "      <td>埼玉県</td>\n",
       "      <td>7310000</td>\n",
       "      <td>3648000</td>\n",
       "      <td>3662000</td>\n",
       "      <td>7174000</td>\n",
       "      <td>3582000</td>\n",
       "      <td>3592000</td>\n",
       "    </tr>\n",
       "  </tbody>\n",
       "</table>\n",
       "</div>"
      ],
      "text/plain": [
       "     都道府県       総人口    男性総人口    女性総人口     日本人人口  日本人男性人口  日本人女性人口\n",
       "144   東京都  13724000  6760000  6964000  13273000  6538000  6735000\n",
       "156  神奈川県   9159000  4569000  4590000   8989000  4486000  4502000\n",
       "312   大阪府   8823000  4241000  4583000   8657000  4162000  4495000\n",
       "264   愛知県   7525000  3764000  3761000   7328000  3668000  3659000\n",
       "120   埼玉県   7310000  3648000  3662000   7174000  3582000  3592000"
      ]
     },
     "execution_count": 61,
     "metadata": {},
     "output_type": "execute_result"
    }
   ],
   "source": [
    "df2 = df[df['年度'] == 2017]\n",
    "df2 = df2.sort_values(by='総人口', ascending=False)\n",
    "df2 = df2.drop('年度', axis=1)\n",
    "df2.head()"
   ]
  },
  {
   "cell_type": "code",
   "execution_count": 63,
   "id": "63de8909-59ee-49d1-ab92-ffd32deb7887",
   "metadata": {},
   "outputs": [
    {
     "data": {
      "text/html": [
       "<div>\n",
       "<style scoped>\n",
       "    .dataframe tbody tr th:only-of-type {\n",
       "        vertical-align: middle;\n",
       "    }\n",
       "\n",
       "    .dataframe tbody tr th {\n",
       "        vertical-align: top;\n",
       "    }\n",
       "\n",
       "    .dataframe thead th {\n",
       "        text-align: right;\n",
       "    }\n",
       "</style>\n",
       "<table border=\"1\" class=\"dataframe\">\n",
       "  <thead>\n",
       "    <tr style=\"text-align: right;\">\n",
       "      <th></th>\n",
       "      <th>都道府県</th>\n",
       "      <th>総人口</th>\n",
       "      <th>男性総人口</th>\n",
       "      <th>女性総人口</th>\n",
       "      <th>日本人人口</th>\n",
       "      <th>日本人男性人口</th>\n",
       "      <th>日本人女性人口</th>\n",
       "    </tr>\n",
       "  </thead>\n",
       "  <tbody>\n",
       "    <tr>\n",
       "      <th>204</th>\n",
       "      <td>福井県</td>\n",
       "      <td>779000</td>\n",
       "      <td>378000</td>\n",
       "      <td>401000</td>\n",
       "      <td>767000</td>\n",
       "      <td>373000</td>\n",
       "      <td>394000</td>\n",
       "    </tr>\n",
       "    <tr>\n",
       "      <th>420</th>\n",
       "      <td>徳島県</td>\n",
       "      <td>743000</td>\n",
       "      <td>354000</td>\n",
       "      <td>389000</td>\n",
       "      <td>739000</td>\n",
       "      <td>353000</td>\n",
       "      <td>386000</td>\n",
       "    </tr>\n",
       "    <tr>\n",
       "      <th>456</th>\n",
       "      <td>高知県</td>\n",
       "      <td>714000</td>\n",
       "      <td>336000</td>\n",
       "      <td>377000</td>\n",
       "      <td>710000</td>\n",
       "      <td>334000</td>\n",
       "      <td>376000</td>\n",
       "    </tr>\n",
       "    <tr>\n",
       "      <th>372</th>\n",
       "      <td>島根県</td>\n",
       "      <td>685000</td>\n",
       "      <td>330000</td>\n",
       "      <td>355000</td>\n",
       "      <td>678000</td>\n",
       "      <td>326000</td>\n",
       "      <td>351000</td>\n",
       "    </tr>\n",
       "    <tr>\n",
       "      <th>360</th>\n",
       "      <td>鳥取県</td>\n",
       "      <td>565000</td>\n",
       "      <td>270000</td>\n",
       "      <td>295000</td>\n",
       "      <td>561000</td>\n",
       "      <td>269000</td>\n",
       "      <td>293000</td>\n",
       "    </tr>\n",
       "  </tbody>\n",
       "</table>\n",
       "</div>"
      ],
      "text/plain": [
       "    都道府県     総人口   男性総人口   女性総人口   日本人人口  日本人男性人口  日本人女性人口\n",
       "204  福井県  779000  378000  401000  767000   373000   394000\n",
       "420  徳島県  743000  354000  389000  739000   353000   386000\n",
       "456  高知県  714000  336000  377000  710000   334000   376000\n",
       "372  島根県  685000  330000  355000  678000   326000   351000\n",
       "360  鳥取県  565000  270000  295000  561000   269000   293000"
      ]
     },
     "execution_count": 63,
     "metadata": {},
     "output_type": "execute_result"
    }
   ],
   "source": [
    "# data 末尾 tail(テイル)\n",
    "df2.tail()"
   ]
  },
  {
   "cell_type": "markdown",
   "id": "89d874e3-fccf-4595-b720-5f0357b31ef2",
   "metadata": {},
   "source": [
    "### 基本統計量を表示\n",
    "- **describe**　で基本統計量が得られる\n",
    "    - **mean**　:　平均\n",
    "    - **std**　:　標準偏差\n",
    "    - **min**　:　最小値 ( 四分位数の0% )\n",
    "    - **25%**　:　四分位数の25%\n",
    "    - **50%**　:　四分位数の50%　( 中央値 )\n",
    "    - **75%**　:　四分位数の75%\n",
    "    - **max**　:　最大値 ( 四分位数の100% )"
   ]
  },
  {
   "cell_type": "code",
   "execution_count": 76,
   "id": "5bf4990a-a708-41bc-a8d6-ad9e000d3b14",
   "metadata": {},
   "outputs": [
    {
     "data": {
      "text/plain": [
       "count    4.700000e+01\n",
       "mean     2.695915e+06\n",
       "std      2.754776e+06\n",
       "min      5.650000e+05\n",
       "25%      1.095500e+06\n",
       "50%      1.626000e+06\n",
       "75%      2.714000e+06\n",
       "max      1.372400e+07\n",
       "Name: 総人口, dtype: float64"
      ]
     },
     "execution_count": 76,
     "metadata": {},
     "output_type": "execute_result"
    }
   ],
   "source": [
    "df2['総人口'].describe()"
   ]
  },
  {
   "cell_type": "markdown",
   "id": "a74aba10-4f4c-4407-ba6c-8c9540ab93b7",
   "metadata": {},
   "source": [
    "## pandas 基本統計量\n",
    "- 個別の値を取得\n",
    "    - **count( )**　:　指定した列の票本数を出す"
   ]
  },
  {
   "cell_type": "code",
   "execution_count": 78,
   "id": "09a973e0-b051-4608-a248-29d329b6b69f",
   "metadata": {},
   "outputs": [
    {
     "data": {
      "text/plain": [
       "47"
      ]
     },
     "execution_count": 78,
     "metadata": {},
     "output_type": "execute_result"
    }
   ],
   "source": [
    "df2['総人口'].count()"
   ]
  },
  {
   "cell_type": "markdown",
   "id": "747c3923-676e-4683-889c-b06581fe6294",
   "metadata": {},
   "source": [
    "- **sum( )**　:　指定した列の合計を取得"
   ]
  },
  {
   "cell_type": "code",
   "execution_count": 80,
   "id": "9056a5eb-bc55-4bbc-ae60-87bf1da1318a",
   "metadata": {},
   "outputs": [
    {
     "data": {
      "text/plain": [
       "126708000"
      ]
     },
     "execution_count": 80,
     "metadata": {},
     "output_type": "execute_result"
    }
   ],
   "source": [
    "df2['総人口'].sum()"
   ]
  },
  {
   "cell_type": "markdown",
   "id": "89623ab0-e987-44ca-abbb-0bdc5a3c6ed2",
   "metadata": {},
   "source": [
    "- **mean( )**　:　指定した列の平均値を取得"
   ]
  },
  {
   "cell_type": "code",
   "execution_count": 83,
   "id": "6edc60f2-a98d-40fb-932b-3366069733bc",
   "metadata": {},
   "outputs": [
    {
     "data": {
      "text/plain": [
       "2695914.8936170214"
      ]
     },
     "execution_count": 83,
     "metadata": {},
     "output_type": "execute_result"
    }
   ],
   "source": [
    "df2['総人口'].mean()"
   ]
  },
  {
   "cell_type": "markdown",
   "id": "74607bd3-5b02-4f34-8fe0-13db54133dd6",
   "metadata": {},
   "source": [
    "- **var( )**　:　指定した列の分散を取得"
   ]
  },
  {
   "cell_type": "code",
   "execution_count": 84,
   "id": "d683f1dc-e7eb-4892-8d9b-07e6d0967144",
   "metadata": {},
   "outputs": [
    {
     "data": {
      "text/plain": [
       "7588788905642.924"
      ]
     },
     "execution_count": 84,
     "metadata": {},
     "output_type": "execute_result"
    }
   ],
   "source": [
    "df2['総人口'].var()"
   ]
  },
  {
   "cell_type": "markdown",
   "id": "13423643-d085-4f0f-9ab4-0ecc7e525618",
   "metadata": {},
   "source": [
    "- **std( )**　:　指定した列の標準偏差を取得 / 分散の２乗を取ったもの。平方根"
   ]
  },
  {
   "cell_type": "code",
   "execution_count": 85,
   "id": "be0d48b9-9c06-47f1-8482-a3f3a4c55494",
   "metadata": {},
   "outputs": [
    {
     "data": {
      "text/plain": [
       "2754775.6543215862"
      ]
     },
     "execution_count": 85,
     "metadata": {},
     "output_type": "execute_result"
    }
   ],
   "source": [
    "df2['総人口'].std()"
   ]
  },
  {
   "cell_type": "markdown",
   "id": "b70e712d-abb8-4f82-909e-5db933a73317",
   "metadata": {},
   "source": [
    "- **min( )**　:　指定した列の最小値を取得"
   ]
  },
  {
   "cell_type": "code",
   "execution_count": 86,
   "id": "26e646b6-d09a-4ea4-8048-8e41d38c63f4",
   "metadata": {},
   "outputs": [
    {
     "data": {
      "text/plain": [
       "565000"
      ]
     },
     "execution_count": 86,
     "metadata": {},
     "output_type": "execute_result"
    }
   ],
   "source": [
    "df2['総人口'].min()"
   ]
  },
  {
   "cell_type": "markdown",
   "id": "0895ae53-4fa2-417a-97d6-628822389991",
   "metadata": {},
   "source": [
    "- **max( )**　:　指定した列の最大値を取得"
   ]
  },
  {
   "cell_type": "code",
   "execution_count": 87,
   "id": "c12901ba-670b-45d1-b52e-6dfb6622ade6",
   "metadata": {},
   "outputs": [
    {
     "data": {
      "text/plain": [
       "13724000"
      ]
     },
     "execution_count": 87,
     "metadata": {},
     "output_type": "execute_result"
    }
   ],
   "source": [
    "df2['総人口'].max()"
   ]
  },
  {
   "cell_type": "markdown",
   "id": "5752ba2c-797b-4780-86d3-15299056d7aa",
   "metadata": {},
   "source": [
    "- **median( )**　:　指定した列の中央値"
   ]
  },
  {
   "cell_type": "code",
   "execution_count": 88,
   "id": "31de1e2c-9109-4436-b873-5541c45e79f9",
   "metadata": {},
   "outputs": [
    {
     "data": {
      "text/plain": [
       "1626000.0"
      ]
     },
     "execution_count": 88,
     "metadata": {},
     "output_type": "execute_result"
    }
   ],
   "source": [
    "df2['総人口'].median()"
   ]
  },
  {
   "cell_type": "markdown",
   "id": "da327fa8-1320-4822-852c-4b015ba4c011",
   "metadata": {},
   "source": [
    "- **quantile**　:　四分位数を出すのに用いる\n",
    "    - list で割合を指定"
   ]
  },
  {
   "cell_type": "code",
   "execution_count": 89,
   "id": "e1711ea5-895d-4f76-a9c3-dffa8fb814c2",
   "metadata": {},
   "outputs": [
    {
     "name": "stdout",
     "output_type": "stream",
     "text": [
      "q25: 1095500.0\n",
      "q50: 1626000.0\n",
      "q75: 2714000.0\n"
     ]
    }
   ],
   "source": [
    "q25, q50, q75 = df2['総人口'].quantile([0.25, 0.5, 0.75])\n",
    "print(f'q25: {q25}\\nq50: {q50}\\nq75: {q75}')"
   ]
  },
  {
   "cell_type": "markdown",
   "id": "b2b7260f-ebc3-4930-98aa-447bf72624e8",
   "metadata": {},
   "source": [
    "## ヒストグラム\n",
    "- 各値の出現回数をグラフか\n",
    "- bin ( 表示する棒 ) の数 / default = 10\n",
    "- 全体を　bin数で表示できるだけの範囲に区切り、その範囲におさまる値の数をカウント\n",
    "- **ec**　:　グラフの境界の色を定める　paramerter"
   ]
  },
  {
   "cell_type": "code",
   "execution_count": 97,
   "id": "6740fcf3-3db4-4c7a-9329-ee1fabf4686c",
   "metadata": {},
   "outputs": [
    {
     "data": {
      "image/png": "[encoded data removed]",
      "text/plain": [
       "<Figure size 432x288 with 1 Axes>"
      ]
     },
     "metadata": {
      "needs_background": "light"
     },
     "output_type": "display_data"
    }
   ],
   "source": [
    "# 日本の人口をヒストグラムに描画 / 値を　１０万で割る\n",
    "x = df2['総人口'].values / 100000  # .values で np.array に変換してくれる\n",
    "\n",
    "# hist\n",
    "plt.hist(x, ec='black', bins=50)  # ec :　境界線を黒\n",
    "plt.show()"
   ]
  },
  {
   "cell_type": "markdown",
   "id": "69990d74-a235-4682-bc8e-7781c73e7bdf",
   "metadata": {},
   "source": [
    "# 正規分布と標準偏差"
   ]
  },
  {
   "cell_type": "markdown",
   "id": "2d1f8d6f-6419-4a35-9c07-b5bb9da740be",
   "metadata": {
    "tags": []
   },
   "source": [
    "- `確率分布`\n",
    "    - 確率変数がとる値とその値を取る確率の対応の様子\n",
    "\n",
    "|サイコロの目|1|2|3|4|5|6|\n",
    "|--|--|--|--|--|--|--|\n",
    "|確率|$$\\frac{1}{6}$$|$$\\frac{1}{6}$$|$$\\frac{1}{6}$$|$$\\frac{1}{6}$$|$$\\frac{1}{6}$$|$$\\frac{1}{6}$$|\n",
    "\n",
    "\n",
    "- `正規分布`\n",
    "    - 平均値の発生頻度が最も高い確率分布\n",
    "    - 平均値を中心に左右対称で発生頻度が高くなっている\n",
    "    - ヒストグラム全体の形状は釣鐘状になる\n",
    "\n",
    "\n",
    "- *正規分布にする data 例*\n",
    "    - 大規模な模試の点数分布\n",
    "    - 全国の高校生の男女別の身長\n",
    "    - サイコロを何回も投げた時の出目の合計\n",
    "\n",
    "\n",
    "- <u>正規分布の場合、平均値　±　標準偏差中に観測 data が含まれる確率は **68.3%**</u>\n",
    "    - **±$2\\sigma$, ±$3\\sigma$　になると確率は上がる**\n",
    "\n",
    "\n",
    "\n",
    "<div style=\"text-align: center;\">\n",
    "    <b>正規分布のグラフ（ガウス分布）</p>\n",
    "<img src=\"../Resources/img/gaussian_distribution.png\">\n",
    "</div>\n",
    "\n",
    "|範囲|範囲内に数値が現れる確率|\n",
    "|:---:|:---:|\n",
    "|平均値±$\\sigma$|68.3%|\n",
    "|平均値±2$\\sigma$|95.4%\n",
    "|平均値±3$\\sigma$|99.7%|\n",
    "\n",
    "\n",
    "### `68 - 95 - 99.7rule`\n",
    "- $\\sigma$　=　標準偏差\n",
    "- $\\mu$　=　平均\n",
    "\n",
    "\n",
    "- **正規分布では**\n",
    "    - 平均から　**± １**　標準偏差には約　**68%**　のデータが　$$\\mu-\\sigma,　\\mu+\\sigma$$\n",
    "    - 平均から　**± 2**　標準偏差には約　**95%**　のデータが　$$\\mu-2\\sigma,　\\mu+2\\sigma$$\n",
    "    - 平均から　**± 3**　標準偏差には約　**99%**　のデータが　$$\\mu-3\\sigma,　\\mu+3\\sigma$$\n",
    "        - 含まれるという統計的に分かっている。経験則がある\n",
    "\n",
    "\n",
    "- <u>あくまで上記は　**正規分布**　の時だけ</u>"
   ]
  },
  {
   "cell_type": "code",
   "execution_count": 101,
   "id": "101e7556-5c6e-4c45-871a-f848a9adbb29",
   "metadata": {},
   "outputs": [
    {
     "data": {
      "image/png": "[encoded data removed]",
      "text/plain": [
       "<Figure size 432x288 with 1 Axes>"
      ]
     },
     "metadata": {
      "needs_background": "light"
     },
     "output_type": "display_data"
    }
   ],
   "source": [
    "# 平均50, 標準偏差１０の正規乱数を10,000件生成する\n",
    "x = np.random.normal(50, 10, 10000)    # normal : 正規分布を発生させる事ができる乱数\n",
    "\n",
    "plt.hist(x, ec='black')\n",
    "plt.show()"
   ]
  },
  {
   "cell_type": "code",
   "execution_count": 112,
   "id": "82779ec3-1236-4347-af24-4603d6516c9b",
   "metadata": {},
   "outputs": [
    {
     "data": {
      "image/png": "[encoded data removed]",
      "text/plain": [
       "<Figure size 432x288 with 1 Axes>"
      ]
     },
     "metadata": {
      "needs_background": "light"
     },
     "output_type": "display_data"
    }
   ],
   "source": [
    "# 平均50, 標準偏差１０の正規乱数を10,000件生成する\n",
    "x = np.random.normal(50, 10, 10000)\n",
    "\n",
    "plt.hist(x, ec='black', bins=100)\n",
    "plt.show()"
   ]
  },
  {
   "cell_type": "markdown",
   "id": "6abc83a0-af9b-4625-a8f1-bbb440049f37",
   "metadata": {},
   "source": [
    "## 問題"
   ]
  },
  {
   "cell_type": "code",
   "execution_count": 114,
   "id": "e746d28a-cad2-4e39-b211-7efe8c4f516b",
   "metadata": {},
   "outputs": [
    {
     "data": {
      "text/plain": [
       "array([8, 5, 4, 1, 6, 5, 3, 4, 4, 9, 0, 2])"
      ]
     },
     "execution_count": 114,
     "metadata": {},
     "output_type": "execute_result"
    }
   ],
   "source": [
    "a = np.array([8, 5, 4, 1, 6, 5, 3, 4, 4, 9, 0, 2])\n",
    "a"
   ]
  },
  {
   "cell_type": "code",
   "execution_count": 119,
   "id": "8b144630-ddbc-45b0-a6a3-2c5653d6f108",
   "metadata": {},
   "outputs": [
    {
     "data": {
      "text/plain": [
       "array([0, 1, 2, 3, 4, 4, 4, 5, 5, 6, 8, 9])"
      ]
     },
     "execution_count": 119,
     "metadata": {},
     "output_type": "execute_result"
    }
   ],
   "source": [
    "b = np.sort(a)\n",
    "b"
   ]
  },
  {
   "cell_type": "code",
   "execution_count": 120,
   "id": "8f00e7e3-eca9-464c-a373-52afe07ca764",
   "metadata": {},
   "outputs": [
    {
     "data": {
      "text/plain": [
       "12"
      ]
     },
     "execution_count": 120,
     "metadata": {},
     "output_type": "execute_result"
    }
   ],
   "source": [
    "len(b)"
   ]
  },
  {
   "cell_type": "code",
   "execution_count": 123,
   "id": "aa66cca0-bbd5-4451-8929-bf5a7942b0da",
   "metadata": {},
   "outputs": [
    {
     "data": {
      "text/plain": [
       "51"
      ]
     },
     "execution_count": 123,
     "metadata": {},
     "output_type": "execute_result"
    }
   ],
   "source": [
    "np.sum(b)"
   ]
  },
  {
   "cell_type": "code",
   "execution_count": 124,
   "id": "064f03c1-0254-4e90-b927-ec3469e8b9b9",
   "metadata": {},
   "outputs": [
    {
     "data": {
      "text/plain": [
       "4.25"
      ]
     },
     "execution_count": 124,
     "metadata": {},
     "output_type": "execute_result"
    }
   ],
   "source": [
    "np.mean(b)"
   ]
  },
  {
   "cell_type": "code",
   "execution_count": 125,
   "id": "84699abe-270a-40d6-b1e4-57d7865389e4",
   "metadata": {},
   "outputs": [
    {
     "data": {
      "text/plain": [
       "4.0"
      ]
     },
     "execution_count": 125,
     "metadata": {},
     "output_type": "execute_result"
    }
   ],
   "source": [
    "np.median(b)"
   ]
  },
  {
   "cell_type": "code",
   "execution_count": 126,
   "id": "e7e6b819-665d-4aed-8269-afe19e81405c",
   "metadata": {},
   "outputs": [
    {
     "data": {
      "text/plain": [
       "9"
      ]
     },
     "execution_count": 126,
     "metadata": {},
     "output_type": "execute_result"
    }
   ],
   "source": [
    "np.max(b)"
   ]
  },
  {
   "cell_type": "code",
   "execution_count": 127,
   "id": "c7e11232-f815-4fe1-a63b-b91f0fb9e960",
   "metadata": {},
   "outputs": [
    {
     "data": {
      "text/plain": [
       "0"
      ]
     },
     "execution_count": 127,
     "metadata": {},
     "output_type": "execute_result"
    }
   ],
   "source": [
    "np.min(b)"
   ]
  },
  {
   "cell_type": "code",
   "execution_count": 129,
   "id": "fdf73c5e-80d5-46ad-b0a0-b52c32900c17",
   "metadata": {},
   "outputs": [
    {
     "data": {
      "text/plain": [
       "6.354166666666667"
      ]
     },
     "execution_count": 129,
     "metadata": {},
     "output_type": "execute_result"
    }
   ],
   "source": [
    "np.var(b)"
   ]
  },
  {
   "cell_type": "code",
   "execution_count": 130,
   "id": "ad365f6f-2120-4ead-87f7-4b0d4d560fdd",
   "metadata": {},
   "outputs": [
    {
     "data": {
      "text/plain": [
       "2.520747243709029"
      ]
     },
     "execution_count": 130,
     "metadata": {},
     "output_type": "execute_result"
    }
   ],
   "source": [
    "np.std(b)"
   ]
  },
  {
   "cell_type": "code",
   "execution_count": null,
   "id": "bebe9b49-c064-4bdd-9a70-d10a4b1517d9",
   "metadata": {},
   "outputs": [],
   "source": []
  }
 ],
 "metadata": {
  "kernelspec": {
   "display_name": "Python 3",
   "language": "python",
   "name": "python3"
  },
  "language_info": {
   "codemirror_mode": {
    "name": "ipython",
    "version": 3
   },
   "file_extension": ".py",
   "mimetype": "text/x-python",
   "name": "python",
   "nbconvert_exporter": "python",
   "pygments_lexer": "ipython3",
   "version": "3.8.8"
  }
 },
 "nbformat": 4,
 "nbformat_minor": 5
}
