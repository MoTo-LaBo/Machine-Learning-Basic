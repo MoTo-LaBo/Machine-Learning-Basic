{
 "cells": [
  {
   "cell_type": "markdown",
   "id": "df124539-82cf-4d07-b295-f94b74d6a392",
   "metadata": {},
   "source": [
    "# 線型回帰分析　( 単回帰分析 )"
   ]
  },
  {
   "cell_type": "markdown",
   "id": "f5f1b808-64ce-485b-a08f-562c7eb925f2",
   "metadata": {},
   "source": [
    "- 目的変数を説明する説明変数の方程式を求める\n",
    "$$y=ax+b$$"
   ]
  },
  {
   "cell_type": "markdown",
   "id": "675567d5-b9ee-4f59-9cb7-3524aba0ba08",
   "metadata": {},
   "source": [
    "# 回帰分析"
   ]
  },
  {
   "cell_type": "markdown",
   "id": "8bcb7e9a-464d-468f-a349-f6e81abe17f4",
   "metadata": {},
   "source": [
    "### まずは...\n",
    "- *全ての data が必要か？ を見極める*\n",
    "    - パラメータ同士の相関関係を数値化する\n",
    "    - 相関関係のないパラメータ同士では回帰分析は出来ない\n",
    "    - **相関係数（そうかんけいすう）**で相関関係があるかどうか判断する\n",
    "        - 共分散と標準偏差を求めることにより計算可能\n",
    "\n",
    "### 共分散（きょうぶんさん）の式\n",
    "- **共分散** … 2つの変数の関係を表す値\n",
    "- 「事象$X$が起こるときに事象$Y$も起こる傾向があるか」のように2つの確率変数の関係性を表す\n",
    "    - 共分散が大きい（正）→ $X$ が大きいとき$Y$も大きい傾向がある\n",
    "    - 共分散が 0 に近い→ $X$と$Y$にあまり関係はない\n",
    "    - 共分散が小さい（負）→ $X$が大きいとき$Y$も小さい傾向がある\n",
    "- 事象$X$,$Y$の$n$個のデータ $X=\\{x_1,x_2,⋯x_n\\}$、$Y=\\{y_1,y_2,⋯,y_n\\}$\n",
    "\n",
    "$$\n",
    "    s_{xy} = \\frac{1}{n}\\sum_{i=1}^{n}(x_i-\\overline{x})(y_i-\\overline{y})\n",
    "$$\n",
    "<center>\n",
    "($\\overline{x}$: $X$の平均　$\\overline{y}$: $Y$の平均)\n",
    "</center>\n",
    "\n",
    "### X,Yの標準偏差\n",
    "$$\n",
    "    s_x=\\sqrt{\\frac{1}{n}\\sum_{i=1}^{n}(x_i-\\overline{x})^2 \\quad}  s_y=\\sqrt{\\frac{1}{n}\\sum_{i=1}^{n}(y_i-\\overline{y})^2 \\quad}\n",
    "$$\n",
    "\n",
    "\n",
    "\n",
    "### 相関係数の式\n",
    "- $X$,$Y$の値の共分散を$X$の標準偏差と$Y$の標準偏差で割ったもの\n",
    "- 共分散の問題点…客観的な評価が出来ない　→　相関係数を使用\n",
    "\n",
    "$$\n",
    "r = \\frac{s_{xy}}{s_x×s_y}\n",
    "$$\n",
    "\n",
    "\n",
    "### 相関係数の値\n",
    "|相関係数|相関の強さ|\n",
    "|:---|:---|\n",
    "|0.7 〜 1.0|強い正の相関|\n",
    "|0.4 〜 0.7|正の相関|\n",
    "|0.2 〜 0.4|弱い正の相関|\n",
    "|-0.2 〜 0.2|ほとんど相関関係がない|\n",
    "|-0.4 〜 -0.2|弱い負の相関|\n",
    "|-0.7 〜 -0.4|負の相関|\n",
    "|-1.0 〜 -0.7|強い負の相関|"
   ]
  },
  {
   "cell_type": "markdown",
   "id": "00e8a356-e4c9-4090-9468-cc2b9f7a0940",
   "metadata": {},
   "source": [
    "### **回帰分析を行う**\n",
    "1. data を学習用, test用に 7 : 3 に分割する\n",
    "1. LinearRegression class の instance を生成\n",
    "1. fit method で学習 data を与える\n",
    "1. `最小二乗法`\n",
    "    - 単回帰直線を求める\n",
    "    - 誤差の2乗の和を最小にすることで、最も確からしい関係式を求める\n",
    "1. 説明変数の係数と切片が得られる\n",
    "\n",
    "\n",
    "### 得られる式\n",
    "$$y　=　ax+b$$\n",
    "\n",
    "\n",
    "|パラメータ|概要|\n",
    "|:---:|:---|\n",
    "|$x$|説明変数|\n",
    "|$y$|目的変数\n",
    "|$a$|説明変数$x$の係数|\n",
    "|$b$|切片|\n",
    "\n",
    "\n",
    "- **X or Y _train**\n",
    "    - X or Y の学習用 data : 70%\n",
    "\n",
    "\n",
    "- **X or Y _test**\n",
    "    - X or Y の test用 data : 30%\n",
    "\n",
    "\n",
    "- **train_test_split**\n",
    "    - random に中でシャッフルしている\n",
    "    - random.seed(1) で種を指定しているので同じ検証結果が返ってくる\n"
   ]
  },
  {
   "cell_type": "markdown",
   "id": "bde2794c-c628-4235-b235-6b800a3079fa",
   "metadata": {},
   "source": [
    "## 回帰分析の評価\n",
    "- **予測結果が妥当かどうかを調べる必要がある**\n",
    "\n",
    "\n",
    "- 残差を plot して回帰分析の性能を視覚的に評価\n",
    "- 回帰直線, 散布図の点の差を描画\n",
    "    - *縦軸　:　残差*\n",
    "    - *横軸　:　予測値*"
   ]
  },
  {
   "cell_type": "markdown",
   "id": "02da174e-0042-4885-8f33-4a3bdf37c7b1",
   "metadata": {},
   "source": [
    "### `平均二乗誤差`\n",
    "- *Mean Squared Error*\n",
    "    - **機械学習の場合 Error は 誤差という意味**\n",
    "        - Mean　:　平均\n",
    "        - Squared　:　異常\n",
    "        - Error　:　誤差\n",
    "\n",
    "\n",
    "- **実際の値と線形回帰モデルによる予測値のズレ（誤差）がどれだけあるかを示す**\n",
    "    - 値が小さければ小さいほど良いモデル\n",
    "\n",
    "\n",
    "<div>\n",
    "<img src=\"../Resources/img/regression_difference.png\">\n",
    "</div>\n",
    "\n",
    "\n",
    "$$\n",
    "    MSE = \\frac{1}{n}\\sum_{i=1}^{n}(y_i-\\hat{y_i})^2\n",
    "$$\n",
    "<center>\n",
    "($y_i$:$i$番目の実際の値　　$\\hat{y_i}$:$i$番目の予測値)\n",
    "</center>\n",
    "\n",
    "\n",
    "### 誤差の２乗の平均　=　MSE"
   ]
  },
  {
   "cell_type": "markdown",
   "id": "13ea4a64-7ab1-4a92-88f0-0a8694c58e6f",
   "metadata": {},
   "source": [
    "## 決定係数"
   ]
  },
  {
   "cell_type": "markdown",
   "id": "5014244b-9365-4f1c-9d28-96f89c9641f4",
   "metadata": {},
   "source": [
    "- 決定係数$R^2$スコア\n",
    "- 0.0〜1.0の範囲の値をとる\n",
    "- 値が大きいほどモデルが適切にデータを表現できている\n",
    "- MSEよりも客観的な評価が可能\n",
    "\n",
    "$$\n",
    "    R^2 = 1 - \\frac{\\sum_{i=1}^{n}(y_i-\\hat{y_i})^2}{\\sum_{i=1}^{n}(y_i-\\bar{y})^2}\n",
    "$$\n",
    "\n",
    "<center>\n",
    "($y_i$:$i$番目の実際の値　\n",
    "$\\bar{y}$:実際の値の平均値　\n",
    "$\\hat{y_i}$:$i$番目の予測値)\n",
    "</center>\n",
    "\n",
    "### 決定係数の判断基準の目安\n",
    "|$R^2$|判断内容|\n",
    "|---|:---|\n",
    "|0.6以下|モデルとして意味なしていない|\n",
    "|0.8～0.9|かなり良いモデル|\n",
    "|0.9以上|過学習の可能性がある|"
   ]
  },
  {
   "cell_type": "markdown",
   "id": "f834466f-5a22-4e34-b77e-4c861a5f3436",
   "metadata": {},
   "source": [
    "# 重回帰分析"
   ]
  },
  {
   "cell_type": "markdown",
   "id": "f5c7d25f-f324-44be-9fe6-b3ff33273675",
   "metadata": {},
   "source": [
    "- 目的変数を説明する説明変数の方程式を求める\n",
    "\n",
    "\n",
    "- 「$y = a_1x_1 + a_2x_2 + …　+ a_nx_n +b$」の形式\n",
    "\n",
    "\n",
    "|記号|概要|\n",
    "|:---:|:---|\n",
    "|$y$|予想結果|\n",
    "|$x_1$ … $x_n$|説明変数|\n",
    "|$a_1$ … $a_n$|説明変数の係数|\n",
    "|$b$|切片|"
   ]
  },
  {
   "cell_type": "markdown",
   "id": "0f26389a-e459-4473-bc98-9c4bb6da9b5d",
   "metadata": {},
   "source": [
    "### data の標準化\n",
    "- dataの `標準化` を行う\n",
    "    - 複数の異なるスケールの説明変数を元に回帰分析を行う時には必須の方法\n",
    "    - data scale を小さくして学習速度を上げる\n",
    "    -  scale の異なる複数の説明変数の scale を埋める事で予想性能の向上\n",
    "        - *計算誤差を小さくできる*\n",
    "\n",
    "        \n",
    "\n",
    "- <u>PC の場合 scale がバラバラの計算は誤差が出やすい</u>\n",
    "- <u>誤差が大きいと予測が正しくなくなる</u>\n",
    "\n",
    "    - *0.1,　100,　30.5,　-250,　0.065*\n",
    "        - **なので標準化が必要になってくる**\n",
    "\n",
    "\n",
    "### `StandardScaler` class の instance を生成\n",
    "- *fit_transform method で paramerter を標準化できる*\n",
    "\n",
    "\n",
    "$$\n",
    "X' = \\frac{X-\\mu}{\\sigma} \n",
    "$$\n",
    "\n",
    "\n",
    "- $X$　:　標準化前の説明変数 \n",
    "- $X'$　:　標準化後の説明変数 \n",
    "- $\\mu$　:　説明変数の平均値 \n",
    "- $\\sigma$　:　説明変数の標準偏差\n"
   ]
  },
  {
   "cell_type": "markdown",
   "id": "775341ff-44e2-47ec-838a-8f6edf838fda",
   "metadata": {},
   "source": [
    "# 汎化性能と過学習\n",
    "- **汎化性能（はんかせいのう）** … 未知のデータへの対応能力。\n",
    "- **過学習（かがくしゅう）** … 学習データに適応しすぎ未知のデータへの対応能力低くなる状態。\n",
    "\n",
    "<div style=\"text-align:center;\">\n",
    "    <b>線形回帰の過学習</b>\n",
    "    <img src=\"../Resources/img/overtraining_linear_regression.png\" width=\"600px\">\n",
    "</div>"
   ]
  },
  {
   "cell_type": "code",
   "execution_count": null,
   "id": "f36e2330-ff8b-4509-83a0-85c2810fd27c",
   "metadata": {},
   "outputs": [],
   "source": []
  }
 ],
 "metadata": {
  "kernelspec": {
   "display_name": "Python 3",
   "language": "python",
   "name": "python3"
  },
  "language_info": {
   "codemirror_mode": {
    "name": "ipython",
    "version": 3
   },
   "file_extension": ".py",
   "mimetype": "text/x-python",
   "name": "python",
   "nbconvert_exporter": "python",
   "pygments_lexer": "ipython3",
   "version": "3.8.8"
  }
 },
 "nbformat": 4,
 "nbformat_minor": 5
}
