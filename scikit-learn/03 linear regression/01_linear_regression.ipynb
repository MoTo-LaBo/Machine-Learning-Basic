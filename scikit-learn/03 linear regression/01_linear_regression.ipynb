{
 "cells": [
  {
   "cell_type": "markdown",
   "id": "0de04382-d581-4e41-b91c-74057004ed04",
   "metadata": {},
   "source": [
    "# 線型回帰分析　( 単回帰分析 )"
   ]
  },
  {
   "cell_type": "markdown",
   "id": "bac85935-9691-432a-913c-5161764fed1c",
   "metadata": {},
   "source": [
    "- 目的変数を説明する説明変数の方程式を求める\n",
    "$$y=ax+b$$"
   ]
  },
  {
   "cell_type": "markdown",
   "id": "66290ee8-8bdb-4456-bff6-2b3368bc670a",
   "metadata": {},
   "source": [
    "## data の準備\n",
    "- 必要な初期設定\n",
    "- *LinearRegression*　:　線型回帰\n",
    "- *load_boston*　:　ボストン市の住宅価格の data set を読み出す関数\n",
    "- *train_test_split*　:　data を学習用・テスト用に分ける関数"
   ]
  },
  {
   "cell_type": "code",
   "execution_count": 29,
   "id": "00c1d2c1-8ccd-4247-8811-587013066946",
   "metadata": {},
   "outputs": [],
   "source": [
    "import numpy as np\n",
    "import pandas as pd\n",
    "import matplotlib.pyplot as plt\n",
    "%matplotlib inline\n",
    "\n",
    "# 乱数の種を　1 / 再現性を保持する為\n",
    "np.random.seed(1)\n",
    "\n",
    "# scikit-learn model を読み込む\n",
    "from sklearn.linear_model import LinearRegression\n",
    "from sklearn.datasets import load_boston\n",
    "from sklearn.model_selection import train_test_split\n",
    "\n",
    "# Boston data set を読み出す\n",
    "boston = load_boston()"
   ]
  },
  {
   "cell_type": "markdown",
   "id": "1b7a8eb1-034d-4b56-be7f-86907c664481",
   "metadata": {},
   "source": [
    "## load data 概要\n",
    "- **data　は　dictionary　形式**\n",
    "    - *data*　:　説明変数\n",
    "    - *target*　:　目的変数 （1000ドル単位の不動産価格の中央値）\n",
    "    - *feature_names*　:　説明変数の paramerter名\n",
    "    - *DESCR*　:　data の詳細の説明\n",
    "    - *filename*　:　ファイル名"
   ]
  },
  {
   "cell_type": "code",
   "execution_count": 3,
   "id": "f1a06024-dd1d-41c4-a17f-1d374b44c68a",
   "metadata": {},
   "outputs": [
    {
     "data": {
      "text/plain": [
       "dict_keys(['data', 'target', 'feature_names', 'DESCR', 'filename'])"
      ]
     },
     "execution_count": 3,
     "metadata": {},
     "output_type": "execute_result"
    }
   ],
   "source": [
    "# data の中の key を出力\n",
    "boston.keys()"
   ]
  },
  {
   "cell_type": "markdown",
   "id": "d398e49f-f6bc-442a-ac7f-456cd222effe",
   "metadata": {},
   "source": [
    "### data の詳細説明 : DESCR / description"
   ]
  },
  {
   "cell_type": "code",
   "execution_count": 4,
   "id": "4cb4c66b-b51a-488a-8d1f-774bd12eb22b",
   "metadata": {},
   "outputs": [
    {
     "name": "stdout",
     "output_type": "stream",
     "text": [
      ".. _boston_dataset:\n",
      "\n",
      "Boston house prices dataset\n",
      "---------------------------\n",
      "\n",
      "**Data Set Characteristics:**  \n",
      "\n",
      "    :Number of Instances: 506 \n",
      "\n",
      "    :Number of Attributes: 13 numeric/categorical predictive. Median Value (attribute 14) is usually the target.\n",
      "\n",
      "    :Attribute Information (in order):\n",
      "        - CRIM     per capita crime rate by town\n",
      "        - ZN       proportion of residential land zoned for lots over 25,000 sq.ft.\n",
      "        - INDUS    proportion of non-retail business acres per town\n",
      "        - CHAS     Charles River dummy variable (= 1 if tract bounds river; 0 otherwise)\n",
      "        - NOX      nitric oxides concentration (parts per 10 million)\n",
      "        - RM       average number of rooms per dwelling\n",
      "        - AGE      proportion of owner-occupied units built prior to 1940\n",
      "        - DIS      weighted distances to five Boston employment centres\n",
      "        - RAD      index of accessibility to radial highways\n",
      "        - TAX      full-value property-tax rate per $10,000\n",
      "        - PTRATIO  pupil-teacher ratio by town\n",
      "        - B        1000(Bk - 0.63)^2 where Bk is the proportion of blacks by town\n",
      "        - LSTAT    % lower status of the population\n",
      "        - MEDV     Median value of owner-occupied homes in $1000's\n",
      "\n",
      "    :Missing Attribute Values: None\n",
      "\n",
      "    :Creator: Harrison, D. and Rubinfeld, D.L.\n",
      "\n",
      "This is a copy of UCI ML housing dataset.\n",
      "https://archive.ics.uci.edu/ml/machine-learning-databases/housing/\n",
      "\n",
      "\n",
      "This dataset was taken from the StatLib library which is maintained at Carnegie Mellon University.\n",
      "\n",
      "The Boston house-price data of Harrison, D. and Rubinfeld, D.L. 'Hedonic\n",
      "prices and the demand for clean air', J. Environ. Economics & Management,\n",
      "vol.5, 81-102, 1978.   Used in Belsley, Kuh & Welsch, 'Regression diagnostics\n",
      "...', Wiley, 1980.   N.B. Various transformations are used in the table on\n",
      "pages 244-261 of the latter.\n",
      "\n",
      "The Boston house-price data has been used in many machine learning papers that address regression\n",
      "problems.   \n",
      "     \n",
      ".. topic:: References\n",
      "\n",
      "   - Belsley, Kuh & Welsch, 'Regression diagnostics: Identifying Influential Data and Sources of Collinearity', Wiley, 1980. 244-261.\n",
      "   - Quinlan,R. (1993). Combining Instance-Based and Model-Based Learning. In Proceedings on the Tenth International Conference of Machine Learning, 236-243, University of Massachusetts, Amherst. Morgan Kaufmann.\n",
      "\n"
     ]
    }
   ],
   "source": [
    "# 各　paramerter の詳細説明\n",
    "print(boston.DESCR)"
   ]
  },
  {
   "cell_type": "markdown",
   "id": "7a97000a-58de-4ed8-a016-6043c52af69c",
   "metadata": {},
   "source": [
    "### 説明変数の paramerter / featuer names"
   ]
  },
  {
   "cell_type": "code",
   "execution_count": 5,
   "id": "ece6319f-8ba0-4f07-9bfa-f1072f19ff61",
   "metadata": {},
   "outputs": [
    {
     "name": "stdout",
     "output_type": "stream",
     "text": [
      "['CRIM' 'ZN' 'INDUS' 'CHAS' 'NOX' 'RM' 'AGE' 'DIS' 'RAD' 'TAX' 'PTRATIO'\n",
      " 'B' 'LSTAT']\n"
     ]
    }
   ],
   "source": [
    "# 各 paramerter の説明\n",
    "print(boston.feature_names)"
   ]
  },
  {
   "cell_type": "markdown",
   "id": "67927462-4863-4196-9bb4-4b2635667121",
   "metadata": {},
   "source": [
    "### 説明変数の値一覧"
   ]
  },
  {
   "cell_type": "code",
   "execution_count": 6,
   "id": "ea09314b-38b1-4e2a-9594-d5df13e07684",
   "metadata": {},
   "outputs": [
    {
     "name": "stdout",
     "output_type": "stream",
     "text": [
      "[[6.3200e-03 1.8000e+01 2.3100e+00 ... 1.5300e+01 3.9690e+02 4.9800e+00]\n",
      " [2.7310e-02 0.0000e+00 7.0700e+00 ... 1.7800e+01 3.9690e+02 9.1400e+00]\n",
      " [2.7290e-02 0.0000e+00 7.0700e+00 ... 1.7800e+01 3.9283e+02 4.0300e+00]\n",
      " ...\n",
      " [6.0760e-02 0.0000e+00 1.1930e+01 ... 2.1000e+01 3.9690e+02 5.6400e+00]\n",
      " [1.0959e-01 0.0000e+00 1.1930e+01 ... 2.1000e+01 3.9345e+02 6.4800e+00]\n",
      " [4.7410e-02 0.0000e+00 1.1930e+01 ... 2.1000e+01 3.9690e+02 7.8800e+00]]\n"
     ]
    }
   ],
   "source": [
    "# 説明変数\n",
    "print(boston.data)"
   ]
  },
  {
   "cell_type": "markdown",
   "id": "8973345a-41cf-4c3e-a1fa-cf883c09c6c3",
   "metadata": {},
   "source": [
    "### 目的変数の一覧 / target "
   ]
  },
  {
   "cell_type": "code",
   "execution_count": 7,
   "id": "69286193-baa9-43ff-add6-e55bb530790c",
   "metadata": {},
   "outputs": [
    {
     "name": "stdout",
     "output_type": "stream",
     "text": [
      "[24.  21.6 34.7 33.4 36.2 28.7 22.9 27.1 16.5 18.9 15.  18.9 21.7 20.4\n",
      " 18.2 19.9 23.1 17.5 20.2 18.2 13.6 19.6 15.2 14.5 15.6 13.9 16.6 14.8\n",
      " 18.4 21.  12.7 14.5 13.2 13.1 13.5 18.9 20.  21.  24.7 30.8 34.9 26.6\n",
      " 25.3 24.7 21.2 19.3 20.  16.6 14.4 19.4 19.7 20.5 25.  23.4 18.9 35.4\n",
      " 24.7 31.6 23.3 19.6 18.7 16.  22.2 25.  33.  23.5 19.4 22.  17.4 20.9\n",
      " 24.2 21.7 22.8 23.4 24.1 21.4 20.  20.8 21.2 20.3 28.  23.9 24.8 22.9\n",
      " 23.9 26.6 22.5 22.2 23.6 28.7 22.6 22.  22.9 25.  20.6 28.4 21.4 38.7\n",
      " 43.8 33.2 27.5 26.5 18.6 19.3 20.1 19.5 19.5 20.4 19.8 19.4 21.7 22.8\n",
      " 18.8 18.7 18.5 18.3 21.2 19.2 20.4 19.3 22.  20.3 20.5 17.3 18.8 21.4\n",
      " 15.7 16.2 18.  14.3 19.2 19.6 23.  18.4 15.6 18.1 17.4 17.1 13.3 17.8\n",
      " 14.  14.4 13.4 15.6 11.8 13.8 15.6 14.6 17.8 15.4 21.5 19.6 15.3 19.4\n",
      " 17.  15.6 13.1 41.3 24.3 23.3 27.  50.  50.  50.  22.7 25.  50.  23.8\n",
      " 23.8 22.3 17.4 19.1 23.1 23.6 22.6 29.4 23.2 24.6 29.9 37.2 39.8 36.2\n",
      " 37.9 32.5 26.4 29.6 50.  32.  29.8 34.9 37.  30.5 36.4 31.1 29.1 50.\n",
      " 33.3 30.3 34.6 34.9 32.9 24.1 42.3 48.5 50.  22.6 24.4 22.5 24.4 20.\n",
      " 21.7 19.3 22.4 28.1 23.7 25.  23.3 28.7 21.5 23.  26.7 21.7 27.5 30.1\n",
      " 44.8 50.  37.6 31.6 46.7 31.5 24.3 31.7 41.7 48.3 29.  24.  25.1 31.5\n",
      " 23.7 23.3 22.  20.1 22.2 23.7 17.6 18.5 24.3 20.5 24.5 26.2 24.4 24.8\n",
      " 29.6 42.8 21.9 20.9 44.  50.  36.  30.1 33.8 43.1 48.8 31.  36.5 22.8\n",
      " 30.7 50.  43.5 20.7 21.1 25.2 24.4 35.2 32.4 32.  33.2 33.1 29.1 35.1\n",
      " 45.4 35.4 46.  50.  32.2 22.  20.1 23.2 22.3 24.8 28.5 37.3 27.9 23.9\n",
      " 21.7 28.6 27.1 20.3 22.5 29.  24.8 22.  26.4 33.1 36.1 28.4 33.4 28.2\n",
      " 22.8 20.3 16.1 22.1 19.4 21.6 23.8 16.2 17.8 19.8 23.1 21.  23.8 23.1\n",
      " 20.4 18.5 25.  24.6 23.  22.2 19.3 22.6 19.8 17.1 19.4 22.2 20.7 21.1\n",
      " 19.5 18.5 20.6 19.  18.7 32.7 16.5 23.9 31.2 17.5 17.2 23.1 24.5 26.6\n",
      " 22.9 24.1 18.6 30.1 18.2 20.6 17.8 21.7 22.7 22.6 25.  19.9 20.8 16.8\n",
      " 21.9 27.5 21.9 23.1 50.  50.  50.  50.  50.  13.8 13.8 15.  13.9 13.3\n",
      " 13.1 10.2 10.4 10.9 11.3 12.3  8.8  7.2 10.5  7.4 10.2 11.5 15.1 23.2\n",
      "  9.7 13.8 12.7 13.1 12.5  8.5  5.   6.3  5.6  7.2 12.1  8.3  8.5  5.\n",
      " 11.9 27.9 17.2 27.5 15.  17.2 17.9 16.3  7.   7.2  7.5 10.4  8.8  8.4\n",
      " 16.7 14.2 20.8 13.4 11.7  8.3 10.2 10.9 11.   9.5 14.5 14.1 16.1 14.3\n",
      " 11.7 13.4  9.6  8.7  8.4 12.8 10.5 17.1 18.4 15.4 10.8 11.8 14.9 12.6\n",
      " 14.1 13.  13.4 15.2 16.1 17.8 14.9 14.1 12.7 13.5 14.9 20.  16.4 17.7\n",
      " 19.5 20.2 21.4 19.9 19.  19.1 19.1 20.1 19.9 19.6 23.2 29.8 13.8 13.3\n",
      " 16.7 12.  14.6 21.4 23.  23.7 25.  21.8 20.6 21.2 19.1 20.6 15.2  7.\n",
      "  8.1 13.6 20.1 21.8 24.5 23.1 19.7 18.3 21.2 17.5 16.8 22.4 20.6 23.9\n",
      " 22.  11.9]\n"
     ]
    }
   ],
   "source": [
    "# 目的変数\n",
    "print(boston.target)"
   ]
  },
  {
   "cell_type": "markdown",
   "id": "41c26888-0f67-493a-b639-38bf28bae86b",
   "metadata": {},
   "source": [
    "- 上記の内容だけでは理解できないので pandas に移す"
   ]
  },
  {
   "cell_type": "markdown",
   "id": "c08b21b2-d7d1-47c0-8ce2-7ce2b3f09b87",
   "metadata": {},
   "source": [
    "## pandas で表示"
   ]
  },
  {
   "cell_type": "markdown",
   "id": "2e652e55-5737-475a-ae7a-182099aebe0c",
   "metadata": {},
   "source": [
    "- データをpandasに移す\n",
    "\n",
    "### データの概要\n",
    "|変数|説明|\n",
    "|:---|:---|\n",
    "|CRIM|犯罪発生率|\n",
    "|ZN|25,000平方フィート以上の住宅区画の割合|\n",
    "|INDUS|非小売業種の土地面積の割合|\n",
    "|CHAS|チャールズ川沿いかを表すダミー変数|\n",
    "|NOX|窒素酸化物の濃度|\n",
    "|RM|平均部屋数|\n",
    "|AGE|1940年より前に建てられた建物の割合|\n",
    "|DIS|5つのボストンの雇用施設への重み付き距離|\n",
    "|RAD|高速道路へのアクセスのしやすさ|\n",
    "|TAX|10,000ドルあたりの不動産税率|\n",
    "|PTRATIO|生徒と教師の割合|\n",
    "|B|黒人の割合|\n",
    "|LSTAT|低所得者の割合|\n",
    "|MEDV|住宅価格の中央値（1,000単位）|"
   ]
  },
  {
   "cell_type": "code",
   "execution_count": 8,
   "id": "317727f8-b0c0-45c1-a2b5-ac3a25af9b8e",
   "metadata": {},
   "outputs": [
    {
     "data": {
      "text/html": [
       "<div>\n",
       "<style scoped>\n",
       "    .dataframe tbody tr th:only-of-type {\n",
       "        vertical-align: middle;\n",
       "    }\n",
       "\n",
       "    .dataframe tbody tr th {\n",
       "        vertical-align: top;\n",
       "    }\n",
       "\n",
       "    .dataframe thead th {\n",
       "        text-align: right;\n",
       "    }\n",
       "</style>\n",
       "<table border=\"1\" class=\"dataframe\">\n",
       "  <thead>\n",
       "    <tr style=\"text-align: right;\">\n",
       "      <th></th>\n",
       "      <th>CRIM</th>\n",
       "      <th>ZN</th>\n",
       "      <th>INDUS</th>\n",
       "      <th>CHAS</th>\n",
       "      <th>NOX</th>\n",
       "      <th>RM</th>\n",
       "      <th>AGE</th>\n",
       "      <th>DIS</th>\n",
       "      <th>RAD</th>\n",
       "      <th>TAX</th>\n",
       "      <th>PTRATIO</th>\n",
       "      <th>B</th>\n",
       "      <th>LSTAT</th>\n",
       "      <th>MEDV</th>\n",
       "    </tr>\n",
       "  </thead>\n",
       "  <tbody>\n",
       "    <tr>\n",
       "      <th>0</th>\n",
       "      <td>0.00632</td>\n",
       "      <td>18.0</td>\n",
       "      <td>2.31</td>\n",
       "      <td>0.0</td>\n",
       "      <td>0.538</td>\n",
       "      <td>6.575</td>\n",
       "      <td>65.2</td>\n",
       "      <td>4.0900</td>\n",
       "      <td>1.0</td>\n",
       "      <td>296.0</td>\n",
       "      <td>15.3</td>\n",
       "      <td>396.90</td>\n",
       "      <td>4.98</td>\n",
       "      <td>24.0</td>\n",
       "    </tr>\n",
       "    <tr>\n",
       "      <th>1</th>\n",
       "      <td>0.02731</td>\n",
       "      <td>0.0</td>\n",
       "      <td>7.07</td>\n",
       "      <td>0.0</td>\n",
       "      <td>0.469</td>\n",
       "      <td>6.421</td>\n",
       "      <td>78.9</td>\n",
       "      <td>4.9671</td>\n",
       "      <td>2.0</td>\n",
       "      <td>242.0</td>\n",
       "      <td>17.8</td>\n",
       "      <td>396.90</td>\n",
       "      <td>9.14</td>\n",
       "      <td>21.6</td>\n",
       "    </tr>\n",
       "    <tr>\n",
       "      <th>2</th>\n",
       "      <td>0.02729</td>\n",
       "      <td>0.0</td>\n",
       "      <td>7.07</td>\n",
       "      <td>0.0</td>\n",
       "      <td>0.469</td>\n",
       "      <td>7.185</td>\n",
       "      <td>61.1</td>\n",
       "      <td>4.9671</td>\n",
       "      <td>2.0</td>\n",
       "      <td>242.0</td>\n",
       "      <td>17.8</td>\n",
       "      <td>392.83</td>\n",
       "      <td>4.03</td>\n",
       "      <td>34.7</td>\n",
       "    </tr>\n",
       "    <tr>\n",
       "      <th>3</th>\n",
       "      <td>0.03237</td>\n",
       "      <td>0.0</td>\n",
       "      <td>2.18</td>\n",
       "      <td>0.0</td>\n",
       "      <td>0.458</td>\n",
       "      <td>6.998</td>\n",
       "      <td>45.8</td>\n",
       "      <td>6.0622</td>\n",
       "      <td>3.0</td>\n",
       "      <td>222.0</td>\n",
       "      <td>18.7</td>\n",
       "      <td>394.63</td>\n",
       "      <td>2.94</td>\n",
       "      <td>33.4</td>\n",
       "    </tr>\n",
       "    <tr>\n",
       "      <th>4</th>\n",
       "      <td>0.06905</td>\n",
       "      <td>0.0</td>\n",
       "      <td>2.18</td>\n",
       "      <td>0.0</td>\n",
       "      <td>0.458</td>\n",
       "      <td>7.147</td>\n",
       "      <td>54.2</td>\n",
       "      <td>6.0622</td>\n",
       "      <td>3.0</td>\n",
       "      <td>222.0</td>\n",
       "      <td>18.7</td>\n",
       "      <td>396.90</td>\n",
       "      <td>5.33</td>\n",
       "      <td>36.2</td>\n",
       "    </tr>\n",
       "  </tbody>\n",
       "</table>\n",
       "</div>"
      ],
      "text/plain": [
       "      CRIM    ZN  INDUS  CHAS    NOX     RM   AGE     DIS  RAD    TAX  \\\n",
       "0  0.00632  18.0   2.31   0.0  0.538  6.575  65.2  4.0900  1.0  296.0   \n",
       "1  0.02731   0.0   7.07   0.0  0.469  6.421  78.9  4.9671  2.0  242.0   \n",
       "2  0.02729   0.0   7.07   0.0  0.469  7.185  61.1  4.9671  2.0  242.0   \n",
       "3  0.03237   0.0   2.18   0.0  0.458  6.998  45.8  6.0622  3.0  222.0   \n",
       "4  0.06905   0.0   2.18   0.0  0.458  7.147  54.2  6.0622  3.0  222.0   \n",
       "\n",
       "   PTRATIO       B  LSTAT  MEDV  \n",
       "0     15.3  396.90   4.98  24.0  \n",
       "1     17.8  396.90   9.14  21.6  \n",
       "2     17.8  392.83   4.03  34.7  \n",
       "3     18.7  394.63   2.94  33.4  \n",
       "4     18.7  396.90   5.33  36.2  "
      ]
     },
     "execution_count": 8,
     "metadata": {},
     "output_type": "execute_result"
    }
   ],
   "source": [
    "# 説明変数 （ boston.data ）をDataFrameに保存\n",
    "boston_df = pd.DataFrame(boston.data, columns=boston.feature_names)\n",
    "\n",
    "# 目的変数 ( boston.target )も DataFrameに追加\n",
    "boston_df['MEDV'] = boston.target\n",
    "\n",
    "boston_df.head()"
   ]
  },
  {
   "cell_type": "markdown",
   "id": "f02942bc-9064-4b01-a535-f17fcaa67629",
   "metadata": {},
   "source": [
    "## 回帰分析の実行"
   ]
  },
  {
   "cell_type": "markdown",
   "id": "8483c055-c8b3-4ce2-abc5-3c6527b1dd9e",
   "metadata": {},
   "source": [
    "### まずは...\n",
    "- *全ての data が必要か？ を見極める*\n",
    "    - パラメータ同士の相関関係を数値化する\n",
    "    - 相関関係のないパラメータ同士では回帰分析は出来ない\n",
    "    - **相関係数（そうかんけいすう）**で相関関係があるかどうか判断する\n",
    "        - 共分散と標準偏差を求めることにより計算可能\n",
    "\n",
    "### 共分散の式\n",
    "- **共分散** … 2つの変数の関係を表す値\n",
    "- 「事象$X$が起こるときに事象$Y$も起こる傾向があるか」のように2つの確率変数の関係性を表す\n",
    "    - 共分散が大きい（正）→ $X$ が大きいとき$Y$も大きい傾向がある\n",
    "    - 共分散が 0 に近い→ $X$と$Y$にあまり関係はない\n",
    "    - 共分散が小さい（負）→ $X$が大きいとき$Y$も小さい傾向がある\n",
    "- 事象$X$,$Y$の$n$個のデータ $X=\\{x_1,x_2,⋯x_n\\}$、$Y=\\{y_1,y_2,⋯,y_n\\}$\n",
    "\n",
    "$$\n",
    "    s_{xy} = \\frac{1}{n}\\sum_{i=1}^{n}(x_i-\\overline{x})(y_i-\\overline{y})\n",
    "$$\n",
    "<center>\n",
    "($\\overline{x}$: $X$の平均　$\\overline{y}$: $Y$の平均)\n",
    "</center>\n",
    "\n",
    "### X,Yの標準偏差\n",
    "$$\n",
    "    s_x=\\sqrt{\\frac{1}{n}\\sum_{i=1}^{n}(x_i-\\overline{x})^2 \\quad}  s_y=\\sqrt{\\frac{1}{n}\\sum_{i=1}^{n}(y_i-\\overline{y})^2 \\quad}\n",
    "$$\n",
    "\n",
    "\n",
    "\n",
    "### 相関係数の式\n",
    "- $X$,$Y$の値の共分散を$X$の標準偏差と$Y$の標準偏差で割ったもの\n",
    "- 共分散の問題点…客観的な評価が出来ない　→　相関係数を使用\n",
    "\n",
    "$$\n",
    "r = \\frac{s_{xy}}{s_x×s_y}\n",
    "$$\n",
    "\n",
    "\n",
    "### 相関係数の値\n",
    "|相関係数|相関の強さ|\n",
    "|:---|:---|\n",
    "|0.7 〜 1.0|強い正の相関|\n",
    "|0.4 〜 0.7|正の相関|\n",
    "|0.2 〜 0.4|弱い正の相関|\n",
    "|-0.2 〜 0.2|ほとんど相関関係がない|\n",
    "|-0.4 〜 -0.2|弱い負の相関|\n",
    "|-0.7 〜 -0.4|負の相関|\n",
    "|-1.0 〜 -0.7|強い負の相関|"
   ]
  },
  {
   "cell_type": "code",
   "execution_count": 9,
   "id": "123b5330-55be-4cf1-bd36-a660fb7e8d66",
   "metadata": {},
   "outputs": [
    {
     "data": {
      "text/html": [
       "<div>\n",
       "<style scoped>\n",
       "    .dataframe tbody tr th:only-of-type {\n",
       "        vertical-align: middle;\n",
       "    }\n",
       "\n",
       "    .dataframe tbody tr th {\n",
       "        vertical-align: top;\n",
       "    }\n",
       "\n",
       "    .dataframe thead th {\n",
       "        text-align: right;\n",
       "    }\n",
       "</style>\n",
       "<table border=\"1\" class=\"dataframe\">\n",
       "  <thead>\n",
       "    <tr style=\"text-align: right;\">\n",
       "      <th></th>\n",
       "      <th>CRIM</th>\n",
       "      <th>ZN</th>\n",
       "      <th>INDUS</th>\n",
       "      <th>CHAS</th>\n",
       "      <th>NOX</th>\n",
       "      <th>RM</th>\n",
       "      <th>AGE</th>\n",
       "      <th>DIS</th>\n",
       "      <th>RAD</th>\n",
       "      <th>TAX</th>\n",
       "      <th>PTRATIO</th>\n",
       "      <th>B</th>\n",
       "      <th>LSTAT</th>\n",
       "      <th>MEDV</th>\n",
       "    </tr>\n",
       "  </thead>\n",
       "  <tbody>\n",
       "    <tr>\n",
       "      <th>CRIM</th>\n",
       "      <td>1.000000</td>\n",
       "      <td>-0.200469</td>\n",
       "      <td>0.406583</td>\n",
       "      <td>-0.055892</td>\n",
       "      <td>0.420972</td>\n",
       "      <td>-0.219247</td>\n",
       "      <td>0.352734</td>\n",
       "      <td>-0.379670</td>\n",
       "      <td>0.625505</td>\n",
       "      <td>0.582764</td>\n",
       "      <td>0.289946</td>\n",
       "      <td>-0.385064</td>\n",
       "      <td>0.455621</td>\n",
       "      <td>-0.388305</td>\n",
       "    </tr>\n",
       "    <tr>\n",
       "      <th>ZN</th>\n",
       "      <td>-0.200469</td>\n",
       "      <td>1.000000</td>\n",
       "      <td>-0.533828</td>\n",
       "      <td>-0.042697</td>\n",
       "      <td>-0.516604</td>\n",
       "      <td>0.311991</td>\n",
       "      <td>-0.569537</td>\n",
       "      <td>0.664408</td>\n",
       "      <td>-0.311948</td>\n",
       "      <td>-0.314563</td>\n",
       "      <td>-0.391679</td>\n",
       "      <td>0.175520</td>\n",
       "      <td>-0.412995</td>\n",
       "      <td>0.360445</td>\n",
       "    </tr>\n",
       "    <tr>\n",
       "      <th>INDUS</th>\n",
       "      <td>0.406583</td>\n",
       "      <td>-0.533828</td>\n",
       "      <td>1.000000</td>\n",
       "      <td>0.062938</td>\n",
       "      <td>0.763651</td>\n",
       "      <td>-0.391676</td>\n",
       "      <td>0.644779</td>\n",
       "      <td>-0.708027</td>\n",
       "      <td>0.595129</td>\n",
       "      <td>0.720760</td>\n",
       "      <td>0.383248</td>\n",
       "      <td>-0.356977</td>\n",
       "      <td>0.603800</td>\n",
       "      <td>-0.483725</td>\n",
       "    </tr>\n",
       "    <tr>\n",
       "      <th>CHAS</th>\n",
       "      <td>-0.055892</td>\n",
       "      <td>-0.042697</td>\n",
       "      <td>0.062938</td>\n",
       "      <td>1.000000</td>\n",
       "      <td>0.091203</td>\n",
       "      <td>0.091251</td>\n",
       "      <td>0.086518</td>\n",
       "      <td>-0.099176</td>\n",
       "      <td>-0.007368</td>\n",
       "      <td>-0.035587</td>\n",
       "      <td>-0.121515</td>\n",
       "      <td>0.048788</td>\n",
       "      <td>-0.053929</td>\n",
       "      <td>0.175260</td>\n",
       "    </tr>\n",
       "    <tr>\n",
       "      <th>NOX</th>\n",
       "      <td>0.420972</td>\n",
       "      <td>-0.516604</td>\n",
       "      <td>0.763651</td>\n",
       "      <td>0.091203</td>\n",
       "      <td>1.000000</td>\n",
       "      <td>-0.302188</td>\n",
       "      <td>0.731470</td>\n",
       "      <td>-0.769230</td>\n",
       "      <td>0.611441</td>\n",
       "      <td>0.668023</td>\n",
       "      <td>0.188933</td>\n",
       "      <td>-0.380051</td>\n",
       "      <td>0.590879</td>\n",
       "      <td>-0.427321</td>\n",
       "    </tr>\n",
       "    <tr>\n",
       "      <th>RM</th>\n",
       "      <td>-0.219247</td>\n",
       "      <td>0.311991</td>\n",
       "      <td>-0.391676</td>\n",
       "      <td>0.091251</td>\n",
       "      <td>-0.302188</td>\n",
       "      <td>1.000000</td>\n",
       "      <td>-0.240265</td>\n",
       "      <td>0.205246</td>\n",
       "      <td>-0.209847</td>\n",
       "      <td>-0.292048</td>\n",
       "      <td>-0.355501</td>\n",
       "      <td>0.128069</td>\n",
       "      <td>-0.613808</td>\n",
       "      <td>0.695360</td>\n",
       "    </tr>\n",
       "    <tr>\n",
       "      <th>AGE</th>\n",
       "      <td>0.352734</td>\n",
       "      <td>-0.569537</td>\n",
       "      <td>0.644779</td>\n",
       "      <td>0.086518</td>\n",
       "      <td>0.731470</td>\n",
       "      <td>-0.240265</td>\n",
       "      <td>1.000000</td>\n",
       "      <td>-0.747881</td>\n",
       "      <td>0.456022</td>\n",
       "      <td>0.506456</td>\n",
       "      <td>0.261515</td>\n",
       "      <td>-0.273534</td>\n",
       "      <td>0.602339</td>\n",
       "      <td>-0.376955</td>\n",
       "    </tr>\n",
       "    <tr>\n",
       "      <th>DIS</th>\n",
       "      <td>-0.379670</td>\n",
       "      <td>0.664408</td>\n",
       "      <td>-0.708027</td>\n",
       "      <td>-0.099176</td>\n",
       "      <td>-0.769230</td>\n",
       "      <td>0.205246</td>\n",
       "      <td>-0.747881</td>\n",
       "      <td>1.000000</td>\n",
       "      <td>-0.494588</td>\n",
       "      <td>-0.534432</td>\n",
       "      <td>-0.232471</td>\n",
       "      <td>0.291512</td>\n",
       "      <td>-0.496996</td>\n",
       "      <td>0.249929</td>\n",
       "    </tr>\n",
       "    <tr>\n",
       "      <th>RAD</th>\n",
       "      <td>0.625505</td>\n",
       "      <td>-0.311948</td>\n",
       "      <td>0.595129</td>\n",
       "      <td>-0.007368</td>\n",
       "      <td>0.611441</td>\n",
       "      <td>-0.209847</td>\n",
       "      <td>0.456022</td>\n",
       "      <td>-0.494588</td>\n",
       "      <td>1.000000</td>\n",
       "      <td>0.910228</td>\n",
       "      <td>0.464741</td>\n",
       "      <td>-0.444413</td>\n",
       "      <td>0.488676</td>\n",
       "      <td>-0.381626</td>\n",
       "    </tr>\n",
       "    <tr>\n",
       "      <th>TAX</th>\n",
       "      <td>0.582764</td>\n",
       "      <td>-0.314563</td>\n",
       "      <td>0.720760</td>\n",
       "      <td>-0.035587</td>\n",
       "      <td>0.668023</td>\n",
       "      <td>-0.292048</td>\n",
       "      <td>0.506456</td>\n",
       "      <td>-0.534432</td>\n",
       "      <td>0.910228</td>\n",
       "      <td>1.000000</td>\n",
       "      <td>0.460853</td>\n",
       "      <td>-0.441808</td>\n",
       "      <td>0.543993</td>\n",
       "      <td>-0.468536</td>\n",
       "    </tr>\n",
       "    <tr>\n",
       "      <th>PTRATIO</th>\n",
       "      <td>0.289946</td>\n",
       "      <td>-0.391679</td>\n",
       "      <td>0.383248</td>\n",
       "      <td>-0.121515</td>\n",
       "      <td>0.188933</td>\n",
       "      <td>-0.355501</td>\n",
       "      <td>0.261515</td>\n",
       "      <td>-0.232471</td>\n",
       "      <td>0.464741</td>\n",
       "      <td>0.460853</td>\n",
       "      <td>1.000000</td>\n",
       "      <td>-0.177383</td>\n",
       "      <td>0.374044</td>\n",
       "      <td>-0.507787</td>\n",
       "    </tr>\n",
       "    <tr>\n",
       "      <th>B</th>\n",
       "      <td>-0.385064</td>\n",
       "      <td>0.175520</td>\n",
       "      <td>-0.356977</td>\n",
       "      <td>0.048788</td>\n",
       "      <td>-0.380051</td>\n",
       "      <td>0.128069</td>\n",
       "      <td>-0.273534</td>\n",
       "      <td>0.291512</td>\n",
       "      <td>-0.444413</td>\n",
       "      <td>-0.441808</td>\n",
       "      <td>-0.177383</td>\n",
       "      <td>1.000000</td>\n",
       "      <td>-0.366087</td>\n",
       "      <td>0.333461</td>\n",
       "    </tr>\n",
       "    <tr>\n",
       "      <th>LSTAT</th>\n",
       "      <td>0.455621</td>\n",
       "      <td>-0.412995</td>\n",
       "      <td>0.603800</td>\n",
       "      <td>-0.053929</td>\n",
       "      <td>0.590879</td>\n",
       "      <td>-0.613808</td>\n",
       "      <td>0.602339</td>\n",
       "      <td>-0.496996</td>\n",
       "      <td>0.488676</td>\n",
       "      <td>0.543993</td>\n",
       "      <td>0.374044</td>\n",
       "      <td>-0.366087</td>\n",
       "      <td>1.000000</td>\n",
       "      <td>-0.737663</td>\n",
       "    </tr>\n",
       "    <tr>\n",
       "      <th>MEDV</th>\n",
       "      <td>-0.388305</td>\n",
       "      <td>0.360445</td>\n",
       "      <td>-0.483725</td>\n",
       "      <td>0.175260</td>\n",
       "      <td>-0.427321</td>\n",
       "      <td>0.695360</td>\n",
       "      <td>-0.376955</td>\n",
       "      <td>0.249929</td>\n",
       "      <td>-0.381626</td>\n",
       "      <td>-0.468536</td>\n",
       "      <td>-0.507787</td>\n",
       "      <td>0.333461</td>\n",
       "      <td>-0.737663</td>\n",
       "      <td>1.000000</td>\n",
       "    </tr>\n",
       "  </tbody>\n",
       "</table>\n",
       "</div>"
      ],
      "text/plain": [
       "             CRIM        ZN     INDUS      CHAS       NOX        RM       AGE  \\\n",
       "CRIM     1.000000 -0.200469  0.406583 -0.055892  0.420972 -0.219247  0.352734   \n",
       "ZN      -0.200469  1.000000 -0.533828 -0.042697 -0.516604  0.311991 -0.569537   \n",
       "INDUS    0.406583 -0.533828  1.000000  0.062938  0.763651 -0.391676  0.644779   \n",
       "CHAS    -0.055892 -0.042697  0.062938  1.000000  0.091203  0.091251  0.086518   \n",
       "NOX      0.420972 -0.516604  0.763651  0.091203  1.000000 -0.302188  0.731470   \n",
       "RM      -0.219247  0.311991 -0.391676  0.091251 -0.302188  1.000000 -0.240265   \n",
       "AGE      0.352734 -0.569537  0.644779  0.086518  0.731470 -0.240265  1.000000   \n",
       "DIS     -0.379670  0.664408 -0.708027 -0.099176 -0.769230  0.205246 -0.747881   \n",
       "RAD      0.625505 -0.311948  0.595129 -0.007368  0.611441 -0.209847  0.456022   \n",
       "TAX      0.582764 -0.314563  0.720760 -0.035587  0.668023 -0.292048  0.506456   \n",
       "PTRATIO  0.289946 -0.391679  0.383248 -0.121515  0.188933 -0.355501  0.261515   \n",
       "B       -0.385064  0.175520 -0.356977  0.048788 -0.380051  0.128069 -0.273534   \n",
       "LSTAT    0.455621 -0.412995  0.603800 -0.053929  0.590879 -0.613808  0.602339   \n",
       "MEDV    -0.388305  0.360445 -0.483725  0.175260 -0.427321  0.695360 -0.376955   \n",
       "\n",
       "              DIS       RAD       TAX   PTRATIO         B     LSTAT      MEDV  \n",
       "CRIM    -0.379670  0.625505  0.582764  0.289946 -0.385064  0.455621 -0.388305  \n",
       "ZN       0.664408 -0.311948 -0.314563 -0.391679  0.175520 -0.412995  0.360445  \n",
       "INDUS   -0.708027  0.595129  0.720760  0.383248 -0.356977  0.603800 -0.483725  \n",
       "CHAS    -0.099176 -0.007368 -0.035587 -0.121515  0.048788 -0.053929  0.175260  \n",
       "NOX     -0.769230  0.611441  0.668023  0.188933 -0.380051  0.590879 -0.427321  \n",
       "RM       0.205246 -0.209847 -0.292048 -0.355501  0.128069 -0.613808  0.695360  \n",
       "AGE     -0.747881  0.456022  0.506456  0.261515 -0.273534  0.602339 -0.376955  \n",
       "DIS      1.000000 -0.494588 -0.534432 -0.232471  0.291512 -0.496996  0.249929  \n",
       "RAD     -0.494588  1.000000  0.910228  0.464741 -0.444413  0.488676 -0.381626  \n",
       "TAX     -0.534432  0.910228  1.000000  0.460853 -0.441808  0.543993 -0.468536  \n",
       "PTRATIO -0.232471  0.464741  0.460853  1.000000 -0.177383  0.374044 -0.507787  \n",
       "B        0.291512 -0.444413 -0.441808 -0.177383  1.000000 -0.366087  0.333461  \n",
       "LSTAT   -0.496996  0.488676  0.543993  0.374044 -0.366087  1.000000 -0.737663  \n",
       "MEDV     0.249929 -0.381626 -0.468536 -0.507787  0.333461 -0.737663  1.000000  "
      ]
     },
     "execution_count": 9,
     "metadata": {},
     "output_type": "execute_result"
    }
   ],
   "source": [
    "# 相関係数を導き出す / .corr() 全ての　paramerter の相関係数を　DataFrameで出力してくれる\n",
    "boston_df.corr()"
   ]
  },
  {
   "cell_type": "markdown",
   "id": "42b97f81-0ece-4234-a08f-ac5556522c84",
   "metadata": {},
   "source": [
    "### 正の相関\n",
    "- RM ( 平均部屋数 )と MEDV ( 住宅価格 )の散布図\n",
    "- 正の相関 ( 相関係数 : 0.695360 ) がある"
   ]
  },
  {
   "cell_type": "code",
   "execution_count": 10,
   "id": "299abdbe-899b-4100-bb14-2bbe8ceb5979",
   "metadata": {},
   "outputs": [
    {
     "data": {
      "image/png": "[encoded data removed]",
      "text/plain": [
       "<Figure size 432x288 with 1 Axes>"
      ]
     },
     "metadata": {
      "needs_background": "light"
     },
     "output_type": "display_data"
    }
   ],
   "source": [
    "# DataFrame から numpy.ndarray に変換\n",
    "X = boston_df[['RM']].values\n",
    "Y = boston_df[['MEDV']].values\n",
    "plt.scatter(X, Y, alpha=0.4)\n",
    "\n",
    "plt.title('Scatter Plot of RM vs MEDV')\n",
    "plt.xlabel('Average number of rooms [RM]')\n",
    "plt.ylabel('Prices in $1000\\'s [MEDV]')\n",
    "plt.grid()\n",
    "plt.show()"
   ]
  },
  {
   "cell_type": "markdown",
   "id": "288de9cc-d7c6-4d9b-9448-243c7572d883",
   "metadata": {},
   "source": [
    "- **見るからに右肩上がりの直線が引ける形になっている**\n",
    "    - 関係性が見られる"
   ]
  },
  {
   "cell_type": "markdown",
   "id": "a80f2226-785b-44a4-9afa-d58a3c29dee0",
   "metadata": {},
   "source": [
    "### 負の相関\n",
    "- LSTAT ( 低所得者の割合 ) と MEDV ( 住宅価格 ) の散布図\n",
    "- 負の相関 ( 相関係数 : -0.737663 ) がある"
   ]
  },
  {
   "cell_type": "code",
   "execution_count": 11,
   "id": "27cb8df0-1e26-430c-8f7e-ff231cf0be50",
   "metadata": {},
   "outputs": [
    {
     "data": {
      "image/png": "[encoded data removed]",
      "text/plain": [
       "<Figure size 432x288 with 1 Axes>"
      ]
     },
     "metadata": {
      "needs_background": "light"
     },
     "output_type": "display_data"
    }
   ],
   "source": [
    "# DataFrame -> numpy.ndarrayへ\n",
    "X = boston_df[['LSTAT']].values\n",
    "Y = boston_df[['MEDV']].values\n",
    "plt.scatter(X, Y, alpha=0.4)\n",
    "plt.title('Scatter Plot of RM vs MEDV')\n",
    "plt.xlabel('Average number of rooms [RM]')\n",
    "plt.ylabel('Prices in $1000\\'s [MEDV]')\n",
    "plt.grid()\n",
    "plt.show()"
   ]
  },
  {
   "cell_type": "markdown",
   "id": "38c42a96-545b-4878-bf24-ec0b29c029f3",
   "metadata": {},
   "source": [
    "- **右肩下がりでこちらも関係性が見て取れる**"
   ]
  },
  {
   "cell_type": "markdown",
   "id": "f5f938fe-4e84-41de-9df4-e29a279b450c",
   "metadata": {},
   "source": [
    "### 相関係数が低いもので実施\n",
    "- DIS(5つのボストンの雇用施設への重み付き距離)とMEDV(住宅価格)の散布図\n",
    "- 弱い正の相関（相関係数：0.249929）がある"
   ]
  },
  {
   "cell_type": "code",
   "execution_count": 12,
   "id": "4ea8d996-0cb9-4e77-b26b-82195a3b28c2",
   "metadata": {},
   "outputs": [
    {
     "data": {
      "image/png": "[encoded data removed]",
      "text/plain": [
       "<Figure size 432x288 with 1 Axes>"
      ]
     },
     "metadata": {
      "needs_background": "light"
     },
     "output_type": "display_data"
    }
   ],
   "source": [
    "# DataFrameからnumpy.ndarrayに変換\n",
    "X = boston_df[['DIS']].values\n",
    "Y = boston_df[['MEDV']].values\n",
    "# 散布図を描画\n",
    "plt.scatter(X, Y, alpha=0.4) \n",
    "\n",
    "plt.title('Scatter Plot of DIS vs MEDV')\n",
    "plt.xlabel('weighted distances to five Boston employment centres[DIS]') \n",
    "plt.ylabel('Prices in $1000\\'s [MEDV]')\n",
    "plt.grid()\n",
    "plt.show()"
   ]
  },
  {
   "cell_type": "markdown",
   "id": "db5dbf23-98f2-4524-87ef-9ab009640761",
   "metadata": {},
   "source": [
    "- 相関係数が弱いと中々関係性を見つける事は難しくなる"
   ]
  },
  {
   "cell_type": "markdown",
   "id": "53308aba-52c4-42cf-a0f1-bf182c6a6b65",
   "metadata": {},
   "source": [
    "## 回帰分析"
   ]
  },
  {
   "cell_type": "markdown",
   "id": "8e317453-fcd6-46a5-86d2-3fb8d06a5d9b",
   "metadata": {
    "tags": []
   },
   "source": [
    "- **回帰分析を行う**\n",
    "    1. data を学習用, test用に 7 : 3 に分割する\n",
    "    1. LinearRegression class の instance を生成\n",
    "    1. fit method で学習 data を与える\n",
    "    1. `最小二乗法`\n",
    "        - 単回帰直線を求める\n",
    "        - 誤差の2乗の和を最小にすることで、最も確からしい関係式を求める\n",
    "    1. 説明変数の係数と切片が得られる\n",
    "\n",
    "\n",
    "### 得られる式\n",
    "$$y　=　ax+b$$\n",
    "\n",
    "\n",
    "|パラメータ|概要|\n",
    "|:---:|:---|\n",
    "|$x$|説明変数|\n",
    "|$y$|目的変数\n",
    "|$a$|説明変数$x$の係数|\n",
    "|$b$|切片|"
   ]
  },
  {
   "cell_type": "code",
   "execution_count": 13,
   "id": "7f1436dd-34cf-40a9-8a6d-ebbf7dfd68f1",
   "metadata": {},
   "outputs": [
    {
     "name": "stdout",
     "output_type": "stream",
     "text": [
      "coefficient = [8.46109164]\n",
      "intercept = [-30.57103241]\n"
     ]
    }
   ],
   "source": [
    "# 一旦　RM と EV の値を numpy の配列に直す\n",
    "X = boston_df[['RM']].values      # 部屋数\n",
    "Y = boston_df[['MEDV']].values    # 価格の中央値\n",
    "\n",
    "# data を学習用と検証用に分割 / train size : 70%を学習用として切り取る\n",
    "X_train, X_test, Y_train, Y_test = train_test_split(X, Y, train_size = 0.7)\n",
    "\n",
    "# 線形回帰の学習器の生成\n",
    "lr = LinearRegression()\n",
    "\n",
    "# 線形モデルの重みを学習\n",
    "lr.fit(X_train, Y_train)\n",
    "\n",
    "print(f'coefficient = {lr.coef_[0]}')  # 説明変数の係数を出力 : a\n",
    "print(f'intercept = {lr.intercept_}')  # 切片を出力 : b"
   ]
  },
  {
   "cell_type": "markdown",
   "id": "556f21d7-2b1e-4496-b328-6c850955bfbd",
   "metadata": {},
   "source": [
    "- **X or Y _train**\n",
    "    - X or Y の学習用 data : 70%\n",
    "\n",
    "\n",
    "- **X or Y _test**\n",
    "    - X or Y の test用 data : 30%\n",
    "\n",
    "\n",
    "- **train_test_split**\n",
    "    - random に中でシャッフルしている\n",
    "    - random.seed(1) で種を指定しているので同じ検証結果が返ってくる\n"
   ]
  },
  {
   "cell_type": "markdown",
   "id": "5deb7b54-3aa9-4709-bd78-928806869cd6",
   "metadata": {},
   "source": [
    "### 散布図に直線をplot"
   ]
  },
  {
   "cell_type": "code",
   "execution_count": 14,
   "id": "14a91d21-9498-4072-9998-5b2c76fd8ba1",
   "metadata": {},
   "outputs": [
    {
     "data": {
      "image/png": "[encoded data removed]",
      "text/plain": [
       "<Figure size 432x288 with 1 Axes>"
      ]
     },
     "metadata": {
      "needs_background": "light"
     },
     "output_type": "display_data"
    }
   ],
   "source": [
    "# 線形回帰モデルの直線と散布図をplot\n",
    "\n",
    "# 説明変数と目的変数の　data　を plot\n",
    "plt.scatter(X, Y, alpha=0.4)\n",
    "plt.plot(X, lr.predict(X), color='r')      # 回帰直線を　plot\n",
    "plt.title('Regreesion Line')\n",
    "plt.xlabel('Average number of rooms [RM]')\n",
    "plt.ylabel('Prices in $1000\\'s [MEDV]')\n",
    "plt.grid()\n",
    "plt.show()"
   ]
  },
  {
   "cell_type": "markdown",
   "id": "9bebc4d1-44b3-48ce-9aea-6493e92ba3f8",
   "metadata": {},
   "source": [
    "## 回帰分析の評価\n",
    "- **予測結果が妥当かどうかを調べる必要がある**\n",
    "\n",
    "\n",
    "- 残差を plot して回帰分析の性能を視覚的に評価\n",
    "- 回帰直線, 散布図の点の差を描画\n",
    "    - *縦軸　:　残差*\n",
    "    - *横軸　:　予測値*"
   ]
  },
  {
   "cell_type": "code",
   "execution_count": 15,
   "id": "c7500999-a0a6-40cd-9890-2caf172bbfe2",
   "metadata": {},
   "outputs": [
    {
     "data": {
      "image/png": "[encoded data removed]",
      "text/plain": [
       "<Figure size 432x288 with 1 Axes>"
      ]
     },
     "metadata": {
      "needs_background": "light"
     },
     "output_type": "display_data"
    }
   ],
   "source": [
    "# 検証 data を用いて目的変数を予測する\n",
    "Y_pred = lr.predict(X_test)\n",
    "\n",
    "# 残差を plot\n",
    "plt.scatter(Y_pred, Y_pred - Y_test, alpha=0.4)\n",
    "\n",
    "# x軸に沿った直線を plot\n",
    "plt.hlines(y = 0, xmin = -10, xmax = 50, color = 'r')  # horizontal line : 水平線\n",
    "plt.title('Residual Plot')\n",
    "plt.xlabel('Predicted Values')\n",
    "plt.ylabel('Residuals')\n",
    "plt.grid()\n",
    "plt.show()"
   ]
  },
  {
   "cell_type": "markdown",
   "id": "2b4825d8-0baf-49a9-a81d-d15a1f7fdebd",
   "metadata": {},
   "source": [
    "#### 予測性能が良ければ残差は小さくなる"
   ]
  },
  {
   "cell_type": "markdown",
   "id": "ef8843da-6741-4d22-9449-35526d36971c",
   "metadata": {},
   "source": [
    "### `平均二乗誤差`\n",
    "- *Mean Squared Error*\n",
    "    - **機械学習の場合 Error は 誤差という意味**\n",
    "        - Mean　:　平均\n",
    "        - Squared　:　異常\n",
    "        - Error　:　誤差\n",
    "\n",
    "\n",
    "- **実際の値と線形回帰モデルによる予測値のズレ（誤差）がどれだけあるかを示す**\n",
    "    - 値が小さければ小さいほど良いモデル\n",
    "\n",
    "\n",
    "<div>\n",
    "<img src=\"../Resources/img/regression_difference.png\">\n",
    "</div>\n",
    "\n",
    "\n",
    "$$\n",
    "    MSE = \\frac{1}{n}\\sum_{i=1}^{n}(y_i-\\hat{y_i})^2\n",
    "$$\n",
    "<center>\n",
    "($y_i$:$i$番目の実際の値　　$\\hat{y_i}$:$i$番目の予測値)\n",
    "</center>\n",
    "\n",
    "\n",
    "### 誤差の２乗の平均　=　MSE　"
   ]
  },
  {
   "cell_type": "code",
   "execution_count": 16,
   "id": "0de7846e-04b2-4451-bb3d-b17042d4fffd",
   "metadata": {},
   "outputs": [
    {
     "name": "stdout",
     "output_type": "stream",
     "text": [
      "MSE train data: 46.938573719831254\n",
      "MSE test data: 36.517214730838624\n"
     ]
    }
   ],
   "source": [
    "#　平均二乗誤差による評価\n",
    "from sklearn.metrics import mean_squared_error\n",
    "\n",
    "# 学習 data に対する目的変数を予測\n",
    "Y_train_pred = lr.predict(X_train)\n",
    "\n",
    "# test data に対する目的変数を予測\n",
    "Y_test_pred = lr.predict(X_test)\n",
    "\n",
    "# 学習 data, test data を用いた時の平均二乗誤差\n",
    "print(f'MSE train data: {mean_squared_error(Y_train, Y_train_pred)}')\n",
    "print(f'MSE test data: {mean_squared_error(Y_test, Y_test_pred)}')"
   ]
  },
  {
   "cell_type": "markdown",
   "id": "e4cf7be5-1e0f-480a-8d1d-2608542ab508",
   "metadata": {},
   "source": [
    "## 決定係数\n",
    "- 決定係数$R^2$スコア\n",
    "- 0.0〜1.0の範囲の値をとる\n",
    "- 値が大きいほどモデルが適切にデータを表現できている\n",
    "- MSEよりも客観的な評価が可能\n",
    "\n",
    "$$\n",
    "    R^2 = 1 - \\frac{\\sum_{i=1}^{n}(y_i-\\hat{y_i})^2}{\\sum_{i=1}^{n}(y_i-\\bar{y})^2}\n",
    "$$\n",
    "\n",
    "<center>\n",
    "($y_i$:$i$番目の実際の値　\n",
    "$\\bar{y}$:実際の値の平均値　\n",
    "$\\hat{y_i}$:$i$番目の予測値)\n",
    "</center>\n",
    "\n",
    "### 決定係数の判断基準の目安\n",
    "|$R^2$|判断内容|\n",
    "|---|:---|\n",
    "|0.6以下|モデルとして意味なしていない|\n",
    "|0.8～0.9|かなり良いモデル|\n",
    "|0.9以上|過学習の可能性がある|"
   ]
  },
  {
   "cell_type": "code",
   "execution_count": 22,
   "id": "dee442e3-d40f-40e1-806d-461cbc7a15d0",
   "metadata": {},
   "outputs": [
    {
     "name": "stdout",
     "output_type": "stream",
     "text": [
      "r^2 train data:  0.5381606119103881\n",
      "r^2 train data:  0.5574346656874105\n"
     ]
    }
   ],
   "source": [
    "# 決定係数 ( R2スコア )による評価\n",
    "from sklearn.metrics import r2_score\n",
    "print(f'r^2 train data: ', r2_score(Y_train, Y_train_pred))\n",
    "print(f'r^2 train data: ', r2_score(Y_test, Y_test_pred))"
   ]
  },
  {
   "cell_type": "markdown",
   "id": "a4de6a20-b990-4730-aaa2-278000c03830",
   "metadata": {},
   "source": [
    "#### 学習用とtest用の　$R^2$　の乖離が大きい　=　汎化性能は低い\n",
    "- いま出したモデルはあまり良いモデルではない\n",
    "    - 学習の時のdataの取得の仕方が悪い\n",
    "    - 説明変数として RM ( 平均部屋数 ) だけでは不十分ではないのか？\n",
    "        - **２つの原因が考えられる**"
   ]
  },
  {
   "cell_type": "markdown",
   "id": "a8efeb77-a848-45da-a924-640e6311b94f",
   "metadata": {},
   "source": [
    "## 問題"
   ]
  },
  {
   "cell_type": "code",
   "execution_count": 30,
   "id": "3112ab9a-510a-4af3-9841-46b8a83587e8",
   "metadata": {},
   "outputs": [
    {
     "data": {
      "text/plain": [
       "dict_keys(['data', 'target', 'feature_names', 'DESCR', 'filename'])"
      ]
     },
     "execution_count": 30,
     "metadata": {},
     "output_type": "execute_result"
    }
   ],
   "source": [
    "boston.keys()"
   ]
  },
  {
   "cell_type": "code",
   "execution_count": 31,
   "id": "bc592b06-c098-48ae-8107-759dac6859a0",
   "metadata": {},
   "outputs": [
    {
     "data": {
      "text/html": [
       "<div>\n",
       "<style scoped>\n",
       "    .dataframe tbody tr th:only-of-type {\n",
       "        vertical-align: middle;\n",
       "    }\n",
       "\n",
       "    .dataframe tbody tr th {\n",
       "        vertical-align: top;\n",
       "    }\n",
       "\n",
       "    .dataframe thead th {\n",
       "        text-align: right;\n",
       "    }\n",
       "</style>\n",
       "<table border=\"1\" class=\"dataframe\">\n",
       "  <thead>\n",
       "    <tr style=\"text-align: right;\">\n",
       "      <th></th>\n",
       "      <th>CRIM</th>\n",
       "      <th>ZN</th>\n",
       "      <th>INDUS</th>\n",
       "      <th>CHAS</th>\n",
       "      <th>NOX</th>\n",
       "      <th>RM</th>\n",
       "      <th>AGE</th>\n",
       "      <th>DIS</th>\n",
       "      <th>RAD</th>\n",
       "      <th>TAX</th>\n",
       "      <th>PTRATIO</th>\n",
       "      <th>B</th>\n",
       "      <th>LSTAT</th>\n",
       "      <th>MEDV</th>\n",
       "    </tr>\n",
       "  </thead>\n",
       "  <tbody>\n",
       "    <tr>\n",
       "      <th>0</th>\n",
       "      <td>0.00632</td>\n",
       "      <td>18.0</td>\n",
       "      <td>2.31</td>\n",
       "      <td>0.0</td>\n",
       "      <td>0.538</td>\n",
       "      <td>6.575</td>\n",
       "      <td>65.2</td>\n",
       "      <td>4.0900</td>\n",
       "      <td>1.0</td>\n",
       "      <td>296.0</td>\n",
       "      <td>15.3</td>\n",
       "      <td>396.90</td>\n",
       "      <td>4.98</td>\n",
       "      <td>24.0</td>\n",
       "    </tr>\n",
       "    <tr>\n",
       "      <th>1</th>\n",
       "      <td>0.02731</td>\n",
       "      <td>0.0</td>\n",
       "      <td>7.07</td>\n",
       "      <td>0.0</td>\n",
       "      <td>0.469</td>\n",
       "      <td>6.421</td>\n",
       "      <td>78.9</td>\n",
       "      <td>4.9671</td>\n",
       "      <td>2.0</td>\n",
       "      <td>242.0</td>\n",
       "      <td>17.8</td>\n",
       "      <td>396.90</td>\n",
       "      <td>9.14</td>\n",
       "      <td>21.6</td>\n",
       "    </tr>\n",
       "    <tr>\n",
       "      <th>2</th>\n",
       "      <td>0.02729</td>\n",
       "      <td>0.0</td>\n",
       "      <td>7.07</td>\n",
       "      <td>0.0</td>\n",
       "      <td>0.469</td>\n",
       "      <td>7.185</td>\n",
       "      <td>61.1</td>\n",
       "      <td>4.9671</td>\n",
       "      <td>2.0</td>\n",
       "      <td>242.0</td>\n",
       "      <td>17.8</td>\n",
       "      <td>392.83</td>\n",
       "      <td>4.03</td>\n",
       "      <td>34.7</td>\n",
       "    </tr>\n",
       "    <tr>\n",
       "      <th>3</th>\n",
       "      <td>0.03237</td>\n",
       "      <td>0.0</td>\n",
       "      <td>2.18</td>\n",
       "      <td>0.0</td>\n",
       "      <td>0.458</td>\n",
       "      <td>6.998</td>\n",
       "      <td>45.8</td>\n",
       "      <td>6.0622</td>\n",
       "      <td>3.0</td>\n",
       "      <td>222.0</td>\n",
       "      <td>18.7</td>\n",
       "      <td>394.63</td>\n",
       "      <td>2.94</td>\n",
       "      <td>33.4</td>\n",
       "    </tr>\n",
       "    <tr>\n",
       "      <th>4</th>\n",
       "      <td>0.06905</td>\n",
       "      <td>0.0</td>\n",
       "      <td>2.18</td>\n",
       "      <td>0.0</td>\n",
       "      <td>0.458</td>\n",
       "      <td>7.147</td>\n",
       "      <td>54.2</td>\n",
       "      <td>6.0622</td>\n",
       "      <td>3.0</td>\n",
       "      <td>222.0</td>\n",
       "      <td>18.7</td>\n",
       "      <td>396.90</td>\n",
       "      <td>5.33</td>\n",
       "      <td>36.2</td>\n",
       "    </tr>\n",
       "  </tbody>\n",
       "</table>\n",
       "</div>"
      ],
      "text/plain": [
       "      CRIM    ZN  INDUS  CHAS    NOX     RM   AGE     DIS  RAD    TAX  \\\n",
       "0  0.00632  18.0   2.31   0.0  0.538  6.575  65.2  4.0900  1.0  296.0   \n",
       "1  0.02731   0.0   7.07   0.0  0.469  6.421  78.9  4.9671  2.0  242.0   \n",
       "2  0.02729   0.0   7.07   0.0  0.469  7.185  61.1  4.9671  2.0  242.0   \n",
       "3  0.03237   0.0   2.18   0.0  0.458  6.998  45.8  6.0622  3.0  222.0   \n",
       "4  0.06905   0.0   2.18   0.0  0.458  7.147  54.2  6.0622  3.0  222.0   \n",
       "\n",
       "   PTRATIO       B  LSTAT  MEDV  \n",
       "0     15.3  396.90   4.98  24.0  \n",
       "1     17.8  396.90   9.14  21.6  \n",
       "2     17.8  392.83   4.03  34.7  \n",
       "3     18.7  394.63   2.94  33.4  \n",
       "4     18.7  396.90   5.33  36.2  "
      ]
     },
     "execution_count": 31,
     "metadata": {},
     "output_type": "execute_result"
    }
   ],
   "source": [
    "boston_df = pd.DataFrame(boston.data, columns=boston.feature_names)\n",
    "boston_df['MEDV'] = boston.target\n",
    "boston_df.head()"
   ]
  },
  {
   "cell_type": "code",
   "execution_count": 32,
   "id": "273af65d-c302-4006-b137-36d858d8c3f7",
   "metadata": {},
   "outputs": [
    {
     "data": {
      "image/png": "[encoded data removed]",
      "text/plain": [
       "<Figure size 432x288 with 1 Axes>"
      ]
     },
     "metadata": {
      "needs_background": "light"
     },
     "output_type": "display_data"
    }
   ],
   "source": [
    "X = boston_df[['LSTAT']].values\n",
    "Y = boston_df[['MEDV']].values\n",
    "plt.scatter(X, Y, alpha = 0.4)\n",
    "plt.title('Scatter Plot of LSTAT vs MEDV')\n",
    "plt.xlabel('%lower status of the population[LSTAT]')\n",
    "plt.ylabel('Prices in $1000\\'s[MEDV]')\n",
    "plt.grid()\n",
    "plt.show()"
   ]
  },
  {
   "cell_type": "code",
   "execution_count": 33,
   "id": "35956826-1584-4eb6-b3b9-770d9692db2f",
   "metadata": {},
   "outputs": [
    {
     "name": "stdout",
     "output_type": "stream",
     "text": [
      "傾き: a [-0.9166916]\n",
      "切片: b [34.22183685]\n"
     ]
    }
   ],
   "source": [
    "X_train, X_test, Y_train, Y_test = train_test_split(X, Y, train_size=0.7)\n",
    "lr = LinearRegression()\n",
    "lr.fit(X_train, Y_train)\n",
    "print(f'傾き: a {lr.coef_[0]}\\n切片: b {lr.intercept_}')"
   ]
  },
  {
   "cell_type": "code",
   "execution_count": 34,
   "id": "1ed19c5e-f9f7-4f64-9560-419946ba481c",
   "metadata": {},
   "outputs": [
    {
     "data": {
      "image/png": "[encoded data removed]",
      "text/plain": [
       "<Figure size 432x288 with 1 Axes>"
      ]
     },
     "metadata": {
      "needs_background": "light"
     },
     "output_type": "display_data"
    }
   ],
   "source": [
    "plt.scatter(X, Y, alpha=0.4)\n",
    "plt.plot(X, lr.predict(X), color='r')\n",
    "plt.title('Scatter Plot of LSTAT vs MEDV')\n",
    "plt.xlabel('%lower status of the population[LSTAT]')\n",
    "plt.ylabel('Prices in $1000\\'s[MEDV]')\n",
    "plt.grid()\n",
    "plt.show()"
   ]
  },
  {
   "cell_type": "code",
   "execution_count": 38,
   "id": "28c23eb4-0024-46f7-a3a4-7eb225d6abeb",
   "metadata": {},
   "outputs": [
    {
     "name": "stdout",
     "output_type": "stream",
     "text": [
      "train: 36.79905478327651\n",
      "test: 42.620243471539716\n"
     ]
    }
   ],
   "source": [
    "from sklearn.metrics import mean_squared_error\n",
    "Y_train_pred = lr.predict(X_train)\n",
    "Y_test_pred =lr.predict(X_test)\n",
    "print(f'train: {mean_squared_error(Y_train, Y_train_pred)}')\n",
    "print(f'test: {mean_squared_error(Y_test, Y_test_pred)}')"
   ]
  },
  {
   "cell_type": "code",
   "execution_count": 39,
   "id": "8e31ce20-507a-46ae-8bea-44fe7de1d913",
   "metadata": {},
   "outputs": [
    {
     "name": "stdout",
     "output_type": "stream",
     "text": [
      "r^2 train data: 0.5467486221534437\n",
      "r^2 test data: 0.5349901044757203\n"
     ]
    }
   ],
   "source": [
    "from sklearn.metrics import r2_score\n",
    "print(f'r^2 train data: {r2_score(Y_train, Y_train_pred)}')\n",
    "print(f'r^2 test data: {r2_score(Y_test, Y_test_pred)}')"
   ]
  },
  {
   "cell_type": "code",
   "execution_count": null,
   "id": "e2c8fb02-b48c-4ad2-8f44-fabd7cabcd19",
   "metadata": {},
   "outputs": [],
   "source": []
  }
 ],
 "metadata": {
  "kernelspec": {
   "display_name": "Python 3",
   "language": "python",
   "name": "python3"
  },
  "language_info": {
   "codemirror_mode": {
    "name": "ipython",
    "version": 3
   },
   "file_extension": ".py",
   "mimetype": "text/x-python",
   "name": "python",
   "nbconvert_exporter": "python",
   "pygments_lexer": "ipython3",
   "version": "3.8.8"
  }
 },
 "nbformat": 4,
 "nbformat_minor": 5
}
