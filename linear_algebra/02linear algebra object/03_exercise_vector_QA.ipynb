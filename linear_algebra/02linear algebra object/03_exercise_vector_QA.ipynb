{
 "cells": [
  {
   "cell_type": "markdown",
   "metadata": {},
   "source": [
    "# ベクトル演算の演習問題\n",
    "\n",
    "ここでは，ベクトルの演算についての演習を行います．\n",
    "これらの問題について，最初に紙に書いて手計算で解いてください．その後でPythonを使って解いてください． 最初からPythonで解いてしまうと考え方が頭の中で定着しませんので，手間はかかりますがまずは手計算を実施してください．"
   ]
  },
  {
   "cell_type": "markdown",
   "metadata": {},
   "source": [
    "### 問題1\n",
    "\n",
    "ベクトルに関する次の計算を実施せよ．\n",
    "\n",
    "$4\\left(\\begin{array}{c} 8 \\\\ 5 \\end{array} \\right) =$\n",
    "\n",
    "$\\left(\\begin{array}{c} -48 \\\\ 30 \\end{array} \\right)\\div 3 =$\n",
    "\n",
    "$\\left(\\begin{array}{c} 10 \\\\ 20 \\end{array} \\right) + \\left(\\begin{array}{c} 1 \\\\ 2 \\end{array} \\right)=$\n",
    "\n",
    "$\\left(\\begin{array}{c} -7 \\\\ 12 \\end{array} \\right) - \\left(\\begin{array}{c} -10 \\\\ 9 \\end{array} \\right)=$\n",
    "\n",
    "$\\frac{1}{3}\\left(\\begin{array}{c} 9 \\\\ 18 \\\\ 27 \\end{array} \\right) + 2\\left(\\begin{array}{c} \\frac{1}{2} \\\\ 4 \\\\ -3 \\end{array} \\right)=$\n",
    "\n",
    "$2\\left(\\begin{array}{c} 1 \\\\ i \\end{array} \\right) - 2i\\left(\\begin{array}{c} -i \\\\ 1 \\end{array} \\right)=$\n",
    "\n",
    "ここで$i$は虚数単位です．"
   ]
  },
  {
   "cell_type": "markdown",
   "metadata": {},
   "source": [
    "### 問題2\n",
    "スカラー$a=\\frac{2}{3}$およびベクトル${\\bf b}=\\left(\\begin{array}{c} 18 \\\\ -4 \\end{array} \\right)$としたとき，$a{\\bf x}-{\\bf b}={\\bf 0}$となる2次元ベクトル${\\bf x}$を求めよ．\n",
    "ここで，${\\bf 0}=\\left(\\begin{array}{c} 0 \\\\ 0 \\end{array}\\right)$である．"
   ]
  },
  {
   "cell_type": "markdown",
   "metadata": {},
   "source": [
    "*****\n",
    "## 演習問題の解答\n",
    "\n",
    "各問題を順番に解いていきます．\n",
    "最初に手計算で解答し，その後，Pythonによる解答を示します．"
   ]
  },
  {
   "cell_type": "markdown",
   "metadata": {},
   "source": [
    "Pythonでは配列計算ライブラリーNumPyを使用するので，事前にインポートします．\n",
    "\n",
    "> <font color=green>import</font> numpy <font color=green>as</font> np"
   ]
  },
  {
   "cell_type": "code",
   "execution_count": 1,
   "metadata": {},
   "outputs": [],
   "source": [
    "import numpy as np"
   ]
  },
  {
   "cell_type": "markdown",
   "metadata": {},
   "source": [
    "### 問題1の解答\n",
    "最初の計算問題です．"
   ]
  },
  {
   "cell_type": "markdown",
   "metadata": {},
   "source": [
    "<font color=green>$4\\left(\\begin{array}{c} 8 \\\\ 5 \\end{array} \\right)$</font>\n",
    "$=\n",
    "\\left(\\begin{array}{c} 4\\times8 \\\\ 4\\times5 \\end{array} \\right) =\n",
    "\\left(\\begin{array}{c} 32 \\\\ 20 \\end{array} \\right)$\n",
    "\n",
    "となります．\n",
    "この計算をPythonで確認します．\n",
    "計算式の中にNumPyの配列定義を直接記載します．\n",
    "\n",
    "> 4 * np.array([8,5])"
   ]
  },
  {
   "cell_type": "code",
   "execution_count": 2,
   "metadata": {},
   "outputs": [
    {
     "data": {
      "text/plain": [
       "array([32, 20])"
      ]
     },
     "execution_count": 2,
     "metadata": {},
     "output_type": "execute_result"
    }
   ],
   "source": [
    "4 * np.array([8, 5])"
   ]
  },
  {
   "cell_type": "markdown",
   "metadata": {},
   "source": [
    "2番目の計算問題です．\n",
    "\n",
    "<font color=green>$\\left(\\begin{array}{c} -48 \\\\ 30 \\end{array} \\right)\\div 3$</font>\n",
    "$=\n",
    "\\left(\\begin{array}{c} -48\\div3 \\\\ 30\\div3 \\end{array} \\right) =\n",
    "\\left(\\begin{array}{c} -16 \\\\ 10 \\end{array} \\right)$\n",
    "\n",
    "となります．\n",
    "Pythonでは次の通りです．\n",
    "\n",
    "> np.array([-48,30]) / 3"
   ]
  },
  {
   "cell_type": "code",
   "execution_count": 4,
   "metadata": {},
   "outputs": [
    {
     "data": {
      "text/plain": [
       "array([-16.,  10.])"
      ]
     },
     "execution_count": 4,
     "metadata": {},
     "output_type": "execute_result"
    }
   ],
   "source": [
    "np.array([-48, 30]) / 3"
   ]
  },
  {
   "cell_type": "markdown",
   "metadata": {},
   "source": [
    "3番目の計算問題です．\n",
    "\n",
    "<font color=green>$\\left(\\begin{array}{c} 10 \\\\ 20 \\end{array} \\right) + \\left(\\begin{array}{c} 1 \\\\ 2 \\end{array} \\right)$</font>\n",
    "$=\n",
    "\\left(\\begin{array}{c} 10+1 \\\\ 20+2 \\end{array} \\right) =\n",
    "\\left(\\begin{array}{c} 11 \\\\ 22 \\end{array} \\right)$\n",
    "\n",
    "となります．Pythonでは次の通りです．\n",
    "\n",
    "> np.array([10,20]) + np.array([1,2])"
   ]
  },
  {
   "cell_type": "code",
   "execution_count": 5,
   "metadata": {},
   "outputs": [
    {
     "data": {
      "text/plain": [
       "array([11, 22])"
      ]
     },
     "execution_count": 5,
     "metadata": {},
     "output_type": "execute_result"
    }
   ],
   "source": [
    "np.array([10, 20]) + np.array([1, 2])"
   ]
  },
  {
   "cell_type": "markdown",
   "metadata": {},
   "source": [
    "4番目の計算問題です．\n",
    "\n",
    "<font color=green>$\\left(\\begin{array}{c} -7 \\\\ 12 \\end{array} \\right) - \\left(\\begin{array}{c} -10 \\\\ 9 \\end{array} \\right)$</font>\n",
    "$=\n",
    "\\left(\\begin{array}{c} -7 - (-10) \\\\ 12 - 9 \\end{array} \\right) =\n",
    "\\left(\\begin{array}{c} 3 \\\\ 3 \\end{array} \\right)$\n",
    "\n",
    "Codeセルに次のように記載して実行ボタンをクリックします．\n",
    "\n",
    "> np.array([-7,12]) - np.array([-10,9])"
   ]
  },
  {
   "cell_type": "code",
   "execution_count": 6,
   "metadata": {},
   "outputs": [
    {
     "data": {
      "text/plain": [
       "array([3, 3])"
      ]
     },
     "execution_count": 6,
     "metadata": {},
     "output_type": "execute_result"
    }
   ],
   "source": [
    "np.array([-7, 12]) - np.array([-10, 9])"
   ]
  },
  {
   "cell_type": "markdown",
   "metadata": {},
   "source": [
    "5番目の計算問題です．\n",
    "\n",
    "<font color=green>\n",
    "$\\frac{1}{3}\\left(\\begin{array}{c} 9 \\\\ 18 \\\\ 27 \\end{array} \\right) + 2\\left(\\begin{array}{c} \\frac{1}{2} \\\\ 4 \\\\ -3 \\end{array} \\right)$\n",
    "</font>\n",
    "$=\n",
    "\\left(\\begin{array}{c} \\frac{1}{3}\\times9 \\\\ \\frac{1}{3}\\times18 \\\\ \\frac{1}{3}\\times27 \\end{array} \\right) + \\left(\\begin{array}{c} 2\\times\\frac{1}{2} \\\\ 2\\times4 \\\\ 2\\times(-3) \\end{array} \\right) =\n",
    "\\left(\\begin{array}{c} 3 \\\\ 6 \\\\ 9 \\end{array} \\right) + \\left(\\begin{array}{c} 1 \\\\ 8 \\\\ -6 \\end{array} \\right) =\n",
    "\\left(\\begin{array}{c} 3+1 \\\\ 6+8 \\\\ 9+(-6) \\end{array} \\right) =\n",
    "\\left(\\begin{array}{c} 4\\\\ 14 \\\\ 3 \\end{array} \\right) $\n",
    "\n",
    "となります．Pythonでは次の通りです．\n",
    "\n",
    "> (1/3)\\*np.array([9,18,27]) + 2\\*np.array([1/2,4,-3])"
   ]
  },
  {
   "cell_type": "code",
   "execution_count": 7,
   "metadata": {},
   "outputs": [
    {
     "data": {
      "text/plain": [
       "array([ 4., 14.,  3.])"
      ]
     },
     "execution_count": 7,
     "metadata": {},
     "output_type": "execute_result"
    }
   ],
   "source": [
    "(1/3) * np.array([9, 18, 27]) + 2 * np.array([(1/2), 4, -3])"
   ]
  },
  {
   "cell_type": "markdown",
   "metadata": {},
   "source": [
    "6番目の計算問題です．\n",
    "\n",
    "<font color=green>\n",
    "$2\\left(\\begin{array}{c} 1 \\\\ i \\end{array} \\right) - 2i\\left(\\begin{array}{c} -i \\\\ 1 \\end{array} \\right)$\n",
    "</font>\n",
    "$=\n",
    "\\left(\\begin{array}{c} 2\\times1 \\\\ 2\\times i \\end{array} \\right) + \\left(\\begin{array}{c} -2i\\times(-i) \\\\ -2i\\times1 \\end{array} \\right) =\n",
    "\\left(\\begin{array}{c} 2 \\\\ 2i \\end{array} \\right) + \\left(\\begin{array}{c} -2 \\\\ -2i \\end{array} \\right) =\n",
    "\\left(\\begin{array}{c} 2-2 \\\\ 2i-2i \\end{array} \\right) =\n",
    "\\left(\\begin{array}{c} 0 \\\\ 0 \\end{array} \\right) $\n",
    "\n",
    "となります．Pythonで複素数を含んだ配列計算をしてみましょう．\n",
    "Pythonでは虚数単位を$\\ j \\ $で表すことに注意してください．\n",
    "\n",
    "> 2\\*np.array([1,1j]) - 2j\\*np.array([-1j,1])"
   ]
  },
  {
   "cell_type": "code",
   "execution_count": 8,
   "metadata": {},
   "outputs": [
    {
     "data": {
      "text/plain": [
       "array([0.+0.j, 0.+0.j])"
      ]
     },
     "execution_count": 8,
     "metadata": {},
     "output_type": "execute_result"
    }
   ],
   "source": [
    "2 * np.array([1, 1j]) - 2j * np.array([-1j, 1])"
   ]
  },
  {
   "cell_type": "markdown",
   "metadata": {},
   "source": [
    "このように手計算とPythonによる計算結果が一致します．\n",
    "Pythonの計算結果が整数型にならず浮動小数点が残るところが，実際にコンピュータで計算される特徴が出ています．"
   ]
  },
  {
   "cell_type": "markdown",
   "metadata": {},
   "source": [
    "## 問題2の解答\n",
    "\n",
    "まず，計算式 <font color=green>$a{\\bf x}-{\\bf b}={\\bf 0}$</font> を変形してベクトル変数${\\bf x}$を求める式にします．\n",
    "\n",
    "$\\begin{eqnarray*}\n",
    "a{\\bf x}-{\\bf b} &=& {\\bf 0} \\\\\n",
    "a{\\bf x}-{\\bf b}+{\\bf b} &=& {\\bf 0} + {\\bf b} \\\\\n",
    "a{\\bf x} &=& {\\bf b} \\\\\n",
    "\\frac{1}{a}a{\\bf x} &=& \\frac{1}{a}{\\bf b} \\\\\n",
    "{\\bf x} &=& \\frac{1}{a} {\\bf b} \n",
    "\\end{eqnarray*}$\n",
    "\n",
    "最後の式にスカラー <font color=green>$a=\\frac{2}{3}$</font> および\n",
    "ベクトル <font color=green>${\\bf b}=\\left(\\begin{array}{c} 18 \\\\ -4 \\end{array} \\right)$</font>を代入します．\n",
    "\n",
    "${\\bf x} = \\frac{1}{a} {\\bf b} =\n",
    "\\frac{1}{\\frac{2}{3}} \\left(\\begin{array}{c} 18 \\\\ -4 \\end{array} \\right) =\n",
    "\\frac{3}{2} \\left(\\begin{array}{c} 18 \\\\ -4 \\end{array} \\right) =\n",
    "\\left(\\begin{array}{c} \\frac{3}{2}\\times18 \\\\ \\frac{3}{2}(-4) \\end{array} \\right) =\n",
    "\\left(\\begin{array}{c} 27 \\\\ -6 \\end{array} \\right)\n",
    "$\n",
    "\n",
    "同じことをPythonで実施します．\n",
    "ここでは定数aと定数ベクトルbを変数として定義してから計算します．\n",
    "\n",
    "> a = 2/3<br>\n",
    "> b = np.array([18,-4])<br>\n",
    "> (1/a) * b"
   ]
  },
  {
   "cell_type": "code",
   "execution_count": 10,
   "metadata": {},
   "outputs": [
    {
     "data": {
      "text/plain": [
       "array([27., -6.])"
      ]
     },
     "execution_count": 10,
     "metadata": {},
     "output_type": "execute_result"
    }
   ],
   "source": [
    "a = 2/3\n",
    "b = np.array([18, -4])\n",
    "\n",
    "\n",
    "x = (1/a) * b\n",
    "x"
   ]
  },
  {
   "cell_type": "markdown",
   "metadata": {},
   "source": [
    "以上で，ベクトル演算についての演習問題は終了です．\n",
    "手で計算することなしにプログラムで計算してしまうと仕組みを脳に定着せずに終わってしまいますので，面倒でも一つ一つ確認しながら進みましょう．\n",
    "*****"
   ]
  }
 ],
 "metadata": {
  "kernelspec": {
   "display_name": "Python 3",
   "language": "python",
   "name": "python3"
  },
  "language_info": {
   "codemirror_mode": {
    "name": "ipython",
    "version": 3
   },
   "file_extension": ".py",
   "mimetype": "text/x-python",
   "name": "python",
   "nbconvert_exporter": "python",
   "pygments_lexer": "ipython3",
   "version": "3.8.8"
  }
 },
 "nbformat": 4,
 "nbformat_minor": 4
}
