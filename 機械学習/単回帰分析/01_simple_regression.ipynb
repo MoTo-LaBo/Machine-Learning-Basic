{
 "cells": [
  {
   "cell_type": "markdown",
   "id": "5a17b071-62e9-47c6-b2f3-5ecf4b31c817",
   "metadata": {},
   "source": [
    "# 機械学習とは？\n",
    "\n",
    "<center>\n",
    "明示的に program しなくても（都度教えなくても）, PCが自ら学ぶ（学習する）事ができるようにする為にはどうすれば良いのかを考える分野\n",
    "<center>\n",
    "    ↓\n",
    "<b><center>\n",
    "コンピュータが自ら学ぶ\n",
    "</center></b>\n",
    "    ↓\n",
    "<center>\n",
    "データが増えていく事によって最適な解が変わっていく\n",
    "</center>"
   ]
  },
  {
   "cell_type": "markdown",
   "id": "9c348377-7f71-41c3-8cd0-f4d7509c6ac4",
   "metadata": {},
   "source": [
    "#### <u>T　:　タスクT</u>\n",
    "- *何かしらの判断をしてくれる　program*\n",
    "    - 例） 健康かどうかを判定する仕組み自体\n",
    "        - **model, アルゴリズム, 数式**\n",
    "\n",
    "<u>E　:　経験E</u>\n",
    "- *ある人が健康かどうかを示す data*\n",
    "    - 例) 血圧・血糖値・体重 etc...\n",
    "        - **数値**\n",
    "    \n",
    "#### <u>P　:　正答率P</u>\n",
    "- *健康かどうかを正しく判断した場合の割合*\n",
    "\n",
    "\n",
    "    \n",
    "<center>\n",
    "問題・課題\n",
    "<center>\n",
    "    ↓\n",
    "<center>\n",
    "人間が自ら考えて行動\n",
    "<center>\n",
    "    ↓\n",
    "<center>\n",
    "　色々な経験・体感の積み重ね\n",
    "<center>\n",
    "    ↓\n",
    "<center>\n",
    "結果を受け状況に応じて改善　or　現状維持(現状はbest practice)\n",
    "<center>\n",
    "    ↓\n",
    "<center>\n",
    "問題解決能力・意思決定能力\n",
    "<center>\n",
    "    ||\n",
    "<b><center>\n",
    "より良いモノ・価値・人生を生み出す為の努力の過程\n",
    "<center></b>"
   ]
  },
  {
   "cell_type": "markdown",
   "id": "ebdd395d-2b3d-43f5-b944-b1e267a27632",
   "metadata": {},
   "source": [
    "# 単回帰分析"
   ]
  },
  {
   "cell_type": "markdown",
   "id": "642313e2-f29f-4d83-9fe7-569f4959729a",
   "metadata": {},
   "source": [
    "<center>\n",
    "1. インプット data の整理\n",
    "<center>\n",
    "    ↓\n",
    "<center>\n",
    "2. アウトプット data の整理\n",
    "<center>\n",
    "    ↓\n",
    "<center>\n",
    "3. 分析方法（ model ）について考える\n",
    "<center>"
   ]
  },
  {
   "cell_type": "markdown",
   "id": "700caa48-53f8-4e65-8135-8867b5bef307",
   "metadata": {},
   "source": [
    "### 1. input について考える"
   ]
  },
  {
   "cell_type": "markdown",
   "id": "b116a8e8-977b-4ec5-919b-81d76f214c3a",
   "metadata": {},
   "source": [
    "- *気温は定量データ*\n",
    "    - **厳密には間隔尺度の定量データ**"
   ]
  },
  {
   "cell_type": "code",
   "execution_count": null,
   "id": "0c903fb5-4b59-42a3-8547-0b8a5d590f93",
   "metadata": {},
   "outputs": [],
   "source": []
  }
 ],
 "metadata": {
  "kernelspec": {
   "display_name": "Python 3",
   "language": "python",
   "name": "python3"
  },
  "language_info": {
   "codemirror_mode": {
    "name": "ipython",
    "version": 3
   },
   "file_extension": ".py",
   "mimetype": "text/x-python",
   "name": "python",
   "nbconvert_exporter": "python",
   "pygments_lexer": "ipython3",
   "version": "3.8.8"
  }
 },
 "nbformat": 4,
 "nbformat_minor": 5
}
