{
 "cells": [
  {
   "cell_type": "markdown",
   "id": "5a17b071-62e9-47c6-b2f3-5ecf4b31c817",
   "metadata": {},
   "source": [
    "# 機械学習とは？\n",
    "\n",
    "<center>\n",
    "明示的に program しなくても（都度教えなくても）, PCが自ら学ぶ（学習する）事ができるようにする為にはどうすれば良いのかを考える分野\n",
    "<center>\n",
    "    ↓\n",
    "<b><center>\n",
    "コンピュータが自ら学ぶ\n",
    "</center></b>\n",
    "    ↓\n",
    "<center>\n",
    "データが増えていく事によって最適な解が変わっていく\n",
    "</center>"
   ]
  },
  {
   "cell_type": "markdown",
   "id": "9c348377-7f71-41c3-8cd0-f4d7509c6ac4",
   "metadata": {},
   "source": [
    "#### <u>T　:　タスクT</u>\n",
    "- *何かしらの判断をしてくれる　program*\n",
    "    - 例） 健康かどうかを判定する仕組み自体\n",
    "        - **model, アルゴリズム, 数式**\n",
    "\n",
    "<u>E　:　経験E</u>\n",
    "- *ある人が健康かどうかを示す data*\n",
    "    - 例) 血圧・血糖値・体重 etc...\n",
    "        - **数値**\n",
    "    \n",
    "#### <u>P　:　正答率P</u>\n",
    "- *健康かどうかを正しく判断した場合の割合*\n",
    "\n",
    "\n",
    "    \n",
    "<center>\n",
    "問題・課題\n",
    "<center>\n",
    "    ↓\n",
    "<center>\n",
    "人間が自ら考えて行動\n",
    "<center>\n",
    "    ↓\n",
    "<center>\n",
    "　色々な経験・体感の積み重ね\n",
    "<center>\n",
    "    ↓\n",
    "<center>\n",
    "結果を受け状況に応じて改善　or　現状維持(現状はbest practice)\n",
    "<center>\n",
    "    ↓\n",
    "<center>\n",
    "問題解決能力・意思決定能力\n",
    "<center>\n",
    "    ||\n",
    "<b><center>\n",
    "より良いモノ・価値・人生を生み出す為の努力の過程\n",
    "<center></b>"
   ]
  },
  {
   "cell_type": "markdown",
   "id": "ebdd395d-2b3d-43f5-b944-b1e267a27632",
   "metadata": {},
   "source": [
    "# 単回帰分析"
   ]
  },
  {
   "cell_type": "markdown",
   "id": "642313e2-f29f-4d83-9fe7-569f4959729a",
   "metadata": {},
   "source": [
    "<center>\n",
    "1. インプット data の整理\n",
    "<center>\n",
    "    ↓\n",
    "<center>\n",
    "2. アウトプット data の整理\n",
    "<center>\n",
    "    ↓\n",
    "<center>\n",
    "3. 分析方法（ model ）について考える\n",
    "<center>"
   ]
  },
  {
   "cell_type": "markdown",
   "id": "700caa48-53f8-4e65-8135-8867b5bef307",
   "metadata": {},
   "source": [
    "## Algorithm 作成\n",
    "\n",
    "#### <u>ビールの売れ行き予測</u>\n",
    "- *入力データの整理*\n",
    "\n",
    "|気温|売上|\n",
    "|:---:|:---:|\n",
    "|20℃|30本|\n",
    "|23℃|32本|\n",
    "|28℃|40本|\n",
    "|30℃|44本|\n",
    "\n",
    "\n",
    "#### $$\n",
    "(　20,　30　),　(　23,　32　),　(　28,　40　),　(　30,　44　)\n",
    "$$"
   ]
  },
  {
   "cell_type": "markdown",
   "id": "f949697b-734f-4481-9e05-ed68b89c061c",
   "metadata": {},
   "source": [
    "## <u>誤差関数の導出</u>\n",
    "\n",
    "### 1. *誤差の導出*\n",
    "\n",
    "$$\n",
    "\\hat{y}=\\omega_0+\\omega_1x　　　(x_1, y_1)　　　\\hat{y}=\\omega_0+\\omega_1x-y_1\n",
    "$$\n",
    "\n",
    "\n",
    "### 2. *誤差関数の導出*\n",
    "- $x_1, y_1=　(20, 30), (23, 32), (28, 40), (30, 44)$\n",
    "\n",
    "$$\n",
    "(\\hat{y}-y)^2　=　(\\omega_0+\\omega_1x_1-y_1)^2　\n",
    "$$\n",
    "\n",
    "$$\n",
    "=　\\omega_0^2　+　\\omega_1^2x_1^2　+　y_1^2　+　2\\omega_0\\omega_1x_1　-　2\\omega_0\\omega_1x_1y_1　-　2\\omega_0y_1\n",
    "$$\n",
    "\n",
    "\n",
    "### 3. *導入関数の導出*\n",
    "- $x_1, y_1=　(20, 30), (23, 32), (28, 40), (30, 44)$\n",
    "\n",
    "    - 1. 初期重み　$(\\omega_0, \\omega_1 )$ における傾きを計算\n",
    "\n",
    "$$\n",
    "\\frac{\\partial f}{\\partial \\omega_0}　=　2\\omega0　+　2\\omega1x1　-　2y1\n",
    "$$\n",
    "\n",
    "$$\n",
    "\\frac{\\partial f}{\\partial \\omega_1}　=　2\\omega_1x_1^2　+　2\\omega_0x_1　-　2x_1y_1\n",
    "$$\n",
    "\n",
    "$$\n",
    "=　x1( 2\\omega_1x_1　+　2\\omega_0　-　2y_1 )\n",
    "$$\n",
    "\n",
    "\n",
    "- 2. 傾きの方向に動かす\n",
    "\n",
    "$$\n",
    "\\omega_0　:=　\\omega_0　-　\\alpha(2\\omega_0　+　2\\omega_1x_1　-　2y_1)\n",
    "$$\n",
    "\n",
    "$$\n",
    "\\omega_1　:=　\\omega_1　-　\\alpha(x1(2\\omega_1x_1　+　2\\omega_0　-　2y_1))\n",
    "$$"
   ]
  },
  {
   "cell_type": "code",
   "execution_count": 1,
   "id": "f68ac7b2-fc0a-4364-9118-27856e3c020a",
   "metadata": {},
   "outputs": [],
   "source": [
    "import numpy as np\n",
    "import pandas as pd\n",
    "import matplotlib.pyplot as plt\n",
    "import japanize_matplotlib        # グラフ日本語対応\n",
    "%matplotlib inline"
   ]
  },
  {
   "cell_type": "code",
   "execution_count": 2,
   "id": "eb6ad5b4-a057-411c-9944-e7f7bf9de31d",
   "metadata": {},
   "outputs": [],
   "source": [
    "input_data = np.array([[20, 30], [23, 32], [28, 40], [30, 44]])\n",
    "data_num = input_data.shape[0]"
   ]
  },
  {
   "cell_type": "markdown",
   "id": "e33fa6af-aebb-4cb3-b357-377d5f76ea29",
   "metadata": {},
   "source": [
    "### **誤差関数の導出**\n",
    "- $x_1, y_1=　(20, 30), (23, 32), (28, 40), (30, 44)$\n",
    "\n",
    "- *$\\omega$　=　重み*\n",
    "\n",
    "- **傾きを求める為の基の式**\n",
    "\n",
    "\n",
    "$$\n",
    "(\\hat{y}-y)^2　=　(\\omega_0+\\omega_1x_1-y_1)^2　\n",
    "$$\n",
    "\n",
    "$$\n",
    "(\\omega_0+\\omega_1x_1-y_1)^2　=　\\omega_0^2　+　\\omega_1^2x_1^2　+　y_1^2　+　2\\omega_0\\omega_1x_1　-　2\\omega_0\\omega_1x_1y_1　-　2\\omega_0y_1\n",
    "$$\n"
   ]
  },
  {
   "cell_type": "code",
   "execution_count": 3,
   "id": "18545a9c-3dca-4f37-8b86-a46d53ba08c3",
   "metadata": {},
   "outputs": [],
   "source": [
    "epochs = 100                   # (最急降下法に基づいて)そのセットを何回やるか : epochs\n",
    "alpha = 0.0005                 # 傾き方向にどれくらい動かすかの程度を示す : 標準化してないので\n",
    "\n",
    "# 重みの設定 : 一般的には random.randn などの関数を使用する/今回は理解の為自身で設定\n",
    "w0 = 0.1\n",
    "w1 = 0.1\n",
    "\n",
    "# 1.  1回毎に 傾き x α分だけ W0方向 W１方向 に少しだけずらす。(最急降下法に基づいて)指定されたセットをやる\n",
    "for t in range(epochs):\n",
    "    \n",
    "    # 傾きの初期化(定義づけ)\n",
    "    dw0 = 0\n",
    "    dw1 = 0\n",
    "    \n",
    "    # 2. 誤差関数を微分\n",
    "    for i in range(data_num):\n",
    "        dw0 = dw0 + 2*w0 + 2*w1*input_data[i, 0] - 2*input_data[i, 1]      # w0の傾き\n",
    "        dw1 = dw1 + input_data[i, 0]*(2*w1*input_data[i, 0] + 2*w0 - 2*input_data[i, 1])  # w1方向の傾き\n",
    "\n",
    "    # 3. 最急降下法で重みの更新\n",
    "    w0 = w0 - alpha*(dw0)\n",
    "    w1 = w1 - alpha*(dw1)"
   ]
  },
  {
   "cell_type": "markdown",
   "id": "5aa3af73-1f57-43f6-84b5-24a477f8a3a4",
   "metadata": {},
   "source": [
    "*1. epochs で指定した数だけ　for文の一連の code が実行される*\n",
    "\n",
    "*2. data　の数分だけ、足し算がされて　=　残差の２乗　+　誤差関数の偏微分の値　=　w0,　w1　の傾きを表す*\n",
    "\n",
    "*3. 傾きに　$\\alpha$*　を掛けた分だけ　$\\omega$(重み)　の位置を少しずらす\n",
    "\n",
    "*4. 上記を epochs の数だけ繰り返す*\n",
    "\n",
    "- <u>dw0, dw1　=　傾きは　1回1回 0 にするためにfor分の中で初期化の定義している</u>\n",
    "\n",
    "- **更新後の傾きがどんどん足されてしまうので、1回1回　0 にしてクリアにして計算する事で正しい値が取得できる**"
   ]
  },
  {
   "cell_type": "markdown",
   "id": "d56c3172-5a53-4e53-b967-d2440614f986",
   "metadata": {},
   "source": [
    "### 正しい回帰ができているのか?\n",
    "- plot してみる"
   ]
  },
  {
   "cell_type": "code",
   "execution_count": 4,
   "id": "5c063c4c-9ab0-430c-b620-3eb14fd0c886",
   "metadata": {},
   "outputs": [
    {
     "data": {
      "text/plain": [
       "Text(0.5, 0, '気温')"
      ]
     },
     "execution_count": 4,
     "metadata": {},
     "output_type": "execute_result"
    },
    {
     "data": {
      "image/png": "[encoded data removed]",
      "text/plain": [
       "<Figure size 432x288 with 1 Axes>"
      ]
     },
     "metadata": {
      "needs_background": "light"
     },
     "output_type": "display_data"
    }
   ],
   "source": [
    "# w0 w1 の値を plot\n",
    "\n",
    "# x軸, y軸を決める　：　　x軸に対応してy軸が plot されていく\n",
    "x = np.linspace(15, 35, 100)\n",
    "y = w0 + w1*x\n",
    "\n",
    "plt.plot(x, y)\n",
    "plt.xlabel('気温', fontsize=14)"
   ]
  },
  {
   "cell_type": "markdown",
   "id": "2d071103-4ac1-4b65-b4d0-3b2aec871514",
   "metadata": {},
   "source": [
    "- 間違っている...\n",
    "\n",
    "- 気温が上がれば、ビールの本数が増える前提なので右肩上がりになるはず\n",
    "\n",
    "- **検証していく**"
   ]
  },
  {
   "cell_type": "code",
   "execution_count": 5,
   "id": "ed5927b5-48f6-4e27-8248-d04a6fb66a70",
   "metadata": {},
   "outputs": [
    {
     "data": {
      "image/png": "[encoded data removed]",
      "text/plain": [
       "<Figure size 432x288 with 1 Axes>"
      ]
     },
     "metadata": {
      "needs_background": "light"
     },
     "output_type": "display_data"
    }
   ],
   "source": [
    "# w0 w1 の値を plot\n",
    "\n",
    "# x軸, y軸を決める　：　　x軸に対応してy軸が plot されていく\n",
    "x = np.linspace(15, 35, 100)\n",
    "y = w0 + w1*x\n",
    "\n",
    "plt.plot(x, y)\n",
    "plt.xlabel('気温', fontsize=14)\n",
    "\n",
    "# data　を1個づつ plot していく\n",
    "for u in range(data_num):\n",
    "    plt.scatter(input_data[u, 0], input_data[u, 1])"
   ]
  },
  {
   "cell_type": "markdown",
   "id": "af74f09b-b21f-47d9-8e5d-6f6e373a7ca0",
   "metadata": {},
   "source": [
    "- 何が原因なのか？\n",
    "\n",
    "    - 傾きがどうなって行くのか？を確認した方が良い\n",
    "    - 最急降下法によりどんどんの傾きが極値に近づく　=　0に近づく\n",
    "        - **print( )関数で傾きを確認してみる**"
   ]
  },
  {
   "cell_type": "code",
   "execution_count": 7,
   "id": "52510de9-67d5-4756-8faf-e75d8dada245",
   "metadata": {},
   "outputs": [
    {
     "name": "stdout",
     "output_type": "stream",
     "text": [
      "-271.0\n",
      "438.0132000000001\n",
      "-708.3931234000001\n",
      "1145.2359602246001\n",
      "-1851.904461322405\n",
      "2994.1841460930873\n",
      "-4841.476304077973\n",
      "7828.035103627959\n",
      "-12657.349632080208\n",
      "20465.552648748882\n",
      "-33091.00334459409\n",
      "53504.81084292666\n",
      "-86512.3148564549\n",
      "139881.94769192353\n",
      "-226175.86025777538\n",
      "365704.50482801703\n",
      "-591309.2753747846\n",
      "956090.2153824335\n",
      "-1545906.3425438693\n",
      "2499582.1129789017\n",
      "-4041584.6971094403\n",
      "6534854.6396930525\n",
      "-10566233.330157604\n",
      "17084585.66857634\n",
      "-27624136.52781059\n",
      "44665579.03274427\n",
      "-72219957.37040447\n",
      "116772743.93314986\n",
      "-188810326.86539748\n",
      "305288188.6571262\n",
      "-493621719.5507514\n",
      "798138974.686034\n",
      "-1290514168.843241\n",
      "2086637631.3609507\n",
      "-3373892910.512848\n",
      "5455261229.651613\n",
      "-8820634167.873781\n",
      "14262119419.356136\n",
      "-23060479152.018497\n",
      "37286582945.92004\n",
      "-60288828286.17944\n",
      "97481252743.806\n",
      "-157617835785.7807\n",
      "254852922572.12244\n",
      "-412072731615.8247\n",
      "666282083122.5203\n",
      "-1077314222053.748\n",
      "1741913766613.414\n",
      "-2816507485191.652\n",
      "4554022458621.72\n",
      "-7363417517145.719\n",
      "11905939864033.117\n",
      "-19250762803536.254\n",
      "31126637019017.547\n",
      "-50328786552588.28\n",
      "81376820576806.58\n",
      "-131578513626000.19\n",
      "212749836197973.6\n",
      "-343996079260471.9\n",
      "556208665826948.56\n",
      "-899336063963515.5\n",
      "1454140155732542.2\n",
      "-2351205158163928.0\n",
      "3801673225227574.0\n",
      "-6146940968221786.0\n",
      "9939013962606300.0\n",
      "-1.6070432278359696e+16\n",
      "2.5984347600777704e+16\n",
      "-4.20141977852856e+16\n",
      "6.793292803273097e+16\n",
      "-1.0984102885135776e+17\n",
      "1.7760240826527754e+17\n",
      "-2.8716605945407997e+17\n",
      "4.6431997464364666e+17\n",
      "-7.507608638114546e+17\n",
      "1.213908307656809e+18\n",
      "-1.9627733016305567e+18\n",
      "3.173616169601892e+18\n",
      "-5.131432949282268e+18\n",
      "8.297034898294852e+18\n",
      "-1.3415509621567087e+19\n",
      "2.169159231129019e+19\n",
      "-3.507322422122501e+19\n",
      "5.671003952218194e+19\n",
      "-9.16946945716276e+19\n",
      "1.4826152623814237e+20\n",
      "-2.3972466744291826e+20\n",
      "3.876117940962709e+20\n",
      "-6.267310933210699e+20\n",
      "1.0133640650724525e+21\n",
      "-1.63851249654545e+21\n",
      "2.649317549210365e+21\n",
      "-4.2836923681401544e+21\n",
      "6.926319689510784e+21\n",
      "-1.1199194600926387e+22\n",
      "1.810802350046846e+22\n",
      "-2.927893717164218e+22\n",
      "4.73412331212621e+22\n",
      "-7.654623322913403e+22\n",
      "1.2376791720994306e+23\n"
     ]
    }
   ],
   "source": [
    "epochs = 100                   # (最急降下法に基づいて)そのセットを何回やるか : epochs\n",
    "alpha = 0.0005                 # 傾き方向にどれくらい動かすかの程度を示す : 標準化してない\n",
    "\n",
    "# 重みの設定 : 一般的には random.randn などの関数を使用する/今回は理解の為自身で設定\n",
    "w0 = 0.1\n",
    "w1 = 0.1\n",
    "\n",
    "# 1.  1回毎に 傾き x α分だけ W0方向 W１方向 に少しだけずらす。(最急降下法に基づいて)指定されたセットをやる\n",
    "for t in range(epochs):\n",
    "    \n",
    "    # 傾きの初期化(定義づけ)\n",
    "    dw0 = 0\n",
    "    dw1 = 0\n",
    "    \n",
    "    # 2. 誤差関数を微分\n",
    "    for i in range(data_num):\n",
    "        dw0 = dw0 + 2*w0 + 2*w1*input_data[i, 0] - 2*input_data[i, 1]      # w0の傾き\n",
    "        dw1 = dw1 + input_data[i, 0]*(2*w1*input_data[i, 0] + 2*w0 - 2*input_data[i, 1])  # w1方向の傾き\n",
    "\n",
    "    # 3. 最急降下法で重みの更新\n",
    "    w0 = w0 - alpha*(dw0)\n",
    "    w1 = w1 - alpha*(dw1)\n",
    "    print(dw0)"
   ]
  },
  {
   "cell_type": "markdown",
   "id": "ec911231-5157-46ba-a11d-66226d228c88",
   "metadata": {},
   "source": [
    "- **発散してしまっている**\n",
    "\n",
    "    - *正規化　（標準化）　していなかったので　alpha　の値が悪さをしている*\n",
    "    - *傾きの data があまりにも大きいので、$\\alpha$ を掛けた分もっと大きくなってしまって、極値を飛び越えて反対側に行ってしまった*\n",
    "\n",
    "#### 解決策\n",
    "- **alpha　の値を小さくする**"
   ]
  },
  {
   "cell_type": "code",
   "execution_count": 8,
   "id": "168a0b23-e96a-4856-9fe2-d841ce3aa39d",
   "metadata": {},
   "outputs": [
    {
     "name": "stdout",
     "output_type": "stream",
     "text": [
      "-271.0\n",
      "-200.09867999999997\n",
      "-147.75155523399997\n",
      "-109.10317077157538\n",
      "-80.56869766656365\n",
      "-59.50142232417486\n",
      "-43.94725071145808\n",
      "-32.46345646121925\n",
      "-23.98486085866864\n",
      "-17.725032242029812\n",
      "-13.103340572364587\n",
      "-9.691101122819845\n",
      "-7.171811847836111\n",
      "-5.311796251451796\n",
      "-3.938528735393561\n",
      "-2.9246319956791496\n",
      "-2.1760621470408807\n",
      "-1.6233856869648946\n",
      "-1.2153391945748524\n",
      "-0.9140743945452243\n",
      "-0.6916475421819541\n",
      "-0.527427502755387\n",
      "-0.40618211161147144\n",
      "-0.3166653154868584\n",
      "-0.2505740453909908\n",
      "-0.20177806584922564\n",
      "-0.1657513652126852\n",
      "-0.13915234566979962\n",
      "-0.1195138735053547\n",
      "-0.10501444023397255\n",
      "-0.09430920866984138\n",
      "-0.08640527261984232\n",
      "-0.08056955991796144\n",
      "-0.0762608363529722\n",
      "-0.07307950351534487\n",
      "-0.07073053406662666\n",
      "-0.0689961064930884\n",
      "-0.06771540108192653\n",
      "-0.06676968309659514\n",
      "-0.06607128954239272\n",
      "-0.06555549798939353\n",
      "-0.0651745232468528\n",
      "-0.06489308505017277\n",
      "-0.06468513564153966\n",
      "-0.06453144371145925\n",
      "-0.06441781059980656\n",
      "-0.06433375329957869\n",
      "-0.06427153210607628\n",
      "-0.06422543272121572\n",
      "-0.06419123622379175\n",
      "-0.06416582774393476\n",
      "-0.06414690754326102\n",
      "-0.06413277770283798\n",
      "-0.06412218463293584\n",
      "-0.06411420279620472\n",
      "-0.06410814885941818\n",
      "-0.06410351831119954\n",
      "-0.06409993866606101\n",
      "-0.06409713491423474\n",
      "-0.06409490401335916\n",
      "-0.06409309605544422\n",
      "-0.06409160036190542\n",
      "-0.06409033521772756\n",
      "-0.0640892402918638\n",
      "-0.06408827104135639\n",
      "-0.06408739457965851\n",
      "-0.06408658662645905\n",
      "-0.06408582925526218\n",
      "-0.06408510923078836\n",
      "-0.06408441678127019\n",
      "-0.06408374469216938\n",
      "-0.06408308763690229\n",
      "-0.06408244168282806\n",
      "-0.06408180392635643\n",
      "-0.06408117222380838\n",
      "-0.06408054499253524\n",
      "-0.06407992106387894\n",
      "-0.06407929957519798\n",
      "-0.06407867988949079\n",
      "-0.0640780615365486\n",
      "-0.06407744416907235\n",
      "-0.064076827530684\n",
      "-0.06407621143225128\n",
      "-0.06407559573389676\n",
      "-0.06407498033249226\n",
      "-0.06407436515191023\n",
      "-0.06407375013586147\n",
      "-0.06407313524290714\n",
      "-0.06407252044232337\n",
      "-0.06407190571144383\n",
      "-0.06407129103361342\n",
      "-0.0640706763964829\n",
      "-0.06407006179095731\n",
      "-0.06406944721034336\n",
      "-0.06406883264958196\n",
      "-0.06406821810504937\n",
      "-0.06406760357405972\n",
      "-0.06406698905468033\n",
      "-0.06406637454522013\n",
      "-0.06406576004478381\n"
     ]
    }
   ],
   "source": [
    "epochs = 100                   # (最急降下法に基づいて)そのセットを何回やるか : epochs\n",
    "alpha = 0.00005                 # 傾き方向にどれくらい動かすかの程度を示す : 標準化してない\n",
    "\n",
    "# 重みの設定 : 一般的には random.randn などの関数を使用する/今回は理解の為自身で設定\n",
    "w0 = 0.1\n",
    "w1 = 0.1\n",
    "\n",
    "# 1.  1回毎に 傾き x α分だけ W0方向 W１方向 に少しだけずらす。(最急降下法に基づいて)指定されたセットをやる\n",
    "for t in range(epochs):\n",
    "    \n",
    "    # 傾きの初期化(定義づけ)\n",
    "    dw0 = 0\n",
    "    dw1 = 0\n",
    "    \n",
    "    # 2. 誤差関数を微分\n",
    "    for i in range(data_num):\n",
    "        dw0 = dw0 + 2*w0 + 2*w1*input_data[i, 0] - 2*input_data[i, 1]      # w0の傾き\n",
    "        dw1 = dw1 + input_data[i, 0]*(2*w1*input_data[i, 0] + 2*w0 - 2*input_data[i, 1])  # w1方向の傾き\n",
    "\n",
    "    # 3. 最急降下法で重みの更新\n",
    "    w0 = w0 - alpha*(dw0)\n",
    "    w1 = w1 - alpha*(dw1)\n",
    "    print(dw0)"
   ]
  },
  {
   "cell_type": "markdown",
   "id": "64671f8d-af57-4e2f-bdc3-42c718788e14",
   "metadata": {},
   "source": [
    "- **傾きが減っていって極値に近づいて行っている**\n",
    "\n",
    "    - <u>しっかり最急降下法がされている</u>"
   ]
  },
  {
   "cell_type": "code",
   "execution_count": 10,
   "id": "a5c3e8ae-9b14-4ab0-acd4-b5d704ccf0e2",
   "metadata": {},
   "outputs": [
    {
     "data": {
      "image/png": "[encoded data removed]",
      "text/plain": [
       "<Figure size 432x288 with 1 Axes>"
      ]
     },
     "metadata": {
      "needs_background": "light"
     },
     "output_type": "display_data"
    }
   ],
   "source": [
    "# w0 w1 の値を plot\n",
    "# x軸, y軸を決める　：　　x軸に対応してy軸が plot されていく\n",
    "x = np.linspace(15, 35, 100)\n",
    "y = w0 + w1*x\n",
    "\n",
    "plt.plot(x, y)\n",
    "plt.xlabel('気温', fontsize=14)\n",
    "plt.ylabel('本数', fontsize=14)\n",
    "\n",
    "# data　を1個づつ plot していく\n",
    "for u in range(data_num):\n",
    "    plt.scatter(input_data[u, 0], input_data[u, 1])"
   ]
  },
  {
   "cell_type": "markdown",
   "id": "382de5d7-95e7-47cc-9a10-3ea1db553178",
   "metadata": {},
   "source": [
    "- **最小二乗法に基づいて、最もそれらしい直線が引けている**"
   ]
  },
  {
   "cell_type": "code",
   "execution_count": null,
   "id": "721cbc66-795e-4c33-b3d8-040893fef513",
   "metadata": {},
   "outputs": [],
   "source": []
  }
 ],
 "metadata": {
  "kernelspec": {
   "display_name": "Python 3",
   "language": "python",
   "name": "python3"
  },
  "language_info": {
   "codemirror_mode": {
    "name": "ipython",
    "version": 3
   },
   "file_extension": ".py",
   "mimetype": "text/x-python",
   "name": "python",
   "nbconvert_exporter": "python",
   "pygments_lexer": "ipython3",
   "version": "3.8.8"
  }
 },
 "nbformat": 4,
 "nbformat_minor": 5
}
