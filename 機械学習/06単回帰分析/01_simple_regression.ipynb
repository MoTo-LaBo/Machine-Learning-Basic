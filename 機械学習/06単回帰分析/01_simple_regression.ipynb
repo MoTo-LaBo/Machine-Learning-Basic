{
 "cells": [
  {
   "cell_type": "markdown",
   "id": "5a17b071-62e9-47c6-b2f3-5ecf4b31c817",
   "metadata": {},
   "source": [
    "# 機械学習とは？\n",
    "\n",
    "<center>\n",
    "明示的に program しなくても（都度教えなくても）, PCが自ら学ぶ（学習する）事ができるようにする為にはどうすれば良いのかを考える分野\n",
    "<center>\n",
    "    ↓\n",
    "<b><center>\n",
    "コンピュータが自ら学ぶ\n",
    "</center></b>\n",
    "    ↓\n",
    "<center>\n",
    "データが増えていく事によって最適な解が変わっていく\n",
    "</center>"
   ]
  },
  {
   "cell_type": "markdown",
   "id": "9c348377-7f71-41c3-8cd0-f4d7509c6ac4",
   "metadata": {},
   "source": [
    "#### <u>T　:　タスクT</u>\n",
    "- *何かしらの判断をしてくれる　program*\n",
    "    - 例） 健康かどうかを判定する仕組み自体\n",
    "        - **model, アルゴリズム, 数式**\n",
    "\n",
    "<u>E　:　経験E</u>\n",
    "- *ある人が健康かどうかを示す data*\n",
    "    - 例) 血圧・血糖値・体重 etc...\n",
    "        - **数値**\n",
    "    \n",
    "#### <u>P　:　正答率P</u>\n",
    "- *健康かどうかを正しく判断した場合の割合*\n",
    "\n",
    "\n",
    "    \n",
    "<center>\n",
    "問題・課題\n",
    "<center>\n",
    "    ↓\n",
    "<center>\n",
    "人間が自ら考えて行動\n",
    "<center>\n",
    "    ↓\n",
    "<center>\n",
    "　色々な経験・体感の積み重ね\n",
    "<center>\n",
    "    ↓\n",
    "<center>\n",
    "結果を受け状況に応じて改善　or　現状維持(現状はbest practice)\n",
    "<center>\n",
    "    ↓\n",
    "<center>\n",
    "問題解決能力・意思決定能力\n",
    "<center>\n",
    "    ||\n",
    "<b><center>\n",
    "より良いモノ・価値・人生を生み出す為の努力の過程\n",
    "<center></b>"
   ]
  },
  {
   "cell_type": "markdown",
   "id": "ebdd395d-2b3d-43f5-b944-b1e267a27632",
   "metadata": {},
   "source": [
    "# 単回帰分析"
   ]
  },
  {
   "cell_type": "markdown",
   "id": "642313e2-f29f-4d83-9fe7-569f4959729a",
   "metadata": {},
   "source": [
    "<center>\n",
    "1. インプット data の整理\n",
    "<center>\n",
    "    ↓\n",
    "<center>\n",
    "2. アウトプット data の整理\n",
    "<center>\n",
    "    ↓\n",
    "<center>\n",
    "3. 分析方法（ model ）について考える\n",
    "<center>"
   ]
  },
  {
   "cell_type": "markdown",
   "id": "700caa48-53f8-4e65-8135-8867b5bef307",
   "metadata": {},
   "source": [
    "## Algorithm 作成\n",
    "\n",
    "#### <u>ビールの売れ行き予測</u>\n",
    "- *入力データの整理*\n",
    "\n",
    "|気温|売上|\n",
    "|:---:|:---:|\n",
    "|20℃|30本|\n",
    "|23℃|32本|\n",
    "|28℃|40本|\n",
    "|30℃|44本|\n",
    "\n",
    "\n",
    "#### $$\n",
    "(　20,　30　),　(　23,　32　),　(　28,　40　),　(　30,　44　)\n",
    "$$"
   ]
  },
  {
   "cell_type": "markdown",
   "id": "f949697b-734f-4481-9e05-ed68b89c061c",
   "metadata": {},
   "source": [
    "## <u>誤差関数の導出</u>\n",
    "\n",
    "### 1. *誤差の導出*\n",
    "\n",
    "$$\n",
    "\\hat{y}=\\omega_0+\\omega_1x　　　(x_1, y_1)　　　\\hat{y}=\\omega_0+\\omega_1x-y_1\n",
    "$$\n",
    "\n",
    "\n",
    "### 2. *誤差関数の導出*\n",
    "- $x_1, y_1=　(20, 30), (23, 32), (28, 40), (30, 44)$\n",
    "\n",
    "$$\n",
    "(\\hat{y}-y)^2　=　(\\omega_0+\\omega_1x_1-y_1)^2　\n",
    "$$\n",
    "\n",
    "$$\n",
    "=　\\omega_0^2　+　\\omega_1^2x_1^2　+　y_1^2　+　2\\omega_0\\omega_1x_1　-　2\\omega_0\\omega_1x_1y_1　-　2\\omega_0y_1\n",
    "$$\n",
    "\n",
    "\n",
    "### 3. *導入関数の導出*\n",
    "- $x_1, y_1=　(20, 30), (23, 32), (28, 40), (30, 44)$\n",
    "\n",
    "    - 1. 初期重み　$(\\omega_0, \\omega_1 )$ における傾きを計算\n",
    "\n",
    "$$\n",
    "\\frac{\\partial f}{\\partial \\omega_0}　=　2\\omega0　+　2\\omega1x1　-　2y1\n",
    "$$\n",
    "\n",
    "$$\n",
    "\\frac{\\partial f}{\\partial \\omega_1}　=　2\\omega_1x_1^2　+　2\\omega_0x_1　-　2x_1y_1\n",
    "$$\n",
    "\n",
    "$$\n",
    "=　x1( 2\\omega_1x_1　+　2\\omega_0　-　2y_1 )\n",
    "$$\n",
    "\n",
    "\n",
    "- 2. 傾きの方向に動かす\n",
    "\n",
    "$$\n",
    "\\omega_0　:=　\\omega_0　-　\\alpha(2\\omega_0　+　2\\omega_1x_1　-　2y_1)\n",
    "$$\n",
    "\n",
    "$$\n",
    "\\omega_1　:=　\\omega_1　-　\\alpha(x1(2\\omega_1x_1　+　2\\omega_0　-　2y_1))\n",
    "$$"
   ]
  },
  {
   "cell_type": "code",
   "execution_count": 22,
   "id": "f68ac7b2-fc0a-4364-9118-27856e3c020a",
   "metadata": {},
   "outputs": [
    {
     "ename": "ModuleNotFoundError",
     "evalue": "No module named 'japanize_matplotlib'",
     "output_type": "error",
     "traceback": [
      "\u001b[0;31m---------------------------------------------------------------------------\u001b[0m",
      "\u001b[0;31mModuleNotFoundError\u001b[0m                       Traceback (most recent call last)",
      "\u001b[0;32m<ipython-input-22-8237bdd602c6>\u001b[0m in \u001b[0;36m<module>\u001b[0;34m\u001b[0m\n\u001b[1;32m      2\u001b[0m \u001b[0;32mimport\u001b[0m \u001b[0mpandas\u001b[0m \u001b[0;32mas\u001b[0m \u001b[0mpd\u001b[0m\u001b[0;34m\u001b[0m\u001b[0;34m\u001b[0m\u001b[0m\n\u001b[1;32m      3\u001b[0m \u001b[0;32mimport\u001b[0m \u001b[0mmatplotlib\u001b[0m\u001b[0;34m.\u001b[0m\u001b[0mpyplot\u001b[0m \u001b[0;32mas\u001b[0m \u001b[0mplt\u001b[0m\u001b[0;34m\u001b[0m\u001b[0;34m\u001b[0m\u001b[0m\n\u001b[0;32m----> 4\u001b[0;31m \u001b[0;32mimport\u001b[0m \u001b[0mjapanize_matplotlib\u001b[0m        \u001b[0;31m# グラフ日本語対応\u001b[0m\u001b[0;34m\u001b[0m\u001b[0;34m\u001b[0m\u001b[0m\n\u001b[0m\u001b[1;32m      5\u001b[0m \u001b[0mget_ipython\u001b[0m\u001b[0;34m(\u001b[0m\u001b[0;34m)\u001b[0m\u001b[0;34m.\u001b[0m\u001b[0mrun_line_magic\u001b[0m\u001b[0;34m(\u001b[0m\u001b[0;34m'matplotlib'\u001b[0m\u001b[0;34m,\u001b[0m \u001b[0;34m'inline'\u001b[0m\u001b[0;34m)\u001b[0m\u001b[0;34m\u001b[0m\u001b[0;34m\u001b[0m\u001b[0m\n",
      "\u001b[0;31mModuleNotFoundError\u001b[0m: No module named 'japanize_matplotlib'"
     ]
    }
   ],
   "source": [
    "import numpy as np\n",
    "import pandas as pd\n",
    "import matplotlib.pyplot as plt\n",
    "import japanize_matplotlib        # グラフ日本語対応\n",
    "%matplotlib inline"
   ]
  },
  {
   "cell_type": "code",
   "execution_count": 9,
   "id": "eb6ad5b4-a057-411c-9944-e7f7bf9de31d",
   "metadata": {},
   "outputs": [],
   "source": [
    "input_data = np.array([[20, 30], [23, 32], [28, 40], [30, 44]])\n",
    "data_num = input_data.shape[0]"
   ]
  },
  {
   "cell_type": "markdown",
   "id": "e33fa6af-aebb-4cb3-b357-377d5f76ea29",
   "metadata": {},
   "source": [
    "### **誤差関数の導出**\n",
    "- $x_1, y_1=　(20, 30), (23, 32), (28, 40), (30, 44)$\n",
    "\n",
    "- *$\\omega$　=　重み*\n",
    "\n",
    "- **傾きを求める為の基の式**\n",
    "\n",
    "\n",
    "$$\n",
    "(\\hat{y}-y)^2　=　(\\omega_0+\\omega_1x_1-y_1)^2　\n",
    "$$\n",
    "\n",
    "$$\n",
    "(\\omega_0+\\omega_1x_1-y_1)^2　=　\\omega_0^2　+　\\omega_1^2x_1^2　+　y_1^2　+　2\\omega_0\\omega_1x_1　-　2\\omega_0\\omega_1x_1y_1　-　2\\omega_0y_1\n",
    "$$\n"
   ]
  },
  {
   "cell_type": "code",
   "execution_count": 11,
   "id": "18545a9c-3dca-4f37-8b86-a46d53ba08c3",
   "metadata": {},
   "outputs": [],
   "source": [
    "epochs = 100                   # (最急降下法に基づいて)そのセットを何回やるか : epochs\n",
    "alpha = 0.0005                 # 傾き方向にどれくらい動かすかの程度を示す : 標準化してないので\n",
    "\n",
    "# 重みの設定 : 一般的には random.randn などの関数を使用する/今回は理解の為自身で設定\n",
    "w0 = 0.1\n",
    "w1 = 0.1\n",
    "\n",
    "# 1.  1回毎に 傾き x α分だけ W0方向 W１方向 に少しだけずらす。(最急降下法に基づいて)指定されたセットをやる\n",
    "for t in range(epochs):\n",
    "    \n",
    "    # 傾きの初期化(定義づけ)\n",
    "    dw0 = 0\n",
    "    dw1 = 0\n",
    "    \n",
    "    # 2. 誤差関数を微分\n",
    "    for i in range(data_num):\n",
    "        dw0 = dw0 + 2*w0 + 2*w1*input_data[i, 0] - 2*input_data[i, 1]      # w0の傾き\n",
    "        dw1 = dw1 + input_data[i, 0]*(2*w1*input_data[i, 0] + 2*w0 - 2*input_data[i, 1])  # w1方向の傾き\n",
    "\n",
    "    # 3. 最急降下法で重みの更新\n",
    "    w0 = w0 - alpha*(dw0)\n",
    "    w1 = w1 - alpha*(dw1)\n",
    "    \n"
   ]
  },
  {
   "cell_type": "markdown",
   "id": "5aa3af73-1f57-43f6-84b5-24a477f8a3a4",
   "metadata": {},
   "source": [
    "*1. epochs で指定した数だけ　for文の一連の code が実行される*\n",
    "\n",
    "*2. data　の数分だけ、足し算がされて　=　残差の２乗　+　誤差関数の偏微分の値　=　w0,　w1　の傾きを表す*\n",
    "\n",
    "*3. 傾きに　$\\alpha$*　を掛けた分だけ　$\\omega$(重み)　の位置を少しずらす\n",
    "\n",
    "*4. 上記を epochs の数だけ繰り返す*\n",
    "\n",
    "- <u>dw0, dw1　=　傾きは　1回1回 0 にするためにfor分の中で初期化の定義している</u>\n",
    "\n",
    "- **更新後の傾きがどんどん足されてしまうので、1回1回　0 にしてクリアにして計算する事で正しい値が取得できる**"
   ]
  },
  {
   "cell_type": "markdown",
   "id": "d56c3172-5a53-4e53-b967-d2440614f986",
   "metadata": {},
   "source": [
    "### 正しい回帰ができているのか?\n",
    "- plot してみる"
   ]
  },
  {
   "cell_type": "code",
   "execution_count": 23,
   "id": "5c063c4c-9ab0-430c-b620-3eb14fd0c886",
   "metadata": {},
   "outputs": [
    {
     "data": {
      "text/plain": [
       "[<matplotlib.lines.Line2D at 0x7f0b3f048070>]"
      ]
     },
     "execution_count": 23,
     "metadata": {},
     "output_type": "execute_result"
    },
    {
     "data": {
      "image/png": "[encoded data removed]",
      "text/plain": [
       "<Figure size 432x288 with 1 Axes>"
      ]
     },
     "metadata": {
      "needs_background": "light"
     },
     "output_type": "display_data"
    }
   ],
   "source": [
    "# w0 w1 の値を plot\n",
    "\n",
    "# x軸, y軸を決める　：　　x軸に対応してy軸が plot されていく\n",
    "x = np.linspace(15, 35, 100)\n",
    "y = w0 + w1*x\n",
    "\n",
    "plt.plot(x, y)"
   ]
  },
  {
   "cell_type": "markdown",
   "id": "2d071103-4ac1-4b65-b4d0-3b2aec871514",
   "metadata": {},
   "source": [
    "- 間違っている...\n",
    "\n",
    "- 気温が上がれば、ビールの本数が増える前提なので右肩上がりになるはず"
   ]
  },
  {
   "cell_type": "code",
   "execution_count": null,
   "id": "ed5927b5-48f6-4e27-8248-d04a6fb66a70",
   "metadata": {},
   "outputs": [],
   "source": []
  }
 ],
 "metadata": {
  "kernelspec": {
   "display_name": "Python 3",
   "language": "python",
   "name": "python3"
  },
  "language_info": {
   "codemirror_mode": {
    "name": "ipython",
    "version": 3
   },
   "file_extension": ".py",
   "mimetype": "text/x-python",
   "name": "python",
   "nbconvert_exporter": "python",
   "pygments_lexer": "ipython3",
   "version": "3.8.8"
  }
 },
 "nbformat": 4,
 "nbformat_minor": 5
}
