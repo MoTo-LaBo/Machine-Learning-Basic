{
 "cells": [
  {
   "cell_type": "markdown",
   "id": "5a17b071-62e9-47c6-b2f3-5ecf4b31c817",
   "metadata": {},
   "source": [
    "# 機械学習とは？\n",
    "\n",
    "<center>\n",
    "明示的に program しなくても（都度教えなくても）, PCが自ら学ぶ（学習する）事ができるようにする為にはどうすれば良いのかを考える分野\n",
    "<center>\n",
    "    ↓\n",
    "<b><center>\n",
    "コンピュータが自ら学ぶ\n",
    "</center></b>\n",
    "    ↓\n",
    "<center>\n",
    "データが増えていく事によって最適な解が変わっていく\n",
    "</center>"
   ]
  },
  {
   "cell_type": "markdown",
   "id": "9c348377-7f71-41c3-8cd0-f4d7509c6ac4",
   "metadata": {},
   "source": [
    "#### <u>T　:　タスクT</u>\n",
    "- *何かしらの判断をしてくれる　program*\n",
    "    - 例） 健康かどうかを判定する仕組み自体\n",
    "        - **model, アルゴリズム, 数式**\n",
    "\n",
    "<u>E　:　経験E</u>\n",
    "- *ある人が健康かどうかを示す data*\n",
    "    - 例) 血圧・血糖値・体重 etc...\n",
    "        - **数値**\n",
    "    \n",
    "#### <u>P　:　正答率P</u>\n",
    "- *健康かどうかを正しく判断した場合の割合*\n",
    "\n",
    "\n",
    "    \n",
    "<center>\n",
    "問題・課題\n",
    "<center>\n",
    "    ↓\n",
    "<center>\n",
    "人間が自ら考えて行動\n",
    "<center>\n",
    "    ↓\n",
    "<center>\n",
    "　色々な経験・体感の積み重ね\n",
    "<center>\n",
    "    ↓\n",
    "<center>\n",
    "結果を受け状況に応じて改善　or　現状維持(現状はbest practice)\n",
    "<center>\n",
    "    ↓\n",
    "<center>\n",
    "問題解決能力・意思決定能力\n",
    "<center>\n",
    "    ||\n",
    "<b><center>\n",
    "より良いモノ・価値・人生を生み出す為の努力の過程\n",
    "<center></b>"
   ]
  },
  {
   "cell_type": "markdown",
   "id": "ebdd395d-2b3d-43f5-b944-b1e267a27632",
   "metadata": {},
   "source": [
    "# 単回帰分析"
   ]
  },
  {
   "cell_type": "markdown",
   "id": "642313e2-f29f-4d83-9fe7-569f4959729a",
   "metadata": {},
   "source": [
    "<center>\n",
    "1. インプット data の整理\n",
    "<center>\n",
    "    ↓\n",
    "<center>\n",
    "2. アウトプット data の整理\n",
    "<center>\n",
    "    ↓\n",
    "<center>\n",
    "3. 分析方法（ model ）について考える\n",
    "<center>"
   ]
  },
  {
   "cell_type": "markdown",
   "id": "700caa48-53f8-4e65-8135-8867b5bef307",
   "metadata": {},
   "source": [
    "### 入力データの整理\n",
    "\n",
    "\n",
    "|気温|売上|\n",
    "|:---:|:---:|\n",
    "|20℃|30本|\n",
    "|23℃|32本|\n",
    "|28℃|40本|\n",
    "|30℃|44本|\n",
    "\n",
    "\n",
    "#### $$\n",
    "(　20,　30　),　(　23,　32　),　(　28,　40　),　(　30,　44　)\n",
    "$$"
   ]
  },
  {
   "cell_type": "markdown",
   "id": "f949697b-734f-4481-9e05-ed68b89c061c",
   "metadata": {},
   "source": [
    "## <u>誤差関数の導出</u>\n",
    "\n",
    "### 1. *誤差の導出*\n",
    "\n",
    "$$\n",
    "\\hat{y}=W_0+W_1x　　　(x_1, y_1)　　　\\hat{y}=W_0+W_1x-y_1\n",
    "$$\n",
    "\n",
    "\n",
    "### 2. *誤差関数の導出*\n",
    "- $x_1, y_1=　(20, 30), (23, 32), (28, 40), (30, 44)$\n",
    "\n",
    "$$\n",
    "(\\hat{y}-y)^2　=　(W_0+W_1x_1-y_1)^2　\n",
    "$$\n",
    "\n",
    "$$\n",
    "=　W_0^2　+　W_1^2x_1^2　+　y_1^2　+　2W_0W_1x_1　-　2W_0W_1x_1y_1　-　2W_0y_1\n",
    "$$\n",
    "\n",
    "\n",
    "### 3. *導入関数の導出*\n",
    "- $x_1, y_1=　(20, 30), (23, 32), (28, 40), (30, 44)$\n",
    "\n",
    "    - 1. 初期重み　$(W_0, W_1 )$ における傾きを計算\n",
    "\n",
    "$$\n",
    "\\frac{\\partial f}{\\partial \\omega_0}　=　2W0　+　2W1x1　-　2y1\n",
    "$$\n",
    "\n",
    "$$\n",
    "\\frac{\\partial f}{\\partial \\omega_1}　=　2W_1x_1^2　+　2W_0x_1　-　2x_1y_1\n",
    "$$\n",
    "\n",
    "$$\n",
    "=　x1( 2W_1x_1　+　2W_0　-　2y_1 )\n",
    "$$\n",
    "\n",
    "\n",
    "- 2. 傾きの方向に動かす\n",
    "\n",
    "$$\n",
    "W_0　:=　W_0　-　\\alpha(2W_0　+　2W_1x_1　-　2y_1)\n",
    "$$\n",
    "\n",
    "$$\n",
    "W_1　:=　W_1　-　\\alpha(x1(2W_1x_1　+　2W_0　-　2y_1))\n",
    "$$"
   ]
  },
  {
   "cell_type": "code",
   "execution_count": 5,
   "id": "f68ac7b2-fc0a-4364-9118-27856e3c020a",
   "metadata": {},
   "outputs": [],
   "source": [
    "import numpy as np"
   ]
  },
  {
   "cell_type": "code",
   "execution_count": 4,
   "id": "eb6ad5b4-a057-411c-9944-e7f7bf9de31d",
   "metadata": {},
   "outputs": [],
   "source": [
    "input_data = np.array([[20, 30], [23, 32], [28, 40], [30, 44]])\n",
    "data_num = input_data.shape[0]"
   ]
  },
  {
   "cell_type": "code",
   "execution_count": null,
   "id": "46d85344-015f-4937-a046-93f55219c404",
   "metadata": {},
   "outputs": [],
   "source": []
  },
  {
   "cell_type": "code",
   "execution_count": null,
   "id": "18545a9c-3dca-4f37-8b86-a46d53ba08c3",
   "metadata": {},
   "outputs": [],
   "source": [
    "# 誤差関数を微分\n",
    "\n",
    "for i in range(data_num):\n",
    "    dw0 = dw0 + 2w0 + 2w1x1 - 2y1      # w0の傾き\n",
    "    dw1 = dw1 + x1(2w1x1 + 2w0 - 2y1)  # w1方向の傾き\n",
    "\n",
    "# 最急降下法で重みの更新\n",
    "w0 = w0 - alpha*(dw0)\n",
    "w1 = w1 - alpha*(dw1)"
   ]
  }
 ],
 "metadata": {
  "kernelspec": {
   "display_name": "Python 3",
   "language": "python",
   "name": "python3"
  },
  "language_info": {
   "codemirror_mode": {
    "name": "ipython",
    "version": 3
   },
   "file_extension": ".py",
   "mimetype": "text/x-python",
   "name": "python",
   "nbconvert_exporter": "python",
   "pygments_lexer": "ipython3",
   "version": "3.8.8"
  }
 },
 "nbformat": 4,
 "nbformat_minor": 5
}
