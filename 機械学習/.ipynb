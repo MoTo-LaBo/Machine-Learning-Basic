{
 "cells": [
  {
   "cell_type": "markdown",
   "id": "a3993e9b-93fc-4b6d-b009-3196e3ebedcc",
   "metadata": {},
   "source": [
    "# 機械学習とは？"
   ]
  },
  {
   "cell_type": "markdown",
   "id": "c7b0b90e-8dd8-4a63-ac91-f55e64b3c4a1",
   "metadata": {},
   "source": [
    "<center>\n",
    "明示的に program しなくても（都度教えなくても）, PCが自ら学ぶ（学習する）事ができるようにする為にはどうすれば良いのかを考える分野\n",
    "<center>\n",
    "    ↓\n",
    "<center>\n",
    "コンピュータが自ら学ぶ\n",
    "<center>\n",
    "\n",
    "#### <u>T　:　タスクT</u>\n",
    "- *何かしらの判断をしてくれる　program*\n",
    "    - 例） 健康かどうかを判定する仕組み自体\n",
    "        - **model, アルゴリズム, 数式**\n",
    "\n",
    "#### <u>E　:　経験E</u>\n",
    "- *ある人が健康かどうかを示す data*\n",
    "    - 例) 血圧・血糖値・体重 etc...\n",
    "        - **数値**\n",
    "    \n",
    "#### <u>P　:　正答率P</u>\n",
    "- *健康かどうかを正しく判断した場合の割合*\n",
    "\n",
    "\n",
    "<center>\n",
    "問題・課題\n",
    "<center>\n",
    "    ↓\n",
    "<center>\n",
    "人間が自ら考えて行動\n",
    "<center>\n",
    "    ↓\n",
    "<center>\n",
    "　色々な経験・体感\n",
    "<center>\n",
    "    ↓\n",
    "<center>\n",
    "結果を受け状況に応じて改善　or　現状維持(現状はbest practice)\n",
    "<center>\n",
    "    ↓\n",
    "<center>\n",
    "より良いモノ・価値・人生を生み出す為の努力の過程\n",
    "<center>\n",
    "    ↓\n",
    "<center>\n",
    "問題解決能力・意思決定能力\n",
    "<center>"
   ]
  },
  {
   "cell_type": "markdown",
   "id": "12f763bf-9158-4005-9341-caf81eda586e",
   "metadata": {},
   "source": []
  }
 ],
 "metadata": {
  "kernelspec": {
   "display_name": "Python 3",
   "language": "python",
   "name": "python3"
  },
  "language_info": {
   "codemirror_mode": {
    "name": "ipython",
    "version": 3
   },
   "file_extension": ".py",
   "mimetype": "text/x-python",
   "name": "python",
   "nbconvert_exporter": "python",
   "pygments_lexer": "ipython3",
   "version": "3.8.8"
  }
 },
 "nbformat": 4,
 "nbformat_minor": 5
}
