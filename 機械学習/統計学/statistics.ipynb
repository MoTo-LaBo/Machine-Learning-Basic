{
 "cells": [
  {
   "cell_type": "markdown",
   "id": "c2a48803-8f9c-49f5-9cab-451e59f35758",
   "metadata": {},
   "source": [
    "# 統計学とは？"
   ]
  },
  {
   "cell_type": "markdown",
   "id": "af80504d-de16-4ed6-881c-8c9215dd4193",
   "metadata": {},
   "source": [
    "\n",
    "<center>\n",
    "そもそも定義についても議論されている。必要に応じて生まれてきた\n",
    "<center><br>\n",
    "    ↓\n",
    "<center>\n",
    "<br>\n",
    "・ 国家財政の必要から起こった国家状態の統計<br>\n",
    "<br>\n",
    "・ 地中海での難破事故に対する海上保険の計算<br>\n",
    "<br>\n",
    "・ ゲームでの勝率を上げる為の確率論\n",
    "</center>"
   ]
  },
  {
   "cell_type": "markdown",
   "id": "e082822d-47f2-4f8f-b5e1-8d67f32c0a35",
   "metadata": {},
   "source": [
    "### <u>記述統計</u>\n",
    "- *現状の整理*\n",
    "<b><center>\n",
    "<br>\n",
    "広く与えられた data を整理し、有用な情報を取り出す方法論\n",
    "</center><br></b>\n",
    "\n",
    "### <u>推測統計</u>\n",
    "- *未来の予測*\n",
    "<b><center><br>\n",
    "数字 data をどのように分析し、どのような判断をくだしたら良いかを論ずる学問\n",
    "</center></b>\n",
    "    \n",
    "\n",
    "### <u>統計学と機械学習の関係性</u>\n",
    "<center>\n",
    "機械学習はどちらかというと<b>推測統計(data分析, 判断)</b>の方法を考える学問と通ずる部分がある<br>\n",
    "</center>\n"
   ]
  }
 ],
 "metadata": {
  "kernelspec": {
   "display_name": "Python 3",
   "language": "python",
   "name": "python3"
  },
  "language_info": {
   "codemirror_mode": {
    "name": "ipython",
    "version": 3
   },
   "file_extension": ".py",
   "mimetype": "text/x-python",
   "name": "python",
   "nbconvert_exporter": "python",
   "pygments_lexer": "ipython3",
   "version": "3.8.8"
  }
 },
 "nbformat": 4,
 "nbformat_minor": 5
}
