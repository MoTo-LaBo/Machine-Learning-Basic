{
 "cells": [
  {
   "cell_type": "code",
   "execution_count": 68,
   "id": "9bd94f26-a3bb-43ba-a507-fc7a9963cc92",
   "metadata": {},
   "outputs": [],
   "source": [
    "%load_ext autoreload\n",
    "%autoreload 2\n",
    "from glob import glob\n",
    "from pathlib import Path\n",
    "import os\n",
    "import aivis\n",
    "import numpy as np"
   ]
  },
  {
   "cell_type": "code",
   "execution_count": 21,
   "id": "6483fedb-29fe-4ec0-bab2-0c2711973a8e",
   "metadata": {},
   "outputs": [
    {
     "data": {
      "text/plain": [
       "['03微分/chain_rule_lesson.ipynb',\n",
       " '03微分/limit_lesson.ipynb',\n",
       " '03微分/multivariable_chain_lesson.ipynb',\n",
       " '03微分/napier_lesson.ipynb',\n",
       " '03微分/partial_lesson.ipynb',\n",
       " '03微分/total_lesson.ipynb']"
      ]
     },
     "execution_count": 21,
     "metadata": {},
     "output_type": "execute_result"
    }
   ],
   "source": [
    "name = glob('03微分/*')\n",
    "name"
   ]
  },
  {
   "cell_type": "code",
   "execution_count": 24,
   "id": "7a342aef-3ccd-4018-82a7-96a7d1a6aba1",
   "metadata": {},
   "outputs": [],
   "source": [
    "p = Path('../AI/')"
   ]
  },
  {
   "cell_type": "code",
   "execution_count": 25,
   "id": "7dd6468b-bcb6-4926-8430-f637dbce76a4",
   "metadata": {},
   "outputs": [
    {
     "data": {
      "text/plain": [
       "PosixPath('../AI')"
      ]
     },
     "execution_count": 25,
     "metadata": {},
     "output_type": "execute_result"
    }
   ],
   "source": [
    "p"
   ]
  },
  {
   "cell_type": "code",
   "execution_count": 28,
   "id": "84ba7b01-7e74-4a79-ae2e-f71bdd6de060",
   "metadata": {},
   "outputs": [
    {
     "data": {
      "text/plain": [
       "[PosixPath('../AI/.ipynb_checkpoints'),\n",
       " PosixPath('../AI/01数学基礎'),\n",
       " PosixPath('../AI/02線形代数'),\n",
       " PosixPath('../AI/03微分'),\n",
       " PosixPath('../AI/04確率・統計'),\n",
       " PosixPath('../AI/rename.ipynb'),\n",
       " PosixPath('../AI/人工知能(AI)応用')]"
      ]
     },
     "execution_count": 28,
     "metadata": {},
     "output_type": "execute_result"
    }
   ],
   "source": [
    "sub_p = list(p.iterdir())\n",
    "sub_p"
   ]
  },
  {
   "cell_type": "code",
   "execution_count": 29,
   "id": "69ea1739-8185-473c-a2c8-f3385a094565",
   "metadata": {},
   "outputs": [
    {
     "data": {
      "text/plain": [
       "PosixPath('../AI/03微分')"
      ]
     },
     "execution_count": 29,
     "metadata": {},
     "output_type": "execute_result"
    }
   ],
   "source": [
    "sub_p = list(p.iterdir())[3]\n",
    "sub_p"
   ]
  },
  {
   "cell_type": "code",
   "execution_count": 34,
   "id": "b1b44e48-9ac7-442f-b7a9-df3174d92179",
   "metadata": {},
   "outputs": [
    {
     "data": {
      "text/plain": [
       "PosixPath('../AI/03微分/chain_rule_lesson.ipynb')"
      ]
     },
     "execution_count": 34,
     "metadata": {},
     "output_type": "execute_result"
    }
   ],
   "source": [
    "target_file = list(sub_p.glob('*'))\n",
    "target_file[0]"
   ]
  },
  {
   "cell_type": "code",
   "execution_count": 37,
   "id": "d32e1b30-6d71-4408-a06d-9480a8809263",
   "metadata": {},
   "outputs": [
    {
     "name": "stdout",
     "output_type": "stream",
     "text": [
      "folder: ../AI/03微分\n",
      "file: chain_rule_lesson.ipynb\n"
     ]
    }
   ],
   "source": [
    "f_dir, f_name = os.path.split(target_file[0])\n",
    "print(f'folder: {f_dir}\\nfile: {f_name}')"
   ]
  },
  {
   "cell_type": "code",
   "execution_count": 45,
   "id": "63a15e8a-0e48-4132-a78e-356614414408",
   "metadata": {},
   "outputs": [
    {
     "data": {
      "text/plain": [
       "'_lesson'"
      ]
     },
     "execution_count": 45,
     "metadata": {},
     "output_type": "execute_result"
    }
   ],
   "source": [
    "f_name[-13:-6]"
   ]
  },
  {
   "cell_type": "code",
   "execution_count": 51,
   "id": "8f3b1d13-fb4d-4993-9bde-0cc99f689f51",
   "metadata": {},
   "outputs": [
    {
     "data": {
      "text/plain": [
       "'chain_rule_lesson.ipynb'"
      ]
     },
     "execution_count": 51,
     "metadata": {},
     "output_type": "execute_result"
    }
   ],
   "source": [
    "f_name"
   ]
  },
  {
   "cell_type": "code",
   "execution_count": 55,
   "id": "9b54a425-cd84-4cd6-ba21-3e0d205df86b",
   "metadata": {},
   "outputs": [
    {
     "data": {
      "text/plain": [
       "'chain_rule.ipynb'"
      ]
     },
     "execution_count": 55,
     "metadata": {},
     "output_type": "execute_result"
    }
   ],
   "source": [
    "f_name.replace('_lesson','')"
   ]
  },
  {
   "cell_type": "code",
   "execution_count": 62,
   "id": "149f773c-1e7f-4dd7-84c7-833153692726",
   "metadata": {},
   "outputs": [
    {
     "name": "stdout",
     "output_type": "stream",
     "text": [
      "chain_rule.ipynb\n",
      "limit.ipynb\n",
      "multivariable_chain.ipynb\n",
      "napier.ipynb\n",
      "partial.ipynb\n",
      "total.ipynb\n"
     ]
    }
   ],
   "source": [
    "for f in target_file:\n",
    "    _, n = os.path.split(f)\n",
    "    r = n.replace('_lesson', '')\n",
    "    print"
   ]
  },
  {
   "cell_type": "code",
   "execution_count": 63,
   "id": "c6dabd1d-1404-4dcd-99b5-9346b7cd98f0",
   "metadata": {},
   "outputs": [],
   "source": [
    "for f in target_file:\n",
    "    _, n = os.path.split(f)\n",
    "    r = n.replace('_lesson', '')\n",
    "    os.rename(f, r)"
   ]
  },
  {
   "cell_type": "code",
   "execution_count": 67,
   "id": "e55015bd-fcf7-4732-8398-5cadb2dc3ce6",
   "metadata": {},
   "outputs": [],
   "source": [
    "def rename_func(p, idx: int, str1, str2):\n",
    "    sub_p = list(p.iterdir())[idx] # subpath　rename したい folder　選択\n",
    "    tf = list(sub_p.glob('*'))     # target_folder　内の file path取得\n",
    "    for f in tf:                   # for文で元の path を使用して振り分けと　rename　を同時に行う\n",
    "        _, n = os.path.split(f)    # split で folder, fileに分ける\n",
    "        r = n.replace(str1, str2)  # str1 削除したい文字列　/ str2 代入したい文字列\n",
    "        os.rename(f, r)\n",
    "    return"
   ]
  },
  {
   "cell_type": "markdown",
   "id": "8ebdf47f-2c41-46a7-8912-9676b8504ee8",
   "metadata": {},
   "source": [
    "## rename function 作成\n",
    "- *file name の同一の文字列を削除したかった為に作成*\n",
    "    - file数が多いため手直しでは手間がかかるので\n",
    "\n",
    "\n",
    "- `pathlib Path`\n",
    "    - *path取得*\n",
    "\n",
    "\n",
    "- `list(p.iterdir())`\n",
    "    - *取得した path 以下の directory 一覧表示*\n",
    "        - **取得したい directory index 確認**\n",
    "\n",
    "\n",
    "- `rename_func(p, index, str1, str2)`\n",
    "    - *p*\n",
    "        - **path 指定**\n",
    "    - *index*\n",
    "        - **取得したいfolder　index(int)**\n",
    "    - *str1*\n",
    "        - **削除したい file の文字列**\n",
    "    - *str2*\n",
    "        - **そこに代入したい文字列**\n",
    "        - ' ' : 空白何も入れないでもOK"
   ]
  },
  {
   "cell_type": "markdown",
   "id": "89d7fd7d-0ae8-403b-8b8c-b81d0b63831b",
   "metadata": {},
   "source": [
    "### 作成 function を使用して rename"
   ]
  },
  {
   "cell_type": "code",
   "execution_count": 70,
   "id": "0fb71cb0-fcf2-4381-84aa-f4c1c59d80d0",
   "metadata": {},
   "outputs": [],
   "source": [
    "aivis.rename_func(p, 3, '_lesson', '')"
   ]
  },
  {
   "cell_type": "code",
   "execution_count": 75,
   "id": "25688199-c497-4c11-9c51-2132711a7fbb",
   "metadata": {},
   "outputs": [
    {
     "data": {
      "text/plain": [
       "PosixPath('../AI')"
      ]
     },
     "execution_count": 75,
     "metadata": {},
     "output_type": "execute_result"
    }
   ],
   "source": [
    "p"
   ]
  },
  {
   "cell_type": "code",
   "execution_count": 76,
   "id": "b5e7c034-f184-4338-b4db-2f0fa87782fa",
   "metadata": {},
   "outputs": [
    {
     "data": {
      "text/plain": [
       "[PosixPath('../AI/.ipynb_checkpoints'),\n",
       " PosixPath('../AI/01数学基礎'),\n",
       " PosixPath('../AI/02線形代数'),\n",
       " PosixPath('../AI/03微分'),\n",
       " PosixPath('../AI/04確率・統計'),\n",
       " PosixPath('../AI/__pycache__'),\n",
       " PosixPath('../AI/aivis.py'),\n",
       " PosixPath('../AI/rename_func.ipynb'),\n",
       " PosixPath('../AI/人工知能(AI)応用')]"
      ]
     },
     "execution_count": 76,
     "metadata": {},
     "output_type": "execute_result"
    }
   ],
   "source": [
    "list(p.iterdir())"
   ]
  },
  {
   "cell_type": "code",
   "execution_count": 77,
   "id": "251251e4-5744-4239-8dfa-4417278e77e5",
   "metadata": {},
   "outputs": [
    {
     "data": {
      "text/plain": [
       "PosixPath('../AI/04確率・統計')"
      ]
     },
     "execution_count": 77,
     "metadata": {},
     "output_type": "execute_result"
    }
   ],
   "source": [
    "list(p.iterdir())[4]"
   ]
  },
  {
   "cell_type": "code",
   "execution_count": 78,
   "id": "42eee171-d117-4599-b2d6-f69b563ed013",
   "metadata": {},
   "outputs": [],
   "source": [
    "aivis.rename_func(p, 4, '_lesson', '')"
   ]
  },
  {
   "cell_type": "code",
   "execution_count": null,
   "id": "578e321a-bab0-4946-b23d-ad7bdf5ee4dd",
   "metadata": {},
   "outputs": [],
   "source": []
  }
 ],
 "metadata": {
  "kernelspec": {
   "display_name": "Python 3",
   "language": "python",
   "name": "python3"
  },
  "language_info": {
   "codemirror_mode": {
    "name": "ipython",
    "version": 3
   },
   "file_extension": ".py",
   "mimetype": "text/x-python",
   "name": "python",
   "nbconvert_exporter": "python",
   "pygments_lexer": "ipython3",
   "version": "3.8.8"
  }
 },
 "nbformat": 4,
 "nbformat_minor": 5
}
