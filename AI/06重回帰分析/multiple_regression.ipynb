{
 "cells": [
  {
   "cell_type": "markdown",
   "id": "f6199d15-5eb0-4c5b-b7da-87aadd2f97eb",
   "metadata": {},
   "source": [
    "# 重回帰分析の実装\n",
    "- multiple regression analysis"
   ]
  },
  {
   "cell_type": "markdown",
   "id": "b328760c-5311-4b65-a105-27953fc583d6",
   "metadata": {},
   "source": [
    "## 行列演算の基礎\n",
    "- *一番最適な paramertor を求める事ができる*　=　`評価関数を最小にできる計算`\n",
    "\n",
    "\n",
    "$$\n",
    "\\omega　=　(X^TX)^{-1}X^Ty\n",
    "$$\n",
    "1. ベクトルの定義\n",
    "1. 行列の定義\n",
    "1. 転置\n",
    "1. 逆行列\n",
    "1. 行列積"
   ]
  },
  {
   "cell_type": "code",
   "execution_count": 1,
   "id": "7a987acd-5cc6-4ee5-95c4-f79135eaad44",
   "metadata": {},
   "outputs": [],
   "source": [
    "import numpy as np"
   ]
  },
  {
   "cell_type": "code",
   "execution_count": 22,
   "id": "3f3aa502-df99-466d-a609-05706a706f83",
   "metadata": {},
   "outputs": [
    {
     "data": {
      "text/plain": [
       "array([[1],\n",
       "       [2],\n",
       "       [3]])"
      ]
     },
     "execution_count": 22,
     "metadata": {},
     "output_type": "execute_result"
    }
   ],
   "source": [
    "# ベクトルの定義\n",
    "x = np.array([[1], [2], [3]])\n",
    "x"
   ]
  },
  {
   "cell_type": "code",
   "execution_count": 23,
   "id": "a5e4b241-8f31-4987-bff2-15261c5e3136",
   "metadata": {},
   "outputs": [
    {
     "name": "stdout",
     "output_type": "stream",
     "text": [
      "[[1]\n",
      " [2]\n",
      " [3]]\n"
     ]
    }
   ],
   "source": [
    "print(x)"
   ]
  },
  {
   "cell_type": "code",
   "execution_count": 24,
   "id": "efb1a430-efac-4368-8a84-0ef28b997b7b",
   "metadata": {},
   "outputs": [
    {
     "data": {
      "text/plain": [
       "array([[1, 2],\n",
       "       [3, 4]])"
      ]
     },
     "execution_count": 24,
     "metadata": {},
     "output_type": "execute_result"
    }
   ],
   "source": [
    "# 行列の定義\n",
    "X = np.array([[1, 2], [3, 4]])\n",
    "X"
   ]
  },
  {
   "cell_type": "code",
   "execution_count": 25,
   "id": "96093551-4432-4f58-b809-d42f3395754a",
   "metadata": {},
   "outputs": [
    {
     "name": "stdout",
     "output_type": "stream",
     "text": [
      "[[1 2]\n",
      " [3 4]]\n"
     ]
    }
   ],
   "source": [
    "print(X)"
   ]
  },
  {
   "cell_type": "code",
   "execution_count": 26,
   "id": "407c1888-b643-4ecb-98a9-b09210df844a",
   "metadata": {},
   "outputs": [
    {
     "data": {
      "text/plain": [
       "array([[1, 3],\n",
       "       [2, 4]])"
      ]
     },
     "execution_count": 26,
     "metadata": {},
     "output_type": "execute_result"
    }
   ],
   "source": [
    "# 転置\n",
    "Xt = X.T\n",
    "Xt"
   ]
  },
  {
   "cell_type": "code",
   "execution_count": 27,
   "id": "5a934718-1dfd-4bf5-9cbb-6e370d50b89a",
   "metadata": {},
   "outputs": [
    {
     "name": "stdout",
     "output_type": "stream",
     "text": [
      "ベクトル\n",
      "[[1]\n",
      " [2]\n",
      " [3]]\n",
      "行列\n",
      "[[1 2]\n",
      " [3 4]]\n",
      "転置\n",
      "[[1 3]\n",
      " [2 4]]\n"
     ]
    }
   ],
   "source": [
    "print(f'ベクトル\\n{x}\\n行列\\n{X}\\n転置\\n{Xt}')"
   ]
  },
  {
   "cell_type": "code",
   "execution_count": 31,
   "id": "9f5cda45-51c9-4941-bc8f-c7545fdc2b5a",
   "metadata": {},
   "outputs": [
    {
     "name": "stdout",
     "output_type": "stream",
     "text": [
      "[[-2.   1. ]\n",
      " [ 1.5 -0.5]]\n"
     ]
    }
   ],
   "source": [
    "# 逆行列\n",
    "# linear algebra : 線形代数\n",
    "\n",
    "X_inv = np.linalg.inv(X)\n",
    "print(X_inv)"
   ]
  },
  {
   "cell_type": "code",
   "execution_count": 30,
   "id": "d95407fe-e154-4a04-b922-f0a55486544b",
   "metadata": {},
   "outputs": [
    {
     "name": "stdout",
     "output_type": "stream",
     "text": [
      "[[1.00000000e+00 1.11022302e-16]\n",
      " [0.00000000e+00 1.00000000e+00]]\n"
     ]
    }
   ],
   "source": [
    "# 行列積\n",
    "XX_inv = np.dot(X, X_inv)\n",
    "print(XX_inv)"
   ]
  },
  {
   "cell_type": "markdown",
   "id": "600e2385-3b8b-4b11-80f1-0596a33f3755",
   "metadata": {},
   "source": [
    "## 重回帰分析の実装（flow）\n",
    "### 演習問題\n",
    "\n",
    "$$\n",
    "x　=　\n",
    "\\left(\n",
    "    \\begin{array}{c}\n",
    "    1 & 2 & 3 \\\\\n",
    "    1 & 2 & 5 \\\\\n",
    "    1 & 3 & 4 \\\\\n",
    "    1 & 3 & 9 \\\\\n",
    "    \\end{array}\n",
    "\\right)\n",
    ",　\n",
    "y　=　\n",
    "\\left(\n",
    "    \\begin{array}{c}\n",
    "    1 \\\\\n",
    "    5 \\\\\n",
    "    6 \\\\\n",
    "    8 \\\\\n",
    "    \\end{array}\n",
    "\\right)\n",
    "$$\n",
    "\n",
    "\n",
    "$$\n",
    "\\omega　=　(X^TX)^{-1}X^Ty\n",
    "$$\n",
    "\n",
    "\n",
    "1. $X^TX$ を計算\n",
    "1. $(X^TX)^{-1}$ を計算(逆行列)\n",
    "1. $X^Ty$　を計算\n",
    "1. $\\omega　=　(X^TX)^{-1}X^Ty$ に代入して計算していく"
   ]
  },
  {
   "cell_type": "code",
   "execution_count": 42,
   "id": "7af85019-dece-424c-98ff-e340224e954c",
   "metadata": {},
   "outputs": [
    {
     "name": "stdout",
     "output_type": "stream",
     "text": [
      "X:\n",
      "[[1 2 3]\n",
      " [1 2 5]\n",
      " [1 3 4]\n",
      " [1 5 9]]\n",
      "\n",
      "y:\n",
      "[[1]\n",
      " [5]\n",
      " [6]\n",
      " [8]]\n",
      "\n",
      "XtX: 転置・行列積\n",
      "[[  4  12  21]\n",
      " [ 12  42  73]\n",
      " [ 21  73 131]]\n",
      "\n",
      "X_inv: 逆行列\n",
      "[[ 1.76530612 -0.39795918 -0.06122449]\n",
      " [-0.39795918  0.84693878 -0.40816327]\n",
      " [-0.06122449 -0.40816327  0.24489796]]\n",
      "\n",
      "Xty: 転置・行列積\n",
      "[[ 20]\n",
      " [ 70]\n",
      " [124]]\n"
     ]
    }
   ],
   "source": [
    "# X の定義\n",
    "X = np.array([\n",
    "    [1, 2, 3],\n",
    "    [1, 2, 5],\n",
    "    [1, 3, 4],\n",
    "    [1, 5, 9]\n",
    "])\n",
    "\n",
    "# y の定義\n",
    "y = np.array([\n",
    "    [1],\n",
    "    [5],\n",
    "    [6],\n",
    "    [8]\n",
    "])\n",
    "\n",
    "# 1. 転置・行列積の計算\n",
    "XtX =np.dot(X.T, X)\n",
    "\n",
    "# 2. 逆行列 : linear algebra(線形代数)\n",
    "X_inv = np.linalg.inv(XtX)\n",
    "\n",
    "# 3. 転置・行列積\n",
    "Xty = np.dot(X.T, y)\n",
    "\n",
    "\n",
    "print(f'X:\\n{X}\\n\\ny:\\n{y}\\n\\nXtX: 転置・行列積\\n{XtX}\\n\\nX_inv: 逆行列\\n{X_inv}\\n\\nXty: 転置・行列積\\n{Xty}')"
   ]
  },
  {
   "cell_type": "markdown",
   "id": "d755101b-e287-49cf-9c74-8613b7926ec6",
   "metadata": {},
   "source": [
    "### 4.　$\\omega　=　(X^TX)^{-1}X^Ty$ に代入して計算していく"
   ]
  },
  {
   "cell_type": "code",
   "execution_count": 43,
   "id": "d977db8d-a21b-4297-9cb6-862e2c514a5f",
   "metadata": {},
   "outputs": [
    {
     "name": "stdout",
     "output_type": "stream",
     "text": [
      "[[-0.14285714]\n",
      " [ 0.71428571]\n",
      " [ 0.57142857]]\n"
     ]
    }
   ],
   "source": [
    "w = np.dot(X_inv, Xty)\n",
    "print(w)"
   ]
  }
 ],
 "metadata": {
  "kernelspec": {
   "display_name": "Python 3",
   "language": "python",
   "name": "python3"
  },
  "language_info": {
   "codemirror_mode": {
    "name": "ipython",
    "version": 3
   },
   "file_extension": ".py",
   "mimetype": "text/x-python",
   "name": "python",
   "nbconvert_exporter": "python",
   "pygments_lexer": "ipython3",
   "version": "3.8.8"
  }
 },
 "nbformat": 4,
 "nbformat_minor": 5
}
