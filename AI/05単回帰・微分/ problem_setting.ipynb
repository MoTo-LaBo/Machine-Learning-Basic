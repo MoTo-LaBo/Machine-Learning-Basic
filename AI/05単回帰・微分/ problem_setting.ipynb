{
 "cells": [
  {
   "cell_type": "markdown",
   "id": "bd029763",
   "metadata": {},
   "source": [
    "# 単回帰分析"
   ]
  },
  {
   "cell_type": "markdown",
   "id": "0cb87242",
   "metadata": {},
   "source": [
    "### 問題設定\n",
    "- 家賃の予測"
   ]
  },
  {
   "cell_type": "markdown",
   "id": "bd65f77e",
   "metadata": {},
   "source": [
    "y : 出力変数　（家賃）\n",
    "\n",
    "x : 入力変数　（広さ、距離、治安...）"
   ]
  },
  {
   "cell_type": "markdown",
   "id": "2fea5808",
   "metadata": {},
   "source": [
    "### 単回帰分析の制約\n",
    "- x の入力変数は何か１つだけから計算すること\n",
    "※ 複数の入力は認められていない\n",
    "- 複数から data を算出したい場合は、重回帰分析を使用する"
   ]
  },
  {
   "cell_type": "markdown",
   "id": "02990eb1",
   "metadata": {},
   "source": [
    "### 2つのフェーズがある\n",
    "1. 学習\n",
    "2. 推論"
   ]
  },
  {
   "cell_type": "markdown",
   "id": "a000b05d",
   "metadata": {},
   "source": [
    "### 1. 学習\n",
    "- 予測したいモノも含めて data を入れる\n",
    "\n",
    "x : ２０m2 -> y : ５万円\n",
    "\n",
    "上記のような data を複数 model(空box) に入れて、学習させる（訓練させる）\n",
    "\n",
    "※ この時 　x と 　y は対応関係のある data を入れること\n",
    "\n",
    "#### AI は上記のような data を１０万件くらい入力(学習・訓練)\n",
    "- その後、学習済み　model として実用性がある(規則性を発見できる)ものとして使用できる"
   ]
  },
  {
   "cell_type": "markdown",
   "id": "4dd0c780",
   "metadata": {},
   "source": [
    "### 2. 推論\n",
    "- 学習済み model を使用して予測する\n",
    "\n",
    "#### 外挿の data は扱えない\n",
    "- 学習をさせていない data は扱えない"
   ]
  },
  {
   "cell_type": "markdown",
   "id": "421eefc9",
   "metadata": {},
   "source": [
    "# step1 : 「model」 を決める"
   ]
  },
  {
   "cell_type": "markdown",
   "id": "14718fc2",
   "metadata": {},
   "source": [
    "### model を人間側の知見で直線でいけそうだと仮定する\n",
    "$$\n",
    "y=ax+b\n",
    "$$"
   ]
  },
  {
   "cell_type": "markdown",
   "id": "e42b3b59",
   "metadata": {},
   "source": [
    "### 予測値\n",
    "$$\n",
    "\\hat{y}=ax+b\n",
    "$$\n",
    "\n",
    "- a と　b をパラメータと呼ぶ"
   ]
  },
  {
   "cell_type": "markdown",
   "id": "dcfdfbcb",
   "metadata": {},
   "source": [
    "### ゴール\n",
    "$$\n",
    "data(x_{1},x_{2}...,y_{1},y_{2}...)\n",
    "$$\n",
    "- 上記の data に基づいて「適切」にパラメータ　a と b を決定する"
   ]
  },
  {
   "cell_type": "markdown",
   "id": "ba8e2ebd",
   "metadata": {},
   "source": [
    "### 単回帰分析には直線を利用する\n",
    "直線の公式が非常に重要になってくる\n",
    "$$\n",
    "y=ax+b\n",
    "$$\n"
   ]
  },
  {
   "cell_type": "markdown",
   "id": "555179a8",
   "metadata": {},
   "source": [
    "# data centering (データの中心化)"
   ]
  },
  {
   "cell_type": "markdown",
   "id": "f83b4eac",
   "metadata": {},
   "source": [
    "### 中心化のメリット\n",
    "- 中心化をすることにより切片を無くす事ができる\n",
    "    - +b （切片）を求めなくていい\n",
    "    - 効率化ができる\n",
    "$$\n",
    "\\hat{y_{c}}=ax_{c}\n",
    "$$\n",
    "\n",
    "- c = centering (中心化の意)"
   ]
  },
  {
   "cell_type": "markdown",
   "id": "dba74e31",
   "metadata": {},
   "source": [
    "### 中心の表し方\n",
    "$$\n",
    "\\bar{x}\n",
    "$$\n",
    "- x バー\n",
    "\n",
    "$\n",
    "\\bar{x}:$　x の平均\n",
    "$$\n",
    "\\bar{y}\n",
    "$$\n",
    "- y バー\n",
    "\n",
    "$\\bar{y}:$　yの平均"
   ]
  },
  {
   "cell_type": "markdown",
   "id": "e30bdd19",
   "metadata": {},
   "source": [
    "### centering (中心化)\n",
    "$$\n",
    "x_{c}=x-\\bar{x}\n",
    "$$\n",
    "$$\n",
    "y_{c}=y-\\bar{y}\n",
    "$$\n",
    "- 実際の座標から,centeringした平均の値を引くだけ\n",
    "\n",
    "### data が中心化済み\n",
    "$$\n",
    "\\hat{y}=ax\n",
    "$$\n",
    "- ※ c を省略"
   ]
  },
  {
   "cell_type": "markdown",
   "id": "689b5047",
   "metadata": {},
   "source": [
    "# step2 : 評価関数を決める"
   ]
  },
  {
   "cell_type": "markdown",
   "id": "0d093e4a",
   "metadata": {},
   "source": [
    "### 「適切」を決める\n",
    "- 『　評価関数　』を決める　: (損失関数)"
   ]
  },
  {
   "cell_type": "markdown",
   "id": "23b77c8b",
   "metadata": {},
   "source": [
    "### 2乗誤差を使用する\n",
    "- ±(＋とー) は重要ではない。誤差が重要\n",
    "$$\n",
    "(y-\\hat{y})^2\n",
    "$$\n",
    "\n",
    "$y:$ 実際の家賃\n",
    "\n",
    "$\\hat{y}:$ 予想家賃"
   ]
  },
  {
   "cell_type": "markdown",
   "id": "2b804cef",
   "metadata": {},
   "source": [
    "### スケールは大丈夫なのか？\n",
    "単回帰分析に限った話\n",
    "- 絶対値は角度がキツイv型の式になる\n",
    "    - 滑らかでない　-> 微分の計算ができない \n",
    "- 2乗型は放物線の型の式になる\n",
    "    - 滑らか -> 微分で計算ができる\n",
    "\n",
    "#### 数学的な取り扱いやすさでも2乗の方が扱いやすい"
   ]
  },
  {
   "cell_type": "markdown",
   "id": "079cb0be",
   "metadata": {},
   "source": [
    "### 二乗誤差\n",
    "$l:$ 評価関数\n",
    "\n",
    "$$\n",
    "l=(y_{1}-\\hat{y_{1}})^2+　(y_{2}-\\hat{y_{2}})^2　+　... + (y_{N}-\\hat{y_{N}})^2　\n",
    "$$\n",
    "\n",
    "- 1件目、２件目、N件目\n",
    "- N : サンプル数(N数)　よく使用される\n",
    "\n",
    "### シグマ : n=1(一件目からstart) N=総和(N件目まで足す)\n",
    "$$\n",
    "\\sum_{n=1}^{N}(y_{n}-\\hat{y_{n}})^2 \n",
    "$$\n"
   ]
  },
  {
   "cell_type": "markdown",
   "id": "21234731",
   "metadata": {},
   "source": [
    "# step3 : 評価関数を「　最小化　」する\n",
    "#### 「　傾き　0」 = 誤差が最小を求める"
   ]
  },
  {
   "cell_type": "markdown",
   "id": "19ef5585",
   "metadata": {},
   "source": [
    "#### 傾き = 0 を求める -> 微分する\n",
    "\n",
    "#### 微分の公式を利用する\n",
    "$$\n",
    "\\frac{d}{dx}(y)=0\\\\\n",
    "$$\n",
    "- 何を何で微分してあげれば良いのか？\n",
    "    - 評価関数は縦軸が微分される対象\n",
    "    - 横軸は微分するモノ"
   ]
  },
  {
   "cell_type": "markdown",
   "id": "f0bf0abc",
   "metadata": {},
   "source": [
    "### 傾き＝０を求める公式\n",
    "$$\n",
    "\\frac{d}{da}(l)=0\n",
    "$$"
   ]
  },
  {
   "cell_type": "markdown",
   "id": "281785b2",
   "metadata": {},
   "source": [
    "### 評価関数の公式\n",
    "#### シグマ : n=1(一件目からstart) N=総和(N件目まで足す)\n",
    "$$\n",
    "l=\\sum_{n=1}^{N}(y_{n}-\\hat{y_{n}})^2 \n",
    "$$\n",
    "- 二乗誤差で表す事ができる"
   ]
  },
  {
   "cell_type": "markdown",
   "id": "c1f6e9dc",
   "metadata": {},
   "source": [
    "# step3-1 : 式変形を行う"
   ]
  },
  {
   "cell_type": "markdown",
   "id": "d037b10c",
   "metadata": {},
   "source": [
    "### data 予測値(中心か済み)の式を二乗誤差に代入する\n",
    "$$\n",
    "\\hat{y_{n}}=ax_{n}\n",
    "$$"
   ]
  },
  {
   "cell_type": "markdown",
   "id": "dabe70ba",
   "metadata": {},
   "source": [
    "#### 代入後\n",
    "$$\n",
    "l=\\sum_{n=1}^{N}(y_{n}-ax_{n})^2 \n",
    "$$\n",
    "#### ２乗を計算\n",
    "$$\n",
    "l=\\sum_{n=1}^{N}(y_{n}^2-2y_{n}ax_{n}+a^2x^2_{n}) \n",
    "$$\n",
    "$$\n",
    "l=\\sum_{n=1}^{N}y_{n}^2-2(\\sum_{n=1}^{N}y_{n}x_{n})a+(\\sum_{n=1}^{N}x^2_{n})a^2 \n",
    "$$"
   ]
  },
  {
   "cell_type": "markdown",
   "id": "8202c612",
   "metadata": {},
   "source": [
    "### これから a　で微分する\n",
    "#### 偏微分では a には関係ないものは外に出す。(０に置き換える)\n",
    "#### 今回は　下記のように置き換える\n",
    "$$\n",
    "C_{0}-2C_{1}a+C_{2}a^2\n",
    "$$"
   ]
  },
  {
   "cell_type": "markdown",
   "id": "af1a84c8",
   "metadata": {},
   "source": [
    "# step3-2 : 最適なパラメータ　a を求める"
   ]
  },
  {
   "cell_type": "markdown",
   "id": "bf36d1a0",
   "metadata": {},
   "source": [
    "### 傾き＝０\n",
    "$$\n",
    "\\frac{\\partial}{\\partial a}(l)=0\n",
    "$$\n",
    "\n",
    "$$\n",
    "l=C_{0}-2C_{1}a+C_{2}a^2\n",
    "$$\n",
    "\n",
    "$$\n",
    "\\frac{\\partial}{\\partial a}(C_{0}-2C_{1}a+C_{2}a^2)=0\n",
    "$$"
   ]
  },
  {
   "cell_type": "markdown",
   "id": "7d3f5d0a",
   "metadata": {},
   "source": [
    "### 計算\n",
    "\n",
    "$$\n",
    "\\frac{\\partial}{\\partial a}(C_{0})-\\frac{\\partial}{\\partial a}(2C_{1}a)+\\frac{\\partial}{\\partial a}(C_{2}a^2)=0\n",
    "$$\n"
   ]
  },
  {
   "cell_type": "markdown",
   "id": "5613d789",
   "metadata": {},
   "source": [
    "$$\n",
    "0-2C_{1}\\times1+C_{2}\\times2a=0\n",
    "$$"
   ]
  },
  {
   "cell_type": "markdown",
   "id": "77f1569f",
   "metadata": {},
   "source": [
    "$$\n",
    "-2C+2C_{2}a=0\n",
    "$$\n",
    "$$\n",
    "2C_{2}a=2C_{1}\n",
    "$$\n",
    "$$\n",
    "C_{2}a=C_{1}\n",
    "$$"
   ]
  },
  {
   "cell_type": "markdown",
   "id": "a59ff08f",
   "metadata": {},
   "source": [
    "$$\n",
    "a=\\frac{C_{1}}{C_{2}}\n",
    "$$"
   ]
  },
  {
   "cell_type": "markdown",
   "id": "c97ac5e0",
   "metadata": {},
   "source": [
    "### 置き換えを戻す\n",
    "$$\n",
    "l=\\sum_{n=1}^{N}y_{n}^2-2(\\sum_{n=1}^{N}y_{n}x_{n})a+(\\sum_{n=1}^{N}x^2_{n})a^2 \n",
    "$$\n",
    "\n",
    "$$\n",
    "a = \\dfrac{\\displaystyle{\\sum_{n=1}^{N}}x_{n}y_{n}}\n",
    "{\\displaystyle{\\sum_{n=1}^{N}}x_{n}^{2}}\n",
    "$$"
   ]
  },
  {
   "cell_type": "markdown",
   "id": "81846c3e",
   "metadata": {},
   "source": [
    "## 最適なパラメータ　a を求める事ができる\n",
    "### 最適 a　公式\n",
    "$$\n",
    "a = \\dfrac{\\displaystyle{\\sum_{n=1}^{N}}x_{n}y_{n}}\n",
    "{\\displaystyle{\\sum_{n=1}^{N}}x_{n}^{2}}\n",
    "$$"
   ]
  },
  {
   "cell_type": "code",
   "execution_count": null,
   "id": "14347bf6",
   "metadata": {},
   "outputs": [],
   "source": []
  }
 ],
 "metadata": {
  "kernelspec": {
   "display_name": "Python 3",
   "language": "python",
   "name": "python3"
  },
  "language_info": {
   "codemirror_mode": {
    "name": "ipython",
    "version": 3
   },
   "file_extension": ".py",
   "mimetype": "text/x-python",
   "name": "python",
   "nbconvert_exporter": "python",
   "pygments_lexer": "ipython3",
   "version": "3.8.8"
  }
 },
 "nbformat": 4,
 "nbformat_minor": 5
}
