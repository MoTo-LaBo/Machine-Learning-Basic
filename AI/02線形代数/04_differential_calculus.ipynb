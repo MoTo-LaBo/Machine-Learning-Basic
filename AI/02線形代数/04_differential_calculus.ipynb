{
 "cells": [
  {
   "cell_type": "markdown",
   "id": "d235ba09",
   "metadata": {},
   "source": [
    "# Differential Calculus (微分)\n",
    "### 微分は「何」が求まるのか？\n",
    "- 微分はa(傾き)を求めるモノ　　(a:接線の傾き)\n",
    "\n",
    "- 例）　放物線\n",
    "$$\n",
    "y = a x^2\n",
    "$$\n",
    "\n",
    "- 接線の傾き\n",
    "    - a = 傾き , b = 切片\n",
    "$$\n",
    "y=ax+b\n",
    "$$\n",
    "\n",
    "### 微分は「何」に使えるのか？\n",
    "- 家賃予想の場合に、実際の家賃と予測家賃の誤差を極力小さくしたい\n",
    "- 傾きが「0」の場合が一番誤差が少ない予想ができる\n",
    "#### 「傾き0」を利用することで\n",
    "ある関数の誤差が最小(もしくは最大)となる点が求まる"
   ]
  },
  {
   "cell_type": "markdown",
   "id": "387c7dc1",
   "metadata": {},
   "source": [
    "### 機械学習では誤差を小さくしたいというモチベーションが非常に強くある\n",
    "- 良い予測をしたい　＝　誤差を小さくしたい　ー＞ 傾き0の piont を求めればいい"
   ]
  },
  {
   "cell_type": "markdown",
   "id": "60128455",
   "metadata": {},
   "source": [
    "# 微分（導関数）"
   ]
  },
  {
   "cell_type": "markdown",
   "id": "d19d3703",
   "metadata": {},
   "source": [
    "### 極限\n",
    "$$\n",
    "\\lim_{x \\to 0}3x = 3 \\times 0 = 0 \\\\\n",
    "$$\n",
    "- x を0に近づける(代入する)"
   ]
  },
  {
   "cell_type": "markdown",
   "id": "9876d815",
   "metadata": {},
   "source": [
    "### 微分（導関数）\n",
    "$$\n",
    "f' (x)=\\lim_{h \\to 0}\\frac{f(x+h)-f(x)}{h} \\\\\n",
    "$$\n",
    "- 動きを表す　x　を０に近づける"
   ]
  },
  {
   "cell_type": "markdown",
   "id": "68472edd",
   "metadata": {},
   "source": [
    "# 微分の公式"
   ]
  },
  {
   "cell_type": "markdown",
   "id": "e8cf994e",
   "metadata": {},
   "source": [
    "### 公式\n",
    "$$\n",
    "(1)' = 0\n",
    "$$\n",
    "$$\n",
    "(x)' = 1\n",
    "$$\n",
    "$$\n",
    "(x^2)' = 2x\n",
    "$$\n",
    "### 公式\n",
    "$$\n",
    "(　)'=\\frac{d}{dx}\\\\\n",
    "$$"
   ]
  },
  {
   "cell_type": "markdown",
   "id": "212a56e9",
   "metadata": {},
   "source": [
    "# 偏微分\n",
    "### 多変数の微分\n",
    "- 家賃を予想したいと仮定する\n",
    "    - y = 家賃 x = 広さ\n",
    "\n",
    "### その他たくさん x の要件が増えてくる\n",
    "   - x1 = 距離 x2 = 治安 .... Xn"
   ]
  },
  {
   "cell_type": "markdown",
   "id": "03080085",
   "metadata": {},
   "source": [
    "### 偏微分公式\n",
    "$$\n",
    "\\frac{\\partial}{\\partial a}( )\n",
    "$$\n",
    "- ディー（ラウンド）と呼ばれる\n",
    "- a で偏微分する。　( ) は対象\n",
    "    - a 以外を定数だと仮定して微分する\n",
    "- a 以外関係ないものは外に出して計算する\n",
    "- a に関係ないものは 0 に置き換えて計算"
   ]
  },
  {
   "cell_type": "code",
   "execution_count": null,
   "id": "881937cd",
   "metadata": {},
   "outputs": [],
   "source": []
  }
 ],
 "metadata": {
  "kernelspec": {
   "display_name": "Python 3",
   "language": "python",
   "name": "python3"
  },
  "language_info": {
   "codemirror_mode": {
    "name": "ipython",
    "version": 3
   },
   "file_extension": ".py",
   "mimetype": "text/x-python",
   "name": "python",
   "nbconvert_exporter": "python",
   "pygments_lexer": "ipython3",
   "version": "3.8.8"
  }
 },
 "nbformat": 4,
 "nbformat_minor": 5
}
