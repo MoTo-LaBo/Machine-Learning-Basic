{
 "cells": [
  {
   "cell_type": "markdown",
   "id": "cc9633ab-c301-440b-a5eb-698a6c44cc2a",
   "metadata": {},
   "source": [
    "# 多次元配列"
   ]
  },
  {
   "cell_type": "markdown",
   "id": "68e11761-e689-4303-a919-12935cd46947",
   "metadata": {},
   "source": [
    "- 二次元の配列\n",
    "    - 「行」と「列」の2方向に広がる配列 (表のような配列)\n",
    "    - 表 data (tabel data)"
   ]
  },
  {
   "cell_type": "code",
   "execution_count": 1,
   "id": "bdb7de59-ab48-4844-b471-124f259a66be",
   "metadata": {},
   "outputs": [],
   "source": [
    "import numpy as np"
   ]
  },
  {
   "cell_type": "code",
   "execution_count": 2,
   "id": "930fa899-0681-4c18-9536-489be1a94338",
   "metadata": {},
   "outputs": [
    {
     "name": "stdout",
     "output_type": "stream",
     "text": [
      "[[11 12]\n",
      " [21 22]]\n"
     ]
    }
   ],
   "source": [
    "A = np.array([[11, 12], [21, 22]])\n",
    "print(A)"
   ]
  },
  {
   "cell_type": "code",
   "execution_count": 3,
   "id": "cfcb050d-bc70-45af-bc2d-e5def19128cc",
   "metadata": {},
   "outputs": [
    {
     "data": {
      "text/plain": [
       "11"
      ]
     },
     "execution_count": 3,
     "metadata": {},
     "output_type": "execute_result"
    }
   ],
   "source": [
    "A[0, 0]"
   ]
  },
  {
   "cell_type": "code",
   "execution_count": 4,
   "id": "77efcb28-9d82-4735-be9d-45fbe35b78d8",
   "metadata": {},
   "outputs": [
    {
     "data": {
      "text/plain": [
       "12"
      ]
     },
     "execution_count": 4,
     "metadata": {},
     "output_type": "execute_result"
    }
   ],
   "source": [
    "A[0, 1]"
   ]
  },
  {
   "cell_type": "markdown",
   "id": "c8b62db4-4a92-4fc2-a759-473a75de5519",
   "metadata": {},
   "source": [
    "[行 : 列]"
   ]
  },
  {
   "cell_type": "code",
   "execution_count": 5,
   "id": "9658e801-4e72-4c6a-90af-a12e5600fdf4",
   "metadata": {},
   "outputs": [
    {
     "data": {
      "text/plain": [
       "21"
      ]
     },
     "execution_count": 5,
     "metadata": {},
     "output_type": "execute_result"
    }
   ],
   "source": [
    "A[1, 0]"
   ]
  },
  {
   "cell_type": "code",
   "execution_count": 6,
   "id": "905f25f3-321a-4fe8-9bf0-9675e6c91ed1",
   "metadata": {},
   "outputs": [
    {
     "data": {
      "text/plain": [
       "22"
      ]
     },
     "execution_count": 6,
     "metadata": {},
     "output_type": "execute_result"
    }
   ],
   "source": [
    "A[1, 1]"
   ]
  },
  {
   "cell_type": "code",
   "execution_count": 7,
   "id": "18653180-44e6-4f06-9706-713978dfcef8",
   "metadata": {},
   "outputs": [
    {
     "data": {
      "text/plain": [
       "(2, 2)"
      ]
     },
     "execution_count": 7,
     "metadata": {},
     "output_type": "execute_result"
    }
   ],
   "source": [
    "A.shape"
   ]
  },
  {
   "cell_type": "markdown",
   "id": "d25e0e34-43d3-40c5-88e2-c5f270c836d9",
   "metadata": {},
   "source": [
    "tuple型 で帰ってくる　->　2行 : 2列 を持った配列"
   ]
  },
  {
   "cell_type": "markdown",
   "id": "93e9f73c-2643-4135-85cb-c37bbc4a5b48",
   "metadata": {},
   "source": [
    "### 参考\n",
    "- list のように出力できる\n",
    "- 実際は array に関しての出力は, (コンマ)で区切るのが正しいやり方"
   ]
  },
  {
   "cell_type": "code",
   "execution_count": 9,
   "id": "f85f523c-8fd7-4a8e-a30c-101ff1cc3bc2",
   "metadata": {},
   "outputs": [
    {
     "data": {
      "text/plain": [
       "22"
      ]
     },
     "execution_count": 9,
     "metadata": {},
     "output_type": "execute_result"
    }
   ],
   "source": [
    "A[1][1]"
   ]
  },
  {
   "cell_type": "markdown",
   "id": "a8ce0464-94ee-46a0-9c9e-f829a5c47900",
   "metadata": {},
   "source": [
    "### まとめ\n",
    "- 二次元配列は 「一次元の配列を並べたもの」と見ることができる\n",
    "- 要素へのアクセス : 配列[i, j]　->　[i行目 : j行目]\n",
    "- 配列の形状を調査　:　配列.shape　->　各方向(各次元)のサイズの tuple\n",
    "    - shape はプロパティであり、　function, method とは異なる　※ 関数、メソッドの場合は () つける\n",
    "        - 末尾の括弧と引数は不要"
   ]
  },
  {
   "cell_type": "markdown",
   "id": "a3713d2c-009e-4d82-a2e6-9501249795e0",
   "metadata": {},
   "source": [
    "# 多次元配列（2）\n",
    "- 多次元配列の作成\n",
    "\n",
    "1. list を配列変換する　->　np.array(list型)\n",
    "\n",
    "2. <u>特定の値を並べた配列を作成する</u>"
   ]
  },
  {
   "cell_type": "markdown",
   "id": "304cfcfc-29c9-4f33-a9e5-1113540d2ced",
   "metadata": {},
   "source": [
    "### 1や0を並べた配列"
   ]
  },
  {
   "cell_type": "code",
   "execution_count": 10,
   "id": "58e047df-d467-4cfb-a750-5b96ec7df04e",
   "metadata": {},
   "outputs": [
    {
     "data": {
      "text/plain": [
       "array([1., 1., 1., 1., 1., 1., 1., 1., 1., 1.])"
      ]
     },
     "execution_count": 10,
     "metadata": {},
     "output_type": "execute_result"
    }
   ],
   "source": [
    "np.ones(10)"
   ]
  },
  {
   "cell_type": "markdown",
   "id": "ac3e257c-b01c-40e7-8b28-9b65ff7ab2ea",
   "metadata": {},
   "source": [
    "- 1 が 10 個出力される\n",
    "\n",
    "- 浮動小数点数 : float\n",
    "\n",
    "- いちいち list化して記述しなくて済む"
   ]
  },
  {
   "cell_type": "code",
   "execution_count": 11,
   "id": "c387e0d9-73ec-47c1-9e8a-5eba9ee898a8",
   "metadata": {},
   "outputs": [
    {
     "name": "stdout",
     "output_type": "stream",
     "text": [
      "[1. 1. 1. 1. 1. 1. 1. 1. 1. 1.]\n"
     ]
    }
   ],
   "source": [
    "print(np.ones(10))"
   ]
  },
  {
   "cell_type": "code",
   "execution_count": 12,
   "id": "0962e323-9c35-414b-89b2-c1f171b5437f",
   "metadata": {},
   "outputs": [
    {
     "name": "stdout",
     "output_type": "stream",
     "text": [
      "[[1. 1.]\n",
      " [1. 1.]]\n"
     ]
    }
   ],
   "source": [
    "# 欲しい　shape の tuple型を引数に記述する\n",
    "print(np.ones((2, 2)))"
   ]
  },
  {
   "cell_type": "code",
   "execution_count": 15,
   "id": "99692da0-6595-45f4-bb86-55da1fadea42",
   "metadata": {},
   "outputs": [
    {
     "name": "stdout",
     "output_type": "stream",
     "text": [
      "[[0. 0. 0. 0. 0.]\n",
      " [0. 0. 0. 0. 0.]\n",
      " [0. 0. 0. 0. 0.]\n",
      " [0. 0. 0. 0. 0.]\n",
      " [0. 0. 0. 0. 0.]]\n"
     ]
    }
   ],
   "source": [
    "# 5行・5列\n",
    "z = np.zeros((5, 5))\n",
    "print(z)"
   ]
  },
  {
   "cell_type": "markdown",
   "id": "0f15914d-a6eb-4671-bdf6-547b9ec2b672",
   "metadata": {},
   "source": [
    "### 既存の配列編集"
   ]
  },
  {
   "cell_type": "code",
   "execution_count": 18,
   "id": "1049448c-e537-4a7a-9b97-246f7a112693",
   "metadata": {},
   "outputs": [
    {
     "name": "stdout",
     "output_type": "stream",
     "text": [
      "[[0. 0. 0. 0. 0.]\n",
      " [0. 3. 0. 0. 0.]\n",
      " [0. 0. 0. 0. 0.]\n",
      " [0. 0. 0. 0. 0.]\n",
      " [0. 0. 0. 0. 0.]]\n"
     ]
    }
   ],
   "source": [
    "# 1行　・ 1列\n",
    "z[1, 1] = 3\n",
    "print(z)"
   ]
  },
  {
   "cell_type": "markdown",
   "id": "a0558608-035e-4346-966c-e814751af143",
   "metadata": {},
   "source": [
    "### 特定の値で配列を満たす"
   ]
  },
  {
   "cell_type": "code",
   "execution_count": 20,
   "id": "01e66ef5-ea39-49be-a54d-cd3f40b47b06",
   "metadata": {},
   "outputs": [
    {
     "name": "stdout",
     "output_type": "stream",
     "text": [
      "[[7. 7. 7. 7. 7.]\n",
      " [7. 7. 7. 7. 7.]\n",
      " [7. 7. 7. 7. 7.]\n",
      " [7. 7. 7. 7. 7.]\n",
      " [7. 7. 7. 7. 7.]]\n"
     ]
    }
   ],
   "source": [
    "z.fill(7)\n",
    "print(z)"
   ]
  },
  {
   "cell_type": "markdown",
   "id": "e66535f7-1a13-46c8-ac26-28ad1bab7958",
   "metadata": {},
   "source": [
    "#### fill　->　満たすという事\n",
    "\n",
    "- 新たに 0 ばかりの配列を作成するには zeros が使用できるが\n",
    "\n",
    "- fill 既にある配列を埋め尽くすときに使用する"
   ]
  },
  {
   "cell_type": "markdown",
   "id": "0d2b191b-693e-4293-ab16-c5cf09130e89",
   "metadata": {},
   "source": [
    "# 3次元の配列\n",
    "- 「二次元の表が複数ある」と見る事ができる\n",
    "- 二次元配列が,2段ある (上下にある： layer みたいなもの)"
   ]
  },
  {
   "cell_type": "markdown",
   "id": "07f7c2ec-3ddf-47a4-95c2-04196e77da86",
   "metadata": {},
   "source": [
    "### 3次元の配列"
   ]
  },
  {
   "cell_type": "code",
   "execution_count": 24,
   "id": "1804d395-7ebc-47da-a651-c65ffbf275dc",
   "metadata": {},
   "outputs": [
    {
     "name": "stdout",
     "output_type": "stream",
     "text": [
      "[[[111 112]\n",
      "  [121 122]]\n",
      "\n",
      " [[211 212]\n",
      "  [221 222]]]\n"
     ]
    }
   ],
   "source": [
    "a3d = np.array([[[111, 112,], [121, 122]], [[211, 212], [221, 222]]])\n",
    "print(a3d)"
   ]
  },
  {
   "cell_type": "code",
   "execution_count": 25,
   "id": "e4cfb037-0431-4bb0-ac62-0154dcdf2f57",
   "metadata": {},
   "outputs": [
    {
     "data": {
      "text/plain": [
       "(2, 2, 2)"
      ]
     },
     "execution_count": 25,
     "metadata": {},
     "output_type": "execute_result"
    }
   ],
   "source": [
    "a3d.shape"
   ]
  },
  {
   "cell_type": "markdown",
   "id": "955128a1-2717-448a-8265-772af988a7c4",
   "metadata": {},
   "source": [
    "(段, 行, 列)"
   ]
  },
  {
   "cell_type": "code",
   "execution_count": 26,
   "id": "bf9643b2-4d74-4ca1-bc86-38d805457aa0",
   "metadata": {},
   "outputs": [
    {
     "data": {
      "text/plain": [
       "122"
      ]
     },
     "execution_count": 26,
     "metadata": {},
     "output_type": "execute_result"
    }
   ],
   "source": [
    "a3d[0, 1, 1]"
   ]
  },
  {
   "cell_type": "code",
   "execution_count": 27,
   "id": "2bfda2e0-c66f-4db4-ba88-0ff3a8c5fb82",
   "metadata": {},
   "outputs": [
    {
     "data": {
      "text/plain": [
       "212"
      ]
     },
     "execution_count": 27,
     "metadata": {},
     "output_type": "execute_result"
    }
   ],
   "source": [
    "a3d[1, 0, 1]"
   ]
  },
  {
   "cell_type": "markdown",
   "id": "6ecfc8ad-9610-4b85-b40c-173d22b126be",
   "metadata": {},
   "source": [
    "### まとめ\n",
    "- 「１」　を並べた配列を作る\n",
    "    -　np.ones((行size, 列size))\n",
    "    \n",
    "- 「０」　を並べた配列を作る\n",
    "    - np.zeros((行size, 列size))\n",
    "    \n",
    "- 配列は事後に編集する事もできる\n",
    "    - z[1,1]　=　3 (３に書き換える)\n",
    "    - fill　　->　全て指定した値に置き換える\n",
    "\n",
    "- 三次元配列へのアクセス\n",
    "    - a3d[段, 行, 列]\n",
    "    - 2次元の表が何段もあるモノという理解\n",
    "\n",
    "#### 段数もindexと同じで 0 段とは普通の 1段目にあたる\n"
   ]
  },
  {
   "cell_type": "code",
   "execution_count": null,
   "id": "3d57239c-23ba-4f29-a2a1-0e5b8e15a92b",
   "metadata": {},
   "outputs": [],
   "source": []
  }
 ],
 "metadata": {
  "kernelspec": {
   "display_name": "Python 3 (ipykernel)",
   "language": "python",
   "name": "python3"
  },
  "language_info": {
   "codemirror_mode": {
    "name": "ipython",
    "version": 3
   },
   "file_extension": ".py",
   "mimetype": "text/x-python",
   "name": "python",
   "nbconvert_exporter": "python",
   "pygments_lexer": "ipython3",
   "version": "3.9.6"
  }
 },
 "nbformat": 4,
 "nbformat_minor": 5
}
