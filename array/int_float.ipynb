{
 "cells": [
  {
   "cell_type": "markdown",
   "id": "0a5fe843-bf13-4bd2-83d4-6f950cec7aaf",
   "metadata": {},
   "source": [
    "# NumPy で扱う値の型"
   ]
  },
  {
   "cell_type": "code",
   "execution_count": 2,
   "id": "e5086435-5fcb-4b82-beb6-348ef4453109",
   "metadata": {},
   "outputs": [],
   "source": [
    "import numpy as np"
   ]
  },
  {
   "cell_type": "code",
   "execution_count": 3,
   "id": "11731bb8-8f90-403d-98f8-c37eb88c59ab",
   "metadata": {},
   "outputs": [
    {
     "name": "stdout",
     "output_type": "stream",
     "text": [
      "[1 2 3]\n"
     ]
    }
   ],
   "source": [
    "ar = np.array([1, 2, 3])\n",
    "print(ar)"
   ]
  },
  {
   "cell_type": "code",
   "execution_count": 4,
   "id": "c4754402-d148-4119-bd51-97171884cca2",
   "metadata": {},
   "outputs": [
    {
     "data": {
      "text/plain": [
       "dtype('int64')"
      ]
     },
     "execution_count": 4,
     "metadata": {},
     "output_type": "execute_result"
    }
   ],
   "source": [
    "ar.dtype"
   ]
  },
  {
   "cell_type": "markdown",
   "id": "098dd0d1-2f17-4a7d-b08e-5c4224b8c9a2",
   "metadata": {},
   "source": [
    "integer(整数型) 64bit のメモリを使用している 64/8 = 8バイト"
   ]
  },
  {
   "cell_type": "code",
   "execution_count": 5,
   "id": "fa44146f-b04e-42dd-8a3a-a72a2037f4e6",
   "metadata": {},
   "outputs": [
    {
     "name": "stdout",
     "output_type": "stream",
     "text": [
      "[1. 2. 3.]\n"
     ]
    }
   ],
   "source": [
    "ar2 = np.array([1.0, 2.0, 3.0])\n",
    "print(ar2)"
   ]
  },
  {
   "cell_type": "markdown",
   "id": "ea5ecd2e-3d3e-4b05-a795-7745efe22c99",
   "metadata": {},
   "source": [
    "- 小数点以下が 0 の場合は省略して表示される事が標準的\n",
    "- コンピュータの世界では、 integer(整数) と float(小数)内部的には全く異なるモノである"
   ]
  },
  {
   "cell_type": "code",
   "execution_count": 6,
   "id": "23e03c1f-a819-45b6-b1fe-d2cc2acb52da",
   "metadata": {},
   "outputs": [
    {
     "data": {
      "text/plain": [
       "dtype('float64')"
      ]
     },
     "execution_count": 6,
     "metadata": {},
     "output_type": "execute_result"
    }
   ],
   "source": [
    "ar2.dtype"
   ]
  },
  {
   "cell_type": "markdown",
   "id": "5d7e6bb1-7d04-4581-b3b5-2f8b90c8bcc6",
   "metadata": {},
   "source": [
    "float : 浮動小数点数 / 小数点は結果によって右に左に動く事から\n",
    "\n",
    "64bit :64bit のメモリを使用している 64/8 = 8バイト"
   ]
  },
  {
   "cell_type": "markdown",
   "id": "c1ac7805-bbe7-40a7-b1fa-63981427abbe",
   "metadata": {
    "tags": []
   },
   "source": [
    "## 型変換\n",
    "- <変換前>.astype('変換後の型')\n",
    "\n",
    "### 機械学習・深層学習・AI系の処理は非常にメモリを使う\n",
    "- 計算するメモリの容量が足りるのかどうか？が最優先位なってくる\n",
    "- 特に深層学習\n",
    "    - 人間の神経細胞の仕組みを再現したニューラルネットワークを用いた機械学習の１つ\n",
    "    - 上記を扱う時に最重要となるのは、<u>メモリの節約と高速化</u>が大きな課題になる\n",
    "\n",
    "- もっと短いbit長でメモリの使用量を節約する\n",
    "    - 深層学習では、float32 に変換して、学習、推論、実行が行われている"
   ]
  },
  {
   "cell_type": "markdown",
   "id": "546cfa64-f1b6-4692-94fb-d74a174ecc42",
   "metadata": {},
   "source": [
    "### float変換\n",
    "\n",
    "- float64 :(倍精度)\n",
    "\n",
    "- float32 :(単精度)\n",
    "\n",
    "\n",
    "float64は2倍のメモリを消費します。一部のマシンアーキテクチャでは、float64での操作に時間がかかる場合がある\n",
    "\n",
    "ただし、float64は、32bitのfloatよりも正確に数値を表すことができる\n",
    "\n",
    "また、はるかに大きな数を格納することもできる\n",
    "\n",
    "    - 出力にはどのような精度が必要ですか？\n",
    "    - 速度はまったく問題ではありませんか？\n",
    "    - 100万分の1で必要な精度は？"
   ]
  },
  {
   "cell_type": "markdown",
   "id": "d9236a30-d00a-4123-a862-85ea5cb5ca81",
   "metadata": {},
   "source": [
    "#### 単精度へ変換"
   ]
  },
  {
   "cell_type": "code",
   "execution_count": 10,
   "id": "482f0e2d-be08-495d-ba74-85428c70a994",
   "metadata": {},
   "outputs": [
    {
     "name": "stdout",
     "output_type": "stream",
     "text": [
      "[1. 2. 3.]\n"
     ]
    }
   ],
   "source": [
    "ar3 = ar2.astype('float32')\n",
    "print(ar5)"
   ]
  },
  {
   "cell_type": "code",
   "execution_count": 11,
   "id": "fa93ee4a-d166-4e7a-9c4d-dcf97dbe364d",
   "metadata": {},
   "outputs": [
    {
     "data": {
      "text/plain": [
       "dtype('float32')"
      ]
     },
     "execution_count": 11,
     "metadata": {},
     "output_type": "execute_result"
    }
   ],
   "source": [
    "ar3.dtype"
   ]
  },
  {
   "cell_type": "code",
   "execution_count": 12,
   "id": "2543a162-28fb-4e68-b2ca-85d309f47101",
   "metadata": {},
   "outputs": [
    {
     "name": "stdout",
     "output_type": "stream",
     "text": [
      "[3.14159265]\n"
     ]
    }
   ],
   "source": [
    "ar4 = np.array([np.pi])  # pi ： 円周率\n",
    "print(ar4)"
   ]
  },
  {
   "cell_type": "code",
   "execution_count": 13,
   "id": "6c9f8c5b-686f-48ac-91ca-3482ab6cc585",
   "metadata": {},
   "outputs": [
    {
     "data": {
      "text/plain": [
       "dtype('float64')"
      ]
     },
     "execution_count": 13,
     "metadata": {},
     "output_type": "execute_result"
    }
   ],
   "source": [
    "ar4.dtype"
   ]
  },
  {
   "cell_type": "code",
   "execution_count": 14,
   "id": "ba8442e3-ac26-4be6-b4da-77d67e12182d",
   "metadata": {},
   "outputs": [
    {
     "name": "stdout",
     "output_type": "stream",
     "text": [
      "[3.1415927]\n"
     ]
    }
   ],
   "source": [
    "ar5 = ar4.astype('float32')\n",
    "print(ar5)"
   ]
  },
  {
   "cell_type": "code",
   "execution_count": 15,
   "id": "f7181c72-ad10-4676-b370-ddddc9dcf4fd",
   "metadata": {},
   "outputs": [
    {
     "data": {
      "text/plain": [
       "dtype('float32')"
      ]
     },
     "execution_count": 15,
     "metadata": {},
     "output_type": "execute_result"
    }
   ],
   "source": [
    "ar5.dtype"
   ]
  },
  {
   "cell_type": "markdown",
   "id": "2acc37db-da6b-4787-ad44-6da7661fb371",
   "metadata": {},
   "source": [
    "#### 単精度へ変換後\n",
    "- float64\n",
    "    - ar6 = 3.14159265\n",
    "\n",
    "- float32\n",
    "    - ar7 = 3.1415927\n",
    "    - メモリ量が小さくなった分、四捨五入されて省略される\n",
    "\n",
    "#### <u>表現できる　bit長を短くして、精度が落ちる</u>\n",
    "- 正確さの犠牲に、メモリを省略できて、計算速度が上がる\n",
    "- data sience とか AI の情報処理では、あえて精度を少しだけ犠牲にして大量に高速に学習させる\n",
    "- あえて単精度に変換する"
   ]
  },
  {
   "cell_type": "markdown",
   "id": "7bc5f99e-cc58-4561-84de-5fcf3057a6cd",
   "metadata": {},
   "source": [
    "### 深層学習(Neural Network)\n",
    "- float16\n",
    "    - 正確さはいらないから、高速性・小メモリを意識した使用方法が深層学習ではある\n",
    "\n",
    "#### 半精度への変換\n",
    "- 実際の数値計算で半精度を使用する事はない\n",
    "- 機械学習の世界、深層学習の世界では使用する事があるので例として"
   ]
  },
  {
   "cell_type": "code",
   "execution_count": 16,
   "id": "2229969f-e820-495f-a506-e3a56f4011cd",
   "metadata": {},
   "outputs": [
    {
     "name": "stdout",
     "output_type": "stream",
     "text": [
      "[3.14]\n"
     ]
    }
   ],
   "source": [
    "ar6 = ar5.astype('float16')\n",
    "print(ar6)"
   ]
  },
  {
   "cell_type": "code",
   "execution_count": 17,
   "id": "d088e0be-3e47-485f-95ee-bfb7bfe4d575",
   "metadata": {},
   "outputs": [
    {
     "data": {
      "text/plain": [
       "dtype('float16')"
      ]
     },
     "execution_count": 17,
     "metadata": {},
     "output_type": "execute_result"
    }
   ],
   "source": [
    "ar6.dtype"
   ]
  },
  {
   "cell_type": "markdown",
   "id": "ddee9c5d-8839-494c-9eef-5278a787b092",
   "metadata": {},
   "source": [
    "## まとめ\n",
    "- object.dtype\n",
    "    - プロパティで型を参照する\n",
    "- .astype(変換後)\n",
    "    - methodの方を変換する\n",
    "\n",
    "- 整数\n",
    "    - <u>int32</u> : 通常の整数。１つの値を32bitで表現(4バイト)\n",
    "    - int64 : 非常に大きな整数を扱う際にこれをあえて使用する事がある(8バイト)\n",
    "\n",
    "- 浮動小数点数\n",
    "    - <u>float64(倍精度)</u> : 通常の場合はこの型として扱われる(15桁程度の精度) / 64bit で表現(8バイト消費)\n",
    "    \n",
    "    - float32(単精度) : 深層ニューラルネットワークの処理で多く用いられる(精度が低い) / 32bit で表現(４バイト消費)\n",
    "\n",
    "    - float16(半精度) : 深層ニューラルネットワーク。更に精度が低い(数桁程度の表現) / 16bit で表現(２バイト消費)　※ 使用する事もある。実際は 32bit が使用されている\n",
    "\n",
    "#### 表現の bit長が短い程、メモリの消費量が小さいの上、計算も高速\n",
    "- 計算の精度と速度、メモリ使用量などからどのタイプにするかを判断する"
   ]
  },
  {
   "cell_type": "markdown",
   "id": "94f50f56-c4f1-4b9c-a6b3-68934a42b861",
   "metadata": {},
   "source": [
    "### NumPy の定数\n",
    "- np.pi　　:　円周率\n",
    "- np.e　　:　ネイピア数(自然対数の底)"
   ]
  },
  {
   "cell_type": "code",
   "execution_count": null,
   "id": "3b24c687-1b5e-431b-81e0-19733b7ae47e",
   "metadata": {},
   "outputs": [],
   "source": []
  }
 ],
 "metadata": {
  "kernelspec": {
   "display_name": "Python 3 (ipykernel)",
   "language": "python",
   "name": "python3"
  },
  "language_info": {
   "codemirror_mode": {
    "name": "ipython",
    "version": 3
   },
   "file_extension": ".py",
   "mimetype": "text/x-python",
   "name": "python",
   "nbconvert_exporter": "python",
   "pygments_lexer": "ipython3",
   "version": "3.9.6"
  }
 },
 "nbformat": 4,
 "nbformat_minor": 5
}
