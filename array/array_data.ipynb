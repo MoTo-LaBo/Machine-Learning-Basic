{
 "cells": [
  {
   "cell_type": "markdown",
   "id": "eb003d38-fa87-4e3e-b2d8-34baebdfc494",
   "metadata": {
    "tags": []
   },
   "source": [
    "# 配列に対する操作(1)\n",
    "- スライス(添え字)"
   ]
  },
  {
   "cell_type": "code",
   "execution_count": 12,
   "id": "43ecb476-ee25-4119-b467-7468f471373a",
   "metadata": {},
   "outputs": [],
   "source": [
    "import numpy as np"
   ]
  },
  {
   "cell_type": "code",
   "execution_count": 13,
   "id": "3b88b665-fe36-4b20-a5eb-a98347331a10",
   "metadata": {},
   "outputs": [
    {
     "name": "stdout",
     "output_type": "stream",
     "text": [
      "[ 0  2  4  6  8 10 12 14 16 18 20 22 24 26 28 30 32 34 36 38]\n"
     ]
    }
   ],
   "source": [
    "# 始点を省略 0 〜　 20 未満\n",
    "a = np.arange(20) * 2\n",
    "print(a)"
   ]
  },
  {
   "cell_type": "code",
   "execution_count": 14,
   "id": "f21d0758-b28d-4328-99b9-8858726144f3",
   "metadata": {},
   "outputs": [
    {
     "name": "stdout",
     "output_type": "stream",
     "text": [
      "[ 2  4  6  8 10]\n"
     ]
    }
   ],
   "source": [
    "print(a[1:6])"
   ]
  },
  {
   "cell_type": "markdown",
   "id": "08883ad8-c2de-43b5-8a7a-0d2df95485d3",
   "metadata": {},
   "source": [
    "## 配列形状の変形"
   ]
  },
  {
   "cell_type": "code",
   "execution_count": 15,
   "id": "20b47f78-c29a-4467-855b-79eb9039451c",
   "metadata": {},
   "outputs": [
    {
     "name": "stdout",
     "output_type": "stream",
     "text": [
      "[ 0  1  2  3  4  5  6  7  8  9 10 11 12 13 14 15 16 17 18 19 20 21 22 23\n",
      " 24 25 26 27 28 29]\n"
     ]
    }
   ],
   "source": [
    "a = np.arange(30)\n",
    "print(a)"
   ]
  },
  {
   "cell_type": "code",
   "execution_count": 16,
   "id": "d8f4b11b-8580-4b7e-abec-68482463a9cd",
   "metadata": {},
   "outputs": [
    {
     "name": "stdout",
     "output_type": "stream",
     "text": [
      "[[ 0  1  2  3  4  5]\n",
      " [ 6  7  8  9 10 11]\n",
      " [12 13 14 15 16 17]\n",
      " [18 19 20 21 22 23]\n",
      " [24 25 26 27 28 29]]\n"
     ]
    }
   ],
   "source": [
    "# 一次元配列を二次元配列に変換する\n",
    "a2 = a.reshape((5, 6))\n",
    "print(a2)"
   ]
  },
  {
   "cell_type": "markdown",
   "id": "e49b91bd-292b-4eed-ab3b-f88f9ea7eb7c",
   "metadata": {},
   "source": [
    "object.reshape(行size, 列size) で配列の形式を変換"
   ]
  },
  {
   "cell_type": "code",
   "execution_count": 17,
   "id": "f5a4bf67-c21e-40f1-b77d-ea1964bf6fb6",
   "metadata": {},
   "outputs": [
    {
     "name": "stdout",
     "output_type": "stream",
     "text": [
      "[[[ 0  1  2  3  4]\n",
      "  [ 5  6  7  8  9]\n",
      "  [10 11 12 13 14]]\n",
      "\n",
      " [[15 16 17 18 19]\n",
      "  [20 21 22 23 24]\n",
      "  [25 26 27 28 29]]]\n"
     ]
    }
   ],
   "source": [
    "# 三次元配列に変換する\n",
    "a3 = a2.reshape((2, 3, 5))\n",
    "print(a3)"
   ]
  },
  {
   "cell_type": "code",
   "execution_count": 18,
   "id": "9d5c28b3-a8ac-4fde-b12b-b1fb950412e0",
   "metadata": {},
   "outputs": [
    {
     "name": "stdout",
     "output_type": "stream",
     "text": [
      "[ 0  1  2  3  4  5  6  7  8  9 10 11 12 13 14 15 16 17 18 19 20 21 22 23\n",
      " 24 25 26 27 28 29]\n"
     ]
    }
   ],
   "source": [
    "# 高次元配列を平坦化する\n",
    "print(a3.flatten())"
   ]
  },
  {
   "cell_type": "markdown",
   "id": "d46192e2-5807-41f8-90f7-6e7661b02988",
   "metadata": {},
   "source": [
    "object.flatten()　->　平坦化する: flatten（フラトン）"
   ]
  },
  {
   "cell_type": "code",
   "execution_count": 19,
   "id": "8ea845df-848f-4fa9-a15c-67e7f3e2d10d",
   "metadata": {},
   "outputs": [
    {
     "name": "stdout",
     "output_type": "stream",
     "text": [
      "[ 0  1  2  3  4  5  6  7  8  9 10 11 12 13 14 15 16 17 18 19 20 21 22 23\n",
      " 24 25 26 27 28 29]\n"
     ]
    }
   ],
   "source": [
    "# flatten より処理が速いものがある\n",
    "print(a3.ravel())"
   ]
  },
  {
   "cell_type": "markdown",
   "id": "d7ab8a98-89b5-4c3a-8cf5-b626aa32ea26",
   "metadata": {},
   "source": [
    "object.ravel()　->　sizeが物凄く大きな高次元配列を高速で平坦化できる　： ravel(ラベル)"
   ]
  },
  {
   "cell_type": "markdown",
   "id": "0f19558a-fafe-413d-9b63-a1c92a6890f3",
   "metadata": {},
   "source": [
    "## 配列の転置"
   ]
  },
  {
   "cell_type": "markdown",
   "id": "2cbf453e-b63f-4486-b803-4972888f4d7b",
   "metadata": {},
   "source": [
    "- 転置 -> 方向を変える(ひっくり返す)事ができる"
   ]
  },
  {
   "cell_type": "code",
   "execution_count": 21,
   "id": "a0ea7a0b-3b34-4b7b-8fa1-15df78c2e457",
   "metadata": {},
   "outputs": [
    {
     "name": "stdout",
     "output_type": "stream",
     "text": [
      "[[1 2 3]\n",
      " [4 5 6]]\n"
     ]
    }
   ],
   "source": [
    "a = np.array([[1, 2, 3], [4, 5, 6]])\n",
    "print(a)"
   ]
  },
  {
   "cell_type": "code",
   "execution_count": 22,
   "id": "88283054-6eae-469e-94f9-5ec48ca65ab2",
   "metadata": {},
   "outputs": [
    {
     "name": "stdout",
     "output_type": "stream",
     "text": [
      "[[1 4]\n",
      " [2 5]\n",
      " [3 6]]\n"
     ]
    }
   ],
   "source": [
    "print(a.T)"
   ]
  },
  {
   "cell_type": "markdown",
   "id": "0686dc7a-37f7-44d4-b779-a95f79be8410",
   "metadata": {},
   "source": [
    "#### object.T\n",
    "\n",
    "- 3行の２列になる\n",
    "    - 元の配列を対角線で裏返す感じ。 1 -> 6, 4 -> 3\n",
    "    - 転置行列を作るときにこの処理がそのまま使用できる"
   ]
  },
  {
   "cell_type": "markdown",
   "id": "d17ec0bb-2625-415d-9acf-18e186734065",
   "metadata": {},
   "source": [
    "### まとめ\n",
    "- 配列のスライス (添字)\n",
    "    - １つの整数を指定　:　その index 位置の要素にアクセス\n",
    "\n",
    "- 配列の変形\n",
    "    - reshape(配列次元の構成)　:　次元の構成を tuple で与える\n",
    "    - flatten(), ravel()　:　高次元配列を一次元に(平坦化)する ※ ravel()が推奨されている\n",
    "        - ravel()の方が高速で処理できる\n",
    "    - T プロパティ　:　行,列を入れ替える　(転置：　Transpose:トランスポーズ) \n",
    "    "
   ]
  },
  {
   "cell_type": "markdown",
   "id": "89a713c5-7bfd-4bf9-92a4-257d5f5c0d74",
   "metadata": {},
   "source": [
    "# 配列に対する操作(2)\n",
    "- スライスの高度な使い方\n",
    "- 行、列の反転・回転"
   ]
  },
  {
   "cell_type": "markdown",
   "id": "76256458-bdb5-40dd-8584-6da60d0cfbcf",
   "metadata": {},
   "source": [
    "### スライスにlistやarray(配列)を与える\n",
    "- numpy のスライスは　python の list の配列よりもっと高度な事ができる"
   ]
  },
  {
   "cell_type": "code",
   "execution_count": 23,
   "id": "6c68cde4-013c-4437-b342-be62f57c0147",
   "metadata": {},
   "outputs": [
    {
     "name": "stdout",
     "output_type": "stream",
     "text": [
      "[ 0 10 20 30 40 50 60 70 80 90]\n"
     ]
    }
   ],
   "source": [
    "a = np.arange(10) * 10\n",
    "print(a)"
   ]
  },
  {
   "cell_type": "code",
   "execution_count": 24,
   "id": "7e109853-7546-489e-acee-5ce89ded3bfb",
   "metadata": {},
   "outputs": [
    {
     "name": "stdout",
     "output_type": "stream",
     "text": [
      "[10 30 50]\n"
     ]
    }
   ],
   "source": [
    "# スライスの中に list や　配列を与える\n",
    "a2 = a[[1, 3, 5]]\n",
    "print(a2)"
   ]
  },
  {
   "cell_type": "markdown",
   "id": "cebcb04a-d46b-413c-93bc-2257e92c3393",
   "metadata": {},
   "source": [
    "指定した　index　を抜き出して、 a2 に代入する\n",
    "\n",
    "- 抜き出したい要素を　list や配列で抽出できる\n",
    "\n",
    "- numpy 配列独自のモノ"
   ]
  },
  {
   "cell_type": "code",
   "execution_count": 25,
   "id": "18be9cd4-754c-4774-9389-ce2945925130",
   "metadata": {},
   "outputs": [
    {
     "name": "stdout",
     "output_type": "stream",
     "text": [
      "[ 0  7 20  8 40  9 60 70 80 90]\n"
     ]
    }
   ],
   "source": [
    "# 複数の index を指定してまとめて値を変更する\n",
    "a[[1, 3, 5]] = [[7, 8, 9]]\n",
    "print(a)"
   ]
  },
  {
   "cell_type": "markdown",
   "id": "1a85e271-d327-48cc-928e-c042de9e4258",
   "metadata": {},
   "source": [
    "### 行・列の反転・回転\n",
    "- 順番を逆転させる"
   ]
  },
  {
   "cell_type": "code",
   "execution_count": 26,
   "id": "301b3b12-f603-4bf0-88bc-798e06b329fa",
   "metadata": {},
   "outputs": [
    {
     "name": "stdout",
     "output_type": "stream",
     "text": [
      "[0 1 2 3 4 5 6 7 8 9]\n"
     ]
    }
   ],
   "source": [
    "a = np.arange(10)\n",
    "print(a)"
   ]
  },
  {
   "cell_type": "code",
   "execution_count": 27,
   "id": "ccdd4780-c44d-4dc4-8bdd-743aa7eb58aa",
   "metadata": {},
   "outputs": [
    {
     "name": "stdout",
     "output_type": "stream",
     "text": [
      "[9 8 7 6 5 4 3 2 1 0]\n"
     ]
    }
   ],
   "source": [
    "# 反転させる\n",
    "print(np.flip(a))"
   ]
  },
  {
   "cell_type": "code",
   "execution_count": 28,
   "id": "96abdf51-953a-4c0b-950d-8f32b604353d",
   "metadata": {},
   "outputs": [
    {
     "name": "stdout",
     "output_type": "stream",
     "text": [
      "[0 1 2 3 4 5 6 7 8 9]\n"
     ]
    }
   ],
   "source": [
    "print(a)"
   ]
  },
  {
   "cell_type": "markdown",
   "id": "aa9d29b4-ba9b-4efc-97f0-ec0dd1b761a8",
   "metadata": {},
   "source": [
    "-　np.flip(反転したい配列) : numpy library のfunction\n",
    "\n",
    "- flip 関数は反転した物を別の配列として返す　function\n",
    "    - 非破壊 -> 全く手を加えず、反転した結果の別の配列を返す"
   ]
  },
  {
   "cell_type": "code",
   "execution_count": 30,
   "id": "2af1cb72-4a77-4141-a6f0-40ffaede986e",
   "metadata": {},
   "outputs": [
    {
     "name": "stdout",
     "output_type": "stream",
     "text": [
      "[[1 2 3]\n",
      " [4 5 6]\n",
      " [7 8 9]]\n"
     ]
    }
   ],
   "source": [
    "# 二次元の配列に対して flip function を使用\n",
    "a2 = np.array([[1, 2, 3], [4, 5, 6], [7, 8, 9]])\n",
    "print(a2)"
   ]
  },
  {
   "cell_type": "code",
   "execution_count": 31,
   "id": "cac26461-66f6-4701-8e4c-45a6832ebad5",
   "metadata": {},
   "outputs": [
    {
     "data": {
      "text/plain": [
       "array([[9, 8, 7],\n",
       "       [6, 5, 4],\n",
       "       [3, 2, 1]])"
      ]
     },
     "execution_count": 31,
     "metadata": {},
     "output_type": "execute_result"
    }
   ],
   "source": [
    "np.flip(a2)"
   ]
  },
  {
   "cell_type": "markdown",
   "id": "d6d0ff64-7c55-4f4e-bf9f-bc55280612a2",
   "metadata": {},
   "source": [
    "- 多次元の配列に対して flip function を使用すると、記述した順番を逆転した形で抽出される\n",
    "\n",
    "- 同じ形状の多次元の配列として返してくる"
   ]
  },
  {
   "cell_type": "code",
   "execution_count": null,
   "id": "c46a2541-7edf-4202-aab9-36788352eee1",
   "metadata": {},
   "outputs": [],
   "source": []
  }
 ],
 "metadata": {
  "kernelspec": {
   "display_name": "Python 3 (ipykernel)",
   "language": "python",
   "name": "python3"
  },
  "language_info": {
   "codemirror_mode": {
    "name": "ipython",
    "version": 3
   },
   "file_extension": ".py",
   "mimetype": "text/x-python",
   "name": "python",
   "nbconvert_exporter": "python",
   "pygments_lexer": "ipython3",
   "version": "3.9.6"
  }
 },
 "nbformat": 4,
 "nbformat_minor": 5
}
