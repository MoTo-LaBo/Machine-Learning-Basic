{
 "cells": [
  {
   "cell_type": "markdown",
   "id": "eb003d38-fa87-4e3e-b2d8-34baebdfc494",
   "metadata": {
    "tags": []
   },
   "source": [
    "# 配列に対する操作(1)\n",
    "- スライス(添え字)"
   ]
  },
  {
   "cell_type": "code",
   "execution_count": 2,
   "id": "43ecb476-ee25-4119-b467-7468f471373a",
   "metadata": {},
   "outputs": [],
   "source": [
    "import numpy as np"
   ]
  },
  {
   "cell_type": "code",
   "execution_count": 3,
   "id": "3b88b665-fe36-4b20-a5eb-a98347331a10",
   "metadata": {},
   "outputs": [
    {
     "name": "stdout",
     "output_type": "stream",
     "text": [
      "[ 0  2  4  6  8 10 12 14 16 18 20 22 24 26 28 30 32 34 36 38]\n"
     ]
    }
   ],
   "source": [
    "# 始点を省略 0 〜　 20 未満\n",
    "a = np.arange(20) * 2\n",
    "print(a)"
   ]
  },
  {
   "cell_type": "code",
   "execution_count": 4,
   "id": "f21d0758-b28d-4328-99b9-8858726144f3",
   "metadata": {},
   "outputs": [
    {
     "name": "stdout",
     "output_type": "stream",
     "text": [
      "[ 2  4  6  8 10]\n"
     ]
    }
   ],
   "source": [
    "print(a[1:6])"
   ]
  },
  {
   "cell_type": "markdown",
   "id": "08883ad8-c2de-43b5-8a7a-0d2df95485d3",
   "metadata": {},
   "source": [
    "## 配列形状の変形"
   ]
  },
  {
   "cell_type": "code",
   "execution_count": 5,
   "id": "20b47f78-c29a-4467-855b-79eb9039451c",
   "metadata": {},
   "outputs": [
    {
     "name": "stdout",
     "output_type": "stream",
     "text": [
      "[ 0  1  2  3  4  5  6  7  8  9 10 11 12 13 14 15 16 17 18 19 20 21 22 23\n",
      " 24 25 26 27 28 29]\n"
     ]
    }
   ],
   "source": [
    "a = np.arange(30)\n",
    "print(a)"
   ]
  },
  {
   "cell_type": "code",
   "execution_count": 6,
   "id": "d8f4b11b-8580-4b7e-abec-68482463a9cd",
   "metadata": {},
   "outputs": [
    {
     "name": "stdout",
     "output_type": "stream",
     "text": [
      "[[ 0  1  2  3  4  5]\n",
      " [ 6  7  8  9 10 11]\n",
      " [12 13 14 15 16 17]\n",
      " [18 19 20 21 22 23]\n",
      " [24 25 26 27 28 29]]\n"
     ]
    }
   ],
   "source": [
    "# 一次元配列を二次元配列に変換する\n",
    "a2 = a.reshape((5, 6))\n",
    "print(a2)"
   ]
  },
  {
   "cell_type": "markdown",
   "id": "e49b91bd-292b-4eed-ab3b-f88f9ea7eb7c",
   "metadata": {},
   "source": [
    "object.reshape(行size, 列size) で配列の形式を変換"
   ]
  },
  {
   "cell_type": "code",
   "execution_count": 7,
   "id": "f5a4bf67-c21e-40f1-b77d-ea1964bf6fb6",
   "metadata": {},
   "outputs": [
    {
     "name": "stdout",
     "output_type": "stream",
     "text": [
      "[[[ 0  1  2  3  4]\n",
      "  [ 5  6  7  8  9]\n",
      "  [10 11 12 13 14]]\n",
      "\n",
      " [[15 16 17 18 19]\n",
      "  [20 21 22 23 24]\n",
      "  [25 26 27 28 29]]]\n"
     ]
    }
   ],
   "source": [
    "# 三次元配列に変換する\n",
    "a3 = a2.reshape((2, 3, 5))\n",
    "print(a3)"
   ]
  },
  {
   "cell_type": "code",
   "execution_count": 8,
   "id": "9d5c28b3-a8ac-4fde-b12b-b1fb950412e0",
   "metadata": {},
   "outputs": [
    {
     "name": "stdout",
     "output_type": "stream",
     "text": [
      "[ 0  1  2  3  4  5  6  7  8  9 10 11 12 13 14 15 16 17 18 19 20 21 22 23\n",
      " 24 25 26 27 28 29]\n"
     ]
    }
   ],
   "source": [
    "# 高次元配列を平坦化する\n",
    "print(a3.flatten())"
   ]
  },
  {
   "cell_type": "markdown",
   "id": "d46192e2-5807-41f8-90f7-6e7661b02988",
   "metadata": {},
   "source": [
    "object.flatten()　->　平坦化する: flatten（フラトン）"
   ]
  },
  {
   "cell_type": "code",
   "execution_count": 9,
   "id": "8ea845df-848f-4fa9-a15c-67e7f3e2d10d",
   "metadata": {},
   "outputs": [
    {
     "name": "stdout",
     "output_type": "stream",
     "text": [
      "[ 0  1  2  3  4  5  6  7  8  9 10 11 12 13 14 15 16 17 18 19 20 21 22 23\n",
      " 24 25 26 27 28 29]\n"
     ]
    }
   ],
   "source": [
    "# flatten より処理が速いものがある\n",
    "print(a3.ravel())"
   ]
  },
  {
   "cell_type": "markdown",
   "id": "d7ab8a98-89b5-4c3a-8cf5-b626aa32ea26",
   "metadata": {},
   "source": [
    "object.ravel()　->　sizeが物凄く大きな高次元配列を高速で平坦化できる　： ravel(ラベル)"
   ]
  },
  {
   "cell_type": "markdown",
   "id": "0f19558a-fafe-413d-9b63-a1c92a6890f3",
   "metadata": {},
   "source": [
    "## 配列の転置"
   ]
  },
  {
   "cell_type": "markdown",
   "id": "2cbf453e-b63f-4486-b803-4972888f4d7b",
   "metadata": {},
   "source": [
    "- 転置 -> 方向を変える(ひっくり返す)事ができる"
   ]
  },
  {
   "cell_type": "code",
   "execution_count": 10,
   "id": "a0ea7a0b-3b34-4b7b-8fa1-15df78c2e457",
   "metadata": {},
   "outputs": [
    {
     "name": "stdout",
     "output_type": "stream",
     "text": [
      "[[1 2 3]\n",
      " [4 5 6]]\n"
     ]
    }
   ],
   "source": [
    "a = np.array([[1, 2, 3], [4, 5, 6]])\n",
    "print(a)"
   ]
  },
  {
   "cell_type": "code",
   "execution_count": 11,
   "id": "88283054-6eae-469e-94f9-5ec48ca65ab2",
   "metadata": {},
   "outputs": [
    {
     "name": "stdout",
     "output_type": "stream",
     "text": [
      "[[1 4]\n",
      " [2 5]\n",
      " [3 6]]\n"
     ]
    }
   ],
   "source": [
    "print(a.T)"
   ]
  },
  {
   "cell_type": "markdown",
   "id": "0686dc7a-37f7-44d4-b779-a95f79be8410",
   "metadata": {},
   "source": [
    "#### object.T\n",
    "\n",
    "- 3行の２列になる\n",
    "    - 元の配列を対角線で裏返す感じ。 1 -> 6, 4 -> 3\n",
    "    - 転置行列を作るときにこの処理がそのまま使用できる"
   ]
  },
  {
   "cell_type": "markdown",
   "id": "d17ec0bb-2625-415d-9acf-18e186734065",
   "metadata": {},
   "source": [
    "### まとめ\n",
    "- 配列のスライス (添字)\n",
    "    - １つの整数を指定　:　その index 位置の要素にアクセス\n",
    "\n",
    "- 配列の変形\n",
    "    - reshape(配列次元の構成)　:　次元の構成を tuple で与える\n",
    "    - flatten(), ravel()　:　高次元配列を一次元に(平坦化)する ※ ravel()が推奨されている\n",
    "        - ravel()の方が高速で処理できる\n",
    "    - T プロパティ　:　行,列を入れ替える　(転置：　Transpose:トランスポーズ) \n",
    "    "
   ]
  },
  {
   "cell_type": "markdown",
   "id": "89a713c5-7bfd-4bf9-92a4-257d5f5c0d74",
   "metadata": {},
   "source": [
    "# 配列に対する操作(2)\n",
    "- スライスの高度な使い方\n",
    "- 行、列の反転・回転"
   ]
  },
  {
   "cell_type": "markdown",
   "id": "76256458-bdb5-40dd-8584-6da60d0cfbcf",
   "metadata": {},
   "source": [
    "### スライスにlistやarray(配列)を与える\n",
    "- numpy のスライスは　python の list の配列よりもっと高度な事ができる"
   ]
  },
  {
   "cell_type": "code",
   "execution_count": null,
   "id": "6c68cde4-013c-4437-b342-be62f57c0147",
   "metadata": {},
   "outputs": [],
   "source": [
    "a = np.arange(10) * 10\n",
    "print(a)"
   ]
  },
  {
   "cell_type": "code",
   "execution_count": null,
   "id": "7e109853-7546-489e-acee-5ce89ded3bfb",
   "metadata": {},
   "outputs": [],
   "source": [
    "# スライスの中に list や　配列を与える\n",
    "a2 = a[[1, 3, 5]]\n",
    "print(a2)"
   ]
  },
  {
   "cell_type": "markdown",
   "id": "cebcb04a-d46b-413c-93bc-2257e92c3393",
   "metadata": {},
   "source": [
    "指定した　index　を抜き出して、 a2 に代入する\n",
    "\n",
    "- 抜き出したい要素を　list や配列で抽出できる\n",
    "\n",
    "- numpy 配列独自のモノ"
   ]
  },
  {
   "cell_type": "code",
   "execution_count": null,
   "id": "18be9cd4-754c-4774-9389-ce2945925130",
   "metadata": {},
   "outputs": [],
   "source": [
    "# 複数の index を指定してまとめて値を変更する\n",
    "a[[1, 3, 5]] = [[7, 8, 9]]\n",
    "print(a)"
   ]
  },
  {
   "cell_type": "markdown",
   "id": "1a85e271-d327-48cc-928e-c042de9e4258",
   "metadata": {},
   "source": [
    "### 行・列の反転・回転\n",
    "- 順番を逆転させる"
   ]
  },
  {
   "cell_type": "code",
   "execution_count": 16,
   "id": "301b3b12-f603-4bf0-88bc-798e06b329fa",
   "metadata": {},
   "outputs": [
    {
     "name": "stdout",
     "output_type": "stream",
     "text": [
      "10\n"
     ]
    }
   ],
   "source": [
    "a = np.arange(10)\n",
    "print(10)"
   ]
  },
  {
   "cell_type": "code",
   "execution_count": 17,
   "id": "ccdd4780-c44d-4dc4-8bdd-743aa7eb58aa",
   "metadata": {},
   "outputs": [
    {
     "name": "stdout",
     "output_type": "stream",
     "text": [
      "[9 8 7 6 5 4 3 2 1 0]\n"
     ]
    }
   ],
   "source": [
    "# 反転させる\n",
    "print(np.flip(a))"
   ]
  },
  {
   "cell_type": "code",
   "execution_count": 18,
   "id": "96abdf51-953a-4c0b-950d-8f32b604353d",
   "metadata": {},
   "outputs": [
    {
     "name": "stdout",
     "output_type": "stream",
     "text": [
      "[0 1 2 3 4 5 6 7 8 9]\n"
     ]
    }
   ],
   "source": [
    "# 元の配列はどうなっているのか\n",
    "print(a)"
   ]
  },
  {
   "cell_type": "markdown",
   "id": "aa9d29b4-ba9b-4efc-97f0-ec0dd1b761a8",
   "metadata": {},
   "source": [
    "-　np.flip(反転したい配列) : numpy library のfunction\n",
    "\n",
    "- flip 関数は反転した物を別の配列として返す　function\n",
    "    - 非破壊 -> 全く手を加えず、反転した結果の別の配列を返す"
   ]
  },
  {
   "cell_type": "code",
   "execution_count": 20,
   "id": "2af1cb72-4a77-4141-a6f0-40ffaede986e",
   "metadata": {},
   "outputs": [
    {
     "name": "stdout",
     "output_type": "stream",
     "text": [
      "[[1 2 3]\n",
      " [4 5 6]\n",
      " [7 8 9]]\n"
     ]
    }
   ],
   "source": [
    "# 二次元の配列に対して flip function を使用\n",
    "a2 = np.array([[1, 2, 3], [4, 5, 6], [7, 8, 9]])\n",
    "print(a2)"
   ]
  },
  {
   "cell_type": "code",
   "execution_count": 24,
   "id": "cac26461-66f6-4701-8e4c-45a6832ebad5",
   "metadata": {},
   "outputs": [
    {
     "data": {
      "text/plain": [
       "array([[9, 8, 7],\n",
       "       [6, 5, 4],\n",
       "       [3, 2, 1]])"
      ]
     },
     "execution_count": 24,
     "metadata": {},
     "output_type": "execute_result"
    }
   ],
   "source": [
    "np.flip(a2)"
   ]
  },
  {
   "cell_type": "markdown",
   "id": "d6d0ff64-7c55-4f4e-bf9f-bc55280612a2",
   "metadata": {},
   "source": [
    "- 多次元の配列に対して flip function を使用すると、記述した順番を逆転した形で抽出される\n",
    "\n",
    "- 同じ形状の多次元の配列として返してくる"
   ]
  },
  {
   "cell_type": "markdown",
   "id": "25be8ea3-5df5-4f19-879f-346363ebe42a",
   "metadata": {},
   "source": [
    "### flip 関数が必要な場合とは?"
   ]
  },
  {
   "cell_type": "code",
   "execution_count": 28,
   "id": "31043721-8b8a-4ad5-83f2-b180efcbcaf0",
   "metadata": {
    "tags": []
   },
   "outputs": [
    {
     "name": "stdout",
     "output_type": "stream",
     "text": [
      "[[7 8 9]\n",
      " [4 5 6]\n",
      " [1 2 3]]\n"
     ]
    }
   ],
   "source": [
    "# 行の方向で反転　: axis = 0\n",
    "print(np.flip(a2, axis=0))"
   ]
  },
  {
   "cell_type": "markdown",
   "id": "38a3a748-a1d8-45eb-8961-87d0d27186e8",
   "metadata": {},
   "source": [
    "- 各行の順番が逆になっている : axis -> どの形、どの順番で、どの軸を元にして反転させるのか\n",
    "\n",
    "np.flip(反転対象, axis=引数)"
   ]
  },
  {
   "cell_type": "code",
   "execution_count": 29,
   "id": "4ca96ba9-6269-48ec-b3c4-b97e7139413d",
   "metadata": {},
   "outputs": [
    {
     "name": "stdout",
     "output_type": "stream",
     "text": [
      "[[3 2 1]\n",
      " [6 5 4]\n",
      " [9 8 7]]\n"
     ]
    }
   ],
   "source": [
    "# 列の方向で反転 : axis = 1\n",
    "print(np.flip(a2, axis=1))"
   ]
  },
  {
   "cell_type": "markdown",
   "id": "4d34e013-5033-44c8-87b5-d2530f567e5b",
   "metadata": {},
   "source": [
    "#### 二次元配列は、方向を指定して、軸を指定して、順番を逆転することができる\n",
    "- 表形式の順番を逆転させる時に使用"
   ]
  },
  {
   "cell_type": "markdown",
   "id": "1449018e-efaa-413f-a863-0186b5c35244",
   "metadata": {},
   "source": [
    "### 行・列を回転させる"
   ]
  },
  {
   "cell_type": "code",
   "execution_count": 30,
   "id": "ca2e644b-28b3-4f47-a74b-273d0b44f4ca",
   "metadata": {},
   "outputs": [
    {
     "name": "stdout",
     "output_type": "stream",
     "text": [
      "[[9 1 2]\n",
      " [3 4 5]\n",
      " [6 7 8]]\n"
     ]
    }
   ],
   "source": [
    "print(np.roll(a2, shift=1))"
   ]
  },
  {
   "cell_type": "code",
   "execution_count": 31,
   "id": "6f1a44d6-17d9-48ba-beed-035cc1139fe1",
   "metadata": {},
   "outputs": [
    {
     "name": "stdout",
     "output_type": "stream",
     "text": [
      "[[1 2 3]\n",
      " [4 5 6]\n",
      " [7 8 9]]\n"
     ]
    }
   ],
   "source": [
    "print(a2)"
   ]
  },
  {
   "cell_type": "markdown",
   "id": "a806182f-5dd9-422f-9b7b-033c31418188",
   "metadata": {},
   "source": [
    "- np.roll(配列, shift=ずらす数)\n",
    "\n",
    "- １つずつズレる。最後にはみ出た 9 が先頭に戻る -> 回転して戻る"
   ]
  },
  {
   "cell_type": "code",
   "execution_count": 32,
   "id": "f0c626d6-45b0-47fe-bcce-704a611003c4",
   "metadata": {},
   "outputs": [
    {
     "name": "stdout",
     "output_type": "stream",
     "text": [
      "[[7 8 9]\n",
      " [1 2 3]\n",
      " [4 5 6]]\n"
     ]
    }
   ],
   "source": [
    "print(np.roll(a2, shift=3))"
   ]
  },
  {
   "cell_type": "markdown",
   "id": "ddf5c91d-1667-4e75-a3ee-7e2e6511796f",
   "metadata": {},
   "source": [
    "#### 行方向・列方向に指定して回転させる事もできる"
   ]
  },
  {
   "cell_type": "code",
   "execution_count": 36,
   "id": "f1e8dd27-ac22-44f2-aee5-5e9539e35228",
   "metadata": {},
   "outputs": [
    {
     "name": "stdout",
     "output_type": "stream",
     "text": [
      "[[1 2 3]\n",
      " [4 5 6]\n",
      " [7 8 9]]\n"
     ]
    }
   ],
   "source": [
    "print(a2)"
   ]
  },
  {
   "cell_type": "code",
   "execution_count": 34,
   "id": "5388655b-548a-4f9b-b2a3-d05143feb161",
   "metadata": {},
   "outputs": [
    {
     "name": "stdout",
     "output_type": "stream",
     "text": [
      "[[7 8 9]\n",
      " [1 2 3]\n",
      " [4 5 6]]\n"
     ]
    }
   ],
   "source": [
    "# 行方向に１つズレる\n",
    "print(np.roll(a2, shift=1, axis=0))"
   ]
  },
  {
   "cell_type": "code",
   "execution_count": 37,
   "id": "9cf06c9b-1321-4a5f-8869-fff93e3977c8",
   "metadata": {},
   "outputs": [
    {
     "name": "stdout",
     "output_type": "stream",
     "text": [
      "[[4 5 6]\n",
      " [7 8 9]\n",
      " [1 2 3]]\n"
     ]
    }
   ],
   "source": [
    "# 行を2つズラす\n",
    "print(np.roll(a2, shift=2, axis=0))"
   ]
  },
  {
   "cell_type": "code",
   "execution_count": 41,
   "id": "b4308f78-26f9-467c-b55a-fdb1023f21f1",
   "metadata": {},
   "outputs": [
    {
     "name": "stdout",
     "output_type": "stream",
     "text": [
      "[[1 2 3]\n",
      " [4 5 6]\n",
      " [7 8 9]]\n"
     ]
    }
   ],
   "source": [
    "print(a2)"
   ]
  },
  {
   "cell_type": "code",
   "execution_count": 42,
   "id": "5f17a8bb-cf25-4083-a6da-fca2d642cb31",
   "metadata": {},
   "outputs": [
    {
     "name": "stdout",
     "output_type": "stream",
     "text": [
      "[[3 1 2]\n",
      " [6 4 5]\n",
      " [9 7 8]]\n"
     ]
    }
   ],
   "source": [
    "# 列方向に１つズラす\n",
    "print(np.roll(a2, shift=1, axis=1))"
   ]
  },
  {
   "cell_type": "code",
   "execution_count": 43,
   "id": "f8f0d82f-5778-4b8f-9d1b-0463cfff2eb6",
   "metadata": {},
   "outputs": [
    {
     "name": "stdout",
     "output_type": "stream",
     "text": [
      "[[2 3 1]\n",
      " [5 6 4]\n",
      " [8 9 7]]\n"
     ]
    }
   ],
   "source": [
    "# 列方向に2つズラす\n",
    "print(np.roll(a2, shift=2, axis=1))"
   ]
  },
  {
   "cell_type": "markdown",
   "id": "7c751d6e-141c-4f57-a29b-71fa86e92bbf",
   "metadata": {},
   "source": [
    "### まとめ\n",
    "- <u>スライスに data列(list,array)を与えるこ</u>\n",
    "    - 複数の　index 位置の要素をまとめて取り出す(まとめて代入も可)\n",
    "    \n",
    "- <u>反転(順序の逆転)</u>\n",
    "    - np.flip(配列)　　:　データ列の反転\n",
    "        - np.〇〇()　:　関数(反転したいモノ)\n",
    "        - 反転した物は別のモノとして返される\n",
    "\n",
    "- <u>axis(0~1) : 0 = 行, 1 = 列</u>\n",
    "    - どの軸で指定する時に使用する\n",
    "    - np.flip(配列, axis=0)　:　行の順序が逆になったモノを返す(上下が反転)\n",
    "    - np.flip(配列, axis=1)　:　列の順序が逆になったモノを返す(左右が反転)\n",
    "\n",
    "- <u>回転(順序をずらす)</u>\n",
    "    - np.roll(配列, shift=移動量)　:　データの並びをずらす\n",
    "    - np.roll(配列, shift=移動量, axis= 0 or 1)　:　0 = 行をズラす, 1 = 列をズラす\n"
   ]
  },
  {
   "cell_type": "markdown",
   "id": "2bb0e03d-7a81-4a1a-bdaf-668e46818c5d",
   "metadata": {},
   "source": [
    "# 配列の編集(1)\n",
    "- 配列の連結\n",
    "    - append()　:　関数\n",
    "    - concatenate()　:　関数"
   ]
  },
  {
   "cell_type": "markdown",
   "id": "b9efd872-4667-4f71-9ba3-4c4188549f11",
   "metadata": {},
   "source": [
    "### 配列の連結"
   ]
  },
  {
   "cell_type": "code",
   "execution_count": 45,
   "id": "7addd758-9ff0-4a16-ab1e-05baf6547559",
   "metadata": {},
   "outputs": [
    {
     "name": "stdout",
     "output_type": "stream",
     "text": [
      "[0 1 2]\n",
      "[3 4 5]\n"
     ]
    }
   ],
   "source": [
    "# 一次元の配列を作成\n",
    "a1 = np.array([0, 1, 2])\n",
    "a2 = np.array([3, 4, 5])\n",
    "print(a1); print(a2)"
   ]
  },
  {
   "cell_type": "code",
   "execution_count": 47,
   "id": "d310244e-4209-4fc1-8a06-6015365eaf5a",
   "metadata": {},
   "outputs": [
    {
     "name": "stdout",
     "output_type": "stream",
     "text": [
      "[0 1 2 3 4 5]\n"
     ]
    }
   ],
   "source": [
    "a = np.append(a1, a2)\n",
    "print(a)"
   ]
  },
  {
   "cell_type": "code",
   "execution_count": 48,
   "id": "1cfb7364-58ad-4ef1-bc5f-53822ab0e812",
   "metadata": {},
   "outputs": [
    {
     "name": "stdout",
     "output_type": "stream",
     "text": [
      "[[0. 0. 0. 0.]\n",
      " [0. 0. 0. 0.]]\n",
      "[[1. 1. 1. 1.]\n",
      " [1. 1. 1. 1.]]\n"
     ]
    }
   ],
   "source": [
    "a1 = np.zeros((2, 4))\n",
    "a2 = np.ones((2, 4))\n",
    "print(a1); print(a2)"
   ]
  },
  {
   "cell_type": "code",
   "execution_count": 49,
   "id": "799c1086-ae26-4ffa-8339-af45760aa38d",
   "metadata": {},
   "outputs": [
    {
     "name": "stdout",
     "output_type": "stream",
     "text": [
      "[0. 0. 0. 0. 0. 0. 0. 0. 1. 1. 1. 1. 1. 1. 1. 1.]\n"
     ]
    }
   ],
   "source": [
    "a = np.append(a1, a2)\n",
    "print(a)"
   ]
  },
  {
   "cell_type": "markdown",
   "id": "7aa1fb35-cb4b-40ed-85f9-81fadf342c1e",
   "metadata": {},
   "source": [
    "#### 多次元の場合は連結する方向を意識しないと、上記のようになる\n",
    "- 引数に axis=0 or 1 : 行か列か引数を指定する事"
   ]
  },
  {
   "cell_type": "code",
   "execution_count": 53,
   "id": "4d18eba4-0853-41d7-ace1-ab86b2c52e3a",
   "metadata": {},
   "outputs": [
    {
     "name": "stdout",
     "output_type": "stream",
     "text": [
      "[[0. 0. 0. 0.]\n",
      " [0. 0. 0. 0.]\n",
      " [1. 1. 1. 1.]\n",
      " [1. 1. 1. 1.]]\n"
     ]
    }
   ],
   "source": [
    "# 行を指定して連結 :　縦方向に連結\n",
    "a = np.append(a1, a2, axis=0)\n",
    "print(a)"
   ]
  },
  {
   "cell_type": "code",
   "execution_count": 54,
   "id": "0d51823f-41c8-42bc-9622-b2a75eb240d3",
   "metadata": {},
   "outputs": [
    {
     "name": "stdout",
     "output_type": "stream",
     "text": [
      "[[0. 0. 0. 0. 1. 1. 1. 1.]\n",
      " [0. 0. 0. 0. 1. 1. 1. 1.]]\n"
     ]
    }
   ],
   "source": [
    "# 列を指定して連結 : 横方向に連結\n",
    "a = np.append(a1, a2, axis=1)\n",
    "print(a)"
   ]
  },
  {
   "cell_type": "markdown",
   "id": "053aefc1-0830-4fee-94c9-f3abe3ebdd84",
   "metadata": {},
   "source": [
    "#### append() は、２つの配列を連結する為の関数 = 3つの連結はできない"
   ]
  },
  {
   "cell_type": "markdown",
   "id": "c5344b4b-18ec-4bcd-9b32-962776e50afb",
   "metadata": {},
   "source": [
    "## concatenate(コンケイトネント)\n",
    "-　配列の複数の連結の時に用いる"
   ]
  },
  {
   "cell_type": "code",
   "execution_count": 55,
   "id": "134125f2-9449-4ed1-aeb9-45cb28b83817",
   "metadata": {},
   "outputs": [
    {
     "name": "stdout",
     "output_type": "stream",
     "text": [
      "[[1. 1.]\n",
      " [1. 1.]]\n",
      "[[2. 2.]\n",
      " [2. 2.]]\n",
      "[[3. 3.]\n",
      " [3. 3.]]\n"
     ]
    }
   ],
   "source": [
    "a1 = np.zeros((2, 2)); a1.fill(1)\n",
    "a2 = np.zeros((2, 2)); a2.fill(2)\n",
    "a3 = np.zeros((2, 2)); a3.fill(3)\n",
    "\n",
    "print(a1); print(a2); print(a3)"
   ]
  },
  {
   "cell_type": "code",
   "execution_count": 57,
   "id": "52ae0077-4026-46f3-b038-7a9c3923a78c",
   "metadata": {},
   "outputs": [
    {
     "name": "stdout",
     "output_type": "stream",
     "text": [
      "[[1. 1.]\n",
      " [1. 1.]\n",
      " [2. 2.]\n",
      " [2. 2.]\n",
      " [3. 3.]\n",
      " [3. 3.]]\n"
     ]
    }
   ],
   "source": [
    "a = np.concatenate((a1, a2, a3), axis=0)\n",
    "print(a)"
   ]
  },
  {
   "cell_type": "code",
   "execution_count": 58,
   "id": "3161c114-b567-464d-8709-dbbaa5f455d7",
   "metadata": {},
   "outputs": [
    {
     "name": "stdout",
     "output_type": "stream",
     "text": [
      "[[1. 1. 2. 2. 3. 3.]\n",
      " [1. 1. 2. 2. 3. 3.]]\n"
     ]
    }
   ],
   "source": [
    "a = np.concatenate((a1, a2, a3), axis=1)\n",
    "print(a)"
   ]
  },
  {
   "cell_type": "markdown",
   "id": "97786066-04eb-44a9-b09e-7b7d3a69fec4",
   "metadata": {},
   "source": [
    "#### データ処理の世界では、複数の配列を望みの形に連結する事はよくある"
   ]
  },
  {
   "cell_type": "markdown",
   "id": "1fa10e75-653a-42d9-b6bd-d7ca190168c3",
   "metadata": {},
   "source": [
    "### 縦方向専用・横方向専用に繋げる funcion\n",
    "- axis=0, axis=1 と同じ働きをする\n"
   ]
  },
  {
   "cell_type": "code",
   "execution_count": 59,
   "id": "7a395387-351b-4552-a523-7bef82137c66",
   "metadata": {},
   "outputs": [
    {
     "name": "stdout",
     "output_type": "stream",
     "text": [
      "[[1. 1.]\n",
      " [1. 1.]\n",
      " [2. 2.]\n",
      " [2. 2.]\n",
      " [3. 3.]\n",
      " [3. 3.]]\n"
     ]
    }
   ],
   "source": [
    "a = np.vstack((a1, a2, a3))\n",
    "print(a)"
   ]
  },
  {
   "cell_type": "code",
   "execution_count": 60,
   "id": "831dd108-fd6a-4285-9270-b276b61e0180",
   "metadata": {},
   "outputs": [
    {
     "name": "stdout",
     "output_type": "stream",
     "text": [
      "[[1. 1. 2. 2. 3. 3.]\n",
      " [1. 1. 2. 2. 3. 3.]]\n"
     ]
    }
   ],
   "source": [
    "a = np.hstack((a1, a2, a3))\n",
    "print(a)"
   ]
  },
  {
   "cell_type": "markdown",
   "id": "48330c04-73ad-4613-ab8a-91c49e6d37ea",
   "metadata": {},
   "source": [
    "## 配列を繰り返し\n",
    "- 配列を繰り返してタイルのように並べていく\n",
    "- ある配列を敷き詰めることによってより大きな配列を作成する"
   ]
  },
  {
   "cell_type": "code",
   "execution_count": 65,
   "id": "61bbf4db-d80e-4f94-992e-d2dda5eb56bd",
   "metadata": {},
   "outputs": [
    {
     "name": "stdout",
     "output_type": "stream",
     "text": [
      "[[1 2]\n",
      " [3 4]]\n"
     ]
    }
   ],
   "source": [
    "# 二次元配列を作成\n",
    "a = np.array([[1, 2], [3, 4]])\n",
    "print(a)"
   ]
  },
  {
   "cell_type": "code",
   "execution_count": 68,
   "id": "2b89d2bd-9ddf-43e5-ba46-15d258feb922",
   "metadata": {},
   "outputs": [
    {
     "name": "stdout",
     "output_type": "stream",
     "text": [
      "[[1 2]\n",
      " [3 4]\n",
      " [1 2]\n",
      " [3 4]\n",
      " [1 2]\n",
      " [3 4]]\n"
     ]
    }
   ],
   "source": [
    "# 横方向に散りばめて繰り返していく\n",
    "a2 = np.tile(a, (3, 1))\n",
    "print(a2)"
   ]
  },
  {
   "cell_type": "markdown",
   "id": "2c8c851d-888f-42dd-bd3f-c9f1b8226aea",
   "metadata": {},
   "source": [
    "np.tile(配列, (行, 列)) : 縦横に何回ずつ繰り返すのか？ shape tuple で入力"
   ]
  },
  {
   "cell_type": "code",
   "execution_count": 69,
   "id": "c39c9787-5314-489b-ab8e-1e30bf3a7d77",
   "metadata": {},
   "outputs": [
    {
     "name": "stdout",
     "output_type": "stream",
     "text": [
      "[[1 2 1 2 1 2]\n",
      " [3 4 3 4 3 4]\n",
      " [1 2 1 2 1 2]\n",
      " [3 4 3 4 3 4]]\n"
     ]
    }
   ],
   "source": [
    "a2 = np.tile(a, (2, 3))\n",
    "print(a2)"
   ]
  },
  {
   "cell_type": "markdown",
   "id": "c86eef30-87d7-4f74-a25a-c0d87585a52b",
   "metadata": {},
   "source": [
    "### まとめ\n",
    "- <u>配列の連結</u>\n",
    "    - np.append(配列１, 配列2, axis=0 or 1)　:　2つの配列を行　or　列方向に連結\n",
    "        - axis　を省略すると平坦化されて一次元になる\n",
    "- <u>複数連結</u>\n",
    "    - concatenate((配列１, 配列2, 配列3), axis=0 or 1)　:　行 or 列方向に連結\n",
    "        - 3つ以上 tuple型で繋げて記述\n",
    "\n",
    "    - vstack(縦専属連結), hstack(横専属連結)　という function もある\n",
    "\n",
    "- <u>配列の繰り返し</u>\n",
    "    - np.tile(配列, (縦の回数, 横の回数))"
   ]
  },
  {
   "cell_type": "markdown",
   "id": "619c3ec4-e09d-4b7b-8f6d-4f2227394d3a",
   "metadata": {
    "tags": []
   },
   "source": [
    "# 配列の編集(2)\n",
    "- 配列への要素の挿入と削除\n",
    "    - insert(　)　:　関数\n",
    "    - delete(　)　:　関数"
   ]
  },
  {
   "cell_type": "markdown",
   "id": "d5ea203c-d194-4fa0-bacd-ef64a7f91c5f",
   "metadata": {},
   "source": [
    "## 要素の挿入"
   ]
  },
  {
   "cell_type": "code",
   "execution_count": 70,
   "id": "cd8e3864-bb04-4c1d-a874-7e8bfab8f990",
   "metadata": {},
   "outputs": [
    {
     "name": "stdout",
     "output_type": "stream",
     "text": [
      "[0 1 2 3 4 5]\n",
      "[10 20 30]\n"
     ]
    }
   ],
   "source": [
    "a = np.array([0, 1, 2, 3, 4, 5])\n",
    "ins = np.array([10, 20, 30])\n",
    "print(a); print(ins)"
   ]
  },
  {
   "cell_type": "code",
   "execution_count": 71,
   "id": "a1bb4471-d867-44a3-af47-a88844e883db",
   "metadata": {},
   "outputs": [
    {
     "name": "stdout",
     "output_type": "stream",
     "text": [
      "[ 0  1  2 10 20 30  3  4  5]\n"
     ]
    }
   ],
   "source": [
    "# insert をして挿入していく\n",
    "a2 = np.insert(a, 3, ins)\n",
    "print(a2)"
   ]
  },
  {
   "cell_type": "markdown",
   "id": "9bb3e776-15c0-44ac-a3b2-a316a1daee0e",
   "metadata": {},
   "source": [
    "np.insert(元の配列, 挿入index, 挿入する配列)"
   ]
  },
  {
   "cell_type": "code",
   "execution_count": 72,
   "id": "85ecaaf2-da5b-4158-b372-ef64790464ea",
   "metadata": {},
   "outputs": [
    {
     "name": "stdout",
     "output_type": "stream",
     "text": [
      "[ 0  1 99  2  3  4  5]\n"
     ]
    }
   ],
   "source": [
    "# 1つの数値を挿入する事もできる\n",
    "a2 = np.insert(a, 2, 99)\n",
    "print(a2)"
   ]
  },
  {
   "cell_type": "markdown",
   "id": "b7a82437-6419-458a-a295-6f02f8ce9652",
   "metadata": {},
   "source": [
    "### 多次元の配列に行・列を挿入する"
   ]
  },
  {
   "cell_type": "code",
   "execution_count": 75,
   "id": "6b00e4a0-fac5-4bac-95fa-8bae2d14500d",
   "metadata": {},
   "outputs": [
    {
     "name": "stdout",
     "output_type": "stream",
     "text": [
      "[[1 2 3]\n",
      " [4 5 6]\n",
      " [7 8 9]]\n",
      "[91 92 93]\n"
     ]
    }
   ],
   "source": [
    "a = np.array([[1, 2, 3], [4, 5, 6], [7, 8, 9]])\n",
    "ins = np.array([91, 92, 93])\n",
    "print(a); print(ins)"
   ]
  },
  {
   "cell_type": "code",
   "execution_count": 76,
   "id": "5ccb47d1-2841-4ad9-9ee8-31d8e205c420",
   "metadata": {},
   "outputs": [
    {
     "name": "stdout",
     "output_type": "stream",
     "text": [
      "[[ 1  2  3]\n",
      " [ 4  5  6]\n",
      " [91 92 93]\n",
      " [ 7  8  9]]\n"
     ]
    }
   ],
   "source": [
    "a2 = np.insert(a, 2, ins, axis=0)\n",
    "print(a2)"
   ]
  },
  {
   "cell_type": "markdown",
   "id": "5d611e36-586d-46ef-b39d-3f60daa969a1",
   "metadata": {},
   "source": [
    "- np.insert(元の配列, index 2, 挿入する配列, axis=行)\n",
    "\n",
    "- 行の　index 2 の場所に挿入される"
   ]
  },
  {
   "cell_type": "code",
   "execution_count": 77,
   "id": "f9cbdc9b-681b-4910-b5f8-01f45e59a646",
   "metadata": {},
   "outputs": [
    {
     "name": "stdout",
     "output_type": "stream",
     "text": [
      "[[ 1  2 91  3]\n",
      " [ 4  5 92  6]\n",
      " [ 7  8 93  9]]\n"
     ]
    }
   ],
   "source": [
    "# 列方向に insert する\n",
    "a2 = np.insert(a, 2, ins, axis=1)\n",
    "print(a2)"
   ]
  },
  {
   "cell_type": "code",
   "execution_count": 78,
   "id": "166fc787-8962-4db1-886f-1c136d653f74",
   "metadata": {},
   "outputs": [
    {
     "name": "stdout",
     "output_type": "stream",
     "text": [
      "[[91 92 93]\n",
      " [94 95 96]\n",
      " [97 98 99]]\n"
     ]
    }
   ],
   "source": [
    "# 挿入する方を多次元にする\n",
    "ins2 = np.array([[91, 92, 93], [94, 95, 96], [97, 98, 99]])\n",
    "print(ins2)"
   ]
  },
  {
   "cell_type": "code",
   "execution_count": 79,
   "id": "93075eeb-91ea-4f4c-b6c8-e6c80317873f",
   "metadata": {},
   "outputs": [
    {
     "name": "stdout",
     "output_type": "stream",
     "text": [
      "[[ 1  2  3]\n",
      " [ 4  5  6]\n",
      " [91 92 93]\n",
      " [94 95 96]\n",
      " [97 98 99]\n",
      " [ 7  8  9]]\n"
     ]
    }
   ],
   "source": [
    "a2 = np.insert(a, 2, ins2, axis=0)\n",
    "print(a2)"
   ]
  },
  {
   "cell_type": "code",
   "execution_count": 80,
   "id": "d2f62641-3d2c-4fd7-b68f-8879b6b8ebba",
   "metadata": {},
   "outputs": [
    {
     "name": "stdout",
     "output_type": "stream",
     "text": [
      "[[1 2 3]\n",
      " [4 5 6]\n",
      " [7 8 9]]\n"
     ]
    }
   ],
   "source": [
    "print(a)"
   ]
  },
  {
   "cell_type": "code",
   "execution_count": 81,
   "id": "9c249dc7-4341-4099-b461-4a4e9268df27",
   "metadata": {},
   "outputs": [
    {
     "name": "stdout",
     "output_type": "stream",
     "text": [
      "[[ 1  2 91 94 97  3]\n",
      " [ 4  5 92 95 98  6]\n",
      " [ 7  8 93 96 99  9]]\n"
     ]
    }
   ],
   "source": [
    "a2 = np.insert(a, 2, ins2, axis=1)\n",
    "print(a2)"
   ]
  },
  {
   "cell_type": "markdown",
   "id": "616d2e25-587e-44b3-8853-4f256b68ffbb",
   "metadata": {},
   "source": [
    "- 列に挿入する時は転置されてしまうので注意する\n",
    "\n",
    "- よく使用されるのは axis=0 （行）の方が圧倒的に多い"
   ]
  },
  {
   "cell_type": "markdown",
   "id": "189fea16-6ce5-45a7-b42a-7681ce999bc3",
   "metadata": {},
   "source": [
    "## 要素の削除"
   ]
  },
  {
   "cell_type": "code",
   "execution_count": 82,
   "id": "788b72b1-9ade-48dc-8960-b793ed2c8a2c",
   "metadata": {},
   "outputs": [
    {
     "name": "stdout",
     "output_type": "stream",
     "text": [
      "[0 2 3 4 5]\n"
     ]
    }
   ],
   "source": [
    "a = np.array([0, 2, 3, 4, 5])\n",
    "print(a)"
   ]
  },
  {
   "cell_type": "code",
   "execution_count": 86,
   "id": "9f17b167-3e6a-48c7-948b-92c1e5ae1569",
   "metadata": {},
   "outputs": [
    {
     "name": "stdout",
     "output_type": "stream",
     "text": [
      "[0 2 4 5]\n"
     ]
    }
   ],
   "source": [
    "a2 = np.delete(a, 2)\n",
    "print(a2)"
   ]
  },
  {
   "cell_type": "code",
   "execution_count": 87,
   "id": "00410c3c-a687-4cee-88c9-58a6e560e28f",
   "metadata": {},
   "outputs": [
    {
     "name": "stdout",
     "output_type": "stream",
     "text": [
      "[0 2 3 4 5]\n"
     ]
    }
   ],
   "source": [
    "print(a)"
   ]
  },
  {
   "cell_type": "markdown",
   "id": "49f4cc64-dc63-424c-8790-00687b1bec5c",
   "metadata": {},
   "source": [
    "delete しても元の a が壊されるわけではない"
   ]
  },
  {
   "cell_type": "code",
   "execution_count": 88,
   "id": "b118ddac-1aa6-4683-994b-b5323387e4bc",
   "metadata": {},
   "outputs": [
    {
     "name": "stdout",
     "output_type": "stream",
     "text": [
      "[[1 2 3]\n",
      " [4 5 6]\n",
      " [7 8 9]]\n"
     ]
    }
   ],
   "source": [
    "# 多次元の配列を部分的に削除\n",
    "a = np.array([[1, 2, 3], [4, 5, 6], [7, 8, 9]])\n",
    "print(a)"
   ]
  },
  {
   "cell_type": "code",
   "execution_count": 90,
   "id": "428fa0bf-0e22-438e-85f3-15b71755b8a2",
   "metadata": {},
   "outputs": [
    {
     "name": "stdout",
     "output_type": "stream",
     "text": [
      "[[1 2 3]\n",
      " [4 5 6]]\n"
     ]
    }
   ],
   "source": [
    "a2 = np.delete(a, 2, axis=0)\n",
    "print(a2)"
   ]
  },
  {
   "cell_type": "code",
   "execution_count": 92,
   "id": "079de848-94a4-453d-b87f-70f242b8a4cc",
   "metadata": {},
   "outputs": [
    {
     "name": "stdout",
     "output_type": "stream",
     "text": [
      "[[1 2]\n",
      " [4 5]\n",
      " [7 8]]\n"
     ]
    }
   ],
   "source": [
    "a2 = np.delete(a, 2, axis=1)\n",
    "print(a2)"
   ]
  },
  {
   "cell_type": "markdown",
   "id": "f93a0fc9-1d19-4ccc-8dc8-e78a8ce7c5ad",
   "metadata": {},
   "source": [
    "### まとめ\n",
    "- <u>要素の挿入</u>\n",
    "    - np.insert(配列1, 挿入index, 挿入要素, axis=0 or 1)\n",
    "        - 「配列」の「挿入位置」の行　or 列に「挿入要素」を挿入する\n",
    "        - 配列が一次元の場合は axis は不要\n",
    "\n",
    "- <u>要素の削除</u>\n",
    "    - np.delete(配列1, 削除index, axis=0 or 1)\n",
    "        - 「配列」の「削除位置」の行 or 列を削除する"
   ]
  },
  {
   "cell_type": "markdown",
   "id": "c906d1bb-a451-4cc4-b4a4-f301fbf10567",
   "metadata": {},
   "source": [
    "# データ抽出\n",
    "- ある条件を満たす要素を取り出す\n",
    "- 最大値、最小値を取り出す"
   ]
  },
  {
   "cell_type": "markdown",
   "id": "0de04445-44f1-45e6-883e-e38295861e7c",
   "metadata": {},
   "source": [
    "### 要素の抽出"
   ]
  },
  {
   "cell_type": "code",
   "execution_count": 94,
   "id": "9abbb738-00da-4254-865a-9c40299e2fd1",
   "metadata": {},
   "outputs": [
    {
     "name": "stdout",
     "output_type": "stream",
     "text": [
      "[0 1 2 3]\n"
     ]
    }
   ],
   "source": [
    "# スライス\n",
    "a = np.arange(4)\n",
    "print(a)"
   ]
  },
  {
   "cell_type": "code",
   "execution_count": 96,
   "id": "ec4eee27-9dae-4f3c-9202-171c373adbb4",
   "metadata": {},
   "outputs": [
    {
     "name": "stdout",
     "output_type": "stream",
     "text": [
      "[1]\n"
     ]
    }
   ],
   "source": [
    "# True or False (真理値)\n",
    "msk = [False, True, False, False]\n",
    "a2 = a[msk]\n",
    "print(a2)"
   ]
  },
  {
   "cell_type": "markdown",
   "id": "ca3eb480-6b78-4ea1-b0a4-c31002a0068b",
   "metadata": {},
   "source": [
    "- numpy の配列は真理値の配列も与えることができる\n",
    "\n",
    "- a[真理値の並び]　-> True　に対応するモノを抜き出す事ができる\n",
    "\n",
    "- 欲しい要素の配列の位置を True とする"
   ]
  },
  {
   "cell_type": "code",
   "execution_count": 97,
   "id": "394ff53d-c7d1-498e-a462-fd638fdf9fd4",
   "metadata": {},
   "outputs": [
    {
     "name": "stdout",
     "output_type": "stream",
     "text": [
      "[0 1 2 3 4 5 6 7 8 9]\n"
     ]
    }
   ],
   "source": [
    "a = np.arange(10)\n",
    "print(a)"
   ]
  },
  {
   "cell_type": "code",
   "execution_count": 99,
   "id": "9020723a-1521-4edb-8a71-c543419e4cb8",
   "metadata": {},
   "outputs": [
    {
     "name": "stdout",
     "output_type": "stream",
     "text": [
      "[ True False  True False  True False  True False  True False]\n"
     ]
    }
   ],
   "source": [
    "# 配列に剰余を求めるとどうなるのか？\n",
    "m = a % 2 == 0 \n",
    "print(m)"
   ]
  },
  {
   "cell_type": "markdown",
   "id": "100e1a54-7bab-4354-8fe0-f38adfb6df30",
   "metadata": {},
   "source": [
    "### 配列に対して条件式を行うと…\n",
    "- 各配列要素に対して剰余値の結果を真理値で出力する ->　Treu or False\n",
    "- 2 で割った余りが 0 であるかどうか？\n",
    "- 配列一括処理の一種"
   ]
  },
  {
   "cell_type": "markdown",
   "id": "7f21a798-1f2e-4125-8c65-d18c07182fdb",
   "metadata": {},
   "source": [
    "#### 配列のスライスの中に直接、条件式を記述する事ができる"
   ]
  },
  {
   "cell_type": "markdown",
   "id": "1a2f6ec9-3a8a-439c-b4cc-c3c8eaecd6ee",
   "metadata": {},
   "source": [
    "### 条件式による要素の抽出"
   ]
  },
  {
   "cell_type": "code",
   "execution_count": 104,
   "id": "601fb92f-b24f-484d-a307-8cc88b34fe75",
   "metadata": {},
   "outputs": [
    {
     "name": "stdout",
     "output_type": "stream",
     "text": [
      "[0 2 4 6 8]\n"
     ]
    }
   ],
   "source": [
    "a2 = a[a%2==0]\n",
    "print(a2)"
   ]
  },
  {
   "cell_type": "markdown",
   "id": "473b17b5-bc56-4cd0-b80e-c036e6d9bd05",
   "metadata": {},
   "source": [
    "### 上記のやり方は、今後 data 処理で現場で必ず必要になる基礎的な手法\n",
    "- 配列のスライスの中に直接、条件式を記述して欲しい情報だけを抽出する\n",
    "    - <u>条件式の返り値　->　True or False なので　->　条件式が True のものが抽出される</u>\n",
    "    - **元になる配列[ 条件式 ]**\n",
    "    - python にはない Numpy 独自の機能"
   ]
  },
  {
   "cell_type": "code",
   "execution_count": 106,
   "id": "e955aeda-8f05-4376-8572-03c1a569b90b",
   "metadata": {},
   "outputs": [
    {
     "name": "stdout",
     "output_type": "stream",
     "text": [
      "[6 7 8 9]\n"
     ]
    }
   ],
   "source": [
    "a2 = a[a>5]\n",
    "print(a2)"
   ]
  },
  {
   "cell_type": "markdown",
   "id": "0cc69d2e-922d-4fbd-8811-25878e119698",
   "metadata": {},
   "source": [
    "## where による狙い撃ち\n",
    "- np.where()　:　function(関数)\n",
    "    - np.where( 対象配列に対する条件式,　'条件に対するアクション',　アクション以外の配列要素 )"
   ]
  },
  {
   "cell_type": "code",
   "execution_count": 107,
   "id": "869f6709-8cbc-4a79-bdeb-12c8048bd996",
   "metadata": {},
   "outputs": [
    {
     "name": "stdout",
     "output_type": "stream",
     "text": [
      "['0' '1' '2' '3' '4' '5' 'big' 'big' 'big' 'big']\n"
     ]
    }
   ],
   "source": [
    "a2 = np.where(a > 5, 'big', a)\n",
    "print(a2)"
   ]
  },
  {
   "cell_type": "markdown",
   "id": "f0f4ff85-685b-41a0-88d7-30e47208c246",
   "metadata": {},
   "source": [
    "5より大きい部分には　big をそれ以外の部分には元の data を出力する"
   ]
  },
  {
   "cell_type": "code",
   "execution_count": 108,
   "id": "2dd1880c-c740-4bad-83da-148e7f1f250a",
   "metadata": {},
   "outputs": [
    {
     "name": "stdout",
     "output_type": "stream",
     "text": [
      "['偶' '奇' '偶' '奇' '偶' '奇' '偶' '奇' '偶' '奇']\n"
     ]
    }
   ],
   "source": [
    "a2 = np.where(a % 2==0, '偶', '奇')\n",
    "print(a2)"
   ]
  },
  {
   "cell_type": "code",
   "execution_count": 109,
   "id": "b4bdf546-05d5-402f-947a-8a157720fd34",
   "metadata": {},
   "outputs": [
    {
     "name": "stdout",
     "output_type": "stream",
     "text": [
      "[0 1 2 3 4 5 6 7 8 9]\n"
     ]
    }
   ],
   "source": [
    "print(a)"
   ]
  },
  {
   "cell_type": "markdown",
   "id": "ed64f8e6-3127-4112-bdcd-4732a1f7ddc3",
   "metadata": {},
   "source": [
    "## 配列の最大値・最小値"
   ]
  },
  {
   "cell_type": "code",
   "execution_count": 110,
   "id": "d8b47409-7ab4-4cfd-b24a-06401f431e52",
   "metadata": {},
   "outputs": [
    {
     "name": "stdout",
     "output_type": "stream",
     "text": [
      "[1 2 3 4 3 2 1]\n"
     ]
    }
   ],
   "source": [
    "a = np.array([1, 2, 3, 4, 3, 2, 1])\n",
    "print(a)"
   ]
  },
  {
   "cell_type": "code",
   "execution_count": 112,
   "id": "3452e6b3-183f-46da-af87-d8e447de1ec2",
   "metadata": {},
   "outputs": [
    {
     "data": {
      "text/plain": [
       "4"
      ]
     },
     "execution_count": 112,
     "metadata": {},
     "output_type": "execute_result"
    }
   ],
   "source": [
    "# .max() : method\n",
    "a.max()"
   ]
  },
  {
   "cell_type": "code",
   "execution_count": 113,
   "id": "b42522b6-4fd9-4a52-b6c2-0050994a7242",
   "metadata": {},
   "outputs": [
    {
     "data": {
      "text/plain": [
       "1"
      ]
     },
     "execution_count": 113,
     "metadata": {},
     "output_type": "execute_result"
    }
   ],
   "source": [
    "# .min() : method\n",
    "a.min()"
   ]
  },
  {
   "cell_type": "markdown",
   "id": "eac5adcd-d880-4e02-b6ee-db264a89f1c9",
   "metadata": {},
   "source": [
    "### まとめ\n",
    "- <u>配列のスライスに条件式を与え、その条件式を満たす要素を取り出す(NumPyでは可能)</u>\n",
    "    - 配列[ 条件式 ]\n",
    "        - <u>配列の条件式は真理値の列を返す</u>\n",
    "        - True or False の配列　->　スライスの中に真理値の並びを与えている\n",
    "\n",
    "- <u>与えられた条件によって処理を施す</u>\n",
    "    - np.where(　条件式,　真(True)となる要素に対して処理,　偽(False)となる要素に対する処理　)"
   ]
  },
  {
   "cell_type": "code",
   "execution_count": null,
   "id": "e2ba8233-336b-4778-9439-d191af1904f9",
   "metadata": {},
   "outputs": [],
   "source": []
  }
 ],
 "metadata": {
  "kernelspec": {
   "display_name": "Python 3 (ipykernel)",
   "language": "python",
   "name": "python3"
  },
  "language_info": {
   "codemirror_mode": {
    "name": "ipython",
    "version": 3
   },
   "file_extension": ".py",
   "mimetype": "text/x-python",
   "name": "python",
   "nbconvert_exporter": "python",
   "pygments_lexer": "ipython3",
   "version": "3.9.6"
  }
 },
 "nbformat": 4,
 "nbformat_minor": 5
}
