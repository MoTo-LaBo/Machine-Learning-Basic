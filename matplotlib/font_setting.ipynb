{
 "cells": [
  {
   "cell_type": "markdown",
   "id": "84a5b6da-ec93-4908-8d13-9ead01d500e5",
   "metadata": {},
   "source": [
    "# 作図の為の日本語フォントの設定"
   ]
  },
  {
   "cell_type": "markdown",
   "id": "a480688f-1d6e-4736-b64d-6c6d65337a7b",
   "metadata": {},
   "source": [
    "### 図のlabelやtitleなどに日本語を使用する\n",
    "- <u>現状</u>\n",
    "    - 「オープンソースのソフトウェアの多くは日本語を意識していない」\n",
    "    - 日本語を使用するとしばし「文字化け」を起こす\n",
    "\n",
    "\n",
    "- <u>対応策</u>\n",
    "    - 「明に日本語フォントの使用を設定する」"
   ]
  },
  {
   "cell_type": "markdown",
   "id": "7bf1de70-6847-4694-89da-eb92c90a7382",
   "metadata": {},
   "source": [
    "### 日本語fontの扱い方"
   ]
  },
  {
   "cell_type": "code",
   "execution_count": 1,
   "id": "7eaddd42-5148-493a-8b2e-051ac0778efa",
   "metadata": {},
   "outputs": [],
   "source": [
    "import numpy as np\n",
    "import matplotlib.pyplot as plt"
   ]
  },
  {
   "cell_type": "code",
   "execution_count": 2,
   "id": "690b913f-4505-41e5-8539-6d17f6d96dbc",
   "metadata": {},
   "outputs": [],
   "source": [
    "x = np.linspace(-7, 7, 100)\n",
    "y1 = np.sin(x)\n",
    "y2 = np.cos(x)"
   ]
  },
  {
   "cell_type": "code",
   "execution_count": 3,
   "id": "084913a5-22fb-4ded-933d-6f487a5f38d4",
   "metadata": {},
   "outputs": [
    {
     "data": {
      "text/plain": [
       "Text(0.5, 1.0, '正弦関数')"
      ]
     },
     "execution_count": 3,
     "metadata": {},
     "output_type": "execute_result"
    },
    {
     "name": "stderr",
     "output_type": "stream",
     "text": [
      "/Users/moto/udemy/Machine_Learning/venv/lib/python3.9/site-packages/matplotlib/backends/backend_agg.py:240: RuntimeWarning: Glyph 27491 missing from current font.\n",
      "  font.set_text(s, 0.0, flags=flags)\n",
      "/Users/moto/udemy/Machine_Learning/venv/lib/python3.9/site-packages/matplotlib/backends/backend_agg.py:240: RuntimeWarning: Glyph 24358 missing from current font.\n",
      "  font.set_text(s, 0.0, flags=flags)\n",
      "/Users/moto/udemy/Machine_Learning/venv/lib/python3.9/site-packages/matplotlib/backends/backend_agg.py:240: RuntimeWarning: Glyph 38306 missing from current font.\n",
      "  font.set_text(s, 0.0, flags=flags)\n",
      "/Users/moto/udemy/Machine_Learning/venv/lib/python3.9/site-packages/matplotlib/backends/backend_agg.py:240: RuntimeWarning: Glyph 25968 missing from current font.\n",
      "  font.set_text(s, 0.0, flags=flags)\n",
      "/Users/moto/udemy/Machine_Learning/venv/lib/python3.9/site-packages/matplotlib/backends/backend_agg.py:240: RuntimeWarning: Glyph 23450 missing from current font.\n",
      "  font.set_text(s, 0.0, flags=flags)\n",
      "/Users/moto/udemy/Machine_Learning/venv/lib/python3.9/site-packages/matplotlib/backends/backend_agg.py:240: RuntimeWarning: Glyph 32681 missing from current font.\n",
      "  font.set_text(s, 0.0, flags=flags)\n",
      "/Users/moto/udemy/Machine_Learning/venv/lib/python3.9/site-packages/matplotlib/backends/backend_agg.py:240: RuntimeWarning: Glyph 22495 missing from current font.\n",
      "  font.set_text(s, 0.0, flags=flags)\n",
      "/Users/moto/udemy/Machine_Learning/venv/lib/python3.9/site-packages/matplotlib/backends/backend_agg.py:203: RuntimeWarning: Glyph 23450 missing from current font.\n",
      "  font.set_text(s, 0, flags=flags)\n",
      "/Users/moto/udemy/Machine_Learning/venv/lib/python3.9/site-packages/matplotlib/backends/backend_agg.py:203: RuntimeWarning: Glyph 32681 missing from current font.\n",
      "  font.set_text(s, 0, flags=flags)\n",
      "/Users/moto/udemy/Machine_Learning/venv/lib/python3.9/site-packages/matplotlib/backends/backend_agg.py:203: RuntimeWarning: Glyph 22495 missing from current font.\n",
      "  font.set_text(s, 0, flags=flags)\n",
      "/Users/moto/udemy/Machine_Learning/venv/lib/python3.9/site-packages/matplotlib/backends/backend_agg.py:203: RuntimeWarning: Glyph 27491 missing from current font.\n",
      "  font.set_text(s, 0, flags=flags)\n",
      "/Users/moto/udemy/Machine_Learning/venv/lib/python3.9/site-packages/matplotlib/backends/backend_agg.py:203: RuntimeWarning: Glyph 24358 missing from current font.\n",
      "  font.set_text(s, 0, flags=flags)\n",
      "/Users/moto/udemy/Machine_Learning/venv/lib/python3.9/site-packages/matplotlib/backends/backend_agg.py:203: RuntimeWarning: Glyph 38306 missing from current font.\n",
      "  font.set_text(s, 0, flags=flags)\n",
      "/Users/moto/udemy/Machine_Learning/venv/lib/python3.9/site-packages/matplotlib/backends/backend_agg.py:203: RuntimeWarning: Glyph 25968 missing from current font.\n",
      "  font.set_text(s, 0, flags=flags)\n"
     ]
    },
    {
     "data": {
      "image/png": "[encoded data removed]",
      "text/plain": [
       "<Figure size 432x288 with 1 Axes>"
      ]
     },
     "metadata": {
      "needs_background": "light"
     },
     "output_type": "display_data"
    }
   ],
   "source": [
    "plt.plot(x, y1)\n",
    "plt.xlabel('定義域')\n",
    "plt.ylabel('定義域')\n",
    "plt.title('正弦関数')"
   ]
  },
  {
   "cell_type": "markdown",
   "id": "e34585d9-3fa5-4c83-ab84-e58bd334dd36",
   "metadata": {},
   "source": [
    "- 処理をする上でよろしくない事がありますよ。という警告メッセージ（Runtime Warning）\n",
    "\n",
    "- 全て四角になってしまい見事に文字化けを起こしている"
   ]
  },
  {
   "cell_type": "code",
   "execution_count": null,
   "id": "72a672a4-2a9d-443c-8458-86f31b3ee14b",
   "metadata": {},
   "outputs": [],
   "source": []
  }
 ],
 "metadata": {
  "kernelspec": {
   "display_name": "Python 3 (ipykernel)",
   "language": "python",
   "name": "python3"
  },
  "language_info": {
   "codemirror_mode": {
    "name": "ipython",
    "version": 3
   },
   "file_extension": ".py",
   "mimetype": "text/x-python",
   "name": "python",
   "nbconvert_exporter": "python",
   "pygments_lexer": "ipython3",
   "version": "3.9.6"
  }
 },
 "nbformat": 4,
 "nbformat_minor": 5
}
