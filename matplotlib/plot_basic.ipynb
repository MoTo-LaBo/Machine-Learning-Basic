{
 "cells": [
  {
   "cell_type": "markdown",
   "id": "4e9114d9-1330-41e9-a8c9-0a15eaa617d2",
   "metadata": {},
   "source": [
    "# 作図の基本(1)"
   ]
  },
  {
   "cell_type": "markdown",
   "id": "26e45fc0-404b-49be-ad43-d8c5b91dc345",
   "metadata": {},
   "source": [
    "### matplotlibによる作図\n",
    "- plot　:　折れ線グラフ"
   ]
  },
  {
   "cell_type": "code",
   "execution_count": null,
   "id": "ed163b78-8840-4c44-8dda-d0f3c21fbb5e",
   "metadata": {},
   "outputs": [],
   "source": []
  }
 ],
 "metadata": {
  "kernelspec": {
   "display_name": "Python 3 (ipykernel)",
   "language": "python",
   "name": "python3"
  },
  "language_info": {
   "codemirror_mode": {
    "name": "ipython",
    "version": 3
   },
   "file_extension": ".py",
   "mimetype": "text/x-python",
   "name": "python",
   "nbconvert_exporter": "python",
   "pygments_lexer": "ipython3",
   "version": "3.9.6"
  }
 },
 "nbformat": 4,
 "nbformat_minor": 5
}
