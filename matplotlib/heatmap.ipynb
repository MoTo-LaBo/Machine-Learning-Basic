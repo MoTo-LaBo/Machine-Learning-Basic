{
 "cells": [
  {
   "cell_type": "markdown",
   "id": "b08d919f-a565-4d27-be55-10fe6da240e2",
   "metadata": {},
   "source": [
    "# ヒートマップ\n",
    "### 「大量の多次元データを、一目で関係を指し示すために色を利用し、可視化する」\n",
    "- そもそもヒートマップ(英: Heat map）とは?\n",
    "    - 「大量の多次元データを、一目で関係を指し示すために色を利用し、可視化する」ための手法をさす\n",
    "\n",
    "\n",
    "- 二次元（表形式）の数値配列の可視化"
   ]
  },
  {
   "cell_type": "code",
   "execution_count": 1,
   "id": "0cb22716-e212-486e-b2b5-551ba56a5599",
   "metadata": {},
   "outputs": [],
   "source": [
    "import numpy as np\n",
    "import matplotlib.pyplot as plt"
   ]
  },
  {
   "cell_type": "code",
   "execution_count": 2,
   "id": "de63893f-8489-46d0-bbd2-a49e3cd37780",
   "metadata": {},
   "outputs": [],
   "source": [
    "# csv 読み込む　->　numpy の配列dataに直す\n",
    "A = np.loadtxt('htmp.csv', delimiter=',')  # sample data(二次元)　:　コンマ(,)で区切り文字"
   ]
  },
  {
   "cell_type": "code",
   "execution_count": 3,
   "id": "4773548c-6e70-46d5-9802-fcf9dd31a460",
   "metadata": {},
   "outputs": [
    {
     "name": "stdout",
     "output_type": "stream",
     "text": [
      "[[0.23 0.25 0.27 0.29 0.31 0.32 0.32 0.31 0.29 0.27 0.25 0.23]\n",
      " [0.25 0.28 0.31 0.34 0.37 0.39 0.39 0.37 0.34 0.31 0.28 0.25]\n",
      " [0.27 0.31 0.35 0.41 0.46 0.5  0.5  0.46 0.41 0.35 0.31 0.27]\n",
      " [0.29 0.34 0.41 0.5  0.6  0.69 0.69 0.6  0.5  0.41 0.34 0.29]\n",
      " [0.31 0.37 0.46 0.6  0.83 1.11 1.11 0.83 0.6  0.46 0.37 0.31]\n",
      " [0.32 0.39 0.5  0.69 1.11 2.48 2.48 1.11 0.69 0.5  0.39 0.32]\n",
      " [0.32 0.39 0.5  0.69 1.11 2.48 2.48 1.11 0.69 0.5  0.39 0.32]\n",
      " [0.31 0.37 0.46 0.6  0.83 1.11 1.11 0.83 0.6  0.46 0.37 0.31]\n",
      " [0.29 0.34 0.41 0.5  0.6  0.69 0.69 0.6  0.5  0.41 0.34 0.29]\n",
      " [0.27 0.31 0.35 0.41 0.46 0.5  0.5  0.46 0.41 0.35 0.31 0.27]\n",
      " [0.25 0.28 0.31 0.34 0.37 0.39 0.39 0.37 0.34 0.31 0.28 0.25]\n",
      " [0.23 0.25 0.27 0.29 0.31 0.32 0.32 0.31 0.29 0.27 0.25 0.23]]\n"
     ]
    }
   ],
   "source": [
    "print(A)"
   ]
  },
  {
   "cell_type": "code",
   "execution_count": 5,
   "id": "e3e7a210-680d-4f0b-a8c5-13b15b5f66e6",
   "metadata": {},
   "outputs": [
    {
     "data": {
      "text/plain": [
       "<matplotlib.collections.PolyCollection at 0x1265cb880>"
      ]
     },
     "execution_count": 5,
     "metadata": {},
     "output_type": "execute_result"
    },
    {
     "data": {
      "image/png": "[encoded data removed]",
      "text/plain": [
       "<Figure size 288x288 with 1 Axes>"
      ]
     },
     "metadata": {
      "needs_background": "light"
     },
     "output_type": "display_data"
    }
   ],
   "source": [
    "plt.figure(figsize=(4,4))\n",
    "plt.pcolor(A, cmap=plt.cm.hot)"
   ]
  },
  {
   "cell_type": "markdown",
   "id": "b1426534-cd01-4134-ad83-d53ed19194f1",
   "metadata": {},
   "source": [
    "- 数値が小さい所はより暗く(黒に近い色)\n",
    "\n",
    "- 数値が大きい所は明るい(赤に近い色　->　白色)\n",
    "\n",
    "- plt.cm.**hot**\n",
    "    - 温度を意味する配色\n",
    "    - 火　->　金属を熱するとどんどん赤くなて最終的に白く光っているように見える\n",
    "    \n",
    "    \n",
    "- <u>一目でその情報が何を意味しているのかが直感的に分かる</u>\n",
    "\n",
    "- data処理・機械学習の二次元data\n",
    "    - 大きさの分布状況や外観を掴みたい時に頻繁に使用する方法"
   ]
  },
  {
   "cell_type": "markdown",
   "id": "1242ebbb-2c4d-4780-9163-730082ff33af",
   "metadata": {},
   "source": [
    "## color map について\n",
    "- <u>値の大小を独特のカラー・グラデーションで表現する</u>\n",
    "    - **plt.cm.<名称>** :　下記参照\n",
    "        - hot\n",
    "        - gray\n",
    "        - cool\n",
    "        - bwr\n",
    "        - seismic"
   ]
  },
  {
   "cell_type": "code",
   "execution_count": 6,
   "id": "520afe3f-323d-4a38-8593-f4c799bda671",
   "metadata": {},
   "outputs": [
    {
     "data": {
      "text/plain": [
       "<matplotlib.collections.PolyCollection at 0x12661e730>"
      ]
     },
     "execution_count": 6,
     "metadata": {},
     "output_type": "execute_result"
    },
    {
     "data": {
      "image/png": "[encoded data removed]",
      "text/plain": [
       "<Figure size 288x288 with 1 Axes>"
      ]
     },
     "metadata": {
      "needs_background": "light"
     },
     "output_type": "display_data"
    }
   ],
   "source": [
    "plt.figure(figsize=(4,4))\n",
    "plt.pcolor(A, cmap=plt.cm.gray)"
   ]
  },
  {
   "cell_type": "code",
   "execution_count": 7,
   "id": "04736fc1-e9ca-486e-9ab9-70f8ce30c23f",
   "metadata": {},
   "outputs": [
    {
     "data": {
      "text/plain": [
       "<matplotlib.collections.PolyCollection at 0x1267693a0>"
      ]
     },
     "execution_count": 7,
     "metadata": {},
     "output_type": "execute_result"
    },
    {
     "data": {
      "image/png": "[encoded data removed]",
      "text/plain": [
       "<Figure size 288x288 with 1 Axes>"
      ]
     },
     "metadata": {
      "needs_background": "light"
     },
     "output_type": "display_data"
    }
   ],
   "source": [
    "plt.figure(figsize=(4,4))\n",
    "plt.pcolor(A, cmap=plt.cm.cool)"
   ]
  },
  {
   "cell_type": "code",
   "execution_count": 8,
   "id": "0157f1b2-ced3-4585-8527-38ed386ba20a",
   "metadata": {},
   "outputs": [
    {
     "data": {
      "text/plain": [
       "<matplotlib.collections.PolyCollection at 0x1267858b0>"
      ]
     },
     "execution_count": 8,
     "metadata": {},
     "output_type": "execute_result"
    },
    {
     "data": {
      "image/png": "[encoded data removed]",
      "text/plain": [
       "<Figure size 288x288 with 1 Axes>"
      ]
     },
     "metadata": {
      "needs_background": "light"
     },
     "output_type": "display_data"
    }
   ],
   "source": [
    "plt.figure(figsize=(4,4))\n",
    "plt.pcolor(A, cmap=plt.cm.bwr)"
   ]
  },
  {
   "cell_type": "code",
   "execution_count": 9,
   "id": "9ab31ab5-1baf-493f-9126-d090386034f3",
   "metadata": {},
   "outputs": [
    {
     "data": {
      "text/plain": [
       "<matplotlib.collections.PolyCollection at 0x1268035e0>"
      ]
     },
     "execution_count": 9,
     "metadata": {},
     "output_type": "execute_result"
    },
    {
     "data": {
      "image/png": "[encoded data removed]",
      "text/plain": [
       "<Figure size 288x288 with 1 Axes>"
      ]
     },
     "metadata": {
      "needs_background": "light"
     },
     "output_type": "display_data"
    }
   ],
   "source": [
    "plt.figure(figsize=(4,4))\n",
    "plt.pcolor(A, cmap=plt.cm.seismic)"
   ]
  },
  {
   "cell_type": "code",
   "execution_count": 10,
   "id": "8b719120-2455-4b04-b49e-10703d63b574",
   "metadata": {},
   "outputs": [
    {
     "data": {
      "text/plain": [
       "<matplotlib.collections.PolyCollection at 0x1268c2730>"
      ]
     },
     "execution_count": 10,
     "metadata": {},
     "output_type": "execute_result"
    },
    {
     "data": {
      "image/png": "[encoded data removed]",
      "text/plain": [
       "<Figure size 288x288 with 1 Axes>"
      ]
     },
     "metadata": {
      "needs_background": "light"
     },
     "output_type": "display_data"
    }
   ],
   "source": [
    "plt.figure(figsize=(4,4))\n",
    "plt.pcolor(A, cmap=plt.cm.hot)"
   ]
  },
  {
   "cell_type": "markdown",
   "id": "715a6af9-a97a-4ae3-990b-dc14c3c46f0b",
   "metadata": {},
   "source": [
    "### 表形式の並びに直す\n",
    "- 行・列の場合は下記のような表示の方がわかりやすい"
   ]
  },
  {
   "cell_type": "code",
   "execution_count": 14,
   "id": "5ae13005-a06b-4cbb-8680-4ff56751a574",
   "metadata": {},
   "outputs": [
    {
     "data": {
      "text/plain": [
       "<matplotlib.image.AxesImage at 0x126a82760>"
      ]
     },
     "execution_count": 14,
     "metadata": {},
     "output_type": "execute_result"
    },
    {
     "data": {
      "image/png": "[encoded data removed]",
      "text/plain": [
       "<Figure size 288x288 with 1 Axes>"
      ]
     },
     "metadata": {
      "needs_background": "light"
     },
     "output_type": "display_data"
    }
   ],
   "source": [
    "plt.figure(figsize=(4,4))\n",
    "plt.gca().matshow(A, cmap=plt.cm.hot)"
   ]
  },
  {
   "cell_type": "markdown",
   "id": "8b99540d-72ca-449b-8d2d-c52024845cf1",
   "metadata": {},
   "source": [
    "## まとめ\n",
    "- **カラーマップ**\n",
    "\n",
    "\n",
    "- <u>plt.pcolor</u>\n",
    "    - (二次元数値配列, cmap=カラーマップ)\n",
    "    - 行の順番が下から上に向かって配列される\n",
    "    \n",
    "    \n",
    "- <u>plt.gca().matshow()</u>\n",
    "    - (二次元数値配列, cmap=カラーマップ)\n",
    "    - 行の順番が上から下に向かって配列される"
   ]
  },
  {
   "cell_type": "code",
   "execution_count": null,
   "id": "7a6526ad-f9d8-4e1c-8775-2a1685478a3a",
   "metadata": {},
   "outputs": [],
   "source": []
  }
 ],
 "metadata": {
  "kernelspec": {
   "display_name": "Python 3 (ipykernel)",
   "language": "python",
   "name": "python3"
  },
  "language_info": {
   "codemirror_mode": {
    "name": "ipython",
    "version": 3
   },
   "file_extension": ".py",
   "mimetype": "text/x-python",
   "name": "python",
   "nbconvert_exporter": "python",
   "pygments_lexer": "ipython3",
   "version": "3.9.6"
  }
 },
 "nbformat": 4,
 "nbformat_minor": 5
}
