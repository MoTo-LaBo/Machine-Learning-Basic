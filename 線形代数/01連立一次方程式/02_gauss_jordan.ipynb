{
 "cells": [
  {
   "cell_type": "markdown",
   "id": "787a16aa-f96e-468a-b714-f10216aaf584",
   "metadata": {},
   "source": [
    "# Gauss-Jordan 消去法\n",
    "- ガウス・ジョルダン"
   ]
  },
  {
   "cell_type": "code",
   "execution_count": null,
   "id": "0c30734f-3899-4085-b8f1-d98ccaad913e",
   "metadata": {},
   "outputs": [],
   "source": []
  }
 ],
 "metadata": {
  "kernelspec": {
   "display_name": "Python 3",
   "language": "python",
   "name": "python3"
  },
  "language_info": {
   "codemirror_mode": {
    "name": "ipython",
    "version": 3
   },
   "file_extension": ".py",
   "mimetype": "text/x-python",
   "name": "python",
   "nbconvert_exporter": "python",
   "pygments_lexer": "ipython3",
   "version": "3.8.8"
  }
 },
 "nbformat": 4,
 "nbformat_minor": 5
}
