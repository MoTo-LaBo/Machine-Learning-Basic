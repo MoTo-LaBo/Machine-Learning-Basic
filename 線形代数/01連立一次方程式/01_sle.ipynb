{
 "cells": [
  {
   "cell_type": "markdown",
   "id": "42df200a-2b10-4c0a-89f0-245fea15a379",
   "metadata": {},
   "source": [
    "# 連立一次方程式 ( SLE )"
   ]
  },
  {
   "cell_type": "markdown",
   "id": "19350b68-13a8-4086-acc3-44fbd2b5c724",
   "metadata": {},
   "source": [
    "\n",
    "<center><b>\n",
    "    問題の定式化, Gauss-Jordan の消去法, 幾何学解釈\n",
    "</center>"
   ]
  },
  {
   "cell_type": "markdown",
   "id": "d3826fd1-42e6-4b0c-957b-84ce130df9e0",
   "metadata": {},
   "source": [
    "## 問題 - 1 ( 文章問題 )\n",
    "### 1. <u>論理的分析</u>\n",
    "- 果実の詰め合わせセットが２種類あります。\n",
    "    - *Aの詰め合わせセット*\n",
    "        - りんご　:　2個\n",
    "        - オレンジ　:　8個\n",
    "        - **合計　:　560円**\n",
    "\n",
    "    - *Bの詰め合わせセット*\n",
    "        - りんご　:　5個\n",
    "        - オレンジ　:　3個\n",
    "        - **合計　:　550円**\n",
    "\n",
    "||リンゴ(個)|オレンジ(個)|合計(￥)|\n",
    "|:---:|:---:|:---:|:---:|\n",
    "|A|2|8|560|\n",
    "|B|5|3|550|\n",
    "\n",
    "\n",
    "<center><br>\n",
    "りんご, オレンジの単価はそれぞれいくらでしょうか？\n",
    "</center>"
   ]
  },
  {
   "cell_type": "markdown",
   "id": "dd257dd8-66bc-4cb4-8848-61c466b26da1",
   "metadata": {},
   "source": [
    "### 2. <u>変数と制約条件</u>\n",
    "- **変数の導入**\n",
    "    - $x$　:　リンゴの単価（円）\n",
    "    - $y$　:　オレンジの単価（円）\n",
    "\n",
    "\n",
    "- **制約条件**\n",
    "-　<u>$x$　は整数で負にはならない</u>\n",
    "$$x　\\in　\\mathbb{Z}　,　x　\\geq　0$$\n",
    "    - *数学的に言うと　->　$x$　は　$\\mathbb{Z}$　の要素である*\n",
    "    \n",
    "        - $\\mathbb{Z}$　は　**整数**\n",
    "        - $\\in$　は　**要素**　を表す記号　\n",
    "\n",
    "\n",
    "- <u>$y$　は整数で負にはならない</u>\n",
    "$$y　\\in　\\mathbb{Z}　,　x　\\geq　0$$\n",
    "    \n",
    "    \n",
    "    - *数学的に言うと　->　$y$　は　$\\mathbb{Z}$　の要素である*\n",
    "    \n",
    "        - $\\mathbb{Z}$　は　**整数**\n",
    "        - $\\in$　は　**要素**　を表す記号　\n",
    "\n",
    "\n",
    "#### LaTeX\n",
    "- 例）\n",
    "    - *「含む」は in　$\\in$*\n",
    "    - *「含まない」は　notin　$\\notin$*\n",
    "    - *「部分集合」は　subset　$\\subset$*\n",
    "\n",
    "|集合|記号|\n",
    "|:---:|:---:|\n",
    "|自然数|N|\n",
    "|整数|Z|\n",
    "|有理数|Q|\n",
    "|実数|R|\n",
    "|複素数|C|"
   ]
  },
  {
   "cell_type": "markdown",
   "id": "780fcaa2-ad53-44f0-b02f-3cac7b99ab9a",
   "metadata": {},
   "source": [
    "<center>\n",
    "<div>\n",
    "  <img src=\"jissu1.png\">  \n",
    "</div>\n",
    "</center>"
   ]
  },
  {
   "cell_type": "markdown",
   "id": "8e2103b2-f11c-4296-bd01-c73c9b89bd62",
   "metadata": {},
   "source": [
    "### <u>3. 定式化</u>\n",
    "\n",
    "||リンゴ(個)|オレンジ(個)|合計(￥)|\n",
    "|:---:|:---:|:---:|:---:|\n",
    "|A|2|8|560|\n",
    "|B|5|3|550|\n",
    "\n",
    "- **変数**\n",
    "    - $x$　:　リンゴの単価（円）\n",
    "    - $y$　:　オレンジの単価（円）\n",
    "\n",
    "\n",
    "- **Aセット**\n",
    "$$\n",
    "2x + 8y = 560\n",
    "$$\n",
    "\n",
    "- **Bセット**\n",
    "$$\n",
    "5x + 3y = 550\n",
    "$$"
   ]
  },
  {
   "cell_type": "markdown",
   "id": "f770641c-aac5-406f-b71a-f55b8e94cee2",
   "metadata": {},
   "source": [
    "### <u>4. 連立一次方程式</u>\n",
    "\n",
    "$$\n",
    "\\begin{equation}\\label{all}\n",
    "\\left\\{ \\,\n",
    "    \\begin{aligned}\n",
    "    & 2x+8y=560　...(1) \\\\\n",
    "    & 5x+3y=550　...(2) \\\\\n",
    "    \\end{aligned}\n",
    "\\right.\n",
    "\\end{equation}\n",
    "$$\n",
    "\n",
    "$$\n",
    "x,　y　\\in　\\mathbb{Z}　,　x　\\geq　0　　,　y　\\geq　0\n",
    "$$"
   ]
  },
  {
   "cell_type": "markdown",
   "id": "7c4cfaf7-b5fe-42d9-b322-94f1f01234f0",
   "metadata": {},
   "source": [
    "### <u>5. 式変形</u>\n",
    "- **Sympy を利用して計算**"
   ]
  },
  {
   "cell_type": "code",
   "execution_count": 68,
   "id": "a1e171ab-27a2-4d43-8a3a-04f14b8633b2",
   "metadata": {},
   "outputs": [],
   "source": [
    "import sympy as sp\n",
    "sp.init_printing()"
   ]
  },
  {
   "cell_type": "code",
   "execution_count": 69,
   "id": "f7c8a08a-d575-4a87-88a7-cc6c15449ccc",
   "metadata": {},
   "outputs": [],
   "source": [
    "x, y = sp.symbols(\"x y\")"
   ]
  },
  {
   "cell_type": "code",
   "execution_count": 70,
   "id": "92f79d4c-e393-4b27-a997-2e34cc4d2661",
   "metadata": {},
   "outputs": [],
   "source": [
    "eq1 = sp.Eq(2*x + 8*y, 560)\n",
    "eq2 = sp.Eq(5*x + 3*y, 550)"
   ]
  },
  {
   "cell_type": "code",
   "execution_count": 71,
   "id": "1a2895d5-d003-4804-ae3d-88bb10f523fb",
   "metadata": {},
   "outputs": [
    {
     "data": {
      "image/png": "[encoded data removed]",
      "text/latex": [
       "$\\displaystyle 2 x + 8 y = 560$"
      ],
      "text/plain": [
       "2⋅x + 8⋅y = 560"
      ]
     },
     "execution_count": 71,
     "metadata": {},
     "output_type": "execute_result"
    }
   ],
   "source": [
    "# (1)\n",
    "eq1"
   ]
  },
  {
   "cell_type": "code",
   "execution_count": 72,
   "id": "3547b7c1-6b1b-4ec7-92eb-807207265646",
   "metadata": {},
   "outputs": [
    {
     "data": {
      "image/png": "[encoded data removed]",
      "text/latex": [
       "$\\displaystyle 5 x + 3 y = 550$"
      ],
      "text/plain": [
       "5⋅x + 3⋅y = 550"
      ]
     },
     "execution_count": 72,
     "metadata": {},
     "output_type": "execute_result"
    }
   ],
   "source": [
    "# (2)\n",
    "eq2"
   ]
  },
  {
   "cell_type": "code",
   "execution_count": 80,
   "id": "3b1b9e88-5a04-481d-8335-5e877f6811fe",
   "metadata": {},
   "outputs": [
    {
     "data": {
      "image/png": "[encoded data removed]",
      "text/latex": [
       "$\\displaystyle x + 4 y = 280$"
      ],
      "text/plain": [
       "x + 4⋅y = 280"
      ]
     },
     "execution_count": 80,
     "metadata": {},
     "output_type": "execute_result"
    }
   ],
   "source": [
    "# 5-1. (1)の式を両辺２で割る\n",
    "# eq3 = sp.Eq((2*x + 8*y)/2, 560/2)\n",
    "# 上記のような式でも良いが...　浮動小数点型で帰ってくるので(float)　分数で割る\n",
    "# (3)\n",
    "eq3 = sp.Eq((2*x + 8*y)*sp.Rational(1, 2), 560*sp.Rational(1, 2))\n",
    "eq3"
   ]
  },
  {
   "cell_type": "code",
   "execution_count": 74,
   "id": "28838935-d42d-4c33-8eaa-b6bf405a1844",
   "metadata": {},
   "outputs": [
    {
     "data": {
      "image/png": "[encoded data removed]",
      "text/latex": [
       "$\\displaystyle 5 x + 20 y = 1400$"
      ],
      "text/plain": [
       "5⋅x + 20⋅y = 1400"
      ]
     },
     "execution_count": 74,
     "metadata": {},
     "output_type": "execute_result"
    }
   ],
   "source": [
    "# （３）　を 5倍する\n",
    "eq4 = sp.Eq(x*5 + 4*y*5, 280*5)\n",
    "eq4"
   ]
  },
  {
   "cell_type": "code",
   "execution_count": 75,
   "id": "b89ce80f-58b8-4fb7-a66c-ebf8537dddc4",
   "metadata": {},
   "outputs": [
    {
     "data": {
      "image/png": "[encoded data removed]",
      "text/latex": [
       "$\\displaystyle - 17 y = -850$"
      ],
      "text/plain": [
       "-17⋅y = -850"
      ]
     },
     "execution_count": 75,
     "metadata": {},
     "output_type": "execute_result"
    }
   ],
   "source": [
    "eq5 = sp.Eq((5*x + 3*y) - (5*x + 20*y), 550 - 1400)\n",
    "\n",
    "eq5"
   ]
  },
  {
   "cell_type": "code",
   "execution_count": 76,
   "id": "6c5027ff-0189-4be2-9b60-b995d01e6cc6",
   "metadata": {},
   "outputs": [
    {
     "data": {
      "image/png": "[encoded data removed]",
      "text/latex": [
       "$\\displaystyle y = 50.0$"
      ],
      "text/plain": [
       "y = 50.0"
      ]
     },
     "execution_count": 76,
     "metadata": {},
     "output_type": "execute_result"
    }
   ],
   "source": [
    "eq6 = sp.Eq((-17*y/-17), -850/-17)\n",
    "eq6"
   ]
  },
  {
   "cell_type": "code",
   "execution_count": 77,
   "id": "498e60ac-6d01-430b-8f8e-3561d7c816d7",
   "metadata": {},
   "outputs": [
    {
     "data": {
      "image/png": "[encoded data removed]",
      "text/latex": [
       "$\\displaystyle x + 200 = 280$"
      ],
      "text/plain": [
       "x + 200 = 280"
      ]
     },
     "execution_count": 77,
     "metadata": {},
     "output_type": "execute_result"
    }
   ],
   "source": [
    "# (3) に　y = 50 を代入する\n",
    "eq7 = sp.Eq(x +(4*50), 280)\n",
    "eq7"
   ]
  },
  {
   "cell_type": "code",
   "execution_count": 79,
   "id": "457f4aa2-432c-48be-8299-0489fdd2595a",
   "metadata": {},
   "outputs": [
    {
     "data": {
      "image/png": "[encoded data removed]",
      "text/latex": [
       "$\\displaystyle x = 80$"
      ],
      "text/plain": [
       "x = 80"
      ]
     },
     "execution_count": 79,
     "metadata": {},
     "output_type": "execute_result"
    }
   ],
   "source": [
    "eq8 = sp.Eq(x , 280 - 200)\n",
    "eq8"
   ]
  },
  {
   "cell_type": "code",
   "execution_count": 53,
   "id": "e0afa342-82e4-44e8-9a16-591e8930205c",
   "metadata": {},
   "outputs": [
    {
     "data": {
      "image/png": "[encoded data removed]",
      "text/latex": [
       "$\\displaystyle \\left\\{ x : 80, \\  y : 50\\right\\}$"
      ],
      "text/plain": [
       "{x: 80, y: 50}"
      ]
     },
     "execution_count": 53,
     "metadata": {},
     "output_type": "execute_result"
    }
   ],
   "source": [
    "sp.solve([eq1, eq2])"
   ]
  },
  {
   "cell_type": "markdown",
   "id": "9914309f-1706-47f7-b0c2-ec9cf18c5a53",
   "metadata": {},
   "source": [
    "- **リンゴ単価　:　80円**\n",
    "\n",
    "- **オレンジ単価　:　50円**"
   ]
  },
  {
   "cell_type": "markdown",
   "id": "b188872f-823e-4eeb-8d50-94252d86ad28",
   "metadata": {},
   "source": [
    "### 連立一次方程式の解法\n",
    "1. **式全体に適切な定数を掛ける**\n",
    "1. **ある式に別の式の定数倍を足す、或いは引く**\n",
    "1. **すでに求まっている変数の値を代入する**\n",
    "\n",
    "<center>\n",
    "  この方法を<b>掃き出し法</b>という<br>\n",
    "  <u>これが古典的な連立方程式</u>\n",
    "</center>\n"
   ]
  },
  {
   "cell_type": "markdown",
   "id": "5e7f74e3-3295-4b36-9a44-5bc2a9e023ba",
   "metadata": {},
   "source": [
    "### <u>6. 式変形の計算過程</u>\n",
    "$$\n",
    "\\begin{equation}\\label{all}\n",
    "\\left\\{ \\,\n",
    "    \\begin{aligned}\n",
    "    & 2x+8y=560　...(1) \\\\\n",
    "    & 5x+3y=550　...(2) \\\\\n",
    "    \\end{aligned}\n",
    "\\right.\n",
    "\\end{equation}\n",
    "$$\n",
    "\n",
    "$$\n",
    "x,　y　\\in　\\mathbb{Z}　,　x　\\geq　0　　,　y　\\geq　0\n",
    "$$\n",
    "\n",
    "- **1. (1)を 2 で割る**\n",
    "$$\n",
    "\\frac{2x+8y=560}{2}\n",
    "$$\n",
    "\n",
    "$$\n",
    "x+4y=280　...(3)\n",
    "$$\n",
    "\n",
    "\n",
    "- **2. (3) を 5 倍する**\n",
    "$$\n",
    "5(x+4y)=5(280)\n",
    "$$\n",
    "$$\n",
    "5x+20y=1400　...(4)\n",
    "$$\n",
    "\n",
    "\n",
    "- **3. (4) と (2) を引き算する**\n",
    "$$\n",
    "\\begin{eqnarray}\n",
    "    & 5x+3y=550 &　...(2) \\\\\n",
    "    -) & \\underline{5x+20y=1400} &　...(4) \\\\\n",
    "\\end{eqnarray}\n",
    "$$\n",
    "$$\n",
    "　-17y = -850 \\\\\n",
    "　y =　50\n",
    "$$\n",
    "\n",
    "\n",
    "- **4. y = 50 を (3)に代入**\n",
    "$$\n",
    "x+(4*50)=280　...(3) \\\\\n",
    "x+200=280 \\\\\n",
    "x = 280-200 \\\\\n",
    "x　=　80\n",
    "$$\n",
    "\n",
    "\n",
    "- **5. 結果**\n",
    "\n",
    "    - $x$　:　リンゴの単価　＝　**80（円）**\n",
    "    - $y$　:　オレンジの単価　＝　**50（円）**"
   ]
  },
  {
   "cell_type": "markdown",
   "id": "f8f944bf-d5af-4f33-91ea-6577dc13c753",
   "metadata": {},
   "source": [
    "# 演習問題 - 2　（文章問題）"
   ]
  },
  {
   "cell_type": "markdown",
   "id": "2ad288d0-86e7-4031-a42f-003b57694c39",
   "metadata": {},
   "source": [
    "### <u>1. 論理的分析</u>\n",
    "- 3種類のコーヒー豆 A, B, C を購入\n",
    "\n",
    "    - 100g 当たりの単価がそれぞれ\n",
    "        - 800円,　400円,　100円\n",
    "        - 合計金額　=　2,000円\n",
    "    \n",
    "    - A, B, C 合わせて 700g購入\n",
    "        - A, B 合計　=　Cより 100g 少ない\n",
    "\n",
    "<center><br>\n",
    "<b>A, B, C それぞれの何g購入したか求めよ</b>\n",
    "</center>"
   ]
  },
  {
   "cell_type": "markdown",
   "id": "808d131b-e095-41d4-84f0-3c66633334ae",
   "metadata": {},
   "source": [
    "### 2. <u>変数と制約条件</u>\n",
    "- **変数の導入**\n",
    "    - $x$　:　A豆 （g）\n",
    "    - $y$　:　B豆 （g）\n",
    "    - $z$　:　C豆 （g）\n",
    "\n",
    "\n",
    "- **制約条件**\n",
    "\n",
    "    <u>$x,　y,　z$　は実数で負にはならない</u>\n",
    "\n",
    "\n",
    "$$x,　y,　z　\\in　\\mathbb{R}　,　x,　y,　z　\\geq　0$$\n",
    "\n",
    "- *数学的に言うと　->　$x,　y,　z$　は　$\\mathbb{R}$　の要素である*\n",
    "\n",
    "    - $\\mathbb{R}$　は　**実数**\n",
    "    -　$\\in$　は　**要素**　を表す記号　"
   ]
  },
  {
   "cell_type": "markdown",
   "id": "fd7efc86-bdd9-4158-b740-6ad291fecbda",
   "metadata": {},
   "source": [
    "### <u>3. 定式化　->　連立一次方程式　->　式変形</u>\n",
    "- **1. 変数に変形**\n",
    "\n",
    "$$\n",
    "x+y+z=700　...　(1)\n",
    "$$\n",
    "\n",
    "- **2. A, B の合計量　＝　C の量より 100g 少ない**\n",
    "\n",
    "$$\n",
    "x+y=z-100　...　(2)\n",
    "$$\n",
    "\n",
    "- **3. (1) の式に (2) を代入**\n",
    "\n",
    "$$\n",
    "z-100+z=700 \\\\\n",
    "2z=700+100 \\\\\n",
    "z　=　400　...　(3)\n",
    "$$\n",
    "\n",
    "<center>\n",
    "  <b>C豆のg数算出完了　:　C　=　400g  \n",
    "</center>"
   ]
  },
  {
   "cell_type": "markdown",
   "id": "a599ed48-d14a-41ed-a087-d338887ca640",
   "metadata": {
    "jupyter": {
     "source_hidden": true
    },
    "tags": []
   },
   "source": [
    "- **4. (3) を (1) に代入**\n",
    "\n",
    "$$\n",
    "x+y+400=700 \\\\\n",
    "x+y=300　...　(4)\n",
    "$$\n",
    "\n",
    "- **5. (3) を元に金額算出式 (5) 作成**\n",
    "\n",
    "$$\n",
    "800x+400y+100z=2000 \\\\\n",
    "8x+4y+(1*400)=2000 \\\\\n",
    "800x+400y=1600　...　(5)\n",
    "$$\n",
    "\n",
    "- **6. 連立一次方程式を作成**\n",
    "\n",
    "$$\n",
    "\\begin{equation}\\label{all}\n",
    "\\left\\{ \\,\n",
    "    \\begin{aligned}\n",
    "    & x+y=300 &　...(4) \\\\\n",
    "    & 800x+400y=1600 &　...(5) \\\\\n",
    "    \\end{aligned}\n",
    "\\right.\n",
    "\\end{equation}\n",
    "$$\n",
    "\n",
    "- **7. (5)を 4 で割る**\n",
    "\n",
    "$$\n",
    "\\frac{800x+400y=1600}{400} \\\\\n",
    "200x+100y=400　...　(6)\n",
    "$$\n",
    "\n",
    "- **8. (4) と (6) を引き算する ※ 実際は x, y = 100g　当りのscaleなので**\n",
    "$$\n",
    "\\begin{cases}\n",
    "    & 　100x+100y=300 &　...(4) \\\\\n",
    "    -) & \\underline{200x+100y=400} &　...(6) \\\\\n",
    "\\end{cases}\n",
    "$$\n",
    "$$\n",
    "　x = 100　...　(7)\n",
    "$$\n",
    "\n",
    "<center>\n",
    "    <b>A豆のg数算出完了　:　A　＝　100g</b>\n",
    "</center>\n",
    "\n",
    "- **9. (7) を (4) に代入**\n",
    "\n",
    "$$\n",
    "100+y=300 \\\\\n",
    "y　=　200\n",
    "$$\n",
    "\n",
    "<center>\n",
    "    <b>B豆のg数算出完了　:　B　＝　200g</b>\n",
    "</center>"
   ]
  },
  {
   "cell_type": "markdown",
   "id": "8bd501a4-b24e-40cb-b92e-f7bf5ec969ab",
   "metadata": {},
   "source": [
    "### Sympy\n",
    "- Sympy を使用して式を検証\n",
    "    - **scale を合わせる為に　1/100 をしている**"
   ]
  },
  {
   "cell_type": "code",
   "execution_count": 86,
   "id": "293c9edb-20c1-4193-a907-ac74fbf5b6e7",
   "metadata": {},
   "outputs": [],
   "source": [
    "eq1 = sp.Eq(x+y,3)\n",
    "eq2 = sp.Eq(8*x + 4*y, 16)"
   ]
  },
  {
   "cell_type": "code",
   "execution_count": 87,
   "id": "5a6e456f-ac44-4898-84a6-68791f09072b",
   "metadata": {},
   "outputs": [
    {
     "data": {
      "image/png": "[encoded data removed]",
      "text/latex": [
       "$\\displaystyle x + y = 3$"
      ],
      "text/plain": [
       "x + y = 3"
      ]
     },
     "execution_count": 87,
     "metadata": {},
     "output_type": "execute_result"
    }
   ],
   "source": [
    "eq1"
   ]
  },
  {
   "cell_type": "code",
   "execution_count": 88,
   "id": "a8e2a3b8-7352-431f-be77-ee233839679f",
   "metadata": {},
   "outputs": [
    {
     "data": {
      "image/png": "[encoded data removed]",
      "text/latex": [
       "$\\displaystyle 8 x + 4 y = 16$"
      ],
      "text/plain": [
       "8⋅x + 4⋅y = 16"
      ]
     },
     "execution_count": 88,
     "metadata": {},
     "output_type": "execute_result"
    }
   ],
   "source": [
    "eq2"
   ]
  },
  {
   "cell_type": "code",
   "execution_count": 89,
   "id": "409d020a-9135-4cc4-9a28-2c8085a8b652",
   "metadata": {},
   "outputs": [
    {
     "data": {
      "image/png": "[encoded data removed]",
      "text/latex": [
       "$\\displaystyle \\left\\{ x : 1, \\  y : 2\\right\\}$"
      ],
      "text/plain": [
       "{x: 1, y: 2}"
      ]
     },
     "execution_count": 89,
     "metadata": {},
     "output_type": "execute_result"
    }
   ],
   "source": [
    "sp.solve([eq1, eq2])"
   ]
  },
  {
   "cell_type": "markdown",
   "id": "03ebbc42-b661-47dc-a714-c340da4b849f",
   "metadata": {},
   "source": [
    "- **scale 変換**\n",
    "$$\n",
    "{x　:　100,　y　:　200}\n",
    "$$\n",
    "\n",
    "- <u>式は正しいと証明できる</u>\n",
    "\n",
    "<center>\n",
    "  <b>{ A豆　:　100g,　B豆　:　200g }</b>  \n",
    "</center>"
   ]
  },
  {
   "cell_type": "markdown",
   "id": "c9b15f6b-8b9a-4301-bd09-dadba330ca30",
   "metadata": {},
   "source": [
    "## 演習回答"
   ]
  },
  {
   "cell_type": "markdown",
   "id": "c6e4e9ee-4014-4ec7-8261-633f855cceca",
   "metadata": {},
   "source": [
    "### <u>論理分析</u>\n",
    "|種類|A|B|C|\n",
    "|:---:|:---:|:---:|:---:|\n",
    "|100g/円|800|400|100|\n",
    "|1g/円|8|4|1|\n",
    "|購入量/g|x|y|z|\n",
    "|金額|8x|4y|z|"
   ]
  },
  {
   "cell_type": "markdown",
   "id": "adb922fd-66e8-490a-8ec1-491348338626",
   "metadata": {},
   "source": [
    "### <u>定式化</u>\n",
    "\n",
    "- **A, B, C 合わせて　700g購入**\n",
    "$$\n",
    "x+y+z=700\n",
    "$$\n",
    "\n",
    "- **合計金額は 2,000円**\n",
    "$$\n",
    "8x+4y+z=2000\n",
    "$$\n",
    "\n",
    "- **A, B 合計領は C の量より 100g少ない**\n",
    "$$\n",
    "x+y=z-100\n",
    "$$"
   ]
  },
  {
   "cell_type": "markdown",
   "id": "6e9a93ce-35f4-4564-aa97-9ba8255b5d5a",
   "metadata": {},
   "source": [
    "<u>連立一次方程式</u>\n",
    "\n",
    "$$\n",
    "\\begin{equation}\n",
    "\\left\\{ \\,\n",
    "    \\begin{aligned}\n",
    "    & x+y+z=700 &　...(1) \\\\\n",
    "    & 8x+4y+z=2000 &　...(2) \\\\\n",
    "    & x+y-z=-100 &　...(3) \\\\\n",
    "    \\end{aligned}\n",
    "\\right.\n",
    "\\end{equation}\n",
    "$$\n",
    "\n",
    "- **制約条件**\n",
    "\n",
    "    <u>$x,　y,　z$　は実数で負にはならない</u>\n",
    "\n",
    "\n",
    "$$x,　y,　z　\\in　\\mathbb{R}　,　x,　y,　z　\\geq　0$$\n"
   ]
  },
  {
   "cell_type": "markdown",
   "id": "bd0f5591-3dfc-4c22-957f-cb3fede26bf4",
   "metadata": {},
   "source": [
    "### <u>式変形1</u>\n",
    "\n",
    "- **(2)から(1)の８倍を引く**\n",
    "\n",
    "$$\n",
    "\\begin{eqnarray}\n",
    "    & 8x+4y+z=2000 &　...(2) \\\\\n",
    "    -) & \\underline{8x+8y+8z=5600} &　...(1) \\\\\n",
    "\\end{eqnarray}\n",
    "$$\n",
    "\n",
    "$$\n",
    "-4y-7z=-3600　...　(4)\n",
    "$$\n",
    "\n",
    "- **(3)から(1)を引く**\n",
    "\n",
    "$$\n",
    "-2z=-800 \\\\\n",
    "z　=　400　...　(5) \\\\\n",
    "C　=　400\n",
    "g\n",
    "$$"
   ]
  },
  {
   "cell_type": "markdown",
   "id": "e265cf77-2bfd-4566-b86d-c9ea377de5c5",
   "metadata": {},
   "source": [
    "### <u>式変形2</u>\n",
    "\n",
    "- **(4)に z = 400を代入**\n",
    "\n",
    "$$\n",
    "-4y-7*400=-3600 \\\\\n",
    "-4y=-800 \\\\\n",
    "y　=　200　...　(6) \\\\\n",
    "B　=　200g\n",
    "$$\n",
    "\n",
    "- **(1)の式に(5)(6)を代入**\n",
    "\n",
    "$$\n",
    "x+200+400=700 \\\\\n",
    "x=100 \\\\\n",
    "A　=　100g\n",
    "$$"
   ]
  },
  {
   "cell_type": "markdown",
   "id": "59fa2884-46fb-4b4d-b2d7-32c5bde0b9f7",
   "metadata": {},
   "source": [
    "### 解答\n",
    "- **コーヒーA購入量　:　100g**\n",
    "\n",
    "- **コーヒーB購入量　:　200g**\n",
    "\n",
    "- **コーヒーC購入量　:　400g**"
   ]
  },
  {
   "cell_type": "code",
   "execution_count": null,
   "id": "fa63f674-4819-41fa-b540-b818b153e34c",
   "metadata": {},
   "outputs": [],
   "source": []
  }
 ],
 "metadata": {
  "kernelspec": {
   "display_name": "Python 3",
   "language": "python",
   "name": "python3"
  },
  "language_info": {
   "codemirror_mode": {
    "name": "ipython",
    "version": 3
   },
   "file_extension": ".py",
   "mimetype": "text/x-python",
   "name": "python",
   "nbconvert_exporter": "python",
   "pygments_lexer": "ipython3",
   "version": "3.8.8"
  }
 },
 "nbformat": 4,
 "nbformat_minor": 5
}
