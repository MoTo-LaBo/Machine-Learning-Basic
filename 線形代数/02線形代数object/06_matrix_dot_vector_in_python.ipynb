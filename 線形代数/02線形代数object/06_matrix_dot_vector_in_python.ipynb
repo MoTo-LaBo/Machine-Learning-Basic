{
 "cells": [
  {
   "cell_type": "markdown",
   "metadata": {},
   "source": [
    "# Pythonでの行列とベクトルの積\n",
    "\n",
    "ここまで，プログラミング言語における数学表現は必ずしも厳密に数学の規則に従っているとは言えない例をいくつか見てきましたが，行列とベクトルの積についてもPythonでの計算には厳密数学とは異なる点があります．\n",
    "まず，$m$行$n$列の行列と$n$次ベクトルとの積の定義について再度確認します．\n",
    "\n",
    "行列\n",
    "$ {\\bf A} =\n",
    "\\left(\\begin{array}{cccc}\n",
    "a_{11} & a_{12} & \\cdots & a_{1n} \\\\ \n",
    "a_{21} & a_{22} & \\cdots & a_{2n} \\\\ \n",
    "\\vdots & \\vdots & \\ddots & \\vdots \\\\\n",
    "a_{m1} & a_{m2} & \\cdots & a_{mn} \\\\\n",
    "\\end{array} \\right) $\n",
    "と列ベクトル${\\bf v}=\\left(\\begin{array}{c} v_{1} \\\\ v_{2} \\\\ \\vdots \\\\ v_{n} \\\\ \\end{array} \\right)$との積${\\bf Av}$は下記のようになります．\n",
    "\n",
    "${\\bf A}{\\bf v}=\n",
    "\\left(\\begin{array}{cccc}\n",
    "a_{11} & a_{12} & \\cdots & a_{1n} \\\\ \n",
    "a_{21} & a_{22} & \\cdots & a_{2n} \\\\ \n",
    "\\vdots & \\vdots & \\ddots & \\vdots \\\\\n",
    "a_{m1} & a_{m2} & \\cdots & a_{mn} \\\\\n",
    "\\end{array} \\right)\n",
    "\\left(\\begin{array}{c}\n",
    "v_{1} \\\\ \n",
    "v_{2} \\\\ \n",
    "\\vdots \\\\\n",
    "v_{n} \\\\\n",
    "\\end{array} \\right) =\n",
    "\\left(\\begin{array}{c}\n",
    "\\sum_{k=1}^{n} a_{1k}v_{k} \\\\ \n",
    "\\sum_{k=1}^{n} a_{2k}v_{k} \\\\ \n",
    "\\vdots  \\\\\n",
    "\\sum_{k=1}^{n} a_{mk}v_{k} \\\\\n",
    "\\end{array} \\right) $\n",
    "\n",
    "この定義は$n$次ベクトルを$n$行$1$列の行列と見なすことで行列の積の理論の下に統一されています．"
   ]
  },
  {
   "cell_type": "markdown",
   "metadata": {},
   "source": [
    "具体的な例を見て見ましょう．\n",
    "次の行列${\\bf A}$とベクトル${\\bf v}$について積をとってみましょう．\n",
    "\n",
    "${\\bf A}=\n",
    "\\left(\\begin{array}{ccc}\n",
    "1 & 2 & 3 \\\\ \n",
    "4 & 5 & 6 \\\\ \n",
    "7 & 8 & 9 \\\\\n",
    "\\end{array} \\right)$\n",
    ",\n",
    "${\\bf v}=\n",
    "\\left(\\begin{array}{c}\n",
    "1 \\\\ \n",
    "2 \\\\ \n",
    "3 \\\\\n",
    "\\end{array} \\right)$\n",
    "\n",
    "行列の積の定義に沿って計算します．"
   ]
  },
  {
   "cell_type": "markdown",
   "metadata": {},
   "source": [
    "${\\bf A}{\\bf v}=\n",
    "\\left(\\begin{array}{ccc}\n",
    "1 & 2 & 3 \\\\ \n",
    "4 & 5 & 6 \\\\ \n",
    "7 & 8 & 9 \\\\\n",
    "\\end{array} \\right)\n",
    "\\left(\\begin{array}{c}\n",
    "1 \\\\ \n",
    "2 \\\\ \n",
    "3 \\\\\n",
    "\\end{array} \\right)\n",
    "$\n",
    "$=\n",
    "\\left(\\begin{array}{c}\n",
    "1\\times1+2\\times2+3\\times3 \\\\ \n",
    "4\\times1+5\\times2+6\\times3 \\\\ \n",
    "7\\times1+8\\times2+9\\times3 \\\\ \n",
    "\\end{array} \\right)\n",
    "$\n",
    "$=\n",
    "\\left(\\begin{array}{c}\n",
    "1+4+9 \\\\ \n",
    "4+10+18 \\\\ \n",
    "7+16+27 \\\\\n",
    "\\end{array} \\right)\n",
    "$\n",
    "$=\n",
    "\\left(\\begin{array}{c}\n",
    "14 \\\\ \n",
    "32 \\\\ \n",
    "50 \\\\\n",
    "\\end{array} \\right)\n",
    "$"
   ]
  },
  {
   "cell_type": "markdown",
   "metadata": {},
   "source": [
    "この計算をPythonで実行するためにNumPyをインポートします．\n",
    "\n",
    "> <font color=green>import</font> numpy <font color=green>as</font> np"
   ]
  },
  {
   "cell_type": "code",
   "execution_count": 1,
   "metadata": {},
   "outputs": [],
   "source": [
    "import numpy as np"
   ]
  },
  {
   "cell_type": "markdown",
   "metadata": {},
   "source": [
    "数学的に正しい定義にそって，${\\bf A}$と${\\bf v}$を与えて計算します．\n",
    "\n",
    "> A = np.array([[1,2,3],[4,5,6],[7,8,9]]) <br>\n",
    "> v2 = np.array([[1],[2],[3]]) <br>\n",
    "> A.dot(v2)\n",
    "\n",
    "ここでベクトル変数の名前をあえてv2とします．"
   ]
  },
  {
   "cell_type": "code",
   "execution_count": 2,
   "metadata": {},
   "outputs": [
    {
     "data": {
      "text/plain": [
       "array([[14],\n",
       "       [32],\n",
       "       [50]])"
      ]
     },
     "execution_count": 2,
     "metadata": {},
     "output_type": "execute_result"
    }
   ],
   "source": [
    "A = np.array([[1, 2, 3], [4, 5, 6], [7, 8, 9]])\n",
    "v2 = np.array([[1], [2], [3]])\n",
    "A.dot(v2)"
   ]
  },
  {
   "cell_type": "markdown",
   "metadata": {},
   "source": [
    "この例で注目することは列ベクトル${\\bf v}$の定義が二重配列で3行1列の行列として定義されていることです．\n",
    "これは数学的定義に全く忠実なプログラムになっています．\n",
    "Jupyter notebookのCodeセルにて${\\bf v}$を表示させてみます．"
   ]
  },
  {
   "cell_type": "code",
   "execution_count": 3,
   "metadata": {},
   "outputs": [
    {
     "data": {
      "text/plain": [
       "array([[1],\n",
       "       [2],\n",
       "       [3]])"
      ]
     },
     "execution_count": 3,
     "metadata": {},
     "output_type": "execute_result"
    }
   ],
   "source": [
    "v2"
   ]
  },
  {
   "cell_type": "markdown",
   "metadata": {},
   "source": [
    "このプログラムは全く正しいです．しかしPythonでのベクトルの取扱い方法は単純配列としていました．\n",
    "\n",
    "> v1 = np.array([1,2,3]) <br>\n",
    "> v1"
   ]
  },
  {
   "cell_type": "code",
   "execution_count": 4,
   "metadata": {},
   "outputs": [
    {
     "data": {
      "text/plain": [
       "array([1, 2, 3])"
      ]
     },
     "execution_count": 4,
     "metadata": {},
     "output_type": "execute_result"
    }
   ],
   "source": [
    "v1 = np.array([1, 2, 3])\n",
    "v1"
   ]
  },
  {
   "cell_type": "markdown",
   "metadata": {},
   "source": [
    "それでは，このように定義して行列とベクトルの積を計算しましょう．\n",
    "\n",
    "> A.dot(v1)"
   ]
  },
  {
   "cell_type": "code",
   "execution_count": 5,
   "metadata": {},
   "outputs": [
    {
     "data": {
      "text/plain": [
       "array([14, 32, 50])"
      ]
     },
     "execution_count": 5,
     "metadata": {},
     "output_type": "execute_result"
    }
   ],
   "source": [
    "A.dot(v1)"
   ]
  },
  {
   "cell_type": "markdown",
   "metadata": {},
   "source": [
    "数学的定義と厳密には合っていませんが，Pythonの中でこのように使われています．\n",
    "数学の理論を理解する上では厳密性が重要になりますが，プログラミングにおいては柔軟性を受け入れることをお勧めします．\n",
    "*****"
   ]
  }
 ],
 "metadata": {
  "kernelspec": {
   "display_name": "Python 3",
   "language": "python",
   "name": "python3"
  },
  "language_info": {
   "codemirror_mode": {
    "name": "ipython",
    "version": 3
   },
   "file_extension": ".py",
   "mimetype": "text/x-python",
   "name": "python",
   "nbconvert_exporter": "python",
   "pygments_lexer": "ipython3",
   "version": "3.8.8"
  }
 },
 "nbformat": 4,
 "nbformat_minor": 4
}
