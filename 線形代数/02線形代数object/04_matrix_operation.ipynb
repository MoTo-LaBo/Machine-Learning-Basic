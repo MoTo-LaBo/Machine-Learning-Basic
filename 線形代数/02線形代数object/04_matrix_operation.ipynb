{
 "cells": [
  {
   "cell_type": "markdown",
   "metadata": {},
   "source": [
    "# 行列の演算\n",
    "\n",
    "ここでは行列について成立する演算について説明します．\n",
    "\n",
    "- 行列のスカラー倍\n",
    "- 行列の足し算\n",
    "- 行列の引き算\n",
    "- 行列の積\n",
    "- 行列とベクトルの積\n",
    "\n",
    "これらの演算について順を追って学習します．"
   ]
  },
  {
   "cell_type": "markdown",
   "metadata": {},
   "source": [
    "### 行列のスカラー倍\n",
    "\n",
    "行列とスカラーとの間で掛け算を行うことができます．\n",
    "これを行列のスカラー倍といい，行列の各成分に対してスカラーの値を掛けます．\n",
    "今，$(m,n)$型行列${\\bf A}=(a_{ij})$に対して，左からスカラー$k$を掛けてみます．\n",
    "\n",
    "$k{\\bf A}=\n",
    "k\\left(\\begin{array}{cccc}\n",
    "a_{11} & a_{12} & \\cdots & a_{1n} \\\\ \n",
    "a_{21} & a_{22} & \\cdots & a_{2n} \\\\ \n",
    "\\vdots & \\vdots & \\ddots & \\vdots \\\\\n",
    "a_{m1} & a_{m2} & \\cdots & a_{mn} \\\\\n",
    "\\end{array} \\right) =\n",
    "\\left(\\begin{array}{cccc}\n",
    "ka_{11} & ka_{12} & \\cdots & ka_{1n} \\\\ \n",
    "ka_{21} & ka_{22} & \\cdots & ka_{2n} \\\\ \n",
    "\\vdots & \\vdots & \\ddots & \\vdots \\\\\n",
    "ka_{m1} & ka_{m2} & \\cdots & ka_{mn} \\\\\n",
    "\\end{array} \\right)\n",
    "$\n",
    "\n",
    "このようにスカラーと行列の掛け算は，$k{\\bf A}$というように，それらを並べて記載します．\n",
    "行列の各成分内の掛け算はスカラーどうしの掛け算なので左右を交換できます．これによりスカラーと行列との掛け算も左右を入替えても同じ結果となります．すなわち，$k{\\bf A} = {\\bf A}k$が成立します．"
   ]
  },
  {
   "cell_type": "markdown",
   "metadata": {},
   "source": [
    "### 行列の加減算\n",
    "\n",
    "行列どうしの加減算を行うには，行列の型が等しいことが前提となります．\n",
    "行列どうしの加減算は，各成分ごとの加減算で定義します．そのために行列の型が異なると演算の相手となる成分が見つからないので計算が出来ません．\n",
    "それでは，${\\bf A}=(a_{ij})_{mn}$と${\\bf B}=(b_{ij})_{mn}$との足し算は下記のようになります．\n",
    "\n",
    "${\\bf A}+{\\bf B}=\n",
    "\\left(\\begin{array}{cccc}\n",
    "a_{11} & a_{12} & \\cdots & a_{1n} \\\\ \n",
    "a_{21} & a_{22} & \\cdots & a_{2n} \\\\ \n",
    "\\vdots & \\vdots & \\ddots & \\vdots \\\\\n",
    "a_{m1} & a_{m2} & \\cdots & a_{mn} \\\\\n",
    "\\end{array} \\right) +\n",
    "\\left(\\begin{array}{cccc}\n",
    "b_{11} & b_{12} & \\cdots & b_{1n} \\\\ \n",
    "b_{21} & b_{22} & \\cdots & b_{2n} \\\\ \n",
    "\\vdots & \\vdots & \\ddots & \\vdots \\\\\n",
    "b_{m1} & b_{m2} & \\cdots & b_{mn} \\\\\n",
    "\\end{array} \\right) \n",
    "$\n",
    "$=\n",
    "\\left(\\begin{array}{cccc}\n",
    "a_{11}+b_{11} & a_{12}+b_{12} & \\cdots & a_{1n}+b_{1n} \\\\ \n",
    "a_{21}+b_{21} & a_{22}+b_{22} & \\cdots & a_{2n}+b_{2n} \\\\ \n",
    "\\vdots & \\vdots & \\ddots & \\vdots \\\\\n",
    "a_{m1}+b_{m1} & a_{m2}+b_{m2} & \\cdots & a_{mn}+b_{mn} \\\\\n",
    "\\end{array} \\right) $\n",
    "\n",
    "スカラーの交換則により行列どうしの足し算は可換${\\bf A}+{\\bf B} = {\\bf B}+{\\bf A}$となります．\n"
   ]
  },
  {
   "cell_type": "markdown",
   "metadata": {},
   "source": [
    "同様に引き算についても各成分ごとの引き算として定義されます．\n",
    "\n",
    "${\\bf A}-{\\bf B}=\n",
    "\\left(\\begin{array}{cccc}\n",
    "a_{11} & a_{12} & \\cdots & a_{1n} \\\\ \n",
    "a_{21} & a_{22} & \\cdots & a_{2n} \\\\ \n",
    "\\vdots & \\vdots & \\ddots & \\vdots \\\\\n",
    "a_{m1} & a_{m2} & \\cdots & a_{mn} \\\\\n",
    "\\end{array} \\right) -\n",
    "\\left(\\begin{array}{cccc}\n",
    "b_{11} & b_{12} & \\cdots & b_{1n} \\\\ \n",
    "b_{21} & b_{22} & \\cdots & b_{2n} \\\\ \n",
    "\\vdots & \\vdots & \\ddots & \\vdots \\\\\n",
    "b_{m1} & b_{m2} & \\cdots & b_{mn} \\\\\n",
    "\\end{array} \\right) \n",
    "$\n",
    "$=\n",
    "\\left(\\begin{array}{cccc}\n",
    "a_{11}-b_{11} & a_{12}-b_{12} & \\cdots & a_{1n}-b_{1n} \\\\ \n",
    "a_{21}-b_{21} & a_{22}-b_{22} & \\cdots & a_{2n}-b_{2n} \\\\ \n",
    "\\vdots & \\vdots & \\ddots & \\vdots \\\\\n",
    "a_{m1}-b_{m1} & a_{m2}-b_{m2} & \\cdots & a_{mn}-b_{mn} \\\\\n",
    "\\end{array} \\right) $\n",
    "\n",
    "二つの行列のサイズが異なる場合に加減算は定義されないことに注意してください．"
   ]
  },
  {
   "cell_type": "markdown",
   "metadata": {},
   "source": [
    "### 行列の積\n",
    "\n",
    "行列の演算において行列の積は最も特徴的で，行列の数学的構造を理解する上で最も重要な演算です．\n",
    "行列の積が行えるための条件があります．それは，左側の行列の列数と右側の行列の行数が一致することです．\n",
    "二つの行列を${\\bf A}=(a_{ij})_{lm}$と${\\bf B}=(b_{ij})_{mn}$として行列の積を次のように定義します．\n",
    "\n",
    "${\\bf A}{\\bf B}=\n",
    "\\left(\\begin{array}{cccc}\n",
    "a_{11} & a_{12} & \\cdots & a_{1m} \\\\ \n",
    "a_{21} & a_{22} & \\cdots & a_{2m} \\\\ \n",
    "\\vdots & \\vdots & \\ddots & \\vdots \\\\\n",
    "a_{l1} & a_{l2} & \\cdots & a_{lm} \\\\\n",
    "\\end{array} \\right)\n",
    "\\left(\\begin{array}{cccc}\n",
    "b_{11} & b_{12} & \\cdots & b_{1n} \\\\ \n",
    "b_{21} & b_{22} & \\cdots & b_{2n} \\\\ \n",
    "\\vdots & \\vdots & \\ddots & \\vdots \\\\\n",
    "b_{m1} & b_{m2} & \\cdots & b_{mn} \\\\\n",
    "\\end{array} \\right) \n",
    "$\n",
    "$=\n",
    "\\left(\\begin{array}{cccc}\n",
    "\\sum_{k=1}^{m} a_{1k}b_{k1} & \\sum_{k=1}^{m} a_{1k}b_{k2} & \\cdots & \\sum_{k=1}^{m} a_{1k}b_{kn} \\\\ \n",
    "\\sum_{k=1}^{m} a_{2k}b_{k1} & \\sum_{k=1}^{m} a_{2k}b_{k2} & \\cdots & \\sum_{k=1}^{m} a_{2k}b_{kn} \\\\ \n",
    "\\vdots & \\vdots & \\ddots & \\vdots \\\\\n",
    "\\sum_{k=1}^{m} a_{lk}b_{k1} & \\sum_{k=1}^{m} a_{lk}b_{k2} & \\cdots & \\sum_{k=1}^{m} a_{lk}b_{kn} \\\\\n",
    "\\end{array} \\right) $\n",
    "\n",
    "覚え方としては，<font color=blue>横×縦</font>と理解してください．\n",
    "この定義により，左側の列数と右側の行数が一致することが前提条件であることが分かります．\n",
    "また行列の積は可換ではないこと ${\\bf AB} \\neq {\\bf BA}$ に注意してください．"
   ]
  },
  {
   "cell_type": "markdown",
   "metadata": {},
   "source": [
    "行列の積の定義では総和の記号（$\\Sigma$）が使われているので，拒絶感を持つ方もいるでしょう．\n",
    "理解を深めるために，2次行列の場合の積を総和を展開した形を確認してみましょう．\n",
    "このパターンをご覧いただいて，行列の積についての計算の形を理解しましょう．\n",
    "\n",
    "${\\bf A}{\\bf B}=\n",
    "\\left(\\begin{array}{cc}\n",
    "a_{11} & a_{12} \\\\ \n",
    "a_{21} & a_{22} \\\\ \n",
    "\\end{array} \\right) \n",
    "\\left(\\begin{array}{cc}\n",
    "b_{11} & b_{12} \\\\ \n",
    "b_{21} & b_{22} \\\\ \n",
    "\\end{array} \\right) \n",
    "$\n",
    "$=\n",
    "\\left(\\begin{array}{cc}\n",
    "\\left(\\begin{array}{cc} a_{11} & a_{12} \\end{array} \\right) \\left(\\begin{array}{cc} b_{11} \\\\ b_{21} \\end{array} \\right) & \n",
    "\\left(\\begin{array}{cc} a_{11} & a_{12} \\end{array} \\right) \\left(\\begin{array}{cc} b_{12} \\\\ b_{22} \\end{array} \\right) \\\\\n",
    "\\left(\\begin{array}{cc} a_{21} & a_{22} \\end{array} \\right) \\left(\\begin{array}{cc} b_{11} \\\\ b_{21} \\end{array} \\right) & \n",
    "\\left(\\begin{array}{cc} a_{21} & a_{22} \\end{array} \\right) \\left(\\begin{array}{cc} b_{12} \\\\ b_{22} \\end{array} \\right) \\\\\n",
    "\\end{array} \\right) \n",
    "$\n",
    "$=\n",
    "\\left(\\begin{array}{cc}\n",
    "a_{11}b_{11} + a_{12}b_{21} & a_{11}b_{12} + a_{12}b_{22} \\\\ \n",
    "a_{21}b_{11} + a_{22}b_{21} & a_{21}b_{12} + a_{22}b_{22} \\\\ \n",
    "\\end{array} \\right) \n",
    "$"
   ]
  },
  {
   "cell_type": "markdown",
   "metadata": {},
   "source": [
    "### 行列とベクトルの積\n",
    "\n",
    "n次の列ベクトルは$(n,1)$型の行列と見なすことができます．これにより行列とベクトルとの積を定義することができます．<br>\n",
    "行列\n",
    "$ {\\bf A} =\n",
    "\\left(\\begin{array}{cccc}\n",
    "a_{11} & a_{12} & \\cdots & a_{1n} \\\\ \n",
    "a_{21} & a_{22} & \\cdots & a_{2n} \\\\ \n",
    "\\vdots & \\vdots & \\ddots & \\vdots \\\\\n",
    "a_{m1} & a_{m2} & \\cdots & a_{mn} \\\\\n",
    "\\end{array} \\right) $\n",
    "と列ベクトル${\\bf v}=\\left(\\begin{array}{c} v_{1} \\\\ v_{2} \\\\ \\vdots \\\\ v_{n} \\\\ \\end{array} \\right)$との積${\\bf Av}$は下記のようになります．\n",
    "\n",
    "${\\bf A}{\\bf v}=\n",
    "\\left(\\begin{array}{cccc}\n",
    "a_{11} & a_{12} & \\cdots & a_{1n} \\\\ \n",
    "a_{21} & a_{22} & \\cdots & a_{2n} \\\\ \n",
    "\\vdots & \\vdots & \\ddots & \\vdots \\\\\n",
    "a_{m1} & a_{m2} & \\cdots & a_{mn} \\\\\n",
    "\\end{array} \\right)\n",
    "\\left(\\begin{array}{c}\n",
    "v_{1} \\\\ \n",
    "v_{2} \\\\ \n",
    "\\vdots \\\\\n",
    "v_{n} \\\\\n",
    "\\end{array} \\right) =\n",
    "\\left(\\begin{array}{c}\n",
    "\\sum_{k=1}^{n} a_{1k}v_{k} \\\\ \n",
    "\\sum_{k=1}^{n} a_{2k}v_{k} \\\\ \n",
    "\\vdots  \\\\\n",
    "\\sum_{k=1}^{n} a_{mk}v_{k} \\\\\n",
    "\\end{array} \\right) $\n",
    "\n",
    "またm次の行ベクトルは$(1,m)$型の行列と見なすことが出来るので行列に左から掛けることができます．\n"
   ]
  },
  {
   "cell_type": "markdown",
   "metadata": {},
   "source": [
    "行ベクトル${\\bf w}=(w_1 w_2 \\cdots w_m)$と行列${\\bf A}=(a_{ij})_{mn}$との積${\\bf wA}$は下記のようになります．\n",
    "\n",
    "${\\bf w}{\\bf A}=\n",
    "\\left(\\begin{array}{c}\n",
    "w_{1} & v_{2} & \\cdots & v_{m} \\end{array} \\right)\n",
    "\\left(\\begin{array}{cccc}\n",
    "a_{11} & a_{12} & \\cdots & a_{1n} \\\\ \n",
    "a_{21} & a_{22} & \\cdots & a_{2n} \\\\ \n",
    "\\vdots & \\vdots & \\ddots & \\vdots \\\\\n",
    "a_{m1} & a_{m2} & \\cdots & a_{mn} \\\\\n",
    "\\end{array} \\right) \n",
    "$\n",
    "$=\n",
    "\\left(\\begin{array}{c}\n",
    "\\sum_{k=1}^{m} w_{k}a_{k1} & \n",
    "\\sum_{k=1}^{m} w_{k}a_{k2} & \n",
    "\\cdots  &\n",
    "\\sum_{k=1}^{m} w_{k}a_{kn} \\\\\n",
    "\\end{array} \\right) $\n"
   ]
  },
  {
   "cell_type": "markdown",
   "metadata": {},
   "source": [
    "*****\n",
    "## 行列演算の実際\n",
    "\n",
    "それでは行列の演算を具体的な例で確認してみましょう． Pythonでの計算のために配列計算ライブラリーNumPyをimportします．\n",
    "\n",
    "> <font color=green>import</font> numpy <font color=green>as</font> np"
   ]
  },
  {
   "cell_type": "code",
   "execution_count": 1,
   "metadata": {},
   "outputs": [],
   "source": [
    "import numpy as np"
   ]
  },
  {
   "cell_type": "markdown",
   "metadata": {},
   "source": [
    "### 行列のスカラー倍\n",
    "\n",
    "まず最初は行列のスカラー倍について計算します．\n",
    "スカラーを$k=5$とし，行列\n",
    "${\\bf A}=\n",
    "\\left(\\begin{array}{cc}\n",
    "1 & 2 & 3 & 4 \\\\ \n",
    "5 & 6 & 7 & 8 \\\\ \n",
    "9 & 10 & 11 & 12 \\\\\n",
    "\\end{array} \\right)$\n",
    "にスカラーを掛けてみます．\n",
    "\n",
    "$k{\\bf A}=\n",
    "5\\left(\\begin{array}{cc}\n",
    "1 & 2 & 3 & 4 \\\\ \n",
    "5 & 6 & 7 & 8 \\\\ \n",
    "9 & 10 & 11 & 12 \\\\\n",
    "\\end{array} \\right) \n",
    "$\n",
    "$=\n",
    "\\left(\\begin{array}{cc}\n",
    "5\\times 1 & 5\\times 2 & 5\\times 3 & 5\\times 4 \\\\ \n",
    "5\\times 5 & 5\\times 6 & 5\\times 7 & 5\\times 8 \\\\ \n",
    "5\\times 9 & 5\\times 10 & 5\\times 11 & 5\\times 12 \\\\\n",
    "\\end{array} \\right) =\n",
    "\\left(\\begin{array}{cc}\n",
    "5 & 10 & 15 & 20 \\\\ \n",
    "25 & 30 & 35 & 40 \\\\ \n",
    "45 & 50 & 55 & 60 \\\\\n",
    "\\end{array} \\right) $\n",
    "\n",
    "Pythonでスカラーと行列の掛け算を行うにはアスタリスク記号による2項演算「k\\*A」と記載します．\n",
    "まず，スカラー定数kと行列Aを作成します．行列はNumPyの配列オブジェクトです．\n",
    "\n",
    "> k = 5<br>\n",
    "> A = np.array([[1,2,3,4],[5,6,7,8],[9,10,11,12]])<br>\n",
    "> k\\*A"
   ]
  },
  {
   "cell_type": "code",
   "execution_count": 2,
   "metadata": {},
   "outputs": [
    {
     "data": {
      "text/plain": [
       "array([[ 5, 10, 15, 20],\n",
       "       [25, 30, 35, 40],\n",
       "       [45, 50, 55, 60]])"
      ]
     },
     "execution_count": 2,
     "metadata": {},
     "output_type": "execute_result"
    }
   ],
   "source": [
    "k = 5\n",
    "A = np.array([[1, 2, 3, 4], [5, 6, 7, 8], [9, 10, 11, 12]])\n",
    "k * A"
   ]
  },
  {
   "cell_type": "markdown",
   "metadata": {},
   "source": [
    "Pythonによる計算結果は手計算による結果と一致しました．\n",
    "スカラーと行列の掛け算は左右入替えても同じ答えになります．念のために「A\\*k」についても計算してみます．\n",
    "\n",
    "> A\\*k"
   ]
  },
  {
   "cell_type": "code",
   "execution_count": 3,
   "metadata": {},
   "outputs": [
    {
     "data": {
      "text/plain": [
       "array([[ 5, 10, 15, 20],\n",
       "       [25, 30, 35, 40],\n",
       "       [45, 50, 55, 60]])"
      ]
     },
     "execution_count": 3,
     "metadata": {},
     "output_type": "execute_result"
    }
   ],
   "source": [
    "A * k"
   ]
  },
  {
   "cell_type": "markdown",
   "metadata": {},
   "source": [
    "また，行列をスカラーで割ることも可能です．この場合，行列の各成分の値をスカラーで割ったものが求める行列となります．\n",
    "行列のスカラー倍の定義で解釈すると，スカラーの逆数を掛けることと等しい計算結果となります．\n",
    "\n",
    "${\\bf A} \\div k=\n",
    "{\\bf A}\\frac{1}{k}=\n",
    "\\left(\\begin{array}{cccc}\n",
    "\\frac{1}{k}a_{11} & \\frac{1}{k}a_{12} & \\cdots & \\frac{1}{k}a_{1n} \\\\ \n",
    "\\frac{1}{k}a_{21} & \\frac{1}{k}a_{22} & \\cdots & \\frac{1}{k}a_{2n} \\\\ \n",
    "\\vdots & \\vdots & \\ddots & \\vdots \\\\\n",
    "\\frac{1}{k}a_{m1} & \\frac{1}{k}a_{m2} & \\cdots & \\frac{1}{k}a_{mn} \\\\\n",
    "\\end{array} \\right)\n",
    "$\n",
    "\n",
    "Pythonでも同じ結果を得ることができます．割り算は数値の場合と同じくスラッシュを用いて「A/k」と記載します．\n",
    "\n",
    "> A/k"
   ]
  },
  {
   "cell_type": "code",
   "execution_count": 4,
   "metadata": {},
   "outputs": [
    {
     "data": {
      "text/plain": [
       "array([[0.2, 0.4, 0.6, 0.8],\n",
       "       [1. , 1.2, 1.4, 1.6],\n",
       "       [1.8, 2. , 2.2, 2.4]])"
      ]
     },
     "execution_count": 4,
     "metadata": {},
     "output_type": "execute_result"
    }
   ],
   "source": [
    "A / k"
   ]
  },
  {
   "cell_type": "markdown",
   "metadata": {},
   "source": [
    "行列の理論においてスカラーを行列で割ることはできません．\n",
    "しかし，PythonのNumPyにおいて，スカラー$k$を行列${\\bf A}$で割る操作「k/A」を実行してもエラーになりません．\n",
    "この場合は，行列の各成分で$k$を割った値を持つ行列が生成されます．\n",
    "具体的に試してみましょう．\n",
    "\n",
    "> k/A"
   ]
  },
  {
   "cell_type": "code",
   "execution_count": 5,
   "metadata": {},
   "outputs": [
    {
     "data": {
      "text/plain": [
       "array([[5.        , 2.5       , 1.66666667, 1.25      ],\n",
       "       [1.        , 0.83333333, 0.71428571, 0.625     ],\n",
       "       [0.55555556, 0.5       , 0.45454545, 0.41666667]])"
      ]
     },
     "execution_count": 5,
     "metadata": {},
     "output_type": "execute_result"
    }
   ],
   "source": [
    "k / A"
   ]
  },
  {
   "cell_type": "markdown",
   "metadata": {},
   "source": [
    "このように<font color=red>数学理論上とは異なることもプログラミングの中では実用化されていることが多くあります</font>．\n",
    "プログラミングは実践主義であり便利なので採用されているものなので，数学理論ではない部分は誤解の無いようにしましょう．"
   ]
  },
  {
   "cell_type": "markdown",
   "metadata": {},
   "source": [
    "### 行列の加減算\n",
    "\n",
    "次の2つの行列の加減算を計算します．\n",
    "\n",
    "${\\bf A}=\n",
    "\\left(\\begin{array}{ccc}\n",
    "10 & 20 & 30 \\\\ \n",
    "40 & 50 & 60 \\\\ \n",
    "70 & 80 & 90 \\\\\n",
    "\\end{array} \\right)$\n",
    ", \n",
    "${\\bf B}=\n",
    "\\left(\\begin{array}{ccc}\n",
    "1 & 2 & 3 \\\\ \n",
    "4 & 5 & 6 \\\\ \n",
    "7 & 8 & 9 \\\\\n",
    "\\end{array} \\right)$\n"
   ]
  },
  {
   "cell_type": "markdown",
   "metadata": {},
   "source": [
    "まず最初に足し算を行います．\n",
    "\n",
    "${\\bf A}+{\\bf B}=\n",
    "\\left(\\begin{array}{ccc}\n",
    "10 & 20 & 30 \\\\ \n",
    "40 & 50 & 60 \\\\ \n",
    "70 & 80 & 90 \\\\\n",
    "\\end{array} \\right) +\n",
    "\\left(\\begin{array}{ccc}\n",
    "1 & 2 & 3 \\\\ \n",
    "4 & 5 & 6 \\\\ \n",
    "7 & 8 & 9 \\\\\n",
    "\\end{array} \\right) \n",
    "$\n",
    "$=\n",
    "\\left(\\begin{array}{ccc}\n",
    "10+1 & 20+2 & 30+3 \\\\ \n",
    "40+4 & 50+5 & 60+6 \\\\ \n",
    "70+7 & 80+8 & 90+9 \\\\\n",
    "\\end{array} \\right) =\n",
    "\\left(\\begin{array}{ccc}\n",
    "11 & 22 & 33 \\\\ \n",
    "44 & 55 & 66 \\\\ \n",
    "77 & 88 & 99 \\\\\n",
    "\\end{array} \\right) $\n",
    "\n",
    "これをPythonで実行すると次のようになります．\n",
    "まず，行列AとBをNumPyの配列として定義して，それらを足し合わせます．\n",
    "\n",
    "> A = np.array([[10,20,30],[40,50,60],[70,80,90]]) <br>\n",
    "> B = np.array([[1,2,3],[4,5,6],[7,8,9]]) <br>\n",
    "> A+B"
   ]
  },
  {
   "cell_type": "code",
   "execution_count": 6,
   "metadata": {},
   "outputs": [
    {
     "data": {
      "text/plain": [
       "array([[11, 22, 33],\n",
       "       [44, 55, 66],\n",
       "       [77, 88, 99]])"
      ]
     },
     "execution_count": 6,
     "metadata": {},
     "output_type": "execute_result"
    }
   ],
   "source": [
    "A = np.array([[10, 20, 30], [40, 50, 60], [70, 80, 90]])\n",
    "B = np.array([[1, 2, 3], [4, 5, 6], [7, 8, 9]])\n",
    "A + B"
   ]
  },
  {
   "cell_type": "markdown",
   "metadata": {},
   "source": [
    "次に引き算について確認します．\n",
    "\n",
    "${\\bf A}-{\\bf B}=\n",
    "\\left(\\begin{array}{ccc}\n",
    "10 & 20 & 30 \\\\ \n",
    "40 & 50 & 60 \\\\ \n",
    "70 & 80 & 90 \\\\\n",
    "\\end{array} \\right) -\n",
    "\\left(\\begin{array}{ccc}\n",
    "1 & 2 & 3 \\\\ \n",
    "4 & 5 & 6 \\\\ \n",
    "7 & 8 & 9 \\\\\n",
    "\\end{array} \\right) \n",
    "$\n",
    "$=\n",
    "\\left(\\begin{array}{ccc}\n",
    "10-1 & 20-2 & 30-3 \\\\ \n",
    "40-4 & 50-5 & 60-6 \\\\ \n",
    "70-7 & 80-8 & 90-9 \\\\\n",
    "\\end{array} \\right) =\n",
    "\\left(\\begin{array}{ccc}\n",
    "9 & 18 & 27 \\\\ \n",
    "36 & 45 & 54 \\\\ \n",
    "63 & 72 & 81 \\\\\n",
    "\\end{array} \\right) $\n",
    "\n",
    "これをPythonで実行する場合は数値と同じく「A-B」となります．\n",
    "\n",
    "> A-B"
   ]
  },
  {
   "cell_type": "code",
   "execution_count": 7,
   "metadata": {},
   "outputs": [
    {
     "data": {
      "text/plain": [
       "array([[ 9, 18, 27],\n",
       "       [36, 45, 54],\n",
       "       [63, 72, 81]])"
      ]
     },
     "execution_count": 7,
     "metadata": {},
     "output_type": "execute_result"
    }
   ],
   "source": [
    "A - B"
   ]
  },
  {
   "cell_type": "markdown",
   "metadata": {},
   "source": [
    "このように行列の加減算は，同じ型の行列，すなわち，行の数と列の数が同じ場合に限り，成分どうしの加減算で計算することができます．\n",
    "\n",
    "PythonのNumPyにおける計算も基本的には数学的定義に従っています．\n",
    "しかし，数学的厳密さからすると仕様が緩いところが多く見られます．\n",
    "例えば次の計算は数学的には定義されていませんが，Pythonでは実施することができます．\n",
    "\n",
    "$\\left(\\begin{array}{ccc}\n",
    "10 & 20 & 30 \\\\ \n",
    "40 & 50 & 60 \\\\ \n",
    "70 & 80 & 90 \\\\\n",
    "\\end{array} \\right) +\n",
    "\\left(\\begin{array}{ccc}\n",
    "2 & 4 & 6 \\\\ \n",
    "\\end{array} \\right)$\n",
    "\n",
    "実際にPythonで実行してみると，次のCodeセルにあるように各行に$\\left(\\begin{array}{} 2 & 4 & 6 \\end{array} \\right)$を足す仕様になっていることが分かります．\n",
    "変数を定義せずに，配列の計算を直接記載してみます．\n",
    "\n",
    "> np.array([[10,20,30],[40,50,60],[70,80,90]]) + np.array([2,4,6])"
   ]
  },
  {
   "cell_type": "code",
   "execution_count": 8,
   "metadata": {},
   "outputs": [
    {
     "data": {
      "text/plain": [
       "array([[12, 24, 36],\n",
       "       [42, 54, 66],\n",
       "       [72, 84, 96]])"
      ]
     },
     "execution_count": 8,
     "metadata": {},
     "output_type": "execute_result"
    }
   ],
   "source": [
    "np.array;([[10, 20, 30], [40, 50, 60], [70, 80, 90]]) + np.array([2, 4, 6])"
   ]
  },
  {
   "cell_type": "markdown",
   "metadata": {},
   "source": [
    "このように仕様が緩いので，プログラムの記載ミスがエラーにならず計算が進んでしまい間違えた結果を信じてします危険性もありますので，十分注意してください．"
   ]
  },
  {
   "cell_type": "markdown",
   "metadata": {},
   "source": [
    "### 行列の積\n",
    "\n",
    "行列の積は，左の行列の一行と右の行列の一列の成分を順番に取り出して積をとり総和をとる，という操作を全ての行と列について行っていきます．\n",
    "簡単な行列から始めて徐々に慣れていきましょう．\n",
    "\n",
    "最初は2行2列の正方行列どうしの積を行いましょう．\n",
    "\n",
    "${\\bf A}=\n",
    "\\left(\\begin{array}{cc}\n",
    "1 & 2 \\\\ \n",
    "3 & 4 \\\\ \n",
    "\\end{array} \\right)$\n",
    ", \n",
    "${\\bf B}=\n",
    "\\left(\\begin{array}{cc}\n",
    "2 & -3 \\\\ \n",
    "-1 & 5 \\\\\n",
    "\\end{array} \\right)$\n",
    "\n",
    "計算手順に沿って詳細に記載します．"
   ]
  },
  {
   "cell_type": "markdown",
   "metadata": {},
   "source": [
    "${\\bf A}{\\bf B}=\n",
    "\\left(\\begin{array}{cc}\n",
    "1 & 2 \\\\ \n",
    "3 & 4 \\\\ \n",
    "\\end{array} \\right)\n",
    "\\left(\\begin{array}{cc}\n",
    "2 & -3 \\\\ \n",
    "-1 & 5 \\\\\n",
    "\\end{array} \\right) \n",
    "$\n",
    "$=\n",
    "\\left(\\begin{array}{cc}\n",
    "1\\times2 + 2\\times(-1) & 1\\times(-3) + 2\\times5 \\\\ \n",
    "3\\times2 + 4\\times(-1) & 3\\times(-3) + 4\\times5 \\\\ \n",
    "\\end{array} \\right)\n",
    "$\n",
    "$=\n",
    "\\left(\\begin{array}{cc}\n",
    "2-2 & -3+10 \\\\ \n",
    "6-4 & -9+20 \\\\\n",
    "\\end{array} \\right) \n",
    "$\n",
    "$=\n",
    "\\left(\\begin{array}{cc}\n",
    "0 & 7 \\\\ \n",
    "2 & 11 \\\\\n",
    "\\end{array} \\right) \n",
    "$"
   ]
  },
  {
   "cell_type": "markdown",
   "metadata": {},
   "source": [
    "これをPythonで実行してみましょう．\n",
    "まずは，掛け合わせる行列をNumPyの配列として変数を定義します．\n",
    "行列の積を行うには専用の<font color=blue>dot()</font>メソッドを使用します．これを*ドット積*と呼んでいます．\n",
    "\n",
    "> A = np.array([[1,2],[3,4]]) <br>\n",
    "> B = np.array([[2,-3],[-1,5]]) <br>\n",
    "> A.dot(B)"
   ]
  },
  {
   "cell_type": "code",
   "execution_count": 9,
   "metadata": {},
   "outputs": [
    {
     "data": {
      "text/plain": [
       "array([[ 0,  7],\n",
       "       [ 2, 11]])"
      ]
     },
     "execution_count": 9,
     "metadata": {},
     "output_type": "execute_result"
    }
   ],
   "source": [
    "A = np.array([[1, 2], [3, 4]])\n",
    "B = np.array([[2, -3], [-1, 5]])\n",
    "A.dot(B)"
   ]
  },
  {
   "cell_type": "markdown",
   "metadata": {},
   "source": [
    "### 単位行列\n",
    "\n",
    "次は3行3列の正方行列の積ですが，単位行列と呼ばれる特別な行列の積について計算してみます．\n",
    "\n",
    "${\\bf I}_3=\n",
    "\\left(\\begin{array}{ccc}\n",
    "1 & 0 & 0 \\\\ \n",
    "0 & 1 & 0 \\\\ \n",
    "0 & 0 & 1 \\\\\n",
    "\\end{array} \\right)$\n",
    ", \n",
    "${\\bf A}=\n",
    "\\left(\\begin{array}{ccc}\n",
    "1 & 2 & 3 \\\\ \n",
    "4 & 5 & 6 \\\\ \n",
    "7 & 8 & 9 \\\\\n",
    "\\end{array} \\right)$\n",
    "\n",
    "ここで${\\bf I}_3$は3次元の単位行列と言います．単位行列という名前の理由は，任意の行列に掛けても変化させない働きがあるためです．\n",
    "\n",
    "実際に${\\bf I}_3{\\bf A}$を計算して確かめてみます．"
   ]
  },
  {
   "cell_type": "markdown",
   "metadata": {},
   "source": [
    "${\\bf I}_3{\\bf A}=\n",
    "\\left(\\begin{array}{ccc}\n",
    "1 & 0 & 0 \\\\ \n",
    "0 & 1 & 0 \\\\ \n",
    "0 & 0 & 1 \\\\\n",
    "\\end{array} \\right)\n",
    "\\left(\\begin{array}{ccc}\n",
    "1 & 2 & 3 \\\\ \n",
    "4 & 5 & 6 \\\\ \n",
    "7 & 8 & 9 \\\\\n",
    "\\end{array} \\right)\n",
    "$\n",
    "$=\n",
    "\\left(\\begin{array}{ccc}\n",
    "1\\times1+0\\times4+0\\times7 & 1\\times2+0\\times5+0\\times8 & 1\\times3+0\\times6+0\\times9 \\\\ \n",
    "0\\times1+1\\times4+0\\times7 & 0\\times2+1\\times5+0\\times8 & 0\\times3+1\\times6+0\\times9 \\\\ \n",
    "0\\times1+0\\times4+1\\times7 & 0\\times2+0\\times5+1\\times8 & 0\\times3+0\\times6+1\\times9 \\\\ \n",
    "\\end{array} \\right)\n",
    "$\n",
    "$=\n",
    "\\left(\\begin{array}{ccc}\n",
    "1+0+0 & 2+0+0 & 3+0+0 \\\\ \n",
    "0+4+0 & 0+5+0 & 0+6+0 \\\\ \n",
    "0+0+7 & 0+0+8 & 0+0+9 \\\\\n",
    "\\end{array} \\right)\n",
    "$\n",
    "$=\n",
    "\\left(\\begin{array}{ccc}\n",
    "1 & 2 & 3 \\\\ \n",
    "4 & 5 & 6 \\\\ \n",
    "7 & 8 & 9 \\\\\n",
    "\\end{array} \\right)\n",
    "$"
   ]
  },
  {
   "cell_type": "markdown",
   "metadata": {},
   "source": [
    "行列I3とAをNumPyの配列で定義して，ドット積を実行します．\n",
    "なお，$n$次の単位行列は，<font color=green>numpy.identity( 次元数 )</font> 関数で生成できます．\n",
    "\n",
    "> I3 = np.identity(3) <br>\n",
    "> A  = np.array([[1,2,3],[4,5,6],[7,8,9]]) <br>\n",
    "> I3.dot(A)"
   ]
  },
  {
   "cell_type": "code",
   "execution_count": 10,
   "metadata": {},
   "outputs": [
    {
     "data": {
      "text/plain": [
       "array([[1., 2., 3.],\n",
       "       [4., 5., 6.],\n",
       "       [7., 8., 9.]])"
      ]
     },
     "execution_count": 10,
     "metadata": {},
     "output_type": "execute_result"
    }
   ],
   "source": [
    "I3 = np.identity(3)\n",
    "A = np.array([[1, 2, 3], [4, 5, 6], [7, 8, 9]])\n",
    "I3.dot(A)"
   ]
  },
  {
   "cell_type": "markdown",
   "metadata": {},
   "source": [
    "計算結果は行列${\\bf A}$と等しくなっています．\n",
    "単位行列は左右どちらから掛けても結果は同じです．\n",
    "試しに${\\bf A}{\\bf I}_3$を実行してみます．\n",
    "\n",
    "> A.dot(I3)"
   ]
  },
  {
   "cell_type": "code",
   "execution_count": 11,
   "metadata": {},
   "outputs": [
    {
     "data": {
      "text/plain": [
       "array([[1., 2., 3.],\n",
       "       [4., 5., 6.],\n",
       "       [7., 8., 9.]])"
      ]
     },
     "execution_count": 11,
     "metadata": {},
     "output_type": "execute_result"
    }
   ],
   "source": [
    "A.dot(I3)"
   ]
  },
  {
   "cell_type": "markdown",
   "metadata": {},
   "source": [
    "単位行列は線形代数において重要な役割を果たします．\n",
    "ここに幾つかの次元における単位行列を掲載いたします．\n",
    "\n",
    "${\\bf I}_2=\n",
    "\\left(\\begin{array}{cc}\n",
    "1 & 0 \\\\ \n",
    "0 & 1 \\\\\n",
    "\\end{array} \\right)$\n",
    ", \n",
    "${\\bf I}_3=\n",
    "\\left(\\begin{array}{ccc}\n",
    "1 & 0 & 0 \\\\ \n",
    "0 & 1 & 0 \\\\ \n",
    "0 & 0 & 1 \\\\\n",
    "\\end{array} \\right)$\n",
    ", \n",
    "${\\bf I}_4=\n",
    "\\left(\\begin{array}{cccc}\n",
    "1 & 0 & 0 & 0 \\\\ \n",
    "0 & 1 & 0 & 0 \\\\ \n",
    "0 & 0 & 1 & 0 \\\\ \n",
    "0 & 0 & 0 & 1 \\\\\n",
    "\\end{array} \\right)$\n",
    ",\n",
    "${\\bf I}_5=\n",
    "\\left(\\begin{array}{cccc}\n",
    "1 & 0 & 0 & 0 & 0 \\\\ \n",
    "0 & 1 & 0 & 0 & 0 \\\\ \n",
    "0 & 0 & 1 & 0 & 0 \\\\ \n",
    "0 & 0 & 0 & 1 & 0 \\\\ \n",
    "0 & 0 & 0 & 0 & 1 \\\\\n",
    "\\end{array} \\right)$\n",
    "\n",
    "行と列の数が同じ行列を正方行列と言いますが，このように単位行列は，その対角線成分が1でその他の成分が0になっている正方行列です．\n",
    "一般に行列の次元が明確な場合は添え字を省略して単に${\\bf I}$と記載します．"
   ]
  },
  {
   "cell_type": "markdown",
   "metadata": {},
   "source": [
    "### 行を置換する基本行列\n",
    "\n",
    "次の行列を行列${\\bf A}$の左から掛けてみて，計算結果がどうなるか確認しましょう．\n",
    "\n",
    "${\\bf P}_3(1,2)=\n",
    "\\left(\\begin{array}{ccc}\n",
    "0 & 1 & 0 \\\\ \n",
    "1 & 0 & 0 \\\\ \n",
    "0 & 0 & 1 \\\\\n",
    "\\end{array} \\right)$\n",
    ", \n",
    "${\\bf P}_3(1,3)=\n",
    "\\left(\\begin{array}{ccc}\n",
    "0 & 0 & 1 \\\\ \n",
    "0 & 1 & 0 \\\\ \n",
    "1 & 0 & 0 \\\\\n",
    "\\end{array} \\right)$\n",
    ", \n",
    "${\\bf P}_3(2,3)=\n",
    "\\left(\\begin{array}{ccc}\n",
    "1 & 0 & 0 \\\\ \n",
    "0 & 0 & 1 \\\\ \n",
    "0 & 1 & 0 \\\\\n",
    "\\end{array} \\right)$\n",
    "\n",
    "まず，${\\bf P}_3(1,2){\\bf A}$を計算しましょう．"
   ]
  },
  {
   "cell_type": "markdown",
   "metadata": {},
   "source": [
    "${\\bf P}_3(1,2){\\bf A}=\n",
    "\\left(\\begin{array}{ccc}\n",
    "0 & 1 & 0 \\\\ \n",
    "1 & 0 & 0 \\\\ \n",
    "0 & 0 & 1 \\\\\n",
    "\\end{array} \\right)\n",
    "\\left(\\begin{array}{ccc}\n",
    "1 & 2 & 3 \\\\ \n",
    "4 & 5 & 6 \\\\ \n",
    "7 & 8 & 9 \\\\\n",
    "\\end{array} \\right)\n",
    "$\n",
    "$=\n",
    "\\left(\\begin{array}{ccc}\n",
    "0\\times1+1\\times4+0\\times7 & 0\\times2+1\\times5+0\\times8 & 0\\times3+1\\times6+0\\times9 \\\\ \n",
    "1\\times1+0\\times4+0\\times7 & 1\\times2+0\\times5+0\\times8 & 1\\times3+0\\times6+0\\times9 \\\\ \n",
    "0\\times1+0\\times4+1\\times7 & 0\\times2+0\\times5+1\\times8 & 0\\times3+0\\times6+1\\times9 \\\\ \n",
    "\\end{array} \\right)\n",
    "$\n",
    "$=\n",
    "\\left(\\begin{array}{ccc}\n",
    "0+4+0 & 0+5+0 & 0+6+0 \\\\ \n",
    "1+0+0 & 2+0+0 & 3+0+0 \\\\ \n",
    "0+0+7 & 0+0+8 & 0+0+9 \\\\\n",
    "\\end{array} \\right)\n",
    "$\n",
    "$=\n",
    "\\left(\\begin{array}{ccc}\n",
    "4 & 5 & 6 \\\\ \n",
    "1 & 2 & 3 \\\\ \n",
    "7 & 8 & 9 \\\\\n",
    "\\end{array} \\right)\n",
    "$"
   ]
  },
  {
   "cell_type": "markdown",
   "metadata": {},
   "source": [
    "計算結果を見ると行列${\\bf A}$の1行目と2行目を入替えていることが分かります．\n",
    "行列${\\bf P}_3(1,2)$自身も単位行列から1行目と2行目を入替えた行列になっています．\n",
    "\n",
    "この計算をPythonで実行してみましょう．"
   ]
  },
  {
   "cell_type": "code",
   "execution_count": 13,
   "metadata": {},
   "outputs": [
    {
     "data": {
      "text/plain": [
       "array([[4, 5, 6],\n",
       "       [1, 2, 3],\n",
       "       [7, 8, 9]])"
      ]
     },
     "execution_count": 13,
     "metadata": {},
     "output_type": "execute_result"
    }
   ],
   "source": [
    "P3 = np.array([[0, 1, 0], [1, 0, 0], [0, 0, 1]])\n",
    "A = np.array([[1, 2, 3], [4, 5, 6], [7, 8, 9]])\n",
    "P3.dot(A)"
   ]
  },
  {
   "cell_type": "markdown",
   "metadata": {},
   "source": [
    "行列の積の左右を入替えて${\\bf A}{\\bf P}_3(1,2)$とすると，列の入替えになります．"
   ]
  },
  {
   "cell_type": "markdown",
   "metadata": {},
   "source": [
    "${\\bf A}{\\bf P}_3(1,2)=\n",
    "\\left(\\begin{array}{ccc}\n",
    "1 & 2 & 3 \\\\ \n",
    "4 & 5 & 6 \\\\ \n",
    "7 & 8 & 9 \\\\\n",
    "\\end{array} \\right)\n",
    "\\left(\\begin{array}{ccc}\n",
    "0 & 1 & 0 \\\\ \n",
    "1 & 0 & 0 \\\\ \n",
    "0 & 0 & 1 \\\\\n",
    "\\end{array} \\right)\n",
    "$\n",
    "$=\n",
    "\\left(\\begin{array}{ccc}\n",
    "1\\times0+2\\times1+3\\times0 & 1\\times1+2\\times0+3\\times0 & 1\\times0+2\\times0+3\\times1 \\\\ \n",
    "4\\times0+5\\times1+6\\times0 & 4\\times1+5\\times0+6\\times0 & 4\\times0+5\\times0+6\\times1 \\\\ \n",
    "7\\times0+8\\times1+9\\times0 & 7\\times1+8\\times0+9\\times0 & 7\\times0+8\\times0+9\\times1 \\\\ \n",
    "\\end{array} \\right)\n",
    "$\n",
    "$=\n",
    "\\left(\\begin{array}{ccc}\n",
    "0+2+0 & 1+0+0 & 0+0+3 \\\\ \n",
    "0+5+0 & 4+0+0 & 0+0+6 \\\\ \n",
    "0+8+0 & 7+0+0 & 0+0+9 \\\\\n",
    "\\end{array} \\right)\n",
    "$\n",
    "$=\n",
    "\\left(\\begin{array}{ccc}\n",
    "2 & 1 & 3 \\\\ \n",
    "5 & 4 & 6 \\\\ \n",
    "8 & 7 & 9 \\\\\n",
    "\\end{array} \\right)\n",
    "$"
   ]
  },
  {
   "cell_type": "code",
   "execution_count": 14,
   "metadata": {},
   "outputs": [
    {
     "data": {
      "text/plain": [
       "array([[2, 1, 3],\n",
       "       [5, 4, 6],\n",
       "       [8, 7, 9]])"
      ]
     },
     "execution_count": 14,
     "metadata": {},
     "output_type": "execute_result"
    }
   ],
   "source": [
    "A.dot(P3)"
   ]
  },
  {
   "cell_type": "markdown",
   "metadata": {},
   "source": [
    "一般に$n$次正方行列のi列目とj列目を入替える左行列を$P_n(i,j)$と表記します．\n",
    "このように，行列を掛けるという操作は変換を表すものです．\n",
    "翻って連立方程式に戻って考えると$P_n(i,j)$を左から掛けることは連立方程式の並び順で i 番目の式と j 番目の式を入替える操作を表しています．\n",
    "*****"
   ]
  }
 ],
 "metadata": {
  "kernelspec": {
   "display_name": "Python 3",
   "language": "python",
   "name": "python3"
  },
  "language_info": {
   "codemirror_mode": {
    "name": "ipython",
    "version": 3
   },
   "file_extension": ".py",
   "mimetype": "text/x-python",
   "name": "python",
   "nbconvert_exporter": "python",
   "pygments_lexer": "ipython3",
   "version": "3.8.8"
  }
 },
 "nbformat": 4,
 "nbformat_minor": 4
}
