{
 "cells": [
  {
   "cell_type": "markdown",
   "id": "f0ab28d3-e62a-4ecd-915a-49f2ad60a92e",
   "metadata": {},
   "source": [
    "## 新たに関数作成\n",
    "- **file名の文字列から数字を削除　->　置き換え or 空**"
   ]
  },
  {
   "cell_type": "code",
   "execution_count": 1,
   "id": "ce262a3f-8f92-48e9-8d96-8847f8480652",
   "metadata": {},
   "outputs": [],
   "source": [
    "%load_ext autoreload\n",
    "%autoreload 2\n",
    "import os\n",
    "import re\n",
    "import numpy as np\n",
    "import sys\n",
    "sys.path.append('/work/script')\n",
    "import aivis\n",
    "from glob import glob\n",
    "from pathlib import Path"
   ]
  },
  {
   "cell_type": "code",
   "execution_count": 7,
   "id": "a7ac81a3-0bed-4ced-a977-ada0866f560c",
   "metadata": {},
   "outputs": [
    {
     "data": {
      "text/plain": [
       "PosixPath('..')"
      ]
     },
     "execution_count": 7,
     "metadata": {},
     "output_type": "execute_result"
    }
   ],
   "source": [
    "p_res = Path('../')\n",
    "p_res"
   ]
  },
  {
   "cell_type": "code",
   "execution_count": 9,
   "id": "299f553c-34dc-48ca-bb72-1edf55040d2a",
   "metadata": {},
   "outputs": [
    {
     "data": {
      "text/plain": [
       "PosixPath('../resource')"
      ]
     },
     "execution_count": 9,
     "metadata": {},
     "output_type": "execute_result"
    }
   ],
   "source": [
    "list(p_res.iterdir())[-1]"
   ]
  },
  {
   "cell_type": "code",
   "execution_count": 10,
   "id": "7692a561-b582-4eec-9bb8-94cf19f203fb",
   "metadata": {},
   "outputs": [],
   "source": [
    "aivis.rename_func_num(p_res, -1, r'^[2]', '')"
   ]
  }
 ],
 "metadata": {
  "kernelspec": {
   "display_name": "Python 3",
   "language": "python",
   "name": "python3"
  },
  "language_info": {
   "codemirror_mode": {
    "name": "ipython",
    "version": 3
   },
   "file_extension": ".py",
   "mimetype": "text/x-python",
   "name": "python",
   "nbconvert_exporter": "python",
   "pygments_lexer": "ipython3",
   "version": "3.8.8"
  }
 },
 "nbformat": 4,
 "nbformat_minor": 5
}
