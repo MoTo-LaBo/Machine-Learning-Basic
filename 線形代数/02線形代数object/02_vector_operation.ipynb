{
 "cells": [
  {
   "cell_type": "markdown",
   "metadata": {},
   "source": [
    "# ベクトル演算\n",
    "\n",
    "ここではベクトルについて成立する演算について説明します．\n",
    "\n",
    "- ベクトルのスカラー倍\n",
    "- ベクトルの足し算\n",
    "- ベクトルの引き算\n",
    "\n",
    "これらが基本的なベクトルの演算です．\n",
    "ベクトルについて積の概念もありますが，基本的演算ではないので，ここでは未だ踏み込みません．"
   ]
  },
  {
   "cell_type": "markdown",
   "metadata": {},
   "source": [
    "### ベクトルのスカラー倍\n",
    "\n",
    "ベクトルとスカラーの間で掛け算が成立します．\n",
    "$n$次元列ベクトル$\\bf{v}$は，$n$個のスカラーを縦に並べて表現します．\n",
    "\n",
    "${\\bf v} = \\left(\\begin{array}{c} v_1 \\\\ v_2 \\\\ \\vdots \\\\ v_n \\end{array} \\right)$\n",
    "\n",
    "スカラー$k$とベクトル$\\bf{v}$との掛け算$k{\\bf v}$および${\\bf v}k$を次のように定義します．\n",
    "このようにベクトルのスカラー倍を表記する場合は，スカラーとベクトルを並べて記載します．\n",
    "\n",
    "$k{\\bf v} = \\left(\\begin{array}{c} kv_1 \\\\ kv_2 \\\\ \\vdots \\\\ kv_n \\end{array} \\right)$\n",
    "\n",
    "${\\bf v}k = \\left(\\begin{array}{cc} v_1k \\\\ v_2k \\\\ \\vdots \\\\ v_nk \\end{array} \\right)$\n",
    "\n",
    "ここで，スカラーに関しては積の交換法則$ka_i=a_ik$が成り立つので，ベクトルとスカラーの掛け算は可換 $k{\\bf v}={\\bf v}k$ となります．\n",
    "そこでベクトルのスカラー倍の表示方法としては，スカラーを左側において$k{\\bf v}$と書くのが一般的となっています．\n",
    "\n",
    "また，ベクトルをスカラーで割ることも，スカラーの逆数を掛けることによって可能となります．\n",
    "しかし，スカラーをベクトルで割ることはできません．\n",
    "\n",
    "$\\displaystyle \n",
    "\\frac{\\bf v}{k} = \\left(\\begin{array}{cc} \\frac{v_1}{k} \\\\ \\frac{v_2}{k} \\\\ \\vdots \\\\ \\frac{v_n}{k} \\end{array} \\right)$"
   ]
  },
  {
   "cell_type": "markdown",
   "metadata": {},
   "source": [
    "### ベクトルの足し算\n",
    "\n",
    "ベクトルの足し算は，ベクトルの各成分ごとの足し算となります．\n",
    "そのためベクトルの足し算を行うには，両方のベクトルの次元が等しいことが条件となります．\n",
    "\n",
    "${\\bf u} = \\left(\\begin{array}{c} u_1 \\\\ u_2 \\\\ \\vdots \\\\ u_n \\end{array} \\right) ,\\ \\ \\ \\ $\n",
    "${\\bf v} = \\left(\\begin{array}{c} v_1 \\\\ v_2 \\\\ \\vdots \\\\ v_n \\end{array} \\right)$\n",
    "\n",
    "としたとき，${\\bf u}+{\\bf v}$を次のように定義します．\n",
    "\n",
    "${\\bf u}+{\\bf v} = \\left(\\begin{array}{c} u_1+v_1 \\\\ u_2+v_2 \\\\ \\vdots \\\\ u_n+v_n \\end{array} \\right)$\n",
    "\n",
    "個々の成分についてはスカラーどうしの足し算となるので，ここでも交換法則が成り立つので，${\\bf u}+{\\bf v}={\\bf v}+{\\bf u}$となります．"
   ]
  },
  {
   "cell_type": "markdown",
   "metadata": {},
   "source": [
    "### ベクトルの引き算\n",
    "\n",
    "ベクトルの引き算は，引くベクトルに-1を掛けて足し算を行います．\n",
    "結果としては，ベクトルの各成分ごとの引き算となります．\n",
    "\n",
    "${\\bf u}-{\\bf v} = {\\bf u}+(-1){\\bf v} = \\left(\\begin{array}{c} u_1-v_1 \\\\ u_2-v_2 \\\\ \\vdots \\\\ u_n-v_n \\end{array} \\right)$\n"
   ]
  },
  {
   "cell_type": "markdown",
   "metadata": {},
   "source": [
    "### ベクトルの線形結合\n",
    "\n",
    "有限個のベクトル${\\bf v}_1,{\\bf v}_2,\\dots,{\\bf v}_m$に対して，スカラー$c_1,c_2,\\dots,c_m$を用いて\n",
    "$c_1{\\bf v}_1+c_2{\\bf v}_2+\\dots+c_m{\\bf v}_m$\n",
    "をベクトルの線形結合と言います．\n",
    "各ベクトルを\n",
    "\n",
    "${\\bf v}_i = \\left(\\begin{array}{c} v_{i1} \\\\ v_{i2} \\\\ \\vdots \\\\ v_{in} \\end{array} \\right)$\n",
    "\n",
    "としたとき，\n",
    "\n",
    "$c_1{\\bf v}_1+c_2{\\bf v}_2+\\dots+c_m{\\bf v}_m =\n",
    "\\left(\\begin{array}{c}\n",
    "c_1v_{11}+c_2v_{21}+\\dots+c_mv_{m1} \\\\\n",
    "c_1v_{12}+c_2v_{22}+\\dots+c_mv_{m2} \\\\ \\vdots \\\\\n",
    "c_1v_{1n}+c_2v_{2n}+\\dots+c_mv_{mn} \\end{array} \\right)$\n",
    "\n",
    "となります．"
   ]
  },
  {
   "cell_type": "markdown",
   "metadata": {},
   "source": [
    "*****\n",
    "## ベクトル演算の実際\n",
    "\n",
    "それではベクトルの演算を具体的な例で確認してみましょう．\n",
    "Pythonでの計算のために配列計算ライブラリーNumPyをimportします．\n",
    "\n",
    "> <font color=green>import</font> numpy <font color=green>as</font> np"
   ]
  },
  {
   "cell_type": "code",
   "execution_count": 1,
   "metadata": {},
   "outputs": [],
   "source": [
    "import numpy as np"
   ]
  },
  {
   "cell_type": "markdown",
   "metadata": {},
   "source": [
    "まずはベクトルのスカラー倍について計算します．\n",
    "スカラー：$k=3$および，ベクトル：${\\bf v} = \\left(\\begin{array}{c} 9 \\\\ -3 \\\\ 6 \\end{array} \\right)$とした場合に$k{\\bf v}$を計算します．\n",
    "\n",
    "$k{\\bf v} = 3 \\left(\\begin{array}{c} 9 \\\\ -3 \\\\ 6 \\end{array} \\right) \n",
    "= \\left(\\begin{array}{c} 3\\times9 \\\\ 3\\times(-3) \\\\ 3\\times6 \\end{array} \\right)\n",
    "= \\left(\\begin{array}{c} 27 \\\\ -9 \\\\ 18 \\end{array} \\right)$\n",
    "\n",
    "スカラーとベクトルの掛け算をPythonで実施する場合は，数値の掛け算と同様にアスタリスク記号による2項演算「k\\*v」と記載します．\n",
    "まずはスカラー変数kとベクトル変数vを定義します．そしてベクトルのスカラー倍k\\*vを実行します．\n",
    "\n",
    "> k = 3<br>\n",
    "> v = np.array([9,-3,6])<br>\n",
    "> k\\*v"
   ]
  },
  {
   "cell_type": "code",
   "execution_count": 2,
   "metadata": {},
   "outputs": [
    {
     "data": {
      "text/plain": [
       "array([27, -9, 18])"
      ]
     },
     "execution_count": 2,
     "metadata": {},
     "output_type": "execute_result"
    }
   ],
   "source": [
    "k = 3\n",
    "v = np.array([9, -3, 6])\n",
    "k * v"
   ]
  },
  {
   "cell_type": "markdown",
   "metadata": {},
   "source": [
    "今度は，ベクトルに右からスカラーを掛けてみます．\n",
    "\n",
    "> v\\*k"
   ]
  },
  {
   "cell_type": "code",
   "execution_count": 3,
   "metadata": {},
   "outputs": [
    {
     "data": {
      "text/plain": [
       "array([27, -9, 18])"
      ]
     },
     "execution_count": 3,
     "metadata": {},
     "output_type": "execute_result"
    }
   ],
   "source": [
    "v * k"
   ]
  },
  {
   "cell_type": "markdown",
   "metadata": {},
   "source": [
    "このようにベクトルのスカラー倍は，左右どちらから掛けても同じ結果が得られることが確かめられました．\n",
    "\n",
    "次に割り算を行ってみましょう．\n",
    "スカラーをベクトルで割ることはできませんが，ベクトルをスカラーで割ることはベクトルにスカラーの逆数を掛けることで定義できます．\n",
    "実践的には，ベクトルの各成分をスカラーで割ることによって求められます．\n",
    "そこで，${\\bf v}\\div k$を計算してみます．\n",
    "\n",
    "${\\bf v}\\div k = \\left(\\begin{array}{c} 9 \\\\ -3 \\\\ 6 \\end{array} \\right) \\div3 =\n",
    "\\left(\\begin{array}{c} 9\\div3 \\\\ -3\\div3 \\\\ 6\\div3 \\end{array} \\right) =\n",
    "\\left(\\begin{array}{c} 3 \\\\ -1 \\\\ 2 \\end{array} \\right)$\n",
    "\n",
    "それではPythonで計算してみましょう．Pythonでの割り算はと「v/k」と記載します．\n",
    "\n",
    "> v/k"
   ]
  },
  {
   "cell_type": "code",
   "execution_count": 4,
   "metadata": {},
   "outputs": [
    {
     "data": {
      "text/plain": [
       "array([ 3., -1.,  2.])"
      ]
     },
     "execution_count": 4,
     "metadata": {},
     "output_type": "execute_result"
    }
   ],
   "source": [
    "v / k"
   ]
  },
  {
   "cell_type": "markdown",
   "metadata": {},
   "source": [
    "次にベクトルとベクトルの足し算について確認します．\n",
    "二つのベクトル${\\bf v}_1=\\left(\\begin{array}{c} 7 \\\\ -2 \\\\ 3 \\end{array} \\right)$および${\\bf v}_2=\\left(\\begin{array}{c} 3 \\\\ 5 \\\\ -1 \\end{array} \\right)$の和を計算します．\n",
    "\n",
    "${\\bf v}_1+{\\bf v}_2 = \n",
    "\\left(\\begin{array}{c} 7 \\\\ -2 \\\\ 3 \\end{array} \\right) + \\left(\\begin{array}{c} 3 \\\\ 5 \\\\ -1 \\end{array} \\right) =\n",
    "\\left(\\begin{array}{c} 7+3 \\\\ -2+5 \\\\ 3+(-1) \\end{array} \\right) =\n",
    "\\left(\\begin{array}{c} 10 \\\\ 3 \\\\ 2 \\end{array} \\right)$\n",
    "\n",
    "この計算をPythonで実施します．\n",
    "ベクトル変数v1,v2をNumPyの配列で定義して，足し算を行います．\n",
    "\n",
    "> v1 = np.array([7,-2,3])<br>\n",
    "> v2 = np.array([3,5,-1])<br>\n",
    "> v1 + v2"
   ]
  },
  {
   "cell_type": "code",
   "execution_count": 5,
   "metadata": {},
   "outputs": [
    {
     "data": {
      "text/plain": [
       "array([10,  3,  2])"
      ]
     },
     "execution_count": 5,
     "metadata": {},
     "output_type": "execute_result"
    }
   ],
   "source": [
    "v1 = np.array([7, -2, 3])\n",
    "v2 = np.array([3, 5, -1])\n",
    "v1 + v2"
   ]
  },
  {
   "cell_type": "markdown",
   "metadata": {},
   "source": [
    "このように定義通りに計算できます．\n",
    "次に引き算を計算してみましょう．\n",
    "\n",
    "${\\bf v}_1-{\\bf v}_2 = \n",
    "\\left(\\begin{array}{c} 7 \\\\ -2 \\\\ 3 \\end{array} \\right) - \\left(\\begin{array}{c} 3 \\\\ 5 \\\\ -1 \\end{array} \\right) =\n",
    "\\left(\\begin{array}{c} 7-3 \\\\ -2-5 \\\\ 3-(-1) \\end{array} \\right) =\n",
    "\\left(\\begin{array}{c} 4 \\\\ -7 \\\\ 4 \\end{array} \\right)$\n",
    "\n",
    "${\\bf v}_1$および${\\bf v}_2$は，前のセルで定義済みですので，そのまま使用します．\n",
    "\n",
    "> v1 - v2"
   ]
  },
  {
   "cell_type": "code",
   "execution_count": 6,
   "metadata": {},
   "outputs": [
    {
     "data": {
      "text/plain": [
       "array([ 4, -7,  4])"
      ]
     },
     "execution_count": 6,
     "metadata": {},
     "output_type": "execute_result"
    }
   ],
   "source": [
    "v1 - v2"
   ]
  },
  {
   "cell_type": "markdown",
   "metadata": {},
   "source": [
    "スカラーとベクトルに関する演算として最初に覚えるべきことはこれだけです．\n",
    "それでは，理解の定着のために演習問題に取り組みましょう．\n",
    "*****"
   ]
  }
 ],
 "metadata": {
  "kernelspec": {
   "display_name": "Python 3",
   "language": "python",
   "name": "python3"
  },
  "language_info": {
   "codemirror_mode": {
    "name": "ipython",
    "version": 3
   },
   "file_extension": ".py",
   "mimetype": "text/x-python",
   "name": "python",
   "nbconvert_exporter": "python",
   "pygments_lexer": "ipython3",
   "version": "3.8.8"
  }
 },
 "nbformat": 4,
 "nbformat_minor": 4
}
