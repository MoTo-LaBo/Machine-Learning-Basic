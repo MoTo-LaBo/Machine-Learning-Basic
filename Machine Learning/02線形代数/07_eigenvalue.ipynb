{
 "cells": [
  {
   "cell_type": "markdown",
   "metadata": {},
   "source": [
    "# 固有値と固有ベクトル\n",
    "固有値、固有ベクトルは行列を扱う際に頻繁に登場する重要な概念です。  \n",
    "人工知能では、データを要約する主成分分析という手法で用いられます。"
   ]
  },
  {
   "cell_type": "markdown",
   "metadata": {},
   "source": [
    "### 固有値、固有ベクトルとは？\n",
    "\n",
    "正方行列（行数と列数が等しい行列）$A$を考えます。  \n",
    "この行列$A$に対して、以下の関係を満たすスカラー$\\lambda$を行列$A$の**固有値**、ベクトル$ \\vec{x}$を行列$A$の**固有ベクトル**といいます。\n",
    "\n",
    "（式 1）\n",
    "$$\n",
    "A\\vec{x} = \\lambda \\vec{x}\n",
    "$$ \n",
    "\n",
    "この式から分かる通り、固有ベクトルは線形変換により各要素が固有値倍になるベクトルです。  \n",
    "\n",
    "ここで、例えば以下のような単位行列$E$を考えます。\n",
    "\n",
    "$$E = \\left(\n",
    "    \\begin{array}{cc}\n",
    "      1 & 0 \\\\\n",
    "      0 & 1 \\\\\n",
    "    \\end{array}\n",
    "  \\right) $$\n",
    "\n",
    "単位行列をかけても行列は変化しないので、（式 1）は次のように表すことができます。\n",
    "\n",
    "$$\n",
    "A\\vec{x} = \\lambda E\\vec{x}\n",
    "$$ \n",
    "\n",
    "この式の右辺を左辺に移行すると、次の式を得ることができます。\n",
    "\n",
    "（式 2）\n",
    "$$\n",
    "(A-\\lambda E)\\vec{x} = \\vec{0}\n",
    "$$ \n",
    "\n",
    "右辺が$\\vec{0}$になりますが、これは要素が全て0のベクトルを表します。  \n",
    "ここで、行列$(A-\\lambda E)$が逆行列を持つとすると、（式 2）の両辺に左から逆行列$(A-\\lambda E)^{-1}$をかけて、\n",
    "\n",
    "$$  \\begin{aligned} \\\\\n",
    "\\vec{x} &= (A-\\lambda E)^{-1}\\vec{0} \\\\\n",
    "&= \\vec{0}\n",
    "\\end{aligned} $$ \n",
    "\n",
    "となり、$\\vec{x}$は$\\vec{0}$に等しくなってしまいます。  \n",
    "この解は特に興味深くないので、行列$(A-\\lambda E)$が逆行列を持たない場合を考えます。\n",
    "\n",
    "このとき、以下の関係が満たされます。\n",
    "\n",
    "（式 3）\n",
    "$$ \\det (A-\\lambda E) = 0 $$\n",
    "\n",
    "これを行列$A$の**固有方程式**といいます。"
   ]
  },
  {
   "cell_type": "markdown",
   "metadata": {},
   "source": [
    "### 固有値、固有ベクトルを求める\n",
    "\n",
    "以下の行列$A$の固有値を計算します。 \n",
    "\n",
    "$$ A = \\left(\n",
    "    \\begin{array}{cc}\n",
    "      3 & 1 \\\\\n",
    "      2 & 4 \\\\\n",
    "    \\end{array}\n",
    "  \\right) $$\n",
    "  \n",
    "（式 3）を使って、行列$A$の固有値を次のように求めることができます。\n",
    "\n",
    "$$  \\begin{aligned} \\\\\n",
    " \\det (A-\\lambda E) &= 0 \\\\\n",
    "  \\det \\left( \\left(\n",
    "  \\begin{array}{cc}\n",
    "      3 & 1 \\\\\n",
    "      2 & 4 \\\\\n",
    "  \\end{array} \\right)\n",
    "  - \\lambda \\left(\n",
    "  \\begin{array}{cc}\n",
    "      1 & 0 \\\\\n",
    "      0 & 1 \\\\\n",
    "  \\end{array} \\right) \\right)\n",
    "    &= 0 \\\\\n",
    " \\det \\left(\n",
    "  \\begin{array}{cc}\n",
    "      3-\\lambda & 1 \\\\\n",
    "      2 & 4-\\lambda \\\\\n",
    "  \\end{array} \\right)\n",
    "    &= 0 \\\\\n",
    "(3-\\lambda)(4-\\lambda) - 1 \\times 2 &= 0 \\\\\n",
    "\\lambda^2 - 7\\lambda + 10 &= 0 \\\\\n",
    "(\\lambda - 2)(\\lambda - 5) &= 0\n",
    "\\end{aligned} $$ \n",
    "\n",
    "このとき、固有値$\\lambda$の値は2もしくは5になります。  \n",
    "\n",
    "次に、固有ベクトルを求めます。  \n",
    "以下では、$\\lambda=2$の場合と$\\lambda=5$の場合、2通りを考えます。\n",
    "\n",
    "$\\lambda=2$の場合、$\\vec{x}$を次のようにおくと、\n",
    "\n",
    "$$\\vec{x} = \\left(\n",
    "  \\begin{array}{c}\n",
    "      p \\\\\n",
    "      q \\\\\n",
    "  \\end{array} \\right) $$\n",
    "  \n",
    "固有ベクトルは（式 2）により次のように求めることができます。\n",
    " \n",
    " $$  \\begin{aligned}\n",
    " (A-2 E) \\left(\n",
    "  \\begin{array}{c}\n",
    "      p \\\\\n",
    "      q \\\\\n",
    "  \\end{array} \\right) &= \\vec{0} \\\\\n",
    "  \\left( \\begin{array}{cc}\n",
    "      3-2 & 1 \\\\\n",
    "      2 & 4-2 \\\\\n",
    "  \\end{array} \\right)\n",
    "  \\left( \\begin{array}{c}\n",
    "      p \\\\\n",
    "      q \\\\\n",
    "  \\end{array} \\right) &= \\vec{0} \\\\\n",
    "  \\left( \\begin{array}{cc}\n",
    "      1 & 1 \\\\\n",
    "      2 & 2 \\\\\n",
    "  \\end{array} \\right)\n",
    "  \\left( \\begin{array}{c}\n",
    "      p \\\\\n",
    "      q \\\\\n",
    "  \\end{array} \\right) &= \\vec{0} \\\\\n",
    "  \\left( \\begin{array}{c}\n",
    "      p + q \\\\\n",
    "      2p + 2q \\\\\n",
    "  \\end{array} \\right) &= \\vec{0} \\\\\n",
    "\\end{aligned} $$ \n",
    "\n",
    "このとき、$p+q=0$となります。  \n",
    "この条件を満たす次のようなベクトルが、$\\lambda=2$の場合の$A$の固有ベクトルになります。 \n",
    "$t$は任意の実数です。  \n",
    "\n",
    "$$\\vec{x} = \\left(\n",
    "  \\begin{array}{c}\n",
    "      t \\\\\n",
    "      -t \\\\\n",
    "  \\end{array} \\right) $$\n",
    "\n",
    "$\\lambda=5$の場合、同様にして$2p-q=0$となることを確認することができます。  \n",
    "この条件を満たす次のようなベクトルが、$\\lambda=5$の場合の$A$の固有ベクトルになります。$t$は任意の実数です。  \n",
    "\n",
    "$$\\vec{x} = \\left(\n",
    "  \\begin{array}{c}\n",
    "      t \\\\\n",
    "      2t \\\\\n",
    "  \\end{array} \\right) $$"
   ]
  },
  {
   "cell_type": "markdown",
   "metadata": {},
   "source": [
    "### 固有値と固有ベクトルの計算\n",
    "Numpyのlinalg.eig関数により、固有値と固有ベクトルを求めることができます。"
   ]
  },
  {
   "cell_type": "code",
   "execution_count": 2,
   "metadata": {},
   "outputs": [],
   "source": [
    "import numpy as np\n",
    "import sympy as sp\n",
    "sp.init_printing()"
   ]
  },
  {
   "cell_type": "code",
   "execution_count": 11,
   "metadata": {},
   "outputs": [
    {
     "name": "stdout",
     "output_type": "stream",
     "text": [
      "a行列:\n",
      "\n",
      "[[3 1]\n",
      " [2 4]]\n",
      "\n"
     ]
    },
    {
     "data": {
      "text/latex": [
       "$\\displaystyle \\left[\\begin{matrix}3 & 1\\\\2 & 4\\end{matrix}\\right]$"
      ],
      "text/plain": [
       "⎡3  1⎤\n",
       "⎢    ⎥\n",
       "⎣2  4⎦"
      ]
     },
     "metadata": {},
     "output_type": "display_data"
    },
    {
     "name": "stdout",
     "output_type": "stream",
     "text": [
      "\n",
      "固有値:\n",
      "\n",
      "[2. 5.]\n",
      "\n",
      "固有ベクトル:\n",
      "\n",
      ":[[-0.70710678 -0.4472136 ]\n",
      " [ 0.70710678 -0.89442719]]\n",
      "\n"
     ]
    },
    {
     "data": {
      "image/png": "[encoded data removed]",
      "text/latex": [
       "$\\displaystyle \\left\\{ 2 : 1, \\  5 : 1\\right\\}$"
      ],
      "text/plain": [
       "{2: 1, 5: 1}"
      ]
     },
     "metadata": {},
     "output_type": "display_data"
    },
    {
     "data": {
      "text/latex": [
       "$\\displaystyle \\left[ \\left( 2, \\  1, \\  \\left[ \\left[\\begin{matrix}-1\\\\1\\end{matrix}\\right]\\right]\\right), \\  \\left( 5, \\  1, \\  \\left[ \\left[\\begin{matrix}\\frac{1}{2}\\\\1\\end{matrix}\\right]\\right]\\right)\\right]$"
      ],
      "text/plain": [
       "⎡⎛      ⎡⎡-1⎤⎤⎞  ⎛      ⎡⎡1/2⎤⎤⎞⎤\n",
       "⎢⎜2, 1, ⎢⎢  ⎥⎥⎟, ⎜5, 1, ⎢⎢   ⎥⎥⎟⎥\n",
       "⎣⎝      ⎣⎣1 ⎦⎦⎠  ⎝      ⎣⎣ 1 ⎦⎦⎠⎦"
      ]
     },
     "metadata": {},
     "output_type": "display_data"
    }
   ],
   "source": [
    "a = np.array([[3, 1],\n",
    "              [2, 4]])\n",
    "\n",
    "mat1 = sp.Matrix(a)\n",
    "\n",
    "print(f'a行列:\\n\\n{a}\\n')\n",
    "display(mat1)\n",
    "\n",
    "ev = np.linalg.eig(a)\n",
    "\n",
    "\n",
    "\n",
    "print(f'\\n固有値:\\n\\n{ev[0]}\\n\\n固有ベクトル:\\n\\n:{ev[1]}\\n')\n",
    "mat2 = mat1.eigenvals()\n",
    "mat3 = mat1.eigenvects()\n",
    "display(mat2, mat3)"
   ]
  },
  {
   "cell_type": "markdown",
   "metadata": {},
   "source": [
    "linalg.eig関数の結果は2つの配列で、最初の配列が固有値を含み、次の配列が固有ベクトルを含みます。  \n",
    "固有ベクトルは行列の各列で表され、長さが1の単位ベクトルになります。"
   ]
  },
  {
   "cell_type": "markdown",
   "metadata": {},
   "source": [
    "### 演習:\n",
    "以下のセルで、行列aの固有値と固有ベクトルを求めましょう。"
   ]
  },
  {
   "cell_type": "code",
   "execution_count": 12,
   "metadata": {},
   "outputs": [
    {
     "name": "stdout",
     "output_type": "stream",
     "text": [
      "a行列:\n",
      "\n",
      "[[-2  4]\n",
      " [-1  3]]\n",
      "\n"
     ]
    },
    {
     "data": {
      "text/latex": [
       "$\\displaystyle \\left[\\begin{matrix}-2 & 4\\\\-1 & 3\\end{matrix}\\right]$"
      ],
      "text/plain": [
       "⎡-2  4⎤\n",
       "⎢     ⎥\n",
       "⎣-1  3⎦"
      ]
     },
     "metadata": {},
     "output_type": "display_data"
    },
    {
     "name": "stdout",
     "output_type": "stream",
     "text": [
      "\n",
      "固有値:\n",
      "\n",
      "[-1.  2.]\n",
      "\n",
      "固有ベクトル:\n",
      "\n",
      ":[[-0.9701425  -0.70710678]\n",
      " [-0.24253563 -0.70710678]]\n",
      "\n"
     ]
    },
    {
     "data": {
      "image/png": "[encoded data removed]",
      "text/latex": [
       "$\\displaystyle \\left\\{ -1 : 1, \\  2 : 1\\right\\}$"
      ],
      "text/plain": [
       "{-1: 1, 2: 1}"
      ]
     },
     "metadata": {},
     "output_type": "display_data"
    },
    {
     "data": {
      "text/latex": [
       "$\\displaystyle \\left[ \\left( -1, \\  1, \\  \\left[ \\left[\\begin{matrix}4\\\\1\\end{matrix}\\right]\\right]\\right), \\  \\left( 2, \\  1, \\  \\left[ \\left[\\begin{matrix}1\\\\1\\end{matrix}\\right]\\right]\\right)\\right]$"
      ],
      "text/plain": [
       "⎡⎛       ⎡⎡4⎤⎤⎞  ⎛      ⎡⎡1⎤⎤⎞⎤\n",
       "⎢⎜-1, 1, ⎢⎢ ⎥⎥⎟, ⎜2, 1, ⎢⎢ ⎥⎥⎟⎥\n",
       "⎣⎝       ⎣⎣1⎦⎦⎠  ⎝      ⎣⎣1⎦⎦⎠⎦"
      ]
     },
     "metadata": {},
     "output_type": "display_data"
    }
   ],
   "source": [
    "a = np.array([[-2, 4],\n",
    "              [-1, 3]])\n",
    "\n",
    "mat1 = sp.Matrix(a)\n",
    "\n",
    "print(f'a行列:\\n\\n{a}\\n')\n",
    "display(mat1)\n",
    "\n",
    "ev = np.linalg.eig(a)\n",
    "\n",
    "print(f'\\n固有値:\\n\\n{ev[0]}\\n\\n固有ベクトル:\\n\\n:{ev[1]}\\n')\n",
    "mat2 = mat1.eigenvals()\n",
    "mat3 = mat1.eigenvects()\n",
    "display(mat2, mat3)\n"
   ]
  },
  {
   "cell_type": "code",
   "execution_count": null,
   "metadata": {},
   "outputs": [],
   "source": []
  }
 ],
 "metadata": {
  "kernelspec": {
   "display_name": "Python 3",
   "language": "python",
   "name": "python3"
  },
  "language_info": {
   "codemirror_mode": {
    "name": "ipython",
    "version": 3
   },
   "file_extension": ".py",
   "mimetype": "text/x-python",
   "name": "python",
   "nbconvert_exporter": "python",
   "pygments_lexer": "ipython3",
   "version": "3.8.8"
  }
 },
 "nbformat": 4,
 "nbformat_minor": 4
}
