{
 "cells": [
  {
   "cell_type": "markdown",
   "metadata": {},
   "source": [
    "# 行列式と逆行列\n",
    "行列式を使うことにより、行列の「逆行列」を求めることができます。逆行列を使えば、行列の方程式を解くことなどが可能になります。"
   ]
  },
  {
   "cell_type": "markdown",
   "metadata": {},
   "source": [
    "### 単位行列とは？\n",
    "\n",
    "**単位行列**は、以下のような行列のことです。  \n",
    "\n",
    "$$\n",
    "E = \\left(\n",
    "    \\begin{array}{cc}\n",
    "      1 & 0 \\\\\n",
    "      0 & 1 \\\\\n",
    "    \\end{array}\n",
    "  \\right) \n",
    "$$ \n",
    "\n",
    "このように、単位行列では左上から右下に1が並び、その他の要素は0になります。  \n",
    "上記は$2\\times 2$の単位行列になります。  \n",
    "\n",
    "以下に示すように、単位行列には行列の前後に行列積でかけても行列を変化させない、という特徴があります。\n",
    "$$  \\begin{aligned} \\\\\n",
    "   A & = \\left(\n",
    "    \\begin{array}{ccc}\n",
    "      a & b \\\\\n",
    "      c & d \\\\\n",
    "    \\end{array}\n",
    "  \\right) \\\\\n",
    "   EA & = \\left(\n",
    "    \\begin{array}{ccc}\n",
    "      a & b \\\\\n",
    "      c & d \\\\\n",
    "    \\end{array}\n",
    "  \\right) \\\\\n",
    "  AE & = \\left(\n",
    "    \\begin{array}{ccc}\n",
    "      a & b \\\\\n",
    "      c & d \\\\\n",
    "    \\end{array}\n",
    "  \\right) \\\\\n",
    "\\end{aligned} $$ "
   ]
  },
  {
   "cell_type": "markdown",
   "metadata": {},
   "source": [
    "### 単位行列の実装\n",
    "NumPyにおいては、eye()関数により単位行列を作成することができます。"
   ]
  },
  {
   "cell_type": "code",
   "execution_count": 1,
   "metadata": {},
   "outputs": [],
   "source": [
    "import numpy as np\n",
    "import sympy as sp\n",
    "sp.init_printing()"
   ]
  },
  {
   "cell_type": "code",
   "execution_count": 3,
   "metadata": {},
   "outputs": [
    {
     "name": "stdout",
     "output_type": "stream",
     "text": [
      "単位行列:\n",
      "\n",
      "[[1. 0.]\n",
      " [0. 1.]]\n",
      "\n"
     ]
    },
    {
     "data": {
      "text/latex": [
       "$\\displaystyle \\left[\\begin{matrix}1 & 0\\\\0 & 1\\end{matrix}\\right]$"
      ],
      "text/plain": [
       "⎡1  0⎤\n",
       "⎢    ⎥\n",
       "⎣0  1⎦"
      ]
     },
     "metadata": {},
     "output_type": "display_data"
    }
   ],
   "source": [
    "# eye は単位行列を表す\n",
    "mat1 = sp.eye(2)\n",
    "\n",
    "print(f'単位行列:\\n\\n{np.eye(2)}\\n')\n",
    "display(mat1)"
   ]
  },
  {
   "cell_type": "markdown",
   "metadata": {},
   "source": [
    "### 逆行列とは？\n",
    "以下に例を示すように、ある数値とその逆数をかけると1になります。 \n",
    "\n",
    "$$3\\times \\frac{1}{3} = 1$$\n",
    "$$21\\times \\frac{1}{21} = 1$$\n",
    "\n",
    "逆数と同じように、行列にもかけると単位行列になる行列が存在することがあります。  \n",
    "このような行列を、**逆行列**といいます。  \n",
    "行列$A$の逆行列を$A^{-1}$と表すと、$A$と$A^{-1}$の関係を以下のように表すことができます。\n",
    "\n",
    "$$A^{-1}A=AA^{-1}=E$$\n",
    "\n",
    "この場合、$A$は行と列の数が等しい**正方行列**である必要があります。\n",
    "\n",
    "例えば以下の2つの行列はどの順番で行列積を計算しても単位行列になるので、お互いに逆行列の関係になります。\n",
    "\n",
    "$$C = \\left(\n",
    "    \\begin{array}{ccc}\n",
    "      1 & 1 \\\\\n",
    "      1 & 2 \\\\\n",
    "    \\end{array}\n",
    "  \\right)\n",
    "D = \\left(\n",
    "    \\begin{array}{ccc}\n",
    "      2 & -1 \\\\\n",
    "      -1 & 1 \\\\\n",
    "    \\end{array}\n",
    "  \\right)  \n",
    "$$\n",
    "\n",
    "$$\n",
    "CD = DC = \\left(\n",
    "    \\begin{array}{ccc}\n",
    "      1 & 0 \\\\\n",
    "      0 & 1 \\\\\n",
    "    \\end{array}\n",
    "  \\right)  \n",
    "$$"
   ]
  },
  {
   "cell_type": "markdown",
   "metadata": {},
   "source": [
    "### 行列式\n",
    "行列によっては、逆行列が存在しない場合があります。逆行列が存在するかどうかは、**行列式**により判定することができます。  \n",
    "以下の行列を考えます。\n",
    "\n",
    "$$A = \\left(\n",
    "    \\begin{array}{ccc}\n",
    "      a & b \\\\\n",
    "      c & d \\\\\n",
    "    \\end{array}\n",
    "  \\right) $$\n",
    "\n",
    "行列式は$|A|$もしくは$\\det A$と表されますが、以下の式で表されます。  \n",
    "\n",
    "$$|A| = \\det A = ad-bc$$\n",
    "\n",
    "この行列式が0である場合、逆行列は存在しません。\n",
    "\n",
    "例えば以下の行列は$1\\times 4 - 2\\times 3 = -2$なので逆行列が存在します。  \n",
    "\n",
    "$$A = \\left(\n",
    "    \\begin{array}{ccc}\n",
    "      1 & 2 \\\\\n",
    "      3 & 4 \\\\\n",
    "    \\end{array}\n",
    "  \\right) $$\n",
    "  \n",
    "一方、以下の行列は$1\\times 0 - 2\\times 0 = 0$なので逆行列が存在しません。\n",
    "\n",
    "$$A = \\left(\n",
    "    \\begin{array}{ccc}\n",
    "      1 & 2 \\\\\n",
    "      0 & 0 \\\\\n",
    "    \\end{array}\n",
    "  \\right) $$\n",
    "  \n",
    "逆行列が存在する場合、以下の公式により逆行列を求めることができます。\n",
    "\n",
    "$$A^{-1} = \\frac{1}{ad-bc}\\left(\n",
    "    \\begin{array}{ccc}\n",
    "      d & -b \\\\\n",
    "      -c & a \\\\\n",
    "    \\end{array}\n",
    "  \\right) $$"
   ]
  },
  {
   "cell_type": "markdown",
   "metadata": {},
   "source": [
    "### 行列式の実装\n",
    "Numpyのlinalg.det関数により、行列式を求めることができます。"
   ]
  },
  {
   "cell_type": "code",
   "execution_count": 20,
   "metadata": {},
   "outputs": [
    {
     "name": "stdout",
     "output_type": "stream",
     "text": [
      "行列式が0である場合、逆行列は存在しない\n",
      "\n",
      "a行列:\n",
      "\n",
      "[[1 2]\n",
      " [3 4]]\n",
      "\n",
      "aの行列式: -2.0000000000000004\n",
      "\n"
     ]
    },
    {
     "data": {
      "text/latex": [
       "$\\displaystyle \\left[\\begin{matrix}1 & 2\\\\3 & 4\\end{matrix}\\right]$"
      ],
      "text/plain": [
       "⎡1  2⎤\n",
       "⎢    ⎥\n",
       "⎣3  4⎦"
      ]
     },
     "metadata": {},
     "output_type": "display_data"
    },
    {
     "data": {
      "image/png": "[encoded data removed]",
      "text/latex": [
       "$\\displaystyle -2$"
      ],
      "text/plain": [
       "-2"
      ]
     },
     "metadata": {},
     "output_type": "display_data"
    },
    {
     "name": "stdout",
     "output_type": "stream",
     "text": [
      "\n",
      "行列式が0である場合、逆行列は存在しない\n",
      "\n",
      "b行列:\n",
      "\n",
      "[[1 2]\n",
      " [0 0]]\n",
      "\n",
      "aの行列式: 0.0\n",
      "\n"
     ]
    },
    {
     "data": {
      "text/latex": [
       "$\\displaystyle \\left[\\begin{matrix}1 & 2\\\\0 & 0\\end{matrix}\\right]$"
      ],
      "text/plain": [
       "⎡1  2⎤\n",
       "⎢    ⎥\n",
       "⎣0  0⎦"
      ]
     },
     "metadata": {},
     "output_type": "display_data"
    },
    {
     "data": {
      "image/png": "[encoded data removed]",
      "text/latex": [
       "$\\displaystyle 0$"
      ],
      "text/plain": [
       "0"
      ]
     },
     "metadata": {},
     "output_type": "display_data"
    }
   ],
   "source": [
    "a = np.array([[1, 2],\n",
    "             [3, 4]])\n",
    "\n",
    "mat1 = sp.Matrix(a)\n",
    "mat1_d = sp.det(mat1)\n",
    "\n",
    "print(f'行列式が0である場合、逆行列は存在しない\\n')\n",
    "print(f'a行列:\\n\\n{a}\\n\\naの行列式: {np.linalg.det(a)}\\n')\n",
    "display(mat1, mat1_d)\n",
    "\n",
    "b = np.array([[1, 2],\n",
    "             [0, 0]])\n",
    "\n",
    "mat2 = sp.Matrix(b)\n",
    "mat2_d = sp.det(mat2)\n",
    "\n",
    "print(f'\\n行列式が0である場合、逆行列は存在しない\\n')\n",
    "print(f'b行列:\\n\\n{b}\\n\\naの行列式: {np.linalg.det(b)}\\n')\n",
    "display(mat2, mat2_d)\n",
    "\n"
   ]
  },
  {
   "cell_type": "markdown",
   "metadata": {},
   "source": [
    "### 逆行列の実装\n",
    "逆行列が存在する場合、NumPyのlinalg.inv関数により逆行列を求めることができます。"
   ]
  },
  {
   "cell_type": "code",
   "execution_count": 19,
   "metadata": {},
   "outputs": [
    {
     "name": "stdout",
     "output_type": "stream",
     "text": [
      "\n",
      "行列式が0である場合、逆行列は存在しない\n",
      "\n",
      "a行列:\n",
      "\n",
      "[[1 2]\n",
      " [3 4]]\n",
      "\n",
      "a行列式： -2.0000000000000004\n",
      "\n",
      "aの逆行列:\n",
      "\n",
      "[[-2.   1. ]\n",
      " [ 1.5 -0.5]]\n",
      "\n"
     ]
    },
    {
     "data": {
      "text/latex": [
       "$\\displaystyle \\left[\\begin{matrix}1 & 2\\\\3 & 4\\end{matrix}\\right]$"
      ],
      "text/plain": [
       "⎡1  2⎤\n",
       "⎢    ⎥\n",
       "⎣3  4⎦"
      ]
     },
     "metadata": {},
     "output_type": "display_data"
    },
    {
     "data": {
      "image/png": "[encoded data removed]",
      "text/latex": [
       "$\\displaystyle -2$"
      ],
      "text/plain": [
       "-2"
      ]
     },
     "metadata": {},
     "output_type": "display_data"
    },
    {
     "data": {
      "text/latex": [
       "$\\displaystyle \\left[\\begin{matrix}-2 & 1\\\\\\frac{3}{2} & - \\frac{1}{2}\\end{matrix}\\right]$"
      ],
      "text/plain": [
       "⎡-2    1  ⎤\n",
       "⎢         ⎥\n",
       "⎣3/2  -1/2⎦"
      ]
     },
     "metadata": {},
     "output_type": "display_data"
    }
   ],
   "source": [
    "a = np.array([[1, 2],\n",
    "             [3, 4]])\n",
    "\n",
    "mat1 = sp.Matrix(a)\n",
    "mat1_d = sp.det(mat1)\n",
    "mat1_i = mat1.inv()\n",
    "\n",
    "print(f'\\n行列式が0である場合、逆行列は存在しない\\n')\n",
    "print(f'a行列:\\n\\n{a}\\n\\na行列式： {np.linalg.det(a)}\\n\\naの逆行列:\\n\\n{np.linalg.inv(a)}\\n')\n",
    "display(mat1, mat1_d,  mat1_i)"
   ]
  },
  {
   "cell_type": "markdown",
   "metadata": {},
   "source": [
    "より行数、列数の多い正方行列に対して逆行列を手計算する場合は、吐き出し法、余因子法などを用いますが、少々複雑になります。  \n",
    "このような場合でも、NumPyのlinalg.inv関数を使えば簡単に逆行列を求めることができます。  \n",
    "\n",
    "逆行列は、人工知能において変数同士の相関関係を調べる回帰分析に使われます。"
   ]
  },
  {
   "cell_type": "markdown",
   "metadata": {},
   "source": [
    "### 演習:\n",
    "以下のセルで行列aの行列式を求め、逆行列が存在する場合は逆行列を求めましょう。"
   ]
  },
  {
   "cell_type": "code",
   "execution_count": 22,
   "metadata": {},
   "outputs": [
    {
     "name": "stdout",
     "output_type": "stream",
     "text": [
      "\n",
      "行列式が0である場合、逆行列は存在しない\n",
      "\n",
      "a行列:\n",
      "\n",
      "[[1 1]\n",
      " [1 2]]\n",
      "\n",
      "a行列式: 1.0\n",
      "\n"
     ]
    },
    {
     "data": {
      "text/latex": [
       "$\\displaystyle \\left[\\begin{matrix}1 & 1\\\\1 & 2\\end{matrix}\\right]$"
      ],
      "text/plain": [
       "⎡1  1⎤\n",
       "⎢    ⎥\n",
       "⎣1  2⎦"
      ]
     },
     "metadata": {},
     "output_type": "display_data"
    },
    {
     "data": {
      "image/png": "[encoded data removed]",
      "text/latex": [
       "$\\displaystyle 1$"
      ],
      "text/plain": [
       "1"
      ]
     },
     "metadata": {},
     "output_type": "display_data"
    },
    {
     "name": "stdout",
     "output_type": "stream",
     "text": [
      "\n",
      "aの逆行列:\n",
      "\n",
      "[[ 2. -1.]\n",
      " [-1.  1.]]\n",
      "\n"
     ]
    },
    {
     "data": {
      "text/latex": [
       "$\\displaystyle \\left[\\begin{matrix}2 & -1\\\\-1 & 1\\end{matrix}\\right]$"
      ],
      "text/plain": [
       "⎡2   -1⎤\n",
       "⎢      ⎥\n",
       "⎣-1  1 ⎦"
      ]
     },
     "metadata": {},
     "output_type": "display_data"
    }
   ],
   "source": [
    "import numpy as np\n",
    "\n",
    "a = np.array([[1, 1],\n",
    "              [1, 2]])\n",
    "\n",
    "mat1 = sp.Matrix(a)\n",
    "mat1_d = mat1.det()\n",
    "mat1_i = mat1.inv()\n",
    "\n",
    "print(f'\\n行列式が0である場合、逆行列は存在しない\\n')\n",
    "print(f'a行列:\\n\\n{a}\\n\\na行列式: {np.linalg.det(a)}\\n')\n",
    "display(mat1, mat1_d)\n",
    "\n",
    "\n",
    "# 逆行列\n",
    "print(f'\\naの逆行列:\\n\\n{np.linalg.inv(a)}\\n')\n",
    "display(mat1_i)"
   ]
  },
  {
   "cell_type": "code",
   "execution_count": null,
   "metadata": {
    "collapsed": true,
    "jupyter": {
     "outputs_hidden": true
    }
   },
   "outputs": [],
   "source": []
  }
 ],
 "metadata": {
  "kernelspec": {
   "display_name": "Python 3",
   "language": "python",
   "name": "python3"
  },
  "language_info": {
   "codemirror_mode": {
    "name": "ipython",
    "version": 3
   },
   "file_extension": ".py",
   "mimetype": "text/x-python",
   "name": "python",
   "nbconvert_exporter": "python",
   "pygments_lexer": "ipython3",
   "version": "3.8.8"
  }
 },
 "nbformat": 4,
 "nbformat_minor": 4
}
