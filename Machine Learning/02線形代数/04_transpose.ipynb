{
 "cells": [
  {
   "cell_type": "markdown",
   "metadata": {},
   "source": [
    "# 転置\n",
    "転置により、行列の行と列を入れ替えます。人工知能のコードでは転置を頻繁に使います。"
   ]
  },
  {
   "cell_type": "markdown",
   "metadata": {},
   "source": [
    "### 転置とは？\n",
    "\n",
    "行列に対する重要な操作に、**転置**というものがあります。行列を転置することにより、行と列が入れ替わります。以下は転置の例ですが、例えば行列$A$の転置行列は$A^{\\mathrm{T}}$と表します。  \n",
    "\n",
    "$$  \\begin{aligned} \\\\\n",
    "   A & = \\left(\n",
    "    \\begin{array}{ccc}\n",
    "      1 & 2 & 3 \\\\\n",
    "      4 & 5 & 6 \\\\\n",
    "    \\end{array}\n",
    "  \\right) \\\\\n",
    "   A^{\\mathrm{T}} & = \\left(\n",
    "    \\begin{array}{cc}\n",
    "      1 & 4 \\\\\n",
    "      2 & 5 \\\\\n",
    "      3 & 6 \\\\\n",
    "    \\end{array}\n",
    "  \\right) \\\\\n",
    "\\end{aligned} $$ \n",
    "\n",
    "$$  \\begin{aligned} \\\\\n",
    "   B & = \\left(\n",
    "    \\begin{array}{cc}\n",
    "      a & b \\\\\n",
    "      c & d \\\\\n",
    "      e & f \\\\\n",
    "    \\end{array}\n",
    "  \\right) \\\\\n",
    "   B^{\\mathrm{T}} & = \\left(\n",
    "    \\begin{array}{ccc}\n",
    "      a & c & e \\\\\n",
    "      b & d & f \\\\\n",
    "    \\end{array}\n",
    "  \\right) \\\\\n",
    "\\end{aligned} $$ "
   ]
  },
  {
   "cell_type": "markdown",
   "metadata": {},
   "source": [
    "### 転置の実装\n",
    "Numpyにおいては、行列を表す配列名の後に`.T`を付けると転置されます。"
   ]
  },
  {
   "cell_type": "code",
   "execution_count": 2,
   "metadata": {},
   "outputs": [],
   "source": [
    "import numpy as np\n",
    "import sympy as sp\n",
    "sp.init_printing()"
   ]
  },
  {
   "cell_type": "code",
   "execution_count": 5,
   "metadata": {},
   "outputs": [
    {
     "name": "stdout",
     "output_type": "stream",
     "text": [
      "a の行列:\n",
      "[[1 2 3]\n",
      " [4 5 6]]\n",
      "\n",
      "a の転置行列:\n",
      "[[1 4]\n",
      " [2 5]\n",
      " [3 6]]\n",
      "\n"
     ]
    },
    {
     "data": {
      "text/latex": [
       "$\\displaystyle \\left[\\begin{matrix}1 & 2 & 3\\\\4 & 5 & 6\\end{matrix}\\right]$"
      ],
      "text/plain": [
       "⎡1  2  3⎤\n",
       "⎢       ⎥\n",
       "⎣4  5  6⎦"
      ]
     },
     "metadata": {},
     "output_type": "display_data"
    },
    {
     "data": {
      "text/latex": [
       "$\\displaystyle \\left[\\begin{matrix}1 & 4\\\\2 & 5\\\\3 & 6\\end{matrix}\\right]$"
      ],
      "text/plain": [
       "⎡1  4⎤\n",
       "⎢    ⎥\n",
       "⎢2  5⎥\n",
       "⎢    ⎥\n",
       "⎣3  6⎦"
      ]
     },
     "metadata": {},
     "output_type": "display_data"
    }
   ],
   "source": [
    "a = np.array([[1, 2, 3],\n",
    "             [4, 5, 6]])\n",
    "\n",
    "mat1 = sp.Matrix(a)\n",
    "\n",
    "print(f'a の行列:\\n{a}\\n\\na の転置行列:\\n{a.T}\\n')\n",
    "display(mat1, mat1.T)"
   ]
  },
  {
   "cell_type": "markdown",
   "metadata": {},
   "source": [
    "### 行列積と転置\n",
    "行列積においては、基本的に前の行列の列数と、後ろの行列の行数が一致する必要があります。しかしながら、一致しなくても転置により行列積が可能になる場合があります。  \n",
    "下の図のようなl$\\times$nの行列$A$と、m$\\times$nの行列$B$を考えます。$n\\neq m$とします。\n",
    "\n",
    "<img src=\"images/product_impossible.png\">\n",
    "\n",
    "この場合は、行列$A$の列数がnであり、行列$B$の行数がmで等しくないので、行列積はできません。しかしながら、行列$B$を転置することにより、下の図で示すように行列積が可能になります。\n",
    "\n",
    "<img src=\"images/product_possible.png\">\n",
    "\n",
    "行列$A$の列数と、行列$B^{\\mathrm{T}}$の行数が等しくなり、行列積が計算できるようになりました。  "
   ]
  },
  {
   "cell_type": "markdown",
   "metadata": {},
   "source": [
    "### 転置と行列積の実装\n",
    "以下は、Numpyの配列を転置し、行列積を計算している例です。配列名のあとに```.T```をつけると、転置行列になります。"
   ]
  },
  {
   "cell_type": "code",
   "execution_count": 11,
   "metadata": {},
   "outputs": [
    {
     "name": "stdout",
     "output_type": "stream",
     "text": [
      "a行列:\n",
      "\n",
      "[[1 2 3]\n",
      " [4 5 6]]\n",
      "\n"
     ]
    },
    {
     "data": {
      "text/latex": [
       "$\\displaystyle \\left[\\begin{matrix}1 & 2 & 3\\\\4 & 5 & 6\\end{matrix}\\right]$"
      ],
      "text/plain": [
       "⎡1  2  3⎤\n",
       "⎢       ⎥\n",
       "⎣4  5  6⎦"
      ]
     },
     "metadata": {},
     "output_type": "display_data"
    },
    {
     "name": "stdout",
     "output_type": "stream",
     "text": [
      "\n",
      "b行列:\n",
      "\n",
      "[[1 2 3]\n",
      " [4 5 6]]\n",
      "\n",
      "bの転置行列:\n",
      "\n",
      "[[1 4]\n",
      " [2 5]\n",
      " [3 6]]\n",
      "\n"
     ]
    },
    {
     "data": {
      "text/latex": [
       "$\\displaystyle \\left[\\begin{matrix}1 & 2 & 3\\\\4 & 5 & 6\\end{matrix}\\right]$"
      ],
      "text/plain": [
       "⎡1  2  3⎤\n",
       "⎢       ⎥\n",
       "⎣4  5  6⎦"
      ]
     },
     "metadata": {},
     "output_type": "display_data"
    },
    {
     "data": {
      "text/latex": [
       "$\\displaystyle \\left[\\begin{matrix}1 & 4\\\\2 & 5\\\\3 & 6\\end{matrix}\\right]$"
      ],
      "text/plain": [
       "⎡1  4⎤\n",
       "⎢    ⎥\n",
       "⎢2  5⎥\n",
       "⎢    ⎥\n",
       "⎣3  6⎦"
      ]
     },
     "metadata": {},
     "output_type": "display_data"
    },
    {
     "name": "stdout",
     "output_type": "stream",
     "text": [
      "\n",
      "a行列, bの転置行列積:\n",
      "\n",
      "[[14 32]\n",
      " [32 77]]\n",
      "\n"
     ]
    },
    {
     "data": {
      "text/latex": [
       "$\\displaystyle \\left[\\begin{matrix}14 & 32\\\\32 & 77\\end{matrix}\\right]$"
      ],
      "text/plain": [
       "⎡14  32⎤\n",
       "⎢      ⎥\n",
       "⎣32  77⎦"
      ]
     },
     "metadata": {},
     "output_type": "display_data"
    }
   ],
   "source": [
    "a = np.array([[1, 2, 3],\n",
    "             [4, 5, 6]])\n",
    "\n",
    "mat1 = sp.Matrix(a)\n",
    "\n",
    "print(f'a行列:\\n\\n{a}\\n')\n",
    "display(mat1)\n",
    "\n",
    "b = np.array([[1, 2, 3],\n",
    "             [4, 5, 6]])\n",
    "\n",
    "mat2 = sp.Matrix(b)\n",
    "mat2_t = mat2.T\n",
    "\n",
    "print(f'\\nb行列:\\n\\n{b}\\n\\nbの転置行列:\\n\\n{b.T}\\n')\n",
    "display(mat2, mat2_t)\n",
    "\n",
    "mat3 = mat1 * mat2.T\n",
    "\n",
    "\n",
    "# b = b.T\n",
    "print(f'\\na行列, bの転置行列積:\\n\\n{np.dot(a, b.T)}\\n')\n",
    "display(mat3)"
   ]
  },
  {
   "cell_type": "markdown",
   "metadata": {},
   "source": [
    "上記のコードでは、行列`b`を転置することで行数が3になり、行列`a`の列数と一致するので行列積が可能になっています。  "
   ]
  },
  {
   "cell_type": "markdown",
   "metadata": {},
   "source": [
    "### 演習:\n",
    "以下のセルで行列aもしくは行列bを転置し、行列aと行列bの行列積を計算しましょう。"
   ]
  },
  {
   "cell_type": "code",
   "execution_count": 17,
   "metadata": {},
   "outputs": [
    {
     "name": "stdout",
     "output_type": "stream",
     "text": [
      "a行列:\n",
      "\n",
      "[[0 1 2]\n",
      " [1 2 3]]\n",
      "\n"
     ]
    },
    {
     "data": {
      "text/latex": [
       "$\\displaystyle \\left[\\begin{matrix}0 & 1 & 2\\\\1 & 2 & 3\\end{matrix}\\right]$"
      ],
      "text/plain": [
       "⎡0  1  2⎤\n",
       "⎢       ⎥\n",
       "⎣1  2  3⎦"
      ]
     },
     "metadata": {},
     "output_type": "display_data"
    },
    {
     "name": "stdout",
     "output_type": "stream",
     "text": [
      "\n",
      "bの行列:\n",
      "\n",
      "[[0 1 2]\n",
      " [2 3 4]]\n",
      "\n"
     ]
    },
    {
     "data": {
      "text/latex": [
       "$\\displaystyle \\left[\\begin{matrix}0 & 1 & 2\\\\2 & 3 & 4\\end{matrix}\\right]$"
      ],
      "text/plain": [
       "⎡0  1  2⎤\n",
       "⎢       ⎥\n",
       "⎣2  3  4⎦"
      ]
     },
     "metadata": {},
     "output_type": "display_data"
    },
    {
     "name": "stdout",
     "output_type": "stream",
     "text": [
      "\n",
      "aを転置:\n",
      "\n",
      "[[0 1]\n",
      " [1 2]\n",
      " [2 3]]\n",
      "\n"
     ]
    },
    {
     "data": {
      "text/latex": [
       "$\\displaystyle \\left[\\begin{matrix}0 & 1\\\\1 & 2\\\\2 & 3\\end{matrix}\\right]$"
      ],
      "text/plain": [
       "⎡0  1⎤\n",
       "⎢    ⎥\n",
       "⎢1  2⎥\n",
       "⎢    ⎥\n",
       "⎣2  3⎦"
      ]
     },
     "metadata": {},
     "output_type": "display_data"
    },
    {
     "name": "stdout",
     "output_type": "stream",
     "text": [
      "\n",
      "abの行列積\n",
      "\n",
      "[[ 2  3  4]\n",
      " [ 4  7 10]\n",
      " [ 6 11 16]]\n",
      "\n"
     ]
    },
    {
     "data": {
      "text/latex": [
       "$\\displaystyle \\left[\\begin{matrix}2 & 3 & 4\\\\4 & 7 & 10\\\\6 & 11 & 16\\end{matrix}\\right]$"
      ],
      "text/plain": [
       "⎡2  3   4 ⎤\n",
       "⎢         ⎥\n",
       "⎢4  7   10⎥\n",
       "⎢         ⎥\n",
       "⎣6  11  16⎦"
      ]
     },
     "metadata": {},
     "output_type": "display_data"
    }
   ],
   "source": [
    "a = np.array([[0, 1, 2],\n",
    "              [1, 2, 3]]) \n",
    "\n",
    "mat1 = sp.Matrix(a)\n",
    "\n",
    "print(f'a行列:\\n\\n{a}\\n')\n",
    "display(mat1)\n",
    "\n",
    "\n",
    "b = np.array([[0, 1, 2],\n",
    "              [2, 3, 4]]) \n",
    "\n",
    "mat2 = sp.Matrix(b)\n",
    "\n",
    "print(f'\\nbの行列:\\n\\n{b}\\n')\n",
    "display(mat2)\n",
    "\n",
    "# 行列積\n",
    "print(f'\\naを転置:\\n\\n{a.T}\\n')\n",
    "display(mat1.T)\n",
    "\n",
    "mat3 = mat1.T * mat2\n",
    "\n",
    "print(f'\\nabの行列積\\n\\n{a.T.dot(b)}\\n')\n",
    "display(mat3)\n"
   ]
  },
  {
   "cell_type": "code",
   "execution_count": null,
   "metadata": {},
   "outputs": [],
   "source": []
  }
 ],
 "metadata": {
  "kernelspec": {
   "display_name": "Python 3",
   "language": "python",
   "name": "python3"
  },
  "language_info": {
   "codemirror_mode": {
    "name": "ipython",
    "version": 3
   },
   "file_extension": ".py",
   "mimetype": "text/x-python",
   "name": "python",
   "nbconvert_exporter": "python",
   "pygments_lexer": "ipython3",
   "version": "3.8.8"
  }
 },
 "nbformat": 4,
 "nbformat_minor": 4
}
