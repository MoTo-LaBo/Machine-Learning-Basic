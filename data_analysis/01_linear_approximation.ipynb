{
 "cells": [
  {
   "cell_type": "markdown",
   "id": "b8c3aa79-008f-48de-8878-ba894f12131e",
   "metadata": {},
   "source": [
    "# 01. 回帰直線(線形近似)"
   ]
  },
  {
   "cell_type": "markdown",
   "id": "a9cafe7a-6ff5-44ae-8511-9c3c999dfa9a",
   "metadata": {},
   "source": [
    "01. <u>**実験データの回帰直線**</u>\n",
    "\n",
    "    - `状況　:　大腸菌などの新たな殺菌装置として紫外線ランプの開発を行なっている`\n",
    "    \n",
    "        - **データ分析の目的**\n",
    "            - *紫外線ランプに投入する電力量に応じて大腸菌の殺菌効率がどのように変化するかを調べる*\n",
    "        \n",
    "        - **保有している実験データ**\n",
    "            - *紫外線ランプを10-180[w]まで変化させ、60[s]間紫外線を照射した時の大腸菌の生存率*\n"
   ]
  },
  {
   "cell_type": "code",
   "execution_count": 1,
   "id": "4b788c68-ed86-4fc0-96d9-8437244c3b5d",
   "metadata": {},
   "outputs": [],
   "source": [
    "import numpy as np\n",
    "import pandas as pd\n",
    "import scipy as sp\n",
    "import matplotlib.pyplot as plt\n",
    "%matplotlib inline"
   ]
  },
  {
   "cell_type": "code",
   "execution_count": 2,
   "id": "85cf9ba1-aaf7-4dd6-a602-582265168977",
   "metadata": {},
   "outputs": [],
   "source": [
    "plt.style.use('ggplot')"
   ]
  },
  {
   "cell_type": "code",
   "execution_count": 3,
   "id": "d8d253c4-c37d-4564-b3ab-1aa9f56601ff",
   "metadata": {},
   "outputs": [
    {
     "data": {
      "text/html": [
       "<div>\n",
       "<style scoped>\n",
       "    .dataframe tbody tr th:only-of-type {\n",
       "        vertical-align: middle;\n",
       "    }\n",
       "\n",
       "    .dataframe tbody tr th {\n",
       "        vertical-align: top;\n",
       "    }\n",
       "\n",
       "    .dataframe thead th {\n",
       "        text-align: right;\n",
       "    }\n",
       "</style>\n",
       "<table border=\"1\" class=\"dataframe\">\n",
       "  <thead>\n",
       "    <tr style=\"text-align: right;\">\n",
       "      <th></th>\n",
       "      <th>Number</th>\n",
       "    </tr>\n",
       "    <tr>\n",
       "      <th>Time[s]</th>\n",
       "      <th></th>\n",
       "    </tr>\n",
       "  </thead>\n",
       "  <tbody>\n",
       "    <tr>\n",
       "      <th>0</th>\n",
       "      <td>98433.561371</td>\n",
       "    </tr>\n",
       "    <tr>\n",
       "      <th>10</th>\n",
       "      <td>94203.487920</td>\n",
       "    </tr>\n",
       "    <tr>\n",
       "      <th>20</th>\n",
       "      <td>91517.336375</td>\n",
       "    </tr>\n",
       "    <tr>\n",
       "      <th>30</th>\n",
       "      <td>86539.457397</td>\n",
       "    </tr>\n",
       "    <tr>\n",
       "      <th>40</th>\n",
       "      <td>81777.430583</td>\n",
       "    </tr>\n",
       "  </tbody>\n",
       "</table>\n",
       "</div>"
      ],
      "text/plain": [
       "               Number\n",
       "Time[s]              \n",
       "0        98433.561371\n",
       "10       94203.487920\n",
       "20       91517.336375\n",
       "30       86539.457397\n",
       "40       81777.430583"
      ]
     },
     "execution_count": 3,
     "metadata": {},
     "output_type": "execute_result"
    }
   ],
   "source": [
    "df = pd.read_excel('./resources/linear_approximation.xlsx', header=6, index_col=0, sheet_name='Sheet1')\n",
    "df.head()"
   ]
  },
  {
   "cell_type": "code",
   "execution_count": 4,
   "id": "14532ab6-ec04-4128-9092-4b9ae10b3376",
   "metadata": {},
   "outputs": [],
   "source": [
    "watt_arr = np.array([0, 10, 20, 40, 60, 80])\n",
    "df_all = pd.DataFrame()\n",
    "for i in range(1, 6):\n",
    "    df = pd.read_excel('./resources/linear_approximation.xlsx', header=6, index_col=0, sheet_name='Sheet'+str(i))\n",
    "    df['W'] = watt_arr[i]\n",
    "    df_all = pd.concat([df_all, df])"
   ]
  },
  {
   "cell_type": "code",
   "execution_count": 5,
   "id": "90432c54-d9f8-4332-a25c-ed9bbbabd8e3",
   "metadata": {},
   "outputs": [
    {
     "data": {
      "text/html": [
       "<div>\n",
       "<style scoped>\n",
       "    .dataframe tbody tr th:only-of-type {\n",
       "        vertical-align: middle;\n",
       "    }\n",
       "\n",
       "    .dataframe tbody tr th {\n",
       "        vertical-align: top;\n",
       "    }\n",
       "\n",
       "    .dataframe thead th {\n",
       "        text-align: right;\n",
       "    }\n",
       "</style>\n",
       "<table border=\"1\" class=\"dataframe\">\n",
       "  <thead>\n",
       "    <tr style=\"text-align: right;\">\n",
       "      <th></th>\n",
       "      <th>Number</th>\n",
       "      <th>W</th>\n",
       "    </tr>\n",
       "    <tr>\n",
       "      <th>Time[s]</th>\n",
       "      <th></th>\n",
       "      <th></th>\n",
       "    </tr>\n",
       "  </thead>\n",
       "  <tbody>\n",
       "    <tr>\n",
       "      <th>0</th>\n",
       "      <td>98433.561371</td>\n",
       "      <td>10</td>\n",
       "    </tr>\n",
       "    <tr>\n",
       "      <th>10</th>\n",
       "      <td>94203.487920</td>\n",
       "      <td>10</td>\n",
       "    </tr>\n",
       "    <tr>\n",
       "      <th>20</th>\n",
       "      <td>91517.336375</td>\n",
       "      <td>10</td>\n",
       "    </tr>\n",
       "    <tr>\n",
       "      <th>30</th>\n",
       "      <td>86539.457397</td>\n",
       "      <td>10</td>\n",
       "    </tr>\n",
       "    <tr>\n",
       "      <th>40</th>\n",
       "      <td>81777.430583</td>\n",
       "      <td>10</td>\n",
       "    </tr>\n",
       "    <tr>\n",
       "      <th>50</th>\n",
       "      <td>76858.586685</td>\n",
       "      <td>10</td>\n",
       "    </tr>\n",
       "    <tr>\n",
       "      <th>60</th>\n",
       "      <td>73447.031317</td>\n",
       "      <td>10</td>\n",
       "    </tr>\n",
       "    <tr>\n",
       "      <th>0</th>\n",
       "      <td>99029.902000</td>\n",
       "      <td>20</td>\n",
       "    </tr>\n",
       "    <tr>\n",
       "      <th>10</th>\n",
       "      <td>91712.170320</td>\n",
       "      <td>20</td>\n",
       "    </tr>\n",
       "    <tr>\n",
       "      <th>20</th>\n",
       "      <td>86593.658500</td>\n",
       "      <td>20</td>\n",
       "    </tr>\n",
       "    <tr>\n",
       "      <th>30</th>\n",
       "      <td>78543.853600</td>\n",
       "      <td>20</td>\n",
       "    </tr>\n",
       "    <tr>\n",
       "      <th>40</th>\n",
       "      <td>74147.414000</td>\n",
       "      <td>20</td>\n",
       "    </tr>\n",
       "    <tr>\n",
       "      <th>50</th>\n",
       "      <td>67316.731000</td>\n",
       "      <td>20</td>\n",
       "    </tr>\n",
       "    <tr>\n",
       "      <th>60</th>\n",
       "      <td>58785.878000</td>\n",
       "      <td>20</td>\n",
       "    </tr>\n",
       "    <tr>\n",
       "      <th>0</th>\n",
       "      <td>99256.645965</td>\n",
       "      <td>40</td>\n",
       "    </tr>\n",
       "    <tr>\n",
       "      <th>10</th>\n",
       "      <td>90079.602170</td>\n",
       "      <td>40</td>\n",
       "    </tr>\n",
       "    <tr>\n",
       "      <th>20</th>\n",
       "      <td>80138.408516</td>\n",
       "      <td>40</td>\n",
       "    </tr>\n",
       "    <tr>\n",
       "      <th>30</th>\n",
       "      <td>73927.710702</td>\n",
       "      <td>40</td>\n",
       "    </tr>\n",
       "    <tr>\n",
       "      <th>40</th>\n",
       "      <td>64151.212934</td>\n",
       "      <td>40</td>\n",
       "    </tr>\n",
       "    <tr>\n",
       "      <th>50</th>\n",
       "      <td>52875.745986</td>\n",
       "      <td>40</td>\n",
       "    </tr>\n",
       "    <tr>\n",
       "      <th>60</th>\n",
       "      <td>40932.548634</td>\n",
       "      <td>40</td>\n",
       "    </tr>\n",
       "    <tr>\n",
       "      <th>0</th>\n",
       "      <td>99909.250536</td>\n",
       "      <td>60</td>\n",
       "    </tr>\n",
       "    <tr>\n",
       "      <th>10</th>\n",
       "      <td>86909.250536</td>\n",
       "      <td>60</td>\n",
       "    </tr>\n",
       "    <tr>\n",
       "      <th>20</th>\n",
       "      <td>73709.250536</td>\n",
       "      <td>60</td>\n",
       "    </tr>\n",
       "    <tr>\n",
       "      <th>30</th>\n",
       "      <td>60209.250536</td>\n",
       "      <td>60</td>\n",
       "    </tr>\n",
       "    <tr>\n",
       "      <th>40</th>\n",
       "      <td>46909.250536</td>\n",
       "      <td>60</td>\n",
       "    </tr>\n",
       "    <tr>\n",
       "      <th>50</th>\n",
       "      <td>33509.250536</td>\n",
       "      <td>60</td>\n",
       "    </tr>\n",
       "    <tr>\n",
       "      <th>60</th>\n",
       "      <td>20509.250536</td>\n",
       "      <td>60</td>\n",
       "    </tr>\n",
       "    <tr>\n",
       "      <th>0</th>\n",
       "      <td>100259.250536</td>\n",
       "      <td>80</td>\n",
       "    </tr>\n",
       "    <tr>\n",
       "      <th>10</th>\n",
       "      <td>89592.962119</td>\n",
       "      <td>80</td>\n",
       "    </tr>\n",
       "    <tr>\n",
       "      <th>20</th>\n",
       "      <td>76998.207791</td>\n",
       "      <td>80</td>\n",
       "    </tr>\n",
       "    <tr>\n",
       "      <th>30</th>\n",
       "      <td>61671.653256</td>\n",
       "      <td>80</td>\n",
       "    </tr>\n",
       "    <tr>\n",
       "      <th>40</th>\n",
       "      <td>44993.276522</td>\n",
       "      <td>80</td>\n",
       "    </tr>\n",
       "    <tr>\n",
       "      <th>50</th>\n",
       "      <td>28732.547644</td>\n",
       "      <td>80</td>\n",
       "    </tr>\n",
       "    <tr>\n",
       "      <th>60</th>\n",
       "      <td>10744.778936</td>\n",
       "      <td>80</td>\n",
       "    </tr>\n",
       "  </tbody>\n",
       "</table>\n",
       "</div>"
      ],
      "text/plain": [
       "                Number   W\n",
       "Time[s]                   \n",
       "0         98433.561371  10\n",
       "10        94203.487920  10\n",
       "20        91517.336375  10\n",
       "30        86539.457397  10\n",
       "40        81777.430583  10\n",
       "50        76858.586685  10\n",
       "60        73447.031317  10\n",
       "0         99029.902000  20\n",
       "10        91712.170320  20\n",
       "20        86593.658500  20\n",
       "30        78543.853600  20\n",
       "40        74147.414000  20\n",
       "50        67316.731000  20\n",
       "60        58785.878000  20\n",
       "0         99256.645965  40\n",
       "10        90079.602170  40\n",
       "20        80138.408516  40\n",
       "30        73927.710702  40\n",
       "40        64151.212934  40\n",
       "50        52875.745986  40\n",
       "60        40932.548634  40\n",
       "0         99909.250536  60\n",
       "10        86909.250536  60\n",
       "20        73709.250536  60\n",
       "30        60209.250536  60\n",
       "40        46909.250536  60\n",
       "50        33509.250536  60\n",
       "60        20509.250536  60\n",
       "0        100259.250536  80\n",
       "10        89592.962119  80\n",
       "20        76998.207791  80\n",
       "30        61671.653256  80\n",
       "40        44993.276522  80\n",
       "50        28732.547644  80\n",
       "60        10744.778936  80"
      ]
     },
     "execution_count": 5,
     "metadata": {},
     "output_type": "execute_result"
    }
   ],
   "source": [
    "df_all"
   ]
  },
  {
   "cell_type": "code",
   "execution_count": 6,
   "id": "67ecc5c8-998f-4385-b509-c25434631d37",
   "metadata": {},
   "outputs": [
    {
     "data": {
      "text/html": [
       "<div>\n",
       "<style scoped>\n",
       "    .dataframe tbody tr th:only-of-type {\n",
       "        vertical-align: middle;\n",
       "    }\n",
       "\n",
       "    .dataframe tbody tr th {\n",
       "        vertical-align: top;\n",
       "    }\n",
       "\n",
       "    .dataframe thead th {\n",
       "        text-align: right;\n",
       "    }\n",
       "</style>\n",
       "<table border=\"1\" class=\"dataframe\">\n",
       "  <thead>\n",
       "    <tr style=\"text-align: right;\">\n",
       "      <th></th>\n",
       "      <th>Number</th>\n",
       "      <th>W</th>\n",
       "    </tr>\n",
       "    <tr>\n",
       "      <th>Time[s]</th>\n",
       "      <th></th>\n",
       "      <th></th>\n",
       "    </tr>\n",
       "  </thead>\n",
       "  <tbody>\n",
       "    <tr>\n",
       "      <th>0</th>\n",
       "      <td>98433.561371</td>\n",
       "      <td>10</td>\n",
       "    </tr>\n",
       "    <tr>\n",
       "      <th>10</th>\n",
       "      <td>94203.487920</td>\n",
       "      <td>10</td>\n",
       "    </tr>\n",
       "    <tr>\n",
       "      <th>20</th>\n",
       "      <td>91517.336375</td>\n",
       "      <td>10</td>\n",
       "    </tr>\n",
       "    <tr>\n",
       "      <th>30</th>\n",
       "      <td>86539.457397</td>\n",
       "      <td>10</td>\n",
       "    </tr>\n",
       "    <tr>\n",
       "      <th>40</th>\n",
       "      <td>81777.430583</td>\n",
       "      <td>10</td>\n",
       "    </tr>\n",
       "    <tr>\n",
       "      <th>50</th>\n",
       "      <td>76858.586685</td>\n",
       "      <td>10</td>\n",
       "    </tr>\n",
       "    <tr>\n",
       "      <th>60</th>\n",
       "      <td>73447.031317</td>\n",
       "      <td>10</td>\n",
       "    </tr>\n",
       "  </tbody>\n",
       "</table>\n",
       "</div>"
      ],
      "text/plain": [
       "               Number   W\n",
       "Time[s]                  \n",
       "0        98433.561371  10\n",
       "10       94203.487920  10\n",
       "20       91517.336375  10\n",
       "30       86539.457397  10\n",
       "40       81777.430583  10\n",
       "50       76858.586685  10\n",
       "60       73447.031317  10"
      ]
     },
     "execution_count": 6,
     "metadata": {},
     "output_type": "execute_result"
    }
   ],
   "source": [
    "# groupby で分析を行う\n",
    "groups = df_all.groupby('W')\n",
    "df_10W = groups.get_group(10)\n",
    "df_10W"
   ]
  },
  {
   "cell_type": "code",
   "execution_count": 7,
   "id": "c44daf8c-5695-48bc-8f70-8ea38eb88000",
   "metadata": {},
   "outputs": [
    {
     "data": {
      "text/plain": [
       "<matplotlib.collections.PathCollection at 0x7fc3e24b5f10>"
      ]
     },
     "execution_count": 7,
     "metadata": {},
     "output_type": "execute_result"
    },
    {
     "data": {
      "image/png": "[encoded data removed]",
      "text/plain": [
       "<Figure size 432x288 with 1 Axes>"
      ]
     },
     "metadata": {},
     "output_type": "display_data"
    }
   ],
   "source": [
    "plt.scatter(df_10W.index, df_10W['Number'])"
   ]
  },
  {
   "cell_type": "markdown",
   "id": "577e7b22-6a84-458d-85b1-7e1e97230c63",
   "metadata": {},
   "source": [
    "- **時間と共に大腸菌の数が減ってきている事がわかる**"
   ]
  },
  {
   "cell_type": "code",
   "execution_count": 20,
   "id": "16bd2293-1a07-4dd6-9975-8896e7884473",
   "metadata": {},
   "outputs": [
    {
     "data": {
      "text/plain": [
       "<matplotlib.legend.Legend at 0x7fc3dfcf96d0>"
      ]
     },
     "execution_count": 20,
     "metadata": {},
     "output_type": "execute_result"
    },
    {
     "data": {
      "image/png": "[encoded data removed]",
      "text/plain": [
       "<Figure size 432x288 with 1 Axes>"
      ]
     },
     "metadata": {},
     "output_type": "display_data"
    }
   ],
   "source": [
    "for name, group in groups:\n",
    "    plt.scatter(group.index, group['Number'], label=name)\n",
    "plt.legend(bbox_to_anchor=(1.25,1.0))"
   ]
  },
  {
   "cell_type": "markdown",
   "id": "8e79926d-de10-4d44-a103-90e2d11849da",
   "metadata": {},
   "source": [
    "- **W(ワット)数が大きくなるにつれて傾きが急襲になるのが見て取れる**"
   ]
  },
  {
   "cell_type": "markdown",
   "id": "66b889e8-25d0-4839-b8ba-05875cbe4319",
   "metadata": {},
   "source": [
    "### 線形近似"
   ]
  },
  {
   "cell_type": "code",
   "execution_count": 9,
   "id": "cc473db0-35fe-4d89-ad25-5c810ce41751",
   "metadata": {},
   "outputs": [
    {
     "data": {
      "text/plain": [
       "array([ -426.39035152, 98902.69506669])"
      ]
     },
     "execution_count": 9,
     "metadata": {},
     "output_type": "execute_result"
    }
   ],
   "source": [
    "param = np.polyfit(df_10W.index, df_10W['Number'], 1)\n",
    "param"
   ]
  },
  {
   "cell_type": "markdown",
   "id": "09cc37bc-fd61-40e0-af1b-92ee11173f45",
   "metadata": {},
   "source": [
    "- 下記の式のように近似する\n",
    "$$y=ax+b$$\n",
    "\n",
    "- **-426.39035152　=　1秒あたり殺菌されている大腸菌の数**\n"
   ]
  },
  {
   "cell_type": "code",
   "execution_count": 10,
   "id": "d1dbb7e1-6ce1-4798-a62e-699796555850",
   "metadata": {},
   "outputs": [
    {
     "name": "stdout",
     "output_type": "stream",
     "text": [
      "10 426.3903515160256\n",
      "20 649.8899826428569\n",
      "40 947.7399997936386\n",
      "60 1327.8571428571424\n",
      "80 1508.104196494783\n"
     ]
    }
   ],
   "source": [
    "# 傾きを受け取る list\n",
    "p_list = []                                               # 傾きを受け取るからの list\n",
    "p_list.append(0)                                          # 0W の時は傾き０であって欲しいので\n",
    "for name, group in groups:                                 \n",
    "    param = np.polyfit(group.index, group['Number'], 1)   # for文で W数あたりの傾きを取り出す\n",
    "    print(name, -param[0])                                # name = W : param = 1秒あたりの大腸菌殺菌数 ※ 殺菌効力ということで -　を打ち消す為につける\n",
    "    p_list.append(-param[0])                              # p_list に各W数の時の傾きを追加していく"
   ]
  },
  {
   "cell_type": "markdown",
   "id": "444021ec-6f12-43c6-8df4-8892fc4b0b57",
   "metadata": {},
   "source": [
    "- **各種 W数　の時の傾き　=　大腸菌殺菌効力/s**\n",
    "    - 10 426.3903515160256\n",
    "    \n",
    "    - 20 649.8899826428569\n",
    "    \n",
    "    - 40 947.7399997936386\n",
    "    \n",
    "    - 60 1327.8571428571424\n",
    "    \n",
    "    - 80 1508.104196494783"
   ]
  },
  {
   "cell_type": "code",
   "execution_count": 11,
   "id": "6faaaeca-b881-4b0e-9561-2ea80277c34e",
   "metadata": {},
   "outputs": [
    {
     "data": {
      "text/plain": [
       "[0,\n",
       " 426.3903515160256,\n",
       " 649.8899826428569,\n",
       " 947.7399997936386,\n",
       " 1327.8571428571424,\n",
       " 1508.104196494783]"
      ]
     },
     "execution_count": 11,
     "metadata": {},
     "output_type": "execute_result"
    }
   ],
   "source": [
    "# 傾きが入っているか確認\n",
    "p_list"
   ]
  },
  {
   "cell_type": "markdown",
   "id": "4dfb2f08-6861-44a6-875d-dbb1c20d3d5f",
   "metadata": {},
   "source": [
    "### 横軸 = W , 縦軸 = 殺菌効力/s\n",
    "- **どのような振る舞いを見せるのか確認をする**"
   ]
  },
  {
   "cell_type": "code",
   "execution_count": 12,
   "id": "d08ae841-e32d-4164-aad6-3fa327acc919",
   "metadata": {},
   "outputs": [
    {
     "data": {
      "text/plain": [
       "Text(0, 0.5, 'Efficiency')"
      ]
     },
     "execution_count": 12,
     "metadata": {},
     "output_type": "execute_result"
    },
    {
     "data": {
      "image/png": "[encoded data removed]",
      "text/plain": [
       "<Figure size 432x288 with 1 Axes>"
      ]
     },
     "metadata": {},
     "output_type": "display_data"
    }
   ],
   "source": [
    "plt.scatter(watt_arr, p_list)\n",
    "plt.xlabel('Input Power[W]')\n",
    "plt.ylabel('Efficiency')"
   ]
  },
  {
   "cell_type": "markdown",
   "id": "df9cf66e-f4e3-4357-b0e8-67c6c2fab062",
   "metadata": {},
   "source": [
    "- **よく見ると段々と線形からずれてきている様子が窺える**\n",
    "    - <u>効率が落ちて来ている...</u>\n",
    "\n",
    "\n",
    "### 線形を引いて重ねて確認をする"
   ]
  },
  {
   "cell_type": "code",
   "execution_count": 13,
   "id": "ef073dec-9894-43df-bf2d-29b2e6f4fadf",
   "metadata": {},
   "outputs": [
    {
     "data": {
      "text/plain": [
       "array([32.49449913, 33.81512006])"
      ]
     },
     "execution_count": 13,
     "metadata": {},
     "output_type": "execute_result"
    }
   ],
   "source": [
    "# 線形近似 / polyfit : watt_arr の２０Wまでを使用する(そこまでは線形が保たれているので、そのままの直線を引く)\n",
    "a = np.polyfit(watt_arr[:3], p_list[:3], 1)  # 線形の指定 / 1 = y=ax+b \n",
    "a"
   ]
  },
  {
   "cell_type": "markdown",
   "id": "ff3587c3-1edd-4109-86ae-a567bd65d090",
   "metadata": {},
   "source": [
    "### 求めた値を直線として plot"
   ]
  },
  {
   "cell_type": "code",
   "execution_count": 19,
   "id": "44fed2be-f04b-40ce-bea0-e98b8072933e",
   "metadata": {},
   "outputs": [
    {
     "data": {
      "text/plain": [
       "<matplotlib.legend.Legend at 0x7fc3dfd12ac0>"
      ]
     },
     "execution_count": 19,
     "metadata": {},
     "output_type": "execute_result"
    },
    {
     "data": {
      "image/png": "[encoded data removed]",
      "text/plain": [
       "<Figure size 432x288 with 1 Axes>"
      ]
     },
     "metadata": {},
     "output_type": "display_data"
    }
   ],
   "source": [
    "plt.scatter(watt_arr, p_list, label='Num')\n",
    "x = np.arange(0, 80, 1)\n",
    "plt.plot(x, a[0]* x, color='b', label='la')\n",
    "plt.legend(bbox_to_anchor=(1.25,1.0))"
   ]
  },
  {
   "cell_type": "markdown",
   "id": "e8e9b615-507c-4d10-b6ab-b963ff60c58f",
   "metadata": {},
   "source": [
    "- *20W付近までは線形が保たれて上手くいっているように見えたが...*\n",
    "    - <u>線形近似をして確認してみると新たな事実が見えてきた</u>\n",
    "\n",
    "\n",
    "- *紫外線ランプのような電力量を導入すると多くが熱量に散熱されてしまい **UV** にエネルギーが変換されない*\n",
    "    \n",
    "    - なので徐々に **殺菌効率が下がる**\n",
    "\n",
    "\n",
    "- <u>今後のデバイスの開発の方針としては、低電力な用途で使うようにするか？変換効率を上げて殺菌効率を高めていくか？</u>\n",
    "\n",
    "    - **分析によってとても具体的で生産的な改善策の糸口が見えてきた**"
   ]
  },
  {
   "cell_type": "code",
   "execution_count": null,
   "id": "80c319ca-5542-4455-bf31-97a7481343c5",
   "metadata": {},
   "outputs": [],
   "source": []
  }
 ],
 "metadata": {
  "kernelspec": {
   "display_name": "Python 3",
   "language": "python",
   "name": "python3"
  },
  "language_info": {
   "codemirror_mode": {
    "name": "ipython",
    "version": 3
   },
   "file_extension": ".py",
   "mimetype": "text/x-python",
   "name": "python",
   "nbconvert_exporter": "python",
   "pygments_lexer": "ipython3",
   "version": "3.8.8"
  }
 },
 "nbformat": 4,
 "nbformat_minor": 5
}
